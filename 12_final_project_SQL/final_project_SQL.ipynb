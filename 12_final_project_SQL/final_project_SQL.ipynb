{
 "cells": [
  {
   "cell_type": "markdown",
   "metadata": {},
   "source": [
    "# Анализ базы данных крупного сервиса для чтения книг по подписке"
   ]
  },
  {
   "cell_type": "markdown",
   "metadata": {},
   "source": [
    "**Цель исследования:**\n",
    "    \n",
    "Проанализировать базу данных крупного сервиса для чтения книг по подписке и сформулировать предложение, которое поможет улучшить новый продукт.   "
   ]
  },
  {
   "cell_type": "markdown",
   "metadata": {},
   "source": [
    "**Задачи исследования:**\n",
    "\n",
    "1) Посчитайть, сколько книг вышло после 1 января 2000 года;\n",
    "\n",
    "2) Для каждой книги посчитать количество обзоров и среднюю оценку;\n",
    "\n",
    "3) Определить издательство, которое выпустило наибольшее число книг толще\n",
    "   50 страниц — исключить из анализа брошюры;\n",
    "   \n",
    "4) Определить автора с самой высокой средней оценкой книг — учитывать\n",
    "   только книги с 50 и более оценками;\n",
    "   \n",
    "5) Посчитать среднее количество обзоров от пользователей, которые поставили\n",
    "   больше 48 оценок."
   ]
  },
  {
   "cell_type": "markdown",
   "metadata": {},
   "source": [
    "## Получение доступа к базе данных"
   ]
  },
  {
   "cell_type": "code",
   "execution_count": 1,
   "metadata": {},
   "outputs": [],
   "source": [
    "# импортируем библиотеки\n",
    "import pandas as pd\n",
    "from sqlalchemy import text, create_engine\n",
    "connection_string = 'postgresql://{user}:{pwd}@{host}:{port}/{db}'.format(**db_config)\n",
    "# сохраняем коннектор\n",
    "engine = create_engine(connection_string, connect_args={'sslmode':'require'})"
   ]
  },
  {
   "cell_type": "markdown",
   "metadata": {},
   "source": [
    "## Изучение общей информации по таблицам базы данных"
   ]
  },
  {
   "cell_type": "code",
   "execution_count": 2,
   "metadata": {},
   "outputs": [],
   "source": [
    "def table_df(table):\n",
    "    # выведем на экран первые пять строк таблицы \n",
    "    query = '''SELECT *\n",
    "    FROM {} \n",
    "    LIMIT 5;\n",
    "    '''.format(table)\n",
    "    con=engine.connect()\n",
    "    df = pd.io.sql.read_sql(sql=text(query), con = con)\n",
    "    display(df)"
   ]
  },
  {
   "cell_type": "code",
   "execution_count": 3,
   "metadata": {},
   "outputs": [
    {
     "name": "stdout",
     "output_type": "stream",
     "text": [
      "Первые 5 строк таблицы: books\n"
     ]
    },
    {
     "data": {
      "text/html": [
       "<div>\n",
       "<style scoped>\n",
       "    .dataframe tbody tr th:only-of-type {\n",
       "        vertical-align: middle;\n",
       "    }\n",
       "\n",
       "    .dataframe tbody tr th {\n",
       "        vertical-align: top;\n",
       "    }\n",
       "\n",
       "    .dataframe thead th {\n",
       "        text-align: right;\n",
       "    }\n",
       "</style>\n",
       "<table border=\"1\" class=\"dataframe\">\n",
       "  <thead>\n",
       "    <tr style=\"text-align: right;\">\n",
       "      <th></th>\n",
       "      <th>book_id</th>\n",
       "      <th>author_id</th>\n",
       "      <th>title</th>\n",
       "      <th>num_pages</th>\n",
       "      <th>publication_date</th>\n",
       "      <th>publisher_id</th>\n",
       "    </tr>\n",
       "  </thead>\n",
       "  <tbody>\n",
       "    <tr>\n",
       "      <th>0</th>\n",
       "      <td>1</td>\n",
       "      <td>546</td>\n",
       "      <td>'Salem's Lot</td>\n",
       "      <td>594</td>\n",
       "      <td>2005-11-01</td>\n",
       "      <td>93</td>\n",
       "    </tr>\n",
       "    <tr>\n",
       "      <th>1</th>\n",
       "      <td>2</td>\n",
       "      <td>465</td>\n",
       "      <td>1 000 Places to See Before You Die</td>\n",
       "      <td>992</td>\n",
       "      <td>2003-05-22</td>\n",
       "      <td>336</td>\n",
       "    </tr>\n",
       "    <tr>\n",
       "      <th>2</th>\n",
       "      <td>3</td>\n",
       "      <td>407</td>\n",
       "      <td>13 Little Blue Envelopes (Little Blue Envelope...</td>\n",
       "      <td>322</td>\n",
       "      <td>2010-12-21</td>\n",
       "      <td>135</td>\n",
       "    </tr>\n",
       "    <tr>\n",
       "      <th>3</th>\n",
       "      <td>4</td>\n",
       "      <td>82</td>\n",
       "      <td>1491: New Revelations of the Americas Before C...</td>\n",
       "      <td>541</td>\n",
       "      <td>2006-10-10</td>\n",
       "      <td>309</td>\n",
       "    </tr>\n",
       "    <tr>\n",
       "      <th>4</th>\n",
       "      <td>5</td>\n",
       "      <td>125</td>\n",
       "      <td>1776</td>\n",
       "      <td>386</td>\n",
       "      <td>2006-07-04</td>\n",
       "      <td>268</td>\n",
       "    </tr>\n",
       "  </tbody>\n",
       "</table>\n",
       "</div>"
      ],
      "text/plain": [
       "   book_id  author_id                                              title  \\\n",
       "0        1        546                                       'Salem's Lot   \n",
       "1        2        465                 1 000 Places to See Before You Die   \n",
       "2        3        407  13 Little Blue Envelopes (Little Blue Envelope...   \n",
       "3        4         82  1491: New Revelations of the Americas Before C...   \n",
       "4        5        125                                               1776   \n",
       "\n",
       "   num_pages publication_date  publisher_id  \n",
       "0        594       2005-11-01            93  \n",
       "1        992       2003-05-22           336  \n",
       "2        322       2010-12-21           135  \n",
       "3        541       2006-10-10           309  \n",
       "4        386       2006-07-04           268  "
      ]
     },
     "metadata": {},
     "output_type": "display_data"
    },
    {
     "name": "stdout",
     "output_type": "stream",
     "text": [
      "Первые 5 строк таблицы: authors\n"
     ]
    },
    {
     "data": {
      "text/html": [
       "<div>\n",
       "<style scoped>\n",
       "    .dataframe tbody tr th:only-of-type {\n",
       "        vertical-align: middle;\n",
       "    }\n",
       "\n",
       "    .dataframe tbody tr th {\n",
       "        vertical-align: top;\n",
       "    }\n",
       "\n",
       "    .dataframe thead th {\n",
       "        text-align: right;\n",
       "    }\n",
       "</style>\n",
       "<table border=\"1\" class=\"dataframe\">\n",
       "  <thead>\n",
       "    <tr style=\"text-align: right;\">\n",
       "      <th></th>\n",
       "      <th>author_id</th>\n",
       "      <th>author</th>\n",
       "    </tr>\n",
       "  </thead>\n",
       "  <tbody>\n",
       "    <tr>\n",
       "      <th>0</th>\n",
       "      <td>1</td>\n",
       "      <td>A.S. Byatt</td>\n",
       "    </tr>\n",
       "    <tr>\n",
       "      <th>1</th>\n",
       "      <td>2</td>\n",
       "      <td>Aesop/Laura Harris/Laura Gibbs</td>\n",
       "    </tr>\n",
       "    <tr>\n",
       "      <th>2</th>\n",
       "      <td>3</td>\n",
       "      <td>Agatha Christie</td>\n",
       "    </tr>\n",
       "    <tr>\n",
       "      <th>3</th>\n",
       "      <td>4</td>\n",
       "      <td>Alan Brennert</td>\n",
       "    </tr>\n",
       "    <tr>\n",
       "      <th>4</th>\n",
       "      <td>5</td>\n",
       "      <td>Alan Moore/David   Lloyd</td>\n",
       "    </tr>\n",
       "  </tbody>\n",
       "</table>\n",
       "</div>"
      ],
      "text/plain": [
       "   author_id                          author\n",
       "0          1                      A.S. Byatt\n",
       "1          2  Aesop/Laura Harris/Laura Gibbs\n",
       "2          3                 Agatha Christie\n",
       "3          4                   Alan Brennert\n",
       "4          5        Alan Moore/David   Lloyd"
      ]
     },
     "metadata": {},
     "output_type": "display_data"
    },
    {
     "name": "stdout",
     "output_type": "stream",
     "text": [
      "Первые 5 строк таблицы: publishers\n"
     ]
    },
    {
     "data": {
      "text/html": [
       "<div>\n",
       "<style scoped>\n",
       "    .dataframe tbody tr th:only-of-type {\n",
       "        vertical-align: middle;\n",
       "    }\n",
       "\n",
       "    .dataframe tbody tr th {\n",
       "        vertical-align: top;\n",
       "    }\n",
       "\n",
       "    .dataframe thead th {\n",
       "        text-align: right;\n",
       "    }\n",
       "</style>\n",
       "<table border=\"1\" class=\"dataframe\">\n",
       "  <thead>\n",
       "    <tr style=\"text-align: right;\">\n",
       "      <th></th>\n",
       "      <th>publisher_id</th>\n",
       "      <th>publisher</th>\n",
       "    </tr>\n",
       "  </thead>\n",
       "  <tbody>\n",
       "    <tr>\n",
       "      <th>0</th>\n",
       "      <td>1</td>\n",
       "      <td>Ace</td>\n",
       "    </tr>\n",
       "    <tr>\n",
       "      <th>1</th>\n",
       "      <td>2</td>\n",
       "      <td>Ace Book</td>\n",
       "    </tr>\n",
       "    <tr>\n",
       "      <th>2</th>\n",
       "      <td>3</td>\n",
       "      <td>Ace Books</td>\n",
       "    </tr>\n",
       "    <tr>\n",
       "      <th>3</th>\n",
       "      <td>4</td>\n",
       "      <td>Ace Hardcover</td>\n",
       "    </tr>\n",
       "    <tr>\n",
       "      <th>4</th>\n",
       "      <td>5</td>\n",
       "      <td>Addison Wesley Publishing Company</td>\n",
       "    </tr>\n",
       "  </tbody>\n",
       "</table>\n",
       "</div>"
      ],
      "text/plain": [
       "   publisher_id                          publisher\n",
       "0             1                                Ace\n",
       "1             2                           Ace Book\n",
       "2             3                          Ace Books\n",
       "3             4                      Ace Hardcover\n",
       "4             5  Addison Wesley Publishing Company"
      ]
     },
     "metadata": {},
     "output_type": "display_data"
    },
    {
     "name": "stdout",
     "output_type": "stream",
     "text": [
      "Первые 5 строк таблицы: ratings\n"
     ]
    },
    {
     "data": {
      "text/html": [
       "<div>\n",
       "<style scoped>\n",
       "    .dataframe tbody tr th:only-of-type {\n",
       "        vertical-align: middle;\n",
       "    }\n",
       "\n",
       "    .dataframe tbody tr th {\n",
       "        vertical-align: top;\n",
       "    }\n",
       "\n",
       "    .dataframe thead th {\n",
       "        text-align: right;\n",
       "    }\n",
       "</style>\n",
       "<table border=\"1\" class=\"dataframe\">\n",
       "  <thead>\n",
       "    <tr style=\"text-align: right;\">\n",
       "      <th></th>\n",
       "      <th>rating_id</th>\n",
       "      <th>book_id</th>\n",
       "      <th>username</th>\n",
       "      <th>rating</th>\n",
       "    </tr>\n",
       "  </thead>\n",
       "  <tbody>\n",
       "    <tr>\n",
       "      <th>0</th>\n",
       "      <td>1</td>\n",
       "      <td>1</td>\n",
       "      <td>ryanfranco</td>\n",
       "      <td>4</td>\n",
       "    </tr>\n",
       "    <tr>\n",
       "      <th>1</th>\n",
       "      <td>2</td>\n",
       "      <td>1</td>\n",
       "      <td>grantpatricia</td>\n",
       "      <td>2</td>\n",
       "    </tr>\n",
       "    <tr>\n",
       "      <th>2</th>\n",
       "      <td>3</td>\n",
       "      <td>1</td>\n",
       "      <td>brandtandrea</td>\n",
       "      <td>5</td>\n",
       "    </tr>\n",
       "    <tr>\n",
       "      <th>3</th>\n",
       "      <td>4</td>\n",
       "      <td>2</td>\n",
       "      <td>lorichen</td>\n",
       "      <td>3</td>\n",
       "    </tr>\n",
       "    <tr>\n",
       "      <th>4</th>\n",
       "      <td>5</td>\n",
       "      <td>2</td>\n",
       "      <td>mariokeller</td>\n",
       "      <td>2</td>\n",
       "    </tr>\n",
       "  </tbody>\n",
       "</table>\n",
       "</div>"
      ],
      "text/plain": [
       "   rating_id  book_id       username  rating\n",
       "0          1        1     ryanfranco       4\n",
       "1          2        1  grantpatricia       2\n",
       "2          3        1   brandtandrea       5\n",
       "3          4        2       lorichen       3\n",
       "4          5        2    mariokeller       2"
      ]
     },
     "metadata": {},
     "output_type": "display_data"
    },
    {
     "name": "stdout",
     "output_type": "stream",
     "text": [
      "Первые 5 строк таблицы: reviews\n"
     ]
    },
    {
     "data": {
      "text/html": [
       "<div>\n",
       "<style scoped>\n",
       "    .dataframe tbody tr th:only-of-type {\n",
       "        vertical-align: middle;\n",
       "    }\n",
       "\n",
       "    .dataframe tbody tr th {\n",
       "        vertical-align: top;\n",
       "    }\n",
       "\n",
       "    .dataframe thead th {\n",
       "        text-align: right;\n",
       "    }\n",
       "</style>\n",
       "<table border=\"1\" class=\"dataframe\">\n",
       "  <thead>\n",
       "    <tr style=\"text-align: right;\">\n",
       "      <th></th>\n",
       "      <th>review_id</th>\n",
       "      <th>book_id</th>\n",
       "      <th>username</th>\n",
       "      <th>text</th>\n",
       "    </tr>\n",
       "  </thead>\n",
       "  <tbody>\n",
       "    <tr>\n",
       "      <th>0</th>\n",
       "      <td>1</td>\n",
       "      <td>1</td>\n",
       "      <td>brandtandrea</td>\n",
       "      <td>Mention society tell send professor analysis. ...</td>\n",
       "    </tr>\n",
       "    <tr>\n",
       "      <th>1</th>\n",
       "      <td>2</td>\n",
       "      <td>1</td>\n",
       "      <td>ryanfranco</td>\n",
       "      <td>Foot glass pretty audience hit themselves. Amo...</td>\n",
       "    </tr>\n",
       "    <tr>\n",
       "      <th>2</th>\n",
       "      <td>3</td>\n",
       "      <td>2</td>\n",
       "      <td>lorichen</td>\n",
       "      <td>Listen treat keep worry. Miss husband tax but ...</td>\n",
       "    </tr>\n",
       "    <tr>\n",
       "      <th>3</th>\n",
       "      <td>4</td>\n",
       "      <td>3</td>\n",
       "      <td>johnsonamanda</td>\n",
       "      <td>Finally month interesting blue could nature cu...</td>\n",
       "    </tr>\n",
       "    <tr>\n",
       "      <th>4</th>\n",
       "      <td>5</td>\n",
       "      <td>3</td>\n",
       "      <td>scotttamara</td>\n",
       "      <td>Nation purpose heavy give wait song will. List...</td>\n",
       "    </tr>\n",
       "  </tbody>\n",
       "</table>\n",
       "</div>"
      ],
      "text/plain": [
       "   review_id  book_id       username  \\\n",
       "0          1        1   brandtandrea   \n",
       "1          2        1     ryanfranco   \n",
       "2          3        2       lorichen   \n",
       "3          4        3  johnsonamanda   \n",
       "4          5        3    scotttamara   \n",
       "\n",
       "                                                text  \n",
       "0  Mention society tell send professor analysis. ...  \n",
       "1  Foot glass pretty audience hit themselves. Amo...  \n",
       "2  Listen treat keep worry. Miss husband tax but ...  \n",
       "3  Finally month interesting blue could nature cu...  \n",
       "4  Nation purpose heavy give wait song will. List...  "
      ]
     },
     "metadata": {},
     "output_type": "display_data"
    }
   ],
   "source": [
    "for t in ['books', 'authors', 'publishers', 'ratings', 'reviews']:\n",
    "    print('Первые 5 строк таблицы:', t)\n",
    "    table_df(t)"
   ]
  },
  {
   "cell_type": "code",
   "execution_count": 4,
   "metadata": {},
   "outputs": [],
   "source": [
    "def table_info(table):\n",
    "    # выведем на экран количество строк в таблице\n",
    "    query = '''SELECT COUNT(*)\n",
    "    FROM {};\n",
    "    '''.format(table)\n",
    "    con=engine.connect()\n",
    "    df = pd.io.sql.read_sql(sql=text(query), con = con)\n",
    "    display(df)"
   ]
  },
  {
   "cell_type": "code",
   "execution_count": 5,
   "metadata": {},
   "outputs": [
    {
     "name": "stdout",
     "output_type": "stream",
     "text": [
      "Количество строк в таблице: books\n"
     ]
    },
    {
     "data": {
      "text/html": [
       "<div>\n",
       "<style scoped>\n",
       "    .dataframe tbody tr th:only-of-type {\n",
       "        vertical-align: middle;\n",
       "    }\n",
       "\n",
       "    .dataframe tbody tr th {\n",
       "        vertical-align: top;\n",
       "    }\n",
       "\n",
       "    .dataframe thead th {\n",
       "        text-align: right;\n",
       "    }\n",
       "</style>\n",
       "<table border=\"1\" class=\"dataframe\">\n",
       "  <thead>\n",
       "    <tr style=\"text-align: right;\">\n",
       "      <th></th>\n",
       "      <th>count</th>\n",
       "    </tr>\n",
       "  </thead>\n",
       "  <tbody>\n",
       "    <tr>\n",
       "      <th>0</th>\n",
       "      <td>1000</td>\n",
       "    </tr>\n",
       "  </tbody>\n",
       "</table>\n",
       "</div>"
      ],
      "text/plain": [
       "   count\n",
       "0   1000"
      ]
     },
     "metadata": {},
     "output_type": "display_data"
    },
    {
     "name": "stdout",
     "output_type": "stream",
     "text": [
      "Количество строк в таблице: authors\n"
     ]
    },
    {
     "data": {
      "text/html": [
       "<div>\n",
       "<style scoped>\n",
       "    .dataframe tbody tr th:only-of-type {\n",
       "        vertical-align: middle;\n",
       "    }\n",
       "\n",
       "    .dataframe tbody tr th {\n",
       "        vertical-align: top;\n",
       "    }\n",
       "\n",
       "    .dataframe thead th {\n",
       "        text-align: right;\n",
       "    }\n",
       "</style>\n",
       "<table border=\"1\" class=\"dataframe\">\n",
       "  <thead>\n",
       "    <tr style=\"text-align: right;\">\n",
       "      <th></th>\n",
       "      <th>count</th>\n",
       "    </tr>\n",
       "  </thead>\n",
       "  <tbody>\n",
       "    <tr>\n",
       "      <th>0</th>\n",
       "      <td>636</td>\n",
       "    </tr>\n",
       "  </tbody>\n",
       "</table>\n",
       "</div>"
      ],
      "text/plain": [
       "   count\n",
       "0    636"
      ]
     },
     "metadata": {},
     "output_type": "display_data"
    },
    {
     "name": "stdout",
     "output_type": "stream",
     "text": [
      "Количество строк в таблице: publishers\n"
     ]
    },
    {
     "data": {
      "text/html": [
       "<div>\n",
       "<style scoped>\n",
       "    .dataframe tbody tr th:only-of-type {\n",
       "        vertical-align: middle;\n",
       "    }\n",
       "\n",
       "    .dataframe tbody tr th {\n",
       "        vertical-align: top;\n",
       "    }\n",
       "\n",
       "    .dataframe thead th {\n",
       "        text-align: right;\n",
       "    }\n",
       "</style>\n",
       "<table border=\"1\" class=\"dataframe\">\n",
       "  <thead>\n",
       "    <tr style=\"text-align: right;\">\n",
       "      <th></th>\n",
       "      <th>count</th>\n",
       "    </tr>\n",
       "  </thead>\n",
       "  <tbody>\n",
       "    <tr>\n",
       "      <th>0</th>\n",
       "      <td>340</td>\n",
       "    </tr>\n",
       "  </tbody>\n",
       "</table>\n",
       "</div>"
      ],
      "text/plain": [
       "   count\n",
       "0    340"
      ]
     },
     "metadata": {},
     "output_type": "display_data"
    },
    {
     "name": "stdout",
     "output_type": "stream",
     "text": [
      "Количество строк в таблице: ratings\n"
     ]
    },
    {
     "data": {
      "text/html": [
       "<div>\n",
       "<style scoped>\n",
       "    .dataframe tbody tr th:only-of-type {\n",
       "        vertical-align: middle;\n",
       "    }\n",
       "\n",
       "    .dataframe tbody tr th {\n",
       "        vertical-align: top;\n",
       "    }\n",
       "\n",
       "    .dataframe thead th {\n",
       "        text-align: right;\n",
       "    }\n",
       "</style>\n",
       "<table border=\"1\" class=\"dataframe\">\n",
       "  <thead>\n",
       "    <tr style=\"text-align: right;\">\n",
       "      <th></th>\n",
       "      <th>count</th>\n",
       "    </tr>\n",
       "  </thead>\n",
       "  <tbody>\n",
       "    <tr>\n",
       "      <th>0</th>\n",
       "      <td>6456</td>\n",
       "    </tr>\n",
       "  </tbody>\n",
       "</table>\n",
       "</div>"
      ],
      "text/plain": [
       "   count\n",
       "0   6456"
      ]
     },
     "metadata": {},
     "output_type": "display_data"
    },
    {
     "name": "stdout",
     "output_type": "stream",
     "text": [
      "Количество строк в таблице: reviews\n"
     ]
    },
    {
     "data": {
      "text/html": [
       "<div>\n",
       "<style scoped>\n",
       "    .dataframe tbody tr th:only-of-type {\n",
       "        vertical-align: middle;\n",
       "    }\n",
       "\n",
       "    .dataframe tbody tr th {\n",
       "        vertical-align: top;\n",
       "    }\n",
       "\n",
       "    .dataframe thead th {\n",
       "        text-align: right;\n",
       "    }\n",
       "</style>\n",
       "<table border=\"1\" class=\"dataframe\">\n",
       "  <thead>\n",
       "    <tr style=\"text-align: right;\">\n",
       "      <th></th>\n",
       "      <th>count</th>\n",
       "    </tr>\n",
       "  </thead>\n",
       "  <tbody>\n",
       "    <tr>\n",
       "      <th>0</th>\n",
       "      <td>2793</td>\n",
       "    </tr>\n",
       "  </tbody>\n",
       "</table>\n",
       "</div>"
      ],
      "text/plain": [
       "   count\n",
       "0   2793"
      ]
     },
     "metadata": {},
     "output_type": "display_data"
    }
   ],
   "source": [
    "for t in ['books', 'authors', 'publishers', 'ratings', 'reviews']:\n",
    "    print('Количество строк в таблице:', t)\n",
    "    table_info(t)"
   ]
  },
  {
   "cell_type": "markdown",
   "metadata": {},
   "source": [
    " **Выводы по п.2:**\n",
    "\n",
    " В таблице books - 1000 строк и 6 столбцов, в которых содержится информация об идентификаторе книги, идентификаторе автора, название книги, количество страниц книги, дата публикации книги и идентификатор издателя.\n",
    " \n",
    " В таблице authors - 636 строк и 2 столбца, в которых содержится информация об идентификаторе автора и имя автора.\n",
    " \n",
    " В таблице publishers - 340 строк и 2 столбца, в которых содержится информация об идентификаторе издательства и название издательства.\n",
    " \n",
    " В таблице ratings - 6456 строк и 4 столбца, в которых содержится информация об идентификаторе оценки, идентификаторе книги, имя пользователя, оставившего оценку, оценка книги.\n",
    " \n",
    " В таблице reviews - 2793 строки  4 столбца, в которых содержится информация об идентификаторе обзора, идентификаторе книги, имя пользователя, написавшего обзор, текст обзора."
   ]
  },
  {
   "cell_type": "markdown",
   "metadata": {},
   "source": [
    "## Расчет количества книг, которые вышли после 1 января 2000 года"
   ]
  },
  {
   "cell_type": "code",
   "execution_count": 6,
   "metadata": {},
   "outputs": [
    {
     "data": {
      "text/html": [
       "<div>\n",
       "<style scoped>\n",
       "    .dataframe tbody tr th:only-of-type {\n",
       "        vertical-align: middle;\n",
       "    }\n",
       "\n",
       "    .dataframe tbody tr th {\n",
       "        vertical-align: top;\n",
       "    }\n",
       "\n",
       "    .dataframe thead th {\n",
       "        text-align: right;\n",
       "    }\n",
       "</style>\n",
       "<table border=\"1\" class=\"dataframe\">\n",
       "  <thead>\n",
       "    <tr style=\"text-align: right;\">\n",
       "      <th></th>\n",
       "      <th>count_books</th>\n",
       "    </tr>\n",
       "  </thead>\n",
       "  <tbody>\n",
       "    <tr>\n",
       "      <th>0</th>\n",
       "      <td>821</td>\n",
       "    </tr>\n",
       "  </tbody>\n",
       "</table>\n",
       "</div>"
      ],
      "text/plain": [
       "   count_books\n",
       "0          821"
      ]
     },
     "execution_count": 6,
     "metadata": {},
     "output_type": "execute_result"
    }
   ],
   "source": [
    "#посчитаем количество книг, которые вышли после 1 января 2000 года\n",
    "query = '''SELECT COUNT(book_id) AS count_books\n",
    "           FROM books\n",
    "           WHERE publication_date >= '2000-01-01'\n",
    "           '''\n",
    "con=engine.connect()\n",
    "pd.io.sql.read_sql(sql=text(query), con = con)"
   ]
  },
  {
   "cell_type": "markdown",
   "metadata": {},
   "source": [
    "**Выводы по п.3:**\n",
    "    \n",
    "821 книга вышла после 1 января 2000 года. Дату 1 января 2000 года включили, так как нелогично выкидывать из расчета за 2000 год и далее один день. "
   ]
  },
  {
   "cell_type": "markdown",
   "metadata": {},
   "source": [
    "## Расчет количества обзоров и средней оценки для каждой книги"
   ]
  },
  {
   "cell_type": "code",
   "execution_count": 7,
   "metadata": {},
   "outputs": [
    {
     "data": {
      "text/html": [
       "<div>\n",
       "<style scoped>\n",
       "    .dataframe tbody tr th:only-of-type {\n",
       "        vertical-align: middle;\n",
       "    }\n",
       "\n",
       "    .dataframe tbody tr th {\n",
       "        vertical-align: top;\n",
       "    }\n",
       "\n",
       "    .dataframe thead th {\n",
       "        text-align: right;\n",
       "    }\n",
       "</style>\n",
       "<table border=\"1\" class=\"dataframe\">\n",
       "  <thead>\n",
       "    <tr style=\"text-align: right;\">\n",
       "      <th></th>\n",
       "      <th>count</th>\n",
       "    </tr>\n",
       "  </thead>\n",
       "  <tbody>\n",
       "    <tr>\n",
       "      <th>0</th>\n",
       "      <td>2793</td>\n",
       "    </tr>\n",
       "  </tbody>\n",
       "</table>\n",
       "</div>"
      ],
      "text/plain": [
       "   count\n",
       "0   2793"
      ]
     },
     "execution_count": 7,
     "metadata": {},
     "output_type": "execute_result"
    }
   ],
   "source": [
    "#посчитаем общее количество обзоров в базе данных\n",
    "query = '''SELECT COUNT(review_id)\n",
    "           FROM reviews           \n",
    "           '''\n",
    "con=engine.connect()\n",
    "pd.io.sql.read_sql(sql=text(query), con = con)"
   ]
  },
  {
   "cell_type": "markdown",
   "metadata": {},
   "source": [
    "Общее количество обзоров в базе данных - 2793."
   ]
  },
  {
   "cell_type": "code",
   "execution_count": 8,
   "metadata": {},
   "outputs": [
    {
     "data": {
      "text/html": [
       "<div>\n",
       "<style scoped>\n",
       "    .dataframe tbody tr th:only-of-type {\n",
       "        vertical-align: middle;\n",
       "    }\n",
       "\n",
       "    .dataframe tbody tr th {\n",
       "        vertical-align: top;\n",
       "    }\n",
       "\n",
       "    .dataframe thead th {\n",
       "        text-align: right;\n",
       "    }\n",
       "</style>\n",
       "<table border=\"1\" class=\"dataframe\">\n",
       "  <thead>\n",
       "    <tr style=\"text-align: right;\">\n",
       "      <th></th>\n",
       "      <th>book_id</th>\n",
       "      <th>title</th>\n",
       "      <th>count_review</th>\n",
       "      <th>avg_rating</th>\n",
       "    </tr>\n",
       "  </thead>\n",
       "  <tbody>\n",
       "    <tr>\n",
       "      <th>0</th>\n",
       "      <td>948</td>\n",
       "      <td>Twilight (Twilight  #1)</td>\n",
       "      <td>7</td>\n",
       "      <td>4.0</td>\n",
       "    </tr>\n",
       "    <tr>\n",
       "      <th>1</th>\n",
       "      <td>963</td>\n",
       "      <td>Water for Elephants</td>\n",
       "      <td>6</td>\n",
       "      <td>4.0</td>\n",
       "    </tr>\n",
       "    <tr>\n",
       "      <th>2</th>\n",
       "      <td>734</td>\n",
       "      <td>The Glass Castle</td>\n",
       "      <td>6</td>\n",
       "      <td>4.0</td>\n",
       "    </tr>\n",
       "    <tr>\n",
       "      <th>3</th>\n",
       "      <td>302</td>\n",
       "      <td>Harry Potter and the Prisoner of Azkaban (Harr...</td>\n",
       "      <td>6</td>\n",
       "      <td>4.0</td>\n",
       "    </tr>\n",
       "    <tr>\n",
       "      <th>4</th>\n",
       "      <td>695</td>\n",
       "      <td>The Curious Incident of the Dog in the Night-Time</td>\n",
       "      <td>6</td>\n",
       "      <td>4.0</td>\n",
       "    </tr>\n",
       "    <tr>\n",
       "      <th>...</th>\n",
       "      <td>...</td>\n",
       "      <td>...</td>\n",
       "      <td>...</td>\n",
       "      <td>...</td>\n",
       "    </tr>\n",
       "    <tr>\n",
       "      <th>995</th>\n",
       "      <td>83</td>\n",
       "      <td>Anne Rice's The Vampire Lestat: A Graphic Novel</td>\n",
       "      <td>0</td>\n",
       "      <td>4.0</td>\n",
       "    </tr>\n",
       "    <tr>\n",
       "      <th>996</th>\n",
       "      <td>808</td>\n",
       "      <td>The Natural Way to Draw</td>\n",
       "      <td>0</td>\n",
       "      <td>3.0</td>\n",
       "    </tr>\n",
       "    <tr>\n",
       "      <th>997</th>\n",
       "      <td>672</td>\n",
       "      <td>The Cat in the Hat and Other Dr. Seuss Favorites</td>\n",
       "      <td>0</td>\n",
       "      <td>5.0</td>\n",
       "    </tr>\n",
       "    <tr>\n",
       "      <th>998</th>\n",
       "      <td>221</td>\n",
       "      <td>Essential Tales and Poems</td>\n",
       "      <td>0</td>\n",
       "      <td>4.0</td>\n",
       "    </tr>\n",
       "    <tr>\n",
       "      <th>999</th>\n",
       "      <td>191</td>\n",
       "      <td>Disney's Beauty and the Beast (A Little Golden...</td>\n",
       "      <td>0</td>\n",
       "      <td>4.0</td>\n",
       "    </tr>\n",
       "  </tbody>\n",
       "</table>\n",
       "<p>1000 rows × 4 columns</p>\n",
       "</div>"
      ],
      "text/plain": [
       "     book_id                                              title  count_review  \\\n",
       "0        948                            Twilight (Twilight  #1)             7   \n",
       "1        963                                Water for Elephants             6   \n",
       "2        734                                   The Glass Castle             6   \n",
       "3        302  Harry Potter and the Prisoner of Azkaban (Harr...             6   \n",
       "4        695  The Curious Incident of the Dog in the Night-Time             6   \n",
       "..       ...                                                ...           ...   \n",
       "995       83    Anne Rice's The Vampire Lestat: A Graphic Novel             0   \n",
       "996      808                            The Natural Way to Draw             0   \n",
       "997      672   The Cat in the Hat and Other Dr. Seuss Favorites             0   \n",
       "998      221                          Essential Tales and Poems             0   \n",
       "999      191  Disney's Beauty and the Beast (A Little Golden...             0   \n",
       "\n",
       "     avg_rating  \n",
       "0           4.0  \n",
       "1           4.0  \n",
       "2           4.0  \n",
       "3           4.0  \n",
       "4           4.0  \n",
       "..          ...  \n",
       "995         4.0  \n",
       "996         3.0  \n",
       "997         5.0  \n",
       "998         4.0  \n",
       "999         4.0  \n",
       "\n",
       "[1000 rows x 4 columns]"
      ]
     },
     "execution_count": 8,
     "metadata": {},
     "output_type": "execute_result"
    }
   ],
   "source": [
    "#посчитаем количества обзоров и средней оценки для каждой книги\n",
    "query = '''SELECT b.book_id,\n",
    "           b.title,\n",
    "           COUNT(DISTINCT r.review_id) AS count_review,\n",
    "           ROUND(AVG(rat.rating)) AS avg_rating\n",
    "           FROM reviews AS r\n",
    "           RIGHT JOIN books AS b ON b.book_id=r.book_id      \n",
    "           LEFT JOIN ratings AS rat ON rat.book_id=b.book_id\n",
    "           GROUP BY  b.book_id\n",
    "           ORDER BY count_review DESC\n",
    "           '''\n",
    "con=engine.connect()\n",
    "pd.io.sql.read_sql(sql=text(query), con = con)"
   ]
  },
  {
   "cell_type": "markdown",
   "metadata": {},
   "source": [
    "**Выводы по п.4:**\n",
    "\n",
    "Книги, которые имеют самое большое количество обзоров - \"Twilight\", \"Water for Elephants\", \"The Glass Castle\", \"Harry Potter and the Prisoner of Azkaban\", \"The Curious Incident of the Dog in the Night-Time\t\". Каждая из них получила среднюю оценку пользователей: 4."
   ]
  },
  {
   "cell_type": "markdown",
   "metadata": {},
   "source": [
    "## Определение издательства, которое выпустило наибольшее число книг толще 50 страниц"
   ]
  },
  {
   "cell_type": "code",
   "execution_count": 9,
   "metadata": {},
   "outputs": [
    {
     "data": {
      "text/html": [
       "<div>\n",
       "<style scoped>\n",
       "    .dataframe tbody tr th:only-of-type {\n",
       "        vertical-align: middle;\n",
       "    }\n",
       "\n",
       "    .dataframe tbody tr th {\n",
       "        vertical-align: top;\n",
       "    }\n",
       "\n",
       "    .dataframe thead th {\n",
       "        text-align: right;\n",
       "    }\n",
       "</style>\n",
       "<table border=\"1\" class=\"dataframe\">\n",
       "  <thead>\n",
       "    <tr style=\"text-align: right;\">\n",
       "      <th></th>\n",
       "      <th>publisher</th>\n",
       "      <th>count_books</th>\n",
       "    </tr>\n",
       "  </thead>\n",
       "  <tbody>\n",
       "    <tr>\n",
       "      <th>0</th>\n",
       "      <td>Penguin Books</td>\n",
       "      <td>42</td>\n",
       "    </tr>\n",
       "  </tbody>\n",
       "</table>\n",
       "</div>"
      ],
      "text/plain": [
       "       publisher  count_books\n",
       "0  Penguin Books           42"
      ]
     },
     "execution_count": 9,
     "metadata": {},
     "output_type": "execute_result"
    }
   ],
   "source": [
    "#определим издательство, которое выпустило наибольшее число книг толще 50 страниц\n",
    "query = '''SELECT p.publisher,\n",
    "           COUNT(b.book_id) AS count_books\n",
    "           FROM publishers AS p\n",
    "           JOIN books AS b ON b.publisher_id =p.publisher_id \n",
    "           WHERE b.num_pages > 50\n",
    "           GROUP BY p.publisher\n",
    "           ORDER BY count_books DESC\n",
    "           LIMIT 1;\n",
    "           '''\n",
    "con=engine.connect()\n",
    "pd.io.sql.read_sql(sql=text(query), con = con)"
   ]
  },
  {
   "cell_type": "markdown",
   "metadata": {},
   "source": [
    "**Выводы по п.5:**\n",
    "    \n",
    "Издательство, которое выпустило наибольшее число книг больше 50 страниц - Penguin Books. Количество таких выпущенных книг у издательства - 42 шт. "
   ]
  },
  {
   "cell_type": "markdown",
   "metadata": {},
   "source": [
    "## Определение автора с самой высокой средней оценкой книг среди книг с 50 и более оценками"
   ]
  },
  {
   "cell_type": "code",
   "execution_count": 10,
   "metadata": {},
   "outputs": [
    {
     "data": {
      "text/html": [
       "<div>\n",
       "<style scoped>\n",
       "    .dataframe tbody tr th:only-of-type {\n",
       "        vertical-align: middle;\n",
       "    }\n",
       "\n",
       "    .dataframe tbody tr th {\n",
       "        vertical-align: top;\n",
       "    }\n",
       "\n",
       "    .dataframe thead th {\n",
       "        text-align: right;\n",
       "    }\n",
       "</style>\n",
       "<table border=\"1\" class=\"dataframe\">\n",
       "  <thead>\n",
       "    <tr style=\"text-align: right;\">\n",
       "      <th></th>\n",
       "      <th>author</th>\n",
       "      <th>avg_rating</th>\n",
       "    </tr>\n",
       "  </thead>\n",
       "  <tbody>\n",
       "    <tr>\n",
       "      <th>0</th>\n",
       "      <td>J.K. Rowling/Mary GrandPré</td>\n",
       "      <td>4.29</td>\n",
       "    </tr>\n",
       "  </tbody>\n",
       "</table>\n",
       "</div>"
      ],
      "text/plain": [
       "                       author  avg_rating\n",
       "0  J.K. Rowling/Mary GrandPré        4.29"
      ]
     },
     "execution_count": 10,
     "metadata": {},
     "output_type": "execute_result"
    }
   ],
   "source": [
    "#определим автора с самой высокой средней оценкой книг среди книг с 50 и более оценками\n",
    "query = '''SELECT a.author,\n",
    "           ROUND(AVG(r.rating), 2) AS avg_rating\n",
    "           FROM authors AS a\n",
    "           JOIN books AS b ON b.author_id =a.author_id \n",
    "           JOIN ratings AS r ON b.book_id  =r.book_id \n",
    "           WHERE b.book_id IN (SELECT b.book_id\n",
    "                               FROM books AS b\n",
    "                               JOIN ratings AS r ON b.book_id  =r.book_id \n",
    "                               GROUP BY b.book_id\n",
    "                               HAVING COUNT(r.rating) > 50)\n",
    "           GROUP BY a.author\n",
    "           ORDER BY avg_rating DESC\n",
    "           LIMIT 1\n",
    "           '''\n",
    "con=engine.connect()\n",
    "pd.io.sql.read_sql(sql=text(query), con = con)"
   ]
  },
  {
   "cell_type": "markdown",
   "metadata": {},
   "source": [
    "Автор с самой высокой средней оценкой книг среди книг с 50 и более оценками - J.K. Rowling/Mary GrandPré. Средний рейтинг его книг - 4.29."
   ]
  },
  {
   "cell_type": "markdown",
   "metadata": {},
   "source": [
    "## Среднее количество обзоров от пользователей, которые поставили более 48 оценок"
   ]
  },
  {
   "cell_type": "code",
   "execution_count": 11,
   "metadata": {},
   "outputs": [
    {
     "data": {
      "text/html": [
       "<div>\n",
       "<style scoped>\n",
       "    .dataframe tbody tr th:only-of-type {\n",
       "        vertical-align: middle;\n",
       "    }\n",
       "\n",
       "    .dataframe tbody tr th {\n",
       "        vertical-align: top;\n",
       "    }\n",
       "\n",
       "    .dataframe thead th {\n",
       "        text-align: right;\n",
       "    }\n",
       "</style>\n",
       "<table border=\"1\" class=\"dataframe\">\n",
       "  <thead>\n",
       "    <tr style=\"text-align: right;\">\n",
       "      <th></th>\n",
       "      <th>avg_count_review</th>\n",
       "    </tr>\n",
       "  </thead>\n",
       "  <tbody>\n",
       "    <tr>\n",
       "      <th>0</th>\n",
       "      <td>24.0</td>\n",
       "    </tr>\n",
       "  </tbody>\n",
       "</table>\n",
       "</div>"
      ],
      "text/plain": [
       "   avg_count_review\n",
       "0              24.0"
      ]
     },
     "execution_count": 11,
     "metadata": {},
     "output_type": "execute_result"
    }
   ],
   "source": [
    "#определим среднее количество обзоров от пользователей, которые поставили более 48 оценок\n",
    "query = '''SELECT AVG(r1.count_review) AS avg_count_review\n",
    "           FROM (SELECT r.username,\n",
    "                 COUNT(r.review_id ) AS count_review\n",
    "                 FROM reviews AS r\n",
    "                 WHERE r.username IN (SELECT rat.username\n",
    "                                    FROM ratings AS rat\n",
    "                                    GROUP BY rat.username\n",
    "                                    HAVING COUNT(rat.rating) > 48) \n",
    "                 GROUP BY r.username) AS r1                   \n",
    "        '''\n",
    "con=engine.connect()\n",
    "pd.io.sql.read_sql(sql=text(query), con = con)"
   ]
  },
  {
   "cell_type": "markdown",
   "metadata": {},
   "source": [
    "**Выводы по п.7:**\n",
    "\n",
    "Среднее количество обзоров от пользователей, которые поставили более 48 оценок, - 24.0."
   ]
  },
  {
   "cell_type": "markdown",
   "metadata": {},
   "source": [
    "## Общий вывод по проекту"
   ]
  },
  {
   "cell_type": "markdown",
   "metadata": {},
   "source": [
    "В работе над заданиями проекта использовалась база данных сервиса книг по подписке, в которой 5 таблиц.\n",
    "\n",
    "В **таблице book** - 1000 строк и 6 столбцов, в которых содержится информация об идентификаторе книги, идентификаторе автора, название книги, количество страниц книги, дата публикации книги и идентификатор издателя.\n",
    " \n",
    " В **таблице authors** - 636 строк и 2 столбца, в которых содержится информация об идентификаторе автора и имя автора.\n",
    " \n",
    " В **таблице publishers** - 340 строк и 2 столбца, в которых содержится информация об идентификаторе издательства и название издательства.\n",
    " \n",
    " В **таблице ratings** - 6456 строк и 4 столбца, в которых содержится информация об идентификаторе оценки, идентификаторе книги, имя пользователя, оставившего оценку, оценка книги.\n",
    " \n",
    " В **таблице reviews** - 2793 строки  4 столбца, в которых содержится информация об идентификаторе обзора, идентификаторе книги, имя пользователя, написавшего обзор, текст обзора.\n",
    " \n",
    "На основании выполненных исследований получили следующие выводы по базе данных:\n",
    " \n",
    " - 821 книга вышла после 1 января 2000 года. \n",
    "\n",
    " - Книги, которые имеют самое большое количество обзоров - \"Twilight\", \"Water for Elephants\", \"The Glass Castle\", \"Harry Potter and the Prisoner of Azkaban\", \"The Curious Incident of the Dog in the Night-Time\t\". Каждая из них получила среднюю оценку пользователей: 4.\n",
    "\n",
    " - Издательство, которое выпустило наибольшее число книг больше 50 страниц - Penguin Books. Количество таких выпущенных книг у издательства - 42 шт. \n",
    "\n",
    "- Автор с самой высокой средней оценкой книг среди книг с 50 и более оценками - J.K. Rowling/Mary GrandPré. Средний рейтинг его книг - 4.29.\n",
    "\n",
    "- Среднее количество обзоров от пользователей, которые поставили более 48 оценок, - 24.0."
   ]
  }
 ],
 "metadata": {
  "ExecuteTimeLog": [
   {
    "duration": 158,
    "start_time": "2023-09-12T11:00:26.845Z"
   },
   {
    "duration": 318,
    "start_time": "2023-09-12T11:00:43.412Z"
   },
   {
    "duration": 3,
    "start_time": "2023-09-12T11:01:00.088Z"
   },
   {
    "duration": 17936,
    "start_time": "2023-09-12T11:01:25.040Z"
   },
   {
    "duration": 106,
    "start_time": "2023-09-12T11:02:13.497Z"
   },
   {
    "duration": 30,
    "start_time": "2023-09-12T11:02:25.425Z"
   },
   {
    "duration": 14,
    "start_time": "2023-09-12T11:02:34.635Z"
   },
   {
    "duration": 13,
    "start_time": "2023-09-12T11:02:53.778Z"
   },
   {
    "duration": 31,
    "start_time": "2023-09-12T11:03:02.834Z"
   },
   {
    "duration": 182,
    "start_time": "2023-09-12T11:03:09.963Z"
   },
   {
    "duration": 13,
    "start_time": "2023-09-12T11:03:20.778Z"
   },
   {
    "duration": 12,
    "start_time": "2023-09-12T11:03:29.418Z"
   },
   {
    "duration": 89,
    "start_time": "2023-09-12T11:03:37.179Z"
   },
   {
    "duration": 13,
    "start_time": "2023-09-12T11:03:49.898Z"
   },
   {
    "duration": 11,
    "start_time": "2023-09-12T11:03:57.698Z"
   },
   {
    "duration": 189,
    "start_time": "2023-09-12T11:04:06.738Z"
   },
   {
    "duration": 14,
    "start_time": "2023-09-12T11:04:17.042Z"
   },
   {
    "duration": 12,
    "start_time": "2023-09-12T11:04:25.366Z"
   },
   {
    "duration": 17,
    "start_time": "2023-09-12T11:05:42.813Z"
   },
   {
    "duration": 237,
    "start_time": "2023-09-12T11:05:51.309Z"
   },
   {
    "duration": 34,
    "start_time": "2023-09-12T11:06:35.630Z"
   },
   {
    "duration": 32,
    "start_time": "2023-09-12T11:06:43.111Z"
   },
   {
    "duration": 39,
    "start_time": "2023-09-12T11:07:02.823Z"
   },
   {
    "duration": 33,
    "start_time": "2023-09-12T11:07:26.679Z"
   },
   {
    "duration": 17,
    "start_time": "2023-09-12T11:08:46.177Z"
   },
   {
    "duration": 117,
    "start_time": "2023-09-12T11:10:08.003Z"
   },
   {
    "duration": 22,
    "start_time": "2023-09-12T11:10:12.269Z"
   },
   {
    "duration": 47,
    "start_time": "2023-09-12T11:10:22.117Z"
   },
   {
    "duration": 29,
    "start_time": "2023-09-12T11:22:39.882Z"
   },
   {
    "duration": 25,
    "start_time": "2023-09-12T11:26:37.733Z"
   },
   {
    "duration": 33,
    "start_time": "2023-09-12T11:26:43.374Z"
   },
   {
    "duration": 57,
    "start_time": "2023-09-12T11:27:41.487Z"
   },
   {
    "duration": 60,
    "start_time": "2023-09-12T11:27:52.830Z"
   },
   {
    "duration": 69,
    "start_time": "2023-09-12T11:27:56.726Z"
   },
   {
    "duration": 26,
    "start_time": "2023-09-12T11:30:13.472Z"
   },
   {
    "duration": 22,
    "start_time": "2023-09-12T11:32:20.595Z"
   },
   {
    "duration": 24,
    "start_time": "2023-09-12T11:33:11.068Z"
   },
   {
    "duration": 22,
    "start_time": "2023-09-12T11:33:20.574Z"
   },
   {
    "duration": 24,
    "start_time": "2023-09-12T11:33:37.342Z"
   },
   {
    "duration": 23,
    "start_time": "2023-09-12T11:33:56.384Z"
   },
   {
    "duration": 50,
    "start_time": "2023-09-12T11:35:34.389Z"
   },
   {
    "duration": 24,
    "start_time": "2023-09-12T11:38:22.944Z"
   },
   {
    "duration": 22,
    "start_time": "2023-09-12T11:38:27.127Z"
   },
   {
    "duration": 18,
    "start_time": "2023-09-12T11:42:32.227Z"
   },
   {
    "duration": 17,
    "start_time": "2023-09-12T11:42:42.373Z"
   },
   {
    "duration": 393,
    "start_time": "2023-09-12T11:53:59.325Z"
   },
   {
    "duration": 32,
    "start_time": "2023-09-12T11:54:18.983Z"
   },
   {
    "duration": 27,
    "start_time": "2023-09-12T11:55:00.823Z"
   },
   {
    "duration": 27,
    "start_time": "2023-09-12T11:55:14.262Z"
   },
   {
    "duration": 25,
    "start_time": "2023-09-12T11:55:40.007Z"
   },
   {
    "duration": 24,
    "start_time": "2023-09-12T11:59:19.906Z"
   },
   {
    "duration": 24,
    "start_time": "2023-09-12T11:59:31.580Z"
   },
   {
    "duration": 26,
    "start_time": "2023-09-12T11:59:41.706Z"
   },
   {
    "duration": 26,
    "start_time": "2023-09-12T11:59:47.818Z"
   },
   {
    "duration": 56,
    "start_time": "2023-09-12T12:00:09.411Z"
   },
   {
    "duration": 24,
    "start_time": "2023-09-12T12:01:12.403Z"
   },
   {
    "duration": 32,
    "start_time": "2023-09-12T12:01:28.006Z"
   },
   {
    "duration": 3,
    "start_time": "2023-09-12T12:06:07.882Z"
   },
   {
    "duration": 49,
    "start_time": "2023-09-12T12:07:16.592Z"
   },
   {
    "duration": 10,
    "start_time": "2023-09-12T12:08:31.796Z"
   },
   {
    "duration": 4,
    "start_time": "2023-09-12T12:08:34.914Z"
   },
   {
    "duration": 47,
    "start_time": "2023-09-12T12:08:35.810Z"
   },
   {
    "duration": 55,
    "start_time": "2023-09-12T12:09:53.852Z"
   },
   {
    "duration": 4,
    "start_time": "2023-09-12T12:10:34.215Z"
   },
   {
    "duration": 55,
    "start_time": "2023-09-12T12:11:44.328Z"
   },
   {
    "duration": 5,
    "start_time": "2023-09-12T12:11:51.022Z"
   },
   {
    "duration": 50,
    "start_time": "2023-09-12T12:11:53.351Z"
   },
   {
    "duration": 19,
    "start_time": "2023-09-12T12:15:47.085Z"
   },
   {
    "duration": 14,
    "start_time": "2023-09-12T12:19:12.412Z"
   },
   {
    "duration": 24,
    "start_time": "2023-09-12T12:27:41.183Z"
   },
   {
    "duration": 18,
    "start_time": "2023-09-12T12:28:24.684Z"
   },
   {
    "duration": 49,
    "start_time": "2023-09-12T12:28:35.434Z"
   },
   {
    "duration": 19,
    "start_time": "2023-09-12T12:30:52.028Z"
   },
   {
    "duration": 144,
    "start_time": "2023-09-12T14:00:45.060Z"
   },
   {
    "duration": 19,
    "start_time": "2023-09-12T14:02:10.904Z"
   },
   {
    "duration": 25,
    "start_time": "2023-09-12T14:07:38.594Z"
   },
   {
    "duration": 23,
    "start_time": "2023-09-12T14:11:51.317Z"
   },
   {
    "duration": 23,
    "start_time": "2023-09-12T14:12:26.734Z"
   },
   {
    "duration": 64,
    "start_time": "2023-09-12T14:13:36.503Z"
   },
   {
    "duration": 44,
    "start_time": "2023-09-12T14:13:46.886Z"
   },
   {
    "duration": 32,
    "start_time": "2023-09-12T14:15:11.336Z"
   },
   {
    "duration": 16,
    "start_time": "2023-09-12T14:15:15.159Z"
   },
   {
    "duration": 26,
    "start_time": "2023-09-12T14:17:10.865Z"
   },
   {
    "duration": 28,
    "start_time": "2023-09-12T14:18:51.364Z"
   },
   {
    "duration": 22,
    "start_time": "2023-09-12T14:19:03.428Z"
   },
   {
    "duration": 22,
    "start_time": "2023-09-12T14:19:09.875Z"
   },
   {
    "duration": 24,
    "start_time": "2023-09-12T14:19:15.219Z"
   },
   {
    "duration": 59,
    "start_time": "2023-09-12T14:19:26.989Z"
   },
   {
    "duration": 56,
    "start_time": "2023-09-12T14:20:40.749Z"
   },
   {
    "duration": 11428,
    "start_time": "2023-09-12T14:22:30.065Z"
   },
   {
    "duration": 4,
    "start_time": "2023-09-12T14:22:41.495Z"
   },
   {
    "duration": 92,
    "start_time": "2023-09-12T14:22:41.501Z"
   },
   {
    "duration": 3,
    "start_time": "2023-09-12T14:22:41.595Z"
   },
   {
    "duration": 69,
    "start_time": "2023-09-12T14:22:41.601Z"
   },
   {
    "duration": 12,
    "start_time": "2023-09-12T14:22:41.671Z"
   },
   {
    "duration": 44,
    "start_time": "2023-09-12T14:22:41.685Z"
   },
   {
    "duration": 13,
    "start_time": "2023-09-12T14:22:41.731Z"
   },
   {
    "duration": 32,
    "start_time": "2023-09-12T14:22:41.746Z"
   },
   {
    "duration": 22,
    "start_time": "2023-09-12T14:22:41.779Z"
   },
   {
    "duration": 4,
    "start_time": "2023-09-12T14:22:57.033Z"
   },
   {
    "duration": 12304,
    "start_time": "2023-09-12T14:23:03.551Z"
   },
   {
    "duration": 4,
    "start_time": "2023-09-12T14:23:15.857Z"
   },
   {
    "duration": 105,
    "start_time": "2023-09-12T14:23:15.862Z"
   },
   {
    "duration": 4,
    "start_time": "2023-09-12T14:23:15.969Z"
   },
   {
    "duration": 74,
    "start_time": "2023-09-12T14:23:15.975Z"
   },
   {
    "duration": 10,
    "start_time": "2023-09-12T14:23:16.051Z"
   },
   {
    "duration": 70,
    "start_time": "2023-09-12T14:23:16.063Z"
   },
   {
    "duration": 13,
    "start_time": "2023-09-12T14:23:16.135Z"
   },
   {
    "duration": 18,
    "start_time": "2023-09-12T14:23:16.150Z"
   },
   {
    "duration": 14,
    "start_time": "2023-09-12T14:23:16.170Z"
   },
   {
    "duration": 92,
    "start_time": "2023-09-12T14:24:52.313Z"
   },
   {
    "duration": 10,
    "start_time": "2023-09-12T14:24:55.177Z"
   },
   {
    "duration": 11754,
    "start_time": "2023-09-12T14:27:33.083Z"
   },
   {
    "duration": 4,
    "start_time": "2023-09-12T14:27:44.840Z"
   },
   {
    "duration": 116,
    "start_time": "2023-09-12T14:27:44.846Z"
   },
   {
    "duration": 6,
    "start_time": "2023-09-12T14:27:44.965Z"
   },
   {
    "duration": 46,
    "start_time": "2023-09-12T14:27:44.973Z"
   },
   {
    "duration": 10,
    "start_time": "2023-09-12T14:27:45.021Z"
   },
   {
    "duration": 317,
    "start_time": "2023-09-12T14:27:45.055Z"
   },
   {
    "duration": 14,
    "start_time": "2023-09-12T14:27:45.373Z"
   },
   {
    "duration": 77,
    "start_time": "2023-09-12T14:27:45.389Z"
   },
   {
    "duration": 35,
    "start_time": "2023-09-12T14:27:45.468Z"
   },
   {
    "duration": 10121,
    "start_time": "2023-09-12T23:41:23.527Z"
   },
   {
    "duration": 3,
    "start_time": "2023-09-12T23:41:33.650Z"
   },
   {
    "duration": 427,
    "start_time": "2023-09-12T23:41:33.654Z"
   },
   {
    "duration": 3,
    "start_time": "2023-09-12T23:41:34.083Z"
   },
   {
    "duration": 241,
    "start_time": "2023-09-12T23:41:34.088Z"
   },
   {
    "duration": 39,
    "start_time": "2023-09-12T23:41:34.330Z"
   },
   {
    "duration": 175,
    "start_time": "2023-09-12T23:41:34.371Z"
   },
   {
    "duration": 52,
    "start_time": "2023-09-12T23:41:34.548Z"
   },
   {
    "duration": 57,
    "start_time": "2023-09-12T23:41:34.601Z"
   },
   {
    "duration": 58,
    "start_time": "2023-09-12T23:41:34.661Z"
   },
   {
    "duration": 54,
    "start_time": "2023-09-13T10:35:47.195Z"
   },
   {
    "duration": 13145,
    "start_time": "2023-09-13T10:35:53.302Z"
   },
   {
    "duration": 4,
    "start_time": "2023-09-13T10:36:06.449Z"
   },
   {
    "duration": 561,
    "start_time": "2023-09-13T10:36:06.454Z"
   },
   {
    "duration": 3,
    "start_time": "2023-09-13T10:36:07.017Z"
   },
   {
    "duration": 271,
    "start_time": "2023-09-13T10:36:07.022Z"
   },
   {
    "duration": 45,
    "start_time": "2023-09-13T10:36:07.295Z"
   },
   {
    "duration": 176,
    "start_time": "2023-09-13T10:36:07.342Z"
   },
   {
    "duration": 56,
    "start_time": "2023-09-13T10:36:07.520Z"
   },
   {
    "duration": 61,
    "start_time": "2023-09-13T10:36:07.578Z"
   },
   {
    "duration": 56,
    "start_time": "2023-09-13T10:36:07.642Z"
   },
   {
    "duration": 92,
    "start_time": "2023-09-13T10:36:57.903Z"
   },
   {
    "duration": 153,
    "start_time": "2023-09-13T10:39:57.579Z"
   },
   {
    "duration": 65,
    "start_time": "2023-09-13T10:40:36.259Z"
   },
   {
    "duration": 144,
    "start_time": "2023-09-13T10:41:13.140Z"
   },
   {
    "duration": 145,
    "start_time": "2023-09-13T10:43:20.253Z"
   },
   {
    "duration": 191,
    "start_time": "2023-09-13T10:44:13.405Z"
   },
   {
    "duration": 65,
    "start_time": "2023-09-13T10:44:31.957Z"
   },
   {
    "duration": 63,
    "start_time": "2023-09-13T10:44:53.054Z"
   },
   {
    "duration": 65,
    "start_time": "2023-09-13T10:44:59.831Z"
   },
   {
    "duration": 142,
    "start_time": "2023-09-13T10:51:23.976Z"
   },
   {
    "duration": 139,
    "start_time": "2023-09-13T10:53:31.736Z"
   },
   {
    "duration": 184,
    "start_time": "2023-09-13T10:55:23.730Z"
   },
   {
    "duration": 103,
    "start_time": "2023-09-13T10:56:15.822Z"
   },
   {
    "duration": 95,
    "start_time": "2023-09-13T10:56:32.693Z"
   },
   {
    "duration": 122,
    "start_time": "2023-09-13T10:58:19.428Z"
   },
   {
    "duration": 95,
    "start_time": "2023-09-13T10:59:20.006Z"
   },
   {
    "duration": 95,
    "start_time": "2023-09-13T10:59:30.189Z"
   },
   {
    "duration": 124,
    "start_time": "2023-09-13T11:05:01.496Z"
   },
   {
    "duration": 19305,
    "start_time": "2023-09-13T11:08:16.381Z"
   },
   {
    "duration": 4,
    "start_time": "2023-09-13T11:08:35.688Z"
   },
   {
    "duration": 523,
    "start_time": "2023-09-13T11:08:35.693Z"
   },
   {
    "duration": 4,
    "start_time": "2023-09-13T11:08:36.218Z"
   },
   {
    "duration": 298,
    "start_time": "2023-09-13T11:08:36.223Z"
   },
   {
    "duration": 43,
    "start_time": "2023-09-13T11:08:36.523Z"
   },
   {
    "duration": 169,
    "start_time": "2023-09-13T11:08:36.568Z"
   },
   {
    "duration": 95,
    "start_time": "2023-09-13T11:08:36.739Z"
   },
   {
    "duration": 58,
    "start_time": "2023-09-13T11:08:36.836Z"
   },
   {
    "duration": 105,
    "start_time": "2023-09-13T11:08:36.896Z"
   },
   {
    "duration": 59,
    "start_time": "2023-09-13T11:08:37.003Z"
   },
   {
    "duration": 18108,
    "start_time": "2023-09-13T11:17:01.555Z"
   },
   {
    "duration": 3,
    "start_time": "2023-09-13T11:17:19.666Z"
   },
   {
    "duration": 491,
    "start_time": "2023-09-13T11:17:19.671Z"
   },
   {
    "duration": 4,
    "start_time": "2023-09-13T11:17:20.165Z"
   },
   {
    "duration": 268,
    "start_time": "2023-09-13T11:17:20.170Z"
   },
   {
    "duration": 43,
    "start_time": "2023-09-13T11:17:20.440Z"
   },
   {
    "duration": 150,
    "start_time": "2023-09-13T11:17:20.486Z"
   },
   {
    "duration": 94,
    "start_time": "2023-09-13T11:17:20.638Z"
   },
   {
    "duration": 54,
    "start_time": "2023-09-13T11:17:20.734Z"
   },
   {
    "duration": 59,
    "start_time": "2023-09-13T11:17:20.791Z"
   },
   {
    "duration": 56,
    "start_time": "2023-09-13T11:17:20.851Z"
   },
   {
    "duration": 14571,
    "start_time": "2023-09-13T11:17:24.982Z"
   },
   {
    "duration": 4,
    "start_time": "2023-09-13T11:17:39.555Z"
   },
   {
    "duration": 486,
    "start_time": "2023-09-13T11:17:39.560Z"
   },
   {
    "duration": 3,
    "start_time": "2023-09-13T11:17:40.048Z"
   },
   {
    "duration": 281,
    "start_time": "2023-09-13T11:17:40.054Z"
   },
   {
    "duration": 42,
    "start_time": "2023-09-13T11:17:40.336Z"
   },
   {
    "duration": 142,
    "start_time": "2023-09-13T11:17:40.380Z"
   },
   {
    "duration": 95,
    "start_time": "2023-09-13T11:17:40.523Z"
   },
   {
    "duration": 56,
    "start_time": "2023-09-13T11:17:40.620Z"
   },
   {
    "duration": 59,
    "start_time": "2023-09-13T11:17:40.677Z"
   },
   {
    "duration": 56,
    "start_time": "2023-09-13T11:17:40.738Z"
   }
  ],
  "kernelspec": {
   "display_name": "Python 3 (ipykernel)",
   "language": "python",
   "name": "python3"
  },
  "language_info": {
   "codemirror_mode": {
    "name": "ipython",
    "version": 3
   },
   "file_extension": ".py",
   "mimetype": "text/x-python",
   "name": "python",
   "nbconvert_exporter": "python",
   "pygments_lexer": "ipython3",
   "version": "3.9.12"
  },
  "toc": {
   "base_numbering": 1,
   "nav_menu": {},
   "number_sections": true,
   "sideBar": true,
   "skip_h1_title": true,
   "title_cell": "Table of Contents",
   "title_sidebar": "Contents",
   "toc_cell": false,
   "toc_position": {},
   "toc_section_display": true,
   "toc_window_display": true
  }
 },
 "nbformat": 4,
 "nbformat_minor": 2
}
