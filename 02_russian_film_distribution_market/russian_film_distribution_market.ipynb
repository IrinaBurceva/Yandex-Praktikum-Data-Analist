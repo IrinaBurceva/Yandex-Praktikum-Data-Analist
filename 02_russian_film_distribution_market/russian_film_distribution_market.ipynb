{
 "cells": [
  {
   "cell_type": "markdown",
   "metadata": {},
   "source": [
    "# Исследование рынка российского кинопроката"
   ]
  },
  {
   "cell_type": "markdown",
   "metadata": {},
   "source": [
    "**Задачи проекта:**\n",
    "    \n",
    "    Используя данные государственного портала и сервиса “КиноПоиск”, провести исследование рынка российского кинопроката, изучить текущие тренды и визуализировать полученные результаты."
   ]
  },
  {
   "cell_type": "markdown",
   "metadata": {},
   "source": [
    "**Описание проекта:**\n",
    "    \n",
    "Заказчик этого исследования — Министерство культуры Российской Федерации.\n",
    "Нужно изучить рынок российского кинопроката и выявить текущие тренды. Исследовать фильмы, которые получили государственную поддержку. Выяснить, насколько такие фильмы интересны зрителю.\n",
    "\n",
    "Набор данных содержит информацию о прокатных удостоверениях, сборах и государственной поддержке фильмов, а также информацию с сайта КиноПоиск."
   ]
  },
  {
   "cell_type": "markdown",
   "metadata": {},
   "source": [
    "**План работы:**\n",
    "    \n",
    "    1. Загрузка файлов с данными и объединение их в один датафрейм\n",
    "    2. Предобработка данных:\n",
    "        - проверка типов данных;\n",
    "        - изучение пропусков в датафрейме\n",
    "        - изучение дубликатов в датафрейме\n",
    "        - изучение категориальных значений\n",
    "        - проверка количественных значений\n",
    "        - добавление новых столбцов\n",
    "    3. Исследовательский анализ данных\n",
    "    4. Исследование фильмы, которые получили государственную поддержку\n",
    "    5. Общий вывод по исследованию"
   ]
  },
  {
   "cell_type": "markdown",
   "metadata": {
    "id": "3bSlkCsbgFyL"
   },
   "source": [
    "## Загрузка файлов с данными и объединение их в один датафрейм\n"
   ]
  },
  {
   "cell_type": "code",
   "execution_count": 1,
   "metadata": {
    "id": "dw87FlzMgFyM"
   },
   "outputs": [],
   "source": [
    "import pandas as pd #импортируем библиотеку pandas\n",
    "import matplotlib.pyplot as plt #импортируем библиотеку matplotlib\n",
    "import warnings #импортируем модуль управления предупреждениями\n",
    "warnings.filterwarnings('ignore') #ставим фильтр для игнорирования предупреждений"
   ]
  },
  {
   "cell_type": "code",
   "execution_count": 2,
   "metadata": {},
   "outputs": [],
   "source": [
    "data_1 = pd.read_csv('/datasets/mkrf_movies.csv') #открываем файл mkrf_movies.csv\n",
    "data_2 = pd.read_csv('/datasets/mkrf_shows.csv') #открываем файл mkrf_shows.csv"
   ]
  },
  {
   "cell_type": "code",
   "execution_count": 3,
   "metadata": {},
   "outputs": [
    {
     "name": "stdout",
     "output_type": "stream",
     "text": [
      "<class 'pandas.core.frame.DataFrame'>\n",
      "RangeIndex: 7486 entries, 0 to 7485\n",
      "Data columns (total 15 columns):\n",
      " #   Column                 Non-Null Count  Dtype  \n",
      "---  ------                 --------------  -----  \n",
      " 0   title                  7486 non-null   object \n",
      " 1   puNumber               7486 non-null   object \n",
      " 2   show_start_date        7486 non-null   object \n",
      " 3   type                   7486 non-null   object \n",
      " 4   film_studio            7468 non-null   object \n",
      " 5   production_country     7484 non-null   object \n",
      " 6   director               7477 non-null   object \n",
      " 7   producer               6918 non-null   object \n",
      " 8   age_restriction        7486 non-null   object \n",
      " 9   refundable_support     332 non-null    float64\n",
      " 10  nonrefundable_support  332 non-null    float64\n",
      " 11  budget                 332 non-null    float64\n",
      " 12  financing_source       332 non-null    object \n",
      " 13  ratings                6519 non-null   object \n",
      " 14  genres                 6510 non-null   object \n",
      "dtypes: float64(3), object(12)\n",
      "memory usage: 877.4+ KB\n",
      "<class 'pandas.core.frame.DataFrame'>\n",
      "RangeIndex: 3158 entries, 0 to 3157\n",
      "Data columns (total 2 columns):\n",
      " #   Column      Non-Null Count  Dtype  \n",
      "---  ------      --------------  -----  \n",
      " 0   puNumber    3158 non-null   int64  \n",
      " 1   box_office  3158 non-null   float64\n",
      "dtypes: float64(1), int64(1)\n",
      "memory usage: 49.5 KB\n"
     ]
    }
   ],
   "source": [
    "data_1.info() #выводим на экран общую информацию о датафрейме_1 для изучения возможности объединения датафреймов\n",
    "data_2.info() #выводим на экран общую информацию о датафрейме_ 2 для изучения возможности объединения датафреймов"
   ]
  },
  {
   "cell_type": "code",
   "execution_count": 4,
   "metadata": {
    "scrolled": true
   },
   "outputs": [],
   "source": [
    "#в датафрейме_1 удаляем одну строку, где номер прокатного удостоверения 'нет', \n",
    "#так как она выдает ошибку при смене типов данных\n",
    "data_1 = data_1.loc[data_1['puNumber'] != 'нет']"
   ]
  },
  {
   "cell_type": "code",
   "execution_count": 5,
   "metadata": {},
   "outputs": [],
   "source": [
    "#в столбце puNumber датафрейма_1 меняем тип данных на вещественный\n",
    "data_1['puNumber'] = pd.to_numeric(data_1['puNumber'], errors='raise') "
   ]
  },
  {
   "cell_type": "code",
   "execution_count": 6,
   "metadata": {},
   "outputs": [
    {
     "data": {
      "text/plain": [
       "title                     object\n",
       "puNumber                   int64\n",
       "show_start_date           object\n",
       "type                      object\n",
       "film_studio               object\n",
       "production_country        object\n",
       "director                  object\n",
       "producer                  object\n",
       "age_restriction           object\n",
       "refundable_support       float64\n",
       "nonrefundable_support    float64\n",
       "budget                   float64\n",
       "financing_source          object\n",
       "ratings                   object\n",
       "genres                    object\n",
       "dtype: object"
      ]
     },
     "execution_count": 6,
     "metadata": {},
     "output_type": "execute_result"
    }
   ],
   "source": [
    "data_1.dtypes #проверка результатов - смены типа данных в столбце puNumber"
   ]
  },
  {
   "cell_type": "code",
   "execution_count": 7,
   "metadata": {},
   "outputs": [],
   "source": [
    "data = data_1.merge(data_2, on='puNumber', how='left') #объединяем датафреймы 1 и 2 в единый датафрейм data"
   ]
  },
  {
   "cell_type": "code",
   "execution_count": 8,
   "metadata": {},
   "outputs": [
    {
     "name": "stdout",
     "output_type": "stream",
     "text": [
      "<class 'pandas.core.frame.DataFrame'>\n",
      "Int64Index: 7485 entries, 0 to 7484\n",
      "Data columns (total 16 columns):\n",
      " #   Column                 Non-Null Count  Dtype  \n",
      "---  ------                 --------------  -----  \n",
      " 0   title                  7485 non-null   object \n",
      " 1   puNumber               7485 non-null   int64  \n",
      " 2   show_start_date        7485 non-null   object \n",
      " 3   type                   7485 non-null   object \n",
      " 4   film_studio            7467 non-null   object \n",
      " 5   production_country     7483 non-null   object \n",
      " 6   director               7476 non-null   object \n",
      " 7   producer               6917 non-null   object \n",
      " 8   age_restriction        7485 non-null   object \n",
      " 9   refundable_support     332 non-null    float64\n",
      " 10  nonrefundable_support  332 non-null    float64\n",
      " 11  budget                 332 non-null    float64\n",
      " 12  financing_source       332 non-null    object \n",
      " 13  ratings                6519 non-null   object \n",
      " 14  genres                 6510 non-null   object \n",
      " 15  box_office             3158 non-null   float64\n",
      "dtypes: float64(4), int64(1), object(11)\n",
      "memory usage: 994.1+ KB\n"
     ]
    }
   ],
   "source": [
    "data.info() #выводим на экран общую информацию о датафрейме"
   ]
  },
  {
   "cell_type": "code",
   "execution_count": 9,
   "metadata": {},
   "outputs": [
    {
     "data": {
      "text/html": [
       "<div>\n",
       "<style scoped>\n",
       "    .dataframe tbody tr th:only-of-type {\n",
       "        vertical-align: middle;\n",
       "    }\n",
       "\n",
       "    .dataframe tbody tr th {\n",
       "        vertical-align: top;\n",
       "    }\n",
       "\n",
       "    .dataframe thead th {\n",
       "        text-align: right;\n",
       "    }\n",
       "</style>\n",
       "<table border=\"1\" class=\"dataframe\">\n",
       "  <thead>\n",
       "    <tr style=\"text-align: right;\">\n",
       "      <th></th>\n",
       "      <th>title</th>\n",
       "      <th>puNumber</th>\n",
       "      <th>show_start_date</th>\n",
       "      <th>type</th>\n",
       "      <th>film_studio</th>\n",
       "      <th>production_country</th>\n",
       "      <th>director</th>\n",
       "      <th>producer</th>\n",
       "      <th>age_restriction</th>\n",
       "      <th>refundable_support</th>\n",
       "      <th>nonrefundable_support</th>\n",
       "      <th>budget</th>\n",
       "      <th>financing_source</th>\n",
       "      <th>ratings</th>\n",
       "      <th>genres</th>\n",
       "      <th>box_office</th>\n",
       "    </tr>\n",
       "  </thead>\n",
       "  <tbody>\n",
       "    <tr>\n",
       "      <th>0</th>\n",
       "      <td>Открытый простор</td>\n",
       "      <td>221048915</td>\n",
       "      <td>2015-11-27T12:00:00.000Z</td>\n",
       "      <td>Художественный</td>\n",
       "      <td>Тачстоун Пикчерз, Кобальт Пикчерз, Бикон Пикче...</td>\n",
       "      <td>США</td>\n",
       "      <td>Кевин Костнер</td>\n",
       "      <td>Дэвид Валдес, Кевин Костнер, Джейк Эбертс</td>\n",
       "      <td>«18+» - запрещено для детей</td>\n",
       "      <td>NaN</td>\n",
       "      <td>NaN</td>\n",
       "      <td>NaN</td>\n",
       "      <td>NaN</td>\n",
       "      <td>7.2</td>\n",
       "      <td>боевик,драма,мелодрама</td>\n",
       "      <td>NaN</td>\n",
       "    </tr>\n",
       "    <tr>\n",
       "      <th>1</th>\n",
       "      <td>Особо важное задание</td>\n",
       "      <td>111013716</td>\n",
       "      <td>2016-09-13T12:00:00.000Z</td>\n",
       "      <td>Художественный</td>\n",
       "      <td>Киностудия \"Мосфильм\"</td>\n",
       "      <td>СССР</td>\n",
       "      <td>Е.Матвеев</td>\n",
       "      <td>NaN</td>\n",
       "      <td>«6+» - для детей старше 6 лет</td>\n",
       "      <td>NaN</td>\n",
       "      <td>NaN</td>\n",
       "      <td>NaN</td>\n",
       "      <td>NaN</td>\n",
       "      <td>6.6</td>\n",
       "      <td>драма,военный</td>\n",
       "      <td>NaN</td>\n",
       "    </tr>\n",
       "    <tr>\n",
       "      <th>2</th>\n",
       "      <td>Особо опасен</td>\n",
       "      <td>221038416</td>\n",
       "      <td>2016-10-10T12:00:00.000Z</td>\n",
       "      <td>Художественный</td>\n",
       "      <td>Юниверсал Пикчерз, Кикстарт Продакшнз, Марк Пл...</td>\n",
       "      <td>США</td>\n",
       "      <td>Тимур Бекмамбетов</td>\n",
       "      <td>Джим Лемли, Джейсон Нетер, Марк Е.Платт, Яйн Смит</td>\n",
       "      <td>«18+» - запрещено для детей</td>\n",
       "      <td>NaN</td>\n",
       "      <td>NaN</td>\n",
       "      <td>NaN</td>\n",
       "      <td>NaN</td>\n",
       "      <td>6.8</td>\n",
       "      <td>фантастика,боевик,триллер</td>\n",
       "      <td>NaN</td>\n",
       "    </tr>\n",
       "    <tr>\n",
       "      <th>3</th>\n",
       "      <td>Особо опасен</td>\n",
       "      <td>221026916</td>\n",
       "      <td>2016-06-10T12:00:00.000Z</td>\n",
       "      <td>Художественный</td>\n",
       "      <td>Юниверсал Пикчерз, Кикстарт Продакшнз, Марк Пл...</td>\n",
       "      <td>США</td>\n",
       "      <td>Тимур Бекмамбетов</td>\n",
       "      <td>Джим Лемли, Джейсон Нетер, Марк Е.Платт, Яйн Смит</td>\n",
       "      <td>«18+» - запрещено для детей</td>\n",
       "      <td>NaN</td>\n",
       "      <td>NaN</td>\n",
       "      <td>NaN</td>\n",
       "      <td>NaN</td>\n",
       "      <td>6.8</td>\n",
       "      <td>фантастика,боевик,триллер</td>\n",
       "      <td>NaN</td>\n",
       "    </tr>\n",
       "    <tr>\n",
       "      <th>4</th>\n",
       "      <td>Особо опасен</td>\n",
       "      <td>221030815</td>\n",
       "      <td>2015-07-29T12:00:00.000Z</td>\n",
       "      <td>Художественный</td>\n",
       "      <td>Юниверсал Пикчерз, Кикстарт Продакшнз, Марк Пл...</td>\n",
       "      <td>США</td>\n",
       "      <td>Тимур Бекмамбетов</td>\n",
       "      <td>Джим Лемли, Джейсон Нетер, Марк Е.Платт, Яйн Смит</td>\n",
       "      <td>«18+» - запрещено для детей</td>\n",
       "      <td>NaN</td>\n",
       "      <td>NaN</td>\n",
       "      <td>NaN</td>\n",
       "      <td>NaN</td>\n",
       "      <td>6.8</td>\n",
       "      <td>фантастика,боевик,триллер</td>\n",
       "      <td>NaN</td>\n",
       "    </tr>\n",
       "  </tbody>\n",
       "</table>\n",
       "</div>"
      ],
      "text/plain": [
       "                  title   puNumber           show_start_date            type  \\\n",
       "0      Открытый простор  221048915  2015-11-27T12:00:00.000Z  Художественный   \n",
       "1  Особо важное задание  111013716  2016-09-13T12:00:00.000Z  Художественный   \n",
       "2          Особо опасен  221038416  2016-10-10T12:00:00.000Z  Художественный   \n",
       "3          Особо опасен  221026916  2016-06-10T12:00:00.000Z  Художественный   \n",
       "4          Особо опасен  221030815  2015-07-29T12:00:00.000Z  Художественный   \n",
       "\n",
       "                                         film_studio production_country  \\\n",
       "0  Тачстоун Пикчерз, Кобальт Пикчерз, Бикон Пикче...                США   \n",
       "1                              Киностудия \"Мосфильм\"               СССР   \n",
       "2  Юниверсал Пикчерз, Кикстарт Продакшнз, Марк Пл...                США   \n",
       "3  Юниверсал Пикчерз, Кикстарт Продакшнз, Марк Пл...                США   \n",
       "4  Юниверсал Пикчерз, Кикстарт Продакшнз, Марк Пл...                США   \n",
       "\n",
       "            director                                           producer  \\\n",
       "0      Кевин Костнер          Дэвид Валдес, Кевин Костнер, Джейк Эбертс   \n",
       "1          Е.Матвеев                                                NaN   \n",
       "2  Тимур Бекмамбетов  Джим Лемли, Джейсон Нетер, Марк Е.Платт, Яйн Смит   \n",
       "3  Тимур Бекмамбетов  Джим Лемли, Джейсон Нетер, Марк Е.Платт, Яйн Смит   \n",
       "4  Тимур Бекмамбетов  Джим Лемли, Джейсон Нетер, Марк Е.Платт, Яйн Смит   \n",
       "\n",
       "                 age_restriction  refundable_support  nonrefundable_support  \\\n",
       "0    «18+» - запрещено для детей                 NaN                    NaN   \n",
       "1  «6+» - для детей старше 6 лет                 NaN                    NaN   \n",
       "2    «18+» - запрещено для детей                 NaN                    NaN   \n",
       "3    «18+» - запрещено для детей                 NaN                    NaN   \n",
       "4    «18+» - запрещено для детей                 NaN                    NaN   \n",
       "\n",
       "   budget financing_source ratings                     genres  box_office  \n",
       "0     NaN              NaN     7.2     боевик,драма,мелодрама         NaN  \n",
       "1     NaN              NaN     6.6              драма,военный         NaN  \n",
       "2     NaN              NaN     6.8  фантастика,боевик,триллер         NaN  \n",
       "3     NaN              NaN     6.8  фантастика,боевик,триллер         NaN  \n",
       "4     NaN              NaN     6.8  фантастика,боевик,триллер         NaN  "
      ]
     },
     "execution_count": 9,
     "metadata": {},
     "output_type": "execute_result"
    }
   ],
   "source": [
    "data.head() #выводим на экран первые 5 строк датафрейма\n"
   ]
  },
  {
   "cell_type": "markdown",
   "metadata": {},
   "source": [
    "**Выводы по пункту 1:**\n",
    "\n",
    "В результате объединения двух датафреймов получили новый датафрейм, в котором даже на основании основной информации видно много проблем с данными: неверные типы данных, большое количество пропусков. Проведем предварительный анализ и предобработку, и посмотрим, все ли столбцы необходимо обработать в части исключения вышеуказанных проблем с данными. В столбце puNumber нам пришлось удалить одну строку и изменить тип данных уже на этапе объединения датафреймов, так как, если не устранить эти проблемы, объединение датафреймов происходит некорректно. "
   ]
  },
  {
   "cell_type": "markdown",
   "metadata": {
    "id": "KLDGpPG0gFyM"
   },
   "source": [
    "## Предобработка данных"
   ]
  },
  {
   "cell_type": "markdown",
   "metadata": {
    "id": "ssWwKXsxgFyO"
   },
   "source": [
    "### Проверка типов данных"
   ]
  },
  {
   "cell_type": "code",
   "execution_count": 10,
   "metadata": {
    "id": "kVGSplJOgFyO"
   },
   "outputs": [
    {
     "data": {
      "text/plain": [
       "title                     object\n",
       "puNumber                   int64\n",
       "show_start_date           object\n",
       "type                      object\n",
       "film_studio               object\n",
       "production_country        object\n",
       "director                  object\n",
       "producer                  object\n",
       "age_restriction           object\n",
       "refundable_support       float64\n",
       "nonrefundable_support    float64\n",
       "budget                   float64\n",
       "financing_source          object\n",
       "ratings                   object\n",
       "genres                    object\n",
       "box_office               float64\n",
       "dtype: object"
      ]
     },
     "execution_count": 10,
     "metadata": {},
     "output_type": "execute_result"
    }
   ],
   "source": [
    "data.dtypes #выводим на экран информацию о типах данных в столбцах датафрейма"
   ]
  },
  {
   "cell_type": "code",
   "execution_count": 11,
   "metadata": {},
   "outputs": [],
   "source": [
    "#меняем тип данных в столбце show_start_date на datetime\n",
    "data['show_start_date'] = pd.to_datetime(data['show_start_date'], format='%Y-%m-%d %H:%M:%S')"
   ]
  },
  {
   "cell_type": "code",
   "execution_count": 12,
   "metadata": {},
   "outputs": [
    {
     "data": {
      "text/plain": [
       "array(['7.2', '6.6', '6.8', '7.7', '8.3', '8.0', '7.8', '8.1', '7.1',\n",
       "       '6.0', '7.4', '5.8', '8.7', '6.3', '6.9', '5.0', '4.3', '7.3',\n",
       "       '7.0', '6.4', nan, '8.2', '7.5', '6.7', '7.9', '5.9', '6.2', '5.6',\n",
       "       '6.5', '2.4', '7.6', '6.1', '8.6', '8.5', '8.8', '5.5', '5.1',\n",
       "       '5.7', '5.4', '99%', '4.4', '4.5', '5.3', '4.1', '8.4', '2.6',\n",
       "       '3.8', '4.6', '4.8', '4.0', '3.0', '1.6', '4.2', '5.2', '4.7',\n",
       "       '4.9', '3.9', '2.7', '3.3', '2.9', '28%', '3.7', '1.4', '3.1',\n",
       "       '97%', '3.5', '3.2', '2.8', '1.5', '2.1', '2.5', '9.2', '3.4',\n",
       "       '1.1', '3.6', '83%', '64%', '91%', '94%', '62%', '79%', '90%',\n",
       "       '19%', '88%', '1.0', '89%', '1.3', '1.9', '1.8', '1.2', '1.7',\n",
       "       '9.0', '98%', '8.9', '9.1'], dtype=object)"
      ]
     },
     "execution_count": 12,
     "metadata": {},
     "output_type": "execute_result"
    }
   ],
   "source": [
    "data['ratings'].unique() #выводим уникальные значения столбца ratings "
   ]
  },
  {
   "cell_type": "code",
   "execution_count": 13,
   "metadata": {},
   "outputs": [],
   "source": [
    "#создаем функцию, с помощью которой обрабатываем значения с процентами:\n",
    "#отбрасываем % в значениях, меняем значения на тип float и делим на 10.\n",
    "def type_ratings(line):\n",
    "    try:\n",
    "        if line[2] == '%':\n",
    "            string = line[:2]\n",
    "            string = float(string) / 10\n",
    "            return string\n",
    "        else:\n",
    "            line = float(line)\n",
    "            return line\n",
    "    except:\n",
    "        return line      \n",
    "        \n",
    "data['ratings'] = data['ratings'].apply(type_ratings) #применяем функцию type_ratings к столбцу ratings "
   ]
  },
  {
   "cell_type": "code",
   "execution_count": 14,
   "metadata": {},
   "outputs": [
    {
     "data": {
      "text/plain": [
       "array([7.2, 6.6, 6.8, 7.7, 8.3, 8. , 7.8, 8.1, 7.1, 6. , 7.4, 5.8, 8.7,\n",
       "       6.3, 6.9, 5. , 4.3, 7.3, 7. , 6.4, nan, 8.2, 7.5, 6.7, 7.9, 5.9,\n",
       "       6.2, 5.6, 6.5, 2.4, 7.6, 6.1, 8.6, 8.5, 8.8, 5.5, 5.1, 5.7, 5.4,\n",
       "       9.9, 4.4, 4.5, 5.3, 4.1, 8.4, 2.6, 3.8, 4.6, 4.8, 4. , 3. , 1.6,\n",
       "       4.2, 5.2, 4.7, 4.9, 3.9, 2.7, 3.3, 2.9, 2.8, 3.7, 1.4, 3.1, 9.7,\n",
       "       3.5, 3.2, 1.5, 2.1, 2.5, 9.2, 3.4, 1.1, 3.6, 9.1, 9.4, 9. , 1.9,\n",
       "       1. , 8.9, 1.3, 1.8, 1.2, 1.7, 9.8])"
      ]
     },
     "execution_count": 14,
     "metadata": {},
     "output_type": "execute_result"
    }
   ],
   "source": [
    "data['ratings'].unique() #проверка результатов изменения типа данных и значений в столбце ratings"
   ]
  },
  {
   "cell_type": "code",
   "execution_count": 15,
   "metadata": {},
   "outputs": [
    {
     "data": {
      "text/plain": [
       "title                                 object\n",
       "puNumber                               int64\n",
       "show_start_date          datetime64[ns, UTC]\n",
       "type                                  object\n",
       "film_studio                           object\n",
       "production_country                    object\n",
       "director                              object\n",
       "producer                              object\n",
       "age_restriction                       object\n",
       "refundable_support                   float64\n",
       "nonrefundable_support                float64\n",
       "budget                               float64\n",
       "financing_source                      object\n",
       "ratings                              float64\n",
       "genres                                object\n",
       "box_office                           float64\n",
       "dtype: object"
      ]
     },
     "execution_count": 15,
     "metadata": {},
     "output_type": "execute_result"
    }
   ],
   "source": [
    "data.dtypes #итоговая проверка результатов смены типов данных в столбцах датафрейма"
   ]
  },
  {
   "cell_type": "markdown",
   "metadata": {},
   "source": [
    "**Выводы по пункту 2.1.:**\n",
    "\n",
    "В результате предобработки данных преобразовали тип данных в столбце show_start_date, так как этот столбец необходим нам в дальнейшем для выделения в отдельный столбец года, в котором был прокат фильма.\n",
    "Также, проанализировав столбец ratings, исключили аномальные значения с %, привели тип данных к float64, и перевели в дроби."
   ]
  },
  {
   "cell_type": "markdown",
   "metadata": {
    "id": "i0MOLbF-gFyP"
   },
   "source": [
    "### Изучение пропусков в датафрейме"
   ]
  },
  {
   "cell_type": "code",
   "execution_count": 16,
   "metadata": {
    "id": "8MJD_lkngFyP"
   },
   "outputs": [
    {
     "data": {
      "text/plain": [
       "title                       0\n",
       "puNumber                    0\n",
       "show_start_date             0\n",
       "type                        0\n",
       "film_studio                18\n",
       "production_country          2\n",
       "director                    9\n",
       "producer                  568\n",
       "age_restriction             0\n",
       "refundable_support       7153\n",
       "nonrefundable_support    7153\n",
       "budget                   7153\n",
       "financing_source         7153\n",
       "ratings                   966\n",
       "genres                    975\n",
       "box_office               4327\n",
       "dtype: int64"
      ]
     },
     "execution_count": 16,
     "metadata": {},
     "output_type": "execute_result"
    }
   ],
   "source": [
    "data.isna().sum() #считаем количество пропусков в столбцах датафрейма"
   ]
  },
  {
   "cell_type": "code",
   "execution_count": 17,
   "metadata": {},
   "outputs": [
    {
     "name": "stdout",
     "output_type": "stream",
     "text": [
      "Пропуски до: 9\n",
      "Пропуски после: 0\n"
     ]
    }
   ],
   "source": [
    "print('Пропуски до:', data['director'].isna().sum()) #выводим на экран количество пропусков до предобработки в столбце director\n",
    "\n",
    "data['director'] = data['director'].fillna('неизвестно') #заменяем пропуски в столбце genres заглушкой \"неизвестно\" \n",
    "\n",
    "print('Пропуски после:', data['director'].isna().sum()) #выводим на экран количество пропусков после предобработки в столбце director"
   ]
  },
  {
   "cell_type": "code",
   "execution_count": 18,
   "metadata": {},
   "outputs": [
    {
     "name": "stdout",
     "output_type": "stream",
     "text": [
      "Пропуски до: 975\n",
      "Пропуски после: 0\n"
     ]
    }
   ],
   "source": [
    "print('Пропуски до:', data['genres'].isna().sum())#выводим на экран количество пропусков до предобработки в столбце genres\n",
    "\n",
    "\n",
    "data['genres'] = data['genres'].fillna('неизвестно') #заменяем пропуски в столбце genres заглушкой \"неизвестно\" \n",
    "\n",
    "print('Пропуски после:', data['genres'].isna().sum())#выводим на экран количество пропусков после предобработки в столбце genres"
   ]
  },
  {
   "cell_type": "code",
   "execution_count": 19,
   "metadata": {},
   "outputs": [
    {
     "data": {
      "text/html": [
       "<div>\n",
       "<style scoped>\n",
       "    .dataframe tbody tr th:only-of-type {\n",
       "        vertical-align: middle;\n",
       "    }\n",
       "\n",
       "    .dataframe tbody tr th {\n",
       "        vertical-align: top;\n",
       "    }\n",
       "\n",
       "    .dataframe thead th {\n",
       "        text-align: right;\n",
       "    }\n",
       "</style>\n",
       "<table border=\"1\" class=\"dataframe\">\n",
       "  <thead>\n",
       "    <tr style=\"text-align: right;\">\n",
       "      <th></th>\n",
       "      <th>title</th>\n",
       "      <th>puNumber</th>\n",
       "      <th>show_start_date</th>\n",
       "      <th>type</th>\n",
       "      <th>film_studio</th>\n",
       "      <th>production_country</th>\n",
       "      <th>director</th>\n",
       "      <th>producer</th>\n",
       "      <th>age_restriction</th>\n",
       "      <th>refundable_support</th>\n",
       "      <th>nonrefundable_support</th>\n",
       "      <th>budget</th>\n",
       "      <th>financing_source</th>\n",
       "      <th>ratings</th>\n",
       "      <th>genres</th>\n",
       "      <th>box_office</th>\n",
       "    </tr>\n",
       "  </thead>\n",
       "  <tbody>\n",
       "    <tr>\n",
       "      <th>1448</th>\n",
       "      <td>Бесславные придурки</td>\n",
       "      <td>111003314</td>\n",
       "      <td>2014-03-28 12:00:00+00:00</td>\n",
       "      <td>Художественный</td>\n",
       "      <td>ООО \"Компания \"АТК-Студио\"</td>\n",
       "      <td>Россия</td>\n",
       "      <td>А.Якимчук</td>\n",
       "      <td>А.Тютрюмов</td>\n",
       "      <td>«12+» - для детей старше 12 лет</td>\n",
       "      <td>0.0</td>\n",
       "      <td>26000000.0</td>\n",
       "      <td>37142857.0</td>\n",
       "      <td>Министерство культуры</td>\n",
       "      <td>NaN</td>\n",
       "      <td>неизвестно</td>\n",
       "      <td>2.814000e+04</td>\n",
       "    </tr>\n",
       "    <tr>\n",
       "      <th>2149</th>\n",
       "      <td>РЕВЕРБЕРАЦИЯ</td>\n",
       "      <td>111003515</td>\n",
       "      <td>2015-03-30 12:00:00+00:00</td>\n",
       "      <td>Художественный</td>\n",
       "      <td>ООО \"Артлайт\"</td>\n",
       "      <td>Россия</td>\n",
       "      <td>К.Сухарьков</td>\n",
       "      <td>А.Новиков</td>\n",
       "      <td>«18+» - запрещено для детей</td>\n",
       "      <td>0.0</td>\n",
       "      <td>25000000.0</td>\n",
       "      <td>37371262.0</td>\n",
       "      <td>Министерство культуры</td>\n",
       "      <td>NaN</td>\n",
       "      <td>неизвестно</td>\n",
       "      <td>1.982000e+04</td>\n",
       "    </tr>\n",
       "    <tr>\n",
       "      <th>2450</th>\n",
       "      <td>ПРАЗДНИК НЕПОСЛУШАНИЯ</td>\n",
       "      <td>111016215</td>\n",
       "      <td>2015-08-28 12:00:00+00:00</td>\n",
       "      <td>Художественный</td>\n",
       "      <td>АНО \"Творческая студия \"Стелла\"</td>\n",
       "      <td>Россия</td>\n",
       "      <td>В.Харченко, А.Волков</td>\n",
       "      <td>Ф.Попов</td>\n",
       "      <td>«6+» - для детей старше 6 лет</td>\n",
       "      <td>0.0</td>\n",
       "      <td>34000000.0</td>\n",
       "      <td>49071428.0</td>\n",
       "      <td>Министерство культуры</td>\n",
       "      <td>NaN</td>\n",
       "      <td>неизвестно</td>\n",
       "      <td>1.825100e+05</td>\n",
       "    </tr>\n",
       "    <tr>\n",
       "      <th>2816</th>\n",
       "      <td>Иерей-Сан. Исповедь самурая. ПОСТАНОВЛЕНИЕМ СУ...</td>\n",
       "      <td>111019315</td>\n",
       "      <td>2015-11-17 12:00:00+00:00</td>\n",
       "      <td>Художественный</td>\n",
       "      <td>ООО \"Студия Ортодокс\"</td>\n",
       "      <td>Россия</td>\n",
       "      <td>Е.Баранов</td>\n",
       "      <td>Л.Калинский, И.Охлобыстин, Г.Палагаев</td>\n",
       "      <td>«16+» - для детей старше 16 лет</td>\n",
       "      <td>25000000.0</td>\n",
       "      <td>15000000.0</td>\n",
       "      <td>74071918.0</td>\n",
       "      <td>Фонд кино</td>\n",
       "      <td>NaN</td>\n",
       "      <td>неизвестно</td>\n",
       "      <td>1.101181e+07</td>\n",
       "    </tr>\n",
       "    <tr>\n",
       "      <th>2998</th>\n",
       "      <td>Жили-были мы</td>\n",
       "      <td>111008716</td>\n",
       "      <td>2016-05-12 12:00:00+00:00</td>\n",
       "      <td>Художественный</td>\n",
       "      <td>ООО \"Русские Золотые Серии\"</td>\n",
       "      <td>Россия</td>\n",
       "      <td>А.Чернакова</td>\n",
       "      <td>А.Чернакова, Ю.Сапронов</td>\n",
       "      <td>«0+» - для любой зрительской аудитории</td>\n",
       "      <td>0.0</td>\n",
       "      <td>35000000.0</td>\n",
       "      <td>69883049.0</td>\n",
       "      <td>Министерство культуры</td>\n",
       "      <td>NaN</td>\n",
       "      <td>неизвестно</td>\n",
       "      <td>6.588700e+05</td>\n",
       "    </tr>\n",
       "    <tr>\n",
       "      <th>3060</th>\n",
       "      <td>Первая Мировая война WWI</td>\n",
       "      <td>111000716</td>\n",
       "      <td>2016-01-25 12:00:00+00:00</td>\n",
       "      <td>Художественный</td>\n",
       "      <td>ООО \"Корнер Ворк\"</td>\n",
       "      <td>Россия</td>\n",
       "      <td>И.Угольников</td>\n",
       "      <td>И.Угольников</td>\n",
       "      <td>«12+» - для детей старше 12 лет</td>\n",
       "      <td>0.0</td>\n",
       "      <td>30000000.0</td>\n",
       "      <td>45538655.0</td>\n",
       "      <td>Фонд кино</td>\n",
       "      <td>NaN</td>\n",
       "      <td>неизвестно</td>\n",
       "      <td>8.781000e+04</td>\n",
       "    </tr>\n",
       "    <tr>\n",
       "      <th>3384</th>\n",
       "      <td>О любви (2017)</td>\n",
       "      <td>111018816</td>\n",
       "      <td>2016-12-28 12:00:00+00:00</td>\n",
       "      <td>Художественный</td>\n",
       "      <td>ООО \"СТУДИЯ \"2-Б-2\" ИНТЕРТЭЙНМЕНТ\"</td>\n",
       "      <td>Россия</td>\n",
       "      <td>В.Бортко</td>\n",
       "      <td>Н.Бортко</td>\n",
       "      <td>«16+» - для детей старше 16 лет</td>\n",
       "      <td>20000000.0</td>\n",
       "      <td>35000000.0</td>\n",
       "      <td>70086439.0</td>\n",
       "      <td>Министерство культуры, Фонд кино</td>\n",
       "      <td>NaN</td>\n",
       "      <td>неизвестно</td>\n",
       "      <td>1.133241e+07</td>\n",
       "    </tr>\n",
       "    <tr>\n",
       "      <th>3388</th>\n",
       "      <td>Как Витька Чеснок вёз Лёху штыря в дом инвалидов</td>\n",
       "      <td>111005017</td>\n",
       "      <td>2017-06-30 12:00:00+00:00</td>\n",
       "      <td>Художественный</td>\n",
       "      <td>ООО \"Продюсерский центр \"ВГИК - Дебют\"</td>\n",
       "      <td>Россия</td>\n",
       "      <td>А.Хант</td>\n",
       "      <td>В.Мадышев, Ф.Попов</td>\n",
       "      <td>«18+» - запрещено для детей</td>\n",
       "      <td>0.0</td>\n",
       "      <td>25000000.0</td>\n",
       "      <td>38500000.0</td>\n",
       "      <td>Министерство культуры</td>\n",
       "      <td>NaN</td>\n",
       "      <td>неизвестно</td>\n",
       "      <td>5.503875e+06</td>\n",
       "    </tr>\n",
       "    <tr>\n",
       "      <th>3613</th>\n",
       "      <td>Три сестры</td>\n",
       "      <td>111004417</td>\n",
       "      <td>2017-06-09 12:00:00+00:00</td>\n",
       "      <td>Художественный</td>\n",
       "      <td>ООО \"РТВ\", АО \"ТПО \"Киностудия им. М.Горького\"...</td>\n",
       "      <td>Россия</td>\n",
       "      <td>Ю.Грымов</td>\n",
       "      <td>Ю.Грымов, С.Зернов</td>\n",
       "      <td>«16+» - для детей старше 16 лет</td>\n",
       "      <td>0.0</td>\n",
       "      <td>25000000.0</td>\n",
       "      <td>37878787.0</td>\n",
       "      <td>Министерство культуры</td>\n",
       "      <td>NaN</td>\n",
       "      <td>неизвестно</td>\n",
       "      <td>1.067649e+06</td>\n",
       "    </tr>\n",
       "    <tr>\n",
       "      <th>3654</th>\n",
       "      <td>О чем молчат французы</td>\n",
       "      <td>111012016</td>\n",
       "      <td>2016-07-22 12:00:00+00:00</td>\n",
       "      <td>Художественный</td>\n",
       "      <td>ООО \"Киностудия Арго\"</td>\n",
       "      <td>Россия</td>\n",
       "      <td>В.Шевельков</td>\n",
       "      <td>В.Шевельков, М.Бебенина</td>\n",
       "      <td>«12+» - для детей старше 12 лет</td>\n",
       "      <td>0.0</td>\n",
       "      <td>30000000.0</td>\n",
       "      <td>46153887.0</td>\n",
       "      <td>Министерство культуры</td>\n",
       "      <td>NaN</td>\n",
       "      <td>неизвестно</td>\n",
       "      <td>9.565000e+04</td>\n",
       "    </tr>\n",
       "    <tr>\n",
       "      <th>5707</th>\n",
       "      <td>Лёд</td>\n",
       "      <td>111000518</td>\n",
       "      <td>2018-02-01 12:00:00+00:00</td>\n",
       "      <td>Художественный</td>\n",
       "      <td>ООО \"Водород 2011\", ООО \"Арт Пикчерс Студия\", ...</td>\n",
       "      <td>Россия</td>\n",
       "      <td>О.Трофим</td>\n",
       "      <td>М.Врубель, А.Андрющенко, Ф.Бондарчук, Д.Рудовс...</td>\n",
       "      <td>«12+» - для детей старше 12 лет</td>\n",
       "      <td>25000000.0</td>\n",
       "      <td>60000000.0</td>\n",
       "      <td>148585222.0</td>\n",
       "      <td>Фонд кино</td>\n",
       "      <td>NaN</td>\n",
       "      <td>неизвестно</td>\n",
       "      <td>1.445732e+09</td>\n",
       "    </tr>\n",
       "    <tr>\n",
       "      <th>6244</th>\n",
       "      <td>Смотри Мою Любовь</td>\n",
       "      <td>111018018</td>\n",
       "      <td>2018-09-27 12:00:00+00:00</td>\n",
       "      <td>Художественный</td>\n",
       "      <td>ООО \"Продюсерская компания \"Слово\"</td>\n",
       "      <td>Россия</td>\n",
       "      <td>А.Сухарев, Г.Шенгелия</td>\n",
       "      <td>В.Глухов</td>\n",
       "      <td>«12+» - для детей старше 12 лет</td>\n",
       "      <td>0.0</td>\n",
       "      <td>30000000.0</td>\n",
       "      <td>46923776.0</td>\n",
       "      <td>Министерство культуры</td>\n",
       "      <td>NaN</td>\n",
       "      <td>неизвестно</td>\n",
       "      <td>1.215774e+06</td>\n",
       "    </tr>\n",
       "    <tr>\n",
       "      <th>6322</th>\n",
       "      <td>Баба Яга</td>\n",
       "      <td>114006518</td>\n",
       "      <td>2018-11-08 12:00:00+00:00</td>\n",
       "      <td>Анимационный</td>\n",
       "      <td>ООО \"Арт Пикчерс Студия\"</td>\n",
       "      <td>Россия</td>\n",
       "      <td>В.Саков</td>\n",
       "      <td>ООО \"Арт Пикчерс Студия\", ООО \"КРИЭЙТИВ АНИМЭЙ...</td>\n",
       "      <td>«6+» - для детей старше 6 лет</td>\n",
       "      <td>0.0</td>\n",
       "      <td>138969465.0</td>\n",
       "      <td>0.0</td>\n",
       "      <td>Фонд кино</td>\n",
       "      <td>NaN</td>\n",
       "      <td>неизвестно</td>\n",
       "      <td>1.334699e+06</td>\n",
       "    </tr>\n",
       "    <tr>\n",
       "      <th>6909</th>\n",
       "      <td>ВЕСУРИ</td>\n",
       "      <td>111007619</td>\n",
       "      <td>2019-05-07 12:00:00+00:00</td>\n",
       "      <td>Художественный</td>\n",
       "      <td>ООО \"Компания \"АТК-СТУДИО\"</td>\n",
       "      <td>Россия</td>\n",
       "      <td>А.Якимчук, В.Лагунов</td>\n",
       "      <td>А.Тютрюмов</td>\n",
       "      <td>«12+» - для детей старше 12 лет</td>\n",
       "      <td>0.0</td>\n",
       "      <td>30000000.0</td>\n",
       "      <td>46153846.0</td>\n",
       "      <td>Министерство культуры</td>\n",
       "      <td>NaN</td>\n",
       "      <td>неизвестно</td>\n",
       "      <td>7.585000e+04</td>\n",
       "    </tr>\n",
       "    <tr>\n",
       "      <th>7208</th>\n",
       "      <td>Дикая Лига (авторская версия)</td>\n",
       "      <td>111014819</td>\n",
       "      <td>2019-09-19 12:00:00+00:00</td>\n",
       "      <td>Художественный</td>\n",
       "      <td>ООО \"Продюсерский центр \"Новое Время\", ООО \"Му...</td>\n",
       "      <td>Россия</td>\n",
       "      <td>А.Богатырев, А.Камачо</td>\n",
       "      <td>О.Ледяева, Ю.Перкуль, А.Леонтьев, И.Добровольский</td>\n",
       "      <td>«12+» - для детей старше 12 лет</td>\n",
       "      <td>0.0</td>\n",
       "      <td>50000000.0</td>\n",
       "      <td>147866278.0</td>\n",
       "      <td>Министерство культуры</td>\n",
       "      <td>NaN</td>\n",
       "      <td>неизвестно</td>\n",
       "      <td>3.402054e+06</td>\n",
       "    </tr>\n",
       "    <tr>\n",
       "      <th>7343</th>\n",
       "      <td>Кроличья лапа</td>\n",
       "      <td>111018919</td>\n",
       "      <td>2019-11-20 12:00:00+00:00</td>\n",
       "      <td>Художественный</td>\n",
       "      <td>ООО \"Зебра\", \"Артемис\", \"Гринлит\"</td>\n",
       "      <td>Россия, Бельгия, Финляндия</td>\n",
       "      <td>Н.Джорджадзе</td>\n",
       "      <td>Ю.Соболевская</td>\n",
       "      <td>«16+» - для детей старше 16 лет</td>\n",
       "      <td>0.0</td>\n",
       "      <td>30000000.0</td>\n",
       "      <td>47734050.0</td>\n",
       "      <td>Министерство культуры</td>\n",
       "      <td>NaN</td>\n",
       "      <td>неизвестно</td>\n",
       "      <td>NaN</td>\n",
       "    </tr>\n",
       "  </tbody>\n",
       "</table>\n",
       "</div>"
      ],
      "text/plain": [
       "                                                  title   puNumber  \\\n",
       "1448                                Бесславные придурки  111003314   \n",
       "2149                                       РЕВЕРБЕРАЦИЯ  111003515   \n",
       "2450                              ПРАЗДНИК НЕПОСЛУШАНИЯ  111016215   \n",
       "2816  Иерей-Сан. Исповедь самурая. ПОСТАНОВЛЕНИЕМ СУ...  111019315   \n",
       "2998                                       Жили-были мы  111008716   \n",
       "3060                           Первая Мировая война WWI  111000716   \n",
       "3384                                     О любви (2017)  111018816   \n",
       "3388   Как Витька Чеснок вёз Лёху штыря в дом инвалидов  111005017   \n",
       "3613                                         Три сестры  111004417   \n",
       "3654                              О чем молчат французы  111012016   \n",
       "5707                                                Лёд  111000518   \n",
       "6244                                  Смотри Мою Любовь  111018018   \n",
       "6322                                           Баба Яга  114006518   \n",
       "6909                                             ВЕСУРИ  111007619   \n",
       "7208                      Дикая Лига (авторская версия)  111014819   \n",
       "7343                                      Кроличья лапа  111018919   \n",
       "\n",
       "               show_start_date             type  \\\n",
       "1448 2014-03-28 12:00:00+00:00   Художественный   \n",
       "2149 2015-03-30 12:00:00+00:00   Художественный   \n",
       "2450 2015-08-28 12:00:00+00:00   Художественный   \n",
       "2816 2015-11-17 12:00:00+00:00   Художественный   \n",
       "2998 2016-05-12 12:00:00+00:00   Художественный   \n",
       "3060 2016-01-25 12:00:00+00:00   Художественный   \n",
       "3384 2016-12-28 12:00:00+00:00   Художественный   \n",
       "3388 2017-06-30 12:00:00+00:00   Художественный   \n",
       "3613 2017-06-09 12:00:00+00:00   Художественный   \n",
       "3654 2016-07-22 12:00:00+00:00   Художественный   \n",
       "5707 2018-02-01 12:00:00+00:00   Художественный   \n",
       "6244 2018-09-27 12:00:00+00:00   Художественный   \n",
       "6322 2018-11-08 12:00:00+00:00     Анимационный   \n",
       "6909 2019-05-07 12:00:00+00:00   Художественный   \n",
       "7208 2019-09-19 12:00:00+00:00   Художественный   \n",
       "7343 2019-11-20 12:00:00+00:00   Художественный   \n",
       "\n",
       "                                            film_studio  \\\n",
       "1448                         ООО \"Компания \"АТК-Студио\"   \n",
       "2149                                      ООО \"Артлайт\"   \n",
       "2450                    АНО \"Творческая студия \"Стелла\"   \n",
       "2816                              ООО \"Студия Ортодокс\"   \n",
       "2998                        ООО \"Русские Золотые Серии\"   \n",
       "3060                                  ООО \"Корнер Ворк\"   \n",
       "3384                 ООО \"СТУДИЯ \"2-Б-2\" ИНТЕРТЭЙНМЕНТ\"   \n",
       "3388             ООО \"Продюсерский центр \"ВГИК - Дебют\"   \n",
       "3613  ООО \"РТВ\", АО \"ТПО \"Киностудия им. М.Горького\"...   \n",
       "3654                              ООО \"Киностудия Арго\"   \n",
       "5707  ООО \"Водород 2011\", ООО \"Арт Пикчерс Студия\", ...   \n",
       "6244                 ООО \"Продюсерская компания \"Слово\"   \n",
       "6322                           ООО \"Арт Пикчерс Студия\"   \n",
       "6909                         ООО \"Компания \"АТК-СТУДИО\"   \n",
       "7208  ООО \"Продюсерский центр \"Новое Время\", ООО \"Му...   \n",
       "7343                  ООО \"Зебра\", \"Артемис\", \"Гринлит\"   \n",
       "\n",
       "              production_country               director  \\\n",
       "1448                      Россия              А.Якимчук   \n",
       "2149                      Россия            К.Сухарьков   \n",
       "2450                      Россия   В.Харченко, А.Волков   \n",
       "2816                      Россия              Е.Баранов   \n",
       "2998                      Россия            А.Чернакова   \n",
       "3060                      Россия           И.Угольников   \n",
       "3384                      Россия               В.Бортко   \n",
       "3388                      Россия                 А.Хант   \n",
       "3613                      Россия               Ю.Грымов   \n",
       "3654                      Россия            В.Шевельков   \n",
       "5707                      Россия               О.Трофим   \n",
       "6244                      Россия  А.Сухарев, Г.Шенгелия   \n",
       "6322                      Россия                В.Саков   \n",
       "6909                      Россия   А.Якимчук, В.Лагунов   \n",
       "7208                      Россия  А.Богатырев, А.Камачо   \n",
       "7343  Россия, Бельгия, Финляндия           Н.Джорджадзе   \n",
       "\n",
       "                                               producer  \\\n",
       "1448                                         А.Тютрюмов   \n",
       "2149                                          А.Новиков   \n",
       "2450                                            Ф.Попов   \n",
       "2816              Л.Калинский, И.Охлобыстин, Г.Палагаев   \n",
       "2998                            А.Чернакова, Ю.Сапронов   \n",
       "3060                                       И.Угольников   \n",
       "3384                                           Н.Бортко   \n",
       "3388                                 В.Мадышев, Ф.Попов   \n",
       "3613                                 Ю.Грымов, С.Зернов   \n",
       "3654                            В.Шевельков, М.Бебенина   \n",
       "5707  М.Врубель, А.Андрющенко, Ф.Бондарчук, Д.Рудовс...   \n",
       "6244                                           В.Глухов   \n",
       "6322  ООО \"Арт Пикчерс Студия\", ООО \"КРИЭЙТИВ АНИМЭЙ...   \n",
       "6909                                         А.Тютрюмов   \n",
       "7208  О.Ледяева, Ю.Перкуль, А.Леонтьев, И.Добровольский   \n",
       "7343                                      Ю.Соболевская   \n",
       "\n",
       "                             age_restriction  refundable_support  \\\n",
       "1448         «12+» - для детей старше 12 лет                 0.0   \n",
       "2149             «18+» - запрещено для детей                 0.0   \n",
       "2450           «6+» - для детей старше 6 лет                 0.0   \n",
       "2816         «16+» - для детей старше 16 лет          25000000.0   \n",
       "2998  «0+» - для любой зрительской аудитории                 0.0   \n",
       "3060         «12+» - для детей старше 12 лет                 0.0   \n",
       "3384         «16+» - для детей старше 16 лет          20000000.0   \n",
       "3388             «18+» - запрещено для детей                 0.0   \n",
       "3613         «16+» - для детей старше 16 лет                 0.0   \n",
       "3654         «12+» - для детей старше 12 лет                 0.0   \n",
       "5707         «12+» - для детей старше 12 лет          25000000.0   \n",
       "6244         «12+» - для детей старше 12 лет                 0.0   \n",
       "6322           «6+» - для детей старше 6 лет                 0.0   \n",
       "6909         «12+» - для детей старше 12 лет                 0.0   \n",
       "7208         «12+» - для детей старше 12 лет                 0.0   \n",
       "7343         «16+» - для детей старше 16 лет                 0.0   \n",
       "\n",
       "      nonrefundable_support       budget                  financing_source  \\\n",
       "1448             26000000.0   37142857.0             Министерство культуры   \n",
       "2149             25000000.0   37371262.0             Министерство культуры   \n",
       "2450             34000000.0   49071428.0             Министерство культуры   \n",
       "2816             15000000.0   74071918.0                         Фонд кино   \n",
       "2998             35000000.0   69883049.0             Министерство культуры   \n",
       "3060             30000000.0   45538655.0                         Фонд кино   \n",
       "3384             35000000.0   70086439.0  Министерство культуры, Фонд кино   \n",
       "3388             25000000.0   38500000.0             Министерство культуры   \n",
       "3613             25000000.0   37878787.0             Министерство культуры   \n",
       "3654             30000000.0   46153887.0             Министерство культуры   \n",
       "5707             60000000.0  148585222.0                         Фонд кино   \n",
       "6244             30000000.0   46923776.0             Министерство культуры   \n",
       "6322            138969465.0          0.0                         Фонд кино   \n",
       "6909             30000000.0   46153846.0             Министерство культуры   \n",
       "7208             50000000.0  147866278.0             Министерство культуры   \n",
       "7343             30000000.0   47734050.0             Министерство культуры   \n",
       "\n",
       "      ratings      genres    box_office  \n",
       "1448      NaN  неизвестно  2.814000e+04  \n",
       "2149      NaN  неизвестно  1.982000e+04  \n",
       "2450      NaN  неизвестно  1.825100e+05  \n",
       "2816      NaN  неизвестно  1.101181e+07  \n",
       "2998      NaN  неизвестно  6.588700e+05  \n",
       "3060      NaN  неизвестно  8.781000e+04  \n",
       "3384      NaN  неизвестно  1.133241e+07  \n",
       "3388      NaN  неизвестно  5.503875e+06  \n",
       "3613      NaN  неизвестно  1.067649e+06  \n",
       "3654      NaN  неизвестно  9.565000e+04  \n",
       "5707      NaN  неизвестно  1.445732e+09  \n",
       "6244      NaN  неизвестно  1.215774e+06  \n",
       "6322      NaN  неизвестно  1.334699e+06  \n",
       "6909      NaN  неизвестно  7.585000e+04  \n",
       "7208      NaN  неизвестно  3.402054e+06  \n",
       "7343      NaN  неизвестно           NaN  "
      ]
     },
     "execution_count": 19,
     "metadata": {},
     "output_type": "execute_result"
    }
   ],
   "source": [
    "#выводим для анализа строки, где ненулевая гос.поддержка и имеются пропущенные значения в столбце ratings\n",
    "data.loc[((data['refundable_support'] > 0) | (data['nonrefundable_support'] > 0)) & (data['ratings'].isna())]"
   ]
  },
  {
   "cell_type": "code",
   "execution_count": 20,
   "metadata": {},
   "outputs": [
    {
     "data": {
      "text/plain": [
       "title                       0\n",
       "puNumber                    0\n",
       "show_start_date             0\n",
       "type                        0\n",
       "film_studio                18\n",
       "production_country          2\n",
       "director                    0\n",
       "producer                  568\n",
       "age_restriction             0\n",
       "refundable_support       7153\n",
       "nonrefundable_support    7153\n",
       "budget                   7153\n",
       "financing_source         7153\n",
       "ratings                   966\n",
       "genres                      0\n",
       "box_office               4327\n",
       "dtype: int64"
      ]
     },
     "execution_count": 20,
     "metadata": {},
     "output_type": "execute_result"
    }
   ],
   "source": [
    "data.isna().sum() #проверка результатов - считаем количество пропусков в столбцах датафрейма"
   ]
  },
  {
   "cell_type": "markdown",
   "metadata": {},
   "source": [
    "**Выводы по пункту 2.2.:**\n",
    "\n",
    "В результате предварительной оценки по объему работ исследовательского анализа в категориальных переменных заполнили пропуски только в столбцах director и genres на фразу \"неизвестно\", так как пропуски не дадут возможность добавить новые столбцы с основным жанром фильма и главным режиссером. Остальные столбцы с пропусками в категориальных переменных не повлияют на дальнейший анализ, поэтому оставили их незаполненными.\n",
    "\n",
    "Что касается пропусков в количественных переменных, то проанализировав, пришла к выводу, что пропуски в столбцах refundable_support, nonrefundable_support, budget связаны с тем, что по этим фильмам нет информации о гос.поддержке и бюджете, а основной исследовательский анализ мы проводим только по строкам с наличием гос.поддержки, поэтому смысла в заполнении пропусков в этих столбцах нет.\n",
    "Аналогично, нет смысла заполнять пропуски в столбце box_office, так как пропуски образовались в результате объединения датафреймов. Соответственно, у этих фильмов, по которым образовался Nan, не было информации о кассовых сборах.\n",
    "Что касается столбца ratings, то строк с гос.поддержкой(которые нужны для анализа) и одновременным наличием пропусков в столбце ratings, всего 16 шт., что по отношению к общему количеству строк с гос.поддержкой (определяем в пункте 1.4.) составляет всего 4,8%. Эти строки убираем из датафрейма в пункте 1.4. перед работой со столбцом ratings."
   ]
  },
  {
   "cell_type": "markdown",
   "metadata": {
    "id": "4c6k1t9ygFyQ"
   },
   "source": [
    "### Изучение дубликатов в датафрейме\n"
   ]
  },
  {
   "cell_type": "code",
   "execution_count": 21,
   "metadata": {},
   "outputs": [
    {
     "name": "stdout",
     "output_type": "stream",
     "text": [
      "Количество дубликатов: 0\n"
     ]
    }
   ],
   "source": [
    "print('Количество дубликатов:', data.duplicated().sum())#считаем количество дубликатов в столбцах датафрейма\n"
   ]
  },
  {
   "cell_type": "code",
   "execution_count": 22,
   "metadata": {},
   "outputs": [
    {
     "data": {
      "text/plain": [
       "День святого Валентина_                               5\n",
       "Белоснежка и охотник                                  4\n",
       "Красавчик-2                                           4\n",
       "Рапунцель: Запутанная история                         4\n",
       "Кошмар на улице Вязов /Фильм ужасов/                  4\n",
       "                                                     ..\n",
       "Достали!                                              1\n",
       "МУЛЬТ в кино. Выпуск № 14                             1\n",
       "Стажёр                                                1\n",
       "Мэхэббэт - ул йорэк эше (Любовь - это дело сердца)    1\n",
       "Машины песенки. Серия \"Когда цветут кактусы\"          1\n",
       "Name: title, Length: 6771, dtype: int64"
      ]
     },
     "execution_count": 22,
     "metadata": {},
     "output_type": "execute_result"
    }
   ],
   "source": [
    "data['title'].value_counts()#выводим уникальные значения столбца title"
   ]
  },
  {
   "cell_type": "code",
   "execution_count": 23,
   "metadata": {},
   "outputs": [
    {
     "data": {
      "text/plain": [
       "221054410    2\n",
       "221154310    2\n",
       "221048915    1\n",
       "121004611    1\n",
       "121014411    1\n",
       "            ..\n",
       "121008915    1\n",
       "121009015    1\n",
       "111004115    1\n",
       "211047015    1\n",
       "124010719    1\n",
       "Name: puNumber, Length: 7483, dtype: int64"
      ]
     },
     "execution_count": 23,
     "metadata": {},
     "output_type": "execute_result"
    }
   ],
   "source": [
    "data['puNumber'].value_counts()#выводим уникальные значения столбца puNumber"
   ]
  },
  {
   "cell_type": "markdown",
   "metadata": {},
   "source": [
    "В результате предобработки данных было выявлено, что строк-дубликатов в датафрейме нет. Что касается неявных дубликатов, то в столбце title повторяются фильмы, но прокатные удостоверения у них разные, что говорит о том, что фильм или его римейк выходил в прокат несколько раз. В столбце puNumber повторяются номера прокатных удостоверений (221054410 и 221154310), но фильмы разные. Это, вероятнее всего, ошибка, но, поскольку в наш основной анализ эти фильмы не войдут в связи с отсутствием гос.поддержки, то эти дубликаты оставим, как есть."
   ]
  },
  {
   "cell_type": "markdown",
   "metadata": {
    "id": "52fOPrEBgFyQ"
   },
   "source": [
    "### Изучение категориальных значений\n",
    "\n"
   ]
  },
  {
   "cell_type": "code",
   "execution_count": 61,
   "metadata": {},
   "outputs": [
    {
     "data": {
      "text/plain": [
       "array(['Анимационный', 'Документальный', 'Музыкально-развлекательный',\n",
       "       'Научно-популярный', 'Прочие', 'Художественный'], dtype=object)"
      ]
     },
     "execution_count": 61,
     "metadata": {},
     "output_type": "execute_result"
    }
   ],
   "source": [
    "data['type'].sort_values().unique() #выводим на экран отсортированные уникальные значения столбца type"
   ]
  },
  {
   "cell_type": "code",
   "execution_count": 25,
   "metadata": {
    "id": "PnXKIVdFgFyR"
   },
   "outputs": [],
   "source": [
    "data['type'] = data['type'].str.strip() #удаляем все пробелы, которые встречаются в начале строк в столбце type "
   ]
  },
  {
   "cell_type": "code",
   "execution_count": 26,
   "metadata": {},
   "outputs": [
    {
     "data": {
      "text/plain": [
       "array(['Анимационный', 'Документальный', 'Музыкально-развлекательный',\n",
       "       'Научно-популярный', 'Прочие', 'Художественный'], dtype=object)"
      ]
     },
     "execution_count": 26,
     "metadata": {},
     "output_type": "execute_result"
    }
   ],
   "source": [
    "data['type'].sort_values().unique() #проверка результатов - выводим на экран отсортированные уникальные значения столбца type\n"
   ]
  },
  {
   "cell_type": "code",
   "execution_count": 27,
   "metadata": {},
   "outputs": [
    {
     "data": {
      "text/plain": [
       "array([' Я ПРЕПОД', '\"SOS\" над тайгой', '\"V\" значит вендетта', ...,\n",
       "       'Ярость / Fury',\n",
       "       'альманах документальных фильмов \"Вокзалы России: История, Любовь и Великие тайны…\" Фильм первый \"ВОКЗАЛЫ РОССИИ СВЯЗЬ ВРЕМЕН\"',\n",
       "       'сНежное шоу'], dtype=object)"
      ]
     },
     "execution_count": 27,
     "metadata": {},
     "output_type": "execute_result"
    }
   ],
   "source": [
    "data['title'].sort_values().unique() #выводим на экран отсортированные уникальные значения столбца title"
   ]
  },
  {
   "cell_type": "code",
   "execution_count": 28,
   "metadata": {},
   "outputs": [
    {
     "data": {
      "text/plain": [
       "array(['аниме,мультфильм', 'аниме,мультфильм,боевик',\n",
       "       'аниме,мультфильм,детектив', 'аниме,мультфильм,драма',\n",
       "       'аниме,мультфильм,комедия', 'аниме,мультфильм,короткометражка',\n",
       "       'аниме,мультфильм,мелодрама', 'аниме,мультфильм,приключения',\n",
       "       'аниме,мультфильм,ужасы', 'аниме,мультфильм,фантастика',\n",
       "       'аниме,мультфильм,фэнтези', 'биография', 'биография,военный,драма',\n",
       "       'биография,документальный', 'биография,драма',\n",
       "       'биография,драма,военный', 'биография,драма,история',\n",
       "       'биография,драма,криминал', 'биография,история',\n",
       "       'биография,история,драма', 'биография,криминал,драма',\n",
       "       'биография,криминал,триллер', 'биография,мелодрама,драма',\n",
       "       'биография,музыка,драма', 'биография,музыка,мюзикл',\n",
       "       'биография,спорт,драма', 'биография,спорт,история',\n",
       "       'биография,спорт,комедия', 'боевик', 'боевик,вестерн,приключения',\n",
       "       'боевик,военный', 'боевик,военный,драма', 'боевик,военный,история',\n",
       "       'боевик,детектив', 'боевик,драма', 'боевик,драма,биография',\n",
       "       'боевик,драма,вестерн', 'боевик,драма,военный',\n",
       "       'боевик,драма,история', 'боевик,драма,комедия',\n",
       "       'боевик,драма,криминал', 'боевик,драма,мелодрама',\n",
       "       'боевик,драма,приключения', 'боевик,драма,триллер',\n",
       "       'боевик,история', 'боевик,история,драма', 'боевик,комедия',\n",
       "       'боевик,комедия,криминал', 'боевик,комедия,приключения',\n",
       "       'боевик,комедия,семейный', 'боевик,криминал',\n",
       "       'боевик,криминал,детектив', 'боевик,криминал,драма',\n",
       "       'боевик,криминал,триллер', 'боевик,мелодрама',\n",
       "       'боевик,мелодрама,комедия', 'боевик,приключения',\n",
       "       'боевик,приключения,детектив', 'боевик,приключения,история',\n",
       "       'боевик,приключения,семейный', 'боевик,приключения,триллер',\n",
       "       'боевик,спорт,драма', 'боевик,триллер', 'боевик,триллер,детектив',\n",
       "       'боевик,триллер,драма', 'боевик,триллер,комедия',\n",
       "       'боевик,триллер,криминал', 'боевик,триллер,мелодрама',\n",
       "       'боевик,триллер,приключения', 'боевик,триллер,фэнтези',\n",
       "       'боевик,фантастика', 'боевик,фантастика,приключения',\n",
       "       'боевик,фантастика,триллер', 'боевик,фэнтези',\n",
       "       'боевик,фэнтези,драма', 'вестерн,биография,драма',\n",
       "       'вестерн,боевик,драма', 'вестерн,драма,триллер',\n",
       "       'вестерн,криминал,триллер', 'вестерн,приключения,боевик',\n",
       "       'военный', 'военный,биография,драма', 'военный,боевик,драма',\n",
       "       'военный,боевик,история', 'военный,детектив', 'военный,драма',\n",
       "       'военный,драма,боевик', 'военный,драма,история',\n",
       "       'военный,драма,комедия', 'военный,история',\n",
       "       'военный,история,драма', 'военный,приключения,драма', 'детектив',\n",
       "       'детектив,боевик,история', 'детектив,драма,криминал',\n",
       "       'детектив,драма,триллер', 'детектив,история,драма',\n",
       "       'детектив,комедия', 'детектив,комедия,драма', 'детектив,криминал',\n",
       "       'детектив,криминал,боевик', 'детектив,криминал,драма',\n",
       "       'детектив,криминал,триллер', 'детектив,мелодрама',\n",
       "       'детектив,мелодрама,фэнтези', 'детектив,приключения,драма',\n",
       "       'детектив,приключения,триллер', 'детектив,триллер',\n",
       "       'детектив,триллер,боевик', 'детектив,триллер,драма',\n",
       "       'детектив,триллер,криминал', 'детектив,триллер,ужасы',\n",
       "       'детектив,ужасы,криминал', 'детектив,фантастика,криминал',\n",
       "       'детектив,фантастика,триллер', 'детектив,фильм-нуар,комедия',\n",
       "       'детектив,фэнтези,триллер', 'детский', 'детский,комедия',\n",
       "       'детский,мелодрама,семейный', 'детский,мультфильм,приключения',\n",
       "       'детский,приключения,комедия', 'детский,приключения,семейный',\n",
       "       'детский,приключения,фантастика', 'детский,семейный',\n",
       "       'детский,фэнтези', 'детский,фэнтези,приключения',\n",
       "       'для взрослых,драма,комедия', 'для взрослых,драма,мелодрама',\n",
       "       'документальный', 'документальный,биография',\n",
       "       'документальный,биография,история',\n",
       "       'документальный,биография,музыка',\n",
       "       'документальный,биография,спорт',\n",
       "       'документальный,боевик,приключения',\n",
       "       'документальный,военный,драма', 'документальный,военный,история',\n",
       "       'документальный,драма', 'документальный,драма,биография',\n",
       "       'документальный,драма,история', 'документальный,драма,комедия',\n",
       "       'документальный,драма,музыка', 'документальный,драма,семейный',\n",
       "       'документальный,история', 'документальный,комедия',\n",
       "       'документальный,комедия,история',\n",
       "       'документальный,комедия,криминал',\n",
       "       'документальный,короткометражка',\n",
       "       'документальный,короткометражка,семейный',\n",
       "       'документальный,криминал,военный', 'документальный,музыка',\n",
       "       'документальный,музыка,биография', 'документальный,музыка,концерт',\n",
       "       'документальный,мюзикл', 'документальный,новости,драма',\n",
       "       'документальный,приключения',\n",
       "       'документальный,приключения,семейный', 'документальный,семейный',\n",
       "       'документальный,семейный,музыка', 'документальный,спорт',\n",
       "       'документальный,спорт,биография',\n",
       "       'документальный,триллер,биография', 'документальный,ужасы',\n",
       "       'документальный,ужасы,боевик', 'документальный,фантастика',\n",
       "       'документальный,фэнтези', 'документальный,фэнтези,драма',\n",
       "       'документальный,фэнтези,семейный', 'драма', 'драма,биография',\n",
       "       'драма,биография,история', 'драма,биография,комедия',\n",
       "       'драма,биография,музыка', 'драма,биография,мюзикл',\n",
       "       'драма,биография,спорт', 'драма,боевик', 'драма,боевик,история',\n",
       "       'драма,боевик,криминал', 'драма,боевик,приключения',\n",
       "       'драма,вестерн', 'драма,вестерн,боевик',\n",
       "       'драма,вестерн,приключения', 'драма,военный',\n",
       "       'драма,военный,биография', 'драма,военный,боевик',\n",
       "       'драма,военный,история', 'драма,военный,приключения',\n",
       "       'драма,военный,триллер', 'драма,детектив',\n",
       "       'драма,детектив,история', 'драма,детектив,криминал',\n",
       "       'драма,детектив,приключения', 'драма,история',\n",
       "       'драма,история,биография', 'драма,история,военный',\n",
       "       'драма,история,детектив', 'драма,история,музыка',\n",
       "       'драма,история,триллер', 'драма,комедия',\n",
       "       'драма,комедия,биография', 'драма,комедия,вестерн',\n",
       "       'драма,комедия,военный', 'драма,комедия,детектив',\n",
       "       'драма,комедия,история', 'драма,комедия,криминал',\n",
       "       'драма,комедия,мелодрама', 'драма,комедия,музыка',\n",
       "       'драма,комедия,мультфильм', 'драма,комедия,приключения',\n",
       "       'драма,комедия,семейный', 'драма,комедия,спорт',\n",
       "       'драма,комедия,триллер', 'драма,комедия,ужасы',\n",
       "       'драма,комедия,фантастика', 'драма,криминал',\n",
       "       'драма,криминал,биография', 'драма,криминал,боевик',\n",
       "       'драма,криминал,вестерн', 'драма,криминал,детектив',\n",
       "       'драма,криминал,история', 'драма,криминал,приключения',\n",
       "       'драма,криминал,семейный', 'драма,криминал,спорт',\n",
       "       'драма,криминал,фантастика', 'драма,криминал,фильм-нуар',\n",
       "       'драма,мелодрама', 'драма,мелодрама,биография',\n",
       "       'драма,мелодрама,военный', 'драма,мелодрама,детектив',\n",
       "       'драма,мелодрама,история', 'драма,мелодрама,комедия',\n",
       "       'драма,мелодрама,криминал', 'драма,мелодрама,музыка',\n",
       "       'драма,мелодрама,приключения', 'драма,мелодрама,семейный',\n",
       "       'драма,мелодрама,триллер', 'драма,мелодрама,фэнтези',\n",
       "       'драма,музыка', 'драма,мультфильм', 'драма,приключения',\n",
       "       'драма,приключения,биография', 'драма,приключения,военный',\n",
       "       'драма,приключения,история', 'драма,приключения,мелодрама',\n",
       "       'драма,приключения,семейный', 'драма,приключения,триллер',\n",
       "       'драма,приключения,фэнтези', 'драма,семейный',\n",
       "       'драма,семейный,биография', 'драма,семейный,комедия',\n",
       "       'драма,спорт', 'драма,спорт,биография', 'драма,спорт,боевик',\n",
       "       'драма,спорт,история', 'драма,спорт,комедия',\n",
       "       'драма,спорт,семейный', 'драма,триллер', 'драма,триллер,биография',\n",
       "       'драма,триллер,детектив', 'драма,триллер,криминал',\n",
       "       'драма,триллер,приключения', 'драма,ужасы', 'драма,фантастика',\n",
       "       'драма,фантастика,триллер', 'драма,фантастика,ужасы',\n",
       "       'драма,фэнтези', 'драма,фэнтези,история', 'история',\n",
       "       'история,биография,военный', 'история,биография,драма',\n",
       "       'история,боевик,фэнтези', 'история,детектив', 'история,драма',\n",
       "       'история,драма,боевик', 'история,драма,мелодрама',\n",
       "       'история,криминал', 'история,мелодрама', 'история,приключения',\n",
       "       'история,спорт,драма', 'комедия', 'комедия,биография',\n",
       "       'комедия,биография,история', 'комедия,боевик,криминал',\n",
       "       'комедия,боевик,приключения', 'комедия,боевик,фантастика',\n",
       "       'комедия,вестерн', 'комедия,военный', 'комедия,военный,музыка',\n",
       "       'комедия,детектив', 'комедия,детектив,приключения',\n",
       "       'комедия,драма', 'комедия,драма,биография',\n",
       "       'комедия,драма,военный', 'комедия,драма,короткометражка',\n",
       "       'комедия,драма,криминал', 'комедия,драма,мелодрама',\n",
       "       'комедия,драма,семейный', 'комедия,история',\n",
       "       'комедия,история,драма', 'комедия,криминал',\n",
       "       'комедия,криминал,биография', 'комедия,криминал,боевик',\n",
       "       'комедия,криминал,детектив', 'комедия,криминал,драма',\n",
       "       'комедия,криминал,история', 'комедия,криминал,приключения',\n",
       "       'комедия,криминал,семейный', 'комедия,криминал,спорт',\n",
       "       'комедия,криминал,триллер', 'комедия,мелодрама',\n",
       "       'комедия,мелодрама,драма', 'комедия,мелодрама,криминал',\n",
       "       'комедия,мелодрама,фантастика', 'комедия,мелодрама,фэнтези',\n",
       "       'комедия,музыка', 'комедия,музыка,драма',\n",
       "       'комедия,мультфильм,фантастика', 'комедия,приключения',\n",
       "       'комедия,приключения,вестерн', 'комедия,приключения,детектив',\n",
       "       'комедия,приключения,история', 'комедия,приключения,криминал',\n",
       "       'комедия,приключения,мелодрама', 'комедия,приключения,музыка',\n",
       "       'комедия,приключения,семейный', 'комедия,приключения,спорт',\n",
       "       'комедия,приключения,фэнтези', 'комедия,семейный',\n",
       "       'комедия,семейный,музыка', 'комедия,семейный,приключения',\n",
       "       'комедия,семейный,фантастика', 'комедия,семейный,фэнтези',\n",
       "       'комедия,спорт', 'комедия,триллер', 'комедия,триллер,драма',\n",
       "       'комедия,ужасы', 'комедия,фантастика', 'комедия,фантастика,боевик',\n",
       "       'комедия,фантастика,мелодрама', 'комедия,фэнтези',\n",
       "       'комедия,фэнтези,криминал', 'комедия,фэнтези,мелодрама',\n",
       "       'комедия,фэнтези,приключения', 'комедия,фэнтези,ужасы',\n",
       "       'концерт,музыка', 'концерт,музыка,документальный',\n",
       "       'короткометражка', 'короткометражка,биография',\n",
       "       'короткометражка,боевик,драма', 'короткометражка,драма',\n",
       "       'короткометражка,драма,военный', 'короткометражка,драма,триллер',\n",
       "       'короткометражка,комедия,криминал', 'короткометражка,мелодрама',\n",
       "       'короткометражка,музыка', 'короткометражка,мультфильм',\n",
       "       'короткометражка,фантастика', 'криминал',\n",
       "       'криминал,биография,комедия', 'криминал,боевик',\n",
       "       'криминал,боевик,комедия', 'криминал,боевик,триллер',\n",
       "       'криминал,детектив', 'криминал,детектив,приключения',\n",
       "       'криминал,драма', 'криминал,драма,комедия',\n",
       "       'криминал,драма,триллер', 'криминал,комедия',\n",
       "       'криминал,комедия,боевик', 'криминал,комедия,драма',\n",
       "       'криминал,комедия,триллер', 'криминал,мелодрама',\n",
       "       'криминал,триллер,драма', 'мелодрама', 'мелодрама,биография',\n",
       "       'мелодрама,военный,драма', 'мелодрама,детектив',\n",
       "       'мелодрама,детектив,комедия', 'мелодрама,драма',\n",
       "       'мелодрама,драма,боевик', 'мелодрама,драма,комедия',\n",
       "       'мелодрама,драма,музыка', 'мелодрама,драма,фэнтези',\n",
       "       'мелодрама,история', 'мелодрама,история,драма',\n",
       "       'мелодрама,история,триллер', 'мелодрама,комедия',\n",
       "       'мелодрама,комедия,драма', 'мелодрама,комедия,криминал',\n",
       "       'мелодрама,комедия,музыка', 'мелодрама,комедия,приключения',\n",
       "       'мелодрама,комедия,семейный', 'мелодрама,комедия,спорт',\n",
       "       'мелодрама,комедия,триллер', 'мелодрама,комедия,ужасы',\n",
       "       'мелодрама,криминал', 'мелодрама,музыка', 'мелодрама,музыка,драма',\n",
       "       'мелодрама,приключения', 'мелодрама,приключения,боевик',\n",
       "       'мелодрама,семейный', 'мелодрама,семейный,приключения',\n",
       "       'мелодрама,триллер,история', 'мелодрама,фантастика,драма',\n",
       "       'мелодрама,фэнтези,триллер', 'музыка,концерт',\n",
       "       'музыка,концерт,документальный', 'музыка,мелодрама,фэнтези',\n",
       "       'музыка,приключения,концерт', 'мультфильм',\n",
       "       'мультфильм,биография,драма', 'мультфильм,боевик,детектив',\n",
       "       'мультфильм,боевик,комедия', 'мультфильм,боевик,приключения',\n",
       "       'мультфильм,боевик,триллер', 'мультфильм,детский',\n",
       "       'мультфильм,детский,комедия', 'мультфильм,детский,приключения',\n",
       "       'мультфильм,детский,семейный', 'мультфильм,драма',\n",
       "       'мультфильм,драма,комедия', 'мультфильм,драма,приключения',\n",
       "       'мультфильм,история', 'мультфильм,комедия',\n",
       "       'мультфильм,комедия,детский', 'мультфильм,комедия,криминал',\n",
       "       'мультфильм,комедия,приключения', 'мультфильм,комедия,семейный',\n",
       "       'мультфильм,комедия,фантастика', 'мультфильм,короткометражка',\n",
       "       'мультфильм,короткометражка,детский',\n",
       "       'мультфильм,короткометражка,комедия',\n",
       "       'мультфильм,короткометражка,мелодрама',\n",
       "       'мультфильм,короткометражка,мюзикл',\n",
       "       'мультфильм,короткометражка,ужасы',\n",
       "       'мультфильм,короткометражка,фэнтези', 'мультфильм,мелодрама,драма',\n",
       "       'мультфильм,мелодрама,комедия', 'мультфильм,мелодрама,приключения',\n",
       "       'мультфильм,мюзикл,детский', 'мультфильм,мюзикл,драма',\n",
       "       'мультфильм,мюзикл,комедия', 'мультфильм,мюзикл,мелодрама',\n",
       "       'мультфильм,мюзикл,фэнтези', 'мультфильм,приключения',\n",
       "       'мультфильм,приключения,военный',\n",
       "       'мультфильм,приключения,детектив',\n",
       "       'мультфильм,приключения,детский', 'мультфильм,приключения,драма',\n",
       "       'мультфильм,приключения,комедия',\n",
       "       'мультфильм,приключения,семейный',\n",
       "       'мультфильм,приключения,фантастика',\n",
       "       'мультфильм,приключения,фэнтези', 'мультфильм,семейный',\n",
       "       'мультфильм,семейный,детский', 'мультфильм,семейный,драма',\n",
       "       'мультфильм,семейный,комедия', 'мультфильм,семейный,спорт',\n",
       "       'мультфильм,семейный,фэнтези', 'мультфильм,ужасы,комедия',\n",
       "       'мультфильм,ужасы,фантастика', 'мультфильм,ужасы,фэнтези',\n",
       "       'мультфильм,фантастика,боевик', 'мультфильм,фантастика,комедия',\n",
       "       'мультфильм,фантастика,приключения',\n",
       "       'мультфильм,фантастика,фэнтези', 'мультфильм,фэнтези',\n",
       "       'мультфильм,фэнтези,боевик', 'мультфильм,фэнтези,детский',\n",
       "       'мультфильм,фэнтези,драма', 'мультфильм,фэнтези,история',\n",
       "       'мультфильм,фэнтези,комедия', 'мультфильм,фэнтези,мелодрама',\n",
       "       'мультфильм,фэнтези,приключения', 'мультфильм,фэнтези,семейный',\n",
       "       'мультфильм,фэнтези,триллер', 'мюзикл', 'мюзикл,боевик,драма',\n",
       "       'мюзикл,драма', 'мюзикл,драма,мелодрама', 'мюзикл,комедия',\n",
       "       'мюзикл,комедия,детский', 'мюзикл,комедия,мелодрама',\n",
       "       'мюзикл,комедия,музыка', 'мюзикл,комедия,приключения',\n",
       "       'мюзикл,мелодрама', 'мюзикл,мелодрама,комедия',\n",
       "       'мюзикл,мелодрама,фэнтези', 'мюзикл,семейный',\n",
       "       'мюзикл,семейный,драма', 'мюзикл,ужасы,триллер',\n",
       "       'мюзикл,фэнтези,драма', 'мюзикл,фэнтези,комедия',\n",
       "       'мюзикл,фэнтези,мелодрама', 'мюзикл,фэнтези,семейный',\n",
       "       'неизвестно', 'приключения', 'приключения,биография,драма',\n",
       "       'приключения,биография,история', 'приключения,боевик',\n",
       "       'приключения,боевик,триллер', 'приключения,вестерн,боевик',\n",
       "       'приключения,военный', 'приключения,детектив,мелодрама',\n",
       "       'приключения,детектив,семейный', 'приключения,детский',\n",
       "       'приключения,детский,комедия', 'приключения,драма',\n",
       "       'приключения,драма,фантастика', 'приключения,история',\n",
       "       'приключения,история,военный', 'приключения,история,драма',\n",
       "       'приключения,комедия,фэнтези', 'приключения,мелодрама,детектив',\n",
       "       'приключения,семейный', 'приключения,семейный,драма',\n",
       "       'приключения,триллер', 'приключения,триллер,биография',\n",
       "       'приключения,фантастика', 'приключения,фантастика,драма',\n",
       "       'приключения,фантастика,семейный', 'приключения,фэнтези',\n",
       "       'приключения,фэнтези,семейный', 'реальное ТВ', 'семейный',\n",
       "       'семейный,детектив,детский', 'семейный,документальный',\n",
       "       'семейный,комедия', 'семейный,комедия,драма',\n",
       "       'семейный,комедия,музыка', 'семейный,мелодрама',\n",
       "       'семейный,мультфильм,комедия', 'семейный,приключения',\n",
       "       'семейный,приключения,военный',\n",
       "       'семейный,приключения,документальный',\n",
       "       'семейный,приключения,комедия', 'семейный,спорт,боевик',\n",
       "       'семейный,фэнтези', 'семейный,фэнтези,комедия', 'спорт,драма',\n",
       "       'спорт,драма,биография', 'спорт,драма,комедия',\n",
       "       'спорт,мелодрама,криминал', 'триллер', 'триллер,биография,драма',\n",
       "       'триллер,боевик', 'триллер,боевик,криминал',\n",
       "       'триллер,боевик,приключения', 'триллер,военный',\n",
       "       'триллер,детектив', 'триллер,детектив,драма',\n",
       "       'триллер,детектив,криминал', 'триллер,детектив,ужасы',\n",
       "       'триллер,драма', 'триллер,драма,биография', 'триллер,драма,боевик',\n",
       "       'триллер,драма,военный', 'триллер,драма,детектив',\n",
       "       'триллер,драма,история', 'триллер,драма,комедия',\n",
       "       'триллер,драма,криминал', 'триллер,драма,мелодрама',\n",
       "       'триллер,драма,приключения', 'триллер,драма,ужасы',\n",
       "       'триллер,драма,фантастика', 'триллер,комедия',\n",
       "       'триллер,комедия,криминал', 'триллер,комедия,ужасы',\n",
       "       'триллер,криминал', 'триллер,криминал,боевик',\n",
       "       'триллер,криминал,детектив', 'триллер,криминал,драма',\n",
       "       'триллер,криминал,комедия', 'триллер,криминал,приключения',\n",
       "       'триллер,мелодрама', 'триллер,мелодрама,детектив',\n",
       "       'триллер,мелодрама,драма', 'триллер,мелодрама,комедия',\n",
       "       'триллер,мелодрама,криминал', 'триллер,приключения',\n",
       "       'триллер,приключения,драма', 'триллер,ужасы',\n",
       "       'триллер,ужасы,детектив', 'триллер,ужасы,драма',\n",
       "       'триллер,ужасы,криминал', 'триллер,ужасы,мелодрама',\n",
       "       'триллер,фантастика,боевик', 'триллер,фантастика,драма',\n",
       "       'триллер,фэнтези', 'триллер,фэнтези,драма', 'ужасы',\n",
       "       'ужасы,боевик', 'ужасы,боевик,комедия', 'ужасы,боевик,криминал',\n",
       "       'ужасы,боевик,триллер', 'ужасы,боевик,фантастика',\n",
       "       'ужасы,боевик,фэнтези', 'ужасы,детектив', 'ужасы,драма',\n",
       "       'ужасы,драма,вестерн', 'ужасы,драма,военный',\n",
       "       'ужасы,драма,детектив', 'ужасы,драма,комедия',\n",
       "       'ужасы,драма,мелодрама', 'ужасы,драма,триллер', 'ужасы,комедия',\n",
       "       'ужасы,комедия,боевик', 'ужасы,комедия,детектив',\n",
       "       'ужасы,комедия,драма', 'ужасы,комедия,криминал',\n",
       "       'ужасы,комедия,музыка', 'ужасы,комедия,приключения',\n",
       "       'ужасы,комедия,семейный', 'ужасы,комедия,фантастика',\n",
       "       'ужасы,комедия,фэнтези', 'ужасы,мелодрама,детектив',\n",
       "       'ужасы,мелодрама,комедия', 'ужасы,приключения', 'ужасы,триллер',\n",
       "       'ужасы,триллер,детектив', 'ужасы,триллер,драма',\n",
       "       'ужасы,триллер,комедия', 'ужасы,триллер,криминал',\n",
       "       'ужасы,триллер,мелодрама', 'ужасы,триллер,приключения',\n",
       "       'ужасы,триллер,фантастика', 'ужасы,фантастика',\n",
       "       'ужасы,фантастика,боевик', 'ужасы,фантастика,детектив',\n",
       "       'ужасы,фантастика,драма', 'ужасы,фантастика,комедия',\n",
       "       'ужасы,фантастика,мелодрама', 'ужасы,фантастика,триллер',\n",
       "       'ужасы,фантастика,фэнтези', 'ужасы,фэнтези',\n",
       "       'ужасы,фэнтези,боевик', 'ужасы,фэнтези,детектив',\n",
       "       'ужасы,фэнтези,драма', 'ужасы,фэнтези,комедия',\n",
       "       'ужасы,фэнтези,мелодрама', 'ужасы,фэнтези,приключения',\n",
       "       'ужасы,фэнтези,триллер', 'фантастика', 'фантастика,боевик',\n",
       "       'фантастика,боевик,военный', 'фантастика,боевик,детектив',\n",
       "       'фантастика,боевик,драма', 'фантастика,боевик,комедия',\n",
       "       'фантастика,боевик,криминал', 'фантастика,боевик,мелодрама',\n",
       "       'фантастика,боевик,приключения', 'фантастика,боевик,семейный',\n",
       "       'фантастика,боевик,триллер', 'фантастика,боевик,ужасы',\n",
       "       'фантастика,боевик,фэнтези', 'фантастика,детектив,боевик',\n",
       "       'фантастика,детектив,фэнтези', 'фантастика,драма',\n",
       "       'фантастика,драма,боевик', 'фантастика,драма,детектив',\n",
       "       'фантастика,драма,комедия', 'фантастика,драма,криминал',\n",
       "       'фантастика,драма,мелодрама', 'фантастика,драма,приключения',\n",
       "       'фантастика,драма,триллер', 'фантастика,драма,ужасы',\n",
       "       'фантастика,комедия', 'фантастика,комедия,боевик',\n",
       "       'фантастика,комедия,детектив', 'фантастика,комедия,приключения',\n",
       "       'фантастика,комедия,семейный', 'фантастика,мелодрама',\n",
       "       'фантастика,мелодрама,боевик', 'фантастика,мелодрама,комедия',\n",
       "       'фантастика,мелодрама,фэнтези', 'фантастика,мультфильм,драма',\n",
       "       'фантастика,приключения', 'фантастика,приключения,боевик',\n",
       "       'фантастика,приключения,военный',\n",
       "       'фантастика,приключения,детектив', 'фантастика,приключения,драма',\n",
       "       'фантастика,приключения,семейный', 'фантастика,триллер',\n",
       "       'фантастика,триллер,боевик', 'фантастика,триллер,детектив',\n",
       "       'фантастика,триллер,драма', 'фантастика,триллер,комедия',\n",
       "       'фантастика,триллер,криминал', 'фантастика,триллер,мелодрама',\n",
       "       'фантастика,триллер,приключения', 'фантастика,фэнтези,боевик',\n",
       "       'фантастика,фэнтези,детектив', 'фантастика,фэнтези,драма',\n",
       "       'фантастика,фэнтези,комедия', 'фантастика,фэнтези,приключения',\n",
       "       'фантастика,фэнтези,триллер', 'фильм-нуар,триллер,детектив',\n",
       "       'фэнтези', 'фэнтези,боевик', 'фэнтези,боевик,вестерн',\n",
       "       'фэнтези,боевик,военный', 'фэнтези,боевик,детектив',\n",
       "       'фэнтези,боевик,драма', 'фэнтези,боевик,комедия',\n",
       "       'фэнтези,боевик,криминал', 'фэнтези,боевик,мелодрама',\n",
       "       'фэнтези,боевик,приключения', 'фэнтези,боевик,семейный',\n",
       "       'фэнтези,боевик,триллер', 'фэнтези,боевик,ужасы', 'фэнтези,драма',\n",
       "       'фэнтези,драма,биография', 'фэнтези,драма,детектив',\n",
       "       'фэнтези,драма,комедия', 'фэнтези,драма,мелодрама',\n",
       "       'фэнтези,драма,приключения', 'фэнтези,драма,семейный',\n",
       "       'фэнтези,драма,ужасы', 'фэнтези,драма,фильм-нуар',\n",
       "       'фэнтези,комедия', 'фэнтези,комедия,детектив',\n",
       "       'фэнтези,комедия,драма', 'фэнтези,комедия,криминал',\n",
       "       'фэнтези,комедия,приключения', 'фэнтези,комедия,семейный',\n",
       "       'фэнтези,мелодрама', 'фэнтези,мелодрама,драма',\n",
       "       'фэнтези,мелодрама,комедия', 'фэнтези,мелодрама,приключения',\n",
       "       'фэнтези,приключения', 'фэнтези,приключения,боевик',\n",
       "       'фэнтези,приключения,драма', 'фэнтези,приключения,комедия',\n",
       "       'фэнтези,приключения,семейный', 'фэнтези,семейный',\n",
       "       'фэнтези,семейный,мелодрама', 'фэнтези,семейный,приключения',\n",
       "       'фэнтези,триллер,детектив', 'фэнтези,триллер,драма',\n",
       "       'фэнтези,триллер,мелодрама', 'фэнтези,триллер,приключения',\n",
       "       'фэнтези,ужасы', 'фэнтези,ужасы,триллер'], dtype=object)"
      ]
     },
     "execution_count": 28,
     "metadata": {},
     "output_type": "execute_result"
    }
   ],
   "source": [
    "data['genres'].sort_values().unique() #выводим на экран отсортированные уникальные значения столбца genres"
   ]
  },
  {
   "cell_type": "code",
   "execution_count": 29,
   "metadata": {},
   "outputs": [
    {
     "data": {
      "text/plain": [
       "array([' АНО \"Кинофорум\"',\n",
       "       ' Ауматик Интертейнмент, Блюмхаус Продакшнз и др.',\n",
       "       ' ЗАО \"Кинокомпания ФаворитФильм\" по заказу ООО \"ФАВОРИТ МЕДИА\"',\n",
       "       ...,\n",
       "       'совместное производство Киностудия \"Мосфильм\", \"Космос-филм\" (Франция), \"Посейдон Продакшинз Лимитед\" (Англия), \"ИКАИК\" (Куба), ДЕФА (ГДР)',\n",
       "       'юФилм, Твинпикс', nan], dtype=object)"
      ]
     },
     "execution_count": 29,
     "metadata": {},
     "output_type": "execute_result"
    }
   ],
   "source": [
    "data['film_studio'].sort_values().unique() #выводим на экран отсортированные уникальные значения столбца film_studio"
   ]
  },
  {
   "cell_type": "code",
   "execution_count": 30,
   "metadata": {},
   "outputs": [
    {
     "data": {
      "text/plain": [
       "array([' СССР', ' СССР ', ' СССР   ', '2019', 'CША', 'Австралия',\n",
       "       'Австралия - Великобритания - Бельгия - Индия',\n",
       "       'Австралия - Германия', 'Австралия - Ирландия',\n",
       "       'Австралия - Колумбия', 'Австралия - США', 'Австралия, Канада',\n",
       "       'Австралия, США', 'Австралия-Великобритания', 'Австралия-Ирландия',\n",
       "       'Австралия-США', 'Австралия-Турция-США', 'Австрия',\n",
       "       'Австрия - Германия', 'Австрия - Германия - Франция',\n",
       "       'Австрия - Люксембург', 'Австрия, Великобритания, Германия',\n",
       "       'Австрия-Германия-Франция', 'Австрия-Франция-Германия',\n",
       "       'Азербайджан-Россия', 'Аргентина', 'Аргентина - Бразилия',\n",
       "       'Аргентина - Испания', 'Аргентина - Испания - Уругвай',\n",
       "       'Аргентина - Мексика - Бразилия - Франция - США',\n",
       "       'Аргентина - Уругвай - Россия - Германия - Франция - Нидерланды',\n",
       "       'Аргентина - Франция - Испания', 'Аргентина, Испания',\n",
       "       'Аргентина-Испания', 'Армения', 'Армения - Германия',\n",
       "       'Армения - Казахстан', 'Армения-Россия', 'Бельгия',\n",
       "       'Бельгия - Германия - Люксембург',\n",
       "       'Бельгия - Германия - Люксембург - Франция',\n",
       "       'Бельгия - Испания - Канада - Нидерланды',\n",
       "       'Бельгия - Италия - Франция ', 'Бельгия - Люксембург',\n",
       "       'Бельгия - Люксембург - Франция - Швейцария',\n",
       "       'Бельгия - Нидерланды - Франция', 'Бельгия - США',\n",
       "       'Бельгия - Франция', 'Бельгия - Франция - Люксембург',\n",
       "       'Бельгия, Великобритания, США', 'Бельгия, Канада',\n",
       "       'Бельгия-Германия-Канада-Франция-США-Великобритания',\n",
       "       'Бельгия-Нидерланды', 'Бельгия-Франция', 'Бельгия-Франция-Италия',\n",
       "       'Болгария', 'Болгария - США', 'Болгария - Франция - Изриль',\n",
       "       'Босния и Герцеговина - Франция - Великобритания - Германия - Словения - Бельгия - Сербия',\n",
       "       'Бразилия', 'Бразилия - Германия - Порртугалия - Франция ',\n",
       "       'Бразилия - Испания', 'Бразилия - К;анада',\n",
       "       'Бразилия - Канада - США', 'Бразилия - Португалия - Франция',\n",
       "       'Бразилия - США', 'Бразилия - США - КНР ',\n",
       "       'Бразилия, Уругвай, Дания, Норвегия, Чили, Швеция',\n",
       "       'Великобритания', 'Великобритания ',\n",
       "       'Великобритания - Австралия - США',\n",
       "       'Великобритания - Австрия - Германия',\n",
       "       'Великобритания - Австрия - Франция - США',\n",
       "       'Великобритания - Аргентина - США - Франция - Россия - Испания',\n",
       "       'Великобритания - Германия',\n",
       "       'Великобритания - Германия - Нидерланды - Дания',\n",
       "       'Великобритания - Германия - США',\n",
       "       'Великобритания - Германия - Франция - Кипр - США',\n",
       "       'Великобритания - Гонконг - Венгрия - США - Ирландия',\n",
       "       'Великобритания - Дания', 'Великобритания - Израиль',\n",
       "       'Великобритания - Израиль - Франция - Япония - США',\n",
       "       'Великобритания - Ирландия', 'Великобритания - Ирландия - США',\n",
       "       'Великобритания - Ирландия - США ',\n",
       "       'Великобритания - Исландия - Испания - Швейцария - США',\n",
       "       'Великобритания - Испания', 'Великобритания - Испания - Германия',\n",
       "       'Великобритания - Испания - Италия - Латвия - Франция - Эстония',\n",
       "       'Великобритания - Испания - Непал - Индия - Венгрия - Гонконг - Германия - Дания - Бахрейн',\n",
       "       'Великобритания - Италия', 'Великобритания - Италия - Испания',\n",
       "       'Великобритания - Италия - Швейцария', 'Великобритания - КНР',\n",
       "       'Великобритания - Канада', 'Великобритания - Канада - США',\n",
       "       'Великобритания - Люксембург', 'Великобритания - Мексика - США',\n",
       "       'Великобритания - Нидерланды - Германия - Франция - Бельгия - Австрия ',\n",
       "       'Великобритания - Нидерланды - Франция - США',\n",
       "       'Великобритания - Нидерланды - Франция - Хорватия',\n",
       "       'Великобритания - Новая Зеландия',\n",
       "       'Великобритания - Норвегия - Дания - Германия',\n",
       "       'Великобритания - Норвегия - Кения - Хорватия',\n",
       "       'Великобритания - Польша',\n",
       "       'Великобритания - Польша - КНР - Индия - Норвегия',\n",
       "       'Великобритания - Пуэрто-Рико', 'Великобритания - Россия - КНР',\n",
       "       'Великобритания - Россия - Украина - США',\n",
       "       'Великобритания - Румыния', 'Великобритания - США',\n",
       "       'Великобритания - США - Австралия - Ирландия - Германия - Куба - Канада',\n",
       "       'Великобритания - США - Германия',\n",
       "       'Великобритания - США - Германия - Бельгия',\n",
       "       'Великобритания - США - Германия - Канада - Австралия',\n",
       "       'Великобритания - США - Индия', 'Великобритания - США - Канада',\n",
       "       'Великобритания - США - Канада - Бельгия - Нидерланды - Австрия - Германия',\n",
       "       'Великобритания - США - Канада - Нидерланды - Франция',\n",
       "       'Великобритания - США - Россия', 'Великобритания - США - Франция',\n",
       "       'Великобритания - США - Швейцария', 'Великобритания - Франция',\n",
       "       'Великобритания - Франция - Австрия - Швеция',\n",
       "       'Великобритания - Франция - Бельгия',\n",
       "       'Великобритания - Франция - Бельгия - Италия',\n",
       "       'Великобритания - Франция - Бельгия - США',\n",
       "       'Великобритания - Франция - Венгрия',\n",
       "       'Великобритания - Франция - Германия',\n",
       "       'Великобритания - Франция - Германия - США',\n",
       "       'Великобритания - Франция - Италия',\n",
       "       'Великобритания - Франция - Италия - Индия - Дания - КНР - Бангладеш - Камбоджа - Гаити - Уганда',\n",
       "       'Великобритания - Франция - Италия - США',\n",
       "       'Великобритания - Франция - Республика Кипр - Швейцария - США - Сербия',\n",
       "       'Великобритания - Франция - США',\n",
       "       'Великобритания - Франция - Швеция - Бельгия',\n",
       "       'Великобритания - Чехия - Франция',\n",
       "       'Великобритания - Чехия - Франция - Италия',\n",
       "       'Великобритания - ЮАР', 'Великобритания - Япония - США',\n",
       "       'Великобритания, Австралия',\n",
       "       'Великобритания, Германия, Дания, США', 'Великобритания, Канада',\n",
       "       'Великобритания, Канада, США',\n",
       "       'Великобритания, Нидерланды, Польша, Швейцария, Франция',\n",
       "       'Великобритания, Новая Зеландия', 'Великобритания, США',\n",
       "       'Великобритания, США, Испания', 'Великобритания, Франция',\n",
       "       'Великобритания, Франция, Бельгия', 'Великобритания, Швеция, США',\n",
       "       'Великобритания, Южная Корея, Канада, США, Индия, Китай, Япония',\n",
       "       'Великобритания, Япония, США', 'Великобритания-Австралия - США',\n",
       "       'Великобритания-Венгрия', 'Великобритания-Германия-Канада-ЮАР',\n",
       "       'Великобритания-США', 'Великобритания-США-Германия-КНР',\n",
       "       'Великобритания-США-Франция', 'Великобритания-Франция',\n",
       "       'Великобритания-Франция-Германия', 'Великобритания-Франция-Италия',\n",
       "       'Венгрия', 'Венгрия - Германия - Швеция', 'Венесуэла', 'Германия',\n",
       "       'Германия - Австралия', 'Германия - Австрия',\n",
       "       'Германия - Австрия - Ирландия', 'Германия - Австрия - Франция',\n",
       "       'Германия - Аргентина - Нидерланды - Чили', 'Германия - Бельгия',\n",
       "       'Германия - Бельгия - Великобритания',\n",
       "       'Германия - Бельгия - Люксембург - Ирландия',\n",
       "       'Германия - Бельгия - Люксембург - Норвегия',\n",
       "       'Германия - Бельгия - США -Франция', 'Германия - Великобритания',\n",
       "       'Германия - Великобритания - Австрия',\n",
       "       'Германия - Великобритания - Италия - Испания',\n",
       "       'Германия - Великобритания - США',\n",
       "       'Германия - Дания - Испания - Швеция - Канада - Эстония - Франция',\n",
       "       'Германия - Дания - Норвегия', 'Германия - Исландия',\n",
       "       'Германия - Италия', 'Германия - Италия - США',\n",
       "       'Германия - Италия - Франция', 'Германия - Канада',\n",
       "       'Германия - Китай', 'Германия - Люксембург - Бельгия',\n",
       "       'Германия - Люксембург - Дания', 'Германия - Люксембург - Франция',\n",
       "       'Германия - Нидерланды - Беларусь - Россия - Латвия',\n",
       "       'Германия - Нидерланды - ЮАР', 'Германия - Россия',\n",
       "       'Германия - США', 'Германия - США - Великобритания - Израиль',\n",
       "       'Германия - США - Великобритания - Ирландия',\n",
       "       'Германия - США - Франция - Испания',\n",
       "       'Германия - США - Швеция - Франция',\n",
       "       'Германия - Финляндия - Австралия', 'Германия - Франция',\n",
       "       'Германия - Франция -  Польша - Турция - Канада - Италия - Россия ',\n",
       "       'Германия - Франция - Австрия', 'Германия - Франция - Бельгия',\n",
       "       'Германия - Франция - Великобритания - Польша - США',\n",
       "       'Германия - Франция - Канада', 'Германия - Франция - Люксембург',\n",
       "       'Германия - Франция - Польша', 'Германия - Швейцария',\n",
       "       'Германия - Швейцария - Франция - Южная Корея - США',\n",
       "       'Германия, Австралия', 'Германия, Бельгия', 'Германия, Россия',\n",
       "       'Германия, США', 'Германия, Франция',\n",
       "       'Германия, Франция, Великобритания', 'Германия, Франция, США',\n",
       "       'Германия-Австрия', 'Германия-Австрия-Франция-Италия',\n",
       "       'Германия-Великобритания', 'Германия-Израиль',\n",
       "       'Германия-Италия- Шри-Ланка', 'Германия-Италия-Швейцария',\n",
       "       'Германия-Канада-Великобритания-Швейцария-Франция',\n",
       "       'Германия-Канада-Франция-Бельгия', 'Германия-Кения',\n",
       "       'Германия-США', 'Германия-Украина-Нидерланды',\n",
       "       'Германия-Франция-Великобритания',\n",
       "       'Германия-Франция-Великобритания-США', 'Германия-Франция-Польша',\n",
       "       'Германия-Швеция', 'Голландия', 'Гонконг', 'Гонконг - КНР',\n",
       "       'Гонконг - Сингапур - Таиланд - Великобритания', 'Гонконг, КНР',\n",
       "       'Греция', 'Греция - Германия - Франция', 'Греция - Россия',\n",
       "       'Грузия', 'Грузия - Россия - Украина - Хорватия - Германия',\n",
       "       'Грузия - Украина', 'Грузия - Франция - Люксембург',\n",
       "       'Грузия-Россия', 'Грузия-Франция', 'Дания',\n",
       "       'Дания - Австрия - Ирландия - Финляндия - Норвегия - Швеция - Нидерланды',\n",
       "       'Дания - Великобритания - ЮАР', 'Дания - Германия',\n",
       "       'Дания - Германия - Швеция', 'Дания - Исландия',\n",
       "       'Дания - Канада - Швеция - Франция - Германия - Великобритания - США',\n",
       "       'Дания - Латвия - Россия - США',\n",
       "       'Дания - Норвегия - Великобритания', 'Дания - США',\n",
       "       'Дания - Франция - Германия - Швеция',\n",
       "       'Дания - Франция - Италия - Бельгия - Нидерланды',\n",
       "       'Дания - Швейцария - Бельгия - Франция', 'Дания - Швеция',\n",
       "       'Дания - Швеция - Великобритания - Франция - Германия - Нидерланды - Норвегия - Финляндия',\n",
       "       'Дания - Швеция - Италия - Франция - Германия',\n",
       "       'Дания, Канада, Норвегия, Австралия, США',\n",
       "       'Дания, Норвегия, Венгрия, Чехия',\n",
       "       'Дания, Норвегия, Швеция, Исландия',\n",
       "       'Дания, Швеция, Великобритания, Франция, Германия, Норвегия, Финляндия, Нидерланды, Италия',\n",
       "       'Дания-Франция-Бельгия-Германия-Великобритания',\n",
       "       'Дания-Швеция-Франция-Германия', 'Израиль',\n",
       "       'Израиль - Германия - Польша - Бельгия - Франция - Люксембург',\n",
       "       'Израиль - Германия - Франция - Швейцария', 'Израиль - Франция',\n",
       "       'Израиль - Франция - Великобритания - Германия',\n",
       "       'Израиль - Франция - Германия - Палестина - США - Австрия - Великобритания',\n",
       "       'Израиль, Украина', 'Израиль-США-Франция', 'Индия',\n",
       "       'Индия - Великобритания', 'Индия - КНР', 'Индия - Мексика',\n",
       "       'Индия - США', 'Индонезия', 'Иран', 'Иран ', 'Иран, Франция',\n",
       "       'Ирландия', 'Ирландия - Великобритания - Канада',\n",
       "       'Ирландия - Великобритания - США',\n",
       "       'Ирландия - Великобритания - Франция - США',\n",
       "       'Ирландия - Великобритания - Франция - США - Германия - Нидерланды',\n",
       "       'Ирландия - Дания - Бельгия - Люксембург - Франция',\n",
       "       'Ирландия - США',\n",
       "       'Ирландия - Финляндия - Бельгия - Великобритания - США - Швейцария',\n",
       "       'Ирландия, Великобритания', 'Ирландия, Канада',\n",
       "       'Ирландия-Великобритания', 'Ирландия-Великобритания-Германия',\n",
       "       'Ирландия-Нидерланды-Франция-США-Великобритания', 'Исландия',\n",
       "       'Исландия - Финляндия', 'Исландия, Бельгия',\n",
       "       'Исландия-Ирландия-Германия', 'Испания', 'Испания - Аргентина',\n",
       "       'Испания - Аргентина - Индия - США',\n",
       "       'Испания - Бельгия - Франция - Португалия - Великобритания',\n",
       "       'Испания - Болгария - США', 'Испания - Великобритания - Франция',\n",
       "       'Испания - Германия - Нидерланды', 'Испания - Италия - Франция',\n",
       "       'Испания - Канада', 'Испания - Канада - Япония', 'Испания - Куба',\n",
       "       'Испания - Мальта', 'Испания - Мексика', 'Испания - США',\n",
       "       'Испания - США - Великобритания - Канада',\n",
       "       'Испания - США - Колумбия', 'Испания - Уругвай - Аргентина',\n",
       "       'Испания - Франция',\n",
       "       'Испания - Франция - Нидерланды - Германия - Бельгия - Великобритания - Канада',\n",
       "       'Испания - Франция - США - Великобритания - Бельгия',\n",
       "       'Испания - Швейцария - Великобритания - Германия - Новая Зеландия - Нидерланды - Канада',\n",
       "       'Испания, Ирландия, Бельгия, Франция',\n",
       "       'Испания, Франция, Великобритания, Дания, Бельгия, Германия',\n",
       "       'Испания, Франция, Италия', 'Испания-Аргентина', 'Испания-Канада',\n",
       "       'Испания-Колумбия', 'Испания-Мексика',\n",
       "       'Испания-Франция-Греция-Индия-США-Россия-Великобритания', 'Италия',\n",
       "       'Италия ', 'Италия - Аргентина - Словения ',\n",
       "       'Италия - Бельгия - Франция', 'Италия - Канада', 'Италия - Россия',\n",
       "       'Италия - США', 'Италия - Франция', 'Италия - Франция - Германия',\n",
       "       'Италия - Франция - Швейцария',\n",
       "       'Италия - Франция - Швейцария - Великобритания',\n",
       "       'Италия - Фрация - Бразилия - Германия',\n",
       "       'Италия - Швейцария - Германия', 'Италия, Германия',\n",
       "       'Италия, Испания', 'Италия, Франция', 'Италия, Франция, Германия',\n",
       "       'Италия-Великобритания', 'Италия-США', 'Италия-Франция',\n",
       "       'Италия-Франция-Великобритания', 'Италия-Швейцария',\n",
       "       'Италия-Швейцария-Франция-Германия ', 'КНР', 'КНР - Гонконг',\n",
       "       'КНР - Гонконг - США', 'КНР - Канада - США', 'КНР - США',\n",
       "       'КНР - США ', 'КНР - Сингапур', 'КНР - Франция',\n",
       "       'КНР, Индия, Гонконг, США', 'КНР, США', 'КНР-США', 'Казахстан',\n",
       "       'Канада', 'Канада - Германия', 'Канада - Испания',\n",
       "       'Канада - Италия', 'Канада - КНР', 'Канада - Мексика',\n",
       "       'Канада - Норвегия', 'Канада - США',\n",
       "       'Канада - США - Германия - Франция',\n",
       "       'Канада - США - Нидерланды - Великобритания - Аргентина',\n",
       "       'Канада - Франция', 'Канада - Франция - Великобритания',\n",
       "       'Канада - Франция - Испания',\n",
       "       'Канада - Франция - США - ОАЭ - Великобритания',\n",
       "       'Канада - Южная Корея', 'Канада, Великобритания', 'Канада, США',\n",
       "       'Канада, США, Каймановы острова', 'Канада, США, Норвегия',\n",
       "       'Канада, Франция, Италия, Швейцария, США', 'Канада- Испания',\n",
       "       'Канада-Бразилия-Япония', 'Канада-Великобритания',\n",
       "       'Канада-Германия', 'Канада-США', 'Канада-Франция', 'Канада-ЮАР',\n",
       "       'Канада-Южная Корея-США', 'Кения, Германия', 'Киргизия',\n",
       "       'Киргизия-Россия', 'Китай', 'Китай - Гонконг',\n",
       "       'Китай, Канада, США', 'Китай, США', 'Китай-Гонконг',\n",
       "       'Китай-Гонконг-США', 'Княжество Андорра - Украина', 'Колумбия',\n",
       "       'Колумбия - США', 'Корея', 'Латвия - Россия', 'Латвия - Франция',\n",
       "       'Ливан-США', 'Литва - Венгрия', 'Литва-Россия-Украина',\n",
       "       'Люксембург - Бельгия - Франция',\n",
       "       'Люксембург - Нидерланды - Испания - Великобритания - США - Италия',\n",
       "       'Македония - Франция - Великобритания', 'Малайзия',\n",
       "       'Малайзия - США', 'Мексика',\n",
       "       'Мексика - Аргентина - Великобритания', 'Мексика - Испания',\n",
       "       'Мексика - Испания - Дания - США',\n",
       "       'Мексика - Нидерланды - Германия - Франция', 'Мексика - США',\n",
       "       'Мексика - Тайвань - США', 'Мексика - Франция',\n",
       "       'Мексика - Франция - Нидерланды - Германия', 'Мексика - Чили',\n",
       "       'Мексика - Эквадор - Канада - США - Франция - Малайзия - Италия - Аргентина - Германия - Индия  ',\n",
       "       'Мексика, Франция, Германия, Дания, Швеция', 'Мексика-Аргентина',\n",
       "       'Монголия', 'Нидерланды', 'Нидерланды - Бельгия - Болгария',\n",
       "       'Нидерланды - Бельгия - Германия - Ирландия',\n",
       "       'Нидерланды - Бельгия - Люксембург',\n",
       "       'Нидерланды - Великобритания - Бельгия', 'Нидерланды - Россия',\n",
       "       'Нидерланды - Россия - Германия',\n",
       "       'Нидерланды - США - Германия - Канада - Франция - Ирландия - Великобритания',\n",
       "       'Нидерланды - Франция - Германия - Бельгия - Швеция - Великобритания',\n",
       "       'Нидерланды, Бельгия', 'Нидерланды, Бельгия, Люксембург',\n",
       "       'Нидерланды-Великобритания-Франция-Италия-Япония',\n",
       "       'Новая Зеландия', 'Новая Зеландия - КНР', 'Новая Зеландия - США',\n",
       "       'Норвегия',\n",
       "       'Норвегия - Азербайджан - Россия - Колумбия - Великобритания - Венгрия - Румыния - Франция - Грузия',\n",
       "       'Норвегия - Дания - Швеция',\n",
       "       'Норвегия - Исландия - США - Великобритания ',\n",
       "       'Норвегия - Нидерланды', 'Норвегия - США', 'Норвегия - Швеция',\n",
       "       'Норвегия - Швеция - Дания - Германия',\n",
       "       'Норвегия - Швеция - Россия', 'Норвегия, Швеция, Дания',\n",
       "       'Норвения', 'ОАЭ - США', 'Пакистан', 'Парагвай', 'Перу', 'Польша',\n",
       "       'Польша - Ирландия', 'Польша - Италия - Россия',\n",
       "       'Польша - Португалия - Франция - Великобритания',\n",
       "       'Польша - Франция', 'Польша - Франция - Великобритания',\n",
       "       'Польша - Франция - Испания - Бразилия - Швеция', 'Португалия',\n",
       "       'Португалия - Франция', 'Португалия, Франция, Польша, США',\n",
       "       'Пуэрто-Рико, Великобритания, США', 'Республика Армения',\n",
       "       'Республика Беларусь',\n",
       "       'Республика Беларусь, Германия, США, Россия',\n",
       "       'Республика Казахстан', 'Республика Кипр',\n",
       "       'Республика Кипр - Россия', 'Республика Кипр, Россия',\n",
       "       'Республика Кипр, США, Россия', 'Республика Кипр-Россия',\n",
       "       'Республика Корея', 'Республика Узбекистан', 'Россия',\n",
       "       'Россия - Азербайджан', 'Россия - Болгария', 'Россия - Германия',\n",
       "       'Россия - Германия - Украина', 'Россия - Германия - Швейцария',\n",
       "       'Россия - Грузия', 'Россия - Италия', 'Россия - Казахстан',\n",
       "       'Россия - Польша', 'Россия - Республика Кипр', 'Россия - США',\n",
       "       'Россия - Франция - Великобритания - Латвия',\n",
       "       'Россия - Эстония - Финляндия - Беларусь', 'Россия,  Испания',\n",
       "       'Россия, Австрия', 'Россия, Армения', 'Россия, Бельгия, Финляндия',\n",
       "       'Россия, Германия', 'Россия, Германия, Великобритания',\n",
       "       'Россия, Германия, Казахстан, Польша, Китай',\n",
       "       'Россия, Германия, Франция, Бельгия', 'Россия, Грузия, Испания',\n",
       "       'Россия, Грузия, Хорватия, Испания', 'Россия, Испания',\n",
       "       'Россия, Италия', 'Россия, Казахстан, США',\n",
       "       'Россия, Латвия, Чешская Республика',\n",
       "       'Россия, Нидерланды, Финляндия', 'Россия, Польша, Финляндия',\n",
       "       'Россия, Республика Беларусь', 'Россия, Республика Кипр',\n",
       "       'Россия, Румыния', 'Россия, Сербия', 'Россия, Таджикистан',\n",
       "       'Россия, Украина', 'Россия, Украина, Польша',\n",
       "       'Россия, Украина, Республика Беларусь, Литва',\n",
       "       'Россия, Франция, Германия, Бельгия', 'Россия, Франция, Латвия',\n",
       "       'Россия-Азербайджан', 'Россия-Беларусь', 'Россия-Белоруссия',\n",
       "       'Россия-Германия', 'Россия-Ирландия', 'Россия-Италия',\n",
       "       'Россия-Казахстан', 'Россия-Кипр', 'Россия-Китай', 'Россия-Польша',\n",
       "       'Россия-Польша-Голландия-Словакия', 'Россия-США',\n",
       "       'Россия-США-Канада-Люксембург', 'Россия-Словакия-Чехия',\n",
       "       'Россия-Украина', 'Россия-Украина-Германия', 'Россия-Франция',\n",
       "       'Румыния', 'Румыния - Франция - Бельгия',\n",
       "       'Румыния, ЮАР, Иран, Франция, Канада, Великобритания',\n",
       "       'Румыния-США', 'СССР', 'СССР ', 'СССР  ', 'СССР   ', 'СССР    ',\n",
       "       'СССР     ', 'СССР - ГДР - Польша - Италия', 'СССР - Италия',\n",
       "       'СССР - Швейцария - Франция', 'СССР, Албания', 'СССР, Афганистан',\n",
       "       'СССР, ВНР', 'СССР, Венгрия', 'СССР, Венгрия, ЧССР, ГДР',\n",
       "       'СССР, ГДР', 'СССР, Италия', 'СССР, Монголия', 'СССР, Польша',\n",
       "       'СССР, Россия', 'СССР, Румыния, Франция', 'СССР, ФРГ',\n",
       "       'СССР, ФРГ, Западный Берлин', 'СССР, Финляндия',\n",
       "       'СССР, Франция, Англия, Куба, ГДР',\n",
       "       'СССР, ЧССР, Западный Берлин, ПНР', 'СССР, Швеция', 'США', 'США ',\n",
       "       'США - Австралия', 'США - Австралия - Дания',\n",
       "       'США - Австралия - Индия', 'США - Австралия - Мексика',\n",
       "       'США - Австралия - Новая Зеландия - Великобритания',\n",
       "       'США - Австралия - Франция', 'США - Бельгия',\n",
       "       'США - Бельгия - Великобритания', 'США - Болгария - Мексика',\n",
       "       'США - Бразилия - Великобритания - Канада',\n",
       "       'США - Бразилия - Франция - Австралия - Великобритания - Германия',\n",
       "       'США - Великобритания', 'США - Великобритания ',\n",
       "       'США - Великобритания - Австралия',\n",
       "       'США - Великобритания - Болгария',\n",
       "       'США - Великобритания - Германия',\n",
       "       'США - Великобритания - Германия - - Швеция - Канада',\n",
       "       'США - Великобритания - Германия - Бельгия - Дания',\n",
       "       'США - Великобритания - Германия - Новая Зеландия - Бельгия - Франция',\n",
       "       'США - Великобритания - Ирландия',\n",
       "       'США - Великобритания - Исландия',\n",
       "       'США - Великобритания - Испания',\n",
       "       'США - Великобритания - Италия - Израиль - Сербия - Индия',\n",
       "       'США - Великобритания - КНР', 'США - Великобритания - Канада',\n",
       "       'США - Великобритания - Канада - КНР',\n",
       "       'США - Великобритания - Канада - Швеция',\n",
       "       'США - Великобритания - Новая Зеландия',\n",
       "       'США - Великобритания - Франция',\n",
       "       'США - Великобритания - Франция - Гонконг',\n",
       "       'США - Великобритания - Чехия',\n",
       "       'США - Великобритания - Швейцария - Франция',\n",
       "       'США - Великобритания - Швеция', 'США - Великобритания - Япония',\n",
       "       'США - Великобритания- Франция - Швеция',\n",
       "       'США - Венгрия - Великобритания', 'США - Вьетнам',\n",
       "       'США - Германия', 'США - Германия - Великобритания',\n",
       "       'США - Германия - Гонконг - Сингапур', 'США - Германия - КНР',\n",
       "       'США - Германия - Канада', 'США - Германия - Нидерланды',\n",
       "       'США - Германия - Франция',\n",
       "       'США - Германия - Франция - Великобритания - Канада ',\n",
       "       'США - Германия - Япония', 'США - Гонконг', 'США - Гонконг - КНР ',\n",
       "       'США - Дания', 'США - Индия', 'США - Индия - ОАЭ',\n",
       "       'США - Ирландия - Великобритания',\n",
       "       'США - Ирландия - Великобритания - Франция', 'США - Испания',\n",
       "       'США - Испания - Болгария', 'США - Испания - Франция',\n",
       "       'США - Испания - Франция - Великобритания', 'США - Италия',\n",
       "       'США - КНР', 'США - КНР - Индия - Ю.Корея', 'США - Канада',\n",
       "       'США - Канада - Аргентина',\n",
       "       'США - Канада - Афганистан - Бельгия - Франция',\n",
       "       'США - Канада - Великобритания', 'США - Канада - Германия',\n",
       "       'США - Канада - Германия - Франция', 'США - Канада - Индонезия',\n",
       "       'США - Канада - КНР',\n",
       "       'США - Канада - Россия - Франция - Чили - Ирландия',\n",
       "       'США - Канада - Франция - Индия', 'США - Канада - Япония - КНР',\n",
       "       'США - Китай', 'США - Колумбия', 'США - Колумбия - Испания',\n",
       "       'США - Мальта', 'США - Мексика',\n",
       "       'США - Нидерланды - Бельгия - Венгрия - Греция - Канада',\n",
       "       'США - Нидерланды - Финляндия - Великобритания - Италия',\n",
       "       'США - Новая Зеландия', 'США - Новая Зеландия - Япония',\n",
       "       'США - Норвегия', 'США - ОАЭ',\n",
       "       'США - Объединенные Арабские Эмираты', 'США - Пуэрто Рико',\n",
       "       'США - Пуэрто-Рико - Франция ', 'США - Россия',\n",
       "       'США - Россия - Польша - Германия - Пуэрто Рико',\n",
       "       'США - Россия - Франция', 'США - Румыния - Великобритания',\n",
       "       'США - Сингапур - Малайзия - Индонезия', 'США - Украина',\n",
       "       'США - Финляндия',\n",
       "       'США - Финляндия - Испания - Великобритания - Франция',\n",
       "       'США - Франция', 'США - Франция - Бельгия - Италия',\n",
       "       'США - Франция - Великобритания',\n",
       "       'США - Франция - Великобритания - Бразилия ',\n",
       "       'США - Франция - Германия',\n",
       "       'США - Франция - Германия - Канада - Австралия ',\n",
       "       'США - Франция - Испания - Великобритания',\n",
       "       'США - Франция - Канада - Великобритания',\n",
       "       'США - Франция - Канада - Германия - Австралия - Индия',\n",
       "       'США - Франция - Турция', 'США - Франция - ЮАР',\n",
       "       'США - Хорватия - Босния-Герцеговина', 'США - Чехия - Франция',\n",
       "       'США - Чили', 'США - Швейцария - Франция', 'США - Швеция',\n",
       "       'США - ЮАР', 'США - ЮАР - Гонконг', 'США - Южная Корея',\n",
       "       'США - Япония', 'США - Япония - Германия',\n",
       "       'США - Япония - Канада - Великобритания - Германия - Франция',\n",
       "       'США - Япония - Франция - Великобритания',\n",
       "       'США -Великобритания - Австралия', 'США -Германия',\n",
       "       'США, Великобритания', 'США, Великобритания, Ирландия, Люксембург',\n",
       "       'США, Великобритания, Люксембург', 'США, Великобритания, Франция',\n",
       "       'США, Германия', 'США, Гонконг ', 'США, Индия', 'США, Канада',\n",
       "       'США, Россия', 'США, Украина', 'США, Франция',\n",
       "       'США, Франция, Япония', 'США, Япония', 'США- Ю.Корея',\n",
       "       'США-Австралия', 'США-Аргентина', 'США-Бельгия',\n",
       "       'США-Великобритания', 'США-Великобритания-Австралия',\n",
       "       'США-Великобритания-Индия', 'США-Великобритания-Ирландия',\n",
       "       'США-Великобритания-Новая Зеландия', 'США-Великобритания-Франция',\n",
       "       'США-Великобритания-Чехия-Румыния', 'США-Венгрия', 'США-Германия',\n",
       "       'США-Германия-Австралия', 'США-Германия-Великобритания',\n",
       "       'США-Германия-Канада', 'США-Гонконг-Китай', 'США-Индия',\n",
       "       'США-Индонезия', 'США-Ирландия', 'США-Испания',\n",
       "       'США-Италия-Греция', 'США-Италия-Испания',\n",
       "       'США-Италия-Испания-Аргентина', 'США-КНР', 'США-Канада',\n",
       "       'США-Канада-Австралия', 'США-Канада-Бельгия', 'США-Канада-Италия',\n",
       "       'США-Канада-Франция', 'США-Китай', 'США-Колумбия', 'США-Мальта',\n",
       "       'США-Мексика', 'США-Нидерланды', 'США-ОАЭ', 'США-Россия',\n",
       "       'США-ФРГ-Россия', 'США-Франция',\n",
       "       'США-Франция-Великобритания-Австрия', 'США-Франция-Ирландия',\n",
       "       'США-Франция-Испания', 'США-Франция-Канада', 'США-ЮАР',\n",
       "       'США-Южная Корея-Новая Зеландия', 'США-Япония',\n",
       "       'США-Япония-Германия-Великобритания',\n",
       "       'США-Япония-Германия-Великобритания-Нидерланды', 'СЩА',\n",
       "       'Сербия - Великобритания - США', 'Сербия - Германия - Венгрия',\n",
       "       'Сербия - Словения - Хорватия - Черногория - Македония',\n",
       "       'Сингапур - Великобритания - Индонезия - Канада - США',\n",
       "       'Сша, Канада', 'Таиланд', 'Таиланд - КНР - США', 'Таиланд - США',\n",
       "       'Таиланд-Великобритания-Франция-Германия-Испания-Нидерланды',\n",
       "       'Турция', 'Турция - Германя - Франция', 'Турция - США', 'Украина',\n",
       "       'Украина - Германия - Латвия - Эстония', 'Украина - Нидерланды',\n",
       "       'Уругвай - Аргентина - Испания', 'Уругвай - Колумбия',\n",
       "       'Уругвай-Мексика-Германия ', 'Финляндия',\n",
       "       'Финляндия - Австрия - Россия',\n",
       "       'Финляндия - Великобритания - Германия', 'Финляндия - Германия',\n",
       "       'Финляндия - Дания - Германия - Ирландия',\n",
       "       'Финляндия - Исландия - Швеция', 'Финляндия - Канада',\n",
       "       'Финляндия - Польша', 'Финляндия - Франция - Германия',\n",
       "       'Финляндия - Швеция - Германия', 'Финляндия - Швеция - Норвегия',\n",
       "       'Финляндия, Латвия', 'Финляндия-Дания-Германия-Ирландия',\n",
       "       'Франция', 'Франция ', 'Франция -  Бельгия', 'Франция - Австрия',\n",
       "       'Франция - Австрия - Германия - Италия - США', 'Франция - Бельгия',\n",
       "       'Франция - Бельгия - Великобритания - Испания - Германия - США',\n",
       "       'Франция - Бельгия - Великобритания - США - Нидерланды - Канада',\n",
       "       'Франция - Бельгия - Испания', 'Франция - Бельгия - Канада',\n",
       "       'Франция - Бельгия - Люксембург', 'Франция - Бельгия - Чехия',\n",
       "       'Франция - Бельгия - Япония', 'Франция - Бенльгия',\n",
       "       'Франция - Бразилия', 'Франция - Бразилия - Италия',\n",
       "       'Франция - Великобритания',\n",
       "       'Франция - Великобритания - Багамские острова - США',\n",
       "       'Франция - Великобритания - Камбоджа - США - КНР',\n",
       "       'Франция - Великобритания - Нидерланды - Люксембург',\n",
       "       'Франция - Германия', 'Франция - Германия - Австрия',\n",
       "       'Франция - Германия - Бельгия', 'Франция - Германия - Италия',\n",
       "       'Франция - Германия - Литва - Нидерланды - Россия',\n",
       "       'Франция - Германия - Нидерланды', 'Франция - Германия - США',\n",
       "       'Франция - Германия - Турция - Катар',\n",
       "       'Франция - Германия - Швеция - США - Чехия - Словакия - Великобритания - Нидерланды',\n",
       "       'Франция - Греция', 'Франция - Дания', 'Франция - Дания - США',\n",
       "       'Франция - Дания - Швеция - КНР', 'Франция - Израиль - Германия',\n",
       "       'Франция - Ирландия - Швеция', 'Франция - Испания',\n",
       "       'Франция - Испания - Дания - Венгрия - Швейцария',\n",
       "       'Франция - Испания - Румыния - США - Бельгия',\n",
       "       'Франция - Испания - Тайвань', 'Франция - Италия',\n",
       "       'Франция - Италия - Бельгия - КНР',\n",
       "       'Франция - Италия - Бельгия - Люксембург',\n",
       "       'Франция - Италия - Великобритания - США',\n",
       "       'Франция - Италия - Иран', 'Франция - Италия - Швейцария',\n",
       "       'Франция - КНР', 'Франция - Канада', 'Франция - Канада - Бельгия',\n",
       "       'Франция - Канада - Н.Зеландия - США - Нидерланды - Германия - Швеция - Россия',\n",
       "       'Франция - Люксембург', 'Франция - Люксембург - Бельгия',\n",
       "       'Франция - Люксембург - Германия - Бельгия - Швейцария - Великобритания ',\n",
       "       'Франция - Македония', 'Франция - Мексика - США',\n",
       "       'Франция - Монако', 'Франция - Нидерланды',\n",
       "       'Франция - Польша - Бельгия', 'Франция - Португалия',\n",
       "       'Франция - Россия',\n",
       "       'Франция - Россия - Швейцария - Румыния - Венгрия',\n",
       "       'Франция - США', 'Франция - США - Бельгия',\n",
       "       'Франция - США - Великобритания - Колумбия - Бельгия - Россия',\n",
       "       'Франция - США - Норвегия - Дания', 'Франция - Сенегал - Бельгия',\n",
       "       'Франция - Украина - Грузия - Армения', 'Франция - Финляндия',\n",
       "       'Франция - Чехия - Бельгия', 'Франция - Чехия - Великобритания',\n",
       "       'Франция - Чили', 'Франция - Швейцария',\n",
       "       'Франция - Швейцария - Германия',\n",
       "       'Франция - Швеция - Дания - Норвегия', 'Франция -Бельгия',\n",
       "       'Франция, Бельгия', 'Франция, Бельгия, Люксембург',\n",
       "       'Франция, Германия', 'Франция, Канада',\n",
       "       'Франция, Люксембург, Бельгия', 'Франция, Новая Зеландия',\n",
       "       'Франция, Норвегия', 'Франция-Австралия', 'Франция-Аргентина',\n",
       "       'Франция-Бельгия', 'Франция-Бельгия-Канада',\n",
       "       'Франция-Великобритания', 'Франция-Великобритания - Германия',\n",
       "       'Франция-Великобритания-Чехия', 'Франция-Германия',\n",
       "       'Франция-Германия-Австрия', 'Франция-Германия-Великобритания',\n",
       "       'Франция-Германия-Италия', 'Франция-Гонконг-Ирландия',\n",
       "       'Франция-Грузия-Германия-Россия-Украина-Бельгия', 'Франция-Индия',\n",
       "       'Франция-Испания', 'Франция-Испания-Бельгия-Панама',\n",
       "       'Франция-Испания-Германия', 'Франция-Испания-Швейцария',\n",
       "       'Франция-Италия', 'Франция-Италия-Испания-Венгрия', 'Франция-КНР',\n",
       "       'Франция-Канада', 'Франция-Китай', 'Франция-Перу',\n",
       "       'Франция-Польша', 'Франция-Россия',\n",
       "       'Франция-Россия-Румыния-Италия-Бельгия', 'Франция-США',\n",
       "       'Франция-Украина', 'Хорватия', 'Чехия', 'Чехия - Германия',\n",
       "       'Чехия - Испания - США', 'Чехия - Словакия - Хорватия',\n",
       "       'Чехия-Великобритания-США', 'Чехословакия', 'Чили',\n",
       "       'Чили - Испания', 'Чили - Франция - США', 'Швейцария',\n",
       "       'Швейцария - Австрия', 'Швейцария - Великобритания',\n",
       "       'Швейцария - Израиль - Франция - Великобритания',\n",
       "       'Швейцария - КНР - США - Россия - Республика Корея - Великобритания',\n",
       "       'Швейцария - Люксембург', 'Швейцария - Франция',\n",
       "       'Швейцария, Великобритания, Франция, США, Ирландия',\n",
       "       'Швейцария-Австрия', 'Швейцария-Германия-ЮАР', 'Швейцария-Франция',\n",
       "       'Швеция', 'Швеция - Германия',\n",
       "       'Швеция - Германия - Дания - Норвегия',\n",
       "       'Швеция - Германия - Франция - Дания',\n",
       "       'Швеция - Германия - Франция - Норвегия', 'Швеция - Дания',\n",
       "       'Швеция - Дания - Финляндия', 'Швеция - Норвегия', 'Швеция - США',\n",
       "       'Швеция - Франция - Норвегия - Дания',\n",
       "       'Швеция, Норвегия, Финляндия, Франция',\n",
       "       'Швеция, Франция, Великобритания', 'Швеция-Куба',\n",
       "       'Швеция-Финляндия-Франция-Норвегия', 'Швеция-Франция',\n",
       "       'Швеция-Франция-Дания', 'Эстония', 'Эстония - Россия', 'ЮАР',\n",
       "       'ЮАР - США', 'Южная Корея', 'Южная Корея - КНР',\n",
       "       'Южная Корея - США', 'Южная Корея - США - Канада', 'Япония',\n",
       "       'Япония - Великобритания - Франция',\n",
       "       'Япония - Великобритания - Швейцария - Ирландия - Дания - Франция - Польша - Австралия - Канада  ',\n",
       "       'Япония - КНР - Южная Корея', 'Япония - Канада', 'Япония - США',\n",
       "       'Япония - Франция - США - Южная Корея - Турция',\n",
       "       'Япония, Великобритания',\n",
       "       'Япония, Великобритания, Австрия, Германия, Ю.Корея',\n",
       "       'Япония, США', 'Япония-Великобритания', 'Япония-США-Франция', nan],\n",
       "      dtype=object)"
      ]
     },
     "execution_count": 30,
     "metadata": {},
     "output_type": "execute_result"
    }
   ],
   "source": [
    "data['production_country'].sort_values().unique() #выводим на экран отсортированные уникальные значения столбца production_country"
   ]
  },
  {
   "cell_type": "code",
   "execution_count": 31,
   "metadata": {},
   "outputs": [
    {
     "data": {
      "text/plain": [
       "array([' Йохан Нийенхейс', ' Н.Орлов, Р.Быков', ' Р.Асхаев', ...,\n",
       "       'хореография Пьера Лакотта по Филиппу Тальони',\n",
       "       'хореография Фредерика Аштона', 'хореография Фредерика Эштона'],\n",
       "      dtype=object)"
      ]
     },
     "execution_count": 31,
     "metadata": {},
     "output_type": "execute_result"
    }
   ],
   "source": [
    "data['director'].sort_values().unique() #выводим на экран отсортированные уникальные значения столбца director"
   ]
  },
  {
   "cell_type": "code",
   "execution_count": 32,
   "metadata": {},
   "outputs": [
    {
     "data": {
      "text/plain": [
       "array([' А.Шальопа', ' Г.Шпригов',\n",
       "       ' Дитмар Ганше, Филипп Фогес,  Бенджамин Херрман, Миша Хоффманн, Эберхард Юнексдорф, Энн Мередит',\n",
       "       ..., 'Яэль Бергман, Лаура Уотерс, Питер Хеллайар',\n",
       "       'Яэль Фогель, Летиция Гонзалез', nan], dtype=object)"
      ]
     },
     "execution_count": 32,
     "metadata": {},
     "output_type": "execute_result"
    }
   ],
   "source": [
    "data['producer'].sort_values().unique() #выводим на экран отсортированные уникальные значения столбца producer"
   ]
  },
  {
   "cell_type": "code",
   "execution_count": 33,
   "metadata": {},
   "outputs": [
    {
     "data": {
      "text/plain": [
       "array(['«0+» - для любой зрительской аудитории',\n",
       "       '«12+» - для детей старше 12 лет',\n",
       "       '«16+» - для детей старше 16 лет', '«18+» - запрещено для детей',\n",
       "       '«6+» - для детей старше 6 лет'], dtype=object)"
      ]
     },
     "execution_count": 33,
     "metadata": {},
     "output_type": "execute_result"
    }
   ],
   "source": [
    "data['age_restriction'].sort_values().unique() #выводим на экран отсортированные уникальные значения столбца age_restriction"
   ]
  },
  {
   "cell_type": "code",
   "execution_count": 63,
   "metadata": {},
   "outputs": [
    {
     "data": {
      "text/plain": [
       "array(['Министерство культуры', 'Министерство культуры, Фонд кино',\n",
       "       'Фонд кино', nan], dtype=object)"
      ]
     },
     "execution_count": 63,
     "metadata": {},
     "output_type": "execute_result"
    }
   ],
   "source": [
    "data['financing_source'].sort_values().unique() #выводим на экран отсортированные уникальные значения столбца financing_source"
   ]
  },
  {
   "cell_type": "markdown",
   "metadata": {},
   "source": [
    "**Выводы по пункту 2.4.:**\n",
    "\n",
    "В результате анализа категориальных столбцов было выявлено, что почти во всех категориальных столбцах имеются пробелы в начале строки. Методом str.strip() устранили пробелы в столбце type.\n",
    "\n",
    "А также анализ уникальных значений категориальных столбцов показал, что такие столбцы, как producer, director, film_studio, production_country, genres, title - имеют очень большое количество категорий. Это значительно осложняет предобработку данных в части проверки на неявные дубликаты, на аномальные значения. В связи с этим анализ данных может быть проведен по не совсем корректным значениям и может привести к неверным выводам и результатам. "
   ]
  },
  {
   "cell_type": "markdown",
   "metadata": {
    "id": "XFSN5lrEgFyR"
   },
   "source": [
    "### Проверка количественных значений\n",
    "\n"
   ]
  },
  {
   "cell_type": "code",
   "execution_count": 35,
   "metadata": {},
   "outputs": [
    {
     "data": {
      "text/html": [
       "<div>\n",
       "<style scoped>\n",
       "    .dataframe tbody tr th:only-of-type {\n",
       "        vertical-align: middle;\n",
       "    }\n",
       "\n",
       "    .dataframe tbody tr th {\n",
       "        vertical-align: top;\n",
       "    }\n",
       "\n",
       "    .dataframe thead th {\n",
       "        text-align: right;\n",
       "    }\n",
       "</style>\n",
       "<table border=\"1\" class=\"dataframe\">\n",
       "  <thead>\n",
       "    <tr style=\"text-align: right;\">\n",
       "      <th></th>\n",
       "      <th>title</th>\n",
       "      <th>puNumber</th>\n",
       "      <th>show_start_date</th>\n",
       "      <th>type</th>\n",
       "      <th>film_studio</th>\n",
       "      <th>production_country</th>\n",
       "      <th>director</th>\n",
       "      <th>producer</th>\n",
       "      <th>age_restriction</th>\n",
       "      <th>refundable_support</th>\n",
       "      <th>nonrefundable_support</th>\n",
       "      <th>budget</th>\n",
       "      <th>financing_source</th>\n",
       "      <th>ratings</th>\n",
       "      <th>genres</th>\n",
       "      <th>box_office</th>\n",
       "    </tr>\n",
       "  </thead>\n",
       "  <tbody>\n",
       "    <tr>\n",
       "      <th>2052</th>\n",
       "      <td>14+</td>\n",
       "      <td>111023614</td>\n",
       "      <td>2014-12-19 12:00:00+00:00</td>\n",
       "      <td>Художественный</td>\n",
       "      <td>ООО Киностудия  \"Сентябрь\"</td>\n",
       "      <td>Россия</td>\n",
       "      <td>А.Зайцев</td>\n",
       "      <td>О.Гранина, А.Зайцев</td>\n",
       "      <td>«16+» - для детей старше 16 лет</td>\n",
       "      <td>0.0</td>\n",
       "      <td>23000000.0</td>\n",
       "      <td>0.0</td>\n",
       "      <td>Министерство культуры, Фонд кино</td>\n",
       "      <td>6.6</td>\n",
       "      <td>мелодрама</td>\n",
       "      <td>1.023402e+07</td>\n",
       "    </tr>\n",
       "    <tr>\n",
       "      <th>2057</th>\n",
       "      <td>Дуxless 2</td>\n",
       "      <td>111000415</td>\n",
       "      <td>2015-01-26 12:00:00+00:00</td>\n",
       "      <td>Художественный</td>\n",
       "      <td>ООО \"Киностудия \"Слово\", ООО \"Арт Пикчерс Студия\"</td>\n",
       "      <td>Россия</td>\n",
       "      <td>Р.Прыгунов</td>\n",
       "      <td>П.Ануров, Ф.Бондарчук, Д.Рудовский</td>\n",
       "      <td>«16+» - для детей старше 16 лет</td>\n",
       "      <td>0.0</td>\n",
       "      <td>75000000.0</td>\n",
       "      <td>0.0</td>\n",
       "      <td>Фонд кино</td>\n",
       "      <td>6.6</td>\n",
       "      <td>драма</td>\n",
       "      <td>4.461635e+08</td>\n",
       "    </tr>\n",
       "    <tr>\n",
       "      <th>2471</th>\n",
       "      <td>Воин (2015)</td>\n",
       "      <td>111017315</td>\n",
       "      <td>2015-09-28 12:00:00+00:00</td>\n",
       "      <td>Художественный</td>\n",
       "      <td>ООО \"Форпост Продакшн\", ООО \"Арт Пикчерс Студия\"</td>\n",
       "      <td>Россия</td>\n",
       "      <td>А.Андрианов</td>\n",
       "      <td>ООО \"Арт Пикчерс Студия\"</td>\n",
       "      <td>«12+» - для детей старше 12 лет</td>\n",
       "      <td>10000000.0</td>\n",
       "      <td>70000000.0</td>\n",
       "      <td>0.0</td>\n",
       "      <td>Фонд кино</td>\n",
       "      <td>7.8</td>\n",
       "      <td>боевик,драма,криминал</td>\n",
       "      <td>1.965724e+08</td>\n",
       "    </tr>\n",
       "    <tr>\n",
       "      <th>2531</th>\n",
       "      <td>Бармен.</td>\n",
       "      <td>111009615</td>\n",
       "      <td>2015-05-26 12:00:00+00:00</td>\n",
       "      <td>Художественный</td>\n",
       "      <td>АО \"ВайТ Медиа\", ООО \"Арт Пикчерс Студия\"</td>\n",
       "      <td>Россия</td>\n",
       "      <td>Д.Штурманова</td>\n",
       "      <td>Т.Вайнштейн</td>\n",
       "      <td>«16+» - для детей старше 16 лет</td>\n",
       "      <td>20000000.0</td>\n",
       "      <td>0.0</td>\n",
       "      <td>0.0</td>\n",
       "      <td>Фонд кино</td>\n",
       "      <td>6.2</td>\n",
       "      <td>комедия,фэнтези</td>\n",
       "      <td>6.741897e+07</td>\n",
       "    </tr>\n",
       "    <tr>\n",
       "      <th>2614</th>\n",
       "      <td>Савва. Сердце воина</td>\n",
       "      <td>114001715</td>\n",
       "      <td>2015-07-21 12:00:00+00:00</td>\n",
       "      <td>Анимационный</td>\n",
       "      <td>ООО \"Глюкоза Продакшн\", ООО \"Арт Пикчерс Студия\"</td>\n",
       "      <td>Россия</td>\n",
       "      <td>М.Фадеев</td>\n",
       "      <td>А.Чистяков</td>\n",
       "      <td>«6+» - для детей старше 6 лет</td>\n",
       "      <td>60000000.0</td>\n",
       "      <td>100000000.0</td>\n",
       "      <td>0.0</td>\n",
       "      <td>Фонд кино</td>\n",
       "      <td>4.6</td>\n",
       "      <td>мультфильм,приключения,фэнтези</td>\n",
       "      <td>1.844876e+08</td>\n",
       "    </tr>\n",
       "    <tr>\n",
       "      <th>2683</th>\n",
       "      <td>Тряпичный союз</td>\n",
       "      <td>111010215</td>\n",
       "      <td>2015-06-08 12:00:00+00:00</td>\n",
       "      <td>Художественный</td>\n",
       "      <td>ООО \"Кинокомпания \"КОКТЕБЕЛЬ\"</td>\n",
       "      <td>Россия</td>\n",
       "      <td>М.Местецкий</td>\n",
       "      <td>Р.Борисевич, А.Кушаев</td>\n",
       "      <td>«18+» - запрещено для детей</td>\n",
       "      <td>0.0</td>\n",
       "      <td>59000000.0</td>\n",
       "      <td>0.0</td>\n",
       "      <td>Фонд кино</td>\n",
       "      <td>6.3</td>\n",
       "      <td>комедия,драма</td>\n",
       "      <td>1.957739e+06</td>\n",
       "    </tr>\n",
       "    <tr>\n",
       "      <th>2787</th>\n",
       "      <td>Срочно выйду замуж</td>\n",
       "      <td>111017115</td>\n",
       "      <td>2015-09-30 12:00:00+00:00</td>\n",
       "      <td>Художественный</td>\n",
       "      <td>АО \"ВайТ Медиа\", ООО \"Арт Пикчерс Студия\"</td>\n",
       "      <td>Россия</td>\n",
       "      <td>С Чекалов</td>\n",
       "      <td>Ф.Бондарчук, Т.Вайнштейн, Д.Рудовский</td>\n",
       "      <td>«16+» - для детей старше 16 лет</td>\n",
       "      <td>0.0</td>\n",
       "      <td>35000000.0</td>\n",
       "      <td>0.0</td>\n",
       "      <td>Фонд кино</td>\n",
       "      <td>5.1</td>\n",
       "      <td>комедия,мелодрама</td>\n",
       "      <td>7.293778e+07</td>\n",
       "    </tr>\n",
       "    <tr>\n",
       "      <th>2873</th>\n",
       "      <td>Помню - не помню!</td>\n",
       "      <td>111004916</td>\n",
       "      <td>2016-03-01 12:00:00+00:00</td>\n",
       "      <td>Художественный</td>\n",
       "      <td>ООО \"КиноФирма\"</td>\n",
       "      <td>Россия</td>\n",
       "      <td>В.Ровенский</td>\n",
       "      <td>ООО \"КиноФирма\"</td>\n",
       "      <td>«12+» - для детей старше 12 лет</td>\n",
       "      <td>0.0</td>\n",
       "      <td>6000000.0</td>\n",
       "      <td>0.0</td>\n",
       "      <td>Министерство культуры</td>\n",
       "      <td>4.3</td>\n",
       "      <td>комедия</td>\n",
       "      <td>1.536293e+07</td>\n",
       "    </tr>\n",
       "    <tr>\n",
       "      <th>3046</th>\n",
       "      <td>Любовь с ограничениями</td>\n",
       "      <td>111008216</td>\n",
       "      <td>2016-04-29 12:00:00+00:00</td>\n",
       "      <td>Художественный</td>\n",
       "      <td>АО \"ВайТ Медиа\", ООО \"Арт Пикчерс Студия\"</td>\n",
       "      <td>Россия</td>\n",
       "      <td>Д.Тюрин</td>\n",
       "      <td>Ф.Бондарчук, Т.Вайнштейн, Д.Рудовский</td>\n",
       "      <td>«16+» - для детей старше 16 лет</td>\n",
       "      <td>19000000.0</td>\n",
       "      <td>51000000.0</td>\n",
       "      <td>0.0</td>\n",
       "      <td>Фонд кино</td>\n",
       "      <td>6.3</td>\n",
       "      <td>комедия,мелодрама</td>\n",
       "      <td>7.029905e+07</td>\n",
       "    </tr>\n",
       "    <tr>\n",
       "      <th>3564</th>\n",
       "      <td>Притяжение (2016)</td>\n",
       "      <td>111018116</td>\n",
       "      <td>2016-12-16 12:00:00+00:00</td>\n",
       "      <td>Художественный</td>\n",
       "      <td>ООО \"Водород 2011\",  ООО \"Арт Пикчерс Студия\"</td>\n",
       "      <td>Россия</td>\n",
       "      <td>Ф.Бондарчук</td>\n",
       "      <td>ООО \"Арт Пикчерс Студия\"</td>\n",
       "      <td>«12+» - для детей старше 12 лет</td>\n",
       "      <td>0.0</td>\n",
       "      <td>250000000.0</td>\n",
       "      <td>0.0</td>\n",
       "      <td>Фонд кино</td>\n",
       "      <td>5.6</td>\n",
       "      <td>фантастика</td>\n",
       "      <td>1.038321e+09</td>\n",
       "    </tr>\n",
       "    <tr>\n",
       "      <th>3674</th>\n",
       "      <td>Чудо-юдо</td>\n",
       "      <td>114001817</td>\n",
       "      <td>2017-06-27 12:00:00+00:00</td>\n",
       "      <td>Анимационный</td>\n",
       "      <td>ООО \"КиноФирма\"</td>\n",
       "      <td>Россия</td>\n",
       "      <td>А.Лукичев</td>\n",
       "      <td>ООО \"КиноФирма\"</td>\n",
       "      <td>«6+» - для детей старше 6 лет</td>\n",
       "      <td>20000000.0</td>\n",
       "      <td>20000000.0</td>\n",
       "      <td>0.0</td>\n",
       "      <td>Фонд кино</td>\n",
       "      <td>5.2</td>\n",
       "      <td>мультфильм,фэнтези,семейный</td>\n",
       "      <td>5.510801e+07</td>\n",
       "    </tr>\n",
       "    <tr>\n",
       "      <th>3738</th>\n",
       "      <td>Мифы</td>\n",
       "      <td>111004317</td>\n",
       "      <td>2017-06-07 12:00:00+00:00</td>\n",
       "      <td>Художественный</td>\n",
       "      <td>ООО \"ХАЙПФИЛМ\", ООО \"Арт Пикчерс Студия\"</td>\n",
       "      <td>Россия</td>\n",
       "      <td>А.Молочников</td>\n",
       "      <td>Ф.Бондарчук, Д.Рудовский, И.Стюарт, М.Османн, ...</td>\n",
       "      <td>«16+» - для детей старше 16 лет</td>\n",
       "      <td>25000000.0</td>\n",
       "      <td>20000000.0</td>\n",
       "      <td>0.0</td>\n",
       "      <td>Фонд кино</td>\n",
       "      <td>4.8</td>\n",
       "      <td>комедия</td>\n",
       "      <td>5.045195e+07</td>\n",
       "    </tr>\n",
       "    <tr>\n",
       "      <th>5672</th>\n",
       "      <td>Селфи</td>\n",
       "      <td>111012117</td>\n",
       "      <td>2018-02-01 12:00:00+00:00</td>\n",
       "      <td>Художественный</td>\n",
       "      <td>ООО \"Киностудия \"Слово\", ООО \"Арт Пикчерс Студия\"</td>\n",
       "      <td>Россия</td>\n",
       "      <td>Н.Хомерики</td>\n",
       "      <td>П.Ануров, Ф.Бондарчук, Д.Рудовский</td>\n",
       "      <td>«16+» - для детей старше 16 лет</td>\n",
       "      <td>20000000.0</td>\n",
       "      <td>40000000.0</td>\n",
       "      <td>0.0</td>\n",
       "      <td>Фонд кино</td>\n",
       "      <td>5.8</td>\n",
       "      <td>триллер,драма</td>\n",
       "      <td>2.251964e+08</td>\n",
       "    </tr>\n",
       "    <tr>\n",
       "      <th>5805</th>\n",
       "      <td>Два хвоста</td>\n",
       "      <td>114001018</td>\n",
       "      <td>2018-05-31 12:00:00+00:00</td>\n",
       "      <td>Анимационный</td>\n",
       "      <td>ООО \"ЛИЦЕНЗИОННЫЕ БРЕНДЫ\"</td>\n",
       "      <td>Россия</td>\n",
       "      <td>В.Ровенский, Н.Лопато, В.Азеев</td>\n",
       "      <td>ООО \"ЛИЦЕНЗИОННЫЕ БРЕНДЫ\"</td>\n",
       "      <td>«6+» - для детей старше 6 лет</td>\n",
       "      <td>10000000.0</td>\n",
       "      <td>60000000.0</td>\n",
       "      <td>0.0</td>\n",
       "      <td>Фонд кино</td>\n",
       "      <td>5.0</td>\n",
       "      <td>мультфильм,детский</td>\n",
       "      <td>1.065143e+08</td>\n",
       "    </tr>\n",
       "    <tr>\n",
       "      <th>6007</th>\n",
       "      <td>Принцесса и дракон</td>\n",
       "      <td>114003018</td>\n",
       "      <td>2018-08-23 12:00:00+00:00</td>\n",
       "      <td>Анимационный</td>\n",
       "      <td>ООО \"ЛИЦЕНЗИОННЫЕ БРЕНДЫ\"</td>\n",
       "      <td>Россия</td>\n",
       "      <td>М.Нефедова</td>\n",
       "      <td>ООО \"ЛИЦЕНЗИОННЫЕ БРЕНДЫ\"</td>\n",
       "      <td>«6+» - для детей старше 6 лет</td>\n",
       "      <td>40000000.0</td>\n",
       "      <td>40000000.0</td>\n",
       "      <td>0.0</td>\n",
       "      <td>Фонд кино</td>\n",
       "      <td>5.2</td>\n",
       "      <td>мультфильм,фэнтези,детский</td>\n",
       "      <td>8.336633e+07</td>\n",
       "    </tr>\n",
       "    <tr>\n",
       "      <th>6322</th>\n",
       "      <td>Баба Яга</td>\n",
       "      <td>114006518</td>\n",
       "      <td>2018-11-08 12:00:00+00:00</td>\n",
       "      <td>Анимационный</td>\n",
       "      <td>ООО \"Арт Пикчерс Студия\"</td>\n",
       "      <td>Россия</td>\n",
       "      <td>В.Саков</td>\n",
       "      <td>ООО \"Арт Пикчерс Студия\", ООО \"КРИЭЙТИВ АНИМЭЙ...</td>\n",
       "      <td>«6+» - для детей старше 6 лет</td>\n",
       "      <td>0.0</td>\n",
       "      <td>138969465.0</td>\n",
       "      <td>0.0</td>\n",
       "      <td>Фонд кино</td>\n",
       "      <td>NaN</td>\n",
       "      <td>неизвестно</td>\n",
       "      <td>1.334699e+06</td>\n",
       "    </tr>\n",
       "    <tr>\n",
       "      <th>6822</th>\n",
       "      <td>Большое путешествие</td>\n",
       "      <td>114002419</td>\n",
       "      <td>2019-04-20 12:00:00+00:00</td>\n",
       "      <td>Анимационный</td>\n",
       "      <td>ООО \"ЛИЦЕНЗИОННЫЕ БРЕНДЫ\"</td>\n",
       "      <td>Россия</td>\n",
       "      <td>Н.Лопато, В.Ровенский</td>\n",
       "      <td>ООО \"ЛИЦЕНЗИОННЫЕ БРЕНДЫ\"</td>\n",
       "      <td>«6+» - для детей старше 6 лет</td>\n",
       "      <td>60000000.0</td>\n",
       "      <td>120000000.0</td>\n",
       "      <td>0.0</td>\n",
       "      <td>Фонд кино</td>\n",
       "      <td>6.2</td>\n",
       "      <td>мультфильм,комедия,приключения</td>\n",
       "      <td>1.476068e+08</td>\n",
       "    </tr>\n",
       "  </tbody>\n",
       "</table>\n",
       "</div>"
      ],
      "text/plain": [
       "                       title   puNumber           show_start_date  \\\n",
       "2052                     14+  111023614 2014-12-19 12:00:00+00:00   \n",
       "2057               Дуxless 2  111000415 2015-01-26 12:00:00+00:00   \n",
       "2471             Воин (2015)  111017315 2015-09-28 12:00:00+00:00   \n",
       "2531                 Бармен.  111009615 2015-05-26 12:00:00+00:00   \n",
       "2614     Савва. Сердце воина  114001715 2015-07-21 12:00:00+00:00   \n",
       "2683          Тряпичный союз  111010215 2015-06-08 12:00:00+00:00   \n",
       "2787      Срочно выйду замуж  111017115 2015-09-30 12:00:00+00:00   \n",
       "2873       Помню - не помню!  111004916 2016-03-01 12:00:00+00:00   \n",
       "3046  Любовь с ограничениями  111008216 2016-04-29 12:00:00+00:00   \n",
       "3564       Притяжение (2016)  111018116 2016-12-16 12:00:00+00:00   \n",
       "3674                Чудо-юдо  114001817 2017-06-27 12:00:00+00:00   \n",
       "3738                    Мифы  111004317 2017-06-07 12:00:00+00:00   \n",
       "5672                   Селфи  111012117 2018-02-01 12:00:00+00:00   \n",
       "5805              Два хвоста  114001018 2018-05-31 12:00:00+00:00   \n",
       "6007      Принцесса и дракон  114003018 2018-08-23 12:00:00+00:00   \n",
       "6322                Баба Яга  114006518 2018-11-08 12:00:00+00:00   \n",
       "6822     Большое путешествие  114002419 2019-04-20 12:00:00+00:00   \n",
       "\n",
       "                type                                        film_studio  \\\n",
       "2052  Художественный                         ООО Киностудия  \"Сентябрь\"   \n",
       "2057  Художественный  ООО \"Киностудия \"Слово\", ООО \"Арт Пикчерс Студия\"   \n",
       "2471  Художественный   ООО \"Форпост Продакшн\", ООО \"Арт Пикчерс Студия\"   \n",
       "2531  Художественный          АО \"ВайТ Медиа\", ООО \"Арт Пикчерс Студия\"   \n",
       "2614    Анимационный   ООО \"Глюкоза Продакшн\", ООО \"Арт Пикчерс Студия\"   \n",
       "2683  Художественный                      ООО \"Кинокомпания \"КОКТЕБЕЛЬ\"   \n",
       "2787  Художественный          АО \"ВайТ Медиа\", ООО \"Арт Пикчерс Студия\"   \n",
       "2873  Художественный                                    ООО \"КиноФирма\"   \n",
       "3046  Художественный          АО \"ВайТ Медиа\", ООО \"Арт Пикчерс Студия\"   \n",
       "3564  Художественный      ООО \"Водород 2011\",  ООО \"Арт Пикчерс Студия\"   \n",
       "3674    Анимационный                                    ООО \"КиноФирма\"   \n",
       "3738  Художественный           ООО \"ХАЙПФИЛМ\", ООО \"Арт Пикчерс Студия\"   \n",
       "5672  Художественный  ООО \"Киностудия \"Слово\", ООО \"Арт Пикчерс Студия\"   \n",
       "5805    Анимационный                          ООО \"ЛИЦЕНЗИОННЫЕ БРЕНДЫ\"   \n",
       "6007    Анимационный                          ООО \"ЛИЦЕНЗИОННЫЕ БРЕНДЫ\"   \n",
       "6322    Анимационный                           ООО \"Арт Пикчерс Студия\"   \n",
       "6822    Анимационный                          ООО \"ЛИЦЕНЗИОННЫЕ БРЕНДЫ\"   \n",
       "\n",
       "     production_country                        director  \\\n",
       "2052             Россия                        А.Зайцев   \n",
       "2057             Россия                      Р.Прыгунов   \n",
       "2471             Россия                     А.Андрианов   \n",
       "2531             Россия                    Д.Штурманова   \n",
       "2614             Россия                        М.Фадеев   \n",
       "2683             Россия                     М.Местецкий   \n",
       "2787             Россия                       С Чекалов   \n",
       "2873             Россия                     В.Ровенский   \n",
       "3046             Россия                         Д.Тюрин   \n",
       "3564             Россия                     Ф.Бондарчук   \n",
       "3674             Россия                       А.Лукичев   \n",
       "3738             Россия                    А.Молочников   \n",
       "5672             Россия                      Н.Хомерики   \n",
       "5805             Россия  В.Ровенский, Н.Лопато, В.Азеев   \n",
       "6007             Россия                      М.Нефедова   \n",
       "6322             Россия                         В.Саков   \n",
       "6822             Россия           Н.Лопато, В.Ровенский   \n",
       "\n",
       "                                               producer  \\\n",
       "2052                                О.Гранина, А.Зайцев   \n",
       "2057                 П.Ануров, Ф.Бондарчук, Д.Рудовский   \n",
       "2471                           ООО \"Арт Пикчерс Студия\"   \n",
       "2531                                        Т.Вайнштейн   \n",
       "2614                                         А.Чистяков   \n",
       "2683                              Р.Борисевич, А.Кушаев   \n",
       "2787              Ф.Бондарчук, Т.Вайнштейн, Д.Рудовский   \n",
       "2873                                    ООО \"КиноФирма\"   \n",
       "3046              Ф.Бондарчук, Т.Вайнштейн, Д.Рудовский   \n",
       "3564                           ООО \"Арт Пикчерс Студия\"   \n",
       "3674                                    ООО \"КиноФирма\"   \n",
       "3738  Ф.Бондарчук, Д.Рудовский, И.Стюарт, М.Османн, ...   \n",
       "5672                 П.Ануров, Ф.Бондарчук, Д.Рудовский   \n",
       "5805                          ООО \"ЛИЦЕНЗИОННЫЕ БРЕНДЫ\"   \n",
       "6007                          ООО \"ЛИЦЕНЗИОННЫЕ БРЕНДЫ\"   \n",
       "6322  ООО \"Арт Пикчерс Студия\", ООО \"КРИЭЙТИВ АНИМЭЙ...   \n",
       "6822                          ООО \"ЛИЦЕНЗИОННЫЕ БРЕНДЫ\"   \n",
       "\n",
       "                      age_restriction  refundable_support  \\\n",
       "2052  «16+» - для детей старше 16 лет                 0.0   \n",
       "2057  «16+» - для детей старше 16 лет                 0.0   \n",
       "2471  «12+» - для детей старше 12 лет          10000000.0   \n",
       "2531  «16+» - для детей старше 16 лет          20000000.0   \n",
       "2614    «6+» - для детей старше 6 лет          60000000.0   \n",
       "2683      «18+» - запрещено для детей                 0.0   \n",
       "2787  «16+» - для детей старше 16 лет                 0.0   \n",
       "2873  «12+» - для детей старше 12 лет                 0.0   \n",
       "3046  «16+» - для детей старше 16 лет          19000000.0   \n",
       "3564  «12+» - для детей старше 12 лет                 0.0   \n",
       "3674    «6+» - для детей старше 6 лет          20000000.0   \n",
       "3738  «16+» - для детей старше 16 лет          25000000.0   \n",
       "5672  «16+» - для детей старше 16 лет          20000000.0   \n",
       "5805    «6+» - для детей старше 6 лет          10000000.0   \n",
       "6007    «6+» - для детей старше 6 лет          40000000.0   \n",
       "6322    «6+» - для детей старше 6 лет                 0.0   \n",
       "6822    «6+» - для детей старше 6 лет          60000000.0   \n",
       "\n",
       "      nonrefundable_support  budget                  financing_source  \\\n",
       "2052             23000000.0     0.0  Министерство культуры, Фонд кино   \n",
       "2057             75000000.0     0.0                         Фонд кино   \n",
       "2471             70000000.0     0.0                         Фонд кино   \n",
       "2531                    0.0     0.0                         Фонд кино   \n",
       "2614            100000000.0     0.0                         Фонд кино   \n",
       "2683             59000000.0     0.0                         Фонд кино   \n",
       "2787             35000000.0     0.0                         Фонд кино   \n",
       "2873              6000000.0     0.0             Министерство культуры   \n",
       "3046             51000000.0     0.0                         Фонд кино   \n",
       "3564            250000000.0     0.0                         Фонд кино   \n",
       "3674             20000000.0     0.0                         Фонд кино   \n",
       "3738             20000000.0     0.0                         Фонд кино   \n",
       "5672             40000000.0     0.0                         Фонд кино   \n",
       "5805             60000000.0     0.0                         Фонд кино   \n",
       "6007             40000000.0     0.0                         Фонд кино   \n",
       "6322            138969465.0     0.0                         Фонд кино   \n",
       "6822            120000000.0     0.0                         Фонд кино   \n",
       "\n",
       "      ratings                          genres    box_office  \n",
       "2052      6.6                       мелодрама  1.023402e+07  \n",
       "2057      6.6                           драма  4.461635e+08  \n",
       "2471      7.8           боевик,драма,криминал  1.965724e+08  \n",
       "2531      6.2                 комедия,фэнтези  6.741897e+07  \n",
       "2614      4.6  мультфильм,приключения,фэнтези  1.844876e+08  \n",
       "2683      6.3                   комедия,драма  1.957739e+06  \n",
       "2787      5.1               комедия,мелодрама  7.293778e+07  \n",
       "2873      4.3                         комедия  1.536293e+07  \n",
       "3046      6.3               комедия,мелодрама  7.029905e+07  \n",
       "3564      5.6                      фантастика  1.038321e+09  \n",
       "3674      5.2     мультфильм,фэнтези,семейный  5.510801e+07  \n",
       "3738      4.8                         комедия  5.045195e+07  \n",
       "5672      5.8                   триллер,драма  2.251964e+08  \n",
       "5805      5.0              мультфильм,детский  1.065143e+08  \n",
       "6007      5.2      мультфильм,фэнтези,детский  8.336633e+07  \n",
       "6322      NaN                      неизвестно  1.334699e+06  \n",
       "6822      6.2  мультфильм,комедия,приключения  1.476068e+08  "
      ]
     },
     "execution_count": 35,
     "metadata": {},
     "output_type": "execute_result"
    }
   ],
   "source": [
    "#выводим на экран срез данных, в которых сумма значений в столбцах refundable_support и nonrefundable_support больше значения в столбце budget\n",
    "data.query('(refundable_support + nonrefundable_support) > budget')"
   ]
  },
  {
   "cell_type": "code",
   "execution_count": 36,
   "metadata": {},
   "outputs": [],
   "source": [
    "#создаем функцию, с помощью которой проверяем: если сумма значений в столбцах refundable_support и nonrefundable_support\n",
    "#больше, чем значение в столбце budget, то возвращаем сумму значений в столбцах refundable_support и nonrefundable_support\n",
    "def budget_support(row_values):\n",
    "    refundable_support = row_values['refundable_support']\n",
    "    nonrefundable_support = row_values['nonrefundable_support']\n",
    "    budget = row_values['budget']\n",
    "    support = refundable_support + nonrefundable_support\n",
    "    if support > budget:\n",
    "        return support\n",
    "    return budget\n",
    "\n",
    "data['budget'] = data.apply(budget_support, axis=1) #применяем функцию budget_support к датафрейму, в результате обрабатывая значения в столбце budget"
   ]
  },
  {
   "cell_type": "code",
   "execution_count": 37,
   "metadata": {},
   "outputs": [
    {
     "data": {
      "text/html": [
       "<div>\n",
       "<style scoped>\n",
       "    .dataframe tbody tr th:only-of-type {\n",
       "        vertical-align: middle;\n",
       "    }\n",
       "\n",
       "    .dataframe tbody tr th {\n",
       "        vertical-align: top;\n",
       "    }\n",
       "\n",
       "    .dataframe thead th {\n",
       "        text-align: right;\n",
       "    }\n",
       "</style>\n",
       "<table border=\"1\" class=\"dataframe\">\n",
       "  <thead>\n",
       "    <tr style=\"text-align: right;\">\n",
       "      <th></th>\n",
       "      <th>title</th>\n",
       "      <th>puNumber</th>\n",
       "      <th>show_start_date</th>\n",
       "      <th>type</th>\n",
       "      <th>film_studio</th>\n",
       "      <th>production_country</th>\n",
       "      <th>director</th>\n",
       "      <th>producer</th>\n",
       "      <th>age_restriction</th>\n",
       "      <th>refundable_support</th>\n",
       "      <th>nonrefundable_support</th>\n",
       "      <th>budget</th>\n",
       "      <th>financing_source</th>\n",
       "      <th>ratings</th>\n",
       "      <th>genres</th>\n",
       "      <th>box_office</th>\n",
       "    </tr>\n",
       "  </thead>\n",
       "  <tbody>\n",
       "  </tbody>\n",
       "</table>\n",
       "</div>"
      ],
      "text/plain": [
       "Empty DataFrame\n",
       "Columns: [title, puNumber, show_start_date, type, film_studio, production_country, director, producer, age_restriction, refundable_support, nonrefundable_support, budget, financing_source, ratings, genres, box_office]\n",
       "Index: []"
      ]
     },
     "execution_count": 37,
     "metadata": {},
     "output_type": "execute_result"
    }
   ],
   "source": [
    "#проверка результатов - выводим на экран срез данных, в которых сумма значений в столбцах refundable_support и nonrefundable_support больше значения в столбце budget\n",
    "data.query('(refundable_support + nonrefundable_support) > budget')"
   ]
  },
  {
   "cell_type": "markdown",
   "metadata": {},
   "source": [
    "**Выводы по пункту 2.5:**\n",
    "\n",
    "В столбцах с количественными переменными refundable_support, nonrefundable_support и budget выявлены 17 строк, в которых сумма гос.поддержки больше, чем бюджет фильма. Это явная ошибка, так как бюджет фильма может быть либо равен, либо больше гос.поддержки. Устранили эту ошибку с помощью функции - обеспечили равенство общей суммы гос.поддержки и бюджета в этих строках."
   ]
  },
  {
   "cell_type": "markdown",
   "metadata": {
    "id": "Eu6oWp2CgFyS"
   },
   "source": [
    "### Добавление новых столбцов"
   ]
  },
  {
   "cell_type": "code",
   "execution_count": 38,
   "metadata": {
    "id": "I-yd1DkWgFyT"
   },
   "outputs": [],
   "source": [
    "#создаем новый столбец year_rental, путем получения значения года из show_start_date\n",
    "data['year_rental'] = pd.DatetimeIndex(data['show_start_date']).year "
   ]
  },
  {
   "cell_type": "code",
   "execution_count": 39,
   "metadata": {
    "id": "LSbRZKbMgFyU"
   },
   "outputs": [],
   "source": [
    "#создаем функцию, с помощью которой разбиваем строку с разделителями в столбце и берем только первое значение\n",
    "def first_value(value):\n",
    "    return value.split(\",\")[0]\n",
    "\n",
    "#создаем новый столбец, в который добавляем значения столбца director, обработанные функцией first_value\n",
    "data['main_director'] = data['director'].apply(first_value)\n",
    "#создаем новый столбец, в который добавляем значения столбца genres, обработанные функцией first_value\n",
    "data['main_genre'] = data['genres'].apply(first_value)"
   ]
  },
  {
   "cell_type": "markdown",
   "metadata": {
    "id": "1FsCXHwdgFyU"
   },
   "source": [
    "- Посчитаем, какую долю от общего бюджета фильма составляет государственная поддержка."
   ]
  },
  {
   "cell_type": "code",
   "execution_count": 64,
   "metadata": {
    "id": "LV6qFuZLgFyV"
   },
   "outputs": [],
   "source": [
    "#считаем долю гос.поддержки, складывая значения столбцов refundable_support и nonrefundable_support \n",
    "#и деля их на значение столбца budget, результат округляем до сотых.\n",
    "data['share_support'] = ((data['refundable_support'] + data['nonrefundable_support']) / data['budget']).round(2)  "
   ]
  },
  {
   "cell_type": "code",
   "execution_count": 41,
   "metadata": {
    "scrolled": false
   },
   "outputs": [
    {
     "data": {
      "text/html": [
       "<div>\n",
       "<style scoped>\n",
       "    .dataframe tbody tr th:only-of-type {\n",
       "        vertical-align: middle;\n",
       "    }\n",
       "\n",
       "    .dataframe tbody tr th {\n",
       "        vertical-align: top;\n",
       "    }\n",
       "\n",
       "    .dataframe thead th {\n",
       "        text-align: right;\n",
       "    }\n",
       "</style>\n",
       "<table border=\"1\" class=\"dataframe\">\n",
       "  <thead>\n",
       "    <tr style=\"text-align: right;\">\n",
       "      <th></th>\n",
       "      <th>title</th>\n",
       "      <th>puNumber</th>\n",
       "      <th>show_start_date</th>\n",
       "      <th>type</th>\n",
       "      <th>film_studio</th>\n",
       "      <th>production_country</th>\n",
       "      <th>director</th>\n",
       "      <th>producer</th>\n",
       "      <th>age_restriction</th>\n",
       "      <th>refundable_support</th>\n",
       "      <th>nonrefundable_support</th>\n",
       "      <th>budget</th>\n",
       "      <th>financing_source</th>\n",
       "      <th>ratings</th>\n",
       "      <th>genres</th>\n",
       "      <th>box_office</th>\n",
       "      <th>year_rental</th>\n",
       "      <th>main_director</th>\n",
       "      <th>main_genre</th>\n",
       "      <th>share_support</th>\n",
       "    </tr>\n",
       "  </thead>\n",
       "  <tbody>\n",
       "    <tr>\n",
       "      <th>0</th>\n",
       "      <td>Открытый простор</td>\n",
       "      <td>221048915</td>\n",
       "      <td>2015-11-27 12:00:00+00:00</td>\n",
       "      <td>Художественный</td>\n",
       "      <td>Тачстоун Пикчерз, Кобальт Пикчерз, Бикон Пикче...</td>\n",
       "      <td>США</td>\n",
       "      <td>Кевин Костнер</td>\n",
       "      <td>Дэвид Валдес, Кевин Костнер, Джейк Эбертс</td>\n",
       "      <td>«18+» - запрещено для детей</td>\n",
       "      <td>NaN</td>\n",
       "      <td>NaN</td>\n",
       "      <td>NaN</td>\n",
       "      <td>NaN</td>\n",
       "      <td>7.2</td>\n",
       "      <td>боевик,драма,мелодрама</td>\n",
       "      <td>NaN</td>\n",
       "      <td>2015</td>\n",
       "      <td>Кевин Костнер</td>\n",
       "      <td>боевик</td>\n",
       "      <td>NaN</td>\n",
       "    </tr>\n",
       "    <tr>\n",
       "      <th>1</th>\n",
       "      <td>Особо важное задание</td>\n",
       "      <td>111013716</td>\n",
       "      <td>2016-09-13 12:00:00+00:00</td>\n",
       "      <td>Художественный</td>\n",
       "      <td>Киностудия \"Мосфильм\"</td>\n",
       "      <td>СССР</td>\n",
       "      <td>Е.Матвеев</td>\n",
       "      <td>NaN</td>\n",
       "      <td>«6+» - для детей старше 6 лет</td>\n",
       "      <td>NaN</td>\n",
       "      <td>NaN</td>\n",
       "      <td>NaN</td>\n",
       "      <td>NaN</td>\n",
       "      <td>6.6</td>\n",
       "      <td>драма,военный</td>\n",
       "      <td>NaN</td>\n",
       "      <td>2016</td>\n",
       "      <td>Е.Матвеев</td>\n",
       "      <td>драма</td>\n",
       "      <td>NaN</td>\n",
       "    </tr>\n",
       "    <tr>\n",
       "      <th>2</th>\n",
       "      <td>Особо опасен</td>\n",
       "      <td>221038416</td>\n",
       "      <td>2016-10-10 12:00:00+00:00</td>\n",
       "      <td>Художественный</td>\n",
       "      <td>Юниверсал Пикчерз, Кикстарт Продакшнз, Марк Пл...</td>\n",
       "      <td>США</td>\n",
       "      <td>Тимур Бекмамбетов</td>\n",
       "      <td>Джим Лемли, Джейсон Нетер, Марк Е.Платт, Яйн Смит</td>\n",
       "      <td>«18+» - запрещено для детей</td>\n",
       "      <td>NaN</td>\n",
       "      <td>NaN</td>\n",
       "      <td>NaN</td>\n",
       "      <td>NaN</td>\n",
       "      <td>6.8</td>\n",
       "      <td>фантастика,боевик,триллер</td>\n",
       "      <td>NaN</td>\n",
       "      <td>2016</td>\n",
       "      <td>Тимур Бекмамбетов</td>\n",
       "      <td>фантастика</td>\n",
       "      <td>NaN</td>\n",
       "    </tr>\n",
       "    <tr>\n",
       "      <th>3</th>\n",
       "      <td>Особо опасен</td>\n",
       "      <td>221026916</td>\n",
       "      <td>2016-06-10 12:00:00+00:00</td>\n",
       "      <td>Художественный</td>\n",
       "      <td>Юниверсал Пикчерз, Кикстарт Продакшнз, Марк Пл...</td>\n",
       "      <td>США</td>\n",
       "      <td>Тимур Бекмамбетов</td>\n",
       "      <td>Джим Лемли, Джейсон Нетер, Марк Е.Платт, Яйн Смит</td>\n",
       "      <td>«18+» - запрещено для детей</td>\n",
       "      <td>NaN</td>\n",
       "      <td>NaN</td>\n",
       "      <td>NaN</td>\n",
       "      <td>NaN</td>\n",
       "      <td>6.8</td>\n",
       "      <td>фантастика,боевик,триллер</td>\n",
       "      <td>NaN</td>\n",
       "      <td>2016</td>\n",
       "      <td>Тимур Бекмамбетов</td>\n",
       "      <td>фантастика</td>\n",
       "      <td>NaN</td>\n",
       "    </tr>\n",
       "    <tr>\n",
       "      <th>4</th>\n",
       "      <td>Особо опасен</td>\n",
       "      <td>221030815</td>\n",
       "      <td>2015-07-29 12:00:00+00:00</td>\n",
       "      <td>Художественный</td>\n",
       "      <td>Юниверсал Пикчерз, Кикстарт Продакшнз, Марк Пл...</td>\n",
       "      <td>США</td>\n",
       "      <td>Тимур Бекмамбетов</td>\n",
       "      <td>Джим Лемли, Джейсон Нетер, Марк Е.Платт, Яйн Смит</td>\n",
       "      <td>«18+» - запрещено для детей</td>\n",
       "      <td>NaN</td>\n",
       "      <td>NaN</td>\n",
       "      <td>NaN</td>\n",
       "      <td>NaN</td>\n",
       "      <td>6.8</td>\n",
       "      <td>фантастика,боевик,триллер</td>\n",
       "      <td>NaN</td>\n",
       "      <td>2015</td>\n",
       "      <td>Тимур Бекмамбетов</td>\n",
       "      <td>фантастика</td>\n",
       "      <td>NaN</td>\n",
       "    </tr>\n",
       "  </tbody>\n",
       "</table>\n",
       "</div>"
      ],
      "text/plain": [
       "                  title   puNumber           show_start_date            type  \\\n",
       "0      Открытый простор  221048915 2015-11-27 12:00:00+00:00  Художественный   \n",
       "1  Особо важное задание  111013716 2016-09-13 12:00:00+00:00  Художественный   \n",
       "2          Особо опасен  221038416 2016-10-10 12:00:00+00:00  Художественный   \n",
       "3          Особо опасен  221026916 2016-06-10 12:00:00+00:00  Художественный   \n",
       "4          Особо опасен  221030815 2015-07-29 12:00:00+00:00  Художественный   \n",
       "\n",
       "                                         film_studio production_country  \\\n",
       "0  Тачстоун Пикчерз, Кобальт Пикчерз, Бикон Пикче...                США   \n",
       "1                              Киностудия \"Мосфильм\"               СССР   \n",
       "2  Юниверсал Пикчерз, Кикстарт Продакшнз, Марк Пл...                США   \n",
       "3  Юниверсал Пикчерз, Кикстарт Продакшнз, Марк Пл...                США   \n",
       "4  Юниверсал Пикчерз, Кикстарт Продакшнз, Марк Пл...                США   \n",
       "\n",
       "            director                                           producer  \\\n",
       "0      Кевин Костнер          Дэвид Валдес, Кевин Костнер, Джейк Эбертс   \n",
       "1          Е.Матвеев                                                NaN   \n",
       "2  Тимур Бекмамбетов  Джим Лемли, Джейсон Нетер, Марк Е.Платт, Яйн Смит   \n",
       "3  Тимур Бекмамбетов  Джим Лемли, Джейсон Нетер, Марк Е.Платт, Яйн Смит   \n",
       "4  Тимур Бекмамбетов  Джим Лемли, Джейсон Нетер, Марк Е.Платт, Яйн Смит   \n",
       "\n",
       "                 age_restriction  refundable_support  nonrefundable_support  \\\n",
       "0    «18+» - запрещено для детей                 NaN                    NaN   \n",
       "1  «6+» - для детей старше 6 лет                 NaN                    NaN   \n",
       "2    «18+» - запрещено для детей                 NaN                    NaN   \n",
       "3    «18+» - запрещено для детей                 NaN                    NaN   \n",
       "4    «18+» - запрещено для детей                 NaN                    NaN   \n",
       "\n",
       "   budget financing_source  ratings                     genres  box_office  \\\n",
       "0     NaN              NaN      7.2     боевик,драма,мелодрама         NaN   \n",
       "1     NaN              NaN      6.6              драма,военный         NaN   \n",
       "2     NaN              NaN      6.8  фантастика,боевик,триллер         NaN   \n",
       "3     NaN              NaN      6.8  фантастика,боевик,триллер         NaN   \n",
       "4     NaN              NaN      6.8  фантастика,боевик,триллер         NaN   \n",
       "\n",
       "   year_rental      main_director  main_genre  share_support  \n",
       "0         2015      Кевин Костнер      боевик            NaN  \n",
       "1         2016          Е.Матвеев       драма            NaN  \n",
       "2         2016  Тимур Бекмамбетов  фантастика            NaN  \n",
       "3         2016  Тимур Бекмамбетов  фантастика            NaN  \n",
       "4         2015  Тимур Бекмамбетов  фантастика            NaN  "
      ]
     },
     "execution_count": 41,
     "metadata": {},
     "output_type": "execute_result"
    }
   ],
   "source": [
    "data.head() #выводим на экран первые 5 строк датафрейма для проверки добавления столбцов"
   ]
  },
  {
   "cell_type": "markdown",
   "metadata": {
    "id": "6t4EukPLgFyV"
   },
   "source": [
    "## Исследовательский анализ данных\n"
   ]
  },
  {
   "cell_type": "markdown",
   "metadata": {
    "id": "vAH8WCzugFyV"
   },
   "source": [
    "- Посмотрим, сколько фильмов выходило в прокат каждый год, посчитаем, какую долю составляют фильмы с указанной информацией о прокате в кинотеатрах."
   ]
  },
  {
   "cell_type": "code",
   "execution_count": 42,
   "metadata": {
    "id": "ABeV47y7gFyW"
   },
   "outputs": [
    {
     "data": {
      "text/html": [
       "<div>\n",
       "<style scoped>\n",
       "    .dataframe tbody tr th:only-of-type {\n",
       "        vertical-align: middle;\n",
       "    }\n",
       "\n",
       "    .dataframe tbody tr th {\n",
       "        vertical-align: top;\n",
       "    }\n",
       "\n",
       "    .dataframe thead th {\n",
       "        text-align: right;\n",
       "    }\n",
       "</style>\n",
       "<table border=\"1\" class=\"dataframe\">\n",
       "  <thead>\n",
       "    <tr style=\"text-align: right;\">\n",
       "      <th></th>\n",
       "      <th>Количество фильмов в прокате</th>\n",
       "      <th>Количество фильмов в прокате в кинотеатрах</th>\n",
       "      <th>Доля фильмов в прокате в кинотеатрах</th>\n",
       "    </tr>\n",
       "    <tr>\n",
       "      <th>year_rental</th>\n",
       "      <th></th>\n",
       "      <th></th>\n",
       "      <th></th>\n",
       "    </tr>\n",
       "  </thead>\n",
       "  <tbody>\n",
       "    <tr>\n",
       "      <th>2010</th>\n",
       "      <td>985</td>\n",
       "      <td>101</td>\n",
       "      <td>0.10</td>\n",
       "    </tr>\n",
       "    <tr>\n",
       "      <th>2011</th>\n",
       "      <td>622</td>\n",
       "      <td>109</td>\n",
       "      <td>0.18</td>\n",
       "    </tr>\n",
       "    <tr>\n",
       "      <th>2012</th>\n",
       "      <td>593</td>\n",
       "      <td>123</td>\n",
       "      <td>0.21</td>\n",
       "    </tr>\n",
       "    <tr>\n",
       "      <th>2013</th>\n",
       "      <td>630</td>\n",
       "      <td>179</td>\n",
       "      <td>0.28</td>\n",
       "    </tr>\n",
       "    <tr>\n",
       "      <th>2014</th>\n",
       "      <td>806</td>\n",
       "      <td>273</td>\n",
       "      <td>0.34</td>\n",
       "    </tr>\n",
       "    <tr>\n",
       "      <th>2015</th>\n",
       "      <td>705</td>\n",
       "      <td>463</td>\n",
       "      <td>0.66</td>\n",
       "    </tr>\n",
       "    <tr>\n",
       "      <th>2016</th>\n",
       "      <td>818</td>\n",
       "      <td>526</td>\n",
       "      <td>0.64</td>\n",
       "    </tr>\n",
       "    <tr>\n",
       "      <th>2017</th>\n",
       "      <td>505</td>\n",
       "      <td>359</td>\n",
       "      <td>0.71</td>\n",
       "    </tr>\n",
       "    <tr>\n",
       "      <th>2018</th>\n",
       "      <td>891</td>\n",
       "      <td>475</td>\n",
       "      <td>0.53</td>\n",
       "    </tr>\n",
       "    <tr>\n",
       "      <th>2019</th>\n",
       "      <td>930</td>\n",
       "      <td>540</td>\n",
       "      <td>0.58</td>\n",
       "    </tr>\n",
       "  </tbody>\n",
       "</table>\n",
       "</div>"
      ],
      "text/plain": [
       "             Количество фильмов в прокате  \\\n",
       "year_rental                                 \n",
       "2010                                  985   \n",
       "2011                                  622   \n",
       "2012                                  593   \n",
       "2013                                  630   \n",
       "2014                                  806   \n",
       "2015                                  705   \n",
       "2016                                  818   \n",
       "2017                                  505   \n",
       "2018                                  891   \n",
       "2019                                  930   \n",
       "\n",
       "             Количество фильмов в прокате в кинотеатрах  \\\n",
       "year_rental                                               \n",
       "2010                                                101   \n",
       "2011                                                109   \n",
       "2012                                                123   \n",
       "2013                                                179   \n",
       "2014                                                273   \n",
       "2015                                                463   \n",
       "2016                                                526   \n",
       "2017                                                359   \n",
       "2018                                                475   \n",
       "2019                                                540   \n",
       "\n",
       "             Доля фильмов в прокате в кинотеатрах  \n",
       "year_rental                                        \n",
       "2010                                         0.10  \n",
       "2011                                         0.18  \n",
       "2012                                         0.21  \n",
       "2013                                         0.28  \n",
       "2014                                         0.34  \n",
       "2015                                         0.66  \n",
       "2016                                         0.64  \n",
       "2017                                         0.71  \n",
       "2018                                         0.53  \n",
       "2019                                         0.58  "
      ]
     },
     "metadata": {},
     "output_type": "display_data"
    }
   ],
   "source": [
    "#создаем сводную таблицу с группировкой по годам, в которой считаем количество фильмов в прокате всего\n",
    "pivot_year_total = data.pivot_table(index='year_rental', values='puNumber',aggfunc='count')\n",
    "#даем новое наименование получившемуся столбцу\n",
    "pivot_year_total.columns = ['Количество фильмов в прокате']\n",
    "#создаем отдельный датафрейм, в котором оставляем только фильмы, по которым либо ненулевая гос.поддержка,либо ненулевые кассовые сборы\n",
    "cinema_rental = data.loc[((data['refundable_support'] > 0) | (data['nonrefundable_support'] > 0) | (data['box_office'] > 0))]\n",
    "#на основании нового датафрейма cinema_rental создаем сводную таблицу с группировкой по годам, \n",
    "#где считаем количество фильмов в прокате в кинотеатрах\n",
    "cinema_rental_year = cinema_rental.pivot_table(index='year_rental', values='puNumber', aggfunc='count')\n",
    "#даем новое наименование получившемуся столбцу\n",
    "cinema_rental_year.columns = ['Количество фильмов в прокате в кинотеатрах']\n",
    "#добавляем столбец \"Количество фильмов в прокате в кинотеатрах\", в сводную таблицу pivot_year_total \n",
    "pivot_year_total['Количество фильмов в прокате в кинотеатрах'] = cinema_rental_year['Количество фильмов в прокате в кинотеатрах']\n",
    "#считаем долю фильмов в прокате в кинотеатрах, деля значение в столбце 'Количество фильмов в прокате в кинотеатрах'  \n",
    "#на значение в столбце 'Количество фильмов в прокате' и округляем результат до сотых.\n",
    "pivot_year_total['Доля фильмов в прокате в кинотеатрах'] = (pivot_year_total['Количество фильмов в прокате в кинотеатрах'] / pivot_year_total['Количество фильмов в прокате']).round(2)\n",
    "#выводим на экран итоговую сводную таблицу\n",
    "display(pivot_year_total)"
   ]
  },
  {
   "cell_type": "code",
   "execution_count": 43,
   "metadata": {},
   "outputs": [
    {
     "data": {
      "image/png": "[encoded data removed]",
      "text/plain": [
       "<Figure size 432x288 with 1 Axes>"
      ]
     },
     "metadata": {
      "needs_background": "light"
     },
     "output_type": "display_data"
    }
   ],
   "source": [
    "#на основании сводной таблицы pivot_year_total строим столбчатую диаграмму, где отражаемся динамика\n",
    "#изменения доли фильмов в прокате в кинотеатрах по годам\n",
    "(\n",
    "    pivot_year_total.pivot_table(index='year_rental', values='Доля фильмов в прокате в кинотеатрах')\n",
    "    .plot(kind='bar')\n",
    ")\n",
    "plt.title('Динамика изменения доли фильмов в прокате в кинотеатрах по годам')\n",
    "plt.xlabel('год')\n",
    "plt.ylabel('доля фильмов')\n",
    "plt.show;"
   ]
  },
  {
   "cell_type": "markdown",
   "metadata": {},
   "source": [
    "Исследовательский анализ показал, что наибольшее количество фильмов в прокат выходило в 2010, наименьшее количество фильмов в прокат выходило в 2017 году. При этом доля фильмов в прокате в кинотеатрах в 2017 году наибольшая (71%). Наименьшая доля фильмов в прокате в кинотеатрах - в 2010 году и с каждым последующим годом она повышается практически до 2017 года, затем немного уменьшается. Но следует отметить, что в период с 2010 по 2014 год количество фильмов в прокате в кинотеатрах, а следовательно и доля этих фильмов, очень маленькая, что, вероятно, связано с отсутствием в датафрейме части информации по этим годам."
   ]
  },
  {
   "cell_type": "markdown",
   "metadata": {
    "id": "BEOdcIrIgFyW"
   },
   "source": [
    "- Изучим, как менялась динамика проката по годам."
   ]
  },
  {
   "cell_type": "code",
   "execution_count": 44,
   "metadata": {
    "id": "tfEhofYvgFyX"
   },
   "outputs": [
    {
     "data": {
      "text/html": [
       "<div>\n",
       "<style scoped>\n",
       "    .dataframe tbody tr th:only-of-type {\n",
       "        vertical-align: middle;\n",
       "    }\n",
       "\n",
       "    .dataframe tbody tr th {\n",
       "        vertical-align: top;\n",
       "    }\n",
       "\n",
       "    .dataframe thead th {\n",
       "        text-align: right;\n",
       "    }\n",
       "</style>\n",
       "<table border=\"1\" class=\"dataframe\">\n",
       "  <thead>\n",
       "    <tr style=\"text-align: right;\">\n",
       "      <th></th>\n",
       "      <th>Сумма кассовых сборов по годам</th>\n",
       "    </tr>\n",
       "    <tr>\n",
       "      <th>year_rental</th>\n",
       "      <th></th>\n",
       "    </tr>\n",
       "  </thead>\n",
       "  <tbody>\n",
       "    <tr>\n",
       "      <th>2010</th>\n",
       "      <td>2428654.00</td>\n",
       "    </tr>\n",
       "    <tr>\n",
       "      <th>2011</th>\n",
       "      <td>14102765.00</td>\n",
       "    </tr>\n",
       "    <tr>\n",
       "      <th>2012</th>\n",
       "      <td>6955423.00</td>\n",
       "    </tr>\n",
       "    <tr>\n",
       "      <th>2013</th>\n",
       "      <td>29799706.20</td>\n",
       "    </tr>\n",
       "    <tr>\n",
       "      <th>2014</th>\n",
       "      <td>7444951859.20</td>\n",
       "    </tr>\n",
       "    <tr>\n",
       "      <th>2015</th>\n",
       "      <td>39497365196.40</td>\n",
       "    </tr>\n",
       "    <tr>\n",
       "      <th>2016</th>\n",
       "      <td>47866299741.91</td>\n",
       "    </tr>\n",
       "    <tr>\n",
       "      <th>2017</th>\n",
       "      <td>48563707217.51</td>\n",
       "    </tr>\n",
       "    <tr>\n",
       "      <th>2018</th>\n",
       "      <td>49668403134.32</td>\n",
       "    </tr>\n",
       "    <tr>\n",
       "      <th>2019</th>\n",
       "      <td>48425708779.59</td>\n",
       "    </tr>\n",
       "  </tbody>\n",
       "</table>\n",
       "</div>"
      ],
      "text/plain": [
       "             Сумма кассовых сборов по годам\n",
       "year_rental                                \n",
       "2010                             2428654.00\n",
       "2011                            14102765.00\n",
       "2012                             6955423.00\n",
       "2013                            29799706.20\n",
       "2014                          7444951859.20\n",
       "2015                         39497365196.40\n",
       "2016                         47866299741.91\n",
       "2017                         48563707217.51\n",
       "2018                         49668403134.32\n",
       "2019                         48425708779.59"
      ]
     },
     "metadata": {},
     "output_type": "display_data"
    },
    {
     "data": {
      "image/png": "[encoded data removed]",
      "text/plain": [
       "<Figure size 1080x360 with 1 Axes>"
      ]
     },
     "metadata": {
      "needs_background": "light"
     },
     "output_type": "display_data"
    }
   ],
   "source": [
    "#создаем сводную таблицу с группировкой по годам, где считаем общую сумму кассовых сборов\n",
    "box_year = data.pivot_table(index='year_rental', values='box_office', aggfunc='sum')\n",
    "#даем новое наименование получившемуся столбцу\n",
    "box_year.columns = ['Сумма кассовых сборов по годам']\n",
    "#убираем экспоненциальные числа\n",
    "pd.set_option('display.float_format', lambda x: '%.2f' % x)\n",
    "#выводим на экран сводную таблицу box_year\n",
    "display(box_year)\n",
    "\n",
    "#на основании сводной таблицы box_year строим график, где отражаемся динамика\n",
    "#изменения изменения суммы кассовых сборов от проката по годам\n",
    "box_year.plot(grid=True, figsize=(15, 5), style='o-')\n",
    "plt.title('Динамика изменения суммы кассовых сборов от проката по годам')\n",
    "plt.xlabel('год')\n",
    "plt.ylabel('кассовые сборы, руб.')\n",
    "plt.show;"
   ]
  },
  {
   "cell_type": "markdown",
   "metadata": {},
   "source": [
    "Максимальная сумма сборов от проката была в 2018 году (49 668 403 134,32 руб.) А минимальная сумма сборов была в 2010 году (2 428 654,00 руб.). Но опять же следует отметить, что эта цифра в масштабе страны очень маленькая, что в очередной раз подтверждает, что в датафрейме либо нет части информации, либо,что скорее всего, заведены неверные данные за период с 2010 по 2014 год."
   ]
  },
  {
   "cell_type": "markdown",
   "metadata": {
    "id": "G-7qS-N-gFyY"
   },
   "source": [
    "- посчитаем среднюю и медианную сумму сборов для каждого года."
   ]
  },
  {
   "cell_type": "code",
   "execution_count": 65,
   "metadata": {
    "id": "jmp-rgg9gFyY"
   },
   "outputs": [
    {
     "data": {
      "text/html": [
       "<div>\n",
       "<style scoped>\n",
       "    .dataframe tbody tr th:only-of-type {\n",
       "        vertical-align: middle;\n",
       "    }\n",
       "\n",
       "    .dataframe tbody tr th {\n",
       "        vertical-align: top;\n",
       "    }\n",
       "\n",
       "    .dataframe thead th {\n",
       "        text-align: right;\n",
       "    }\n",
       "</style>\n",
       "<table border=\"1\" class=\"dataframe\">\n",
       "  <thead>\n",
       "    <tr style=\"text-align: right;\">\n",
       "      <th></th>\n",
       "      <th>Среднее по кассовым сборам</th>\n",
       "      <th>Медиана по кассовым сборам</th>\n",
       "    </tr>\n",
       "    <tr>\n",
       "      <th>year_rental</th>\n",
       "      <th></th>\n",
       "      <th></th>\n",
       "    </tr>\n",
       "  </thead>\n",
       "  <tbody>\n",
       "    <tr>\n",
       "      <th>2010</th>\n",
       "      <td>23130.04</td>\n",
       "      <td>1700.00</td>\n",
       "    </tr>\n",
       "    <tr>\n",
       "      <th>2011</th>\n",
       "      <td>129383.17</td>\n",
       "      <td>3000.00</td>\n",
       "    </tr>\n",
       "    <tr>\n",
       "      <th>2012</th>\n",
       "      <td>54339.24</td>\n",
       "      <td>5660.00</td>\n",
       "    </tr>\n",
       "    <tr>\n",
       "      <th>2013</th>\n",
       "      <td>161954.92</td>\n",
       "      <td>3522.50</td>\n",
       "    </tr>\n",
       "    <tr>\n",
       "      <th>2014</th>\n",
       "      <td>26684415.27</td>\n",
       "      <td>18160.00</td>\n",
       "    </tr>\n",
       "    <tr>\n",
       "      <th>2015</th>\n",
       "      <td>84940570.31</td>\n",
       "      <td>4920933.00</td>\n",
       "    </tr>\n",
       "    <tr>\n",
       "      <th>2016</th>\n",
       "      <td>91000569.85</td>\n",
       "      <td>3846679.41</td>\n",
       "    </tr>\n",
       "    <tr>\n",
       "      <th>2017</th>\n",
       "      <td>136032793.33</td>\n",
       "      <td>9968340.00</td>\n",
       "    </tr>\n",
       "    <tr>\n",
       "      <th>2018</th>\n",
       "      <td>104565059.23</td>\n",
       "      <td>8891102.21</td>\n",
       "    </tr>\n",
       "    <tr>\n",
       "      <th>2019</th>\n",
       "      <td>91369261.85</td>\n",
       "      <td>4627798.34</td>\n",
       "    </tr>\n",
       "  </tbody>\n",
       "</table>\n",
       "</div>"
      ],
      "text/plain": [
       "             Среднее по кассовым сборам  Медиана по кассовым сборам\n",
       "year_rental                                                        \n",
       "2010                           23130.04                     1700.00\n",
       "2011                          129383.17                     3000.00\n",
       "2012                           54339.24                     5660.00\n",
       "2013                          161954.92                     3522.50\n",
       "2014                        26684415.27                    18160.00\n",
       "2015                        84940570.31                  4920933.00\n",
       "2016                        91000569.85                  3846679.41\n",
       "2017                       136032793.33                  9968340.00\n",
       "2018                       104565059.23                  8891102.21\n",
       "2019                        91369261.85                  4627798.34"
      ]
     },
     "metadata": {},
     "output_type": "display_data"
    }
   ],
   "source": [
    "#создаем сводную таблицу с группировкой по годам, в которой считаем среднее и медиану по кассовым сборам\n",
    "mean_med_box = data.pivot_table(index='year_rental', values='box_office', aggfunc=['mean', 'median'])\n",
    "#даем новое наименование получившимся столбцам\n",
    "mean_med_box.columns = ['Среднее по кассовым сборам', 'Медиана по кассовым сборам']\n",
    "#выводим на экран сводную таблицу mean_med_box\n",
    "display(mean_med_box)"
   ]
  },
  {
   "cell_type": "markdown",
   "metadata": {},
   "source": [
    "Медиана по кассовым сборам максимальная также в 2017 году (9 968 340,00 руб.), минимальная - в 2010 году (1 700 руб.). Среднее по кассовым сборам тоже в 2017 году максимальное - 136 032 793,33 руб. и минимальное в 2010 году - 23 130,04 руб. Разброс между медианным и средним значением показывает, как сильно зависит от разброса значений среднее арифметическое."
   ]
  },
  {
   "cell_type": "markdown",
   "metadata": {
    "id": "Ok89WFwJgFyZ"
   },
   "source": [
    "- Определим, влияет ли возрастное ограничение аудитории («6+», «12+», «16+», «18+» и т. д.) на сборы фильма в прокате в период с 2015 по 2019 год"
   ]
  },
  {
   "cell_type": "code",
   "execution_count": 46,
   "metadata": {},
   "outputs": [
    {
     "data": {
      "text/html": [
       "<div>\n",
       "<style scoped>\n",
       "    .dataframe tbody tr th:only-of-type {\n",
       "        vertical-align: middle;\n",
       "    }\n",
       "\n",
       "    .dataframe tbody tr th {\n",
       "        vertical-align: top;\n",
       "    }\n",
       "\n",
       "    .dataframe thead th {\n",
       "        text-align: right;\n",
       "    }\n",
       "</style>\n",
       "<table border=\"1\" class=\"dataframe\">\n",
       "  <thead>\n",
       "    <tr style=\"text-align: right;\">\n",
       "      <th></th>\n",
       "      <th>box_office</th>\n",
       "    </tr>\n",
       "    <tr>\n",
       "      <th>age_restriction</th>\n",
       "      <th></th>\n",
       "    </tr>\n",
       "  </thead>\n",
       "  <tbody>\n",
       "    <tr>\n",
       "      <th>«0+» - для любой зрительской аудитории</th>\n",
       "      <td>2943318.70</td>\n",
       "    </tr>\n",
       "    <tr>\n",
       "      <th>«12+» - для детей старше 12 лет</th>\n",
       "      <td>5065044.25</td>\n",
       "    </tr>\n",
       "    <tr>\n",
       "      <th>«16+» - для детей старше 16 лет</th>\n",
       "      <td>5600007.00</td>\n",
       "    </tr>\n",
       "    <tr>\n",
       "      <th>«18+» - запрещено для детей</th>\n",
       "      <td>6154439.17</td>\n",
       "    </tr>\n",
       "    <tr>\n",
       "      <th>«6+» - для детей старше 6 лет</th>\n",
       "      <td>13736207.98</td>\n",
       "    </tr>\n",
       "  </tbody>\n",
       "</table>\n",
       "</div>"
      ],
      "text/plain": [
       "                                        box_office\n",
       "age_restriction                                   \n",
       "«0+» - для любой зрительской аудитории  2943318.70\n",
       "«12+» - для детей старше 12 лет         5065044.25\n",
       "«16+» - для детей старше 16 лет         5600007.00\n",
       "«18+» - запрещено для детей             6154439.17\n",
       "«6+» - для детей старше 6 лет          13736207.98"
      ]
     },
     "execution_count": 46,
     "metadata": {},
     "output_type": "execute_result"
    }
   ],
   "source": [
    "#от исходного датафрейма делаем срез данных, в котором год больше 2014 и группируем его по возрастному ограничению\n",
    "# и считаем медиану по кассовому сбору\n",
    "(data\n",
    " .query('year_rental > 2014')\n",
    " .groupby('age_restriction').agg({'box_office': 'median'})\n",
    ")"
   ]
  },
  {
   "cell_type": "code",
   "execution_count": 47,
   "metadata": {
    "id": "jsSbEqfjgFya"
   },
   "outputs": [
    {
     "data": {
      "text/html": [
       "<div>\n",
       "<style scoped>\n",
       "    .dataframe tbody tr th:only-of-type {\n",
       "        vertical-align: middle;\n",
       "    }\n",
       "\n",
       "    .dataframe tbody tr th {\n",
       "        vertical-align: top;\n",
       "    }\n",
       "\n",
       "    .dataframe thead th {\n",
       "        text-align: right;\n",
       "    }\n",
       "</style>\n",
       "<table border=\"1\" class=\"dataframe\">\n",
       "  <thead>\n",
       "    <tr style=\"text-align: right;\">\n",
       "      <th></th>\n",
       "      <th></th>\n",
       "      <th>box_office</th>\n",
       "    </tr>\n",
       "    <tr>\n",
       "      <th>year_rental</th>\n",
       "      <th>age_restriction</th>\n",
       "      <th></th>\n",
       "    </tr>\n",
       "  </thead>\n",
       "  <tbody>\n",
       "    <tr>\n",
       "      <th rowspan=\"5\" valign=\"top\">2015</th>\n",
       "      <th>«0+» - для любой зрительской аудитории</th>\n",
       "      <td>2943318.70</td>\n",
       "    </tr>\n",
       "    <tr>\n",
       "      <th>«12+» - для детей старше 12 лет</th>\n",
       "      <td>15351562.50</td>\n",
       "    </tr>\n",
       "    <tr>\n",
       "      <th>«16+» - для детей старше 16 лет</th>\n",
       "      <td>4676819.40</td>\n",
       "    </tr>\n",
       "    <tr>\n",
       "      <th>«18+» - запрещено для детей</th>\n",
       "      <td>4616614.70</td>\n",
       "    </tr>\n",
       "    <tr>\n",
       "      <th>«6+» - для детей старше 6 лет</th>\n",
       "      <td>20380982.20</td>\n",
       "    </tr>\n",
       "    <tr>\n",
       "      <th rowspan=\"5\" valign=\"top\">2016</th>\n",
       "      <th>«0+» - для любой зрительской аудитории</th>\n",
       "      <td>2571294.10</td>\n",
       "    </tr>\n",
       "    <tr>\n",
       "      <th>«12+» - для детей старше 12 лет</th>\n",
       "      <td>4690635.25</td>\n",
       "    </tr>\n",
       "    <tr>\n",
       "      <th>«16+» - для детей старше 16 лет</th>\n",
       "      <td>5133021.74</td>\n",
       "    </tr>\n",
       "    <tr>\n",
       "      <th>«18+» - запрещено для детей</th>\n",
       "      <td>6107001.74</td>\n",
       "    </tr>\n",
       "    <tr>\n",
       "      <th>«6+» - для детей старше 6 лет</th>\n",
       "      <td>3026256.15</td>\n",
       "    </tr>\n",
       "    <tr>\n",
       "      <th rowspan=\"5\" valign=\"top\">2017</th>\n",
       "      <th>«0+» - для любой зрительской аудитории</th>\n",
       "      <td>22178956.00</td>\n",
       "    </tr>\n",
       "    <tr>\n",
       "      <th>«12+» - для детей старше 12 лет</th>\n",
       "      <td>9010548.00</td>\n",
       "    </tr>\n",
       "    <tr>\n",
       "      <th>«16+» - для детей старше 16 лет</th>\n",
       "      <td>9702077.00</td>\n",
       "    </tr>\n",
       "    <tr>\n",
       "      <th>«18+» - запрещено для детей</th>\n",
       "      <td>8212677.00</td>\n",
       "    </tr>\n",
       "    <tr>\n",
       "      <th>«6+» - для детей старше 6 лет</th>\n",
       "      <td>51992103.00</td>\n",
       "    </tr>\n",
       "    <tr>\n",
       "      <th rowspan=\"5\" valign=\"top\">2018</th>\n",
       "      <th>«0+» - для любой зрительской аудитории</th>\n",
       "      <td>3616937.28</td>\n",
       "    </tr>\n",
       "    <tr>\n",
       "      <th>«12+» - для детей старше 12 лет</th>\n",
       "      <td>8931965.66</td>\n",
       "    </tr>\n",
       "    <tr>\n",
       "      <th>«16+» - для детей старше 16 лет</th>\n",
       "      <td>9010638.62</td>\n",
       "    </tr>\n",
       "    <tr>\n",
       "      <th>«18+» - запрещено для детей</th>\n",
       "      <td>7179466.00</td>\n",
       "    </tr>\n",
       "    <tr>\n",
       "      <th>«6+» - для детей старше 6 лет</th>\n",
       "      <td>14688850.32</td>\n",
       "    </tr>\n",
       "    <tr>\n",
       "      <th rowspan=\"5\" valign=\"top\">2019</th>\n",
       "      <th>«0+» - для любой зрительской аудитории</th>\n",
       "      <td>3885434.50</td>\n",
       "    </tr>\n",
       "    <tr>\n",
       "      <th>«12+» - для детей старше 12 лет</th>\n",
       "      <td>3405545.76</td>\n",
       "    </tr>\n",
       "    <tr>\n",
       "      <th>«16+» - для детей старше 16 лет</th>\n",
       "      <td>3210717.81</td>\n",
       "    </tr>\n",
       "    <tr>\n",
       "      <th>«18+» - запрещено для детей</th>\n",
       "      <td>5603216.55</td>\n",
       "    </tr>\n",
       "    <tr>\n",
       "      <th>«6+» - для детей старше 6 лет</th>\n",
       "      <td>12875350.34</td>\n",
       "    </tr>\n",
       "  </tbody>\n",
       "</table>\n",
       "</div>"
      ],
      "text/plain": [
       "                                                    box_office\n",
       "year_rental age_restriction                                   \n",
       "2015        «0+» - для любой зрительской аудитории  2943318.70\n",
       "            «12+» - для детей старше 12 лет        15351562.50\n",
       "            «16+» - для детей старше 16 лет         4676819.40\n",
       "            «18+» - запрещено для детей             4616614.70\n",
       "            «6+» - для детей старше 6 лет          20380982.20\n",
       "2016        «0+» - для любой зрительской аудитории  2571294.10\n",
       "            «12+» - для детей старше 12 лет         4690635.25\n",
       "            «16+» - для детей старше 16 лет         5133021.74\n",
       "            «18+» - запрещено для детей             6107001.74\n",
       "            «6+» - для детей старше 6 лет           3026256.15\n",
       "2017        «0+» - для любой зрительской аудитории 22178956.00\n",
       "            «12+» - для детей старше 12 лет         9010548.00\n",
       "            «16+» - для детей старше 16 лет         9702077.00\n",
       "            «18+» - запрещено для детей             8212677.00\n",
       "            «6+» - для детей старше 6 лет          51992103.00\n",
       "2018        «0+» - для любой зрительской аудитории  3616937.28\n",
       "            «12+» - для детей старше 12 лет         8931965.66\n",
       "            «16+» - для детей старше 16 лет         9010638.62\n",
       "            «18+» - запрещено для детей             7179466.00\n",
       "            «6+» - для детей старше 6 лет          14688850.32\n",
       "2019        «0+» - для любой зрительской аудитории  3885434.50\n",
       "            «12+» - для детей старше 12 лет         3405545.76\n",
       "            «16+» - для детей старше 16 лет         3210717.81\n",
       "            «18+» - запрещено для детей             5603216.55\n",
       "            «6+» - для детей старше 6 лет          12875350.34"
      ]
     },
     "execution_count": 47,
     "metadata": {},
     "output_type": "execute_result"
    }
   ],
   "source": [
    "#от исходного датафрейма делаем срез данных, в котором год больше 2014 и группируем его по возрастному ограничению\n",
    "# и году, и считаем медиану по кассовому сбору\n",
    "(data\n",
    " .query('year_rental > 2014')\n",
    " .groupby(['year_rental', 'age_restriction']).agg({'box_office': 'median'})\n",
    ")"
   ]
  },
  {
   "cell_type": "code",
   "execution_count": 48,
   "metadata": {},
   "outputs": [
    {
     "data": {
      "image/png": "[encoded data removed]",
      "text/plain": [
       "<Figure size 1080x360 with 1 Axes>"
      ]
     },
     "metadata": {
      "needs_background": "light"
     },
     "output_type": "display_data"
    }
   ],
   "source": [
    "#на основании сводной таблицы строим линейный график, где отражаемся динамика\n",
    "#изменения суммы кассовых сборов по годам в зависимости от возрастного ограничения\n",
    "(data\n",
    " .query('year_rental > 2014')\n",
    " .pivot_table(index='year_rental', columns='age_restriction', values='box_office', aggfunc='median')\n",
    " .plot(figsize=(15, 5), grid=True, style='o-')\n",
    ")  \n",
    "plt.title('Динамика суммы кассовых сборов по годам в зависимости от возрастного ограничения')\n",
    "plt.xlabel('год')\n",
    "plt.ylabel('кассовые сборы, руб.')\n",
    "plt.show;"
   ]
  },
  {
   "cell_type": "markdown",
   "metadata": {},
   "source": [
    "Проанализировав влияние возрастного ограничения на сумму кассовых сборов по годам, выявлено, что наибольшие кассовые сборы во всех анализируемых годах, кроме 2016 года, собрали фильмы с возрастным ограничением 6+, и только в 2016 году лидируют по сумме кассовых сборов фильмы 18+. Такое распределение может быть связано с тем, что, возможно, в 2016 году меньше было в прокате качественных, хороших фильмов для детей. Но даже, если рассматривать сумму кассовых сборов без разбивки по годам, то максимальная сумма кассовых сборов была также по фильмам с возрастным ограничением 6+. Минимальная же сумма кассовых сборов собрана по фильмам возрастной категории 0+. Вероятно, это связано с тем, что маленьких детей до 5 лет реже водят в кинотеатры в силу возраста. Также можно отметить, что в 2017 году самая большая сумма кассовых сборов собрана именно от фильмов 6+ и 0+. Видимо, в 2017 году в кинопрокат вышли фильмы для детей, которые пользовались особенно высоким спросом среди населения."
   ]
  },
  {
   "cell_type": "markdown",
   "metadata": {},
   "source": [
    "**Выводы по пункту 3.:**\n",
    "\n",
    "Исследовательский анализ показал, что наибольшее количество фильмов в прокат выходило в 2010, наименьшее количество фильмов в прокат выходило в 2017 году. При этом доля фильмов в прокате в кинотеатрах в 2017 году наибольшая (71%).\n",
    "Наименьшая доля фильмов в прокате в кинотеатрах  - в 2010 году и с каждым последующим годом она повышается практически до 2017 года, затем немного уменьшается. Но следует отметить, что в период с 2010 по 2014 год количество фильмов в прокате в кинотеатрах, а следовательно и доля этих фильмов, очень маленькая, что, вероятно, связано с отсутствием в датафрейме части информации по этим годам.\n",
    "\n",
    "Максимальная сумма сборов от проката была в 2018 году (49 668 403 134,32 руб.) А минимальная сумма сборов была в 2010 году (2 428 654,00 руб.). Но опять же следует отметить, что эта цифра в масштабе страны очень маленькая, что в очередной раз подтверждает, что в датафрейме либо нет части информации, либо,что скорее всего, заведены неверные данные за период с 2010 по 2014 год.\n",
    "\n",
    "Медиана по кассовым сборам максимальная также в 2017 году (9 968 340,00 руб.), минимальная - в 2010 году (1 700 руб.). Среднее по кассовым сборам тоже в 2017 году максимальное - 136 032 793,33 руб. и минимальное в 2010 году - 23 130,04 руб. Разброс между медианным и средним значением показывает, как сильно зависит от разброса значений среднее арифметическое.\n",
    "\n",
    "Проанализировав влияние возрастного ограничения на сумму кассовых сборов по годам, выявлено, что наибольшие кассовые сборы во всех анализируемых годах, кроме 2016 года, собрали фильмы с возрастным ограничением 6+, и только в 2016 году лидируют по сумме кассовых сборов фильмы 18+. Такое распределение может быть связано с тем, что, возможно, в 2016 году меньше было в прокате качественных, хороших фильмов для детей. Но даже, если рассматривать сумму кассовых сборов без разбивки по годам, то максимальная сумма кассовых сборов была также по фильмам с возрастным ограничением 6+. Минимальная же сумма кассовых сборов собрана по фильмам возрастной категории 0+. Вероятно, это связано с тем, что маленьких детей до 5 лет реже водят в кинотеатры в силу возраста. Также можно отметить, что в 2017 году самая большая сумма кассовых сборов собрана именно от фильмов 6+ и 0+. Видимо, в 2017 году в кинопрокат вышли фильмы для детей, которые пользовались особенно высоким спросом среди населения."
   ]
  },
  {
   "cell_type": "markdown",
   "metadata": {
    "id": "l_Kg6Ku4gFya"
   },
   "source": [
    "##  Исследование  фильмов, которые получили государственную поддержку\n"
   ]
  },
  {
   "cell_type": "code",
   "execution_count": 49,
   "metadata": {
    "id": "W9QKpjUdgFyb"
   },
   "outputs": [
    {
     "data": {
      "text/plain": [
       "(332, 20)"
      ]
     },
     "execution_count": 49,
     "metadata": {},
     "output_type": "execute_result"
    }
   ],
   "source": [
    "#создаем датафрейм, в котором вошли только фильмы, которые получили гос.поддержку\n",
    "support_films = data.loc[(data['refundable_support'] > 0) | (data['nonrefundable_support'] > 0)]\n",
    "#выводим размер таблицы support_films\n",
    "support_films.shape"
   ]
  },
  {
   "cell_type": "code",
   "execution_count": 50,
   "metadata": {},
   "outputs": [
    {
     "name": "stdout",
     "output_type": "stream",
     "text": [
      "Общий объем государственной поддержки: 20200688312.0 руб.\n",
      "в том числе:\n",
      "Объем возвратных средств государственной поддержки: 3939000000.0 руб.\n",
      "Объем невозвратных средств государственной поддержки: 16261688312.0 руб.\n",
      "Средняя доля гос.поддержки в общем бюджете фильма: 0.615\n"
     ]
    }
   ],
   "source": [
    "#выводим на экран сумму общего объема гос.поддержки с разбивкой на возвратную и невозвратную часть\n",
    "print('Общий объем государственной поддержки:', (support_films['refundable_support'] + support_films['nonrefundable_support']).sum(), 'руб.')\n",
    "print('в том числе:')\n",
    "print('Объем возвратных средств государственной поддержки:', support_films['refundable_support'].sum(), 'руб.')\n",
    "print('Объем невозвратных средств государственной поддержки:', support_films['nonrefundable_support'].sum(),'руб.')\n",
    "#выводим на экран среднюю долю гос.поддержки в общем бюджете фильма\n",
    "print('Средняя доля гос.поддержки в общем бюджете фильма:', support_films['share_support'].median())"
   ]
  },
  {
   "cell_type": "code",
   "execution_count": 51,
   "metadata": {},
   "outputs": [
    {
     "data": {
      "text/html": [
       "<div>\n",
       "<style scoped>\n",
       "    .dataframe tbody tr th:only-of-type {\n",
       "        vertical-align: middle;\n",
       "    }\n",
       "\n",
       "    .dataframe tbody tr th {\n",
       "        vertical-align: top;\n",
       "    }\n",
       "\n",
       "    .dataframe thead th {\n",
       "        text-align: right;\n",
       "    }\n",
       "</style>\n",
       "<table border=\"1\" class=\"dataframe\">\n",
       "  <thead>\n",
       "    <tr style=\"text-align: right;\">\n",
       "      <th></th>\n",
       "      <th>share_support</th>\n",
       "    </tr>\n",
       "    <tr>\n",
       "      <th>year_rental</th>\n",
       "      <th></th>\n",
       "    </tr>\n",
       "  </thead>\n",
       "  <tbody>\n",
       "    <tr>\n",
       "      <th>2013</th>\n",
       "      <td>0.47</td>\n",
       "    </tr>\n",
       "    <tr>\n",
       "      <th>2014</th>\n",
       "      <td>0.58</td>\n",
       "    </tr>\n",
       "    <tr>\n",
       "      <th>2015</th>\n",
       "      <td>0.62</td>\n",
       "    </tr>\n",
       "    <tr>\n",
       "      <th>2016</th>\n",
       "      <td>0.64</td>\n",
       "    </tr>\n",
       "    <tr>\n",
       "      <th>2017</th>\n",
       "      <td>0.52</td>\n",
       "    </tr>\n",
       "    <tr>\n",
       "      <th>2018</th>\n",
       "      <td>0.59</td>\n",
       "    </tr>\n",
       "    <tr>\n",
       "      <th>2019</th>\n",
       "      <td>0.58</td>\n",
       "    </tr>\n",
       "  </tbody>\n",
       "</table>\n",
       "</div>"
      ],
      "text/plain": [
       "             share_support\n",
       "year_rental               \n",
       "2013                  0.47\n",
       "2014                  0.58\n",
       "2015                  0.62\n",
       "2016                  0.64\n",
       "2017                  0.52\n",
       "2018                  0.59\n",
       "2019                  0.58"
      ]
     },
     "execution_count": 51,
     "metadata": {},
     "output_type": "execute_result"
    }
   ],
   "source": [
    "#создаем сводную таблицу с группировкой по годам, где рассчитываем медиану доли гос.поддержки по годам\n",
    "(support_films\n",
    " .pivot_table(index='year_rental', values='share_support', aggfunc='median')\n",
    ")"
   ]
  },
  {
   "cell_type": "code",
   "execution_count": 52,
   "metadata": {},
   "outputs": [
    {
     "data": {
      "image/png": "[encoded data removed]",
      "text/plain": [
       "<Figure size 1080x360 with 1 Axes>"
      ]
     },
     "metadata": {
      "needs_background": "light"
     },
     "output_type": "display_data"
    }
   ],
   "source": [
    "#на основании сводной таблицы строим график, где отражаемся динамика\n",
    "#изменения доли гос.поддержки по годам\n",
    "(support_films\n",
    " .pivot_table(index='year_rental', values='share_support', aggfunc='median')\n",
    " .plot(grid=True, figsize=(15, 5), style='o-')\n",
    ")\n",
    "plt.title('Динамика изменения доли гос.поддержки по годам')\n",
    "plt.xlabel('год')\n",
    "plt.ylabel('доля гос.поддержки')\n",
    "plt.show;"
   ]
  },
  {
   "cell_type": "markdown",
   "metadata": {},
   "source": [
    "Самая низкая доля гос.поддержки была в 2013 году. Далее доля гос.поддержки стабильно росла вплоть до 2016 года (максимальная - 0,64), в 2017 году резко снизилась, но в 2018-2019 годах снова начала расти."
   ]
  },
  {
   "cell_type": "code",
   "execution_count": 53,
   "metadata": {},
   "outputs": [],
   "source": [
    "#делаем срез данных датафрейма support_films, где год проката больше 2014 года\n",
    "support_films_after2015 = support_films.query('year_rental > 2014')"
   ]
  },
  {
   "cell_type": "code",
   "execution_count": 54,
   "metadata": {},
   "outputs": [
    {
     "data": {
      "text/html": [
       "<div>\n",
       "<style scoped>\n",
       "    .dataframe tbody tr th:only-of-type {\n",
       "        vertical-align: middle;\n",
       "    }\n",
       "\n",
       "    .dataframe tbody tr th {\n",
       "        vertical-align: top;\n",
       "    }\n",
       "\n",
       "    .dataframe thead th {\n",
       "        text-align: right;\n",
       "    }\n",
       "</style>\n",
       "<table border=\"1\" class=\"dataframe\">\n",
       "  <thead>\n",
       "    <tr style=\"text-align: right;\">\n",
       "      <th></th>\n",
       "      <th>title</th>\n",
       "      <th>puNumber</th>\n",
       "      <th>show_start_date</th>\n",
       "      <th>type</th>\n",
       "      <th>film_studio</th>\n",
       "      <th>production_country</th>\n",
       "      <th>director</th>\n",
       "      <th>producer</th>\n",
       "      <th>age_restriction</th>\n",
       "      <th>refundable_support</th>\n",
       "      <th>...</th>\n",
       "      <th>budget</th>\n",
       "      <th>financing_source</th>\n",
       "      <th>ratings</th>\n",
       "      <th>genres</th>\n",
       "      <th>box_office</th>\n",
       "      <th>year_rental</th>\n",
       "      <th>main_director</th>\n",
       "      <th>main_genre</th>\n",
       "      <th>share_support</th>\n",
       "      <th>payback</th>\n",
       "    </tr>\n",
       "  </thead>\n",
       "  <tbody>\n",
       "    <tr>\n",
       "      <th>1853</th>\n",
       "      <td>Тайна Сухаревой башни. Чародей равновесия</td>\n",
       "      <td>114000115</td>\n",
       "      <td>2015-02-18 12:00:00+00:00</td>\n",
       "      <td>Анимационный</td>\n",
       "      <td>ООО \"Студия \"Мастер-Фильм\"</td>\n",
       "      <td>Россия</td>\n",
       "      <td>С.Серегин</td>\n",
       "      <td>А.Герасимов</td>\n",
       "      <td>«6+» - для детей старше 6 лет</td>\n",
       "      <td>0.00</td>\n",
       "      <td>...</td>\n",
       "      <td>51850000.00</td>\n",
       "      <td>Министерство культуры</td>\n",
       "      <td>6.10</td>\n",
       "      <td>мультфильм,фэнтези,история</td>\n",
       "      <td>15078858.60</td>\n",
       "      <td>2015</td>\n",
       "      <td>С.Серегин</td>\n",
       "      <td>мультфильм</td>\n",
       "      <td>0.48</td>\n",
       "      <td>0</td>\n",
       "    </tr>\n",
       "    <tr>\n",
       "      <th>1869</th>\n",
       "      <td>А зори здесь тихие..._</td>\n",
       "      <td>111002915</td>\n",
       "      <td>2015-03-16 12:00:00+00:00</td>\n",
       "      <td>Художественный</td>\n",
       "      <td>ООО \"Компания \"Реал-Дакота\"</td>\n",
       "      <td>Россия</td>\n",
       "      <td>Р.Давлетьяров</td>\n",
       "      <td>NaN</td>\n",
       "      <td>«12+» - для детей старше 12 лет</td>\n",
       "      <td>50000000.00</td>\n",
       "      <td>...</td>\n",
       "      <td>220588394.00</td>\n",
       "      <td>Фонд кино</td>\n",
       "      <td>8.50</td>\n",
       "      <td>драма,военный,история</td>\n",
       "      <td>249166767.70</td>\n",
       "      <td>2015</td>\n",
       "      <td>Р.Давлетьяров</td>\n",
       "      <td>драма</td>\n",
       "      <td>0.68</td>\n",
       "      <td>1</td>\n",
       "    </tr>\n",
       "    <tr>\n",
       "      <th>1902</th>\n",
       "      <td>Призрак_.</td>\n",
       "      <td>111001815</td>\n",
       "      <td>2015-03-02 12:00:00+00:00</td>\n",
       "      <td>Художественный</td>\n",
       "      <td>ООО \"Водород 2011\"</td>\n",
       "      <td>Россия</td>\n",
       "      <td>А.Войтинский</td>\n",
       "      <td>С.Сельянов</td>\n",
       "      <td>«6+» - для детей старше 6 лет</td>\n",
       "      <td>0.00</td>\n",
       "      <td>...</td>\n",
       "      <td>139551503.00</td>\n",
       "      <td>Фонд кино</td>\n",
       "      <td>7.00</td>\n",
       "      <td>триллер,боевик,приключения</td>\n",
       "      <td>352804320.40</td>\n",
       "      <td>2015</td>\n",
       "      <td>А.Войтинский</td>\n",
       "      <td>триллер</td>\n",
       "      <td>0.54</td>\n",
       "      <td>1</td>\n",
       "    </tr>\n",
       "    <tr>\n",
       "      <th>1911</th>\n",
       "      <td>Ведьма .</td>\n",
       "      <td>111002215</td>\n",
       "      <td>2015-03-05 12:00:00+00:00</td>\n",
       "      <td>Художественный</td>\n",
       "      <td>ООО \"Кинокомпания \"Ракурс\"</td>\n",
       "      <td>Россия</td>\n",
       "      <td>Д.Федоров</td>\n",
       "      <td>В.Сидоренко</td>\n",
       "      <td>«16+» - для детей старше 16 лет</td>\n",
       "      <td>0.00</td>\n",
       "      <td>...</td>\n",
       "      <td>48571430.00</td>\n",
       "      <td>Министерство культуры</td>\n",
       "      <td>7.40</td>\n",
       "      <td>фэнтези,приключения,драма</td>\n",
       "      <td>51907.50</td>\n",
       "      <td>2015</td>\n",
       "      <td>Д.Федоров</td>\n",
       "      <td>фэнтези</td>\n",
       "      <td>0.70</td>\n",
       "      <td>0</td>\n",
       "    </tr>\n",
       "    <tr>\n",
       "      <th>2057</th>\n",
       "      <td>Дуxless 2</td>\n",
       "      <td>111000415</td>\n",
       "      <td>2015-01-26 12:00:00+00:00</td>\n",
       "      <td>Художественный</td>\n",
       "      <td>ООО \"Киностудия \"Слово\", ООО \"Арт Пикчерс Студия\"</td>\n",
       "      <td>Россия</td>\n",
       "      <td>Р.Прыгунов</td>\n",
       "      <td>П.Ануров, Ф.Бондарчук, Д.Рудовский</td>\n",
       "      <td>«16+» - для детей старше 16 лет</td>\n",
       "      <td>0.00</td>\n",
       "      <td>...</td>\n",
       "      <td>75000000.00</td>\n",
       "      <td>Фонд кино</td>\n",
       "      <td>6.60</td>\n",
       "      <td>драма</td>\n",
       "      <td>446163511.00</td>\n",
       "      <td>2015</td>\n",
       "      <td>Р.Прыгунов</td>\n",
       "      <td>драма</td>\n",
       "      <td>1.00</td>\n",
       "      <td>1</td>\n",
       "    </tr>\n",
       "  </tbody>\n",
       "</table>\n",
       "<p>5 rows × 21 columns</p>\n",
       "</div>"
      ],
      "text/plain": [
       "                                          title   puNumber  \\\n",
       "1853  Тайна Сухаревой башни. Чародей равновесия  114000115   \n",
       "1869                     А зори здесь тихие..._  111002915   \n",
       "1902                                  Призрак_.  111001815   \n",
       "1911                                   Ведьма .  111002215   \n",
       "2057                                  Дуxless 2  111000415   \n",
       "\n",
       "               show_start_date            type  \\\n",
       "1853 2015-02-18 12:00:00+00:00    Анимационный   \n",
       "1869 2015-03-16 12:00:00+00:00  Художественный   \n",
       "1902 2015-03-02 12:00:00+00:00  Художественный   \n",
       "1911 2015-03-05 12:00:00+00:00  Художественный   \n",
       "2057 2015-01-26 12:00:00+00:00  Художественный   \n",
       "\n",
       "                                            film_studio production_country  \\\n",
       "1853                        ООО \"Студия \"Мастер-Фильм\"              Россия   \n",
       "1869                        ООО \"Компания \"Реал-Дакота\"             Россия   \n",
       "1902                                 ООО \"Водород 2011\"             Россия   \n",
       "1911                         ООО \"Кинокомпания \"Ракурс\"             Россия   \n",
       "2057  ООО \"Киностудия \"Слово\", ООО \"Арт Пикчерс Студия\"             Россия   \n",
       "\n",
       "           director                            producer  \\\n",
       "1853      С.Серегин                         А.Герасимов   \n",
       "1869  Р.Давлетьяров                                 NaN   \n",
       "1902   А.Войтинский                          С.Сельянов   \n",
       "1911      Д.Федоров                         В.Сидоренко   \n",
       "2057     Р.Прыгунов  П.Ануров, Ф.Бондарчук, Д.Рудовский   \n",
       "\n",
       "                      age_restriction  refundable_support  ...       budget  \\\n",
       "1853    «6+» - для детей старше 6 лет                0.00  ...  51850000.00   \n",
       "1869  «12+» - для детей старше 12 лет         50000000.00  ... 220588394.00   \n",
       "1902    «6+» - для детей старше 6 лет                0.00  ... 139551503.00   \n",
       "1911  «16+» - для детей старше 16 лет                0.00  ...  48571430.00   \n",
       "2057  «16+» - для детей старше 16 лет                0.00  ...  75000000.00   \n",
       "\n",
       "           financing_source ratings                      genres   box_office  \\\n",
       "1853  Министерство культуры    6.10  мультфильм,фэнтези,история  15078858.60   \n",
       "1869              Фонд кино    8.50       драма,военный,история 249166767.70   \n",
       "1902              Фонд кино    7.00  триллер,боевик,приключения 352804320.40   \n",
       "1911  Министерство культуры    7.40   фэнтези,приключения,драма     51907.50   \n",
       "2057              Фонд кино    6.60                       драма 446163511.00   \n",
       "\n",
       "      year_rental  main_director  main_genre share_support  payback  \n",
       "1853         2015      С.Серегин  мультфильм          0.48        0  \n",
       "1869         2015  Р.Давлетьяров       драма          0.68        1  \n",
       "1902         2015   А.Войтинский     триллер          0.54        1  \n",
       "1911         2015      Д.Федоров     фэнтези          0.70        0  \n",
       "2057         2015     Р.Прыгунов       драма          1.00        1  \n",
       "\n",
       "[5 rows x 21 columns]"
      ]
     },
     "execution_count": 54,
     "metadata": {},
     "output_type": "execute_result"
    }
   ],
   "source": [
    "#создаем функцию, с помощью которой проверяем условие: если значение в столбце box_office больше или равно \n",
    "#значению в столбце budget, то возвращаем 1(т.е.'окупился'), иначе 0 (т.е. 'не окупился')\n",
    "def payback(row):\n",
    "    try:\n",
    "        if row['box_office'] >= row['budget']:\n",
    "            return '1'\n",
    "        else:\n",
    "            return '0'\n",
    "    except:\n",
    "        return 'нет категории'\n",
    "        \n",
    "support_films_after2015['payback'] = support_films_after2015.apply(payback, axis=1)#применяем функцию к датафрейму support_films\n",
    "support_films_after2015.head()#выводим на экран первые 5 строк датафрейма для проверки корректности нового столбца"
   ]
  },
  {
   "cell_type": "code",
   "execution_count": 55,
   "metadata": {},
   "outputs": [],
   "source": [
    "#меняем тип столбца payback на вещественный\n",
    "support_films_after2015['payback'] = pd.to_numeric(support_films_after2015['payback'], errors='raise')"
   ]
  },
  {
   "cell_type": "code",
   "execution_count": 56,
   "metadata": {},
   "outputs": [
    {
     "name": "stdout",
     "output_type": "stream",
     "text": [
      "Доля фильмов с гос.поддержкой, которые окупились: 0.24\n"
     ]
    }
   ],
   "source": [
    "#выводим на экран долю фильмов с гос.поддержкой, которые окупились, которые рассчитали, как сумма  1 в столбце \n",
    "#payback делится на количество значений в столбце payback, результат округляем до сотых\n",
    "print('Доля фильмов с гос.поддержкой, которые окупились:',\\\n",
    "      (support_films_after2015['payback'].sum() / support_films_after2015['payback'].count()).round(2))"
   ]
  },
  {
   "cell_type": "code",
   "execution_count": 57,
   "metadata": {},
   "outputs": [
    {
     "data": {
      "text/plain": [
       "(316, 20)"
      ]
     },
     "execution_count": 57,
     "metadata": {},
     "output_type": "execute_result"
    }
   ],
   "source": [
    "#убираем из датафрейма support_films строки с пропусками в столбце ratings\n",
    "support_films = support_films.loc[~support_films['ratings'].isna()]\n",
    "support_films.shape #выводим размер таблицы support_films"
   ]
  },
  {
   "cell_type": "code",
   "execution_count": 58,
   "metadata": {},
   "outputs": [
    {
     "data": {
      "text/html": [
       "<div>\n",
       "<style scoped>\n",
       "    .dataframe tbody tr th:only-of-type {\n",
       "        vertical-align: middle;\n",
       "    }\n",
       "\n",
       "    .dataframe tbody tr th {\n",
       "        vertical-align: top;\n",
       "    }\n",
       "\n",
       "    .dataframe thead th {\n",
       "        text-align: right;\n",
       "    }\n",
       "</style>\n",
       "<table border=\"1\" class=\"dataframe\">\n",
       "  <thead>\n",
       "    <tr style=\"text-align: right;\">\n",
       "      <th></th>\n",
       "      <th>ratings</th>\n",
       "    </tr>\n",
       "    <tr>\n",
       "      <th>main_genre</th>\n",
       "      <th></th>\n",
       "    </tr>\n",
       "  </thead>\n",
       "  <tbody>\n",
       "    <tr>\n",
       "      <th>криминал</th>\n",
       "      <td>7.80</td>\n",
       "    </tr>\n",
       "    <tr>\n",
       "      <th>детский</th>\n",
       "      <td>7.25</td>\n",
       "    </tr>\n",
       "    <tr>\n",
       "      <th>спорт</th>\n",
       "      <td>7.00</td>\n",
       "    </tr>\n",
       "    <tr>\n",
       "      <th>биография</th>\n",
       "      <td>6.90</td>\n",
       "    </tr>\n",
       "    <tr>\n",
       "      <th>фэнтези</th>\n",
       "      <td>6.80</td>\n",
       "    </tr>\n",
       "    <tr>\n",
       "      <th>детектив</th>\n",
       "      <td>6.80</td>\n",
       "    </tr>\n",
       "    <tr>\n",
       "      <th>мюзикл</th>\n",
       "      <td>6.60</td>\n",
       "    </tr>\n",
       "    <tr>\n",
       "      <th>боевик</th>\n",
       "      <td>6.45</td>\n",
       "    </tr>\n",
       "    <tr>\n",
       "      <th>драма</th>\n",
       "      <td>6.40</td>\n",
       "    </tr>\n",
       "    <tr>\n",
       "      <th>военный</th>\n",
       "      <td>6.40</td>\n",
       "    </tr>\n",
       "    <tr>\n",
       "      <th>мелодрама</th>\n",
       "      <td>6.20</td>\n",
       "    </tr>\n",
       "    <tr>\n",
       "      <th>фантастика</th>\n",
       "      <td>6.20</td>\n",
       "    </tr>\n",
       "    <tr>\n",
       "      <th>мультфильм</th>\n",
       "      <td>6.20</td>\n",
       "    </tr>\n",
       "    <tr>\n",
       "      <th>история</th>\n",
       "      <td>5.90</td>\n",
       "    </tr>\n",
       "    <tr>\n",
       "      <th>комедия</th>\n",
       "      <td>5.75</td>\n",
       "    </tr>\n",
       "    <tr>\n",
       "      <th>приключения</th>\n",
       "      <td>5.70</td>\n",
       "    </tr>\n",
       "    <tr>\n",
       "      <th>реальное ТВ</th>\n",
       "      <td>5.60</td>\n",
       "    </tr>\n",
       "    <tr>\n",
       "      <th>триллер</th>\n",
       "      <td>5.60</td>\n",
       "    </tr>\n",
       "    <tr>\n",
       "      <th>ужасы</th>\n",
       "      <td>5.10</td>\n",
       "    </tr>\n",
       "    <tr>\n",
       "      <th>семейный</th>\n",
       "      <td>4.80</td>\n",
       "    </tr>\n",
       "  </tbody>\n",
       "</table>\n",
       "</div>"
      ],
      "text/plain": [
       "             ratings\n",
       "main_genre          \n",
       "криминал        7.80\n",
       "детский         7.25\n",
       "спорт           7.00\n",
       "биография       6.90\n",
       "фэнтези         6.80\n",
       "детектив        6.80\n",
       "мюзикл          6.60\n",
       "боевик          6.45\n",
       "драма           6.40\n",
       "военный         6.40\n",
       "мелодрама       6.20\n",
       "фантастика      6.20\n",
       "мультфильм      6.20\n",
       "история         5.90\n",
       "комедия         5.75\n",
       "приключения     5.70\n",
       "реальное ТВ     5.60\n",
       "триллер         5.60\n",
       "ужасы           5.10\n",
       "семейный        4.80"
      ]
     },
     "execution_count": 58,
     "metadata": {},
     "output_type": "execute_result"
    }
   ],
   "source": [
    "#создаем сводную таблицу с группировкой по основному жанру фильма и считаем средний рейтинг, отсортированный по убыванию\n",
    "support_films.pivot_table(index='main_genre', values='ratings', aggfunc='median').sort_values(by='ratings', ascending=False)"
   ]
  },
  {
   "cell_type": "code",
   "execution_count": 59,
   "metadata": {},
   "outputs": [
    {
     "data": {
      "text/plain": [
       "Р.Давлетьяров                         5\n",
       "Д.Дьяченко                            4\n",
       "С.Андреасян                           4\n",
       "А.Котт                                3\n",
       "А.Аксененко                           3\n",
       "                                     ..\n",
       "А.Томашевский                         1\n",
       "А.Михалков                            1\n",
       "Н.Степанова при участии С.Иванова     1\n",
       "Н.Бондарчук                           1\n",
       "М.Бальчюнас (псевдоним М.Вайсберг)    1\n",
       "Name: main_director, Length: 257, dtype: int64"
      ]
     },
     "execution_count": 59,
     "metadata": {},
     "output_type": "execute_result"
    }
   ],
   "source": [
    "support_films['main_director'].value_counts()#выводим на экран уникальные значения по столбцу main_director"
   ]
  },
  {
   "cell_type": "markdown",
   "metadata": {},
   "source": [
    "**Выводы по пункту 4.:**\n",
    "\n",
    "Общий объем гос.поддержки составил 20 200 688 312,00 руб., из них объем невозвратных средств 16 261 688 312,00 руб, что составляет примерно 80% от общего объема гос.поддержки. \n",
    "При этом средняя доля гос.поддержки в общем бюджете фильма составляет 61,5%.\n",
    "Что касается динамики доли гос.поддержки по годам, то самая низкая доля гос.поддержки была в 2013 году. Далее доля гос.поддержки стабильно росла вплоть до 2016 года (максимальная - 0,64), в 2017 году резко снизилась, но в 2018-2019 годах снова начала расти.\n",
    "Однако, несмотря на этот факт, следует отметить,что фильмы с гос.поддержкой имеют низкую окупаемость - всего около 24% фильмов окупаются.\n",
    "Самый высокий рейтинг у фильмов с гос.поддержкой в жанре \"криминал\" - 7,8. Самый низкий рейтинг у фильмов в жанре \"семейный\".\n",
    "Наиболее часто получали средства государства на поддержку кинематографа на свои фильмы режиссеры Р.Давлетьяров, С.Андреасян, Д.Дьяченко."
   ]
  },
  {
   "cell_type": "markdown",
   "metadata": {
    "id": "V2gYwMcPgFyd"
   },
   "source": [
    "## Общий вывод по исследованию"
   ]
  },
  {
   "cell_type": "markdown",
   "metadata": {
    "id": "AYRg3dzXgFye"
   },
   "source": [
    "В результате предобработки были преобразованы типы данных в трех столбцах, исключены аномальные значения в столбце ratings, заменены пропуски в двух столбцах (director и genres), удалили 17 строк из датафрейма. Заполнение пропусков по остальным столбцам не имеет смысла, так как  они не влияют на дальнейший анализ.\n",
    "Явных дубликатов в столбце нет, а неявные дубликаты оставили как есть.\n",
    "Почти во всех категориальных столбцах имеются пробелы в начале строки (в столбце type устранили методом str.strip().\n",
    "\n",
    "А также анализ уникальных значений категориальных столбцов показал, что такие столбцы, как producer, director, film_studio, production_country, genres, title - имеют очень большое количество категорий. Это значительно осложняет предобработку данных в части проверки на неявные дубликаты, на аномальные значения. В связи с этим анализ данных может быть проведен по не совсем корректным значениям и может привести к неверным выводам и результатам.\n",
    "\n",
    "В количественных переменных  есть данные, в которых сумма гос.поддержки больше, чем бюджет фильма. В результате предобработки устранили это нарушение, приравняв в этих строках сумму гос.поддержки и бюджет.\n",
    "\n",
    "Что касается исследовательского анализа проката фильмов, то следует отметить, что больше всего фильмов в прокате в кинотеатрах было в 2017 году. Максимальная же сумма сборов от проката собрана в 2018 году.\n",
    "Проанализировав влияние возрастного ограничея на сумму кассовых сборов по годам, а также без разбивки по годам, было выявлено, что наибольшие кассовые сборы собрали фильмы с возрастным ограничением 6+. Минимальная же сумма кассовых сборов собрана по фильмам 0+.\n",
    "\n",
    "В результате можно сделать общий вывод, что доля фильмов в прокате в кинотеатрах  с 2015 года растет, также как растет и сумма кассовых сборов, то есть качество и количество фильмов год от года повышается. Также можно рекомендовать режиссерам обратить внимание на создание фильмов с возрастным ограничением 6+, так как эти фильмы пользуются наибольшей популярностью и собирают больше всего кассовых сборов.\n",
    "\n",
    "Исследовательский анализ фильмов с гос.поддержкой показал, что помощь государства в поддержке кинематографа достаточно высока (доля только невозвратных средств составляет 80% от общего объема гос.поддержки). В целом, доля гос.поддержки стабильно растет год от года, исключая 2017 год.\n",
    "Однако, несмотря на это, фильмы с гос.поддержкой имеют низкую окупаемость - всего 24% фильмов окупаются.\n",
    "\n",
    "Опять же можно рекомендовать обратить внимание режиссеров на фильмы в жанре \"криминал\", которые имеют самый высокий рейтинг среди остальных жанров."
   ]
  }
 ],
 "metadata": {
  "ExecuteTimeLog": [
   {
    "duration": 537,
    "start_time": "2021-07-07T10:12:08.634Z"
   },
   {
    "duration": 206,
    "start_time": "2021-07-07T10:12:30.191Z"
   },
   {
    "duration": 227,
    "start_time": "2021-07-07T10:12:33.078Z"
   },
   {
    "duration": 153,
    "start_time": "2021-07-07T10:13:42.146Z"
   },
   {
    "duration": 233,
    "start_time": "2021-07-07T10:30:09.252Z"
   },
   {
    "duration": 19,
    "start_time": "2021-07-07T10:30:15.577Z"
   },
   {
    "duration": 18,
    "start_time": "2021-07-07T10:30:57.348Z"
   },
   {
    "duration": 19,
    "start_time": "2021-07-07T10:31:17.452Z"
   },
   {
    "duration": 21,
    "start_time": "2021-07-07T10:31:32.227Z"
   },
   {
    "duration": 27,
    "start_time": "2021-07-07T10:32:06.588Z"
   },
   {
    "duration": 23,
    "start_time": "2021-07-07T10:32:43.645Z"
   },
   {
    "duration": 24,
    "start_time": "2021-07-07T10:33:06.948Z"
   },
   {
    "duration": 7,
    "start_time": "2021-07-07T10:33:28.558Z"
   },
   {
    "duration": 23,
    "start_time": "2021-07-07T10:33:43.761Z"
   },
   {
    "duration": 28,
    "start_time": "2021-07-07T10:34:13.466Z"
   },
   {
    "duration": 23,
    "start_time": "2021-07-07T10:35:56.187Z"
   },
   {
    "duration": 6,
    "start_time": "2021-07-07T10:36:48.182Z"
   },
   {
    "duration": 14,
    "start_time": "2021-07-07T10:37:49.641Z"
   },
   {
    "duration": 6,
    "start_time": "2021-07-07T10:38:06.694Z"
   },
   {
    "duration": 6,
    "start_time": "2021-07-07T10:38:13.493Z"
   },
   {
    "duration": 19,
    "start_time": "2021-07-07T10:38:44.056Z"
   },
   {
    "duration": 186,
    "start_time": "2021-07-07T10:48:35.618Z"
   },
   {
    "duration": 24,
    "start_time": "2021-07-07T10:48:51.498Z"
   },
   {
    "duration": 20,
    "start_time": "2021-07-07T10:48:59.415Z"
   },
   {
    "duration": 20,
    "start_time": "2021-07-07T10:53:02.195Z"
   },
   {
    "duration": 188,
    "start_time": "2021-07-07T10:54:40.486Z"
   },
   {
    "duration": 115,
    "start_time": "2021-07-07T10:54:52.552Z"
   },
   {
    "duration": 214,
    "start_time": "2021-07-07T10:54:56.354Z"
   },
   {
    "duration": 47,
    "start_time": "2021-07-07T10:54:58.282Z"
   },
   {
    "duration": 217,
    "start_time": "2021-07-07T10:59:16.075Z"
   },
   {
    "duration": 51,
    "start_time": "2021-07-07T10:59:16.243Z"
   },
   {
    "duration": 578,
    "start_time": "2021-07-07T10:59:18.774Z"
   },
   {
    "duration": 161,
    "start_time": "2021-07-07T10:59:21.238Z"
   },
   {
    "duration": 59,
    "start_time": "2021-07-07T10:59:21.453Z"
   },
   {
    "duration": 3,
    "start_time": "2021-07-07T11:02:10.786Z"
   },
   {
    "duration": 13,
    "start_time": "2021-07-07T11:07:07.722Z"
   },
   {
    "duration": 26,
    "start_time": "2021-07-07T11:07:17.958Z"
   },
   {
    "duration": 22,
    "start_time": "2021-07-07T11:08:17.939Z"
   },
   {
    "duration": 212,
    "start_time": "2021-07-07T11:08:19.665Z"
   },
   {
    "duration": 21,
    "start_time": "2021-07-07T11:08:29.945Z"
   },
   {
    "duration": 31,
    "start_time": "2021-07-07T11:08:38.899Z"
   },
   {
    "duration": 23,
    "start_time": "2021-07-07T11:08:54.527Z"
   },
   {
    "duration": 8,
    "start_time": "2021-07-07T11:18:55.974Z"
   },
   {
    "duration": 7,
    "start_time": "2021-07-07T11:19:03.639Z"
   },
   {
    "duration": 7,
    "start_time": "2021-07-07T11:19:06.444Z"
   },
   {
    "duration": 578,
    "start_time": "2021-07-07T12:09:59.576Z"
   },
   {
    "duration": 195,
    "start_time": "2021-07-07T12:10:00.156Z"
   },
   {
    "duration": 115,
    "start_time": "2021-07-07T12:10:00.353Z"
   },
   {
    "duration": 3,
    "start_time": "2021-07-07T12:10:00.470Z"
   },
   {
    "duration": 32,
    "start_time": "2021-07-07T12:10:00.474Z"
   },
   {
    "duration": 23,
    "start_time": "2021-07-07T12:10:00.508Z"
   },
   {
    "duration": 19,
    "start_time": "2021-07-07T12:10:00.533Z"
   },
   {
    "duration": 44,
    "start_time": "2021-07-07T12:10:00.553Z"
   },
   {
    "duration": 7,
    "start_time": "2021-07-07T12:10:00.600Z"
   },
   {
    "duration": 7,
    "start_time": "2021-07-07T12:19:45.761Z"
   },
   {
    "duration": 21,
    "start_time": "2021-07-07T12:21:35.482Z"
   },
   {
    "duration": 21,
    "start_time": "2021-07-07T12:29:23.569Z"
   },
   {
    "duration": 525,
    "start_time": "2021-07-07T12:29:44.542Z"
   },
   {
    "duration": 214,
    "start_time": "2021-07-07T12:29:45.069Z"
   },
   {
    "duration": 92,
    "start_time": "2021-07-07T12:29:45.285Z"
   },
   {
    "duration": 3,
    "start_time": "2021-07-07T12:29:45.379Z"
   },
   {
    "duration": 28,
    "start_time": "2021-07-07T12:29:45.384Z"
   },
   {
    "duration": 23,
    "start_time": "2021-07-07T12:29:45.413Z"
   },
   {
    "duration": 21,
    "start_time": "2021-07-07T12:29:45.437Z"
   },
   {
    "duration": 41,
    "start_time": "2021-07-07T12:29:45.460Z"
   },
   {
    "duration": 7,
    "start_time": "2021-07-07T12:29:45.502Z"
   },
   {
    "duration": 20,
    "start_time": "2021-07-07T12:29:45.511Z"
   },
   {
    "duration": 12,
    "start_time": "2021-07-07T12:34:02.800Z"
   },
   {
    "duration": 7,
    "start_time": "2021-07-07T12:35:10.479Z"
   },
   {
    "duration": 8,
    "start_time": "2021-07-07T12:35:22.440Z"
   },
   {
    "duration": 6,
    "start_time": "2021-07-07T12:35:35.649Z"
   },
   {
    "duration": 6,
    "start_time": "2021-07-07T12:35:43.107Z"
   },
   {
    "duration": 22,
    "start_time": "2021-07-07T12:38:03.029Z"
   },
   {
    "duration": 10,
    "start_time": "2021-07-07T12:38:06.592Z"
   },
   {
    "duration": 563,
    "start_time": "2021-07-07T12:38:46.493Z"
   },
   {
    "duration": 265,
    "start_time": "2021-07-07T12:38:47.058Z"
   },
   {
    "duration": 94,
    "start_time": "2021-07-07T12:38:47.325Z"
   },
   {
    "duration": 3,
    "start_time": "2021-07-07T12:38:47.422Z"
   },
   {
    "duration": 30,
    "start_time": "2021-07-07T12:38:47.427Z"
   },
   {
    "duration": 16,
    "start_time": "2021-07-07T12:38:53.305Z"
   },
   {
    "duration": 10,
    "start_time": "2021-07-07T12:38:53.499Z"
   },
   {
    "duration": 8,
    "start_time": "2021-07-07T12:39:48.161Z"
   },
   {
    "duration": 27,
    "start_time": "2021-07-07T12:41:17.629Z"
   },
   {
    "duration": 17,
    "start_time": "2021-07-07T12:41:17.867Z"
   },
   {
    "duration": 21,
    "start_time": "2021-07-07T12:41:19.310Z"
   },
   {
    "duration": 7,
    "start_time": "2021-07-07T12:41:19.544Z"
   },
   {
    "duration": 20,
    "start_time": "2021-07-07T12:41:20.504Z"
   },
   {
    "duration": 554,
    "start_time": "2021-07-07T12:56:23.696Z"
   },
   {
    "duration": 200,
    "start_time": "2021-07-07T12:56:25.234Z"
   },
   {
    "duration": 119,
    "start_time": "2021-07-07T12:56:25.480Z"
   },
   {
    "duration": 4,
    "start_time": "2021-07-07T12:56:25.762Z"
   },
   {
    "duration": 26,
    "start_time": "2021-07-07T12:56:27.172Z"
   },
   {
    "duration": 12,
    "start_time": "2021-07-07T12:56:29.051Z"
   },
   {
    "duration": 10,
    "start_time": "2021-07-07T12:56:29.291Z"
   },
   {
    "duration": 8,
    "start_time": "2021-07-07T12:56:29.623Z"
   },
   {
    "duration": 28,
    "start_time": "2021-07-07T12:56:32.137Z"
   },
   {
    "duration": 19,
    "start_time": "2021-07-07T12:56:39.785Z"
   },
   {
    "duration": 20,
    "start_time": "2021-07-07T12:56:44.297Z"
   },
   {
    "duration": 7,
    "start_time": "2021-07-07T12:56:45.392Z"
   },
   {
    "duration": 23,
    "start_time": "2021-07-07T12:56:46.615Z"
   },
   {
    "duration": 4,
    "start_time": "2021-07-07T12:57:06.625Z"
   },
   {
    "duration": 32,
    "start_time": "2021-07-07T12:57:36.690Z"
   },
   {
    "duration": 18,
    "start_time": "2021-07-07T12:58:00.149Z"
   },
   {
    "duration": 15,
    "start_time": "2021-07-07T12:59:16.793Z"
   },
   {
    "duration": 7,
    "start_time": "2021-07-07T13:19:22.624Z"
   },
   {
    "duration": 6,
    "start_time": "2021-07-07T14:17:33.527Z"
   },
   {
    "duration": 9,
    "start_time": "2021-07-07T14:17:48.409Z"
   },
   {
    "duration": 8,
    "start_time": "2021-07-07T14:20:13.060Z"
   },
   {
    "duration": 8,
    "start_time": "2021-07-07T14:20:37.957Z"
   },
   {
    "duration": 8,
    "start_time": "2021-07-07T14:20:47.470Z"
   },
   {
    "duration": 9,
    "start_time": "2021-07-07T14:20:54.503Z"
   },
   {
    "duration": 10,
    "start_time": "2021-07-07T14:28:57.763Z"
   },
   {
    "duration": 3,
    "start_time": "2021-07-07T14:30:23.377Z"
   },
   {
    "duration": 3,
    "start_time": "2021-07-07T14:30:36.489Z"
   },
   {
    "duration": 103,
    "start_time": "2021-07-07T14:30:52.351Z"
   },
   {
    "duration": 8,
    "start_time": "2021-07-07T14:30:54.763Z"
   },
   {
    "duration": 8,
    "start_time": "2021-07-07T14:31:29.301Z"
   },
   {
    "duration": 13,
    "start_time": "2021-07-07T14:31:44.516Z"
   },
   {
    "duration": 7,
    "start_time": "2021-07-07T14:33:10.972Z"
   },
   {
    "duration": 11,
    "start_time": "2021-07-07T14:33:27.780Z"
   },
   {
    "duration": 8,
    "start_time": "2021-07-07T14:34:44.588Z"
   },
   {
    "duration": 57,
    "start_time": "2021-07-07T14:35:59.042Z"
   },
   {
    "duration": 3,
    "start_time": "2021-07-07T14:36:28.168Z"
   },
   {
    "duration": 5,
    "start_time": "2021-07-07T14:36:46.254Z"
   },
   {
    "duration": 4,
    "start_time": "2021-07-07T14:36:52.714Z"
   },
   {
    "duration": 3,
    "start_time": "2021-07-07T14:36:56.612Z"
   },
   {
    "duration": 4,
    "start_time": "2021-07-07T14:36:57.049Z"
   },
   {
    "duration": 3,
    "start_time": "2021-07-07T14:39:21.214Z"
   },
   {
    "duration": 7,
    "start_time": "2021-07-07T14:39:52.406Z"
   },
   {
    "duration": 11,
    "start_time": "2021-07-07T14:39:58.576Z"
   },
   {
    "duration": 9,
    "start_time": "2021-07-07T14:40:26.301Z"
   },
   {
    "duration": 10,
    "start_time": "2021-07-07T14:40:31.704Z"
   },
   {
    "duration": 11,
    "start_time": "2021-07-07T14:40:36.249Z"
   },
   {
    "duration": 10,
    "start_time": "2021-07-07T14:40:39.783Z"
   },
   {
    "duration": 9,
    "start_time": "2021-07-07T14:40:48.558Z"
   },
   {
    "duration": 10,
    "start_time": "2021-07-07T14:40:57.143Z"
   },
   {
    "duration": 9,
    "start_time": "2021-07-07T14:41:06.074Z"
   },
   {
    "duration": 4324,
    "start_time": "2021-07-07T14:41:22.004Z"
   },
   {
    "duration": 11,
    "start_time": "2021-07-07T14:41:33.392Z"
   },
   {
    "duration": 9,
    "start_time": "2021-07-07T14:41:39.288Z"
   },
   {
    "duration": 569,
    "start_time": "2021-07-07T14:42:14.387Z"
   },
   {
    "duration": 197,
    "start_time": "2021-07-07T14:42:14.959Z"
   },
   {
    "duration": 84,
    "start_time": "2021-07-07T14:42:16.052Z"
   },
   {
    "duration": 4,
    "start_time": "2021-07-07T14:42:16.900Z"
   },
   {
    "duration": 27,
    "start_time": "2021-07-07T14:42:19.898Z"
   },
   {
    "duration": 12,
    "start_time": "2021-07-07T14:42:21.577Z"
   },
   {
    "duration": 9,
    "start_time": "2021-07-07T14:42:21.813Z"
   },
   {
    "duration": 9,
    "start_time": "2021-07-07T14:42:22.569Z"
   },
   {
    "duration": 29,
    "start_time": "2021-07-07T14:42:25.837Z"
   },
   {
    "duration": 20,
    "start_time": "2021-07-07T14:42:27.003Z"
   },
   {
    "duration": 21,
    "start_time": "2021-07-07T14:42:28.767Z"
   },
   {
    "duration": 7,
    "start_time": "2021-07-07T14:42:29.838Z"
   },
   {
    "duration": 4,
    "start_time": "2021-07-07T14:43:25.493Z"
   },
   {
    "duration": 7,
    "start_time": "2021-07-07T14:43:26.573Z"
   },
   {
    "duration": 10,
    "start_time": "2021-07-07T14:43:31.639Z"
   },
   {
    "duration": 9,
    "start_time": "2021-07-07T14:43:32.046Z"
   },
   {
    "duration": 10,
    "start_time": "2021-07-07T14:43:33.301Z"
   },
   {
    "duration": 12,
    "start_time": "2021-07-07T14:43:33.658Z"
   },
   {
    "duration": 8,
    "start_time": "2021-07-07T14:43:34.552Z"
   },
   {
    "duration": 9,
    "start_time": "2021-07-07T14:43:35.058Z"
   },
   {
    "duration": 12,
    "start_time": "2021-07-07T14:43:35.914Z"
   },
   {
    "duration": 17,
    "start_time": "2021-07-07T14:45:34.368Z"
   },
   {
    "duration": 512,
    "start_time": "2021-07-07T14:51:58.236Z"
   },
   {
    "duration": 223,
    "start_time": "2021-07-07T14:51:58.750Z"
   },
   {
    "duration": 93,
    "start_time": "2021-07-07T14:51:58.977Z"
   },
   {
    "duration": 4,
    "start_time": "2021-07-07T14:51:59.071Z"
   },
   {
    "duration": 37,
    "start_time": "2021-07-07T14:51:59.077Z"
   },
   {
    "duration": 18,
    "start_time": "2021-07-07T14:51:59.116Z"
   },
   {
    "duration": 10,
    "start_time": "2021-07-07T14:51:59.137Z"
   },
   {
    "duration": 8,
    "start_time": "2021-07-07T14:51:59.149Z"
   },
   {
    "duration": 54,
    "start_time": "2021-07-07T14:51:59.158Z"
   },
   {
    "duration": 18,
    "start_time": "2021-07-07T14:51:59.213Z"
   },
   {
    "duration": 22,
    "start_time": "2021-07-07T14:51:59.232Z"
   },
   {
    "duration": 36,
    "start_time": "2021-07-07T14:51:59.255Z"
   },
   {
    "duration": 7,
    "start_time": "2021-07-07T14:51:59.293Z"
   },
   {
    "duration": 10,
    "start_time": "2021-07-07T14:51:59.302Z"
   },
   {
    "duration": 9,
    "start_time": "2021-07-07T14:51:59.313Z"
   },
   {
    "duration": 11,
    "start_time": "2021-07-07T14:51:59.324Z"
   },
   {
    "duration": 8,
    "start_time": "2021-07-07T14:51:59.337Z"
   },
   {
    "duration": 46,
    "start_time": "2021-07-07T14:51:59.347Z"
   },
   {
    "duration": 22,
    "start_time": "2021-07-07T14:51:59.395Z"
   },
   {
    "duration": 24,
    "start_time": "2021-07-07T14:57:32.911Z"
   },
   {
    "duration": 7,
    "start_time": "2021-07-07T14:58:22.070Z"
   },
   {
    "duration": 4,
    "start_time": "2021-07-07T14:59:11.239Z"
   },
   {
    "duration": 25,
    "start_time": "2021-07-07T15:07:22.208Z"
   },
   {
    "duration": 16,
    "start_time": "2021-07-07T15:08:25.560Z"
   },
   {
    "duration": 15,
    "start_time": "2021-07-07T15:08:40.647Z"
   },
   {
    "duration": 14,
    "start_time": "2021-07-07T15:08:46.669Z"
   },
   {
    "duration": 533,
    "start_time": "2021-07-07T15:18:07.440Z"
   },
   {
    "duration": 173,
    "start_time": "2021-07-07T15:18:07.974Z"
   },
   {
    "duration": 84,
    "start_time": "2021-07-07T15:18:08.149Z"
   },
   {
    "duration": 3,
    "start_time": "2021-07-07T15:18:08.235Z"
   },
   {
    "duration": 30,
    "start_time": "2021-07-07T15:18:08.240Z"
   },
   {
    "duration": 22,
    "start_time": "2021-07-07T15:18:08.272Z"
   },
   {
    "duration": 11,
    "start_time": "2021-07-07T15:18:08.295Z"
   },
   {
    "duration": 11,
    "start_time": "2021-07-07T15:18:08.309Z"
   },
   {
    "duration": 40,
    "start_time": "2021-07-07T15:18:08.322Z"
   },
   {
    "duration": 42,
    "start_time": "2021-07-07T15:18:08.364Z"
   },
   {
    "duration": 22,
    "start_time": "2021-07-07T15:18:08.408Z"
   },
   {
    "duration": 5,
    "start_time": "2021-07-07T15:18:08.432Z"
   },
   {
    "duration": 13,
    "start_time": "2021-07-07T15:18:08.439Z"
   },
   {
    "duration": 9,
    "start_time": "2021-07-07T15:18:08.454Z"
   },
   {
    "duration": 32,
    "start_time": "2021-07-07T15:18:08.465Z"
   },
   {
    "duration": 10,
    "start_time": "2021-07-07T15:18:08.501Z"
   },
   {
    "duration": 7,
    "start_time": "2021-07-07T15:18:08.513Z"
   },
   {
    "duration": 11,
    "start_time": "2021-07-07T15:18:08.521Z"
   },
   {
    "duration": 17,
    "start_time": "2021-07-07T15:18:08.534Z"
   },
   {
    "duration": 44,
    "start_time": "2021-07-07T15:18:08.553Z"
   },
   {
    "duration": 22,
    "start_time": "2021-07-07T15:18:08.599Z"
   },
   {
    "duration": 61,
    "start_time": "2021-07-07T15:18:08.622Z"
   },
   {
    "duration": 7,
    "start_time": "2021-07-07T15:18:39.457Z"
   },
   {
    "duration": 5,
    "start_time": "2021-07-07T16:05:17.020Z"
   },
   {
    "duration": 5,
    "start_time": "2021-07-07T16:51:28.794Z"
   },
   {
    "duration": 546,
    "start_time": "2021-07-07T16:52:26.306Z"
   },
   {
    "duration": 203,
    "start_time": "2021-07-07T16:52:27.523Z"
   },
   {
    "duration": 85,
    "start_time": "2021-07-07T16:52:27.736Z"
   },
   {
    "duration": 4,
    "start_time": "2021-07-07T16:52:27.899Z"
   },
   {
    "duration": 25,
    "start_time": "2021-07-07T16:52:28.674Z"
   },
   {
    "duration": 8,
    "start_time": "2021-07-07T16:52:32.956Z"
   },
   {
    "duration": 18,
    "start_time": "2021-07-07T16:52:35.616Z"
   },
   {
    "duration": 6,
    "start_time": "2021-07-07T16:52:36.913Z"
   },
   {
    "duration": 11,
    "start_time": "2021-07-07T16:52:40.258Z"
   },
   {
    "duration": 10,
    "start_time": "2021-07-07T16:52:46.251Z"
   },
   {
    "duration": 8,
    "start_time": "2021-07-07T16:52:47.182Z"
   },
   {
    "duration": 27,
    "start_time": "2021-07-07T16:53:20.391Z"
   },
   {
    "duration": 20,
    "start_time": "2021-07-07T16:53:22.022Z"
   },
   {
    "duration": 23,
    "start_time": "2021-07-07T16:53:23.690Z"
   },
   {
    "duration": 8,
    "start_time": "2021-07-07T16:53:24.261Z"
   },
   {
    "duration": 4,
    "start_time": "2021-07-07T16:53:38.733Z"
   },
   {
    "duration": 7,
    "start_time": "2021-07-07T16:53:40.445Z"
   },
   {
    "duration": 11,
    "start_time": "2021-07-07T16:53:41.348Z"
   },
   {
    "duration": 13,
    "start_time": "2021-07-07T16:53:45.250Z"
   },
   {
    "duration": 12,
    "start_time": "2021-07-07T16:53:45.467Z"
   },
   {
    "duration": 4,
    "start_time": "2021-07-07T16:55:32.704Z"
   },
   {
    "duration": 12,
    "start_time": "2021-07-07T16:55:49.012Z"
   },
   {
    "duration": 18,
    "start_time": "2021-07-07T16:55:49.547Z"
   },
   {
    "duration": 611,
    "start_time": "2021-07-07T16:58:35.156Z"
   },
   {
    "duration": 200,
    "start_time": "2021-07-07T16:58:35.770Z"
   },
   {
    "duration": 86,
    "start_time": "2021-07-07T16:58:35.972Z"
   },
   {
    "duration": 3,
    "start_time": "2021-07-07T16:58:36.060Z"
   },
   {
    "duration": 27,
    "start_time": "2021-07-07T16:58:36.065Z"
   },
   {
    "duration": 8,
    "start_time": "2021-07-07T16:58:36.094Z"
   },
   {
    "duration": 17,
    "start_time": "2021-07-07T16:58:36.103Z"
   },
   {
    "duration": 5,
    "start_time": "2021-07-07T16:58:36.123Z"
   },
   {
    "duration": 11,
    "start_time": "2021-07-07T16:58:36.130Z"
   },
   {
    "duration": 7,
    "start_time": "2021-07-07T16:58:36.143Z"
   },
   {
    "duration": 37,
    "start_time": "2021-07-07T16:58:36.152Z"
   },
   {
    "duration": 27,
    "start_time": "2021-07-07T16:58:36.191Z"
   },
   {
    "duration": 19,
    "start_time": "2021-07-07T16:58:36.219Z"
   },
   {
    "duration": 49,
    "start_time": "2021-07-07T16:58:36.240Z"
   },
   {
    "duration": 6,
    "start_time": "2021-07-07T16:58:36.291Z"
   },
   {
    "duration": 3,
    "start_time": "2021-07-07T16:58:36.299Z"
   },
   {
    "duration": 13,
    "start_time": "2021-07-07T16:58:36.304Z"
   },
   {
    "duration": 10,
    "start_time": "2021-07-07T16:58:36.319Z"
   },
   {
    "duration": 10,
    "start_time": "2021-07-07T16:58:36.331Z"
   },
   {
    "duration": 44,
    "start_time": "2021-07-07T16:58:36.343Z"
   },
   {
    "duration": 4,
    "start_time": "2021-07-07T16:58:36.388Z"
   },
   {
    "duration": 13,
    "start_time": "2021-07-07T16:58:36.394Z"
   },
   {
    "duration": 16,
    "start_time": "2021-07-07T16:58:36.410Z"
   },
   {
    "duration": 8,
    "start_time": "2021-07-07T17:02:31.629Z"
   },
   {
    "duration": 8,
    "start_time": "2021-07-07T17:02:34.308Z"
   },
   {
    "duration": 6,
    "start_time": "2021-07-07T17:05:13.483Z"
   },
   {
    "duration": 17,
    "start_time": "2021-07-07T17:05:20.606Z"
   },
   {
    "duration": 7,
    "start_time": "2021-07-07T17:05:34.638Z"
   },
   {
    "duration": 3,
    "start_time": "2021-07-07T17:06:31.883Z"
   },
   {
    "duration": 570,
    "start_time": "2021-07-07T17:06:37.165Z"
   },
   {
    "duration": 174,
    "start_time": "2021-07-07T17:06:37.737Z"
   },
   {
    "duration": 47,
    "start_time": "2021-07-07T17:06:37.913Z"
   },
   {
    "duration": 3,
    "start_time": "2021-07-07T17:06:37.962Z"
   },
   {
    "duration": 27,
    "start_time": "2021-07-07T17:06:37.967Z"
   },
   {
    "duration": 7,
    "start_time": "2021-07-07T17:06:37.996Z"
   },
   {
    "duration": 16,
    "start_time": "2021-07-07T17:06:38.005Z"
   },
   {
    "duration": 6,
    "start_time": "2021-07-07T17:06:38.024Z"
   },
   {
    "duration": 12,
    "start_time": "2021-07-07T17:06:38.031Z"
   },
   {
    "duration": 41,
    "start_time": "2021-07-07T17:06:38.045Z"
   },
   {
    "duration": 8,
    "start_time": "2021-07-07T17:06:38.088Z"
   },
   {
    "duration": 26,
    "start_time": "2021-07-07T17:06:38.098Z"
   },
   {
    "duration": 17,
    "start_time": "2021-07-07T17:06:38.126Z"
   },
   {
    "duration": 43,
    "start_time": "2021-07-07T17:06:38.144Z"
   },
   {
    "duration": 6,
    "start_time": "2021-07-07T17:06:38.188Z"
   },
   {
    "duration": 5,
    "start_time": "2021-07-07T17:06:38.195Z"
   },
   {
    "duration": 9,
    "start_time": "2021-07-07T17:06:38.201Z"
   },
   {
    "duration": 12,
    "start_time": "2021-07-07T17:06:38.212Z"
   },
   {
    "duration": 11,
    "start_time": "2021-07-07T17:06:38.226Z"
   },
   {
    "duration": 47,
    "start_time": "2021-07-07T17:06:38.239Z"
   },
   {
    "duration": 4,
    "start_time": "2021-07-07T17:06:38.288Z"
   },
   {
    "duration": 13,
    "start_time": "2021-07-07T17:06:38.293Z"
   },
   {
    "duration": 5,
    "start_time": "2021-07-07T17:06:38.309Z"
   },
   {
    "duration": 18,
    "start_time": "2021-07-07T17:06:38.325Z"
   },
   {
    "duration": 20,
    "start_time": "2021-07-07T17:07:02.805Z"
   },
   {
    "duration": 19,
    "start_time": "2021-07-07T17:07:08.527Z"
   },
   {
    "duration": 19,
    "start_time": "2021-07-07T17:07:12.758Z"
   },
   {
    "duration": 22,
    "start_time": "2021-07-07T17:07:17.497Z"
   },
   {
    "duration": 19,
    "start_time": "2021-07-07T17:07:19.645Z"
   },
   {
    "duration": 10,
    "start_time": "2021-07-07T17:07:34.239Z"
   },
   {
    "duration": 17,
    "start_time": "2021-07-07T17:07:54.144Z"
   },
   {
    "duration": 14,
    "start_time": "2021-07-07T17:08:14.357Z"
   },
   {
    "duration": 616,
    "start_time": "2021-07-07T17:08:45.254Z"
   },
   {
    "duration": 178,
    "start_time": "2021-07-07T17:08:45.872Z"
   },
   {
    "duration": 60,
    "start_time": "2021-07-07T17:08:46.054Z"
   },
   {
    "duration": 3,
    "start_time": "2021-07-07T17:08:46.116Z"
   },
   {
    "duration": 26,
    "start_time": "2021-07-07T17:08:46.121Z"
   },
   {
    "duration": 7,
    "start_time": "2021-07-07T17:08:46.149Z"
   },
   {
    "duration": 17,
    "start_time": "2021-07-07T17:08:46.158Z"
   },
   {
    "duration": 14,
    "start_time": "2021-07-07T17:08:46.176Z"
   },
   {
    "duration": 17,
    "start_time": "2021-07-07T17:08:46.193Z"
   },
   {
    "duration": 9,
    "start_time": "2021-07-07T17:08:46.211Z"
   },
   {
    "duration": 21,
    "start_time": "2021-07-07T17:08:46.221Z"
   },
   {
    "duration": 49,
    "start_time": "2021-07-07T17:08:46.244Z"
   },
   {
    "duration": 24,
    "start_time": "2021-07-07T17:08:46.295Z"
   },
   {
    "duration": 22,
    "start_time": "2021-07-07T17:08:46.321Z"
   },
   {
    "duration": 6,
    "start_time": "2021-07-07T17:08:46.345Z"
   },
   {
    "duration": 5,
    "start_time": "2021-07-07T17:08:46.353Z"
   },
   {
    "duration": 13,
    "start_time": "2021-07-07T17:08:46.386Z"
   },
   {
    "duration": 12,
    "start_time": "2021-07-07T17:08:46.402Z"
   },
   {
    "duration": 10,
    "start_time": "2021-07-07T17:08:46.415Z"
   },
   {
    "duration": 7,
    "start_time": "2021-07-07T17:08:46.427Z"
   },
   {
    "duration": 8,
    "start_time": "2021-07-07T17:08:46.435Z"
   },
   {
    "duration": 68,
    "start_time": "2021-07-07T17:08:46.446Z"
   },
   {
    "duration": 13,
    "start_time": "2021-07-07T17:08:46.516Z"
   },
   {
    "duration": 78,
    "start_time": "2021-07-07T17:08:46.530Z"
   },
   {
    "duration": 40,
    "start_time": "2021-07-07T17:09:08.185Z"
   },
   {
    "duration": 16,
    "start_time": "2021-07-07T17:09:19.324Z"
   },
   {
    "duration": 21,
    "start_time": "2021-07-07T17:09:23.290Z"
   },
   {
    "duration": 13,
    "start_time": "2021-07-07T17:09:54.812Z"
   },
   {
    "duration": 13,
    "start_time": "2021-07-07T17:10:02.039Z"
   },
   {
    "duration": 10,
    "start_time": "2021-07-07T17:10:29.632Z"
   },
   {
    "duration": 13,
    "start_time": "2021-07-07T17:10:52.372Z"
   },
   {
    "duration": 13,
    "start_time": "2021-07-07T17:11:17.270Z"
   },
   {
    "duration": 13,
    "start_time": "2021-07-07T17:14:59.284Z"
   },
   {
    "duration": 547,
    "start_time": "2021-07-07T17:18:52.403Z"
   },
   {
    "duration": 163,
    "start_time": "2021-07-07T17:18:52.952Z"
   },
   {
    "duration": 44,
    "start_time": "2021-07-07T17:18:53.117Z"
   },
   {
    "duration": 3,
    "start_time": "2021-07-07T17:18:53.162Z"
   },
   {
    "duration": 26,
    "start_time": "2021-07-07T17:18:53.167Z"
   },
   {
    "duration": 6,
    "start_time": "2021-07-07T17:18:53.195Z"
   },
   {
    "duration": 15,
    "start_time": "2021-07-07T17:18:53.203Z"
   },
   {
    "duration": 5,
    "start_time": "2021-07-07T17:18:53.220Z"
   },
   {
    "duration": 11,
    "start_time": "2021-07-07T17:18:53.228Z"
   },
   {
    "duration": 9,
    "start_time": "2021-07-07T17:18:53.241Z"
   },
   {
    "duration": 41,
    "start_time": "2021-07-07T17:18:53.252Z"
   },
   {
    "duration": 33,
    "start_time": "2021-07-07T17:18:53.295Z"
   },
   {
    "duration": 19,
    "start_time": "2021-07-07T17:18:53.330Z"
   },
   {
    "duration": 49,
    "start_time": "2021-07-07T17:18:53.350Z"
   },
   {
    "duration": 5,
    "start_time": "2021-07-07T17:18:53.401Z"
   },
   {
    "duration": 5,
    "start_time": "2021-07-07T17:18:53.408Z"
   },
   {
    "duration": 11,
    "start_time": "2021-07-07T17:18:53.414Z"
   },
   {
    "duration": 9,
    "start_time": "2021-07-07T17:18:53.427Z"
   },
   {
    "duration": 10,
    "start_time": "2021-07-07T17:18:53.437Z"
   },
   {
    "duration": 39,
    "start_time": "2021-07-07T17:18:53.448Z"
   },
   {
    "duration": 26,
    "start_time": "2021-07-07T17:18:55.799Z"
   },
   {
    "duration": 598,
    "start_time": "2021-07-07T17:20:17.862Z"
   },
   {
    "duration": 161,
    "start_time": "2021-07-07T17:20:18.462Z"
   },
   {
    "duration": 45,
    "start_time": "2021-07-07T17:20:18.626Z"
   },
   {
    "duration": 4,
    "start_time": "2021-07-07T17:20:18.673Z"
   },
   {
    "duration": 38,
    "start_time": "2021-07-07T17:20:26.877Z"
   },
   {
    "duration": 7,
    "start_time": "2021-07-07T17:20:37.405Z"
   },
   {
    "duration": 19,
    "start_time": "2021-07-07T17:20:51.534Z"
   },
   {
    "duration": 5,
    "start_time": "2021-07-07T17:20:57.228Z"
   },
   {
    "duration": 7,
    "start_time": "2021-07-07T17:21:08.235Z"
   },
   {
    "duration": 19,
    "start_time": "2021-07-07T17:21:42.158Z"
   },
   {
    "duration": 14,
    "start_time": "2021-07-07T17:21:50.225Z"
   },
   {
    "duration": 22,
    "start_time": "2021-07-07T17:22:54.104Z"
   },
   {
    "duration": 5,
    "start_time": "2021-07-07T17:22:56.371Z"
   },
   {
    "duration": 14,
    "start_time": "2021-07-07T17:22:58.316Z"
   },
   {
    "duration": 5,
    "start_time": "2021-07-07T17:22:58.493Z"
   },
   {
    "duration": 35,
    "start_time": "2021-07-07T17:22:59.666Z"
   },
   {
    "duration": 6,
    "start_time": "2021-07-07T17:23:02.410Z"
   },
   {
    "duration": 611,
    "start_time": "2021-07-07T17:24:59.664Z"
   },
   {
    "duration": 178,
    "start_time": "2021-07-07T17:25:01.945Z"
   },
   {
    "duration": 47,
    "start_time": "2021-07-07T17:25:02.125Z"
   },
   {
    "duration": 2,
    "start_time": "2021-07-07T17:25:07.903Z"
   },
   {
    "duration": 254,
    "start_time": "2021-07-07T17:25:08.232Z"
   },
   {
    "duration": 182,
    "start_time": "2021-07-07T17:25:08.671Z"
   },
   {
    "duration": 6,
    "start_time": "2021-07-07T17:25:13.104Z"
   },
   {
    "duration": 36,
    "start_time": "2021-07-07T17:25:13.662Z"
   },
   {
    "duration": 7,
    "start_time": "2021-07-07T17:25:14.528Z"
   },
   {
    "duration": 24,
    "start_time": "2021-07-07T17:25:27.982Z"
   },
   {
    "duration": 3,
    "start_time": "2021-07-07T17:25:48.982Z"
   },
   {
    "duration": 165,
    "start_time": "2021-07-07T17:25:48.987Z"
   },
   {
    "duration": 50,
    "start_time": "2021-07-07T17:25:49.154Z"
   },
   {
    "duration": 4,
    "start_time": "2021-07-07T17:25:49.206Z"
   },
   {
    "duration": 26,
    "start_time": "2021-07-07T17:25:49.212Z"
   },
   {
    "duration": 7,
    "start_time": "2021-07-07T17:25:49.240Z"
   },
   {
    "duration": 16,
    "start_time": "2021-07-07T17:25:49.249Z"
   },
   {
    "duration": 22,
    "start_time": "2021-07-07T17:25:49.266Z"
   },
   {
    "duration": 16,
    "start_time": "2021-07-07T17:25:49.291Z"
   },
   {
    "duration": 9,
    "start_time": "2021-07-07T17:25:49.309Z"
   },
   {
    "duration": 7,
    "start_time": "2021-07-07T17:25:49.319Z"
   },
   {
    "duration": 28,
    "start_time": "2021-07-07T17:25:49.328Z"
   },
   {
    "duration": 44,
    "start_time": "2021-07-07T17:25:49.357Z"
   },
   {
    "duration": 22,
    "start_time": "2021-07-07T17:25:49.403Z"
   },
   {
    "duration": 7,
    "start_time": "2021-07-07T17:25:49.427Z"
   },
   {
    "duration": 3,
    "start_time": "2021-07-07T17:25:49.436Z"
   },
   {
    "duration": 44,
    "start_time": "2021-07-07T17:25:49.441Z"
   },
   {
    "duration": 12,
    "start_time": "2021-07-07T17:25:49.488Z"
   },
   {
    "duration": 13,
    "start_time": "2021-07-07T17:25:49.502Z"
   },
   {
    "duration": 10,
    "start_time": "2021-07-07T17:25:49.516Z"
   },
   {
    "duration": 62,
    "start_time": "2021-07-07T17:25:49.527Z"
   },
   {
    "duration": 26,
    "start_time": "2021-07-07T17:26:51.809Z"
   },
   {
    "duration": 26,
    "start_time": "2021-07-07T17:26:55.759Z"
   },
   {
    "duration": 26,
    "start_time": "2021-07-07T17:27:04.501Z"
   },
   {
    "duration": 25,
    "start_time": "2021-07-07T17:28:24.859Z"
   },
   {
    "duration": 21,
    "start_time": "2021-07-07T17:28:55.250Z"
   },
   {
    "duration": 21,
    "start_time": "2021-07-07T17:28:58.885Z"
   },
   {
    "duration": 7,
    "start_time": "2021-07-07T17:45:40.972Z"
   },
   {
    "duration": 13,
    "start_time": "2021-07-07T17:45:42.529Z"
   },
   {
    "duration": 27,
    "start_time": "2021-07-07T17:45:51.026Z"
   },
   {
    "duration": 518,
    "start_time": "2021-07-07T17:46:15.532Z"
   },
   {
    "duration": 235,
    "start_time": "2021-07-07T17:46:16.053Z"
   },
   {
    "duration": 80,
    "start_time": "2021-07-07T17:46:16.292Z"
   },
   {
    "duration": 5,
    "start_time": "2021-07-07T17:46:16.373Z"
   },
   {
    "duration": 26,
    "start_time": "2021-07-07T17:46:16.380Z"
   },
   {
    "duration": 7,
    "start_time": "2021-07-07T17:46:16.408Z"
   },
   {
    "duration": 16,
    "start_time": "2021-07-07T17:46:16.418Z"
   },
   {
    "duration": 5,
    "start_time": "2021-07-07T17:46:16.436Z"
   },
   {
    "duration": 13,
    "start_time": "2021-07-07T17:46:16.442Z"
   },
   {
    "duration": 35,
    "start_time": "2021-07-07T17:46:16.456Z"
   },
   {
    "duration": 8,
    "start_time": "2021-07-07T17:46:16.493Z"
   },
   {
    "duration": 28,
    "start_time": "2021-07-07T17:46:16.502Z"
   },
   {
    "duration": 17,
    "start_time": "2021-07-07T17:46:16.532Z"
   },
   {
    "duration": 44,
    "start_time": "2021-07-07T17:46:16.551Z"
   },
   {
    "duration": 6,
    "start_time": "2021-07-07T17:46:16.597Z"
   },
   {
    "duration": 4,
    "start_time": "2021-07-07T17:46:16.605Z"
   },
   {
    "duration": 9,
    "start_time": "2021-07-07T17:46:16.610Z"
   },
   {
    "duration": 9,
    "start_time": "2021-07-07T17:46:16.621Z"
   },
   {
    "duration": 10,
    "start_time": "2021-07-07T17:46:16.632Z"
   },
   {
    "duration": 43,
    "start_time": "2021-07-07T17:46:16.644Z"
   },
   {
    "duration": 26,
    "start_time": "2021-07-07T17:46:16.689Z"
   },
   {
    "duration": 19,
    "start_time": "2021-07-07T17:46:16.718Z"
   },
   {
    "duration": 8,
    "start_time": "2021-07-07T17:46:16.738Z"
   },
   {
    "duration": 43,
    "start_time": "2021-07-07T17:46:16.747Z"
   },
   {
    "duration": 19,
    "start_time": "2021-07-07T17:46:16.791Z"
   },
   {
    "duration": 9,
    "start_time": "2021-07-07T17:46:16.812Z"
   },
   {
    "duration": 60,
    "start_time": "2021-07-07T17:46:16.822Z"
   },
   {
    "duration": -8,
    "start_time": "2021-07-07T17:46:16.892Z"
   },
   {
    "duration": 12,
    "start_time": "2021-07-07T17:48:47.707Z"
   },
   {
    "duration": 553,
    "start_time": "2021-07-07T18:10:09.350Z"
   },
   {
    "duration": 230,
    "start_time": "2021-07-07T18:10:09.905Z"
   },
   {
    "duration": 97,
    "start_time": "2021-07-07T18:10:10.137Z"
   },
   {
    "duration": 5,
    "start_time": "2021-07-07T18:10:10.236Z"
   },
   {
    "duration": 29,
    "start_time": "2021-07-07T18:10:10.242Z"
   },
   {
    "duration": 7,
    "start_time": "2021-07-07T18:10:10.272Z"
   },
   {
    "duration": 15,
    "start_time": "2021-07-07T18:10:10.281Z"
   },
   {
    "duration": 4,
    "start_time": "2021-07-07T18:10:10.299Z"
   },
   {
    "duration": 14,
    "start_time": "2021-07-07T18:10:10.305Z"
   },
   {
    "duration": 8,
    "start_time": "2021-07-07T18:10:10.321Z"
   },
   {
    "duration": 8,
    "start_time": "2021-07-07T18:10:10.331Z"
   },
   {
    "duration": 56,
    "start_time": "2021-07-07T18:10:10.341Z"
   },
   {
    "duration": 19,
    "start_time": "2021-07-07T18:10:10.399Z"
   },
   {
    "duration": 23,
    "start_time": "2021-07-07T18:10:10.419Z"
   },
   {
    "duration": 6,
    "start_time": "2021-07-07T18:10:10.444Z"
   },
   {
    "duration": 9,
    "start_time": "2021-07-07T18:10:10.451Z"
   },
   {
    "duration": 30,
    "start_time": "2021-07-07T18:10:10.462Z"
   },
   {
    "duration": 9,
    "start_time": "2021-07-07T18:10:10.494Z"
   },
   {
    "duration": 14,
    "start_time": "2021-07-07T18:10:10.505Z"
   },
   {
    "duration": 7,
    "start_time": "2021-07-07T18:10:10.521Z"
   },
   {
    "duration": 26,
    "start_time": "2021-07-07T18:10:10.530Z"
   },
   {
    "duration": 44,
    "start_time": "2021-07-07T18:10:10.558Z"
   },
   {
    "duration": 7,
    "start_time": "2021-07-07T18:10:10.605Z"
   },
   {
    "duration": 11,
    "start_time": "2021-07-07T18:10:10.614Z"
   },
   {
    "duration": 19,
    "start_time": "2021-07-07T18:10:10.626Z"
   },
   {
    "duration": 44,
    "start_time": "2021-07-07T18:10:10.646Z"
   },
   {
    "duration": 516,
    "start_time": "2021-07-07T18:14:00.826Z"
   },
   {
    "duration": 230,
    "start_time": "2021-07-07T18:14:01.344Z"
   },
   {
    "duration": 105,
    "start_time": "2021-07-07T18:14:01.576Z"
   },
   {
    "duration": 5,
    "start_time": "2021-07-07T18:14:01.683Z"
   },
   {
    "duration": 46,
    "start_time": "2021-07-07T18:14:01.690Z"
   },
   {
    "duration": 7,
    "start_time": "2021-07-07T18:14:01.738Z"
   },
   {
    "duration": 20,
    "start_time": "2021-07-07T18:14:01.747Z"
   },
   {
    "duration": 16,
    "start_time": "2021-07-07T18:14:01.769Z"
   },
   {
    "duration": 14,
    "start_time": "2021-07-07T18:14:01.787Z"
   },
   {
    "duration": 15,
    "start_time": "2021-07-07T18:14:01.803Z"
   },
   {
    "duration": 12,
    "start_time": "2021-07-07T18:14:01.820Z"
   },
   {
    "duration": 35,
    "start_time": "2021-07-07T18:14:01.833Z"
   },
   {
    "duration": 31,
    "start_time": "2021-07-07T18:14:01.869Z"
   },
   {
    "duration": 37,
    "start_time": "2021-07-07T18:14:01.902Z"
   },
   {
    "duration": 8,
    "start_time": "2021-07-07T18:14:01.942Z"
   },
   {
    "duration": 16,
    "start_time": "2021-07-07T18:14:01.952Z"
   },
   {
    "duration": 13,
    "start_time": "2021-07-07T18:14:01.970Z"
   },
   {
    "duration": 32,
    "start_time": "2021-07-07T18:14:01.985Z"
   },
   {
    "duration": 11,
    "start_time": "2021-07-07T18:14:02.019Z"
   },
   {
    "duration": 22,
    "start_time": "2021-07-07T18:14:02.031Z"
   },
   {
    "duration": 27,
    "start_time": "2021-07-07T18:14:02.055Z"
   },
   {
    "duration": 18,
    "start_time": "2021-07-07T18:14:02.084Z"
   },
   {
    "duration": 18,
    "start_time": "2021-07-07T18:14:02.106Z"
   },
   {
    "duration": 11,
    "start_time": "2021-07-07T18:14:02.126Z"
   },
   {
    "duration": 21,
    "start_time": "2021-07-07T18:14:02.138Z"
   },
   {
    "duration": 32,
    "start_time": "2021-07-07T18:14:02.161Z"
   },
   {
    "duration": 28,
    "start_time": "2021-07-07T18:14:44.295Z"
   },
   {
    "duration": 6,
    "start_time": "2021-07-07T18:15:05.834Z"
   },
   {
    "duration": 511,
    "start_time": "2021-07-07T18:15:41.541Z"
   },
   {
    "duration": 183,
    "start_time": "2021-07-07T18:15:42.054Z"
   },
   {
    "duration": 50,
    "start_time": "2021-07-07T18:15:42.239Z"
   },
   {
    "duration": 5,
    "start_time": "2021-07-07T18:15:42.291Z"
   },
   {
    "duration": 48,
    "start_time": "2021-07-07T18:15:42.297Z"
   },
   {
    "duration": 8,
    "start_time": "2021-07-07T18:15:42.346Z"
   },
   {
    "duration": 17,
    "start_time": "2021-07-07T18:15:42.356Z"
   },
   {
    "duration": 15,
    "start_time": "2021-07-07T18:15:42.375Z"
   },
   {
    "duration": 12,
    "start_time": "2021-07-07T18:15:42.392Z"
   },
   {
    "duration": 7,
    "start_time": "2021-07-07T18:15:42.406Z"
   },
   {
    "duration": 7,
    "start_time": "2021-07-07T18:15:42.415Z"
   },
   {
    "duration": 29,
    "start_time": "2021-07-07T18:15:42.423Z"
   },
   {
    "duration": 43,
    "start_time": "2021-07-07T18:15:42.453Z"
   },
   {
    "duration": 18,
    "start_time": "2021-07-07T18:15:42.497Z"
   },
   {
    "duration": 6,
    "start_time": "2021-07-07T18:15:42.516Z"
   },
   {
    "duration": 3,
    "start_time": "2021-07-07T18:15:42.523Z"
   },
   {
    "duration": 18,
    "start_time": "2021-07-07T18:15:42.528Z"
   },
   {
    "duration": 10,
    "start_time": "2021-07-07T18:15:42.547Z"
   },
   {
    "duration": 36,
    "start_time": "2021-07-07T18:15:42.559Z"
   },
   {
    "duration": 8,
    "start_time": "2021-07-07T18:15:42.597Z"
   },
   {
    "duration": 28,
    "start_time": "2021-07-07T18:15:42.606Z"
   },
   {
    "duration": 52,
    "start_time": "2021-07-07T18:15:42.635Z"
   },
   {
    "duration": 7,
    "start_time": "2021-07-07T18:15:42.690Z"
   },
   {
    "duration": 10,
    "start_time": "2021-07-07T18:15:42.699Z"
   },
   {
    "duration": 19,
    "start_time": "2021-07-07T18:15:42.711Z"
   },
   {
    "duration": 9,
    "start_time": "2021-07-07T18:15:42.732Z"
   },
   {
    "duration": 5,
    "start_time": "2021-07-07T18:15:42.743Z"
   },
   {
    "duration": 1450,
    "start_time": "2021-07-07T18:15:51.984Z"
   },
   {
    "duration": 161,
    "start_time": "2021-07-07T18:15:53.435Z"
   },
   {
    "duration": 124,
    "start_time": "2021-07-07T18:15:53.598Z"
   },
   {
    "duration": 5,
    "start_time": "2021-07-07T18:15:53.724Z"
   },
   {
    "duration": 34,
    "start_time": "2021-07-07T18:15:53.730Z"
   },
   {
    "duration": 7,
    "start_time": "2021-07-07T18:15:53.765Z"
   },
   {
    "duration": 15,
    "start_time": "2021-07-07T18:15:53.773Z"
   },
   {
    "duration": 5,
    "start_time": "2021-07-07T18:15:53.791Z"
   },
   {
    "duration": 19,
    "start_time": "2021-07-07T18:15:53.798Z"
   },
   {
    "duration": 9,
    "start_time": "2021-07-07T18:15:53.818Z"
   },
   {
    "duration": 19,
    "start_time": "2021-07-07T18:15:53.828Z"
   },
   {
    "duration": 27,
    "start_time": "2021-07-07T18:15:53.848Z"
   },
   {
    "duration": 16,
    "start_time": "2021-07-07T18:15:53.884Z"
   },
   {
    "duration": 29,
    "start_time": "2021-07-07T18:15:53.901Z"
   },
   {
    "duration": 5,
    "start_time": "2021-07-07T18:15:53.932Z"
   },
   {
    "duration": 15,
    "start_time": "2021-07-07T18:15:53.939Z"
   },
   {
    "duration": 13,
    "start_time": "2021-07-07T18:15:53.956Z"
   },
   {
    "duration": 20,
    "start_time": "2021-07-07T18:15:53.971Z"
   },
   {
    "duration": 14,
    "start_time": "2021-07-07T18:15:53.992Z"
   },
   {
    "duration": 9,
    "start_time": "2021-07-07T18:15:54.009Z"
   },
   {
    "duration": 28,
    "start_time": "2021-07-07T18:15:54.020Z"
   },
   {
    "duration": 50,
    "start_time": "2021-07-07T18:15:54.051Z"
   },
   {
    "duration": 8,
    "start_time": "2021-07-07T18:15:54.105Z"
   },
   {
    "duration": 11,
    "start_time": "2021-07-07T18:15:54.115Z"
   },
   {
    "duration": 20,
    "start_time": "2021-07-07T18:15:54.128Z"
   },
   {
    "duration": 13,
    "start_time": "2021-07-07T18:15:54.184Z"
   },
   {
    "duration": 7,
    "start_time": "2021-07-07T18:15:54.199Z"
   },
   {
    "duration": 7,
    "start_time": "2021-07-07T18:17:08.042Z"
   },
   {
    "duration": 8,
    "start_time": "2021-07-07T18:17:21.008Z"
   },
   {
    "duration": 7,
    "start_time": "2021-07-07T18:17:29.003Z"
   },
   {
    "duration": 8,
    "start_time": "2021-07-07T18:17:32.492Z"
   },
   {
    "duration": 9,
    "start_time": "2021-07-07T18:17:41.758Z"
   },
   {
    "duration": 255,
    "start_time": "2021-07-07T18:20:20.897Z"
   },
   {
    "duration": 173,
    "start_time": "2021-07-07T18:20:26.636Z"
   },
   {
    "duration": 7,
    "start_time": "2021-07-07T18:21:47.164Z"
   },
   {
    "duration": 254,
    "start_time": "2021-07-07T18:23:08.703Z"
   },
   {
    "duration": 21,
    "start_time": "2021-07-07T18:23:22.506Z"
   },
   {
    "duration": 315,
    "start_time": "2021-07-07T18:25:54.801Z"
   },
   {
    "duration": 34,
    "start_time": "2021-07-07T18:26:51.817Z"
   },
   {
    "duration": 327,
    "start_time": "2021-07-07T18:26:56.147Z"
   },
   {
    "duration": 342,
    "start_time": "2021-07-07T18:27:15.887Z"
   },
   {
    "duration": 302,
    "start_time": "2021-07-07T18:28:18.569Z"
   },
   {
    "duration": 226,
    "start_time": "2021-07-07T18:29:20.879Z"
   },
   {
    "duration": 207,
    "start_time": "2021-07-07T18:29:58.114Z"
   },
   {
    "duration": 140,
    "start_time": "2021-07-07T18:32:04.372Z"
   },
   {
    "duration": 158,
    "start_time": "2021-07-07T18:32:32.508Z"
   },
   {
    "duration": 145,
    "start_time": "2021-07-07T18:32:41.365Z"
   },
   {
    "duration": 132,
    "start_time": "2021-07-07T18:32:45.199Z"
   },
   {
    "duration": 11,
    "start_time": "2021-07-07T18:35:24.679Z"
   },
   {
    "duration": 268,
    "start_time": "2021-07-07T18:36:16.145Z"
   },
   {
    "duration": 227,
    "start_time": "2021-07-07T18:37:04.918Z"
   },
   {
    "duration": 3,
    "start_time": "2021-07-07T18:37:33.012Z"
   },
   {
    "duration": 671,
    "start_time": "2021-07-07T18:37:38.295Z"
   },
   {
    "duration": 54,
    "start_time": "2021-07-07T18:37:53.406Z"
   },
   {
    "duration": 631,
    "start_time": "2021-07-07T18:37:56.463Z"
   },
   {
    "duration": 19,
    "start_time": "2021-07-07T18:39:40.535Z"
   },
   {
    "duration": 20,
    "start_time": "2021-07-07T18:40:12.236Z"
   },
   {
    "duration": 633,
    "start_time": "2021-07-07T18:42:00.398Z"
   },
   {
    "duration": 218,
    "start_time": "2021-07-07T18:42:01.033Z"
   },
   {
    "duration": 49,
    "start_time": "2021-07-07T18:42:01.253Z"
   },
   {
    "duration": 5,
    "start_time": "2021-07-07T18:42:01.303Z"
   },
   {
    "duration": 27,
    "start_time": "2021-07-07T18:42:01.310Z"
   },
   {
    "duration": 8,
    "start_time": "2021-07-07T18:42:01.339Z"
   },
   {
    "duration": 20,
    "start_time": "2021-07-07T18:42:01.348Z"
   },
   {
    "duration": 6,
    "start_time": "2021-07-07T18:42:01.386Z"
   },
   {
    "duration": 16,
    "start_time": "2021-07-07T18:42:01.394Z"
   },
   {
    "duration": 9,
    "start_time": "2021-07-07T18:42:01.411Z"
   },
   {
    "duration": 11,
    "start_time": "2021-07-07T18:42:01.421Z"
   },
   {
    "duration": 31,
    "start_time": "2021-07-07T18:42:01.434Z"
   },
   {
    "duration": 18,
    "start_time": "2021-07-07T18:42:01.485Z"
   },
   {
    "duration": 23,
    "start_time": "2021-07-07T18:42:01.505Z"
   },
   {
    "duration": 6,
    "start_time": "2021-07-07T18:42:01.530Z"
   },
   {
    "duration": 10,
    "start_time": "2021-07-07T18:42:01.538Z"
   },
   {
    "duration": 13,
    "start_time": "2021-07-07T18:42:01.550Z"
   },
   {
    "duration": 24,
    "start_time": "2021-07-07T18:42:01.564Z"
   },
   {
    "duration": 20,
    "start_time": "2021-07-07T18:42:01.590Z"
   },
   {
    "duration": 8,
    "start_time": "2021-07-07T18:42:01.611Z"
   },
   {
    "duration": 31,
    "start_time": "2021-07-07T18:42:01.620Z"
   },
   {
    "duration": 39,
    "start_time": "2021-07-07T18:42:01.653Z"
   },
   {
    "duration": 8,
    "start_time": "2021-07-07T18:42:01.696Z"
   },
   {
    "duration": 13,
    "start_time": "2021-07-07T18:42:01.705Z"
   },
   {
    "duration": 20,
    "start_time": "2021-07-07T18:42:01.720Z"
   },
   {
    "duration": 12,
    "start_time": "2021-07-07T18:42:01.741Z"
   },
   {
    "duration": 35,
    "start_time": "2021-07-07T18:42:01.755Z"
   },
   {
    "duration": 14,
    "start_time": "2021-07-07T18:42:01.792Z"
   },
   {
    "duration": 188,
    "start_time": "2021-07-07T18:42:01.808Z"
   },
   {
    "duration": 19,
    "start_time": "2021-07-07T18:42:01.998Z"
   },
   {
    "duration": 175,
    "start_time": "2021-07-07T18:42:02.019Z"
   },
   {
    "duration": 134,
    "start_time": "2021-07-07T18:42:02.196Z"
   },
   {
    "duration": 10,
    "start_time": "2021-07-07T18:42:02.331Z"
   },
   {
    "duration": 19,
    "start_time": "2021-07-07T18:42:02.343Z"
   },
   {
    "duration": 628,
    "start_time": "2021-07-07T18:46:30.701Z"
   },
   {
    "duration": 183,
    "start_time": "2021-07-07T18:46:31.331Z"
   },
   {
    "duration": 48,
    "start_time": "2021-07-07T18:46:31.516Z"
   },
   {
    "duration": 5,
    "start_time": "2021-07-07T18:46:31.566Z"
   },
   {
    "duration": 28,
    "start_time": "2021-07-07T18:46:31.572Z"
   },
   {
    "duration": 8,
    "start_time": "2021-07-07T18:46:31.602Z"
   },
   {
    "duration": 19,
    "start_time": "2021-07-07T18:46:31.611Z"
   },
   {
    "duration": 6,
    "start_time": "2021-07-07T18:46:31.633Z"
   },
   {
    "duration": 17,
    "start_time": "2021-07-07T18:46:31.642Z"
   },
   {
    "duration": 10,
    "start_time": "2021-07-07T18:46:31.684Z"
   },
   {
    "duration": 9,
    "start_time": "2021-07-07T18:46:31.695Z"
   },
   {
    "duration": 28,
    "start_time": "2021-07-07T18:46:31.705Z"
   },
   {
    "duration": 18,
    "start_time": "2021-07-07T18:46:31.735Z"
   },
   {
    "duration": 48,
    "start_time": "2021-07-07T18:46:31.755Z"
   },
   {
    "duration": 6,
    "start_time": "2021-07-07T18:46:31.804Z"
   },
   {
    "duration": 4,
    "start_time": "2021-07-07T18:46:31.812Z"
   },
   {
    "duration": 9,
    "start_time": "2021-07-07T18:46:31.817Z"
   },
   {
    "duration": 10,
    "start_time": "2021-07-07T18:46:31.827Z"
   },
   {
    "duration": 12,
    "start_time": "2021-07-07T18:46:31.838Z"
   },
   {
    "duration": 39,
    "start_time": "2021-07-07T18:46:31.851Z"
   },
   {
    "duration": 24,
    "start_time": "2021-07-07T18:46:31.892Z"
   },
   {
    "duration": 15,
    "start_time": "2021-07-07T18:46:31.918Z"
   },
   {
    "duration": 7,
    "start_time": "2021-07-07T18:46:31.936Z"
   },
   {
    "duration": 8,
    "start_time": "2021-07-07T18:46:31.944Z"
   },
   {
    "duration": 19,
    "start_time": "2021-07-07T18:46:31.984Z"
   },
   {
    "duration": 10,
    "start_time": "2021-07-07T18:46:32.004Z"
   },
   {
    "duration": 5,
    "start_time": "2021-07-07T18:46:32.016Z"
   },
   {
    "duration": 9,
    "start_time": "2021-07-07T18:46:32.023Z"
   },
   {
    "duration": 199,
    "start_time": "2021-07-07T18:46:32.033Z"
   },
   {
    "duration": 19,
    "start_time": "2021-07-07T18:46:32.234Z"
   },
   {
    "duration": 159,
    "start_time": "2021-07-07T18:46:32.255Z"
   },
   {
    "duration": 134,
    "start_time": "2021-07-07T18:46:32.416Z"
   },
   {
    "duration": 10,
    "start_time": "2021-07-07T18:46:32.552Z"
   },
   {
    "duration": 34,
    "start_time": "2021-07-07T18:46:32.563Z"
   },
   {
    "duration": 1039,
    "start_time": "2021-07-08T08:41:09.419Z"
   },
   {
    "duration": 333,
    "start_time": "2021-07-08T08:41:10.459Z"
   },
   {
    "duration": 173,
    "start_time": "2021-07-08T08:41:10.794Z"
   },
   {
    "duration": 5,
    "start_time": "2021-07-08T08:41:10.968Z"
   },
   {
    "duration": 25,
    "start_time": "2021-07-08T08:41:10.975Z"
   },
   {
    "duration": 9,
    "start_time": "2021-07-08T08:41:11.002Z"
   },
   {
    "duration": 18,
    "start_time": "2021-07-08T08:41:11.013Z"
   },
   {
    "duration": 6,
    "start_time": "2021-07-08T08:41:11.033Z"
   },
   {
    "duration": 44,
    "start_time": "2021-07-08T08:41:11.042Z"
   },
   {
    "duration": 10,
    "start_time": "2021-07-08T08:41:11.088Z"
   },
   {
    "duration": 9,
    "start_time": "2021-07-08T08:41:11.100Z"
   },
   {
    "duration": 27,
    "start_time": "2021-07-08T08:41:11.111Z"
   },
   {
    "duration": 46,
    "start_time": "2021-07-08T08:41:11.140Z"
   },
   {
    "duration": 17,
    "start_time": "2021-07-08T08:41:11.187Z"
   },
   {
    "duration": 6,
    "start_time": "2021-07-08T08:41:11.206Z"
   },
   {
    "duration": 5,
    "start_time": "2021-07-08T08:41:11.213Z"
   },
   {
    "duration": 10,
    "start_time": "2021-07-08T08:41:11.219Z"
   },
   {
    "duration": 9,
    "start_time": "2021-07-08T08:41:11.230Z"
   },
   {
    "duration": 45,
    "start_time": "2021-07-08T08:41:11.241Z"
   },
   {
    "duration": 7,
    "start_time": "2021-07-08T08:41:11.287Z"
   },
   {
    "duration": 24,
    "start_time": "2021-07-08T08:41:11.296Z"
   },
   {
    "duration": 16,
    "start_time": "2021-07-08T08:41:11.322Z"
   },
   {
    "duration": 7,
    "start_time": "2021-07-08T08:41:11.341Z"
   },
   {
    "duration": 41,
    "start_time": "2021-07-08T08:41:11.349Z"
   },
   {
    "duration": 17,
    "start_time": "2021-07-08T08:41:11.391Z"
   },
   {
    "duration": 9,
    "start_time": "2021-07-08T08:41:11.410Z"
   },
   {
    "duration": 5,
    "start_time": "2021-07-08T08:41:11.421Z"
   },
   {
    "duration": 6,
    "start_time": "2021-07-08T08:41:11.428Z"
   },
   {
    "duration": 198,
    "start_time": "2021-07-08T08:41:11.435Z"
   },
   {
    "duration": 18,
    "start_time": "2021-07-08T08:41:11.635Z"
   },
   {
    "duration": 155,
    "start_time": "2021-07-08T08:41:11.655Z"
   },
   {
    "duration": 138,
    "start_time": "2021-07-08T08:41:11.811Z"
   },
   {
    "duration": 10,
    "start_time": "2021-07-08T08:41:11.950Z"
   },
   {
    "duration": 29,
    "start_time": "2021-07-08T08:41:11.961Z"
   },
   {
    "duration": 171,
    "start_time": "2021-07-08T08:47:44.522Z"
   },
   {
    "duration": 124,
    "start_time": "2021-07-08T08:47:46.872Z"
   },
   {
    "duration": 191,
    "start_time": "2021-07-08T08:47:58.148Z"
   },
   {
    "duration": 191,
    "start_time": "2021-07-08T08:48:07.412Z"
   },
   {
    "duration": 261,
    "start_time": "2021-07-08T08:48:10.385Z"
   },
   {
    "duration": 255,
    "start_time": "2021-07-08T08:48:14.494Z"
   },
   {
    "duration": 219,
    "start_time": "2021-07-08T08:48:22.752Z"
   },
   {
    "duration": 173,
    "start_time": "2021-07-08T08:49:06.395Z"
   },
   {
    "duration": 180,
    "start_time": "2021-07-08T08:49:21.011Z"
   },
   {
    "duration": 6,
    "start_time": "2021-07-08T08:50:31.697Z"
   },
   {
    "duration": 10,
    "start_time": "2021-07-08T08:50:47.394Z"
   },
   {
    "duration": 11,
    "start_time": "2021-07-08T08:53:49.332Z"
   },
   {
    "duration": 171,
    "start_time": "2021-07-08T08:54:28.408Z"
   },
   {
    "duration": 636,
    "start_time": "2021-07-08T09:02:48.385Z"
   },
   {
    "duration": 227,
    "start_time": "2021-07-08T09:02:49.023Z"
   },
   {
    "duration": 104,
    "start_time": "2021-07-08T09:02:49.252Z"
   },
   {
    "duration": 5,
    "start_time": "2021-07-08T09:02:49.358Z"
   },
   {
    "duration": 27,
    "start_time": "2021-07-08T09:02:49.365Z"
   },
   {
    "duration": 8,
    "start_time": "2021-07-08T09:02:49.394Z"
   },
   {
    "duration": 18,
    "start_time": "2021-07-08T09:02:49.404Z"
   },
   {
    "duration": 6,
    "start_time": "2021-07-08T09:02:49.424Z"
   },
   {
    "duration": 11,
    "start_time": "2021-07-08T09:02:49.433Z"
   },
   {
    "duration": 13,
    "start_time": "2021-07-08T09:02:49.485Z"
   },
   {
    "duration": 9,
    "start_time": "2021-07-08T09:02:49.500Z"
   },
   {
    "duration": 38,
    "start_time": "2021-07-08T09:02:49.511Z"
   },
   {
    "duration": 42,
    "start_time": "2021-07-08T09:02:49.551Z"
   },
   {
    "duration": 21,
    "start_time": "2021-07-08T09:02:49.594Z"
   },
   {
    "duration": 6,
    "start_time": "2021-07-08T09:02:49.616Z"
   },
   {
    "duration": 3,
    "start_time": "2021-07-08T09:02:49.623Z"
   },
   {
    "duration": 9,
    "start_time": "2021-07-08T09:02:49.628Z"
   },
   {
    "duration": 52,
    "start_time": "2021-07-08T09:02:49.638Z"
   },
   {
    "duration": 11,
    "start_time": "2021-07-08T09:02:49.692Z"
   },
   {
    "duration": 8,
    "start_time": "2021-07-08T09:02:49.704Z"
   },
   {
    "duration": 27,
    "start_time": "2021-07-08T09:02:49.713Z"
   },
   {
    "duration": 59,
    "start_time": "2021-07-08T09:02:49.741Z"
   },
   {
    "duration": 8,
    "start_time": "2021-07-08T09:02:49.803Z"
   },
   {
    "duration": 14,
    "start_time": "2021-07-08T09:02:49.813Z"
   },
   {
    "duration": 20,
    "start_time": "2021-07-08T09:02:49.829Z"
   },
   {
    "duration": 44,
    "start_time": "2021-07-08T09:02:49.851Z"
   },
   {
    "duration": 14,
    "start_time": "2021-07-08T09:02:49.896Z"
   },
   {
    "duration": 221,
    "start_time": "2021-07-08T09:02:49.912Z"
   },
   {
    "duration": 6,
    "start_time": "2021-07-08T09:02:50.134Z"
   },
   {
    "duration": 206,
    "start_time": "2021-07-08T09:02:50.142Z"
   },
   {
    "duration": 19,
    "start_time": "2021-07-08T09:02:50.350Z"
   },
   {
    "duration": 21,
    "start_time": "2021-07-08T09:02:50.370Z"
   },
   {
    "duration": 20,
    "start_time": "2021-07-08T09:02:50.393Z"
   },
   {
    "duration": 5,
    "start_time": "2021-07-08T09:02:50.414Z"
   },
   {
    "duration": 5,
    "start_time": "2021-07-08T09:03:34.173Z"
   },
   {
    "duration": 6,
    "start_time": "2021-07-08T09:04:49.062Z"
   },
   {
    "duration": 9,
    "start_time": "2021-07-08T09:04:50.118Z"
   },
   {
    "duration": 14,
    "start_time": "2021-07-08T09:04:58.512Z"
   },
   {
    "duration": 9,
    "start_time": "2021-07-08T09:05:10.988Z"
   },
   {
    "duration": 11,
    "start_time": "2021-07-08T09:05:11.743Z"
   },
   {
    "duration": 7,
    "start_time": "2021-07-08T09:05:25.677Z"
   },
   {
    "duration": 13,
    "start_time": "2021-07-08T09:05:47.189Z"
   },
   {
    "duration": 13,
    "start_time": "2021-07-08T09:05:54.755Z"
   },
   {
    "duration": 4,
    "start_time": "2021-07-08T09:06:29.189Z"
   },
   {
    "duration": 244,
    "start_time": "2021-07-08T09:06:29.195Z"
   },
   {
    "duration": 91,
    "start_time": "2021-07-08T09:06:29.441Z"
   },
   {
    "duration": 4,
    "start_time": "2021-07-08T09:06:29.534Z"
   },
   {
    "duration": 28,
    "start_time": "2021-07-08T09:06:29.540Z"
   },
   {
    "duration": 6,
    "start_time": "2021-07-08T09:06:29.570Z"
   },
   {
    "duration": 18,
    "start_time": "2021-07-08T09:06:29.578Z"
   },
   {
    "duration": 5,
    "start_time": "2021-07-08T09:06:29.597Z"
   },
   {
    "duration": 13,
    "start_time": "2021-07-08T09:06:29.605Z"
   },
   {
    "duration": 8,
    "start_time": "2021-07-08T09:06:29.620Z"
   },
   {
    "duration": 7,
    "start_time": "2021-07-08T09:06:29.630Z"
   },
   {
    "duration": 63,
    "start_time": "2021-07-08T09:06:29.639Z"
   },
   {
    "duration": 17,
    "start_time": "2021-07-08T09:06:29.704Z"
   },
   {
    "duration": 20,
    "start_time": "2021-07-08T09:06:29.723Z"
   },
   {
    "duration": 6,
    "start_time": "2021-07-08T09:06:29.745Z"
   },
   {
    "duration": 3,
    "start_time": "2021-07-08T09:06:29.752Z"
   },
   {
    "duration": 7,
    "start_time": "2021-07-08T09:06:29.785Z"
   },
   {
    "duration": 11,
    "start_time": "2021-07-08T09:06:29.794Z"
   },
   {
    "duration": 15,
    "start_time": "2021-07-08T09:06:29.807Z"
   },
   {
    "duration": 8,
    "start_time": "2021-07-08T09:06:29.823Z"
   },
   {
    "duration": 70,
    "start_time": "2021-07-08T09:06:29.832Z"
   },
   {
    "duration": 17,
    "start_time": "2021-07-08T09:06:29.903Z"
   },
   {
    "duration": 9,
    "start_time": "2021-07-08T09:06:29.921Z"
   },
   {
    "duration": 9,
    "start_time": "2021-07-08T09:06:29.932Z"
   },
   {
    "duration": 57,
    "start_time": "2021-07-08T09:06:29.942Z"
   },
   {
    "duration": 11,
    "start_time": "2021-07-08T09:06:30.001Z"
   },
   {
    "duration": 19,
    "start_time": "2021-07-08T09:06:30.016Z"
   },
   {
    "duration": 217,
    "start_time": "2021-07-08T09:06:30.037Z"
   },
   {
    "duration": 6,
    "start_time": "2021-07-08T09:06:30.255Z"
   },
   {
    "duration": 205,
    "start_time": "2021-07-08T09:06:30.263Z"
   },
   {
    "duration": 27,
    "start_time": "2021-07-08T09:06:30.470Z"
   },
   {
    "duration": 11,
    "start_time": "2021-07-08T09:06:30.500Z"
   },
   {
    "duration": 31,
    "start_time": "2021-07-08T09:06:30.513Z"
   },
   {
    "duration": 18,
    "start_time": "2021-07-08T09:06:30.546Z"
   },
   {
    "duration": 11,
    "start_time": "2021-07-08T09:06:30.566Z"
   },
   {
    "duration": 19,
    "start_time": "2021-07-08T09:06:30.579Z"
   },
   {
    "duration": 20,
    "start_time": "2021-07-08T09:06:49.466Z"
   },
   {
    "duration": 9,
    "start_time": "2021-07-08T09:06:51.994Z"
   },
   {
    "duration": 20,
    "start_time": "2021-07-08T09:06:52.273Z"
   },
   {
    "duration": 246,
    "start_time": "2021-07-08T09:10:21.272Z"
   },
   {
    "duration": 84,
    "start_time": "2021-07-08T09:10:21.436Z"
   },
   {
    "duration": 7,
    "start_time": "2021-07-08T09:10:37.608Z"
   },
   {
    "duration": 189,
    "start_time": "2021-07-08T09:10:38.573Z"
   },
   {
    "duration": 185,
    "start_time": "2021-07-08T09:10:53.181Z"
   },
   {
    "duration": 11,
    "start_time": "2021-07-08T09:10:59.549Z"
   },
   {
    "duration": 42,
    "start_time": "2021-07-08T09:10:59.709Z"
   },
   {
    "duration": 12,
    "start_time": "2021-07-08T09:11:02.857Z"
   },
   {
    "duration": 28,
    "start_time": "2021-07-08T09:11:10.062Z"
   },
   {
    "duration": 249,
    "start_time": "2021-07-08T09:11:37.388Z"
   },
   {
    "duration": 232,
    "start_time": "2021-07-08T09:11:49.485Z"
   },
   {
    "duration": 453,
    "start_time": "2021-07-08T09:12:01.546Z"
   },
   {
    "duration": 440,
    "start_time": "2021-07-08T09:12:12.347Z"
   },
   {
    "duration": 213,
    "start_time": "2021-07-08T09:13:32.196Z"
   },
   {
    "duration": 172,
    "start_time": "2021-07-08T09:14:07.400Z"
   },
   {
    "duration": 185,
    "start_time": "2021-07-08T09:14:14.905Z"
   },
   {
    "duration": 209,
    "start_time": "2021-07-08T09:14:40.109Z"
   },
   {
    "duration": 201,
    "start_time": "2021-07-08T09:14:54.506Z"
   },
   {
    "duration": 622,
    "start_time": "2021-07-08T09:18:14.497Z"
   },
   {
    "duration": 220,
    "start_time": "2021-07-08T09:18:15.121Z"
   },
   {
    "duration": 79,
    "start_time": "2021-07-08T09:18:15.343Z"
   },
   {
    "duration": 4,
    "start_time": "2021-07-08T09:18:15.425Z"
   },
   {
    "duration": 24,
    "start_time": "2021-07-08T09:18:15.431Z"
   },
   {
    "duration": 8,
    "start_time": "2021-07-08T09:18:15.457Z"
   },
   {
    "duration": 16,
    "start_time": "2021-07-08T09:18:15.466Z"
   },
   {
    "duration": 5,
    "start_time": "2021-07-08T09:18:15.484Z"
   },
   {
    "duration": 10,
    "start_time": "2021-07-08T09:18:15.493Z"
   },
   {
    "duration": 8,
    "start_time": "2021-07-08T09:18:15.504Z"
   },
   {
    "duration": 7,
    "start_time": "2021-07-08T09:18:15.513Z"
   },
   {
    "duration": 26,
    "start_time": "2021-07-08T09:18:15.522Z"
   },
   {
    "duration": 49,
    "start_time": "2021-07-08T09:18:15.550Z"
   },
   {
    "duration": 21,
    "start_time": "2021-07-08T09:18:15.601Z"
   },
   {
    "duration": 8,
    "start_time": "2021-07-08T09:18:15.624Z"
   },
   {
    "duration": 3,
    "start_time": "2021-07-08T09:18:15.634Z"
   },
   {
    "duration": 8,
    "start_time": "2021-07-08T09:18:15.639Z"
   },
   {
    "duration": 45,
    "start_time": "2021-07-08T09:18:15.649Z"
   },
   {
    "duration": 13,
    "start_time": "2021-07-08T09:18:15.696Z"
   },
   {
    "duration": 10,
    "start_time": "2021-07-08T09:18:15.711Z"
   },
   {
    "duration": 64,
    "start_time": "2021-07-08T09:18:15.722Z"
   },
   {
    "duration": 19,
    "start_time": "2021-07-08T09:18:15.788Z"
   },
   {
    "duration": 9,
    "start_time": "2021-07-08T09:18:15.809Z"
   },
   {
    "duration": 9,
    "start_time": "2021-07-08T09:18:15.820Z"
   },
   {
    "duration": 18,
    "start_time": "2021-07-08T09:18:15.831Z"
   },
   {
    "duration": 43,
    "start_time": "2021-07-08T09:18:15.851Z"
   },
   {
    "duration": 12,
    "start_time": "2021-07-08T09:18:15.897Z"
   },
   {
    "duration": 219,
    "start_time": "2021-07-08T09:18:15.911Z"
   },
   {
    "duration": 8,
    "start_time": "2021-07-08T09:18:16.132Z"
   },
   {
    "duration": 199,
    "start_time": "2021-07-08T09:18:16.141Z"
   },
   {
    "duration": 18,
    "start_time": "2021-07-08T09:18:16.341Z"
   },
   {
    "duration": 24,
    "start_time": "2021-07-08T09:18:16.361Z"
   },
   {
    "duration": 24,
    "start_time": "2021-07-08T09:18:16.387Z"
   },
   {
    "duration": 211,
    "start_time": "2021-07-08T09:18:16.413Z"
   },
   {
    "duration": 18,
    "start_time": "2021-07-08T09:18:16.626Z"
   },
   {
    "duration": 596,
    "start_time": "2021-07-08T10:06:33.623Z"
   },
   {
    "duration": 181,
    "start_time": "2021-07-08T10:06:34.221Z"
   },
   {
    "duration": 176,
    "start_time": "2021-07-08T10:06:34.635Z"
   },
   {
    "duration": 239,
    "start_time": "2021-07-08T10:06:55.572Z"
   },
   {
    "duration": 6,
    "start_time": "2021-07-08T10:06:57.687Z"
   },
   {
    "duration": 4,
    "start_time": "2021-07-08T10:07:03.956Z"
   },
   {
    "duration": 4,
    "start_time": "2021-07-08T10:07:10.376Z"
   },
   {
    "duration": 4,
    "start_time": "2021-07-08T10:17:19.889Z"
   },
   {
    "duration": 3,
    "start_time": "2021-07-08T10:19:19.407Z"
   },
   {
    "duration": 197,
    "start_time": "2021-07-08T10:19:19.412Z"
   },
   {
    "duration": 127,
    "start_time": "2021-07-08T10:19:19.611Z"
   },
   {
    "duration": 4,
    "start_time": "2021-07-08T10:19:19.740Z"
   },
   {
    "duration": 27,
    "start_time": "2021-07-08T10:19:19.746Z"
   },
   {
    "duration": 7,
    "start_time": "2021-07-08T10:19:19.775Z"
   },
   {
    "duration": 30,
    "start_time": "2021-07-08T10:19:19.784Z"
   },
   {
    "duration": 7,
    "start_time": "2021-07-08T10:19:19.817Z"
   },
   {
    "duration": 26,
    "start_time": "2021-07-08T10:19:19.826Z"
   },
   {
    "duration": 18,
    "start_time": "2021-07-08T10:19:19.854Z"
   },
   {
    "duration": 14,
    "start_time": "2021-07-08T10:19:19.874Z"
   },
   {
    "duration": 48,
    "start_time": "2021-07-08T10:19:19.890Z"
   },
   {
    "duration": 17,
    "start_time": "2021-07-08T10:19:19.940Z"
   },
   {
    "duration": 38,
    "start_time": "2021-07-08T10:19:19.959Z"
   },
   {
    "duration": 8,
    "start_time": "2021-07-08T10:19:19.999Z"
   },
   {
    "duration": 15,
    "start_time": "2021-07-08T10:19:20.009Z"
   },
   {
    "duration": 22,
    "start_time": "2021-07-08T10:19:20.026Z"
   },
   {
    "duration": 10,
    "start_time": "2021-07-08T10:19:20.050Z"
   },
   {
    "duration": 10,
    "start_time": "2021-07-08T10:19:20.062Z"
   },
   {
    "duration": 20,
    "start_time": "2021-07-08T10:19:20.073Z"
   },
   {
    "duration": 29,
    "start_time": "2021-07-08T10:19:20.095Z"
   },
   {
    "duration": 17,
    "start_time": "2021-07-08T10:19:20.126Z"
   },
   {
    "duration": 40,
    "start_time": "2021-07-08T10:19:20.146Z"
   },
   {
    "duration": 15,
    "start_time": "2021-07-08T10:19:20.189Z"
   },
   {
    "duration": 19,
    "start_time": "2021-07-08T10:19:20.206Z"
   },
   {
    "duration": 10,
    "start_time": "2021-07-08T10:19:20.226Z"
   },
   {
    "duration": 11,
    "start_time": "2021-07-08T10:19:20.238Z"
   },
   {
    "duration": 297,
    "start_time": "2021-07-08T10:19:20.250Z"
   },
   {
    "duration": 6,
    "start_time": "2021-07-08T10:19:20.549Z"
   },
   {
    "duration": 191,
    "start_time": "2021-07-08T10:19:20.557Z"
   },
   {
    "duration": 19,
    "start_time": "2021-07-08T10:19:20.750Z"
   },
   {
    "duration": 20,
    "start_time": "2021-07-08T10:19:20.771Z"
   },
   {
    "duration": 15,
    "start_time": "2021-07-08T10:19:20.793Z"
   },
   {
    "duration": 222,
    "start_time": "2021-07-08T10:19:20.809Z"
   },
   {
    "duration": 20,
    "start_time": "2021-07-08T10:19:21.033Z"
   },
   {
    "duration": 27,
    "start_time": "2021-07-08T10:45:04.055Z"
   },
   {
    "duration": 8,
    "start_time": "2021-07-08T10:45:08.478Z"
   },
   {
    "duration": 8,
    "start_time": "2021-07-08T10:45:31.982Z"
   },
   {
    "duration": 10,
    "start_time": "2021-07-08T10:46:01.221Z"
   },
   {
    "duration": 17,
    "start_time": "2021-07-08T10:46:40.011Z"
   },
   {
    "duration": 193,
    "start_time": "2021-07-08T10:48:19.471Z"
   },
   {
    "duration": 225,
    "start_time": "2021-07-08T10:49:26.480Z"
   },
   {
    "duration": 204,
    "start_time": "2021-07-08T10:49:59.992Z"
   },
   {
    "duration": 435,
    "start_time": "2021-07-08T10:50:06.779Z"
   },
   {
    "duration": 199,
    "start_time": "2021-07-08T10:50:14.891Z"
   },
   {
    "duration": 204,
    "start_time": "2021-07-08T10:50:18.501Z"
   },
   {
    "duration": 244,
    "start_time": "2021-07-08T10:50:23.359Z"
   },
   {
    "duration": 192,
    "start_time": "2021-07-08T10:50:29.135Z"
   },
   {
    "duration": 218,
    "start_time": "2021-07-08T10:50:33.092Z"
   },
   {
    "duration": 207,
    "start_time": "2021-07-08T10:52:45.381Z"
   },
   {
    "duration": 5,
    "start_time": "2021-07-08T10:53:34.641Z"
   },
   {
    "duration": 196,
    "start_time": "2021-07-08T10:53:41.478Z"
   },
   {
    "duration": 43,
    "start_time": "2021-07-08T10:53:50.335Z"
   },
   {
    "duration": 32,
    "start_time": "2021-07-08T10:53:55.294Z"
   },
   {
    "duration": 55,
    "start_time": "2021-07-08T10:54:09.675Z"
   },
   {
    "duration": 16,
    "start_time": "2021-07-08T10:54:12.260Z"
   },
   {
    "duration": 15,
    "start_time": "2021-07-08T10:54:49.150Z"
   },
   {
    "duration": 20,
    "start_time": "2021-07-08T10:56:07.596Z"
   },
   {
    "duration": 16,
    "start_time": "2021-07-08T10:58:26.276Z"
   },
   {
    "duration": 22,
    "start_time": "2021-07-08T10:59:00.486Z"
   },
   {
    "duration": 18,
    "start_time": "2021-07-08T11:02:09.653Z"
   },
   {
    "duration": 10,
    "start_time": "2021-07-08T11:03:44.331Z"
   },
   {
    "duration": 10,
    "start_time": "2021-07-08T11:03:54.055Z"
   },
   {
    "duration": 12,
    "start_time": "2021-07-08T11:04:41.967Z"
   },
   {
    "duration": 24,
    "start_time": "2021-07-08T11:07:30.732Z"
   },
   {
    "duration": 6,
    "start_time": "2021-07-08T11:07:37.364Z"
   },
   {
    "duration": 16,
    "start_time": "2021-07-08T11:08:01.819Z"
   },
   {
    "duration": 17,
    "start_time": "2021-07-08T11:09:47.488Z"
   },
   {
    "duration": 246,
    "start_time": "2021-07-08T11:10:00.830Z"
   },
   {
    "duration": 18,
    "start_time": "2021-07-08T11:13:55.195Z"
   },
   {
    "duration": 204,
    "start_time": "2021-07-08T11:14:04.951Z"
   },
   {
    "duration": 19,
    "start_time": "2021-07-08T11:15:10.613Z"
   },
   {
    "duration": 680,
    "start_time": "2021-07-08T11:16:25.793Z"
   },
   {
    "duration": 451,
    "start_time": "2021-07-08T11:16:40.313Z"
   },
   {
    "duration": 469,
    "start_time": "2021-07-08T11:17:21.286Z"
   },
   {
    "duration": 20,
    "start_time": "2021-07-08T11:19:12.554Z"
   },
   {
    "duration": 35,
    "start_time": "2021-07-08T11:20:05.484Z"
   },
   {
    "duration": 53,
    "start_time": "2021-07-08T11:21:40.050Z"
   },
   {
    "duration": 13,
    "start_time": "2021-07-08T11:22:26.059Z"
   },
   {
    "duration": 19,
    "start_time": "2021-07-08T11:22:47.419Z"
   },
   {
    "duration": 25,
    "start_time": "2021-07-08T11:23:19.958Z"
   },
   {
    "duration": 29,
    "start_time": "2021-07-08T11:23:25.415Z"
   },
   {
    "duration": 10,
    "start_time": "2021-07-08T11:24:45.138Z"
   },
   {
    "duration": 19,
    "start_time": "2021-07-08T11:24:54.498Z"
   },
   {
    "duration": 12,
    "start_time": "2021-07-08T11:25:32.225Z"
   },
   {
    "duration": 19,
    "start_time": "2021-07-08T11:25:37.092Z"
   },
   {
    "duration": 17,
    "start_time": "2021-07-08T11:25:58.116Z"
   },
   {
    "duration": 15,
    "start_time": "2021-07-08T11:26:02.258Z"
   },
   {
    "duration": 8,
    "start_time": "2021-07-08T11:26:59.682Z"
   },
   {
    "duration": 184,
    "start_time": "2021-07-08T11:27:21.894Z"
   },
   {
    "duration": 8,
    "start_time": "2021-07-08T11:27:23.824Z"
   },
   {
    "duration": 202,
    "start_time": "2021-07-08T11:27:23.962Z"
   },
   {
    "duration": 360,
    "start_time": "2021-07-08T11:28:33.215Z"
   },
   {
    "duration": 231,
    "start_time": "2021-07-08T11:32:05.542Z"
   },
   {
    "duration": 607,
    "start_time": "2021-07-08T11:36:27.854Z"
   },
   {
    "duration": 241,
    "start_time": "2021-07-08T11:36:28.463Z"
   },
   {
    "duration": 67,
    "start_time": "2021-07-08T11:36:28.709Z"
   },
   {
    "duration": 5,
    "start_time": "2021-07-08T11:36:28.778Z"
   },
   {
    "duration": 32,
    "start_time": "2021-07-08T11:36:28.784Z"
   },
   {
    "duration": 11,
    "start_time": "2021-07-08T11:36:28.819Z"
   },
   {
    "duration": 20,
    "start_time": "2021-07-08T11:36:28.834Z"
   },
   {
    "duration": 36,
    "start_time": "2021-07-08T11:36:28.857Z"
   },
   {
    "duration": 16,
    "start_time": "2021-07-08T11:36:28.895Z"
   },
   {
    "duration": 14,
    "start_time": "2021-07-08T11:36:28.913Z"
   },
   {
    "duration": 9,
    "start_time": "2021-07-08T11:36:28.930Z"
   },
   {
    "duration": 55,
    "start_time": "2021-07-08T11:36:28.941Z"
   },
   {
    "duration": 27,
    "start_time": "2021-07-08T11:36:28.999Z"
   },
   {
    "duration": 30,
    "start_time": "2021-07-08T11:36:29.028Z"
   },
   {
    "duration": 31,
    "start_time": "2021-07-08T11:36:29.060Z"
   },
   {
    "duration": 3,
    "start_time": "2021-07-08T11:36:29.093Z"
   },
   {
    "duration": 12,
    "start_time": "2021-07-08T11:36:29.099Z"
   },
   {
    "duration": 11,
    "start_time": "2021-07-08T11:36:29.112Z"
   },
   {
    "duration": 12,
    "start_time": "2021-07-08T11:36:29.125Z"
   },
   {
    "duration": 9,
    "start_time": "2021-07-08T11:36:29.139Z"
   },
   {
    "duration": 31,
    "start_time": "2021-07-08T11:36:29.191Z"
   },
   {
    "duration": 17,
    "start_time": "2021-07-08T11:36:29.226Z"
   },
   {
    "duration": 7,
    "start_time": "2021-07-08T11:36:29.245Z"
   },
   {
    "duration": 10,
    "start_time": "2021-07-08T11:36:29.254Z"
   },
   {
    "duration": 30,
    "start_time": "2021-07-08T11:36:29.292Z"
   },
   {
    "duration": 11,
    "start_time": "2021-07-08T11:36:29.324Z"
   },
   {
    "duration": 11,
    "start_time": "2021-07-08T11:36:29.337Z"
   },
   {
    "duration": 230,
    "start_time": "2021-07-08T11:36:29.349Z"
   },
   {
    "duration": 13,
    "start_time": "2021-07-08T11:36:29.588Z"
   },
   {
    "duration": 205,
    "start_time": "2021-07-08T11:36:29.603Z"
   },
   {
    "duration": 20,
    "start_time": "2021-07-08T11:36:29.810Z"
   },
   {
    "duration": 9,
    "start_time": "2021-07-08T11:36:29.832Z"
   },
   {
    "duration": 16,
    "start_time": "2021-07-08T11:36:29.843Z"
   },
   {
    "duration": 283,
    "start_time": "2021-07-08T11:36:29.861Z"
   },
   {
    "duration": 50,
    "start_time": "2021-07-08T11:36:30.146Z"
   },
   {
    "duration": 14,
    "start_time": "2021-07-08T11:36:30.198Z"
   },
   {
    "duration": 11,
    "start_time": "2021-07-08T11:36:30.214Z"
   },
   {
    "duration": 245,
    "start_time": "2021-07-08T11:36:30.227Z"
   },
   {
    "duration": 439,
    "start_time": "2021-07-08T11:36:30.474Z"
   },
   {
    "duration": 210,
    "start_time": "2021-07-08T11:36:30.915Z"
   },
   {
    "duration": 15,
    "start_time": "2021-07-08T11:36:31.127Z"
   },
   {
    "duration": 17,
    "start_time": "2021-07-08T11:38:20.451Z"
   },
   {
    "duration": 642,
    "start_time": "2021-07-08T11:46:17.881Z"
   },
   {
    "duration": 210,
    "start_time": "2021-07-08T11:46:18.525Z"
   },
   {
    "duration": 104,
    "start_time": "2021-07-08T11:46:18.741Z"
   },
   {
    "duration": 8,
    "start_time": "2021-07-08T11:46:18.847Z"
   },
   {
    "duration": 25,
    "start_time": "2021-07-08T11:46:18.857Z"
   },
   {
    "duration": 14,
    "start_time": "2021-07-08T11:46:18.884Z"
   },
   {
    "duration": 22,
    "start_time": "2021-07-08T11:46:18.900Z"
   },
   {
    "duration": 5,
    "start_time": "2021-07-08T11:46:18.924Z"
   },
   {
    "duration": 13,
    "start_time": "2021-07-08T11:46:18.931Z"
   },
   {
    "duration": 45,
    "start_time": "2021-07-08T11:46:18.946Z"
   },
   {
    "duration": 12,
    "start_time": "2021-07-08T11:46:18.993Z"
   },
   {
    "duration": 38,
    "start_time": "2021-07-08T11:46:19.006Z"
   },
   {
    "duration": 50,
    "start_time": "2021-07-08T11:46:19.046Z"
   },
   {
    "duration": 29,
    "start_time": "2021-07-08T11:46:19.099Z"
   },
   {
    "duration": 7,
    "start_time": "2021-07-08T11:46:19.130Z"
   },
   {
    "duration": 3,
    "start_time": "2021-07-08T11:46:19.139Z"
   },
   {
    "duration": 11,
    "start_time": "2021-07-08T11:46:19.144Z"
   },
   {
    "duration": 40,
    "start_time": "2021-07-08T11:46:19.157Z"
   },
   {
    "duration": 15,
    "start_time": "2021-07-08T11:46:19.199Z"
   },
   {
    "duration": 10,
    "start_time": "2021-07-08T11:46:19.217Z"
   },
   {
    "duration": 68,
    "start_time": "2021-07-08T11:46:19.230Z"
   },
   {
    "duration": 17,
    "start_time": "2021-07-08T11:46:19.301Z"
   },
   {
    "duration": 7,
    "start_time": "2021-07-08T11:46:19.321Z"
   },
   {
    "duration": 11,
    "start_time": "2021-07-08T11:46:19.330Z"
   },
   {
    "duration": 59,
    "start_time": "2021-07-08T11:46:19.343Z"
   },
   {
    "duration": 17,
    "start_time": "2021-07-08T11:46:19.405Z"
   },
   {
    "duration": 16,
    "start_time": "2021-07-08T11:46:19.424Z"
   },
   {
    "duration": 252,
    "start_time": "2021-07-08T11:46:19.443Z"
   },
   {
    "duration": 9,
    "start_time": "2021-07-08T11:46:19.697Z"
   },
   {
    "duration": 224,
    "start_time": "2021-07-08T11:46:19.708Z"
   },
   {
    "duration": 21,
    "start_time": "2021-07-08T11:46:19.934Z"
   },
   {
    "duration": 9,
    "start_time": "2021-07-08T11:46:19.956Z"
   },
   {
    "duration": 32,
    "start_time": "2021-07-08T11:46:19.967Z"
   },
   {
    "duration": 288,
    "start_time": "2021-07-08T11:46:20.004Z"
   },
   {
    "duration": 23,
    "start_time": "2021-07-08T11:46:20.300Z"
   },
   {
    "duration": 11,
    "start_time": "2021-07-08T11:46:20.325Z"
   },
   {
    "duration": 11,
    "start_time": "2021-07-08T11:46:20.339Z"
   },
   {
    "duration": 259,
    "start_time": "2021-07-08T11:46:20.352Z"
   },
   {
    "duration": 438,
    "start_time": "2021-07-08T11:46:20.613Z"
   },
   {
    "duration": 207,
    "start_time": "2021-07-08T11:46:21.054Z"
   },
   {
    "duration": 27,
    "start_time": "2021-07-08T11:46:21.262Z"
   },
   {
    "duration": 19,
    "start_time": "2021-07-08T11:46:21.291Z"
   },
   {
    "duration": 820,
    "start_time": "2021-07-08T11:49:01.655Z"
   },
   {
    "duration": 372,
    "start_time": "2021-07-08T11:49:02.478Z"
   },
   {
    "duration": 98,
    "start_time": "2021-07-08T11:49:02.853Z"
   },
   {
    "duration": 6,
    "start_time": "2021-07-08T11:49:02.953Z"
   },
   {
    "duration": 39,
    "start_time": "2021-07-08T11:49:02.960Z"
   },
   {
    "duration": 9,
    "start_time": "2021-07-08T11:49:03.003Z"
   },
   {
    "duration": 23,
    "start_time": "2021-07-08T11:49:03.014Z"
   },
   {
    "duration": 6,
    "start_time": "2021-07-08T11:49:03.041Z"
   },
   {
    "duration": 20,
    "start_time": "2021-07-08T11:49:03.049Z"
   },
   {
    "duration": 18,
    "start_time": "2021-07-08T11:49:03.084Z"
   },
   {
    "duration": 14,
    "start_time": "2021-07-08T11:49:03.104Z"
   },
   {
    "duration": 39,
    "start_time": "2021-07-08T11:49:03.119Z"
   },
   {
    "duration": 38,
    "start_time": "2021-07-08T11:49:03.160Z"
   },
   {
    "duration": 26,
    "start_time": "2021-07-08T11:49:03.200Z"
   },
   {
    "duration": 7,
    "start_time": "2021-07-08T11:49:03.227Z"
   },
   {
    "duration": 4,
    "start_time": "2021-07-08T11:49:03.236Z"
   },
   {
    "duration": 15,
    "start_time": "2021-07-08T11:49:03.243Z"
   },
   {
    "duration": 21,
    "start_time": "2021-07-08T11:49:03.285Z"
   },
   {
    "duration": 17,
    "start_time": "2021-07-08T11:49:03.309Z"
   },
   {
    "duration": 10,
    "start_time": "2021-07-08T11:49:03.328Z"
   },
   {
    "duration": 65,
    "start_time": "2021-07-08T11:49:03.340Z"
   },
   {
    "duration": 18,
    "start_time": "2021-07-08T11:49:03.407Z"
   },
   {
    "duration": 8,
    "start_time": "2021-07-08T11:49:03.428Z"
   },
   {
    "duration": 15,
    "start_time": "2021-07-08T11:49:03.438Z"
   },
   {
    "duration": 40,
    "start_time": "2021-07-08T11:49:03.455Z"
   },
   {
    "duration": 12,
    "start_time": "2021-07-08T11:49:03.497Z"
   },
   {
    "duration": 29,
    "start_time": "2021-07-08T11:49:03.511Z"
   },
   {
    "duration": 285,
    "start_time": "2021-07-08T11:49:03.542Z"
   },
   {
    "duration": 8,
    "start_time": "2021-07-08T11:49:03.829Z"
   },
   {
    "duration": 227,
    "start_time": "2021-07-08T11:49:03.838Z"
   },
   {
    "duration": 40,
    "start_time": "2021-07-08T11:49:04.066Z"
   },
   {
    "duration": 10,
    "start_time": "2021-07-08T11:49:04.108Z"
   },
   {
    "duration": 26,
    "start_time": "2021-07-08T11:49:04.121Z"
   },
   {
    "duration": 290,
    "start_time": "2021-07-08T11:49:04.149Z"
   },
   {
    "duration": 26,
    "start_time": "2021-07-08T11:49:04.441Z"
   },
   {
    "duration": 31,
    "start_time": "2021-07-08T11:49:04.470Z"
   },
   {
    "duration": 14,
    "start_time": "2021-07-08T11:49:04.503Z"
   },
   {
    "duration": 259,
    "start_time": "2021-07-08T11:49:04.521Z"
   },
   {
    "duration": 480,
    "start_time": "2021-07-08T11:49:04.782Z"
   },
   {
    "duration": 225,
    "start_time": "2021-07-08T11:49:05.264Z"
   },
   {
    "duration": 22,
    "start_time": "2021-07-08T11:49:05.491Z"
   },
   {
    "duration": 24,
    "start_time": "2021-07-08T11:49:05.515Z"
   },
   {
    "duration": 634,
    "start_time": "2021-07-08T11:52:24.960Z"
   },
   {
    "duration": 199,
    "start_time": "2021-07-08T11:52:25.599Z"
   },
   {
    "duration": 106,
    "start_time": "2021-07-08T11:52:25.803Z"
   },
   {
    "duration": 7,
    "start_time": "2021-07-08T11:52:25.911Z"
   },
   {
    "duration": 29,
    "start_time": "2021-07-08T11:52:25.920Z"
   },
   {
    "duration": 7,
    "start_time": "2021-07-08T11:52:25.951Z"
   },
   {
    "duration": 26,
    "start_time": "2021-07-08T11:52:25.961Z"
   },
   {
    "duration": 11,
    "start_time": "2021-07-08T11:52:25.990Z"
   },
   {
    "duration": 29,
    "start_time": "2021-07-08T11:52:26.005Z"
   },
   {
    "duration": 9,
    "start_time": "2021-07-08T11:52:26.036Z"
   },
   {
    "duration": 8,
    "start_time": "2021-07-08T11:52:26.047Z"
   },
   {
    "duration": 63,
    "start_time": "2021-07-08T11:52:26.057Z"
   },
   {
    "duration": 17,
    "start_time": "2021-07-08T11:52:26.122Z"
   },
   {
    "duration": 43,
    "start_time": "2021-07-08T11:52:26.142Z"
   },
   {
    "duration": 17,
    "start_time": "2021-07-08T11:52:26.187Z"
   },
   {
    "duration": 5,
    "start_time": "2021-07-08T11:52:26.206Z"
   },
   {
    "duration": 12,
    "start_time": "2021-07-08T11:52:26.212Z"
   },
   {
    "duration": 11,
    "start_time": "2021-07-08T11:52:26.226Z"
   },
   {
    "duration": 12,
    "start_time": "2021-07-08T11:52:26.238Z"
   },
   {
    "duration": 38,
    "start_time": "2021-07-08T11:52:26.252Z"
   },
   {
    "duration": 40,
    "start_time": "2021-07-08T11:52:26.292Z"
   },
   {
    "duration": 17,
    "start_time": "2021-07-08T11:52:26.336Z"
   },
   {
    "duration": 39,
    "start_time": "2021-07-08T11:52:26.355Z"
   },
   {
    "duration": 11,
    "start_time": "2021-07-08T11:52:26.395Z"
   },
   {
    "duration": 23,
    "start_time": "2021-07-08T11:52:26.408Z"
   },
   {
    "duration": 12,
    "start_time": "2021-07-08T11:52:26.432Z"
   },
   {
    "duration": 41,
    "start_time": "2021-07-08T11:52:26.446Z"
   },
   {
    "duration": 215,
    "start_time": "2021-07-08T11:52:26.493Z"
   },
   {
    "duration": 8,
    "start_time": "2021-07-08T11:52:26.710Z"
   },
   {
    "duration": 228,
    "start_time": "2021-07-08T11:52:26.720Z"
   },
   {
    "duration": 18,
    "start_time": "2021-07-08T11:52:26.950Z"
   },
   {
    "duration": 35,
    "start_time": "2021-07-08T11:52:26.969Z"
   },
   {
    "duration": 23,
    "start_time": "2021-07-08T11:52:27.006Z"
   },
   {
    "duration": 258,
    "start_time": "2021-07-08T11:52:27.030Z"
   },
   {
    "duration": 24,
    "start_time": "2021-07-08T11:52:27.290Z"
   },
   {
    "duration": 12,
    "start_time": "2021-07-08T11:52:27.316Z"
   },
   {
    "duration": 10,
    "start_time": "2021-07-08T11:52:27.329Z"
   },
   {
    "duration": 298,
    "start_time": "2021-07-08T11:52:27.341Z"
   },
   {
    "duration": 436,
    "start_time": "2021-07-08T11:52:27.641Z"
   },
   {
    "duration": 216,
    "start_time": "2021-07-08T11:52:28.079Z"
   },
   {
    "duration": 20,
    "start_time": "2021-07-08T11:52:28.297Z"
   },
   {
    "duration": 17,
    "start_time": "2021-07-08T11:52:28.319Z"
   },
   {
    "duration": 47,
    "start_time": "2022-11-10T10:53:37.944Z"
   },
   {
    "duration": 399,
    "start_time": "2022-11-10T10:53:46.221Z"
   },
   {
    "duration": 258,
    "start_time": "2022-11-10T10:53:46.623Z"
   },
   {
    "duration": 160,
    "start_time": "2022-11-10T10:54:42.658Z"
   },
   {
    "duration": 16,
    "start_time": "2022-11-10T10:58:29.297Z"
   },
   {
    "duration": 21,
    "start_time": "2022-11-10T10:58:46.085Z"
   },
   {
    "duration": 437,
    "start_time": "2022-11-10T11:12:59.327Z"
   },
   {
    "duration": 25,
    "start_time": "2022-11-10T11:13:49.574Z"
   },
   {
    "duration": 116,
    "start_time": "2022-11-10T11:14:37.044Z"
   },
   {
    "duration": 93,
    "start_time": "2022-11-10T11:15:16.086Z"
   },
   {
    "duration": 13,
    "start_time": "2022-11-10T11:15:24.772Z"
   },
   {
    "duration": 21,
    "start_time": "2022-11-10T11:21:07.868Z"
   },
   {
    "duration": 290,
    "start_time": "2022-11-10T11:21:40.613Z"
   },
   {
    "duration": 437,
    "start_time": "2022-11-10T11:22:31.102Z"
   },
   {
    "duration": 109,
    "start_time": "2022-11-10T11:22:31.542Z"
   },
   {
    "duration": 2,
    "start_time": "2022-11-10T11:22:31.653Z"
   },
   {
    "duration": 69,
    "start_time": "2022-11-10T11:22:31.657Z"
   },
   {
    "duration": 365,
    "start_time": "2022-11-10T11:22:31.729Z"
   },
   {
    "duration": 18,
    "start_time": "2022-11-10T11:23:01.274Z"
   },
   {
    "duration": 293,
    "start_time": "2022-11-10T11:26:50.265Z"
   },
   {
    "duration": 26,
    "start_time": "2022-11-10T11:28:34.090Z"
   },
   {
    "duration": 17,
    "start_time": "2022-11-10T11:32:23.140Z"
   },
   {
    "duration": 457,
    "start_time": "2022-11-10T11:32:54.656Z"
   },
   {
    "duration": 143,
    "start_time": "2022-11-10T11:32:55.116Z"
   },
   {
    "duration": 34,
    "start_time": "2022-11-10T11:32:55.261Z"
   },
   {
    "duration": 3,
    "start_time": "2022-11-10T11:32:55.299Z"
   },
   {
    "duration": 71,
    "start_time": "2022-11-10T11:32:55.304Z"
   },
   {
    "duration": 356,
    "start_time": "2022-11-10T11:32:55.377Z"
   },
   {
    "duration": 17,
    "start_time": "2022-11-10T11:33:46.973Z"
   },
   {
    "duration": 34,
    "start_time": "2022-11-10T11:34:05.782Z"
   },
   {
    "duration": 16,
    "start_time": "2022-11-10T11:34:08.389Z"
   },
   {
    "duration": 16,
    "start_time": "2022-11-10T11:34:13.086Z"
   },
   {
    "duration": 5,
    "start_time": "2022-11-10T11:39:37.191Z"
   },
   {
    "duration": 8,
    "start_time": "2022-11-10T11:39:39.155Z"
   },
   {
    "duration": 11,
    "start_time": "2022-11-10T11:39:43.252Z"
   },
   {
    "duration": 3,
    "start_time": "2022-11-10T11:39:51.780Z"
   },
   {
    "duration": 5,
    "start_time": "2022-11-10T11:40:09.431Z"
   },
   {
    "duration": 2399,
    "start_time": "2022-11-10T11:40:10.988Z"
   },
   {
    "duration": 10,
    "start_time": "2022-11-10T11:40:18.965Z"
   },
   {
    "duration": 1191,
    "start_time": "2022-11-10T11:40:24.396Z"
   },
   {
    "duration": 8,
    "start_time": "2022-11-10T11:40:37.853Z"
   },
   {
    "duration": 927,
    "start_time": "2022-11-10T11:40:47.072Z"
   },
   {
    "duration": 965,
    "start_time": "2022-11-10T11:41:32.094Z"
   },
   {
    "duration": 868,
    "start_time": "2022-11-10T11:41:59.958Z"
   },
   {
    "duration": 453,
    "start_time": "2022-11-10T11:43:29.797Z"
   },
   {
    "duration": 123,
    "start_time": "2022-11-10T11:43:30.252Z"
   },
   {
    "duration": 22,
    "start_time": "2022-11-10T11:43:30.376Z"
   },
   {
    "duration": 14,
    "start_time": "2022-11-10T11:43:30.400Z"
   },
   {
    "duration": 28,
    "start_time": "2022-11-10T11:43:30.416Z"
   },
   {
    "duration": 12,
    "start_time": "2022-11-10T11:43:30.447Z"
   },
   {
    "duration": 22,
    "start_time": "2022-11-10T11:43:30.461Z"
   },
   {
    "duration": 14,
    "start_time": "2022-11-10T11:45:02.681Z"
   },
   {
    "duration": 29,
    "start_time": "2022-11-10T11:48:54.413Z"
   },
   {
    "duration": 4,
    "start_time": "2022-11-10T11:57:47.409Z"
   },
   {
    "duration": 3,
    "start_time": "2022-11-10T11:57:49.484Z"
   },
   {
    "duration": 448,
    "start_time": "2022-11-10T11:57:59.892Z"
   },
   {
    "duration": 120,
    "start_time": "2022-11-10T11:58:00.342Z"
   },
   {
    "duration": 25,
    "start_time": "2022-11-10T11:58:00.464Z"
   },
   {
    "duration": 3,
    "start_time": "2022-11-10T11:58:00.492Z"
   },
   {
    "duration": 29,
    "start_time": "2022-11-10T11:58:00.499Z"
   },
   {
    "duration": 26,
    "start_time": "2022-11-10T11:58:00.532Z"
   },
   {
    "duration": 24,
    "start_time": "2022-11-10T11:58:00.560Z"
   },
   {
    "duration": 49,
    "start_time": "2022-11-10T11:58:00.586Z"
   },
   {
    "duration": 971,
    "start_time": "2022-11-10T11:59:32.390Z"
   },
   {
    "duration": 3,
    "start_time": "2022-11-10T12:01:35.730Z"
   },
   {
    "duration": 51,
    "start_time": "2022-11-10T12:01:37.211Z"
   },
   {
    "duration": 3,
    "start_time": "2022-11-10T12:02:13.241Z"
   },
   {
    "duration": 29,
    "start_time": "2022-11-10T12:02:16.242Z"
   },
   {
    "duration": 86,
    "start_time": "2022-11-10T12:03:53.795Z"
   },
   {
    "duration": 49,
    "start_time": "2022-11-10T12:04:06.315Z"
   },
   {
    "duration": 14,
    "start_time": "2022-11-10T12:05:30.320Z"
   },
   {
    "duration": 390,
    "start_time": "2022-11-10T12:05:41.951Z"
   },
   {
    "duration": 111,
    "start_time": "2022-11-10T12:05:42.343Z"
   },
   {
    "duration": 22,
    "start_time": "2022-11-10T12:05:42.456Z"
   },
   {
    "duration": 14,
    "start_time": "2022-11-10T12:05:42.480Z"
   },
   {
    "duration": 32,
    "start_time": "2022-11-10T12:05:42.496Z"
   },
   {
    "duration": 34,
    "start_time": "2022-11-10T12:05:42.530Z"
   },
   {
    "duration": 42,
    "start_time": "2022-11-10T12:05:42.566Z"
   },
   {
    "duration": 18,
    "start_time": "2022-11-10T12:05:42.610Z"
   },
   {
    "duration": 6,
    "start_time": "2022-11-10T12:05:42.630Z"
   },
   {
    "duration": 11,
    "start_time": "2022-11-10T12:08:55.107Z"
   },
   {
    "duration": 20,
    "start_time": "2022-11-10T12:09:03.109Z"
   },
   {
    "duration": 7,
    "start_time": "2022-11-10T12:09:12.955Z"
   },
   {
    "duration": 16,
    "start_time": "2022-11-10T12:10:46.905Z"
   },
   {
    "duration": 15,
    "start_time": "2022-11-10T12:11:08.642Z"
   },
   {
    "duration": 22,
    "start_time": "2022-11-10T12:14:50.734Z"
   },
   {
    "duration": 40,
    "start_time": "2022-11-10T12:15:12.094Z"
   },
   {
    "duration": 48,
    "start_time": "2022-11-10T19:51:24.483Z"
   },
   {
    "duration": 431,
    "start_time": "2022-11-10T19:51:30.262Z"
   },
   {
    "duration": 297,
    "start_time": "2022-11-10T19:51:30.695Z"
   },
   {
    "duration": 26,
    "start_time": "2022-11-10T19:51:30.994Z"
   },
   {
    "duration": 6,
    "start_time": "2022-11-10T19:51:31.023Z"
   },
   {
    "duration": 8,
    "start_time": "2022-11-10T19:51:31.030Z"
   },
   {
    "duration": 16,
    "start_time": "2022-11-10T19:51:31.039Z"
   },
   {
    "duration": 36,
    "start_time": "2022-11-10T19:51:31.057Z"
   },
   {
    "duration": 21,
    "start_time": "2022-11-10T19:51:31.096Z"
   },
   {
    "duration": 31,
    "start_time": "2022-11-10T19:51:31.119Z"
   },
   {
    "duration": 5,
    "start_time": "2022-11-10T19:51:31.152Z"
   },
   {
    "duration": 17,
    "start_time": "2022-11-10T19:52:01.014Z"
   },
   {
    "duration": 7,
    "start_time": "2022-11-10T19:56:06.311Z"
   },
   {
    "duration": 9,
    "start_time": "2022-11-10T19:56:09.768Z"
   },
   {
    "duration": 620,
    "start_time": "2022-11-10T19:57:46.402Z"
   },
   {
    "duration": 5,
    "start_time": "2022-11-10T19:58:20.402Z"
   },
   {
    "duration": 79,
    "start_time": "2022-11-10T20:09:10.077Z"
   },
   {
    "duration": 3,
    "start_time": "2022-11-10T20:10:24.159Z"
   },
   {
    "duration": 2304,
    "start_time": "2022-11-10T20:12:37.455Z"
   },
   {
    "duration": 5,
    "start_time": "2022-11-10T20:12:57.251Z"
   },
   {
    "duration": 399,
    "start_time": "2022-11-10T20:13:11.174Z"
   },
   {
    "duration": 158,
    "start_time": "2022-11-10T20:13:11.574Z"
   },
   {
    "duration": 22,
    "start_time": "2022-11-10T20:13:11.733Z"
   },
   {
    "duration": 5,
    "start_time": "2022-11-10T20:13:11.757Z"
   },
   {
    "duration": 8,
    "start_time": "2022-11-10T20:13:11.764Z"
   },
   {
    "duration": 26,
    "start_time": "2022-11-10T20:13:11.773Z"
   },
   {
    "duration": 14,
    "start_time": "2022-11-10T20:13:11.801Z"
   },
   {
    "duration": 15,
    "start_time": "2022-11-10T20:13:11.816Z"
   },
   {
    "duration": 17,
    "start_time": "2022-11-10T20:13:11.833Z"
   },
   {
    "duration": 5,
    "start_time": "2022-11-10T20:13:11.851Z"
   },
   {
    "duration": 20,
    "start_time": "2022-11-10T20:13:11.858Z"
   },
   {
    "duration": 14,
    "start_time": "2022-11-10T20:13:11.880Z"
   },
   {
    "duration": 3,
    "start_time": "2022-11-10T20:13:11.896Z"
   },
   {
    "duration": 2449,
    "start_time": "2022-11-10T20:13:11.901Z"
   },
   {
    "duration": 5,
    "start_time": "2022-11-10T20:13:14.352Z"
   },
   {
    "duration": 8,
    "start_time": "2022-11-10T20:13:14.358Z"
   },
   {
    "duration": 73,
    "start_time": "2022-11-10T20:13:51.004Z"
   },
   {
    "duration": 88,
    "start_time": "2022-11-10T20:14:24.716Z"
   },
   {
    "duration": 80,
    "start_time": "2022-11-10T20:15:57.851Z"
   },
   {
    "duration": 11,
    "start_time": "2022-11-10T20:16:08.042Z"
   },
   {
    "duration": 3,
    "start_time": "2022-11-10T20:38:17.940Z"
   },
   {
    "duration": 281,
    "start_time": "2022-11-10T20:38:25.551Z"
   },
   {
    "duration": 4,
    "start_time": "2022-11-10T20:38:31.695Z"
   },
   {
    "duration": 288,
    "start_time": "2022-11-10T20:38:33.495Z"
   },
   {
    "duration": 3,
    "start_time": "2022-11-10T20:38:50.368Z"
   },
   {
    "duration": 285,
    "start_time": "2022-11-10T20:38:52.151Z"
   },
   {
    "duration": 3,
    "start_time": "2022-11-10T20:39:12.008Z"
   },
   {
    "duration": 283,
    "start_time": "2022-11-10T20:39:13.721Z"
   },
   {
    "duration": 3,
    "start_time": "2022-11-10T20:40:06.009Z"
   },
   {
    "duration": 341,
    "start_time": "2022-11-10T20:40:07.817Z"
   },
   {
    "duration": 3,
    "start_time": "2022-11-10T20:41:33.475Z"
   },
   {
    "duration": 297,
    "start_time": "2022-11-10T20:41:35.082Z"
   },
   {
    "duration": 3,
    "start_time": "2022-11-10T20:42:26.228Z"
   },
   {
    "duration": 275,
    "start_time": "2022-11-10T20:42:28.044Z"
   },
   {
    "duration": 443,
    "start_time": "2022-11-10T20:42:51.860Z"
   },
   {
    "duration": 118,
    "start_time": "2022-11-10T20:42:52.305Z"
   },
   {
    "duration": 21,
    "start_time": "2022-11-10T20:42:52.424Z"
   },
   {
    "duration": 22,
    "start_time": "2022-11-10T20:42:52.447Z"
   },
   {
    "duration": 24,
    "start_time": "2022-11-10T20:42:52.470Z"
   },
   {
    "duration": 26,
    "start_time": "2022-11-10T20:42:52.496Z"
   },
   {
    "duration": 37,
    "start_time": "2022-11-10T20:42:52.524Z"
   },
   {
    "duration": 41,
    "start_time": "2022-11-10T20:42:52.563Z"
   },
   {
    "duration": 40,
    "start_time": "2022-11-10T20:42:52.606Z"
   },
   {
    "duration": 18,
    "start_time": "2022-11-10T20:42:52.648Z"
   },
   {
    "duration": 40,
    "start_time": "2022-11-10T20:42:52.667Z"
   },
   {
    "duration": 31,
    "start_time": "2022-11-10T20:42:52.708Z"
   },
   {
    "duration": 30,
    "start_time": "2022-11-10T20:42:52.741Z"
   },
   {
    "duration": 96,
    "start_time": "2022-11-10T20:42:52.773Z"
   },
   {
    "duration": 0,
    "start_time": "2022-11-10T20:42:52.870Z"
   },
   {
    "duration": 0,
    "start_time": "2022-11-10T20:42:52.872Z"
   },
   {
    "duration": 7,
    "start_time": "2022-11-10T20:43:06.148Z"
   },
   {
    "duration": 3,
    "start_time": "2022-11-10T20:44:07.950Z"
   },
   {
    "duration": 8,
    "start_time": "2022-11-10T20:44:09.613Z"
   },
   {
    "duration": 3,
    "start_time": "2022-11-10T20:47:23.440Z"
   },
   {
    "duration": 8,
    "start_time": "2022-11-10T20:47:25.132Z"
   },
   {
    "duration": 6,
    "start_time": "2022-11-10T20:47:37.384Z"
   },
   {
    "duration": 5,
    "start_time": "2022-11-10T20:48:11.712Z"
   },
   {
    "duration": 423,
    "start_time": "2022-11-10T20:49:09.185Z"
   },
   {
    "duration": 110,
    "start_time": "2022-11-10T20:49:09.609Z"
   },
   {
    "duration": 25,
    "start_time": "2022-11-10T20:49:09.721Z"
   },
   {
    "duration": 29,
    "start_time": "2022-11-10T20:49:09.748Z"
   },
   {
    "duration": 17,
    "start_time": "2022-11-10T20:49:09.780Z"
   },
   {
    "duration": 22,
    "start_time": "2022-11-10T20:49:09.799Z"
   },
   {
    "duration": 61,
    "start_time": "2022-11-10T20:49:09.823Z"
   },
   {
    "duration": 26,
    "start_time": "2022-11-10T20:49:09.885Z"
   },
   {
    "duration": 53,
    "start_time": "2022-11-10T20:49:09.913Z"
   },
   {
    "duration": 47,
    "start_time": "2022-11-10T20:49:09.968Z"
   },
   {
    "duration": 34,
    "start_time": "2022-11-10T20:49:10.017Z"
   },
   {
    "duration": 59,
    "start_time": "2022-11-10T20:49:10.053Z"
   },
   {
    "duration": 41,
    "start_time": "2022-11-10T20:49:10.113Z"
   },
   {
    "duration": 35,
    "start_time": "2022-11-10T20:49:10.157Z"
   },
   {
    "duration": 44,
    "start_time": "2022-11-10T20:49:10.194Z"
   },
   {
    "duration": 25,
    "start_time": "2022-11-10T20:49:10.240Z"
   },
   {
    "duration": 615,
    "start_time": "2022-11-10T20:49:10.266Z"
   },
   {
    "duration": 64,
    "start_time": "2022-11-10T20:50:08.986Z"
   },
   {
    "duration": 152,
    "start_time": "2022-11-10T20:50:18.396Z"
   },
   {
    "duration": 3,
    "start_time": "2022-11-10T20:51:08.903Z"
   },
   {
    "duration": 284,
    "start_time": "2022-11-10T20:51:10.733Z"
   },
   {
    "duration": 3,
    "start_time": "2022-11-10T20:52:30.693Z"
   },
   {
    "duration": 279,
    "start_time": "2022-11-10T20:52:32.613Z"
   },
   {
    "duration": 413,
    "start_time": "2022-11-10T20:52:50.969Z"
   },
   {
    "duration": 109,
    "start_time": "2022-11-10T20:52:51.384Z"
   },
   {
    "duration": 22,
    "start_time": "2022-11-10T20:52:51.494Z"
   },
   {
    "duration": 6,
    "start_time": "2022-11-10T20:52:51.518Z"
   },
   {
    "duration": 10,
    "start_time": "2022-11-10T20:52:51.525Z"
   },
   {
    "duration": 12,
    "start_time": "2022-11-10T20:52:51.536Z"
   },
   {
    "duration": 12,
    "start_time": "2022-11-10T20:52:51.550Z"
   },
   {
    "duration": 23,
    "start_time": "2022-11-10T20:52:51.563Z"
   },
   {
    "duration": 17,
    "start_time": "2022-11-10T20:52:51.588Z"
   },
   {
    "duration": 4,
    "start_time": "2022-11-10T20:52:51.607Z"
   },
   {
    "duration": 8,
    "start_time": "2022-11-10T20:52:51.613Z"
   },
   {
    "duration": 6,
    "start_time": "2022-11-10T20:52:51.622Z"
   },
   {
    "duration": 6,
    "start_time": "2022-11-10T20:52:51.629Z"
   },
   {
    "duration": 361,
    "start_time": "2022-11-10T20:52:51.636Z"
   },
   {
    "duration": 0,
    "start_time": "2022-11-10T20:52:51.998Z"
   },
   {
    "duration": 0,
    "start_time": "2022-11-10T20:52:52.000Z"
   },
   {
    "duration": 0,
    "start_time": "2022-11-10T20:52:52.001Z"
   },
   {
    "duration": 404,
    "start_time": "2022-11-11T09:24:32.028Z"
   },
   {
    "duration": 296,
    "start_time": "2022-11-11T09:24:32.434Z"
   },
   {
    "duration": 25,
    "start_time": "2022-11-11T09:24:32.732Z"
   },
   {
    "duration": 16,
    "start_time": "2022-11-11T09:24:32.758Z"
   },
   {
    "duration": 24,
    "start_time": "2022-11-11T09:24:32.775Z"
   },
   {
    "duration": 45,
    "start_time": "2022-11-11T09:24:32.801Z"
   },
   {
    "duration": 26,
    "start_time": "2022-11-11T09:24:32.848Z"
   },
   {
    "duration": 13,
    "start_time": "2022-11-11T09:24:32.875Z"
   },
   {
    "duration": 39,
    "start_time": "2022-11-11T09:24:32.889Z"
   },
   {
    "duration": 3,
    "start_time": "2022-11-11T09:24:32.930Z"
   },
   {
    "duration": 35,
    "start_time": "2022-11-11T09:24:32.935Z"
   },
   {
    "duration": 22,
    "start_time": "2022-11-11T09:24:32.971Z"
   },
   {
    "duration": 23,
    "start_time": "2022-11-11T09:24:32.994Z"
   },
   {
    "duration": 241,
    "start_time": "2022-11-11T09:24:33.018Z"
   },
   {
    "duration": 0,
    "start_time": "2022-11-11T09:24:33.261Z"
   },
   {
    "duration": 0,
    "start_time": "2022-11-11T09:24:33.262Z"
   },
   {
    "duration": 0,
    "start_time": "2022-11-11T09:24:33.263Z"
   },
   {
    "duration": 2,
    "start_time": "2022-11-11T09:35:35.528Z"
   },
   {
    "duration": 183,
    "start_time": "2022-11-11T09:35:38.570Z"
   },
   {
    "duration": 3,
    "start_time": "2022-11-11T09:40:54.596Z"
   },
   {
    "duration": 200,
    "start_time": "2022-11-11T09:40:56.837Z"
   },
   {
    "duration": 4,
    "start_time": "2022-11-11T09:41:21.692Z"
   },
   {
    "duration": 297,
    "start_time": "2022-11-11T09:41:23.421Z"
   },
   {
    "duration": 3,
    "start_time": "2022-11-11T09:41:41.629Z"
   },
   {
    "duration": 204,
    "start_time": "2022-11-11T09:41:43.269Z"
   },
   {
    "duration": 98,
    "start_time": "2022-11-11T09:42:03.374Z"
   },
   {
    "duration": 9,
    "start_time": "2022-11-11T09:42:22.799Z"
   },
   {
    "duration": 12,
    "start_time": "2022-11-11T09:43:21.584Z"
   },
   {
    "duration": 12,
    "start_time": "2022-11-11T09:43:25.423Z"
   },
   {
    "duration": 9,
    "start_time": "2022-11-11T09:44:04.911Z"
   },
   {
    "duration": 9,
    "start_time": "2022-11-11T09:44:15.495Z"
   },
   {
    "duration": 5,
    "start_time": "2022-11-11T09:44:46.334Z"
   },
   {
    "duration": 201,
    "start_time": "2022-11-11T09:44:57.864Z"
   },
   {
    "duration": 3,
    "start_time": "2022-11-11T09:45:03.208Z"
   },
   {
    "duration": 208,
    "start_time": "2022-11-11T09:45:05.049Z"
   },
   {
    "duration": 39,
    "start_time": "2022-11-11T09:45:22.449Z"
   },
   {
    "duration": 6,
    "start_time": "2022-11-11T09:45:31.307Z"
   },
   {
    "duration": 185,
    "start_time": "2022-11-11T09:45:33.112Z"
   },
   {
    "duration": 4,
    "start_time": "2022-11-11T09:45:41.297Z"
   },
   {
    "duration": 186,
    "start_time": "2022-11-11T09:45:43.273Z"
   },
   {
    "duration": 4,
    "start_time": "2022-11-11T09:46:02.233Z"
   },
   {
    "duration": 201,
    "start_time": "2022-11-11T09:46:04.113Z"
   },
   {
    "duration": 3,
    "start_time": "2022-11-11T09:47:31.674Z"
   },
   {
    "duration": 187,
    "start_time": "2022-11-11T09:47:33.283Z"
   },
   {
    "duration": 3,
    "start_time": "2022-11-11T09:49:40.021Z"
   },
   {
    "duration": 6,
    "start_time": "2022-11-11T09:49:41.709Z"
   },
   {
    "duration": 7,
    "start_time": "2022-11-11T09:49:44.412Z"
   },
   {
    "duration": 5,
    "start_time": "2022-11-11T09:50:03.380Z"
   },
   {
    "duration": 5,
    "start_time": "2022-11-11T09:50:31.808Z"
   },
   {
    "duration": 3,
    "start_time": "2022-11-11T09:50:48.053Z"
   },
   {
    "duration": 9,
    "start_time": "2022-11-11T09:51:52.947Z"
   },
   {
    "duration": 16,
    "start_time": "2022-11-11T09:55:39.873Z"
   },
   {
    "duration": 21,
    "start_time": "2022-11-11T09:56:00.131Z"
   },
   {
    "duration": 25,
    "start_time": "2022-11-11T09:56:52.518Z"
   },
   {
    "duration": 9,
    "start_time": "2022-11-11T09:59:47.766Z"
   },
   {
    "duration": 17,
    "start_time": "2022-11-11T10:01:03.712Z"
   },
   {
    "duration": 410,
    "start_time": "2022-11-11T10:10:12.125Z"
   },
   {
    "duration": 113,
    "start_time": "2022-11-11T10:10:12.536Z"
   },
   {
    "duration": 21,
    "start_time": "2022-11-11T10:10:12.651Z"
   },
   {
    "duration": 5,
    "start_time": "2022-11-11T10:10:12.674Z"
   },
   {
    "duration": 11,
    "start_time": "2022-11-11T10:10:12.681Z"
   },
   {
    "duration": 11,
    "start_time": "2022-11-11T10:10:12.694Z"
   },
   {
    "duration": 14,
    "start_time": "2022-11-11T10:10:12.707Z"
   },
   {
    "duration": 26,
    "start_time": "2022-11-11T10:10:12.722Z"
   },
   {
    "duration": 16,
    "start_time": "2022-11-11T10:10:12.750Z"
   },
   {
    "duration": 4,
    "start_time": "2022-11-11T10:10:12.767Z"
   },
   {
    "duration": 10,
    "start_time": "2022-11-11T10:10:12.772Z"
   },
   {
    "duration": 5,
    "start_time": "2022-11-11T10:10:12.783Z"
   },
   {
    "duration": 10,
    "start_time": "2022-11-11T10:10:12.789Z"
   },
   {
    "duration": 8,
    "start_time": "2022-11-11T10:10:12.801Z"
   },
   {
    "duration": 7,
    "start_time": "2022-11-11T10:10:12.811Z"
   },
   {
    "duration": 30,
    "start_time": "2022-11-11T10:10:12.819Z"
   },
   {
    "duration": 14,
    "start_time": "2022-11-11T10:10:12.850Z"
   },
   {
    "duration": 3,
    "start_time": "2022-11-11T10:10:12.865Z"
   },
   {
    "duration": 33219,
    "start_time": "2022-11-11T10:16:16.668Z"
   },
   {
    "duration": 5,
    "start_time": "2022-11-11T10:18:34.921Z"
   },
   {
    "duration": 7,
    "start_time": "2022-11-11T10:19:07.218Z"
   },
   {
    "duration": 69,
    "start_time": "2022-11-11T10:20:04.024Z"
   },
   {
    "duration": 636,
    "start_time": "2022-11-11T10:21:33.660Z"
   },
   {
    "duration": 354,
    "start_time": "2022-11-11T10:22:10.580Z"
   },
   {
    "duration": 114,
    "start_time": "2022-11-11T10:22:10.936Z"
   },
   {
    "duration": 20,
    "start_time": "2022-11-11T10:22:11.051Z"
   },
   {
    "duration": 7,
    "start_time": "2022-11-11T10:22:11.073Z"
   },
   {
    "duration": 13,
    "start_time": "2022-11-11T10:22:11.081Z"
   },
   {
    "duration": 23,
    "start_time": "2022-11-11T10:22:11.095Z"
   },
   {
    "duration": 14,
    "start_time": "2022-11-11T10:22:11.119Z"
   },
   {
    "duration": 19,
    "start_time": "2022-11-11T10:22:11.135Z"
   },
   {
    "duration": 19,
    "start_time": "2022-11-11T10:22:11.156Z"
   },
   {
    "duration": 4,
    "start_time": "2022-11-11T10:22:11.177Z"
   },
   {
    "duration": 10,
    "start_time": "2022-11-11T10:22:11.182Z"
   },
   {
    "duration": 4,
    "start_time": "2022-11-11T10:22:11.193Z"
   },
   {
    "duration": 7,
    "start_time": "2022-11-11T10:22:11.198Z"
   },
   {
    "duration": 11,
    "start_time": "2022-11-11T10:22:11.206Z"
   },
   {
    "duration": 29,
    "start_time": "2022-11-11T10:22:11.219Z"
   },
   {
    "duration": 4,
    "start_time": "2022-11-11T10:22:11.249Z"
   },
   {
    "duration": 11,
    "start_time": "2022-11-11T10:22:11.255Z"
   },
   {
    "duration": 37243,
    "start_time": "2022-11-11T10:22:11.267Z"
   },
   {
    "duration": 24,
    "start_time": "2022-11-11T10:33:09.076Z"
   },
   {
    "duration": 16,
    "start_time": "2022-11-11T10:33:21.419Z"
   },
   {
    "duration": 17,
    "start_time": "2022-11-11T10:36:31.854Z"
   },
   {
    "duration": 14,
    "start_time": "2022-11-11T10:36:43.895Z"
   },
   {
    "duration": 34,
    "start_time": "2022-11-11T10:38:11.776Z"
   },
   {
    "duration": 361,
    "start_time": "2022-11-11T10:38:23.688Z"
   },
   {
    "duration": 116,
    "start_time": "2022-11-11T10:38:24.051Z"
   },
   {
    "duration": 22,
    "start_time": "2022-11-11T10:38:24.169Z"
   },
   {
    "duration": 8,
    "start_time": "2022-11-11T10:38:24.194Z"
   },
   {
    "duration": 16,
    "start_time": "2022-11-11T10:38:24.204Z"
   },
   {
    "duration": 13,
    "start_time": "2022-11-11T10:38:24.222Z"
   },
   {
    "duration": 17,
    "start_time": "2022-11-11T10:38:24.236Z"
   },
   {
    "duration": 28,
    "start_time": "2022-11-11T10:38:24.255Z"
   },
   {
    "duration": 17,
    "start_time": "2022-11-11T10:38:24.285Z"
   },
   {
    "duration": 5,
    "start_time": "2022-11-11T10:38:24.305Z"
   },
   {
    "duration": 9,
    "start_time": "2022-11-11T10:38:24.312Z"
   },
   {
    "duration": 5,
    "start_time": "2022-11-11T10:38:24.323Z"
   },
   {
    "duration": 8,
    "start_time": "2022-11-11T10:38:24.329Z"
   },
   {
    "duration": 13,
    "start_time": "2022-11-11T10:38:24.348Z"
   },
   {
    "duration": 10,
    "start_time": "2022-11-11T10:38:24.363Z"
   },
   {
    "duration": 13,
    "start_time": "2022-11-11T10:38:24.374Z"
   },
   {
    "duration": 12,
    "start_time": "2022-11-11T10:38:24.389Z"
   },
   {
    "duration": 59,
    "start_time": "2022-11-11T10:38:24.402Z"
   },
   {
    "duration": 359,
    "start_time": "2022-11-11T10:38:42.476Z"
   },
   {
    "duration": 112,
    "start_time": "2022-11-11T10:38:42.837Z"
   },
   {
    "duration": 21,
    "start_time": "2022-11-11T10:38:42.951Z"
   },
   {
    "duration": 5,
    "start_time": "2022-11-11T10:38:42.974Z"
   },
   {
    "duration": 10,
    "start_time": "2022-11-11T10:38:42.981Z"
   },
   {
    "duration": 8,
    "start_time": "2022-11-11T10:38:42.993Z"
   },
   {
    "duration": 14,
    "start_time": "2022-11-11T10:38:43.003Z"
   },
   {
    "duration": 31,
    "start_time": "2022-11-11T10:38:43.019Z"
   },
   {
    "duration": 15,
    "start_time": "2022-11-11T10:38:43.052Z"
   },
   {
    "duration": 5,
    "start_time": "2022-11-11T10:38:43.068Z"
   },
   {
    "duration": 9,
    "start_time": "2022-11-11T10:38:43.074Z"
   },
   {
    "duration": 7,
    "start_time": "2022-11-11T10:38:43.085Z"
   },
   {
    "duration": 10,
    "start_time": "2022-11-11T10:38:43.093Z"
   },
   {
    "duration": 12,
    "start_time": "2022-11-11T10:38:43.105Z"
   },
   {
    "duration": 6,
    "start_time": "2022-11-11T10:38:43.118Z"
   },
   {
    "duration": 23,
    "start_time": "2022-11-11T10:38:43.125Z"
   },
   {
    "duration": 9,
    "start_time": "2022-11-11T10:38:43.149Z"
   },
   {
    "duration": 47,
    "start_time": "2022-11-11T10:38:43.160Z"
   },
   {
    "duration": 39,
    "start_time": "2022-11-11T10:38:52.473Z"
   },
   {
    "duration": 37,
    "start_time": "2022-11-11T10:38:54.521Z"
   },
   {
    "duration": 51,
    "start_time": "2022-11-11T10:39:55.380Z"
   },
   {
    "duration": 361,
    "start_time": "2022-11-11T10:40:18.390Z"
   },
   {
    "duration": 120,
    "start_time": "2022-11-11T10:40:18.753Z"
   },
   {
    "duration": 20,
    "start_time": "2022-11-11T10:40:18.875Z"
   },
   {
    "duration": 6,
    "start_time": "2022-11-11T10:40:18.896Z"
   },
   {
    "duration": 13,
    "start_time": "2022-11-11T10:40:18.904Z"
   },
   {
    "duration": 14,
    "start_time": "2022-11-11T10:40:18.918Z"
   },
   {
    "duration": 14,
    "start_time": "2022-11-11T10:40:18.933Z"
   },
   {
    "duration": 13,
    "start_time": "2022-11-11T10:40:18.948Z"
   },
   {
    "duration": 22,
    "start_time": "2022-11-11T10:40:18.963Z"
   },
   {
    "duration": 5,
    "start_time": "2022-11-11T10:40:18.987Z"
   },
   {
    "duration": 11,
    "start_time": "2022-11-11T10:40:18.993Z"
   },
   {
    "duration": 9,
    "start_time": "2022-11-11T10:40:19.005Z"
   },
   {
    "duration": 16,
    "start_time": "2022-11-11T10:40:19.016Z"
   },
   {
    "duration": 16,
    "start_time": "2022-11-11T10:40:19.036Z"
   },
   {
    "duration": 10,
    "start_time": "2022-11-11T10:40:19.054Z"
   },
   {
    "duration": 12,
    "start_time": "2022-11-11T10:40:19.065Z"
   },
   {
    "duration": 14,
    "start_time": "2022-11-11T10:40:19.078Z"
   },
   {
    "duration": 54,
    "start_time": "2022-11-11T10:40:19.094Z"
   },
   {
    "duration": 14,
    "start_time": "2022-11-11T10:42:30.180Z"
   },
   {
    "duration": 388,
    "start_time": "2022-11-11T10:42:34.573Z"
   },
   {
    "duration": 118,
    "start_time": "2022-11-11T10:42:34.963Z"
   },
   {
    "duration": 21,
    "start_time": "2022-11-11T10:42:35.082Z"
   },
   {
    "duration": 5,
    "start_time": "2022-11-11T10:42:35.105Z"
   },
   {
    "duration": 19,
    "start_time": "2022-11-11T10:42:35.111Z"
   },
   {
    "duration": 15,
    "start_time": "2022-11-11T10:42:35.131Z"
   },
   {
    "duration": 19,
    "start_time": "2022-11-11T10:42:35.148Z"
   },
   {
    "duration": 27,
    "start_time": "2022-11-11T10:42:35.169Z"
   },
   {
    "duration": 29,
    "start_time": "2022-11-11T10:42:35.197Z"
   },
   {
    "duration": 5,
    "start_time": "2022-11-11T10:42:35.228Z"
   },
   {
    "duration": 9,
    "start_time": "2022-11-11T10:42:35.235Z"
   },
   {
    "duration": 16,
    "start_time": "2022-11-11T10:42:35.246Z"
   },
   {
    "duration": 17,
    "start_time": "2022-11-11T10:42:35.263Z"
   },
   {
    "duration": 21,
    "start_time": "2022-11-11T10:42:35.282Z"
   },
   {
    "duration": 34,
    "start_time": "2022-11-11T10:42:35.305Z"
   },
   {
    "duration": 38,
    "start_time": "2022-11-11T10:42:35.341Z"
   },
   {
    "duration": 20,
    "start_time": "2022-11-11T10:42:35.381Z"
   },
   {
    "duration": 46,
    "start_time": "2022-11-11T10:42:35.403Z"
   },
   {
    "duration": 50,
    "start_time": "2022-11-11T10:42:35.451Z"
   },
   {
    "duration": 430,
    "start_time": "2022-11-11T10:42:55.156Z"
   },
   {
    "duration": 112,
    "start_time": "2022-11-11T10:42:55.588Z"
   },
   {
    "duration": 20,
    "start_time": "2022-11-11T10:42:55.701Z"
   },
   {
    "duration": 7,
    "start_time": "2022-11-11T10:42:55.722Z"
   },
   {
    "duration": 14,
    "start_time": "2022-11-11T10:42:55.731Z"
   },
   {
    "duration": 19,
    "start_time": "2022-11-11T10:42:55.746Z"
   },
   {
    "duration": 19,
    "start_time": "2022-11-11T10:42:55.766Z"
   },
   {
    "duration": 12,
    "start_time": "2022-11-11T10:42:55.787Z"
   },
   {
    "duration": 15,
    "start_time": "2022-11-11T10:42:55.801Z"
   },
   {
    "duration": 6,
    "start_time": "2022-11-11T10:42:55.817Z"
   },
   {
    "duration": 14,
    "start_time": "2022-11-11T10:42:55.825Z"
   },
   {
    "duration": 13,
    "start_time": "2022-11-11T10:42:55.841Z"
   },
   {
    "duration": 12,
    "start_time": "2022-11-11T10:42:55.856Z"
   },
   {
    "duration": 18,
    "start_time": "2022-11-11T10:42:55.870Z"
   },
   {
    "duration": 13,
    "start_time": "2022-11-11T10:42:55.889Z"
   },
   {
    "duration": 8,
    "start_time": "2022-11-11T10:42:55.904Z"
   },
   {
    "duration": 31,
    "start_time": "2022-11-11T10:42:55.913Z"
   },
   {
    "duration": 22,
    "start_time": "2022-11-11T10:42:55.945Z"
   },
   {
    "duration": 18,
    "start_time": "2022-11-11T10:43:27.277Z"
   },
   {
    "duration": 14,
    "start_time": "2022-11-11T10:43:28.950Z"
   },
   {
    "duration": 15,
    "start_time": "2022-11-11T10:43:54.054Z"
   },
   {
    "duration": 16,
    "start_time": "2022-11-11T10:43:55.957Z"
   },
   {
    "duration": 15,
    "start_time": "2022-11-11T10:43:57.670Z"
   },
   {
    "duration": 13,
    "start_time": "2022-11-11T10:44:30.766Z"
   },
   {
    "duration": 14,
    "start_time": "2022-11-11T10:45:02.441Z"
   },
   {
    "duration": 364,
    "start_time": "2022-11-11T10:45:07.563Z"
   },
   {
    "duration": 118,
    "start_time": "2022-11-11T10:45:07.929Z"
   },
   {
    "duration": 22,
    "start_time": "2022-11-11T10:45:08.049Z"
   },
   {
    "duration": 5,
    "start_time": "2022-11-11T10:45:08.073Z"
   },
   {
    "duration": 9,
    "start_time": "2022-11-11T10:45:08.080Z"
   },
   {
    "duration": 10,
    "start_time": "2022-11-11T10:45:08.090Z"
   },
   {
    "duration": 16,
    "start_time": "2022-11-11T10:45:08.101Z"
   },
   {
    "duration": 32,
    "start_time": "2022-11-11T10:45:08.119Z"
   },
   {
    "duration": 16,
    "start_time": "2022-11-11T10:45:08.153Z"
   },
   {
    "duration": 6,
    "start_time": "2022-11-11T10:45:08.171Z"
   },
   {
    "duration": 9,
    "start_time": "2022-11-11T10:45:08.178Z"
   },
   {
    "duration": 13,
    "start_time": "2022-11-11T10:45:08.188Z"
   },
   {
    "duration": 5,
    "start_time": "2022-11-11T10:45:08.203Z"
   },
   {
    "duration": 14,
    "start_time": "2022-11-11T10:45:08.211Z"
   },
   {
    "duration": 22,
    "start_time": "2022-11-11T10:45:08.227Z"
   },
   {
    "duration": 4,
    "start_time": "2022-11-11T10:45:08.251Z"
   },
   {
    "duration": 28,
    "start_time": "2022-11-11T10:45:08.257Z"
   },
   {
    "duration": 19,
    "start_time": "2022-11-11T10:45:08.288Z"
   },
   {
    "duration": 18,
    "start_time": "2022-11-11T10:45:08.310Z"
   },
   {
    "duration": 21,
    "start_time": "2022-11-11T10:45:24.967Z"
   },
   {
    "duration": 15,
    "start_time": "2022-11-11T10:45:27.136Z"
   },
   {
    "duration": 337,
    "start_time": "2022-11-11T10:46:40.801Z"
   },
   {
    "duration": 118,
    "start_time": "2022-11-11T10:46:41.139Z"
   },
   {
    "duration": 19,
    "start_time": "2022-11-11T10:46:41.259Z"
   },
   {
    "duration": 5,
    "start_time": "2022-11-11T10:46:41.280Z"
   },
   {
    "duration": 10,
    "start_time": "2022-11-11T10:46:41.287Z"
   },
   {
    "duration": 20,
    "start_time": "2022-11-11T10:46:41.299Z"
   },
   {
    "duration": 13,
    "start_time": "2022-11-11T10:46:41.321Z"
   },
   {
    "duration": 19,
    "start_time": "2022-11-11T10:46:41.335Z"
   },
   {
    "duration": 17,
    "start_time": "2022-11-11T10:46:41.356Z"
   },
   {
    "duration": 5,
    "start_time": "2022-11-11T10:46:41.375Z"
   },
   {
    "duration": 8,
    "start_time": "2022-11-11T10:46:41.381Z"
   },
   {
    "duration": 4,
    "start_time": "2022-11-11T10:46:41.390Z"
   },
   {
    "duration": 7,
    "start_time": "2022-11-11T10:46:41.396Z"
   },
   {
    "duration": 7,
    "start_time": "2022-11-11T10:46:41.405Z"
   },
   {
    "duration": 7,
    "start_time": "2022-11-11T10:46:41.413Z"
   },
   {
    "duration": 31,
    "start_time": "2022-11-11T10:46:41.421Z"
   },
   {
    "duration": 13,
    "start_time": "2022-11-11T10:46:41.453Z"
   },
   {
    "duration": 398,
    "start_time": "2022-11-11T10:46:52.917Z"
   },
   {
    "duration": 115,
    "start_time": "2022-11-11T10:46:53.317Z"
   },
   {
    "duration": 20,
    "start_time": "2022-11-11T10:46:53.433Z"
   },
   {
    "duration": 5,
    "start_time": "2022-11-11T10:46:53.455Z"
   },
   {
    "duration": 12,
    "start_time": "2022-11-11T10:46:53.462Z"
   },
   {
    "duration": 11,
    "start_time": "2022-11-11T10:46:53.476Z"
   },
   {
    "duration": 18,
    "start_time": "2022-11-11T10:46:53.488Z"
   },
   {
    "duration": 13,
    "start_time": "2022-11-11T10:46:53.508Z"
   },
   {
    "duration": 31,
    "start_time": "2022-11-11T10:46:53.523Z"
   },
   {
    "duration": 4,
    "start_time": "2022-11-11T10:46:53.556Z"
   },
   {
    "duration": 12,
    "start_time": "2022-11-11T10:46:53.562Z"
   },
   {
    "duration": 5,
    "start_time": "2022-11-11T10:46:53.576Z"
   },
   {
    "duration": 12,
    "start_time": "2022-11-11T10:46:53.583Z"
   },
   {
    "duration": 15,
    "start_time": "2022-11-11T10:46:53.596Z"
   },
   {
    "duration": 11,
    "start_time": "2022-11-11T10:46:53.612Z"
   },
   {
    "duration": 7,
    "start_time": "2022-11-11T10:46:53.624Z"
   },
   {
    "duration": 10,
    "start_time": "2022-11-11T10:47:23.762Z"
   },
   {
    "duration": 19,
    "start_time": "2022-11-11T10:47:41.753Z"
   },
   {
    "duration": 16,
    "start_time": "2022-11-11T10:47:53.330Z"
   },
   {
    "duration": 7,
    "start_time": "2022-11-11T10:48:54.033Z"
   },
   {
    "duration": 23,
    "start_time": "2022-11-11T10:49:45.469Z"
   },
   {
    "duration": 5,
    "start_time": "2022-11-11T10:50:08.640Z"
   },
   {
    "duration": 46,
    "start_time": "2022-11-11T10:54:09.864Z"
   },
   {
    "duration": 15,
    "start_time": "2022-11-11T10:54:17.576Z"
   },
   {
    "duration": 17,
    "start_time": "2022-11-11T10:54:19.319Z"
   },
   {
    "duration": 15,
    "start_time": "2022-11-11T10:54:21.079Z"
   },
   {
    "duration": 17,
    "start_time": "2022-11-11T11:09:18.244Z"
   },
   {
    "duration": 15,
    "start_time": "2022-11-11T11:09:20.726Z"
   },
   {
    "duration": 15,
    "start_time": "2022-11-11T11:09:24.741Z"
   },
   {
    "duration": 19,
    "start_time": "2022-11-11T11:10:03.278Z"
   },
   {
    "duration": 16,
    "start_time": "2022-11-11T11:12:24.001Z"
   },
   {
    "duration": 14,
    "start_time": "2022-11-11T11:14:12.604Z"
   },
   {
    "duration": 14,
    "start_time": "2022-11-11T11:14:34.236Z"
   },
   {
    "duration": 43,
    "start_time": "2022-11-12T10:00:15.466Z"
   },
   {
    "duration": 354,
    "start_time": "2022-11-12T10:00:19.485Z"
   },
   {
    "duration": 295,
    "start_time": "2022-11-12T10:00:19.841Z"
   },
   {
    "duration": 19,
    "start_time": "2022-11-12T10:00:20.137Z"
   },
   {
    "duration": 5,
    "start_time": "2022-11-12T10:00:20.157Z"
   },
   {
    "duration": 8,
    "start_time": "2022-11-12T10:00:20.164Z"
   },
   {
    "duration": 10,
    "start_time": "2022-11-12T10:00:20.173Z"
   },
   {
    "duration": 17,
    "start_time": "2022-11-12T10:00:20.184Z"
   },
   {
    "duration": 14,
    "start_time": "2022-11-12T10:00:20.202Z"
   },
   {
    "duration": 17,
    "start_time": "2022-11-12T10:00:20.217Z"
   },
   {
    "duration": 24,
    "start_time": "2022-11-12T10:00:20.235Z"
   },
   {
    "duration": 6,
    "start_time": "2022-11-12T10:00:20.261Z"
   },
   {
    "duration": 11,
    "start_time": "2022-11-12T10:00:20.268Z"
   },
   {
    "duration": 6,
    "start_time": "2022-11-12T10:00:20.280Z"
   },
   {
    "duration": 8,
    "start_time": "2022-11-12T10:00:20.288Z"
   },
   {
    "duration": 9,
    "start_time": "2022-11-12T10:00:20.297Z"
   },
   {
    "duration": 12,
    "start_time": "2022-11-12T10:00:20.307Z"
   },
   {
    "duration": 19,
    "start_time": "2022-11-12T10:00:20.321Z"
   },
   {
    "duration": 20,
    "start_time": "2022-11-12T10:00:20.341Z"
   },
   {
    "duration": 6,
    "start_time": "2022-11-12T10:00:20.363Z"
   },
   {
    "duration": 49,
    "start_time": "2022-11-12T10:00:20.370Z"
   },
   {
    "duration": 11,
    "start_time": "2022-11-12T10:02:57.006Z"
   },
   {
    "duration": 9,
    "start_time": "2022-11-12T10:09:23.837Z"
   },
   {
    "duration": 11,
    "start_time": "2022-11-12T10:13:34.416Z"
   },
   {
    "duration": 9,
    "start_time": "2022-11-12T10:15:50.914Z"
   },
   {
    "duration": 10,
    "start_time": "2022-11-12T10:15:57.434Z"
   },
   {
    "duration": 12,
    "start_time": "2022-11-12T10:16:20.403Z"
   },
   {
    "duration": 8,
    "start_time": "2022-11-12T10:18:03.653Z"
   },
   {
    "duration": 76,
    "start_time": "2022-11-12T10:18:24.340Z"
   },
   {
    "duration": 7,
    "start_time": "2022-11-12T10:18:31.374Z"
   },
   {
    "duration": 7,
    "start_time": "2022-11-12T10:18:33.397Z"
   },
   {
    "duration": 7,
    "start_time": "2022-11-12T10:19:02.223Z"
   },
   {
    "duration": 75,
    "start_time": "2022-11-12T10:19:05.116Z"
   },
   {
    "duration": 77,
    "start_time": "2022-11-12T10:19:06.825Z"
   },
   {
    "duration": 9,
    "start_time": "2022-11-12T10:19:08.140Z"
   },
   {
    "duration": 8,
    "start_time": "2022-11-12T10:19:17.013Z"
   },
   {
    "duration": 9,
    "start_time": "2022-11-12T10:19:19.012Z"
   },
   {
    "duration": 10,
    "start_time": "2022-11-12T10:20:32.398Z"
   },
   {
    "duration": 12,
    "start_time": "2022-11-12T10:21:33.895Z"
   },
   {
    "duration": 10,
    "start_time": "2022-11-12T10:23:50.144Z"
   },
   {
    "duration": 10,
    "start_time": "2022-11-12T10:24:21.314Z"
   },
   {
    "duration": 8,
    "start_time": "2022-11-12T10:25:03.635Z"
   },
   {
    "duration": 5,
    "start_time": "2022-11-12T10:25:29.186Z"
   },
   {
    "duration": 6,
    "start_time": "2022-11-12T10:26:11.283Z"
   },
   {
    "duration": 11,
    "start_time": "2022-11-12T10:26:31.059Z"
   },
   {
    "duration": 8,
    "start_time": "2022-11-12T10:28:30.229Z"
   },
   {
    "duration": 423,
    "start_time": "2022-11-12T10:28:34.379Z"
   },
   {
    "duration": 115,
    "start_time": "2022-11-12T10:28:34.805Z"
   },
   {
    "duration": 21,
    "start_time": "2022-11-12T10:28:34.922Z"
   },
   {
    "duration": 6,
    "start_time": "2022-11-12T10:28:34.944Z"
   },
   {
    "duration": 10,
    "start_time": "2022-11-12T10:28:34.952Z"
   },
   {
    "duration": 18,
    "start_time": "2022-11-12T10:28:34.964Z"
   },
   {
    "duration": 14,
    "start_time": "2022-11-12T10:28:34.983Z"
   },
   {
    "duration": 13,
    "start_time": "2022-11-12T10:28:34.999Z"
   },
   {
    "duration": 16,
    "start_time": "2022-11-12T10:28:35.014Z"
   },
   {
    "duration": 4,
    "start_time": "2022-11-12T10:28:35.032Z"
   },
   {
    "duration": 6,
    "start_time": "2022-11-12T10:28:35.059Z"
   },
   {
    "duration": 13,
    "start_time": "2022-11-12T10:28:35.066Z"
   },
   {
    "duration": 6,
    "start_time": "2022-11-12T10:28:35.081Z"
   },
   {
    "duration": 10,
    "start_time": "2022-11-12T10:28:35.090Z"
   },
   {
    "duration": 12,
    "start_time": "2022-11-12T10:28:35.101Z"
   },
   {
    "duration": 37,
    "start_time": "2022-11-12T10:28:35.115Z"
   },
   {
    "duration": 21,
    "start_time": "2022-11-12T10:28:35.154Z"
   },
   {
    "duration": 18,
    "start_time": "2022-11-12T10:28:35.177Z"
   },
   {
    "duration": 8,
    "start_time": "2022-11-12T10:28:35.197Z"
   },
   {
    "duration": 10,
    "start_time": "2022-11-12T10:28:35.206Z"
   },
   {
    "duration": 61,
    "start_time": "2022-11-12T10:29:25.237Z"
   },
   {
    "duration": 7,
    "start_time": "2022-11-12T10:29:37.101Z"
   },
   {
    "duration": 7,
    "start_time": "2022-11-12T10:30:05.765Z"
   },
   {
    "duration": 8,
    "start_time": "2022-11-12T10:30:07.766Z"
   },
   {
    "duration": 5,
    "start_time": "2022-11-12T10:31:30.519Z"
   },
   {
    "duration": 7,
    "start_time": "2022-11-12T10:31:32.071Z"
   },
   {
    "duration": 7,
    "start_time": "2022-11-12T10:35:11.013Z"
   },
   {
    "duration": 5,
    "start_time": "2022-11-12T10:35:43.788Z"
   },
   {
    "duration": 5,
    "start_time": "2022-11-12T10:36:04.803Z"
   },
   {
    "duration": 6,
    "start_time": "2022-11-12T10:36:24.869Z"
   },
   {
    "duration": 5,
    "start_time": "2022-11-12T10:36:40.580Z"
   },
   {
    "duration": 5,
    "start_time": "2022-11-12T10:37:13.732Z"
   },
   {
    "duration": 8,
    "start_time": "2022-11-12T10:37:49.144Z"
   },
   {
    "duration": 6,
    "start_time": "2022-11-12T10:39:17.150Z"
   },
   {
    "duration": 5,
    "start_time": "2022-11-12T10:39:44.063Z"
   },
   {
    "duration": 4,
    "start_time": "2022-11-12T10:39:49.699Z"
   },
   {
    "duration": 5,
    "start_time": "2022-11-12T10:39:53.703Z"
   },
   {
    "duration": 6,
    "start_time": "2022-11-12T10:40:02.790Z"
   },
   {
    "duration": 5,
    "start_time": "2022-11-12T10:43:11.785Z"
   },
   {
    "duration": 5,
    "start_time": "2022-11-12T10:43:15.531Z"
   },
   {
    "duration": 47,
    "start_time": "2022-11-12T10:44:15.362Z"
   },
   {
    "duration": 25,
    "start_time": "2022-11-12T10:44:18.354Z"
   },
   {
    "duration": 17,
    "start_time": "2022-11-12T10:56:34.183Z"
   },
   {
    "duration": 16,
    "start_time": "2022-11-12T10:56:54.967Z"
   },
   {
    "duration": 14,
    "start_time": "2022-11-12T10:56:59.888Z"
   },
   {
    "duration": 11,
    "start_time": "2022-11-12T10:57:08.006Z"
   },
   {
    "duration": 4,
    "start_time": "2022-11-12T11:01:52.818Z"
   },
   {
    "duration": 26,
    "start_time": "2022-11-12T11:03:17.044Z"
   },
   {
    "duration": 7,
    "start_time": "2022-11-12T11:04:42.134Z"
   },
   {
    "duration": 6,
    "start_time": "2022-11-12T11:07:47.561Z"
   },
   {
    "duration": 3,
    "start_time": "2022-11-12T11:11:57.396Z"
   },
   {
    "duration": 132,
    "start_time": "2022-11-12T11:15:32.234Z"
   },
   {
    "duration": 28,
    "start_time": "2022-11-12T11:16:52.558Z"
   },
   {
    "duration": 359,
    "start_time": "2022-11-12T11:17:31.013Z"
   },
   {
    "duration": 117,
    "start_time": "2022-11-12T11:17:31.373Z"
   },
   {
    "duration": 19,
    "start_time": "2022-11-12T11:17:31.492Z"
   },
   {
    "duration": 5,
    "start_time": "2022-11-12T11:17:31.514Z"
   },
   {
    "duration": 8,
    "start_time": "2022-11-12T11:17:31.520Z"
   },
   {
    "duration": 21,
    "start_time": "2022-11-12T11:17:31.529Z"
   },
   {
    "duration": 12,
    "start_time": "2022-11-12T11:17:31.551Z"
   },
   {
    "duration": 12,
    "start_time": "2022-11-12T11:17:31.564Z"
   },
   {
    "duration": 15,
    "start_time": "2022-11-12T11:17:31.578Z"
   },
   {
    "duration": 5,
    "start_time": "2022-11-12T11:17:31.595Z"
   },
   {
    "duration": 9,
    "start_time": "2022-11-12T11:17:31.601Z"
   },
   {
    "duration": 7,
    "start_time": "2022-11-12T11:17:31.611Z"
   },
   {
    "duration": 5,
    "start_time": "2022-11-12T11:17:31.619Z"
   },
   {
    "duration": 9,
    "start_time": "2022-11-12T11:17:31.626Z"
   },
   {
    "duration": 23,
    "start_time": "2022-11-12T11:17:31.636Z"
   },
   {
    "duration": 5,
    "start_time": "2022-11-12T11:17:31.660Z"
   },
   {
    "duration": 12,
    "start_time": "2022-11-12T11:17:31.666Z"
   },
   {
    "duration": 18,
    "start_time": "2022-11-12T11:17:31.679Z"
   },
   {
    "duration": 5,
    "start_time": "2022-11-12T11:17:31.698Z"
   },
   {
    "duration": 10,
    "start_time": "2022-11-12T11:17:31.704Z"
   },
   {
    "duration": 45,
    "start_time": "2022-11-12T11:17:31.716Z"
   },
   {
    "duration": 3,
    "start_time": "2022-11-12T11:17:31.762Z"
   },
   {
    "duration": 102,
    "start_time": "2022-11-12T11:17:31.766Z"
   },
   {
    "duration": 28,
    "start_time": "2022-11-12T11:17:31.869Z"
   },
   {
    "duration": 2,
    "start_time": "2022-11-12T11:18:31.740Z"
   },
   {
    "duration": 2,
    "start_time": "2022-11-12T11:18:33.228Z"
   },
   {
    "duration": 2,
    "start_time": "2022-11-12T11:18:35.752Z"
   },
   {
    "duration": 25,
    "start_time": "2022-11-12T11:18:37.789Z"
   },
   {
    "duration": 378,
    "start_time": "2022-11-12T11:18:45.728Z"
   },
   {
    "duration": 121,
    "start_time": "2022-11-12T11:18:46.108Z"
   },
   {
    "duration": 20,
    "start_time": "2022-11-12T11:18:46.231Z"
   },
   {
    "duration": 5,
    "start_time": "2022-11-12T11:18:46.253Z"
   },
   {
    "duration": 11,
    "start_time": "2022-11-12T11:18:46.259Z"
   },
   {
    "duration": 10,
    "start_time": "2022-11-12T11:18:46.271Z"
   },
   {
    "duration": 12,
    "start_time": "2022-11-12T11:18:46.282Z"
   },
   {
    "duration": 14,
    "start_time": "2022-11-12T11:18:46.295Z"
   },
   {
    "duration": 17,
    "start_time": "2022-11-12T11:18:46.311Z"
   },
   {
    "duration": 4,
    "start_time": "2022-11-12T11:18:46.330Z"
   },
   {
    "duration": 5,
    "start_time": "2022-11-12T11:18:46.359Z"
   },
   {
    "duration": 7,
    "start_time": "2022-11-12T11:18:46.366Z"
   },
   {
    "duration": 5,
    "start_time": "2022-11-12T11:18:46.374Z"
   },
   {
    "duration": 8,
    "start_time": "2022-11-12T11:18:46.380Z"
   },
   {
    "duration": 6,
    "start_time": "2022-11-12T11:18:46.390Z"
   },
   {
    "duration": 6,
    "start_time": "2022-11-12T11:18:46.398Z"
   },
   {
    "duration": 9,
    "start_time": "2022-11-12T11:18:46.405Z"
   },
   {
    "duration": 18,
    "start_time": "2022-11-12T11:18:46.416Z"
   },
   {
    "duration": 25,
    "start_time": "2022-11-12T11:18:46.435Z"
   },
   {
    "duration": 10,
    "start_time": "2022-11-12T11:18:46.462Z"
   },
   {
    "duration": 27,
    "start_time": "2022-11-12T11:18:46.474Z"
   },
   {
    "duration": 3,
    "start_time": "2022-11-12T11:18:46.502Z"
   },
   {
    "duration": 5,
    "start_time": "2022-11-12T11:18:46.506Z"
   },
   {
    "duration": 30,
    "start_time": "2022-11-12T11:18:46.512Z"
   },
   {
    "duration": 3,
    "start_time": "2022-11-12T11:21:41.454Z"
   },
   {
    "duration": 132,
    "start_time": "2022-11-12T11:21:45.201Z"
   },
   {
    "duration": 25,
    "start_time": "2022-11-12T11:21:47.399Z"
   },
   {
    "duration": 430,
    "start_time": "2022-11-12T11:21:54.865Z"
   },
   {
    "duration": 115,
    "start_time": "2022-11-12T11:21:55.297Z"
   },
   {
    "duration": 20,
    "start_time": "2022-11-12T11:21:55.414Z"
   },
   {
    "duration": 5,
    "start_time": "2022-11-12T11:21:55.436Z"
   },
   {
    "duration": 6,
    "start_time": "2022-11-12T11:21:55.444Z"
   },
   {
    "duration": 9,
    "start_time": "2022-11-12T11:21:55.452Z"
   },
   {
    "duration": 13,
    "start_time": "2022-11-12T11:21:55.463Z"
   },
   {
    "duration": 12,
    "start_time": "2022-11-12T11:21:55.477Z"
   },
   {
    "duration": 15,
    "start_time": "2022-11-12T11:21:55.490Z"
   },
   {
    "duration": 5,
    "start_time": "2022-11-12T11:21:55.506Z"
   },
   {
    "duration": 10,
    "start_time": "2022-11-12T11:21:55.512Z"
   },
   {
    "duration": 4,
    "start_time": "2022-11-12T11:21:55.524Z"
   },
   {
    "duration": 32,
    "start_time": "2022-11-12T11:21:55.529Z"
   },
   {
    "duration": 6,
    "start_time": "2022-11-12T11:21:55.564Z"
   },
   {
    "duration": 8,
    "start_time": "2022-11-12T11:21:55.572Z"
   },
   {
    "duration": 7,
    "start_time": "2022-11-12T11:21:55.581Z"
   },
   {
    "duration": 11,
    "start_time": "2022-11-12T11:21:55.589Z"
   },
   {
    "duration": 17,
    "start_time": "2022-11-12T11:21:55.601Z"
   },
   {
    "duration": 4,
    "start_time": "2022-11-12T11:21:55.621Z"
   },
   {
    "duration": 9,
    "start_time": "2022-11-12T11:21:55.627Z"
   },
   {
    "duration": 44,
    "start_time": "2022-11-12T11:21:55.638Z"
   },
   {
    "duration": 3,
    "start_time": "2022-11-12T11:21:55.684Z"
   },
   {
    "duration": 114,
    "start_time": "2022-11-12T11:21:55.688Z"
   },
   {
    "duration": 0,
    "start_time": "2022-11-12T11:21:55.803Z"
   },
   {
    "duration": 3,
    "start_time": "2022-11-12T11:22:49.624Z"
   },
   {
    "duration": 129,
    "start_time": "2022-11-12T11:22:51.543Z"
   },
   {
    "duration": 37,
    "start_time": "2022-11-12T11:22:53.256Z"
   },
   {
    "duration": 3,
    "start_time": "2022-11-12T11:23:28.888Z"
   },
   {
    "duration": 97,
    "start_time": "2022-11-12T11:23:30.699Z"
   },
   {
    "duration": 11,
    "start_time": "2022-11-12T11:23:32.489Z"
   },
   {
    "duration": 12,
    "start_time": "2022-11-12T11:23:47.304Z"
   },
   {
    "duration": 11,
    "start_time": "2022-11-12T11:24:24.955Z"
   },
   {
    "duration": 3,
    "start_time": "2022-11-12T11:24:46.801Z"
   },
   {
    "duration": 3,
    "start_time": "2022-11-12T11:24:48.266Z"
   },
   {
    "duration": 20,
    "start_time": "2022-11-12T11:24:49.810Z"
   },
   {
    "duration": 11,
    "start_time": "2022-11-12T11:24:51.617Z"
   },
   {
    "duration": 352,
    "start_time": "2022-11-12T11:24:56.899Z"
   },
   {
    "duration": 115,
    "start_time": "2022-11-12T11:24:57.253Z"
   },
   {
    "duration": 19,
    "start_time": "2022-11-12T11:24:57.369Z"
   },
   {
    "duration": 5,
    "start_time": "2022-11-12T11:24:57.389Z"
   },
   {
    "duration": 7,
    "start_time": "2022-11-12T11:24:57.396Z"
   },
   {
    "duration": 9,
    "start_time": "2022-11-12T11:24:57.405Z"
   },
   {
    "duration": 12,
    "start_time": "2022-11-12T11:24:57.415Z"
   },
   {
    "duration": 13,
    "start_time": "2022-11-12T11:24:57.428Z"
   },
   {
    "duration": 31,
    "start_time": "2022-11-12T11:24:57.442Z"
   },
   {
    "duration": 4,
    "start_time": "2022-11-12T11:24:57.474Z"
   },
   {
    "duration": 12,
    "start_time": "2022-11-12T11:24:57.479Z"
   },
   {
    "duration": 4,
    "start_time": "2022-11-12T11:24:57.492Z"
   },
   {
    "duration": 5,
    "start_time": "2022-11-12T11:24:57.497Z"
   },
   {
    "duration": 7,
    "start_time": "2022-11-12T11:24:57.504Z"
   },
   {
    "duration": 6,
    "start_time": "2022-11-12T11:24:57.512Z"
   },
   {
    "duration": 6,
    "start_time": "2022-11-12T11:24:57.519Z"
   },
   {
    "duration": 40,
    "start_time": "2022-11-12T11:24:57.526Z"
   },
   {
    "duration": 19,
    "start_time": "2022-11-12T11:24:57.567Z"
   },
   {
    "duration": 5,
    "start_time": "2022-11-12T11:24:57.588Z"
   },
   {
    "duration": 13,
    "start_time": "2022-11-12T11:24:57.594Z"
   },
   {
    "duration": 25,
    "start_time": "2022-11-12T11:24:57.609Z"
   },
   {
    "duration": 24,
    "start_time": "2022-11-12T11:24:57.635Z"
   },
   {
    "duration": 6,
    "start_time": "2022-11-12T11:24:57.660Z"
   },
   {
    "duration": 29,
    "start_time": "2022-11-12T11:24:57.668Z"
   },
   {
    "duration": 27,
    "start_time": "2022-11-12T11:26:10.188Z"
   },
   {
    "duration": 25,
    "start_time": "2022-11-12T11:26:22.356Z"
   },
   {
    "duration": 3,
    "start_time": "2022-11-12T11:26:30.035Z"
   },
   {
    "duration": 130,
    "start_time": "2022-11-12T11:26:31.675Z"
   },
   {
    "duration": 12,
    "start_time": "2022-11-12T11:26:34.115Z"
   },
   {
    "duration": 10,
    "start_time": "2022-11-12T11:27:39.756Z"
   },
   {
    "duration": 10,
    "start_time": "2022-11-12T11:27:43.772Z"
   },
   {
    "duration": 12,
    "start_time": "2022-11-12T11:27:49.205Z"
   },
   {
    "duration": 10,
    "start_time": "2022-11-12T11:28:02.854Z"
   },
   {
    "duration": 387,
    "start_time": "2022-11-12T11:28:08.669Z"
   },
   {
    "duration": 120,
    "start_time": "2022-11-12T11:28:09.058Z"
   },
   {
    "duration": 21,
    "start_time": "2022-11-12T11:28:09.179Z"
   },
   {
    "duration": 10,
    "start_time": "2022-11-12T11:28:09.201Z"
   },
   {
    "duration": 8,
    "start_time": "2022-11-12T11:28:09.213Z"
   },
   {
    "duration": 11,
    "start_time": "2022-11-12T11:28:09.223Z"
   },
   {
    "duration": 13,
    "start_time": "2022-11-12T11:28:09.235Z"
   },
   {
    "duration": 13,
    "start_time": "2022-11-12T11:28:09.249Z"
   },
   {
    "duration": 16,
    "start_time": "2022-11-12T11:28:09.263Z"
   },
   {
    "duration": 4,
    "start_time": "2022-11-12T11:28:09.280Z"
   },
   {
    "duration": 8,
    "start_time": "2022-11-12T11:28:09.285Z"
   },
   {
    "duration": 5,
    "start_time": "2022-11-12T11:28:09.294Z"
   },
   {
    "duration": 5,
    "start_time": "2022-11-12T11:28:09.300Z"
   },
   {
    "duration": 15,
    "start_time": "2022-11-12T11:28:09.307Z"
   },
   {
    "duration": 9,
    "start_time": "2022-11-12T11:28:09.323Z"
   },
   {
    "duration": 8,
    "start_time": "2022-11-12T11:28:09.333Z"
   },
   {
    "duration": 9,
    "start_time": "2022-11-12T11:28:09.358Z"
   },
   {
    "duration": 24,
    "start_time": "2022-11-12T11:28:09.368Z"
   },
   {
    "duration": 5,
    "start_time": "2022-11-12T11:28:09.393Z"
   },
   {
    "duration": 20,
    "start_time": "2022-11-12T11:28:09.399Z"
   },
   {
    "duration": 28,
    "start_time": "2022-11-12T11:28:09.420Z"
   },
   {
    "duration": 32,
    "start_time": "2022-11-12T11:28:09.449Z"
   },
   {
    "duration": 3,
    "start_time": "2022-11-12T11:28:09.482Z"
   },
   {
    "duration": 139,
    "start_time": "2022-11-12T11:28:09.486Z"
   },
   {
    "duration": 10,
    "start_time": "2022-11-12T11:28:09.627Z"
   },
   {
    "duration": 8,
    "start_time": "2022-11-12T11:35:07.806Z"
   },
   {
    "duration": 384,
    "start_time": "2022-11-12T11:35:18.266Z"
   },
   {
    "duration": 130,
    "start_time": "2022-11-12T11:35:18.652Z"
   },
   {
    "duration": 21,
    "start_time": "2022-11-12T11:35:18.784Z"
   },
   {
    "duration": 6,
    "start_time": "2022-11-12T11:35:18.808Z"
   },
   {
    "duration": 9,
    "start_time": "2022-11-12T11:35:18.815Z"
   },
   {
    "duration": 10,
    "start_time": "2022-11-12T11:35:18.825Z"
   },
   {
    "duration": 12,
    "start_time": "2022-11-12T11:35:18.837Z"
   },
   {
    "duration": 17,
    "start_time": "2022-11-12T11:35:18.851Z"
   },
   {
    "duration": 16,
    "start_time": "2022-11-12T11:35:18.870Z"
   },
   {
    "duration": 4,
    "start_time": "2022-11-12T11:35:18.889Z"
   },
   {
    "duration": 8,
    "start_time": "2022-11-12T11:35:18.895Z"
   },
   {
    "duration": 5,
    "start_time": "2022-11-12T11:35:18.904Z"
   },
   {
    "duration": 5,
    "start_time": "2022-11-12T11:35:18.910Z"
   },
   {
    "duration": 9,
    "start_time": "2022-11-12T11:35:18.916Z"
   },
   {
    "duration": 4,
    "start_time": "2022-11-12T11:35:18.959Z"
   },
   {
    "duration": 6,
    "start_time": "2022-11-12T11:35:18.965Z"
   },
   {
    "duration": 17,
    "start_time": "2022-11-12T11:35:18.972Z"
   },
   {
    "duration": 20,
    "start_time": "2022-11-12T11:35:18.990Z"
   },
   {
    "duration": 7,
    "start_time": "2022-11-12T11:35:19.011Z"
   },
   {
    "duration": 11,
    "start_time": "2022-11-12T11:35:19.019Z"
   },
   {
    "duration": 52,
    "start_time": "2022-11-12T11:35:19.032Z"
   },
   {
    "duration": 27,
    "start_time": "2022-11-12T11:35:19.085Z"
   },
   {
    "duration": 3,
    "start_time": "2022-11-12T11:35:19.114Z"
   },
   {
    "duration": 167,
    "start_time": "2022-11-12T11:35:19.119Z"
   },
   {
    "duration": 11,
    "start_time": "2022-11-12T11:35:19.288Z"
   },
   {
    "duration": 5,
    "start_time": "2022-11-12T11:42:36.444Z"
   },
   {
    "duration": 4,
    "start_time": "2022-11-12T11:42:42.826Z"
   },
   {
    "duration": 48,
    "start_time": "2022-11-12T19:27:33.591Z"
   },
   {
    "duration": 7,
    "start_time": "2022-11-12T19:27:38.062Z"
   },
   {
    "duration": 398,
    "start_time": "2022-11-12T19:27:42.729Z"
   },
   {
    "duration": 302,
    "start_time": "2022-11-12T19:27:43.129Z"
   },
   {
    "duration": 22,
    "start_time": "2022-11-12T19:27:43.432Z"
   },
   {
    "duration": 6,
    "start_time": "2022-11-12T19:27:43.455Z"
   },
   {
    "duration": 11,
    "start_time": "2022-11-12T19:27:43.463Z"
   },
   {
    "duration": 11,
    "start_time": "2022-11-12T19:27:43.475Z"
   },
   {
    "duration": 17,
    "start_time": "2022-11-12T19:27:43.488Z"
   },
   {
    "duration": 15,
    "start_time": "2022-11-12T19:27:43.506Z"
   },
   {
    "duration": 19,
    "start_time": "2022-11-12T19:27:43.522Z"
   },
   {
    "duration": 5,
    "start_time": "2022-11-12T19:27:43.543Z"
   },
   {
    "duration": 35,
    "start_time": "2022-11-12T19:27:43.550Z"
   },
   {
    "duration": 7,
    "start_time": "2022-11-12T19:27:43.587Z"
   },
   {
    "duration": 6,
    "start_time": "2022-11-12T19:27:43.595Z"
   },
   {
    "duration": 8,
    "start_time": "2022-11-12T19:27:43.604Z"
   },
   {
    "duration": 8,
    "start_time": "2022-11-12T19:27:43.613Z"
   },
   {
    "duration": 7,
    "start_time": "2022-11-12T19:27:43.622Z"
   },
   {
    "duration": 13,
    "start_time": "2022-11-12T19:27:43.631Z"
   },
   {
    "duration": 41,
    "start_time": "2022-11-12T19:27:43.645Z"
   },
   {
    "duration": 7,
    "start_time": "2022-11-12T19:27:43.687Z"
   },
   {
    "duration": 12,
    "start_time": "2022-11-12T19:27:43.695Z"
   },
   {
    "duration": 37,
    "start_time": "2022-11-12T19:27:43.708Z"
   },
   {
    "duration": 50,
    "start_time": "2022-11-12T19:27:43.747Z"
   },
   {
    "duration": 4,
    "start_time": "2022-11-12T19:27:43.798Z"
   },
   {
    "duration": 178,
    "start_time": "2022-11-12T19:27:43.804Z"
   },
   {
    "duration": 15,
    "start_time": "2022-11-12T19:27:43.984Z"
   },
   {
    "duration": 8,
    "start_time": "2022-11-12T19:27:44.001Z"
   },
   {
    "duration": 20,
    "start_time": "2022-11-12T19:27:44.011Z"
   },
   {
    "duration": 74,
    "start_time": "2022-11-12T19:57:06.594Z"
   },
   {
    "duration": 31,
    "start_time": "2022-11-12T19:59:43.819Z"
   },
   {
    "duration": 32,
    "start_time": "2022-11-12T20:00:34.869Z"
   },
   {
    "duration": 50,
    "start_time": "2022-11-12T20:02:13.144Z"
   },
   {
    "duration": 39,
    "start_time": "2022-11-12T20:08:49.229Z"
   },
   {
    "duration": 27,
    "start_time": "2022-11-12T20:10:26.503Z"
   },
   {
    "duration": 8,
    "start_time": "2022-11-12T20:15:30.484Z"
   },
   {
    "duration": 14,
    "start_time": "2022-11-12T20:15:40.507Z"
   },
   {
    "duration": 9,
    "start_time": "2022-11-12T20:16:02.467Z"
   },
   {
    "duration": 79,
    "start_time": "2022-11-12T20:16:24.605Z"
   },
   {
    "duration": 432,
    "start_time": "2022-11-12T20:16:36.846Z"
   },
   {
    "duration": 112,
    "start_time": "2022-11-12T20:16:37.280Z"
   },
   {
    "duration": 22,
    "start_time": "2022-11-12T20:16:37.394Z"
   },
   {
    "duration": 6,
    "start_time": "2022-11-12T20:16:37.418Z"
   },
   {
    "duration": 9,
    "start_time": "2022-11-12T20:16:37.426Z"
   },
   {
    "duration": 11,
    "start_time": "2022-11-12T20:16:37.436Z"
   },
   {
    "duration": 13,
    "start_time": "2022-11-12T20:16:37.448Z"
   },
   {
    "duration": 30,
    "start_time": "2022-11-12T20:16:37.462Z"
   },
   {
    "duration": 19,
    "start_time": "2022-11-12T20:16:37.493Z"
   },
   {
    "duration": 5,
    "start_time": "2022-11-12T20:16:37.516Z"
   },
   {
    "duration": 8,
    "start_time": "2022-11-12T20:16:37.523Z"
   },
   {
    "duration": 5,
    "start_time": "2022-11-12T20:16:37.533Z"
   },
   {
    "duration": 40,
    "start_time": "2022-11-12T20:16:37.539Z"
   },
   {
    "duration": 11,
    "start_time": "2022-11-12T20:16:37.581Z"
   },
   {
    "duration": 6,
    "start_time": "2022-11-12T20:16:37.595Z"
   },
   {
    "duration": 6,
    "start_time": "2022-11-12T20:16:37.603Z"
   },
   {
    "duration": 14,
    "start_time": "2022-11-12T20:16:37.611Z"
   },
   {
    "duration": 53,
    "start_time": "2022-11-12T20:16:37.626Z"
   },
   {
    "duration": 9,
    "start_time": "2022-11-12T20:16:37.680Z"
   },
   {
    "duration": 10,
    "start_time": "2022-11-12T20:16:37.691Z"
   },
   {
    "duration": 12,
    "start_time": "2022-11-12T20:16:37.702Z"
   },
   {
    "duration": 22,
    "start_time": "2022-11-12T20:16:37.716Z"
   },
   {
    "duration": 6,
    "start_time": "2022-11-12T20:16:37.739Z"
   },
   {
    "duration": 38,
    "start_time": "2022-11-12T20:16:37.747Z"
   },
   {
    "duration": 28,
    "start_time": "2022-11-12T20:16:37.787Z"
   },
   {
    "duration": 33,
    "start_time": "2022-11-12T20:16:37.817Z"
   },
   {
    "duration": 29,
    "start_time": "2022-11-12T20:16:37.852Z"
   },
   {
    "duration": 155,
    "start_time": "2022-11-12T20:16:37.884Z"
   },
   {
    "duration": 12,
    "start_time": "2022-11-12T20:16:38.040Z"
   },
   {
    "duration": 6,
    "start_time": "2022-11-12T20:16:38.054Z"
   },
   {
    "duration": 88,
    "start_time": "2022-11-12T20:16:38.061Z"
   },
   {
    "duration": 29,
    "start_time": "2022-11-12T20:16:59.346Z"
   },
   {
    "duration": 53,
    "start_time": "2022-11-13T10:06:52.158Z"
   },
   {
    "duration": 448,
    "start_time": "2022-11-13T10:06:57.729Z"
   },
   {
    "duration": 335,
    "start_time": "2022-11-13T10:06:58.179Z"
   },
   {
    "duration": 23,
    "start_time": "2022-11-13T10:06:58.516Z"
   },
   {
    "duration": 6,
    "start_time": "2022-11-13T10:06:58.542Z"
   },
   {
    "duration": 22,
    "start_time": "2022-11-13T10:06:58.550Z"
   },
   {
    "duration": 13,
    "start_time": "2022-11-13T10:06:58.574Z"
   },
   {
    "duration": 19,
    "start_time": "2022-11-13T10:06:58.589Z"
   },
   {
    "duration": 16,
    "start_time": "2022-11-13T10:06:58.610Z"
   },
   {
    "duration": 22,
    "start_time": "2022-11-13T10:06:58.627Z"
   },
   {
    "duration": 5,
    "start_time": "2022-11-13T10:06:58.652Z"
   },
   {
    "duration": 17,
    "start_time": "2022-11-13T10:06:58.658Z"
   },
   {
    "duration": 8,
    "start_time": "2022-11-13T10:06:58.677Z"
   },
   {
    "duration": 4,
    "start_time": "2022-11-13T10:06:58.704Z"
   },
   {
    "duration": 12,
    "start_time": "2022-11-13T10:06:58.710Z"
   },
   {
    "duration": 7,
    "start_time": "2022-11-13T10:06:58.724Z"
   },
   {
    "duration": 10,
    "start_time": "2022-11-13T10:06:58.733Z"
   },
   {
    "duration": 22,
    "start_time": "2022-11-13T10:06:58.745Z"
   },
   {
    "duration": 60,
    "start_time": "2022-11-13T10:06:58.769Z"
   },
   {
    "duration": 11,
    "start_time": "2022-11-13T10:06:58.831Z"
   },
   {
    "duration": 12,
    "start_time": "2022-11-13T10:06:58.845Z"
   },
   {
    "duration": 20,
    "start_time": "2022-11-13T10:06:58.859Z"
   },
   {
    "duration": 40,
    "start_time": "2022-11-13T10:06:58.880Z"
   },
   {
    "duration": 7,
    "start_time": "2022-11-13T10:06:58.922Z"
   },
   {
    "duration": 14,
    "start_time": "2022-11-13T10:06:58.931Z"
   },
   {
    "duration": 29,
    "start_time": "2022-11-13T10:06:58.947Z"
   },
   {
    "duration": 55,
    "start_time": "2022-11-13T10:06:58.977Z"
   },
   {
    "duration": 3,
    "start_time": "2022-11-13T10:06:59.034Z"
   },
   {
    "duration": 174,
    "start_time": "2022-11-13T10:06:59.041Z"
   },
   {
    "duration": 13,
    "start_time": "2022-11-13T10:06:59.216Z"
   },
   {
    "duration": 12,
    "start_time": "2022-11-13T10:06:59.231Z"
   },
   {
    "duration": 78,
    "start_time": "2022-11-13T10:06:59.245Z"
   },
   {
    "duration": 22,
    "start_time": "2022-11-13T10:06:59.325Z"
   },
   {
    "duration": 23,
    "start_time": "2022-11-13T10:07:07.750Z"
   },
   {
    "duration": 911,
    "start_time": "2022-11-13T10:12:22.561Z"
   },
   {
    "duration": 73,
    "start_time": "2022-11-13T10:12:42.562Z"
   },
   {
    "duration": 32,
    "start_time": "2022-11-13T10:12:51.971Z"
   },
   {
    "duration": 9,
    "start_time": "2022-11-13T10:16:18.525Z"
   },
   {
    "duration": 30,
    "start_time": "2022-11-13T10:16:29.501Z"
   },
   {
    "duration": 4,
    "start_time": "2022-11-13T10:23:04.340Z"
   },
   {
    "duration": 10,
    "start_time": "2022-11-13T10:23:06.397Z"
   },
   {
    "duration": 72,
    "start_time": "2022-11-13T10:23:14.700Z"
   },
   {
    "duration": 25,
    "start_time": "2022-11-13T10:23:33.869Z"
   },
   {
    "duration": 74,
    "start_time": "2022-11-13T10:24:08.558Z"
   },
   {
    "duration": 34,
    "start_time": "2022-11-13T10:24:10.807Z"
   },
   {
    "duration": 76,
    "start_time": "2022-11-13T10:24:41.431Z"
   },
   {
    "duration": 26,
    "start_time": "2022-11-13T10:24:43.335Z"
   },
   {
    "duration": 5,
    "start_time": "2022-11-13T10:36:29.626Z"
   },
   {
    "duration": 27,
    "start_time": "2022-11-13T10:36:43.178Z"
   },
   {
    "duration": 66,
    "start_time": "2022-11-13T10:37:16.560Z"
   },
   {
    "duration": 45,
    "start_time": "2022-11-13T10:37:56.369Z"
   },
   {
    "duration": 6,
    "start_time": "2022-11-13T10:39:01.314Z"
   },
   {
    "duration": 4,
    "start_time": "2022-11-13T10:41:45.048Z"
   },
   {
    "duration": 54,
    "start_time": "2022-11-13T10:41:50.641Z"
   },
   {
    "duration": 88,
    "start_time": "2022-11-13T11:15:51.607Z"
   },
   {
    "duration": 64,
    "start_time": "2022-11-13T11:15:57.337Z"
   },
   {
    "duration": 78,
    "start_time": "2022-11-13T11:16:53.702Z"
   },
   {
    "duration": 66,
    "start_time": "2022-11-13T11:16:55.439Z"
   },
   {
    "duration": 77,
    "start_time": "2022-11-13T11:16:56.846Z"
   },
   {
    "duration": 49,
    "start_time": "2022-11-13T11:16:59.785Z"
   },
   {
    "duration": 78,
    "start_time": "2022-11-13T11:17:58.968Z"
   },
   {
    "duration": 48,
    "start_time": "2022-11-13T11:18:01.636Z"
   },
   {
    "duration": 386,
    "start_time": "2022-11-13T19:06:36.862Z"
   },
   {
    "duration": 299,
    "start_time": "2022-11-13T19:06:37.250Z"
   },
   {
    "duration": 20,
    "start_time": "2022-11-13T19:06:37.551Z"
   },
   {
    "duration": 5,
    "start_time": "2022-11-13T19:06:37.573Z"
   },
   {
    "duration": 12,
    "start_time": "2022-11-13T19:06:37.579Z"
   },
   {
    "duration": 17,
    "start_time": "2022-11-13T19:06:37.593Z"
   },
   {
    "duration": 14,
    "start_time": "2022-11-13T19:06:37.611Z"
   },
   {
    "duration": 22,
    "start_time": "2022-11-13T19:06:37.627Z"
   },
   {
    "duration": 21,
    "start_time": "2022-11-13T19:06:37.651Z"
   },
   {
    "duration": 4,
    "start_time": "2022-11-13T19:06:37.674Z"
   },
   {
    "duration": 19,
    "start_time": "2022-11-13T19:06:37.679Z"
   },
   {
    "duration": 13,
    "start_time": "2022-11-13T19:06:37.699Z"
   },
   {
    "duration": 16,
    "start_time": "2022-11-13T19:06:37.713Z"
   },
   {
    "duration": 18,
    "start_time": "2022-11-13T19:06:37.730Z"
   },
   {
    "duration": 22,
    "start_time": "2022-11-13T19:06:37.749Z"
   },
   {
    "duration": 15,
    "start_time": "2022-11-13T19:06:37.772Z"
   },
   {
    "duration": 16,
    "start_time": "2022-11-13T19:06:37.789Z"
   },
   {
    "duration": 23,
    "start_time": "2022-11-13T19:06:37.806Z"
   },
   {
    "duration": 9,
    "start_time": "2022-11-13T19:06:37.830Z"
   },
   {
    "duration": 15,
    "start_time": "2022-11-13T19:06:37.841Z"
   },
   {
    "duration": 30,
    "start_time": "2022-11-13T19:06:37.858Z"
   },
   {
    "duration": 3,
    "start_time": "2022-11-13T19:06:37.889Z"
   },
   {
    "duration": 14,
    "start_time": "2022-11-13T19:06:37.894Z"
   },
   {
    "duration": 17,
    "start_time": "2022-11-13T19:06:37.910Z"
   },
   {
    "duration": 19,
    "start_time": "2022-11-13T19:06:37.929Z"
   },
   {
    "duration": 15,
    "start_time": "2022-11-13T19:06:37.950Z"
   },
   {
    "duration": 26,
    "start_time": "2022-11-13T19:06:37.966Z"
   },
   {
    "duration": 27,
    "start_time": "2022-11-13T19:06:37.995Z"
   },
   {
    "duration": 15,
    "start_time": "2022-11-13T19:06:38.023Z"
   },
   {
    "duration": 137,
    "start_time": "2022-11-13T19:06:38.039Z"
   },
   {
    "duration": 11,
    "start_time": "2022-11-13T19:06:38.177Z"
   },
   {
    "duration": 17,
    "start_time": "2022-11-13T19:06:38.189Z"
   },
   {
    "duration": 74,
    "start_time": "2022-11-13T19:06:38.207Z"
   },
   {
    "duration": 71,
    "start_time": "2022-11-13T19:06:38.283Z"
   },
   {
    "duration": 5,
    "start_time": "2022-11-13T19:06:38.356Z"
   },
   {
    "duration": 73,
    "start_time": "2022-11-13T19:06:38.362Z"
   },
   {
    "duration": 12,
    "start_time": "2022-11-13T19:20:56.937Z"
   },
   {
    "duration": 9,
    "start_time": "2022-11-13T19:21:02.665Z"
   },
   {
    "duration": 10,
    "start_time": "2022-11-13T19:21:08.296Z"
   },
   {
    "duration": 21,
    "start_time": "2022-11-13T19:21:19.809Z"
   },
   {
    "duration": 29,
    "start_time": "2022-11-13T19:21:43.206Z"
   },
   {
    "duration": 26,
    "start_time": "2022-11-13T19:23:06.183Z"
   },
   {
    "duration": 29,
    "start_time": "2022-11-13T19:25:10.030Z"
   },
   {
    "duration": 5,
    "start_time": "2022-11-13T19:32:58.445Z"
   },
   {
    "duration": 6,
    "start_time": "2022-11-13T19:33:01.196Z"
   },
   {
    "duration": 29,
    "start_time": "2022-11-13T19:33:16.174Z"
   },
   {
    "duration": 7,
    "start_time": "2022-11-13T19:34:08.838Z"
   },
   {
    "duration": 28,
    "start_time": "2022-11-13T19:34:48.174Z"
   },
   {
    "duration": 14,
    "start_time": "2022-11-13T19:38:49.106Z"
   },
   {
    "duration": 4,
    "start_time": "2022-11-13T19:41:50.789Z"
   },
   {
    "duration": 28,
    "start_time": "2022-11-13T19:43:00.030Z"
   },
   {
    "duration": 12,
    "start_time": "2022-11-13T19:43:39.688Z"
   },
   {
    "duration": 8,
    "start_time": "2022-11-13T19:44:24.455Z"
   },
   {
    "duration": 31,
    "start_time": "2022-11-13T19:44:27.007Z"
   },
   {
    "duration": 4,
    "start_time": "2022-11-13T19:46:21.140Z"
   },
   {
    "duration": 5,
    "start_time": "2022-11-13T19:53:22.554Z"
   },
   {
    "duration": 7,
    "start_time": "2022-11-13T19:54:27.786Z"
   },
   {
    "duration": 3,
    "start_time": "2022-11-13T19:54:39.676Z"
   },
   {
    "duration": 9,
    "start_time": "2022-11-13T19:55:49.333Z"
   },
   {
    "duration": 12,
    "start_time": "2022-11-13T19:56:01.073Z"
   },
   {
    "duration": 10,
    "start_time": "2022-11-13T19:57:32.059Z"
   },
   {
    "duration": 10,
    "start_time": "2022-11-13T19:57:43.628Z"
   },
   {
    "duration": 9,
    "start_time": "2022-11-13T19:58:16.835Z"
   },
   {
    "duration": 10,
    "start_time": "2022-11-13T19:58:24.244Z"
   },
   {
    "duration": 10,
    "start_time": "2022-11-13T19:59:17.397Z"
   },
   {
    "duration": 7,
    "start_time": "2022-11-13T19:59:54.317Z"
   },
   {
    "duration": 7,
    "start_time": "2022-11-13T20:00:32.686Z"
   },
   {
    "duration": 7,
    "start_time": "2022-11-13T20:02:37.165Z"
   },
   {
    "duration": 9,
    "start_time": "2022-11-13T20:03:09.369Z"
   },
   {
    "duration": 28,
    "start_time": "2022-11-13T20:04:01.881Z"
   },
   {
    "duration": 4,
    "start_time": "2022-11-13T20:05:09.250Z"
   },
   {
    "duration": 14,
    "start_time": "2022-11-13T20:05:47.171Z"
   },
   {
    "duration": 13,
    "start_time": "2022-11-13T20:06:09.385Z"
   },
   {
    "duration": 18,
    "start_time": "2022-11-13T20:06:45.340Z"
   },
   {
    "duration": 368,
    "start_time": "2022-11-13T20:06:50.762Z"
   },
   {
    "duration": 116,
    "start_time": "2022-11-13T20:06:51.131Z"
   },
   {
    "duration": 21,
    "start_time": "2022-11-13T20:06:51.248Z"
   },
   {
    "duration": 5,
    "start_time": "2022-11-13T20:06:51.271Z"
   },
   {
    "duration": 14,
    "start_time": "2022-11-13T20:06:51.278Z"
   },
   {
    "duration": 22,
    "start_time": "2022-11-13T20:06:51.293Z"
   },
   {
    "duration": 15,
    "start_time": "2022-11-13T20:06:51.317Z"
   },
   {
    "duration": 21,
    "start_time": "2022-11-13T20:06:51.333Z"
   },
   {
    "duration": 19,
    "start_time": "2022-11-13T20:06:51.355Z"
   },
   {
    "duration": 4,
    "start_time": "2022-11-13T20:06:51.376Z"
   },
   {
    "duration": 19,
    "start_time": "2022-11-13T20:06:51.381Z"
   },
   {
    "duration": 11,
    "start_time": "2022-11-13T20:06:51.401Z"
   },
   {
    "duration": 15,
    "start_time": "2022-11-13T20:06:51.413Z"
   },
   {
    "duration": 13,
    "start_time": "2022-11-13T20:06:51.429Z"
   },
   {
    "duration": 18,
    "start_time": "2022-11-13T20:06:51.443Z"
   },
   {
    "duration": 7,
    "start_time": "2022-11-13T20:06:51.462Z"
   },
   {
    "duration": 11,
    "start_time": "2022-11-13T20:06:51.470Z"
   },
   {
    "duration": 17,
    "start_time": "2022-11-13T20:06:51.483Z"
   },
   {
    "duration": 7,
    "start_time": "2022-11-13T20:06:51.502Z"
   },
   {
    "duration": 14,
    "start_time": "2022-11-13T20:06:51.511Z"
   },
   {
    "duration": 32,
    "start_time": "2022-11-13T20:06:51.528Z"
   },
   {
    "duration": 4,
    "start_time": "2022-11-13T20:06:51.561Z"
   },
   {
    "duration": 24,
    "start_time": "2022-11-13T20:06:51.567Z"
   },
   {
    "duration": 19,
    "start_time": "2022-11-13T20:06:51.593Z"
   },
   {
    "duration": 5,
    "start_time": "2022-11-13T20:06:51.613Z"
   },
   {
    "duration": 15,
    "start_time": "2022-11-13T20:06:51.619Z"
   },
   {
    "duration": 12,
    "start_time": "2022-11-13T20:06:51.636Z"
   },
   {
    "duration": 26,
    "start_time": "2022-11-13T20:06:51.651Z"
   },
   {
    "duration": 16,
    "start_time": "2022-11-13T20:06:51.679Z"
   },
   {
    "duration": 24,
    "start_time": "2022-11-13T20:06:51.696Z"
   },
   {
    "duration": 39,
    "start_time": "2022-11-13T20:06:51.721Z"
   },
   {
    "duration": 9,
    "start_time": "2022-11-13T20:06:51.761Z"
   },
   {
    "duration": 7,
    "start_time": "2022-11-13T20:06:51.771Z"
   },
   {
    "duration": 127,
    "start_time": "2022-11-13T20:06:51.779Z"
   },
   {
    "duration": 10,
    "start_time": "2022-11-13T20:06:51.908Z"
   },
   {
    "duration": 13,
    "start_time": "2022-11-13T20:06:51.919Z"
   },
   {
    "duration": 6,
    "start_time": "2022-11-13T20:06:51.934Z"
   },
   {
    "duration": 67,
    "start_time": "2022-11-13T20:06:51.947Z"
   },
   {
    "duration": 71,
    "start_time": "2022-11-13T20:06:52.016Z"
   },
   {
    "duration": 4,
    "start_time": "2022-11-13T20:06:52.089Z"
   },
   {
    "duration": 75,
    "start_time": "2022-11-13T20:06:52.095Z"
   },
   {
    "duration": 60,
    "start_time": "2022-11-13T20:06:52.172Z"
   },
   {
    "duration": 0,
    "start_time": "2022-11-13T20:06:52.234Z"
   },
   {
    "duration": 0,
    "start_time": "2022-11-13T20:06:52.235Z"
   },
   {
    "duration": 401,
    "start_time": "2022-11-13T20:09:42.029Z"
   },
   {
    "duration": 118,
    "start_time": "2022-11-13T20:09:42.432Z"
   },
   {
    "duration": 25,
    "start_time": "2022-11-13T20:09:42.552Z"
   },
   {
    "duration": 6,
    "start_time": "2022-11-13T20:09:42.580Z"
   },
   {
    "duration": 15,
    "start_time": "2022-11-13T20:09:42.588Z"
   },
   {
    "duration": 10,
    "start_time": "2022-11-13T20:09:42.604Z"
   },
   {
    "duration": 11,
    "start_time": "2022-11-13T20:09:42.615Z"
   },
   {
    "duration": 29,
    "start_time": "2022-11-13T20:09:42.627Z"
   },
   {
    "duration": 15,
    "start_time": "2022-11-13T20:09:42.658Z"
   },
   {
    "duration": 4,
    "start_time": "2022-11-13T20:09:42.675Z"
   },
   {
    "duration": 9,
    "start_time": "2022-11-13T20:09:42.680Z"
   },
   {
    "duration": 11,
    "start_time": "2022-11-13T20:09:42.690Z"
   },
   {
    "duration": 5,
    "start_time": "2022-11-13T20:09:42.703Z"
   },
   {
    "duration": 8,
    "start_time": "2022-11-13T20:09:42.709Z"
   },
   {
    "duration": 6,
    "start_time": "2022-11-13T20:09:42.718Z"
   },
   {
    "duration": 24,
    "start_time": "2022-11-13T20:09:42.726Z"
   },
   {
    "duration": 12,
    "start_time": "2022-11-13T20:09:42.751Z"
   },
   {
    "duration": 19,
    "start_time": "2022-11-13T20:09:42.765Z"
   },
   {
    "duration": 7,
    "start_time": "2022-11-13T20:09:42.785Z"
   },
   {
    "duration": 9,
    "start_time": "2022-11-13T20:09:42.794Z"
   },
   {
    "duration": 50,
    "start_time": "2022-11-13T20:09:42.804Z"
   },
   {
    "duration": 4,
    "start_time": "2022-11-13T20:09:42.856Z"
   },
   {
    "duration": 10,
    "start_time": "2022-11-13T20:09:42.861Z"
   },
   {
    "duration": 20,
    "start_time": "2022-11-13T20:09:42.873Z"
   },
   {
    "duration": 6,
    "start_time": "2022-11-13T20:09:42.894Z"
   },
   {
    "duration": 14,
    "start_time": "2022-11-13T20:09:42.902Z"
   },
   {
    "duration": 5,
    "start_time": "2022-11-13T20:09:42.918Z"
   },
   {
    "duration": 23,
    "start_time": "2022-11-13T20:09:42.949Z"
   },
   {
    "duration": 27,
    "start_time": "2022-11-13T20:09:42.973Z"
   },
   {
    "duration": 3,
    "start_time": "2022-11-13T20:09:43.001Z"
   },
   {
    "duration": 138,
    "start_time": "2022-11-13T20:09:43.005Z"
   },
   {
    "duration": 10,
    "start_time": "2022-11-13T20:09:43.147Z"
   },
   {
    "duration": 6,
    "start_time": "2022-11-13T20:09:43.159Z"
   },
   {
    "duration": 73,
    "start_time": "2022-11-13T20:09:43.167Z"
   },
   {
    "duration": 73,
    "start_time": "2022-11-13T20:09:43.247Z"
   },
   {
    "duration": 5,
    "start_time": "2022-11-13T20:09:43.321Z"
   },
   {
    "duration": 84,
    "start_time": "2022-11-13T20:09:43.327Z"
   },
   {
    "duration": 9,
    "start_time": "2022-11-13T20:09:43.413Z"
   },
   {
    "duration": 29,
    "start_time": "2022-11-13T20:09:43.424Z"
   },
   {
    "duration": 4,
    "start_time": "2022-11-13T20:11:05.107Z"
   },
   {
    "duration": 7,
    "start_time": "2022-11-13T20:11:55.479Z"
   },
   {
    "duration": 5,
    "start_time": "2022-11-13T20:12:14.696Z"
   },
   {
    "duration": 15,
    "start_time": "2022-11-13T20:19:54.496Z"
   },
   {
    "duration": 20,
    "start_time": "2022-11-13T20:20:03.023Z"
   },
   {
    "duration": 12,
    "start_time": "2022-11-13T20:20:17.735Z"
   },
   {
    "duration": 70,
    "start_time": "2022-11-13T20:20:44.216Z"
   },
   {
    "duration": 14,
    "start_time": "2022-11-13T20:20:55.433Z"
   },
   {
    "duration": 190,
    "start_time": "2022-11-13T20:21:57.505Z"
   },
   {
    "duration": 13,
    "start_time": "2022-11-13T20:22:19.890Z"
   },
   {
    "duration": 14,
    "start_time": "2022-11-13T20:23:43.419Z"
   },
   {
    "duration": 13,
    "start_time": "2022-11-13T20:23:55.459Z"
   },
   {
    "duration": 13,
    "start_time": "2022-11-13T20:24:01.029Z"
   },
   {
    "duration": 12,
    "start_time": "2022-11-13T20:24:43.523Z"
   },
   {
    "duration": 49,
    "start_time": "2022-11-13T20:25:25.645Z"
   },
   {
    "duration": 40,
    "start_time": "2022-11-13T20:26:06.590Z"
   },
   {
    "duration": 43,
    "start_time": "2022-11-13T20:26:09.477Z"
   },
   {
    "duration": 45,
    "start_time": "2022-11-13T20:26:30.342Z"
   },
   {
    "duration": 44,
    "start_time": "2022-11-13T20:26:38.525Z"
   },
   {
    "duration": 71,
    "start_time": "2022-11-13T20:26:54.021Z"
   },
   {
    "duration": 15,
    "start_time": "2022-11-13T20:27:03.009Z"
   },
   {
    "duration": 48,
    "start_time": "2022-11-14T09:52:29.142Z"
   },
   {
    "duration": 419,
    "start_time": "2022-11-14T09:52:34.812Z"
   },
   {
    "duration": 306,
    "start_time": "2022-11-14T09:52:35.232Z"
   },
   {
    "duration": 22,
    "start_time": "2022-11-14T09:52:35.540Z"
   },
   {
    "duration": 6,
    "start_time": "2022-11-14T09:52:35.565Z"
   },
   {
    "duration": 15,
    "start_time": "2022-11-14T09:52:35.573Z"
   },
   {
    "duration": 12,
    "start_time": "2022-11-14T09:52:35.589Z"
   },
   {
    "duration": 32,
    "start_time": "2022-11-14T09:52:35.603Z"
   },
   {
    "duration": 14,
    "start_time": "2022-11-14T09:52:35.637Z"
   },
   {
    "duration": 19,
    "start_time": "2022-11-14T09:52:35.653Z"
   },
   {
    "duration": 5,
    "start_time": "2022-11-14T09:52:35.675Z"
   },
   {
    "duration": 12,
    "start_time": "2022-11-14T09:52:35.682Z"
   },
   {
    "duration": 5,
    "start_time": "2022-11-14T09:52:35.696Z"
   },
   {
    "duration": 33,
    "start_time": "2022-11-14T09:52:35.703Z"
   },
   {
    "duration": 9,
    "start_time": "2022-11-14T09:52:35.738Z"
   },
   {
    "duration": 6,
    "start_time": "2022-11-14T09:52:35.749Z"
   },
   {
    "duration": 9,
    "start_time": "2022-11-14T09:52:35.757Z"
   },
   {
    "duration": 12,
    "start_time": "2022-11-14T09:52:35.768Z"
   },
   {
    "duration": 23,
    "start_time": "2022-11-14T09:52:35.782Z"
   },
   {
    "duration": 10,
    "start_time": "2022-11-14T09:52:35.833Z"
   },
   {
    "duration": 10,
    "start_time": "2022-11-14T09:52:35.845Z"
   },
   {
    "duration": 32,
    "start_time": "2022-11-14T09:52:35.857Z"
   },
   {
    "duration": 4,
    "start_time": "2022-11-14T09:52:35.891Z"
   },
   {
    "duration": 11,
    "start_time": "2022-11-14T09:52:35.896Z"
   },
   {
    "duration": 21,
    "start_time": "2022-11-14T09:52:35.933Z"
   },
   {
    "duration": 5,
    "start_time": "2022-11-14T09:52:35.956Z"
   },
   {
    "duration": 12,
    "start_time": "2022-11-14T09:52:35.963Z"
   },
   {
    "duration": 14,
    "start_time": "2022-11-14T09:52:35.976Z"
   },
   {
    "duration": 47,
    "start_time": "2022-11-14T09:52:35.995Z"
   },
   {
    "duration": 25,
    "start_time": "2022-11-14T09:52:36.043Z"
   },
   {
    "duration": 6,
    "start_time": "2022-11-14T09:52:36.070Z"
   },
   {
    "duration": 148,
    "start_time": "2022-11-14T09:52:36.077Z"
   },
   {
    "duration": 13,
    "start_time": "2022-11-14T09:52:36.226Z"
   },
   {
    "duration": 7,
    "start_time": "2022-11-14T09:52:36.241Z"
   },
   {
    "duration": 6,
    "start_time": "2022-11-14T09:52:36.250Z"
   },
   {
    "duration": 107,
    "start_time": "2022-11-14T09:52:36.258Z"
   },
   {
    "duration": 100,
    "start_time": "2022-11-14T09:52:36.367Z"
   },
   {
    "duration": 6,
    "start_time": "2022-11-14T09:52:36.470Z"
   },
   {
    "duration": 83,
    "start_time": "2022-11-14T09:52:36.478Z"
   },
   {
    "duration": 76,
    "start_time": "2022-11-14T09:52:36.563Z"
   },
   {
    "duration": 21,
    "start_time": "2022-11-14T09:59:17.132Z"
   },
   {
    "duration": 24,
    "start_time": "2022-11-14T10:11:51.508Z"
   },
   {
    "duration": 28,
    "start_time": "2022-11-14T10:12:20.334Z"
   },
   {
    "duration": 28,
    "start_time": "2022-11-14T10:13:23.723Z"
   },
   {
    "duration": 37,
    "start_time": "2022-11-14T10:14:10.534Z"
   },
   {
    "duration": 25,
    "start_time": "2022-11-14T10:15:56.998Z"
   },
   {
    "duration": 23,
    "start_time": "2022-11-14T10:16:46.811Z"
   },
   {
    "duration": 27,
    "start_time": "2022-11-14T10:17:03.764Z"
   },
   {
    "duration": 895,
    "start_time": "2022-11-14T10:18:49.885Z"
   },
   {
    "duration": 22,
    "start_time": "2022-11-14T10:20:38.613Z"
   },
   {
    "duration": 23,
    "start_time": "2022-11-14T10:39:38.835Z"
   },
   {
    "duration": 55,
    "start_time": "2022-11-14T10:42:51.207Z"
   },
   {
    "duration": 522,
    "start_time": "2022-11-14T10:42:58.559Z"
   },
   {
    "duration": 202,
    "start_time": "2022-11-14T10:43:31.232Z"
   },
   {
    "duration": 174,
    "start_time": "2022-11-14T10:45:01.192Z"
   },
   {
    "duration": 164,
    "start_time": "2022-11-14T10:45:05.711Z"
   },
   {
    "duration": 168,
    "start_time": "2022-11-14T10:45:22.625Z"
   },
   {
    "duration": 160,
    "start_time": "2022-11-14T10:45:46.280Z"
   },
   {
    "duration": 185,
    "start_time": "2022-11-14T10:46:46.498Z"
   },
   {
    "duration": 4,
    "start_time": "2022-11-14T10:47:26.634Z"
   },
   {
    "duration": 620,
    "start_time": "2022-11-14T10:47:30.762Z"
   },
   {
    "duration": 128,
    "start_time": "2022-11-14T10:47:31.385Z"
   },
   {
    "duration": 23,
    "start_time": "2022-11-14T10:47:31.514Z"
   },
   {
    "duration": 7,
    "start_time": "2022-11-14T10:47:31.539Z"
   },
   {
    "duration": 26,
    "start_time": "2022-11-14T10:47:31.547Z"
   },
   {
    "duration": 15,
    "start_time": "2022-11-14T10:47:31.574Z"
   },
   {
    "duration": 22,
    "start_time": "2022-11-14T10:47:31.591Z"
   },
   {
    "duration": 30,
    "start_time": "2022-11-14T10:47:31.615Z"
   },
   {
    "duration": 35,
    "start_time": "2022-11-14T10:47:31.647Z"
   },
   {
    "duration": 5,
    "start_time": "2022-11-14T10:47:31.684Z"
   },
   {
    "duration": 19,
    "start_time": "2022-11-14T10:47:31.691Z"
   },
   {
    "duration": 9,
    "start_time": "2022-11-14T10:47:31.712Z"
   },
   {
    "duration": 17,
    "start_time": "2022-11-14T10:47:31.723Z"
   },
   {
    "duration": 33,
    "start_time": "2022-11-14T10:47:31.742Z"
   },
   {
    "duration": 10,
    "start_time": "2022-11-14T10:47:31.777Z"
   },
   {
    "duration": 8,
    "start_time": "2022-11-14T10:47:31.789Z"
   },
   {
    "duration": 19,
    "start_time": "2022-11-14T10:47:31.798Z"
   },
   {
    "duration": 28,
    "start_time": "2022-11-14T10:47:31.819Z"
   },
   {
    "duration": 10,
    "start_time": "2022-11-14T10:47:31.849Z"
   },
   {
    "duration": 38,
    "start_time": "2022-11-14T10:47:31.861Z"
   },
   {
    "duration": 35,
    "start_time": "2022-11-14T10:47:31.901Z"
   },
   {
    "duration": 20,
    "start_time": "2022-11-14T10:47:31.937Z"
   },
   {
    "duration": 17,
    "start_time": "2022-11-14T10:47:31.959Z"
   },
   {
    "duration": 42,
    "start_time": "2022-11-14T10:47:31.978Z"
   },
   {
    "duration": 7,
    "start_time": "2022-11-14T10:47:32.022Z"
   },
   {
    "duration": 21,
    "start_time": "2022-11-14T10:47:32.031Z"
   },
   {
    "duration": 29,
    "start_time": "2022-11-14T10:47:32.054Z"
   },
   {
    "duration": 30,
    "start_time": "2022-11-14T10:47:32.086Z"
   },
   {
    "duration": 38,
    "start_time": "2022-11-14T10:47:32.118Z"
   },
   {
    "duration": 3,
    "start_time": "2022-11-14T10:47:32.158Z"
   },
   {
    "duration": 118,
    "start_time": "2022-11-14T10:47:32.162Z"
   },
   {
    "duration": 11,
    "start_time": "2022-11-14T10:47:32.282Z"
   },
   {
    "duration": 21,
    "start_time": "2022-11-14T10:47:32.295Z"
   },
   {
    "duration": 16,
    "start_time": "2022-11-14T10:47:32.318Z"
   },
   {
    "duration": 77,
    "start_time": "2022-11-14T10:47:32.336Z"
   },
   {
    "duration": 83,
    "start_time": "2022-11-14T10:47:32.414Z"
   },
   {
    "duration": 5,
    "start_time": "2022-11-14T10:47:32.499Z"
   },
   {
    "duration": 87,
    "start_time": "2022-11-14T10:47:32.506Z"
   },
   {
    "duration": 25,
    "start_time": "2022-11-14T10:47:32.595Z"
   },
   {
    "duration": 177,
    "start_time": "2022-11-14T10:47:32.622Z"
   },
   {
    "duration": 203,
    "start_time": "2022-11-14T10:47:49.075Z"
   },
   {
    "duration": 33,
    "start_time": "2022-11-14T10:55:18.130Z"
   },
   {
    "duration": 150,
    "start_time": "2022-11-14T11:02:49.593Z"
   },
   {
    "duration": 161,
    "start_time": "2022-11-14T11:03:42.594Z"
   },
   {
    "duration": 31,
    "start_time": "2022-11-14T11:12:17.434Z"
   },
   {
    "duration": 47,
    "start_time": "2022-11-14T11:15:01.317Z"
   },
   {
    "duration": 9,
    "start_time": "2022-11-14T11:16:23.605Z"
   },
   {
    "duration": 9,
    "start_time": "2022-11-14T11:16:26.172Z"
   },
   {
    "duration": 32,
    "start_time": "2022-11-14T11:16:35.157Z"
   },
   {
    "duration": 33,
    "start_time": "2022-11-14T11:16:51.871Z"
   },
   {
    "duration": 35,
    "start_time": "2022-11-14T11:17:06.413Z"
   },
   {
    "duration": 6,
    "start_time": "2022-11-14T11:17:42.894Z"
   },
   {
    "duration": 6,
    "start_time": "2022-11-14T11:17:45.085Z"
   },
   {
    "duration": 29,
    "start_time": "2022-11-14T11:17:53.359Z"
   },
   {
    "duration": 2,
    "start_time": "2022-11-14T11:18:34.224Z"
   },
   {
    "duration": 3,
    "start_time": "2022-11-14T11:20:07.368Z"
   },
   {
    "duration": 44,
    "start_time": "2022-11-14T19:41:02.839Z"
   },
   {
    "duration": 733,
    "start_time": "2022-11-14T19:41:07.671Z"
   },
   {
    "duration": 310,
    "start_time": "2022-11-14T19:41:08.406Z"
   },
   {
    "duration": 20,
    "start_time": "2022-11-14T19:41:08.718Z"
   },
   {
    "duration": 6,
    "start_time": "2022-11-14T19:41:08.740Z"
   },
   {
    "duration": 8,
    "start_time": "2022-11-14T19:41:08.748Z"
   },
   {
    "duration": 10,
    "start_time": "2022-11-14T19:41:08.758Z"
   },
   {
    "duration": 13,
    "start_time": "2022-11-14T19:41:08.770Z"
   },
   {
    "duration": 13,
    "start_time": "2022-11-14T19:41:08.784Z"
   },
   {
    "duration": 16,
    "start_time": "2022-11-14T19:41:08.799Z"
   },
   {
    "duration": 5,
    "start_time": "2022-11-14T19:41:08.817Z"
   },
   {
    "duration": 11,
    "start_time": "2022-11-14T19:41:08.823Z"
   },
   {
    "duration": 7,
    "start_time": "2022-11-14T19:41:08.835Z"
   },
   {
    "duration": 4,
    "start_time": "2022-11-14T19:41:08.844Z"
   },
   {
    "duration": 30,
    "start_time": "2022-11-14T19:41:08.849Z"
   },
   {
    "duration": 6,
    "start_time": "2022-11-14T19:41:08.880Z"
   },
   {
    "duration": 6,
    "start_time": "2022-11-14T19:41:08.888Z"
   },
   {
    "duration": 10,
    "start_time": "2022-11-14T19:41:08.895Z"
   },
   {
    "duration": 19,
    "start_time": "2022-11-14T19:41:08.907Z"
   },
   {
    "duration": 8,
    "start_time": "2022-11-14T19:41:08.927Z"
   },
   {
    "duration": 10,
    "start_time": "2022-11-14T19:41:08.936Z"
   },
   {
    "duration": 48,
    "start_time": "2022-11-14T19:41:08.948Z"
   },
   {
    "duration": 3,
    "start_time": "2022-11-14T19:41:08.998Z"
   },
   {
    "duration": 13,
    "start_time": "2022-11-14T19:41:09.002Z"
   },
   {
    "duration": 17,
    "start_time": "2022-11-14T19:41:09.016Z"
   },
   {
    "duration": 5,
    "start_time": "2022-11-14T19:41:09.034Z"
   },
   {
    "duration": 10,
    "start_time": "2022-11-14T19:41:09.041Z"
   },
   {
    "duration": 28,
    "start_time": "2022-11-14T19:41:09.053Z"
   },
   {
    "duration": 26,
    "start_time": "2022-11-14T19:41:09.084Z"
   },
   {
    "duration": 25,
    "start_time": "2022-11-14T19:41:09.112Z"
   },
   {
    "duration": 2,
    "start_time": "2022-11-14T19:41:09.139Z"
   },
   {
    "duration": 118,
    "start_time": "2022-11-14T19:41:09.143Z"
   },
   {
    "duration": 10,
    "start_time": "2022-11-14T19:41:09.262Z"
   },
   {
    "duration": 6,
    "start_time": "2022-11-14T19:41:09.274Z"
   },
   {
    "duration": 10,
    "start_time": "2022-11-14T19:41:09.281Z"
   },
   {
    "duration": 69,
    "start_time": "2022-11-14T19:41:09.292Z"
   },
   {
    "duration": 79,
    "start_time": "2022-11-14T19:41:09.362Z"
   },
   {
    "duration": 4,
    "start_time": "2022-11-14T19:41:09.443Z"
   },
   {
    "duration": 76,
    "start_time": "2022-11-14T19:41:09.448Z"
   },
   {
    "duration": 25,
    "start_time": "2022-11-14T19:41:09.525Z"
   },
   {
    "duration": 161,
    "start_time": "2022-11-14T19:41:09.551Z"
   },
   {
    "duration": 196,
    "start_time": "2022-11-14T19:41:09.713Z"
   },
   {
    "duration": 3,
    "start_time": "2022-11-14T19:41:09.910Z"
   },
   {
    "duration": 148,
    "start_time": "2022-11-14T19:42:24.131Z"
   },
   {
    "duration": 163,
    "start_time": "2022-11-14T19:42:51.309Z"
   },
   {
    "duration": 178,
    "start_time": "2022-11-14T19:43:01.747Z"
   },
   {
    "duration": 169,
    "start_time": "2022-11-14T19:44:01.556Z"
   },
   {
    "duration": 173,
    "start_time": "2022-11-14T19:44:16.893Z"
   },
   {
    "duration": 384,
    "start_time": "2022-11-14T19:45:02.934Z"
   },
   {
    "duration": 161,
    "start_time": "2022-11-14T19:45:21.172Z"
   },
   {
    "duration": 13,
    "start_time": "2022-11-14T19:51:19.852Z"
   },
   {
    "duration": 20,
    "start_time": "2022-11-14T19:51:34.298Z"
   },
   {
    "duration": 18,
    "start_time": "2022-11-14T19:53:21.821Z"
   },
   {
    "duration": 74,
    "start_time": "2022-11-14T20:31:25.385Z"
   },
   {
    "duration": 73,
    "start_time": "2022-11-14T20:31:40.616Z"
   },
   {
    "duration": 7,
    "start_time": "2022-11-14T20:32:37.666Z"
   },
   {
    "duration": 15,
    "start_time": "2022-11-14T20:32:50.841Z"
   },
   {
    "duration": 9,
    "start_time": "2022-11-15T09:54:37.293Z"
   },
   {
    "duration": 39,
    "start_time": "2022-11-15T09:55:13.280Z"
   },
   {
    "duration": 772,
    "start_time": "2022-11-15T09:55:18.608Z"
   },
   {
    "duration": 310,
    "start_time": "2022-11-15T09:55:19.382Z"
   },
   {
    "duration": 21,
    "start_time": "2022-11-15T09:55:19.693Z"
   },
   {
    "duration": 6,
    "start_time": "2022-11-15T09:55:19.716Z"
   },
   {
    "duration": 9,
    "start_time": "2022-11-15T09:55:19.723Z"
   },
   {
    "duration": 9,
    "start_time": "2022-11-15T09:55:19.734Z"
   },
   {
    "duration": 16,
    "start_time": "2022-11-15T09:55:19.745Z"
   },
   {
    "duration": 23,
    "start_time": "2022-11-15T09:55:19.762Z"
   },
   {
    "duration": 16,
    "start_time": "2022-11-15T09:55:19.786Z"
   },
   {
    "duration": 5,
    "start_time": "2022-11-15T09:55:19.805Z"
   },
   {
    "duration": 7,
    "start_time": "2022-11-15T09:55:19.812Z"
   },
   {
    "duration": 4,
    "start_time": "2022-11-15T09:55:19.821Z"
   },
   {
    "duration": 6,
    "start_time": "2022-11-15T09:55:19.826Z"
   },
   {
    "duration": 7,
    "start_time": "2022-11-15T09:55:19.833Z"
   },
   {
    "duration": 36,
    "start_time": "2022-11-15T09:55:19.842Z"
   },
   {
    "duration": 4,
    "start_time": "2022-11-15T09:55:19.880Z"
   },
   {
    "duration": 17,
    "start_time": "2022-11-15T09:55:19.886Z"
   },
   {
    "duration": 22,
    "start_time": "2022-11-15T09:55:19.904Z"
   },
   {
    "duration": 7,
    "start_time": "2022-11-15T09:55:19.927Z"
   },
   {
    "duration": 12,
    "start_time": "2022-11-15T09:55:19.936Z"
   },
   {
    "duration": 44,
    "start_time": "2022-11-15T09:55:19.949Z"
   },
   {
    "duration": 3,
    "start_time": "2022-11-15T09:55:19.994Z"
   },
   {
    "duration": 14,
    "start_time": "2022-11-15T09:55:19.999Z"
   },
   {
    "duration": 23,
    "start_time": "2022-11-15T09:55:20.014Z"
   },
   {
    "duration": 5,
    "start_time": "2022-11-15T09:55:20.038Z"
   },
   {
    "duration": 12,
    "start_time": "2022-11-15T09:55:20.045Z"
   },
   {
    "duration": 19,
    "start_time": "2022-11-15T09:55:20.059Z"
   },
   {
    "duration": 29,
    "start_time": "2022-11-15T09:55:20.081Z"
   },
   {
    "duration": 26,
    "start_time": "2022-11-15T09:55:20.111Z"
   },
   {
    "duration": 18,
    "start_time": "2022-11-15T09:55:20.139Z"
   },
   {
    "duration": 110,
    "start_time": "2022-11-15T09:55:20.158Z"
   },
   {
    "duration": 12,
    "start_time": "2022-11-15T09:55:20.270Z"
   },
   {
    "duration": 7,
    "start_time": "2022-11-15T09:55:20.284Z"
   },
   {
    "duration": 29,
    "start_time": "2022-11-15T09:55:20.293Z"
   },
   {
    "duration": 75,
    "start_time": "2022-11-15T09:55:20.323Z"
   },
   {
    "duration": 72,
    "start_time": "2022-11-15T09:55:20.400Z"
   },
   {
    "duration": 5,
    "start_time": "2022-11-15T09:55:20.477Z"
   },
   {
    "duration": 61,
    "start_time": "2022-11-15T09:55:20.483Z"
   },
   {
    "duration": 27,
    "start_time": "2022-11-15T09:55:20.546Z"
   },
   {
    "duration": 168,
    "start_time": "2022-11-15T09:55:20.575Z"
   },
   {
    "duration": 233,
    "start_time": "2022-11-15T09:55:20.744Z"
   },
   {
    "duration": 2,
    "start_time": "2022-11-15T09:55:20.979Z"
   },
   {
    "duration": 27,
    "start_time": "2022-11-15T09:55:20.984Z"
   },
   {
    "duration": 17,
    "start_time": "2022-11-15T09:55:21.013Z"
   },
   {
    "duration": 115,
    "start_time": "2022-11-15T09:55:21.032Z"
   },
   {
    "duration": 25,
    "start_time": "2022-11-15T09:55:41.216Z"
   },
   {
    "duration": 18,
    "start_time": "2022-11-15T09:55:44.487Z"
   },
   {
    "duration": 19,
    "start_time": "2022-11-15T09:59:29.510Z"
   },
   {
    "duration": 23,
    "start_time": "2022-11-15T09:59:33.414Z"
   },
   {
    "duration": 22,
    "start_time": "2022-11-15T09:59:50.618Z"
   },
   {
    "duration": 21,
    "start_time": "2022-11-15T10:00:22.684Z"
   },
   {
    "duration": 18,
    "start_time": "2022-11-15T10:00:29.194Z"
   },
   {
    "duration": 22,
    "start_time": "2022-11-15T10:04:57.104Z"
   },
   {
    "duration": 20,
    "start_time": "2022-11-15T10:05:05.191Z"
   },
   {
    "duration": 20,
    "start_time": "2022-11-15T10:06:34.265Z"
   },
   {
    "duration": 1107,
    "start_time": "2022-11-15T10:06:51.585Z"
   },
   {
    "duration": 1181,
    "start_time": "2022-11-15T10:07:02.129Z"
   },
   {
    "duration": 1458,
    "start_time": "2022-11-15T10:09:56.731Z"
   },
   {
    "duration": 21,
    "start_time": "2022-11-15T10:12:18.173Z"
   },
   {
    "duration": 21,
    "start_time": "2022-11-15T10:15:27.688Z"
   },
   {
    "duration": 21,
    "start_time": "2022-11-15T10:19:45.951Z"
   },
   {
    "duration": 21,
    "start_time": "2022-11-15T10:20:51.112Z"
   },
   {
    "duration": 21,
    "start_time": "2022-11-15T10:21:13.009Z"
   },
   {
    "duration": 1104,
    "start_time": "2022-11-15T10:23:21.136Z"
   },
   {
    "duration": 1124,
    "start_time": "2022-11-15T10:24:17.791Z"
   },
   {
    "duration": 9,
    "start_time": "2022-11-15T10:25:46.505Z"
   },
   {
    "duration": 12,
    "start_time": "2022-11-15T10:25:56.371Z"
   },
   {
    "duration": 25,
    "start_time": "2022-11-15T10:32:22.668Z"
   },
   {
    "duration": 20,
    "start_time": "2022-11-15T10:32:26.224Z"
   },
   {
    "duration": 21,
    "start_time": "2022-11-15T10:32:29.498Z"
   },
   {
    "duration": 20,
    "start_time": "2022-11-15T10:32:31.751Z"
   },
   {
    "duration": 23,
    "start_time": "2022-11-15T10:32:41.063Z"
   },
   {
    "duration": 22,
    "start_time": "2022-11-15T10:32:43.888Z"
   },
   {
    "duration": 77,
    "start_time": "2022-11-15T10:34:43.825Z"
   },
   {
    "duration": 69,
    "start_time": "2022-11-15T10:34:47.185Z"
   },
   {
    "duration": 782,
    "start_time": "2022-11-15T10:34:56.684Z"
   },
   {
    "duration": 828,
    "start_time": "2022-11-15T10:35:49.835Z"
   },
   {
    "duration": 19,
    "start_time": "2022-11-15T10:37:30.564Z"
   },
   {
    "duration": 21,
    "start_time": "2022-11-15T10:37:33.492Z"
   },
   {
    "duration": 17,
    "start_time": "2022-11-15T10:38:26.021Z"
   },
   {
    "duration": 17,
    "start_time": "2022-11-15T10:38:35.869Z"
   },
   {
    "duration": 425,
    "start_time": "2022-11-15T10:39:08.526Z"
   },
   {
    "duration": 455,
    "start_time": "2022-11-15T10:39:39.913Z"
   },
   {
    "duration": 492,
    "start_time": "2022-11-15T10:39:48.717Z"
   },
   {
    "duration": 468,
    "start_time": "2022-11-15T10:41:15.923Z"
   },
   {
    "duration": 80,
    "start_time": "2022-11-15T10:43:00.554Z"
   },
   {
    "duration": 12,
    "start_time": "2022-11-15T10:43:07.689Z"
   },
   {
    "duration": 12,
    "start_time": "2022-11-15T10:43:30.772Z"
   },
   {
    "duration": 3,
    "start_time": "2022-11-15T10:49:40.162Z"
   },
   {
    "duration": 3,
    "start_time": "2022-11-15T10:50:24.793Z"
   },
   {
    "duration": 485,
    "start_time": "2022-11-15T10:58:23.544Z"
   },
   {
    "duration": 460,
    "start_time": "2022-11-15T10:58:27.400Z"
   },
   {
    "duration": 6,
    "start_time": "2022-11-15T11:00:03.650Z"
   },
   {
    "duration": 34,
    "start_time": "2022-11-15T11:00:12.817Z"
   },
   {
    "duration": 5,
    "start_time": "2022-11-15T11:01:18.010Z"
   },
   {
    "duration": 6,
    "start_time": "2022-11-15T11:12:59.688Z"
   },
   {
    "duration": 4,
    "start_time": "2022-11-15T11:13:12.084Z"
   },
   {
    "duration": 6,
    "start_time": "2022-11-15T11:13:45.775Z"
   },
   {
    "duration": 5,
    "start_time": "2022-11-15T11:13:58.486Z"
   },
   {
    "duration": 5,
    "start_time": "2022-11-15T11:17:37.657Z"
   },
   {
    "duration": 7,
    "start_time": "2022-11-15T11:18:00.281Z"
   },
   {
    "duration": 70,
    "start_time": "2022-11-15T11:24:38.871Z"
   },
   {
    "duration": 6,
    "start_time": "2022-11-15T11:24:50.319Z"
   },
   {
    "duration": 56,
    "start_time": "2022-11-15T19:26:59.962Z"
   },
   {
    "duration": 759,
    "start_time": "2022-11-15T19:27:06.551Z"
   },
   {
    "duration": 322,
    "start_time": "2022-11-15T19:27:07.312Z"
   },
   {
    "duration": 31,
    "start_time": "2022-11-15T19:27:07.636Z"
   },
   {
    "duration": 7,
    "start_time": "2022-11-15T19:27:07.669Z"
   },
   {
    "duration": 15,
    "start_time": "2022-11-15T19:27:07.677Z"
   },
   {
    "duration": 14,
    "start_time": "2022-11-15T19:27:07.693Z"
   },
   {
    "duration": 22,
    "start_time": "2022-11-15T19:27:07.709Z"
   },
   {
    "duration": 22,
    "start_time": "2022-11-15T19:27:07.733Z"
   },
   {
    "duration": 25,
    "start_time": "2022-11-15T19:27:07.757Z"
   },
   {
    "duration": 6,
    "start_time": "2022-11-15T19:27:07.786Z"
   },
   {
    "duration": 45,
    "start_time": "2022-11-15T19:27:07.795Z"
   },
   {
    "duration": 6,
    "start_time": "2022-11-15T19:27:07.843Z"
   },
   {
    "duration": 8,
    "start_time": "2022-11-15T19:27:07.851Z"
   },
   {
    "duration": 13,
    "start_time": "2022-11-15T19:27:07.861Z"
   },
   {
    "duration": 8,
    "start_time": "2022-11-15T19:27:07.876Z"
   },
   {
    "duration": 28,
    "start_time": "2022-11-15T19:27:07.886Z"
   },
   {
    "duration": 12,
    "start_time": "2022-11-15T19:27:07.916Z"
   },
   {
    "duration": 23,
    "start_time": "2022-11-15T19:27:07.930Z"
   },
   {
    "duration": 9,
    "start_time": "2022-11-15T19:27:07.954Z"
   },
   {
    "duration": 10,
    "start_time": "2022-11-15T19:27:07.965Z"
   },
   {
    "duration": 53,
    "start_time": "2022-11-15T19:27:07.977Z"
   },
   {
    "duration": 4,
    "start_time": "2022-11-15T19:27:08.031Z"
   },
   {
    "duration": 19,
    "start_time": "2022-11-15T19:27:08.037Z"
   },
   {
    "duration": 33,
    "start_time": "2022-11-15T19:27:08.058Z"
   },
   {
    "duration": 8,
    "start_time": "2022-11-15T19:27:08.093Z"
   },
   {
    "duration": 11,
    "start_time": "2022-11-15T19:27:08.121Z"
   },
   {
    "duration": 28,
    "start_time": "2022-11-15T19:27:08.135Z"
   },
   {
    "duration": 31,
    "start_time": "2022-11-15T19:27:08.167Z"
   },
   {
    "duration": 46,
    "start_time": "2022-11-15T19:27:08.199Z"
   },
   {
    "duration": 6,
    "start_time": "2022-11-15T19:27:08.247Z"
   },
   {
    "duration": 114,
    "start_time": "2022-11-15T19:27:08.255Z"
   },
   {
    "duration": 12,
    "start_time": "2022-11-15T19:27:08.371Z"
   },
   {
    "duration": 6,
    "start_time": "2022-11-15T19:27:08.386Z"
   },
   {
    "duration": 28,
    "start_time": "2022-11-15T19:27:08.394Z"
   },
   {
    "duration": 106,
    "start_time": "2022-11-15T19:27:08.424Z"
   },
   {
    "duration": 73,
    "start_time": "2022-11-15T19:27:08.532Z"
   },
   {
    "duration": 15,
    "start_time": "2022-11-15T19:27:08.607Z"
   },
   {
    "duration": 102,
    "start_time": "2022-11-15T19:27:08.625Z"
   },
   {
    "duration": 30,
    "start_time": "2022-11-15T19:27:08.729Z"
   },
   {
    "duration": 196,
    "start_time": "2022-11-15T19:27:08.761Z"
   },
   {
    "duration": 266,
    "start_time": "2022-11-15T19:27:08.959Z"
   },
   {
    "duration": 3,
    "start_time": "2022-11-15T19:27:09.228Z"
   },
   {
    "duration": 23,
    "start_time": "2022-11-15T19:27:09.233Z"
   },
   {
    "duration": 21,
    "start_time": "2022-11-15T19:27:09.258Z"
   },
   {
    "duration": 58,
    "start_time": "2022-11-15T19:27:09.281Z"
   },
   {
    "duration": 584,
    "start_time": "2022-11-15T19:27:09.342Z"
   },
   {
    "duration": 6,
    "start_time": "2022-11-15T19:27:09.928Z"
   },
   {
    "duration": 11,
    "start_time": "2022-11-15T19:27:09.936Z"
   },
   {
    "duration": 9,
    "start_time": "2022-11-15T19:52:26.117Z"
   },
   {
    "duration": 8,
    "start_time": "2022-11-15T19:52:28.837Z"
   },
   {
    "duration": 31,
    "start_time": "2022-11-15T19:53:00.622Z"
   },
   {
    "duration": 8,
    "start_time": "2022-11-15T19:53:31.364Z"
   },
   {
    "duration": 8,
    "start_time": "2022-11-15T19:55:20.832Z"
   },
   {
    "duration": 70,
    "start_time": "2022-11-15T20:01:47.923Z"
   },
   {
    "duration": 9,
    "start_time": "2022-11-15T20:02:18.488Z"
   },
   {
    "duration": 9,
    "start_time": "2022-11-15T20:02:24.546Z"
   },
   {
    "duration": 32,
    "start_time": "2022-11-15T20:02:39.623Z"
   },
   {
    "duration": 626,
    "start_time": "2022-11-15T20:02:52.837Z"
   },
   {
    "duration": 108,
    "start_time": "2022-11-15T20:02:53.465Z"
   },
   {
    "duration": 21,
    "start_time": "2022-11-15T20:02:53.574Z"
   },
   {
    "duration": 6,
    "start_time": "2022-11-15T20:02:53.597Z"
   },
   {
    "duration": 12,
    "start_time": "2022-11-15T20:02:53.604Z"
   },
   {
    "duration": 30,
    "start_time": "2022-11-15T20:02:53.618Z"
   },
   {
    "duration": 13,
    "start_time": "2022-11-15T20:02:53.650Z"
   },
   {
    "duration": 14,
    "start_time": "2022-11-15T20:02:53.665Z"
   },
   {
    "duration": 16,
    "start_time": "2022-11-15T20:02:53.680Z"
   },
   {
    "duration": 5,
    "start_time": "2022-11-15T20:02:53.698Z"
   },
   {
    "duration": 18,
    "start_time": "2022-11-15T20:02:53.704Z"
   },
   {
    "duration": 8,
    "start_time": "2022-11-15T20:02:53.723Z"
   },
   {
    "duration": 13,
    "start_time": "2022-11-15T20:02:53.733Z"
   },
   {
    "duration": 9,
    "start_time": "2022-11-15T20:02:53.748Z"
   },
   {
    "duration": 8,
    "start_time": "2022-11-15T20:02:53.758Z"
   },
   {
    "duration": 6,
    "start_time": "2022-11-15T20:02:53.767Z"
   },
   {
    "duration": 12,
    "start_time": "2022-11-15T20:02:53.774Z"
   },
   {
    "duration": 36,
    "start_time": "2022-11-15T20:02:53.787Z"
   },
   {
    "duration": 11,
    "start_time": "2022-11-15T20:02:53.825Z"
   },
   {
    "duration": 23,
    "start_time": "2022-11-15T20:02:53.837Z"
   },
   {
    "duration": 27,
    "start_time": "2022-11-15T20:02:53.862Z"
   },
   {
    "duration": 4,
    "start_time": "2022-11-15T20:02:53.891Z"
   },
   {
    "duration": 12,
    "start_time": "2022-11-15T20:02:53.896Z"
   },
   {
    "duration": 25,
    "start_time": "2022-11-15T20:02:53.921Z"
   },
   {
    "duration": 5,
    "start_time": "2022-11-15T20:02:53.948Z"
   },
   {
    "duration": 14,
    "start_time": "2022-11-15T20:02:53.954Z"
   },
   {
    "duration": 5,
    "start_time": "2022-11-15T20:02:53.969Z"
   },
   {
    "duration": 67,
    "start_time": "2022-11-15T20:02:53.977Z"
   },
   {
    "duration": 42,
    "start_time": "2022-11-15T20:02:54.046Z"
   },
   {
    "duration": 12,
    "start_time": "2022-11-15T20:02:54.089Z"
   },
   {
    "duration": 117,
    "start_time": "2022-11-15T20:02:54.103Z"
   },
   {
    "duration": 16,
    "start_time": "2022-11-15T20:02:54.222Z"
   },
   {
    "duration": 19,
    "start_time": "2022-11-15T20:02:54.240Z"
   },
   {
    "duration": 11,
    "start_time": "2022-11-15T20:02:54.260Z"
   },
   {
    "duration": 91,
    "start_time": "2022-11-15T20:02:54.272Z"
   },
   {
    "duration": 94,
    "start_time": "2022-11-15T20:02:54.366Z"
   },
   {
    "duration": 4,
    "start_time": "2022-11-15T20:02:54.462Z"
   },
   {
    "duration": 69,
    "start_time": "2022-11-15T20:02:54.467Z"
   },
   {
    "duration": 25,
    "start_time": "2022-11-15T20:02:54.538Z"
   },
   {
    "duration": 175,
    "start_time": "2022-11-15T20:02:54.565Z"
   },
   {
    "duration": 215,
    "start_time": "2022-11-15T20:02:54.742Z"
   },
   {
    "duration": 2,
    "start_time": "2022-11-15T20:02:54.958Z"
   },
   {
    "duration": 21,
    "start_time": "2022-11-15T20:02:54.962Z"
   },
   {
    "duration": 14,
    "start_time": "2022-11-15T20:02:54.984Z"
   },
   {
    "duration": 38,
    "start_time": "2022-11-15T20:02:54.999Z"
   },
   {
    "duration": 501,
    "start_time": "2022-11-15T20:02:55.038Z"
   },
   {
    "duration": 5,
    "start_time": "2022-11-15T20:02:55.541Z"
   },
   {
    "duration": 11,
    "start_time": "2022-11-15T20:02:55.547Z"
   },
   {
    "duration": 32,
    "start_time": "2022-11-15T20:02:55.559Z"
   },
   {
    "duration": 13,
    "start_time": "2022-11-15T20:04:14.337Z"
   },
   {
    "duration": 5,
    "start_time": "2022-11-15T20:07:27.677Z"
   },
   {
    "duration": 6,
    "start_time": "2022-11-15T20:07:43.435Z"
   },
   {
    "duration": 72,
    "start_time": "2022-11-15T20:09:05.125Z"
   },
   {
    "duration": 5,
    "start_time": "2022-11-15T20:09:13.644Z"
   },
   {
    "duration": 10,
    "start_time": "2022-11-15T20:11:22.320Z"
   },
   {
    "duration": 5,
    "start_time": "2022-11-15T20:17:03.748Z"
   },
   {
    "duration": 4,
    "start_time": "2022-11-15T20:17:22.716Z"
   },
   {
    "duration": 5,
    "start_time": "2022-11-15T20:18:09.062Z"
   },
   {
    "duration": 6,
    "start_time": "2022-11-15T20:18:12.124Z"
   },
   {
    "duration": 5,
    "start_time": "2022-11-15T20:18:35.743Z"
   },
   {
    "duration": 5,
    "start_time": "2022-11-15T20:18:42.766Z"
   },
   {
    "duration": 5,
    "start_time": "2022-11-15T20:22:48.537Z"
   },
   {
    "duration": 41,
    "start_time": "2022-11-16T09:58:55.200Z"
   },
   {
    "duration": 698,
    "start_time": "2022-11-16T09:58:59.521Z"
   },
   {
    "duration": 306,
    "start_time": "2022-11-16T09:59:00.222Z"
   },
   {
    "duration": 18,
    "start_time": "2022-11-16T09:59:00.529Z"
   },
   {
    "duration": 10,
    "start_time": "2022-11-16T09:59:00.549Z"
   },
   {
    "duration": 19,
    "start_time": "2022-11-16T09:59:00.560Z"
   },
   {
    "duration": 32,
    "start_time": "2022-11-16T09:59:00.580Z"
   },
   {
    "duration": 27,
    "start_time": "2022-11-16T09:59:00.613Z"
   },
   {
    "duration": 23,
    "start_time": "2022-11-16T09:59:00.642Z"
   },
   {
    "duration": 19,
    "start_time": "2022-11-16T09:59:00.667Z"
   },
   {
    "duration": 18,
    "start_time": "2022-11-16T09:59:00.688Z"
   },
   {
    "duration": 25,
    "start_time": "2022-11-16T09:59:00.707Z"
   },
   {
    "duration": 13,
    "start_time": "2022-11-16T09:59:00.733Z"
   },
   {
    "duration": 9,
    "start_time": "2022-11-16T09:59:00.748Z"
   },
   {
    "duration": 10,
    "start_time": "2022-11-16T09:59:00.759Z"
   },
   {
    "duration": 18,
    "start_time": "2022-11-16T09:59:00.771Z"
   },
   {
    "duration": 16,
    "start_time": "2022-11-16T09:59:00.791Z"
   },
   {
    "duration": 14,
    "start_time": "2022-11-16T09:59:00.809Z"
   },
   {
    "duration": 18,
    "start_time": "2022-11-16T09:59:00.824Z"
   },
   {
    "duration": 8,
    "start_time": "2022-11-16T09:59:00.843Z"
   },
   {
    "duration": 13,
    "start_time": "2022-11-16T09:59:00.852Z"
   },
   {
    "duration": 32,
    "start_time": "2022-11-16T09:59:00.866Z"
   },
   {
    "duration": 6,
    "start_time": "2022-11-16T09:59:00.899Z"
   },
   {
    "duration": 19,
    "start_time": "2022-11-16T09:59:00.906Z"
   },
   {
    "duration": 36,
    "start_time": "2022-11-16T09:59:00.927Z"
   },
   {
    "duration": 44,
    "start_time": "2022-11-16T09:59:00.965Z"
   },
   {
    "duration": 52,
    "start_time": "2022-11-16T09:59:01.011Z"
   },
   {
    "duration": 28,
    "start_time": "2022-11-16T09:59:01.064Z"
   },
   {
    "duration": 45,
    "start_time": "2022-11-16T09:59:01.095Z"
   },
   {
    "duration": 40,
    "start_time": "2022-11-16T09:59:01.141Z"
   },
   {
    "duration": 16,
    "start_time": "2022-11-16T09:59:01.183Z"
   },
   {
    "duration": 136,
    "start_time": "2022-11-16T09:59:01.201Z"
   },
   {
    "duration": 14,
    "start_time": "2022-11-16T09:59:01.338Z"
   },
   {
    "duration": 44,
    "start_time": "2022-11-16T09:59:01.354Z"
   },
   {
    "duration": 20,
    "start_time": "2022-11-16T09:59:01.399Z"
   },
   {
    "duration": 91,
    "start_time": "2022-11-16T09:59:01.421Z"
   },
   {
    "duration": 70,
    "start_time": "2022-11-16T09:59:01.514Z"
   },
   {
    "duration": 4,
    "start_time": "2022-11-16T09:59:01.585Z"
   },
   {
    "duration": 81,
    "start_time": "2022-11-16T09:59:01.590Z"
   },
   {
    "duration": 36,
    "start_time": "2022-11-16T09:59:01.672Z"
   },
   {
    "duration": 142,
    "start_time": "2022-11-16T09:59:01.709Z"
   },
   {
    "duration": 202,
    "start_time": "2022-11-16T09:59:01.852Z"
   },
   {
    "duration": 2,
    "start_time": "2022-11-16T09:59:02.055Z"
   },
   {
    "duration": 40,
    "start_time": "2022-11-16T09:59:02.058Z"
   },
   {
    "duration": 21,
    "start_time": "2022-11-16T09:59:02.099Z"
   },
   {
    "duration": 24,
    "start_time": "2022-11-16T09:59:02.121Z"
   },
   {
    "duration": 458,
    "start_time": "2022-11-16T09:59:02.146Z"
   },
   {
    "duration": 5,
    "start_time": "2022-11-16T09:59:02.605Z"
   },
   {
    "duration": 17,
    "start_time": "2022-11-16T09:59:02.611Z"
   },
   {
    "duration": 30,
    "start_time": "2022-11-16T09:59:02.630Z"
   },
   {
    "duration": 23,
    "start_time": "2022-11-16T09:59:02.661Z"
   },
   {
    "duration": 5,
    "start_time": "2022-11-16T09:59:20.131Z"
   },
   {
    "duration": 28,
    "start_time": "2022-11-16T10:00:11.597Z"
   },
   {
    "duration": 61,
    "start_time": "2022-11-16T10:01:09.740Z"
   },
   {
    "duration": 4,
    "start_time": "2022-11-16T10:01:33.038Z"
   },
   {
    "duration": 5,
    "start_time": "2022-11-16T10:06:16.850Z"
   },
   {
    "duration": 6,
    "start_time": "2022-11-16T10:06:21.602Z"
   },
   {
    "duration": 8,
    "start_time": "2022-11-16T10:06:24.353Z"
   },
   {
    "duration": 4,
    "start_time": "2022-11-16T10:06:41.138Z"
   },
   {
    "duration": 3,
    "start_time": "2022-11-16T10:06:54.418Z"
   },
   {
    "duration": 4,
    "start_time": "2022-11-16T10:06:57.938Z"
   },
   {
    "duration": 8,
    "start_time": "2022-11-16T10:07:02.094Z"
   },
   {
    "duration": 7,
    "start_time": "2022-11-16T10:07:04.419Z"
   },
   {
    "duration": 4,
    "start_time": "2022-11-16T10:07:14.033Z"
   },
   {
    "duration": 65,
    "start_time": "2022-11-16T10:08:02.725Z"
   },
   {
    "duration": 3,
    "start_time": "2022-11-16T10:08:08.163Z"
   },
   {
    "duration": 74,
    "start_time": "2022-11-16T10:08:55.025Z"
   },
   {
    "duration": 3,
    "start_time": "2022-11-16T10:09:20.694Z"
   },
   {
    "duration": 14,
    "start_time": "2022-11-16T10:22:06.504Z"
   },
   {
    "duration": 19,
    "start_time": "2022-11-16T10:23:06.057Z"
   },
   {
    "duration": 12,
    "start_time": "2022-11-16T10:27:11.029Z"
   },
   {
    "duration": 17,
    "start_time": "2022-11-16T10:28:50.967Z"
   },
   {
    "duration": 143,
    "start_time": "2022-11-16T10:38:28.109Z"
   },
   {
    "duration": 143,
    "start_time": "2022-11-16T10:38:33.813Z"
   },
   {
    "duration": 143,
    "start_time": "2022-11-16T10:38:42.238Z"
   },
   {
    "duration": 6,
    "start_time": "2022-11-16T10:39:24.940Z"
   },
   {
    "duration": 146,
    "start_time": "2022-11-16T10:40:34.903Z"
   },
   {
    "duration": 522,
    "start_time": "2022-11-16T10:41:46.496Z"
   },
   {
    "duration": 98,
    "start_time": "2022-11-16T10:41:47.019Z"
   },
   {
    "duration": 18,
    "start_time": "2022-11-16T10:41:47.118Z"
   },
   {
    "duration": 5,
    "start_time": "2022-11-16T10:41:47.137Z"
   },
   {
    "duration": 10,
    "start_time": "2022-11-16T10:41:47.143Z"
   },
   {
    "duration": 8,
    "start_time": "2022-11-16T10:41:47.154Z"
   },
   {
    "duration": 14,
    "start_time": "2022-11-16T10:41:47.163Z"
   },
   {
    "duration": 12,
    "start_time": "2022-11-16T10:41:47.178Z"
   },
   {
    "duration": 14,
    "start_time": "2022-11-16T10:41:47.191Z"
   },
   {
    "duration": 4,
    "start_time": "2022-11-16T10:41:47.207Z"
   },
   {
    "duration": 14,
    "start_time": "2022-11-16T10:41:47.212Z"
   },
   {
    "duration": 5,
    "start_time": "2022-11-16T10:41:47.227Z"
   },
   {
    "duration": 20,
    "start_time": "2022-11-16T10:41:47.233Z"
   },
   {
    "duration": 10,
    "start_time": "2022-11-16T10:41:47.254Z"
   },
   {
    "duration": 6,
    "start_time": "2022-11-16T10:41:47.265Z"
   },
   {
    "duration": 6,
    "start_time": "2022-11-16T10:41:47.273Z"
   },
   {
    "duration": 10,
    "start_time": "2022-11-16T10:41:47.280Z"
   },
   {
    "duration": 18,
    "start_time": "2022-11-16T10:41:47.291Z"
   },
   {
    "duration": 6,
    "start_time": "2022-11-16T10:41:47.310Z"
   },
   {
    "duration": 9,
    "start_time": "2022-11-16T10:41:47.317Z"
   },
   {
    "duration": 19,
    "start_time": "2022-11-16T10:41:47.352Z"
   },
   {
    "duration": 3,
    "start_time": "2022-11-16T10:41:47.373Z"
   },
   {
    "duration": 8,
    "start_time": "2022-11-16T10:41:47.377Z"
   },
   {
    "duration": 15,
    "start_time": "2022-11-16T10:41:47.387Z"
   },
   {
    "duration": 4,
    "start_time": "2022-11-16T10:41:47.404Z"
   },
   {
    "duration": 11,
    "start_time": "2022-11-16T10:41:47.409Z"
   },
   {
    "duration": 6,
    "start_time": "2022-11-16T10:41:47.421Z"
   },
   {
    "duration": 26,
    "start_time": "2022-11-16T10:41:47.453Z"
   },
   {
    "duration": 23,
    "start_time": "2022-11-16T10:41:47.480Z"
   },
   {
    "duration": 3,
    "start_time": "2022-11-16T10:41:47.504Z"
   },
   {
    "duration": 105,
    "start_time": "2022-11-16T10:41:47.508Z"
   },
   {
    "duration": 10,
    "start_time": "2022-11-16T10:41:47.614Z"
   },
   {
    "duration": 11,
    "start_time": "2022-11-16T10:41:47.626Z"
   },
   {
    "duration": 5,
    "start_time": "2022-11-16T10:41:47.638Z"
   },
   {
    "duration": 63,
    "start_time": "2022-11-16T10:41:47.652Z"
   },
   {
    "duration": 69,
    "start_time": "2022-11-16T10:41:47.716Z"
   },
   {
    "duration": 3,
    "start_time": "2022-11-16T10:41:47.787Z"
   },
   {
    "duration": 66,
    "start_time": "2022-11-16T10:41:47.792Z"
   },
   {
    "duration": 20,
    "start_time": "2022-11-16T10:41:47.860Z"
   },
   {
    "duration": 148,
    "start_time": "2022-11-16T10:41:47.882Z"
   },
   {
    "duration": 187,
    "start_time": "2022-11-16T10:41:48.032Z"
   },
   {
    "duration": 2,
    "start_time": "2022-11-16T10:41:48.220Z"
   },
   {
    "duration": 20,
    "start_time": "2022-11-16T10:41:48.224Z"
   },
   {
    "duration": 12,
    "start_time": "2022-11-16T10:41:48.252Z"
   },
   {
    "duration": 13,
    "start_time": "2022-11-16T10:41:48.266Z"
   },
   {
    "duration": 422,
    "start_time": "2022-11-16T10:41:48.280Z"
   },
   {
    "duration": 5,
    "start_time": "2022-11-16T10:41:48.704Z"
   },
   {
    "duration": 10,
    "start_time": "2022-11-16T10:41:48.710Z"
   },
   {
    "duration": 165,
    "start_time": "2022-11-16T10:41:48.721Z"
   },
   {
    "duration": 26,
    "start_time": "2022-11-16T10:41:48.888Z"
   },
   {
    "duration": 8,
    "start_time": "2022-11-16T10:41:48.916Z"
   },
   {
    "duration": 9,
    "start_time": "2022-11-16T10:41:48.926Z"
   },
   {
    "duration": 26,
    "start_time": "2022-11-16T10:41:48.936Z"
   },
   {
    "duration": 102,
    "start_time": "2022-11-16T10:45:33.572Z"
   },
   {
    "duration": 6,
    "start_time": "2022-11-16T10:47:43.444Z"
   },
   {
    "duration": 148,
    "start_time": "2022-11-16T10:51:25.274Z"
   },
   {
    "duration": 6,
    "start_time": "2022-11-16T10:56:29.604Z"
   },
   {
    "duration": 134,
    "start_time": "2022-11-16T10:59:03.352Z"
   },
   {
    "duration": 191,
    "start_time": "2022-11-16T11:01:09.162Z"
   },
   {
    "duration": 8,
    "start_time": "2022-11-16T11:03:43.741Z"
   },
   {
    "duration": 6,
    "start_time": "2022-11-16T11:03:57.121Z"
   },
   {
    "duration": 147,
    "start_time": "2022-11-16T11:04:01.069Z"
   },
   {
    "duration": 100,
    "start_time": "2022-11-16T11:24:27.539Z"
   },
   {
    "duration": 6,
    "start_time": "2022-11-16T11:29:59.791Z"
   },
   {
    "duration": 49,
    "start_time": "2022-11-16T19:44:04.945Z"
   },
   {
    "duration": 779,
    "start_time": "2022-11-16T19:44:09.827Z"
   },
   {
    "duration": 310,
    "start_time": "2022-11-16T19:44:10.608Z"
   },
   {
    "duration": 21,
    "start_time": "2022-11-16T19:44:10.920Z"
   },
   {
    "duration": 6,
    "start_time": "2022-11-16T19:44:10.943Z"
   },
   {
    "duration": 18,
    "start_time": "2022-11-16T19:44:10.951Z"
   },
   {
    "duration": 15,
    "start_time": "2022-11-16T19:44:10.971Z"
   },
   {
    "duration": 21,
    "start_time": "2022-11-16T19:44:10.988Z"
   },
   {
    "duration": 19,
    "start_time": "2022-11-16T19:44:11.011Z"
   },
   {
    "duration": 28,
    "start_time": "2022-11-16T19:44:11.032Z"
   },
   {
    "duration": 6,
    "start_time": "2022-11-16T19:44:11.063Z"
   },
   {
    "duration": 9,
    "start_time": "2022-11-16T19:44:11.071Z"
   },
   {
    "duration": 5,
    "start_time": "2022-11-16T19:44:11.082Z"
   },
   {
    "duration": 14,
    "start_time": "2022-11-16T19:44:11.089Z"
   },
   {
    "duration": 6,
    "start_time": "2022-11-16T19:44:11.105Z"
   },
   {
    "duration": 7,
    "start_time": "2022-11-16T19:44:11.113Z"
   },
   {
    "duration": 35,
    "start_time": "2022-11-16T19:44:11.122Z"
   },
   {
    "duration": 21,
    "start_time": "2022-11-16T19:44:11.158Z"
   },
   {
    "duration": 11,
    "start_time": "2022-11-16T19:44:11.181Z"
   },
   {
    "duration": 24,
    "start_time": "2022-11-16T19:44:11.194Z"
   },
   {
    "duration": 32,
    "start_time": "2022-11-16T19:44:11.220Z"
   },
   {
    "duration": 10,
    "start_time": "2022-11-16T19:44:11.254Z"
   },
   {
    "duration": 19,
    "start_time": "2022-11-16T19:44:11.265Z"
   },
   {
    "duration": 5,
    "start_time": "2022-11-16T19:44:11.285Z"
   },
   {
    "duration": 11,
    "start_time": "2022-11-16T19:44:11.292Z"
   },
   {
    "duration": 9,
    "start_time": "2022-11-16T19:44:11.305Z"
   },
   {
    "duration": 53,
    "start_time": "2022-11-16T19:44:11.315Z"
   },
   {
    "duration": 26,
    "start_time": "2022-11-16T19:44:11.369Z"
   },
   {
    "duration": 10,
    "start_time": "2022-11-16T19:44:11.398Z"
   },
   {
    "duration": 103,
    "start_time": "2022-11-16T19:44:11.409Z"
   },
   {
    "duration": 12,
    "start_time": "2022-11-16T19:44:11.513Z"
   },
   {
    "duration": 5,
    "start_time": "2022-11-16T19:44:11.526Z"
   },
   {
    "duration": 20,
    "start_time": "2022-11-16T19:44:11.532Z"
   },
   {
    "duration": 67,
    "start_time": "2022-11-16T19:44:11.554Z"
   },
   {
    "duration": 79,
    "start_time": "2022-11-16T19:44:11.623Z"
   },
   {
    "duration": 5,
    "start_time": "2022-11-16T19:44:11.704Z"
   },
   {
    "duration": 89,
    "start_time": "2022-11-16T19:44:11.710Z"
   },
   {
    "duration": 27,
    "start_time": "2022-11-16T19:44:11.801Z"
   },
   {
    "duration": 155,
    "start_time": "2022-11-16T19:44:11.830Z"
   },
   {
    "duration": 220,
    "start_time": "2022-11-16T19:44:11.987Z"
   },
   {
    "duration": 2,
    "start_time": "2022-11-16T19:44:12.209Z"
   },
   {
    "duration": 22,
    "start_time": "2022-11-16T19:44:12.213Z"
   },
   {
    "duration": 28,
    "start_time": "2022-11-16T19:44:12.236Z"
   },
   {
    "duration": 15,
    "start_time": "2022-11-16T19:44:12.266Z"
   },
   {
    "duration": 505,
    "start_time": "2022-11-16T19:44:12.283Z"
   },
   {
    "duration": 5,
    "start_time": "2022-11-16T19:44:12.790Z"
   },
   {
    "duration": 8,
    "start_time": "2022-11-16T19:44:12.797Z"
   },
   {
    "duration": 185,
    "start_time": "2022-11-16T19:44:12.807Z"
   },
   {
    "duration": 32,
    "start_time": "2022-11-16T19:44:12.995Z"
   },
   {
    "duration": 10,
    "start_time": "2022-11-16T19:44:13.028Z"
   },
   {
    "duration": 4,
    "start_time": "2022-11-16T19:44:13.053Z"
   },
   {
    "duration": 17,
    "start_time": "2022-11-16T19:44:13.059Z"
   },
   {
    "duration": 8,
    "start_time": "2022-11-16T19:44:13.078Z"
   },
   {
    "duration": 7,
    "start_time": "2022-11-16T19:46:09.628Z"
   },
   {
    "duration": 6,
    "start_time": "2022-11-16T19:46:14.379Z"
   },
   {
    "duration": 627,
    "start_time": "2022-11-16T19:46:22.433Z"
   },
   {
    "duration": 106,
    "start_time": "2022-11-16T19:46:23.062Z"
   },
   {
    "duration": 21,
    "start_time": "2022-11-16T19:46:23.170Z"
   },
   {
    "duration": 5,
    "start_time": "2022-11-16T19:46:23.193Z"
   },
   {
    "duration": 10,
    "start_time": "2022-11-16T19:46:23.200Z"
   },
   {
    "duration": 15,
    "start_time": "2022-11-16T19:46:23.212Z"
   },
   {
    "duration": 15,
    "start_time": "2022-11-16T19:46:23.229Z"
   },
   {
    "duration": 14,
    "start_time": "2022-11-16T19:46:23.246Z"
   },
   {
    "duration": 17,
    "start_time": "2022-11-16T19:46:23.262Z"
   },
   {
    "duration": 6,
    "start_time": "2022-11-16T19:46:23.281Z"
   },
   {
    "duration": 10,
    "start_time": "2022-11-16T19:46:23.289Z"
   },
   {
    "duration": 10,
    "start_time": "2022-11-16T19:46:23.301Z"
   },
   {
    "duration": 8,
    "start_time": "2022-11-16T19:46:23.313Z"
   },
   {
    "duration": 31,
    "start_time": "2022-11-16T19:46:23.324Z"
   },
   {
    "duration": 6,
    "start_time": "2022-11-16T19:46:23.357Z"
   },
   {
    "duration": 13,
    "start_time": "2022-11-16T19:46:23.364Z"
   },
   {
    "duration": 16,
    "start_time": "2022-11-16T19:46:23.379Z"
   },
   {
    "duration": 7,
    "start_time": "2022-11-16T19:46:23.396Z"
   },
   {
    "duration": 12,
    "start_time": "2022-11-16T19:46:23.405Z"
   },
   {
    "duration": 45,
    "start_time": "2022-11-16T19:46:23.419Z"
   },
   {
    "duration": 6,
    "start_time": "2022-11-16T19:46:23.466Z"
   },
   {
    "duration": 19,
    "start_time": "2022-11-16T19:46:23.473Z"
   },
   {
    "duration": 7,
    "start_time": "2022-11-16T19:46:23.494Z"
   },
   {
    "duration": 45,
    "start_time": "2022-11-16T19:46:23.503Z"
   },
   {
    "duration": 32,
    "start_time": "2022-11-16T19:46:23.553Z"
   },
   {
    "duration": 7,
    "start_time": "2022-11-16T19:46:23.587Z"
   },
   {
    "duration": 128,
    "start_time": "2022-11-16T19:46:23.596Z"
   },
   {
    "duration": 11,
    "start_time": "2022-11-16T19:46:23.726Z"
   },
   {
    "duration": 15,
    "start_time": "2022-11-16T19:46:23.739Z"
   },
   {
    "duration": 4,
    "start_time": "2022-11-16T19:46:23.755Z"
   },
   {
    "duration": 74,
    "start_time": "2022-11-16T19:46:23.760Z"
   },
   {
    "duration": 82,
    "start_time": "2022-11-16T19:46:23.836Z"
   },
   {
    "duration": 5,
    "start_time": "2022-11-16T19:46:23.919Z"
   },
   {
    "duration": 62,
    "start_time": "2022-11-16T19:46:23.925Z"
   },
   {
    "duration": 25,
    "start_time": "2022-11-16T19:46:23.989Z"
   },
   {
    "duration": 174,
    "start_time": "2022-11-16T19:46:24.015Z"
   },
   {
    "duration": 227,
    "start_time": "2022-11-16T19:46:24.191Z"
   },
   {
    "duration": 2,
    "start_time": "2022-11-16T19:46:24.420Z"
   },
   {
    "duration": 30,
    "start_time": "2022-11-16T19:46:24.423Z"
   },
   {
    "duration": 13,
    "start_time": "2022-11-16T19:46:24.455Z"
   },
   {
    "duration": 17,
    "start_time": "2022-11-16T19:46:24.471Z"
   },
   {
    "duration": 488,
    "start_time": "2022-11-16T19:46:24.489Z"
   },
   {
    "duration": 5,
    "start_time": "2022-11-16T19:46:24.978Z"
   },
   {
    "duration": 10,
    "start_time": "2022-11-16T19:46:24.985Z"
   },
   {
    "duration": 172,
    "start_time": "2022-11-16T19:46:24.997Z"
   },
   {
    "duration": 31,
    "start_time": "2022-11-16T19:46:25.170Z"
   },
   {
    "duration": 10,
    "start_time": "2022-11-16T19:46:25.203Z"
   },
   {
    "duration": 8,
    "start_time": "2022-11-16T19:46:25.215Z"
   },
   {
    "duration": 27,
    "start_time": "2022-11-16T19:46:25.224Z"
   },
   {
    "duration": 6,
    "start_time": "2022-11-16T19:46:25.253Z"
   },
   {
    "duration": 29,
    "start_time": "2022-11-16T19:53:57.454Z"
   },
   {
    "duration": 70,
    "start_time": "2022-11-16T19:55:05.605Z"
   },
   {
    "duration": 17,
    "start_time": "2022-11-16T19:55:09.958Z"
   },
   {
    "duration": 8,
    "start_time": "2022-11-16T19:55:53.463Z"
   },
   {
    "duration": 566,
    "start_time": "2022-11-16T19:55:58.001Z"
   },
   {
    "duration": 105,
    "start_time": "2022-11-16T19:55:58.569Z"
   },
   {
    "duration": 23,
    "start_time": "2022-11-16T19:55:58.676Z"
   },
   {
    "duration": 6,
    "start_time": "2022-11-16T19:55:58.701Z"
   },
   {
    "duration": 10,
    "start_time": "2022-11-16T19:55:58.708Z"
   },
   {
    "duration": 8,
    "start_time": "2022-11-16T19:55:58.720Z"
   },
   {
    "duration": 28,
    "start_time": "2022-11-16T19:55:58.729Z"
   },
   {
    "duration": 17,
    "start_time": "2022-11-16T19:55:58.758Z"
   },
   {
    "duration": 23,
    "start_time": "2022-11-16T19:55:58.776Z"
   },
   {
    "duration": 5,
    "start_time": "2022-11-16T19:55:58.802Z"
   },
   {
    "duration": 14,
    "start_time": "2022-11-16T19:55:58.808Z"
   },
   {
    "duration": 12,
    "start_time": "2022-11-16T19:55:58.824Z"
   },
   {
    "duration": 14,
    "start_time": "2022-11-16T19:55:58.838Z"
   },
   {
    "duration": 9,
    "start_time": "2022-11-16T19:55:58.853Z"
   },
   {
    "duration": 9,
    "start_time": "2022-11-16T19:55:58.864Z"
   },
   {
    "duration": 10,
    "start_time": "2022-11-16T19:55:58.875Z"
   },
   {
    "duration": 13,
    "start_time": "2022-11-16T19:55:58.887Z"
   },
   {
    "duration": 8,
    "start_time": "2022-11-16T19:55:58.902Z"
   },
   {
    "duration": 19,
    "start_time": "2022-11-16T19:55:58.911Z"
   },
   {
    "duration": 38,
    "start_time": "2022-11-16T19:55:58.932Z"
   },
   {
    "duration": 8,
    "start_time": "2022-11-16T19:55:58.971Z"
   },
   {
    "duration": 12,
    "start_time": "2022-11-16T19:55:58.980Z"
   },
   {
    "duration": 16,
    "start_time": "2022-11-16T19:55:58.993Z"
   },
   {
    "duration": 5,
    "start_time": "2022-11-16T19:55:59.011Z"
   },
   {
    "duration": 48,
    "start_time": "2022-11-16T19:55:59.017Z"
   },
   {
    "duration": 25,
    "start_time": "2022-11-16T19:55:59.066Z"
   },
   {
    "duration": 4,
    "start_time": "2022-11-16T19:55:59.093Z"
   },
   {
    "duration": 113,
    "start_time": "2022-11-16T19:55:59.100Z"
   },
   {
    "duration": 12,
    "start_time": "2022-11-16T19:55:59.215Z"
   },
   {
    "duration": 10,
    "start_time": "2022-11-16T19:55:59.228Z"
   },
   {
    "duration": 13,
    "start_time": "2022-11-16T19:55:59.239Z"
   },
   {
    "duration": 70,
    "start_time": "2022-11-16T19:55:59.254Z"
   },
   {
    "duration": 84,
    "start_time": "2022-11-16T19:55:59.325Z"
   },
   {
    "duration": 5,
    "start_time": "2022-11-16T19:55:59.411Z"
   },
   {
    "duration": 85,
    "start_time": "2022-11-16T19:55:59.418Z"
   },
   {
    "duration": 24,
    "start_time": "2022-11-16T19:55:59.505Z"
   },
   {
    "duration": 160,
    "start_time": "2022-11-16T19:55:59.531Z"
   },
   {
    "duration": 214,
    "start_time": "2022-11-16T19:55:59.693Z"
   },
   {
    "duration": 2,
    "start_time": "2022-11-16T19:55:59.909Z"
   },
   {
    "duration": 21,
    "start_time": "2022-11-16T19:55:59.913Z"
   },
   {
    "duration": 26,
    "start_time": "2022-11-16T19:55:59.936Z"
   },
   {
    "duration": 16,
    "start_time": "2022-11-16T19:55:59.964Z"
   },
   {
    "duration": 473,
    "start_time": "2022-11-16T19:55:59.982Z"
   },
   {
    "duration": 4,
    "start_time": "2022-11-16T19:56:00.457Z"
   },
   {
    "duration": 31,
    "start_time": "2022-11-16T19:56:00.463Z"
   },
   {
    "duration": 180,
    "start_time": "2022-11-16T19:56:00.496Z"
   },
   {
    "duration": 32,
    "start_time": "2022-11-16T19:56:00.678Z"
   },
   {
    "duration": 10,
    "start_time": "2022-11-16T19:56:00.712Z"
   },
   {
    "duration": 16,
    "start_time": "2022-11-16T19:56:00.724Z"
   },
   {
    "duration": 23,
    "start_time": "2022-11-16T19:56:00.742Z"
   },
   {
    "duration": 16,
    "start_time": "2022-11-16T19:56:00.767Z"
   },
   {
    "duration": 16,
    "start_time": "2022-11-16T20:20:00.807Z"
   },
   {
    "duration": 79,
    "start_time": "2022-11-17T10:10:51.712Z"
   },
   {
    "duration": 40,
    "start_time": "2022-11-17T10:11:00.343Z"
   },
   {
    "duration": 75,
    "start_time": "2022-11-17T10:12:18.966Z"
   },
   {
    "duration": 7,
    "start_time": "2022-11-17T10:14:29.608Z"
   },
   {
    "duration": 794,
    "start_time": "2022-11-17T10:14:33.737Z"
   },
   {
    "duration": 298,
    "start_time": "2022-11-17T10:14:34.533Z"
   },
   {
    "duration": 24,
    "start_time": "2022-11-17T10:14:34.834Z"
   },
   {
    "duration": 6,
    "start_time": "2022-11-17T10:14:34.860Z"
   },
   {
    "duration": 12,
    "start_time": "2022-11-17T10:14:34.867Z"
   },
   {
    "duration": 9,
    "start_time": "2022-11-17T10:14:34.881Z"
   },
   {
    "duration": 16,
    "start_time": "2022-11-17T10:14:34.892Z"
   },
   {
    "duration": 13,
    "start_time": "2022-11-17T10:14:34.910Z"
   },
   {
    "duration": 35,
    "start_time": "2022-11-17T10:14:34.925Z"
   },
   {
    "duration": 5,
    "start_time": "2022-11-17T10:14:34.962Z"
   },
   {
    "duration": 10,
    "start_time": "2022-11-17T10:14:34.968Z"
   },
   {
    "duration": 5,
    "start_time": "2022-11-17T10:14:34.979Z"
   },
   {
    "duration": 9,
    "start_time": "2022-11-17T10:14:34.985Z"
   },
   {
    "duration": 13,
    "start_time": "2022-11-17T10:14:34.995Z"
   },
   {
    "duration": 9,
    "start_time": "2022-11-17T10:14:35.010Z"
   },
   {
    "duration": 32,
    "start_time": "2022-11-17T10:14:35.021Z"
   },
   {
    "duration": 11,
    "start_time": "2022-11-17T10:14:35.054Z"
   },
   {
    "duration": 8,
    "start_time": "2022-11-17T10:14:35.067Z"
   },
   {
    "duration": 15,
    "start_time": "2022-11-17T10:14:35.077Z"
   },
   {
    "duration": 17,
    "start_time": "2022-11-17T10:14:35.094Z"
   },
   {
    "duration": 7,
    "start_time": "2022-11-17T10:14:35.112Z"
   },
   {
    "duration": 8,
    "start_time": "2022-11-17T10:14:35.121Z"
   },
   {
    "duration": 36,
    "start_time": "2022-11-17T10:14:35.130Z"
   },
   {
    "duration": 26,
    "start_time": "2022-11-17T10:14:35.167Z"
   },
   {
    "duration": 114,
    "start_time": "2022-11-17T10:14:35.195Z"
   },
   {
    "duration": 11,
    "start_time": "2022-11-17T10:14:35.311Z"
   },
   {
    "duration": 4,
    "start_time": "2022-11-17T10:14:35.324Z"
   },
   {
    "duration": 81,
    "start_time": "2022-11-17T10:14:35.331Z"
   },
   {
    "duration": 0,
    "start_time": "2022-11-17T10:14:35.414Z"
   },
   {
    "duration": 0,
    "start_time": "2022-11-17T10:14:35.415Z"
   },
   {
    "duration": 0,
    "start_time": "2022-11-17T10:14:35.417Z"
   },
   {
    "duration": 0,
    "start_time": "2022-11-17T10:14:35.418Z"
   },
   {
    "duration": 0,
    "start_time": "2022-11-17T10:14:35.419Z"
   },
   {
    "duration": 0,
    "start_time": "2022-11-17T10:14:35.420Z"
   },
   {
    "duration": 0,
    "start_time": "2022-11-17T10:14:35.422Z"
   },
   {
    "duration": 0,
    "start_time": "2022-11-17T10:14:35.423Z"
   },
   {
    "duration": 0,
    "start_time": "2022-11-17T10:14:35.424Z"
   },
   {
    "duration": 0,
    "start_time": "2022-11-17T10:14:35.425Z"
   },
   {
    "duration": 0,
    "start_time": "2022-11-17T10:14:35.426Z"
   },
   {
    "duration": 0,
    "start_time": "2022-11-17T10:14:35.427Z"
   },
   {
    "duration": 0,
    "start_time": "2022-11-17T10:14:35.428Z"
   },
   {
    "duration": 0,
    "start_time": "2022-11-17T10:14:35.453Z"
   },
   {
    "duration": 0,
    "start_time": "2022-11-17T10:14:35.453Z"
   },
   {
    "duration": 0,
    "start_time": "2022-11-17T10:14:35.454Z"
   },
   {
    "duration": 0,
    "start_time": "2022-11-17T10:14:35.455Z"
   },
   {
    "duration": 0,
    "start_time": "2022-11-17T10:14:35.456Z"
   },
   {
    "duration": 0,
    "start_time": "2022-11-17T10:14:35.458Z"
   },
   {
    "duration": 588,
    "start_time": "2022-11-17T10:15:32.977Z"
   },
   {
    "duration": 102,
    "start_time": "2022-11-17T10:15:33.566Z"
   },
   {
    "duration": 22,
    "start_time": "2022-11-17T10:15:33.670Z"
   },
   {
    "duration": 10,
    "start_time": "2022-11-17T10:15:33.694Z"
   },
   {
    "duration": 11,
    "start_time": "2022-11-17T10:15:33.706Z"
   },
   {
    "duration": 14,
    "start_time": "2022-11-17T10:15:33.718Z"
   },
   {
    "duration": 16,
    "start_time": "2022-11-17T10:15:33.734Z"
   },
   {
    "duration": 14,
    "start_time": "2022-11-17T10:15:33.752Z"
   },
   {
    "duration": 17,
    "start_time": "2022-11-17T10:15:33.768Z"
   },
   {
    "duration": 5,
    "start_time": "2022-11-17T10:15:33.787Z"
   },
   {
    "duration": 11,
    "start_time": "2022-11-17T10:15:33.794Z"
   },
   {
    "duration": 4,
    "start_time": "2022-11-17T10:15:33.807Z"
   },
   {
    "duration": 8,
    "start_time": "2022-11-17T10:15:33.813Z"
   },
   {
    "duration": 32,
    "start_time": "2022-11-17T10:15:33.822Z"
   },
   {
    "duration": 8,
    "start_time": "2022-11-17T10:15:33.855Z"
   },
   {
    "duration": 14,
    "start_time": "2022-11-17T10:15:33.865Z"
   },
   {
    "duration": 14,
    "start_time": "2022-11-17T10:15:33.881Z"
   },
   {
    "duration": 6,
    "start_time": "2022-11-17T10:15:33.897Z"
   },
   {
    "duration": 12,
    "start_time": "2022-11-17T10:15:33.905Z"
   },
   {
    "duration": 58,
    "start_time": "2022-11-17T10:15:33.918Z"
   },
   {
    "duration": 8,
    "start_time": "2022-11-17T10:15:33.978Z"
   },
   {
    "duration": 6,
    "start_time": "2022-11-17T10:15:33.988Z"
   },
   {
    "duration": 16,
    "start_time": "2022-11-17T10:15:33.995Z"
   },
   {
    "duration": 42,
    "start_time": "2022-11-17T10:15:34.012Z"
   },
   {
    "duration": 109,
    "start_time": "2022-11-17T10:15:34.056Z"
   },
   {
    "duration": 11,
    "start_time": "2022-11-17T10:15:34.167Z"
   },
   {
    "duration": 6,
    "start_time": "2022-11-17T10:15:34.180Z"
   },
   {
    "duration": 89,
    "start_time": "2022-11-17T10:15:34.188Z"
   },
   {
    "duration": 0,
    "start_time": "2022-11-17T10:15:34.278Z"
   },
   {
    "duration": 1,
    "start_time": "2022-11-17T10:15:34.279Z"
   },
   {
    "duration": 0,
    "start_time": "2022-11-17T10:15:34.281Z"
   },
   {
    "duration": 0,
    "start_time": "2022-11-17T10:15:34.283Z"
   },
   {
    "duration": 0,
    "start_time": "2022-11-17T10:15:34.284Z"
   },
   {
    "duration": 0,
    "start_time": "2022-11-17T10:15:34.286Z"
   },
   {
    "duration": 0,
    "start_time": "2022-11-17T10:15:34.287Z"
   },
   {
    "duration": 0,
    "start_time": "2022-11-17T10:15:34.288Z"
   },
   {
    "duration": 0,
    "start_time": "2022-11-17T10:15:34.290Z"
   },
   {
    "duration": 0,
    "start_time": "2022-11-17T10:15:34.291Z"
   },
   {
    "duration": 0,
    "start_time": "2022-11-17T10:15:34.292Z"
   },
   {
    "duration": 0,
    "start_time": "2022-11-17T10:15:34.293Z"
   },
   {
    "duration": 0,
    "start_time": "2022-11-17T10:15:34.295Z"
   },
   {
    "duration": 0,
    "start_time": "2022-11-17T10:15:34.297Z"
   },
   {
    "duration": 0,
    "start_time": "2022-11-17T10:15:34.298Z"
   },
   {
    "duration": 0,
    "start_time": "2022-11-17T10:15:34.299Z"
   },
   {
    "duration": 0,
    "start_time": "2022-11-17T10:15:34.301Z"
   },
   {
    "duration": 1,
    "start_time": "2022-11-17T10:15:34.302Z"
   },
   {
    "duration": 0,
    "start_time": "2022-11-17T10:15:34.304Z"
   },
   {
    "duration": 300,
    "start_time": "2022-11-17T10:15:54.186Z"
   },
   {
    "duration": 284,
    "start_time": "2022-11-17T10:16:17.666Z"
   },
   {
    "duration": 285,
    "start_time": "2022-11-17T10:16:49.723Z"
   },
   {
    "duration": 1150,
    "start_time": "2022-11-17T10:17:04.298Z"
   },
   {
    "duration": 1133,
    "start_time": "2022-11-17T10:17:19.339Z"
   },
   {
    "duration": 10,
    "start_time": "2022-11-17T10:17:56.267Z"
   },
   {
    "duration": 24,
    "start_time": "2022-11-17T10:18:14.732Z"
   },
   {
    "duration": 43,
    "start_time": "2022-11-17T18:17:59.623Z"
   },
   {
    "duration": 772,
    "start_time": "2022-11-17T18:18:05.818Z"
   },
   {
    "duration": 329,
    "start_time": "2022-11-17T18:18:06.592Z"
   },
   {
    "duration": 23,
    "start_time": "2022-11-17T18:18:06.923Z"
   },
   {
    "duration": 5,
    "start_time": "2022-11-17T18:18:06.948Z"
   },
   {
    "duration": 9,
    "start_time": "2022-11-17T18:18:06.955Z"
   },
   {
    "duration": 9,
    "start_time": "2022-11-17T18:18:06.965Z"
   },
   {
    "duration": 12,
    "start_time": "2022-11-17T18:18:06.976Z"
   },
   {
    "duration": 26,
    "start_time": "2022-11-17T18:18:06.989Z"
   },
   {
    "duration": 18,
    "start_time": "2022-11-17T18:18:07.016Z"
   },
   {
    "duration": 4,
    "start_time": "2022-11-17T18:18:07.037Z"
   },
   {
    "duration": 10,
    "start_time": "2022-11-17T18:18:07.043Z"
   },
   {
    "duration": 5,
    "start_time": "2022-11-17T18:18:07.054Z"
   },
   {
    "duration": 7,
    "start_time": "2022-11-17T18:18:07.061Z"
   },
   {
    "duration": 7,
    "start_time": "2022-11-17T18:18:07.070Z"
   },
   {
    "duration": 5,
    "start_time": "2022-11-17T18:18:07.114Z"
   },
   {
    "duration": 10,
    "start_time": "2022-11-17T18:18:07.121Z"
   },
   {
    "duration": 12,
    "start_time": "2022-11-17T18:18:07.132Z"
   },
   {
    "duration": 6,
    "start_time": "2022-11-17T18:18:07.145Z"
   },
   {
    "duration": 10,
    "start_time": "2022-11-17T18:18:07.152Z"
   },
   {
    "duration": 16,
    "start_time": "2022-11-17T18:18:07.163Z"
   },
   {
    "duration": 7,
    "start_time": "2022-11-17T18:18:07.213Z"
   },
   {
    "duration": 4,
    "start_time": "2022-11-17T18:18:07.222Z"
   },
   {
    "duration": 9,
    "start_time": "2022-11-17T18:18:07.227Z"
   },
   {
    "duration": 27,
    "start_time": "2022-11-17T18:18:07.237Z"
   },
   {
    "duration": 117,
    "start_time": "2022-11-17T18:18:07.265Z"
   },
   {
    "duration": 11,
    "start_time": "2022-11-17T18:18:07.383Z"
   },
   {
    "duration": 18,
    "start_time": "2022-11-17T18:18:07.396Z"
   },
   {
    "duration": 22,
    "start_time": "2022-11-17T18:18:07.417Z"
   },
   {
    "duration": 80,
    "start_time": "2022-11-17T18:18:07.441Z"
   },
   {
    "duration": 4,
    "start_time": "2022-11-17T18:18:07.522Z"
   },
   {
    "duration": 18,
    "start_time": "2022-11-17T18:18:07.528Z"
   },
   {
    "duration": 22,
    "start_time": "2022-11-17T18:18:07.548Z"
   },
   {
    "duration": 175,
    "start_time": "2022-11-17T18:18:07.571Z"
   },
   {
    "duration": 169,
    "start_time": "2022-11-17T18:18:07.748Z"
   },
   {
    "duration": 2,
    "start_time": "2022-11-17T18:18:07.918Z"
   },
   {
    "duration": 22,
    "start_time": "2022-11-17T18:18:07.922Z"
   },
   {
    "duration": 12,
    "start_time": "2022-11-17T18:18:07.946Z"
   },
   {
    "duration": 80,
    "start_time": "2022-11-17T18:18:07.960Z"
   },
   {
    "duration": 461,
    "start_time": "2022-11-17T18:18:08.042Z"
   },
   {
    "duration": 10,
    "start_time": "2022-11-17T18:18:08.505Z"
   },
   {
    "duration": 9,
    "start_time": "2022-11-17T18:18:08.517Z"
   },
   {
    "duration": 186,
    "start_time": "2022-11-17T18:18:08.528Z"
   },
   {
    "duration": 34,
    "start_time": "2022-11-17T18:18:08.717Z"
   },
   {
    "duration": 6,
    "start_time": "2022-11-17T18:18:08.753Z"
   },
   {
    "duration": 7,
    "start_time": "2022-11-17T18:18:08.760Z"
   },
   {
    "duration": 14,
    "start_time": "2022-11-17T18:18:08.768Z"
   },
   {
    "duration": 30,
    "start_time": "2022-11-17T18:18:08.784Z"
   },
   {
    "duration": 597,
    "start_time": "2022-11-17T18:18:54.920Z"
   },
   {
    "duration": 106,
    "start_time": "2022-11-17T18:18:55.519Z"
   },
   {
    "duration": 20,
    "start_time": "2022-11-17T18:18:55.626Z"
   },
   {
    "duration": 5,
    "start_time": "2022-11-17T18:18:55.648Z"
   },
   {
    "duration": 10,
    "start_time": "2022-11-17T18:18:55.655Z"
   },
   {
    "duration": 8,
    "start_time": "2022-11-17T18:18:55.666Z"
   },
   {
    "duration": 11,
    "start_time": "2022-11-17T18:18:55.676Z"
   },
   {
    "duration": 13,
    "start_time": "2022-11-17T18:18:55.688Z"
   },
   {
    "duration": 16,
    "start_time": "2022-11-17T18:18:55.713Z"
   },
   {
    "duration": 5,
    "start_time": "2022-11-17T18:18:55.730Z"
   },
   {
    "duration": 8,
    "start_time": "2022-11-17T18:18:55.736Z"
   },
   {
    "duration": 4,
    "start_time": "2022-11-17T18:18:55.745Z"
   },
   {
    "duration": 9,
    "start_time": "2022-11-17T18:18:55.750Z"
   },
   {
    "duration": 6,
    "start_time": "2022-11-17T18:18:55.762Z"
   },
   {
    "duration": 6,
    "start_time": "2022-11-17T18:18:55.769Z"
   },
   {
    "duration": 37,
    "start_time": "2022-11-17T18:18:55.777Z"
   },
   {
    "duration": 5,
    "start_time": "2022-11-17T18:18:55.816Z"
   },
   {
    "duration": 5,
    "start_time": "2022-11-17T18:18:55.823Z"
   },
   {
    "duration": 12,
    "start_time": "2022-11-17T18:18:55.829Z"
   },
   {
    "duration": 17,
    "start_time": "2022-11-17T18:18:55.842Z"
   },
   {
    "duration": 7,
    "start_time": "2022-11-17T18:18:55.861Z"
   },
   {
    "duration": 5,
    "start_time": "2022-11-17T18:18:55.869Z"
   },
   {
    "duration": 41,
    "start_time": "2022-11-17T18:18:55.876Z"
   },
   {
    "duration": 28,
    "start_time": "2022-11-17T18:18:55.918Z"
   },
   {
    "duration": 112,
    "start_time": "2022-11-17T18:18:55.947Z"
   },
   {
    "duration": 11,
    "start_time": "2022-11-17T18:18:56.061Z"
   },
   {
    "duration": 5,
    "start_time": "2022-11-17T18:18:56.074Z"
   },
   {
    "duration": 362,
    "start_time": "2022-11-17T18:18:56.081Z"
   },
   {
    "duration": 0,
    "start_time": "2022-11-17T18:18:56.444Z"
   },
   {
    "duration": 1,
    "start_time": "2022-11-17T18:18:56.445Z"
   },
   {
    "duration": 0,
    "start_time": "2022-11-17T18:18:56.446Z"
   },
   {
    "duration": 0,
    "start_time": "2022-11-17T18:18:56.448Z"
   },
   {
    "duration": 0,
    "start_time": "2022-11-17T18:18:56.448Z"
   },
   {
    "duration": 0,
    "start_time": "2022-11-17T18:18:56.449Z"
   },
   {
    "duration": 0,
    "start_time": "2022-11-17T18:18:56.450Z"
   },
   {
    "duration": 0,
    "start_time": "2022-11-17T18:18:56.451Z"
   },
   {
    "duration": 0,
    "start_time": "2022-11-17T18:18:56.452Z"
   },
   {
    "duration": 0,
    "start_time": "2022-11-17T18:18:56.453Z"
   },
   {
    "duration": 0,
    "start_time": "2022-11-17T18:18:56.454Z"
   },
   {
    "duration": 0,
    "start_time": "2022-11-17T18:18:56.455Z"
   },
   {
    "duration": 0,
    "start_time": "2022-11-17T18:18:56.456Z"
   },
   {
    "duration": 0,
    "start_time": "2022-11-17T18:18:56.457Z"
   },
   {
    "duration": 0,
    "start_time": "2022-11-17T18:18:56.459Z"
   },
   {
    "duration": 0,
    "start_time": "2022-11-17T18:18:56.460Z"
   },
   {
    "duration": 0,
    "start_time": "2022-11-17T18:18:56.461Z"
   },
   {
    "duration": 0,
    "start_time": "2022-11-17T18:18:56.462Z"
   },
   {
    "duration": 0,
    "start_time": "2022-11-17T18:18:56.463Z"
   },
   {
    "duration": 26,
    "start_time": "2022-11-17T18:23:39.761Z"
   },
   {
    "duration": 12,
    "start_time": "2022-11-17T18:24:34.585Z"
   },
   {
    "duration": 25,
    "start_time": "2022-11-17T18:25:14.913Z"
   },
   {
    "duration": 1088,
    "start_time": "2022-11-17T18:29:41.829Z"
   },
   {
    "duration": 1541,
    "start_time": "2022-11-17T18:29:49.817Z"
   },
   {
    "duration": 23,
    "start_time": "2022-11-17T18:30:03.203Z"
   },
   {
    "duration": 587,
    "start_time": "2022-11-17T18:33:05.529Z"
   },
   {
    "duration": 109,
    "start_time": "2022-11-17T18:33:06.118Z"
   },
   {
    "duration": 20,
    "start_time": "2022-11-17T18:33:06.229Z"
   },
   {
    "duration": 5,
    "start_time": "2022-11-17T18:33:06.252Z"
   },
   {
    "duration": 9,
    "start_time": "2022-11-17T18:33:06.258Z"
   },
   {
    "duration": 9,
    "start_time": "2022-11-17T18:33:06.268Z"
   },
   {
    "duration": 12,
    "start_time": "2022-11-17T18:33:06.278Z"
   },
   {
    "duration": 26,
    "start_time": "2022-11-17T18:33:06.291Z"
   },
   {
    "duration": 15,
    "start_time": "2022-11-17T18:33:06.319Z"
   },
   {
    "duration": 5,
    "start_time": "2022-11-17T18:33:06.336Z"
   },
   {
    "duration": 9,
    "start_time": "2022-11-17T18:33:06.342Z"
   },
   {
    "duration": 4,
    "start_time": "2022-11-17T18:33:06.352Z"
   },
   {
    "duration": 7,
    "start_time": "2022-11-17T18:33:06.357Z"
   },
   {
    "duration": 6,
    "start_time": "2022-11-17T18:33:06.366Z"
   },
   {
    "duration": 6,
    "start_time": "2022-11-17T18:33:06.373Z"
   },
   {
    "duration": 37,
    "start_time": "2022-11-17T18:33:06.380Z"
   },
   {
    "duration": 12,
    "start_time": "2022-11-17T18:33:06.418Z"
   },
   {
    "duration": 6,
    "start_time": "2022-11-17T18:33:06.431Z"
   },
   {
    "duration": 9,
    "start_time": "2022-11-17T18:33:06.439Z"
   },
   {
    "duration": 18,
    "start_time": "2022-11-17T18:33:06.450Z"
   },
   {
    "duration": 7,
    "start_time": "2022-11-17T18:33:06.469Z"
   },
   {
    "duration": 38,
    "start_time": "2022-11-17T18:33:06.478Z"
   },
   {
    "duration": 11,
    "start_time": "2022-11-17T18:33:06.518Z"
   },
   {
    "duration": 26,
    "start_time": "2022-11-17T18:33:06.531Z"
   },
   {
    "duration": 116,
    "start_time": "2022-11-17T18:33:06.558Z"
   },
   {
    "duration": 12,
    "start_time": "2022-11-17T18:33:06.675Z"
   },
   {
    "duration": 12,
    "start_time": "2022-11-17T18:33:06.689Z"
   },
   {
    "duration": 22,
    "start_time": "2022-11-17T18:33:06.715Z"
   },
   {
    "duration": 27,
    "start_time": "2022-11-17T18:33:06.738Z"
   },
   {
    "duration": 4,
    "start_time": "2022-11-17T18:33:06.766Z"
   },
   {
    "duration": 43,
    "start_time": "2022-11-17T18:33:06.772Z"
   },
   {
    "duration": 71,
    "start_time": "2022-11-17T18:33:06.817Z"
   },
   {
    "duration": 5,
    "start_time": "2022-11-17T18:33:06.890Z"
   },
   {
    "duration": 19,
    "start_time": "2022-11-17T18:33:06.912Z"
   },
   {
    "duration": 28,
    "start_time": "2022-11-17T18:33:06.934Z"
   },
   {
    "duration": 189,
    "start_time": "2022-11-17T18:33:06.963Z"
   },
   {
    "duration": 164,
    "start_time": "2022-11-17T18:33:07.154Z"
   },
   {
    "duration": 3,
    "start_time": "2022-11-17T18:33:07.320Z"
   },
   {
    "duration": 19,
    "start_time": "2022-11-17T18:33:07.325Z"
   },
   {
    "duration": 12,
    "start_time": "2022-11-17T18:33:07.346Z"
   },
   {
    "duration": 82,
    "start_time": "2022-11-17T18:33:07.360Z"
   },
   {
    "duration": 458,
    "start_time": "2022-11-17T18:33:07.444Z"
   },
   {
    "duration": 11,
    "start_time": "2022-11-17T18:33:07.904Z"
   },
   {
    "duration": 9,
    "start_time": "2022-11-17T18:33:07.916Z"
   },
   {
    "duration": 186,
    "start_time": "2022-11-17T18:33:07.927Z"
   },
   {
    "duration": 30,
    "start_time": "2022-11-17T18:33:08.115Z"
   },
   {
    "duration": 3,
    "start_time": "2022-11-17T18:33:08.146Z"
   },
   {
    "duration": 5,
    "start_time": "2022-11-17T18:33:08.151Z"
   },
   {
    "duration": 14,
    "start_time": "2022-11-17T18:33:08.158Z"
   },
   {
    "duration": 5,
    "start_time": "2022-11-17T18:33:08.174Z"
   },
   {
    "duration": 9,
    "start_time": "2022-11-17T18:35:55.936Z"
   },
   {
    "duration": 10,
    "start_time": "2022-11-17T18:37:15.167Z"
   },
   {
    "duration": 10,
    "start_time": "2022-11-17T18:38:28.372Z"
   },
   {
    "duration": 23,
    "start_time": "2022-11-17T19:24:49.403Z"
   },
   {
    "duration": 176,
    "start_time": "2022-11-17T20:04:32.163Z"
   },
   {
    "duration": 161,
    "start_time": "2022-11-17T20:04:48.699Z"
   },
   {
    "duration": 160,
    "start_time": "2022-11-17T20:04:59.443Z"
   },
   {
    "duration": 172,
    "start_time": "2022-11-17T20:05:20.907Z"
   },
   {
    "duration": 158,
    "start_time": "2022-11-17T20:05:35.244Z"
   },
   {
    "duration": 158,
    "start_time": "2022-11-17T20:06:39.815Z"
   },
   {
    "duration": 155,
    "start_time": "2022-11-17T20:06:48.097Z"
   },
   {
    "duration": 152,
    "start_time": "2022-11-17T20:06:51.669Z"
   },
   {
    "duration": 157,
    "start_time": "2022-11-17T20:08:31.519Z"
   },
   {
    "duration": 219,
    "start_time": "2022-11-17T20:09:19.535Z"
   },
   {
    "duration": 155,
    "start_time": "2022-11-17T20:09:25.399Z"
   },
   {
    "duration": 153,
    "start_time": "2022-11-17T20:09:36.297Z"
   },
   {
    "duration": 163,
    "start_time": "2022-11-17T20:09:40.997Z"
   },
   {
    "duration": 159,
    "start_time": "2022-11-17T20:10:40.904Z"
   },
   {
    "duration": 161,
    "start_time": "2022-11-17T20:10:44.848Z"
   },
   {
    "duration": 164,
    "start_time": "2022-11-17T20:11:13.819Z"
   },
   {
    "duration": 172,
    "start_time": "2022-11-17T20:11:23.656Z"
   },
   {
    "duration": 150,
    "start_time": "2022-11-17T20:13:59.823Z"
   },
   {
    "duration": 159,
    "start_time": "2022-11-17T20:14:02.564Z"
   },
   {
    "duration": 610,
    "start_time": "2022-11-17T20:14:08.994Z"
   },
   {
    "duration": 105,
    "start_time": "2022-11-17T20:14:09.606Z"
   },
   {
    "duration": 18,
    "start_time": "2022-11-17T20:14:09.713Z"
   },
   {
    "duration": 5,
    "start_time": "2022-11-17T20:14:09.733Z"
   },
   {
    "duration": 7,
    "start_time": "2022-11-17T20:14:09.740Z"
   },
   {
    "duration": 8,
    "start_time": "2022-11-17T20:14:09.749Z"
   },
   {
    "duration": 16,
    "start_time": "2022-11-17T20:14:09.759Z"
   },
   {
    "duration": 14,
    "start_time": "2022-11-17T20:14:09.776Z"
   },
   {
    "duration": 35,
    "start_time": "2022-11-17T20:14:09.791Z"
   },
   {
    "duration": 4,
    "start_time": "2022-11-17T20:14:09.827Z"
   },
   {
    "duration": 8,
    "start_time": "2022-11-17T20:14:09.833Z"
   },
   {
    "duration": 4,
    "start_time": "2022-11-17T20:14:09.842Z"
   },
   {
    "duration": 6,
    "start_time": "2022-11-17T20:14:09.848Z"
   },
   {
    "duration": 8,
    "start_time": "2022-11-17T20:14:09.857Z"
   },
   {
    "duration": 6,
    "start_time": "2022-11-17T20:14:09.866Z"
   },
   {
    "duration": 40,
    "start_time": "2022-11-17T20:14:09.874Z"
   },
   {
    "duration": 12,
    "start_time": "2022-11-17T20:14:09.915Z"
   },
   {
    "duration": 6,
    "start_time": "2022-11-17T20:14:09.928Z"
   },
   {
    "duration": 11,
    "start_time": "2022-11-17T20:14:09.935Z"
   },
   {
    "duration": 19,
    "start_time": "2022-11-17T20:14:09.947Z"
   },
   {
    "duration": 7,
    "start_time": "2022-11-17T20:14:09.967Z"
   },
   {
    "duration": 6,
    "start_time": "2022-11-17T20:14:09.975Z"
   },
   {
    "duration": 37,
    "start_time": "2022-11-17T20:14:09.982Z"
   },
   {
    "duration": 29,
    "start_time": "2022-11-17T20:14:10.020Z"
   },
   {
    "duration": 112,
    "start_time": "2022-11-17T20:14:10.050Z"
   },
   {
    "duration": 10,
    "start_time": "2022-11-17T20:14:10.164Z"
   },
   {
    "duration": 10,
    "start_time": "2022-11-17T20:14:10.176Z"
   },
   {
    "duration": 38,
    "start_time": "2022-11-17T20:14:10.188Z"
   },
   {
    "duration": 38,
    "start_time": "2022-11-17T20:14:10.228Z"
   },
   {
    "duration": 4,
    "start_time": "2022-11-17T20:14:10.268Z"
   },
   {
    "duration": 12,
    "start_time": "2022-11-17T20:14:10.274Z"
   },
   {
    "duration": 23,
    "start_time": "2022-11-17T20:14:10.290Z"
   },
   {
    "duration": 23,
    "start_time": "2022-11-17T20:14:10.314Z"
   },
   {
    "duration": 30,
    "start_time": "2022-11-17T20:14:10.339Z"
   },
   {
    "duration": 176,
    "start_time": "2022-11-17T20:14:10.371Z"
   },
   {
    "duration": 166,
    "start_time": "2022-11-17T20:14:10.548Z"
   },
   {
    "duration": 17,
    "start_time": "2022-11-17T20:14:10.716Z"
   },
   {
    "duration": 13,
    "start_time": "2022-11-17T20:14:10.734Z"
   },
   {
    "duration": 15,
    "start_time": "2022-11-17T20:14:10.749Z"
   },
   {
    "duration": 472,
    "start_time": "2022-11-17T20:14:10.765Z"
   },
   {
    "duration": 5,
    "start_time": "2022-11-17T20:14:11.240Z"
   },
   {
    "duration": 10,
    "start_time": "2022-11-17T20:14:11.246Z"
   },
   {
    "duration": 224,
    "start_time": "2022-11-17T20:14:11.258Z"
   },
   {
    "duration": 41,
    "start_time": "2022-11-17T20:14:11.484Z"
   },
   {
    "duration": 4,
    "start_time": "2022-11-17T20:14:11.526Z"
   },
   {
    "duration": 16,
    "start_time": "2022-11-17T20:14:11.531Z"
   },
   {
    "duration": 16,
    "start_time": "2022-11-17T20:14:11.549Z"
   },
   {
    "duration": 9,
    "start_time": "2022-11-17T20:14:11.566Z"
   },
   {
    "duration": 162,
    "start_time": "2022-11-17T20:14:30.058Z"
   },
   {
    "duration": 157,
    "start_time": "2022-11-17T20:14:50.625Z"
   },
   {
    "duration": 560,
    "start_time": "2022-11-17T20:15:02.164Z"
   },
   {
    "duration": 105,
    "start_time": "2022-11-17T20:15:02.726Z"
   },
   {
    "duration": 21,
    "start_time": "2022-11-17T20:15:02.832Z"
   },
   {
    "duration": 6,
    "start_time": "2022-11-17T20:15:02.856Z"
   },
   {
    "duration": 8,
    "start_time": "2022-11-17T20:15:02.863Z"
   },
   {
    "duration": 10,
    "start_time": "2022-11-17T20:15:02.872Z"
   },
   {
    "duration": 11,
    "start_time": "2022-11-17T20:15:02.884Z"
   },
   {
    "duration": 26,
    "start_time": "2022-11-17T20:15:02.896Z"
   },
   {
    "duration": 17,
    "start_time": "2022-11-17T20:15:02.924Z"
   },
   {
    "duration": 5,
    "start_time": "2022-11-17T20:15:02.943Z"
   },
   {
    "duration": 11,
    "start_time": "2022-11-17T20:15:02.949Z"
   },
   {
    "duration": 4,
    "start_time": "2022-11-17T20:15:02.962Z"
   },
   {
    "duration": 7,
    "start_time": "2022-11-17T20:15:02.967Z"
   },
   {
    "duration": 8,
    "start_time": "2022-11-17T20:15:02.975Z"
   },
   {
    "duration": 28,
    "start_time": "2022-11-17T20:15:02.985Z"
   },
   {
    "duration": 12,
    "start_time": "2022-11-17T20:15:03.015Z"
   },
   {
    "duration": 11,
    "start_time": "2022-11-17T20:15:03.028Z"
   },
   {
    "duration": 5,
    "start_time": "2022-11-17T20:15:03.041Z"
   },
   {
    "duration": 13,
    "start_time": "2022-11-17T20:15:03.047Z"
   },
   {
    "duration": 17,
    "start_time": "2022-11-17T20:15:03.061Z"
   },
   {
    "duration": 6,
    "start_time": "2022-11-17T20:15:03.080Z"
   },
   {
    "duration": 7,
    "start_time": "2022-11-17T20:15:03.113Z"
   },
   {
    "duration": 8,
    "start_time": "2022-11-17T20:15:03.121Z"
   },
   {
    "duration": 24,
    "start_time": "2022-11-17T20:15:03.131Z"
   },
   {
    "duration": 113,
    "start_time": "2022-11-17T20:15:03.156Z"
   },
   {
    "duration": 11,
    "start_time": "2022-11-17T20:15:03.270Z"
   },
   {
    "duration": 13,
    "start_time": "2022-11-17T20:15:03.283Z"
   },
   {
    "duration": 27,
    "start_time": "2022-11-17T20:15:03.312Z"
   },
   {
    "duration": 22,
    "start_time": "2022-11-17T20:15:03.341Z"
   },
   {
    "duration": 7,
    "start_time": "2022-11-17T20:15:03.365Z"
   },
   {
    "duration": 10,
    "start_time": "2022-11-17T20:15:03.373Z"
   },
   {
    "duration": 5,
    "start_time": "2022-11-17T20:15:03.384Z"
   },
   {
    "duration": 38,
    "start_time": "2022-11-17T20:15:03.391Z"
   },
   {
    "duration": 25,
    "start_time": "2022-11-17T20:15:03.431Z"
   },
   {
    "duration": 177,
    "start_time": "2022-11-17T20:15:03.457Z"
   },
   {
    "duration": 171,
    "start_time": "2022-11-17T20:15:03.635Z"
   },
   {
    "duration": 17,
    "start_time": "2022-11-17T20:15:03.808Z"
   },
   {
    "duration": 11,
    "start_time": "2022-11-17T20:15:03.826Z"
   },
   {
    "duration": 14,
    "start_time": "2022-11-17T20:15:03.838Z"
   },
   {
    "duration": 466,
    "start_time": "2022-11-17T20:15:03.854Z"
   },
   {
    "duration": 4,
    "start_time": "2022-11-17T20:15:04.322Z"
   },
   {
    "duration": 8,
    "start_time": "2022-11-17T20:15:04.327Z"
   },
   {
    "duration": 229,
    "start_time": "2022-11-17T20:15:04.337Z"
   },
   {
    "duration": 32,
    "start_time": "2022-11-17T20:15:04.568Z"
   },
   {
    "duration": 4,
    "start_time": "2022-11-17T20:15:04.613Z"
   },
   {
    "duration": 15,
    "start_time": "2022-11-17T20:15:04.618Z"
   },
   {
    "duration": 14,
    "start_time": "2022-11-17T20:15:04.635Z"
   },
   {
    "duration": 6,
    "start_time": "2022-11-17T20:15:04.651Z"
   },
   {
    "duration": 157,
    "start_time": "2022-11-17T20:15:31.449Z"
   },
   {
    "duration": 160,
    "start_time": "2022-11-17T20:17:23.064Z"
   },
   {
    "duration": 614,
    "start_time": "2022-11-17T20:17:43.598Z"
   },
   {
    "duration": 117,
    "start_time": "2022-11-17T20:17:44.214Z"
   },
   {
    "duration": 24,
    "start_time": "2022-11-17T20:17:44.333Z"
   },
   {
    "duration": 13,
    "start_time": "2022-11-17T20:17:44.359Z"
   },
   {
    "duration": 15,
    "start_time": "2022-11-17T20:17:44.375Z"
   },
   {
    "duration": 11,
    "start_time": "2022-11-17T20:17:44.393Z"
   },
   {
    "duration": 16,
    "start_time": "2022-11-17T20:17:44.405Z"
   },
   {
    "duration": 16,
    "start_time": "2022-11-17T20:17:44.422Z"
   },
   {
    "duration": 24,
    "start_time": "2022-11-17T20:17:44.439Z"
   },
   {
    "duration": 5,
    "start_time": "2022-11-17T20:17:44.464Z"
   },
   {
    "duration": 14,
    "start_time": "2022-11-17T20:17:44.470Z"
   },
   {
    "duration": 5,
    "start_time": "2022-11-17T20:17:44.485Z"
   },
   {
    "duration": 26,
    "start_time": "2022-11-17T20:17:44.492Z"
   },
   {
    "duration": 7,
    "start_time": "2022-11-17T20:17:44.521Z"
   },
   {
    "duration": 7,
    "start_time": "2022-11-17T20:17:44.529Z"
   },
   {
    "duration": 12,
    "start_time": "2022-11-17T20:17:44.537Z"
   },
   {
    "duration": 13,
    "start_time": "2022-11-17T20:17:44.551Z"
   },
   {
    "duration": 6,
    "start_time": "2022-11-17T20:17:44.565Z"
   },
   {
    "duration": 45,
    "start_time": "2022-11-17T20:17:44.572Z"
   },
   {
    "duration": 20,
    "start_time": "2022-11-17T20:17:44.618Z"
   },
   {
    "duration": 9,
    "start_time": "2022-11-17T20:17:44.640Z"
   },
   {
    "duration": 15,
    "start_time": "2022-11-17T20:17:44.651Z"
   },
   {
    "duration": 20,
    "start_time": "2022-11-17T20:17:44.668Z"
   },
   {
    "duration": 42,
    "start_time": "2022-11-17T20:17:44.689Z"
   },
   {
    "duration": 105,
    "start_time": "2022-11-17T20:17:44.732Z"
   },
   {
    "duration": 10,
    "start_time": "2022-11-17T20:17:44.839Z"
   },
   {
    "duration": 12,
    "start_time": "2022-11-17T20:17:44.850Z"
   },
   {
    "duration": 20,
    "start_time": "2022-11-17T20:17:44.864Z"
   },
   {
    "duration": 40,
    "start_time": "2022-11-17T20:17:44.886Z"
   },
   {
    "duration": 7,
    "start_time": "2022-11-17T20:17:44.927Z"
   },
   {
    "duration": 10,
    "start_time": "2022-11-17T20:17:44.935Z"
   },
   {
    "duration": 5,
    "start_time": "2022-11-17T20:17:44.947Z"
   },
   {
    "duration": 17,
    "start_time": "2022-11-17T20:17:44.954Z"
   },
   {
    "duration": 52,
    "start_time": "2022-11-17T20:17:44.972Z"
   },
   {
    "duration": 164,
    "start_time": "2022-11-17T20:17:45.025Z"
   },
   {
    "duration": 168,
    "start_time": "2022-11-17T20:17:45.190Z"
   },
   {
    "duration": 19,
    "start_time": "2022-11-17T20:17:45.360Z"
   },
   {
    "duration": 13,
    "start_time": "2022-11-17T20:17:45.381Z"
   },
   {
    "duration": 33,
    "start_time": "2022-11-17T20:17:45.395Z"
   },
   {
    "duration": 459,
    "start_time": "2022-11-17T20:17:45.429Z"
   },
   {
    "duration": 4,
    "start_time": "2022-11-17T20:17:45.891Z"
   },
   {
    "duration": 19,
    "start_time": "2022-11-17T20:17:45.897Z"
   },
   {
    "duration": 218,
    "start_time": "2022-11-17T20:17:45.918Z"
   },
   {
    "duration": 27,
    "start_time": "2022-11-17T20:17:46.138Z"
   },
   {
    "duration": 4,
    "start_time": "2022-11-17T20:17:46.167Z"
   },
   {
    "duration": 7,
    "start_time": "2022-11-17T20:17:46.173Z"
   },
   {
    "duration": 13,
    "start_time": "2022-11-17T20:17:46.181Z"
   },
   {
    "duration": 21,
    "start_time": "2022-11-17T20:17:46.195Z"
   },
   {
    "duration": 11,
    "start_time": "2022-11-17T20:19:30.928Z"
   },
   {
    "duration": 560,
    "start_time": "2022-11-17T20:19:49.442Z"
   },
   {
    "duration": 106,
    "start_time": "2022-11-17T20:19:50.004Z"
   },
   {
    "duration": 20,
    "start_time": "2022-11-17T20:19:50.111Z"
   },
   {
    "duration": 5,
    "start_time": "2022-11-17T20:19:50.134Z"
   },
   {
    "duration": 7,
    "start_time": "2022-11-17T20:19:50.141Z"
   },
   {
    "duration": 9,
    "start_time": "2022-11-17T20:19:50.149Z"
   },
   {
    "duration": 13,
    "start_time": "2022-11-17T20:19:50.159Z"
   },
   {
    "duration": 45,
    "start_time": "2022-11-17T20:19:50.173Z"
   },
   {
    "duration": 20,
    "start_time": "2022-11-17T20:19:50.220Z"
   },
   {
    "duration": 6,
    "start_time": "2022-11-17T20:19:50.243Z"
   },
   {
    "duration": 14,
    "start_time": "2022-11-17T20:19:50.251Z"
   },
   {
    "duration": 9,
    "start_time": "2022-11-17T20:19:50.267Z"
   },
   {
    "duration": 18,
    "start_time": "2022-11-17T20:19:50.278Z"
   },
   {
    "duration": 24,
    "start_time": "2022-11-17T20:19:50.297Z"
   },
   {
    "duration": 25,
    "start_time": "2022-11-17T20:19:50.323Z"
   },
   {
    "duration": 19,
    "start_time": "2022-11-17T20:19:50.350Z"
   },
   {
    "duration": 14,
    "start_time": "2022-11-17T20:19:50.371Z"
   },
   {
    "duration": 7,
    "start_time": "2022-11-17T20:19:50.387Z"
   },
   {
    "duration": 23,
    "start_time": "2022-11-17T20:19:50.396Z"
   },
   {
    "duration": 20,
    "start_time": "2022-11-17T20:19:50.421Z"
   },
   {
    "duration": 6,
    "start_time": "2022-11-17T20:19:50.443Z"
   },
   {
    "duration": 4,
    "start_time": "2022-11-17T20:19:50.451Z"
   },
   {
    "duration": 9,
    "start_time": "2022-11-17T20:19:50.457Z"
   },
   {
    "duration": 47,
    "start_time": "2022-11-17T20:19:50.467Z"
   },
   {
    "duration": 105,
    "start_time": "2022-11-17T20:19:50.516Z"
   },
   {
    "duration": 11,
    "start_time": "2022-11-17T20:19:50.623Z"
   },
   {
    "duration": 11,
    "start_time": "2022-11-17T20:19:50.636Z"
   },
   {
    "duration": 21,
    "start_time": "2022-11-17T20:19:50.650Z"
   },
   {
    "duration": 47,
    "start_time": "2022-11-17T20:19:50.673Z"
   },
   {
    "duration": 4,
    "start_time": "2022-11-17T20:19:50.722Z"
   },
   {
    "duration": 10,
    "start_time": "2022-11-17T20:19:50.727Z"
   },
   {
    "duration": 14,
    "start_time": "2022-11-17T20:19:50.738Z"
   },
   {
    "duration": 21,
    "start_time": "2022-11-17T20:19:50.753Z"
   },
   {
    "duration": 40,
    "start_time": "2022-11-17T20:19:50.776Z"
   },
   {
    "duration": 165,
    "start_time": "2022-11-17T20:19:50.818Z"
   },
   {
    "duration": 164,
    "start_time": "2022-11-17T20:19:50.984Z"
   },
   {
    "duration": 16,
    "start_time": "2022-11-17T20:19:51.150Z"
   },
   {
    "duration": 12,
    "start_time": "2022-11-17T20:19:51.168Z"
   },
   {
    "duration": 32,
    "start_time": "2022-11-17T20:19:51.182Z"
   },
   {
    "duration": 450,
    "start_time": "2022-11-17T20:19:51.215Z"
   },
   {
    "duration": 5,
    "start_time": "2022-11-17T20:19:51.666Z"
   },
   {
    "duration": 11,
    "start_time": "2022-11-17T20:19:51.672Z"
   },
   {
    "duration": 229,
    "start_time": "2022-11-17T20:19:51.684Z"
   },
   {
    "duration": 27,
    "start_time": "2022-11-17T20:19:51.914Z"
   },
   {
    "duration": 3,
    "start_time": "2022-11-17T20:19:51.943Z"
   },
   {
    "duration": 6,
    "start_time": "2022-11-17T20:19:51.948Z"
   },
   {
    "duration": 13,
    "start_time": "2022-11-17T20:19:51.955Z"
   },
   {
    "duration": 8,
    "start_time": "2022-11-17T20:19:51.970Z"
   },
   {
    "duration": 21,
    "start_time": "2022-11-17T20:22:31.324Z"
   },
   {
    "duration": 23,
    "start_time": "2022-11-17T20:33:42.821Z"
   },
   {
    "duration": 66,
    "start_time": "2022-11-17T20:36:21.843Z"
   },
   {
    "duration": 7,
    "start_time": "2022-11-17T20:36:30.991Z"
   },
   {
    "duration": 46,
    "start_time": "2022-11-18T10:22:32.611Z"
   },
   {
    "duration": 775,
    "start_time": "2022-11-18T10:22:38.591Z"
   },
   {
    "duration": 312,
    "start_time": "2022-11-18T10:22:39.368Z"
   },
   {
    "duration": 31,
    "start_time": "2022-11-18T10:22:39.685Z"
   },
   {
    "duration": 7,
    "start_time": "2022-11-18T10:22:39.719Z"
   },
   {
    "duration": 14,
    "start_time": "2022-11-18T10:22:39.727Z"
   },
   {
    "duration": 16,
    "start_time": "2022-11-18T10:22:39.742Z"
   },
   {
    "duration": 16,
    "start_time": "2022-11-18T10:22:39.760Z"
   },
   {
    "duration": 16,
    "start_time": "2022-11-18T10:22:39.777Z"
   },
   {
    "duration": 32,
    "start_time": "2022-11-18T10:22:39.795Z"
   },
   {
    "duration": 5,
    "start_time": "2022-11-18T10:22:39.828Z"
   },
   {
    "duration": 15,
    "start_time": "2022-11-18T10:22:39.834Z"
   },
   {
    "duration": 5,
    "start_time": "2022-11-18T10:22:39.851Z"
   },
   {
    "duration": 9,
    "start_time": "2022-11-18T10:22:39.859Z"
   },
   {
    "duration": 10,
    "start_time": "2022-11-18T10:22:39.869Z"
   },
   {
    "duration": 15,
    "start_time": "2022-11-18T10:22:39.880Z"
   },
   {
    "duration": 19,
    "start_time": "2022-11-18T10:22:39.897Z"
   },
   {
    "duration": 6,
    "start_time": "2022-11-18T10:22:39.918Z"
   },
   {
    "duration": 12,
    "start_time": "2022-11-18T10:22:39.926Z"
   },
   {
    "duration": 38,
    "start_time": "2022-11-18T10:22:39.939Z"
   },
   {
    "duration": 10,
    "start_time": "2022-11-18T10:22:39.979Z"
   },
   {
    "duration": 43,
    "start_time": "2022-11-18T10:22:39.990Z"
   },
   {
    "duration": 11,
    "start_time": "2022-11-18T10:22:40.034Z"
   },
   {
    "duration": 32,
    "start_time": "2022-11-18T10:22:40.047Z"
   },
   {
    "duration": 39,
    "start_time": "2022-11-18T10:22:40.082Z"
   },
   {
    "duration": 32,
    "start_time": "2022-11-18T10:22:40.123Z"
   },
   {
    "duration": 110,
    "start_time": "2022-11-18T10:22:40.156Z"
   },
   {
    "duration": 11,
    "start_time": "2022-11-18T10:22:40.268Z"
   },
   {
    "duration": 38,
    "start_time": "2022-11-18T10:22:40.280Z"
   },
   {
    "duration": 12,
    "start_time": "2022-11-18T10:22:40.319Z"
   },
   {
    "duration": 4,
    "start_time": "2022-11-18T10:22:40.333Z"
   },
   {
    "duration": 19,
    "start_time": "2022-11-18T10:22:40.338Z"
   },
   {
    "duration": 24,
    "start_time": "2022-11-18T10:22:40.359Z"
   },
   {
    "duration": 193,
    "start_time": "2022-11-18T10:22:40.384Z"
   },
   {
    "duration": 169,
    "start_time": "2022-11-18T10:22:40.579Z"
   },
   {
    "duration": 17,
    "start_time": "2022-11-18T10:22:40.750Z"
   },
   {
    "duration": 13,
    "start_time": "2022-11-18T10:22:40.769Z"
   },
   {
    "duration": 34,
    "start_time": "2022-11-18T10:22:40.783Z"
   },
   {
    "duration": 481,
    "start_time": "2022-11-18T10:22:40.818Z"
   },
   {
    "duration": 6,
    "start_time": "2022-11-18T10:22:41.300Z"
   },
   {
    "duration": 8,
    "start_time": "2022-11-18T10:22:41.317Z"
   },
   {
    "duration": 226,
    "start_time": "2022-11-18T10:22:41.327Z"
   },
   {
    "duration": 28,
    "start_time": "2022-11-18T10:22:41.555Z"
   },
   {
    "duration": 12,
    "start_time": "2022-11-18T10:22:41.585Z"
   },
   {
    "duration": 17,
    "start_time": "2022-11-18T10:22:41.599Z"
   },
   {
    "duration": 20,
    "start_time": "2022-11-18T10:22:41.617Z"
   },
   {
    "duration": 18,
    "start_time": "2022-11-18T10:22:41.639Z"
   },
   {
    "duration": 29,
    "start_time": "2022-11-18T10:22:41.658Z"
   },
   {
    "duration": 5,
    "start_time": "2022-11-18T10:23:00.896Z"
   },
   {
    "duration": 592,
    "start_time": "2022-11-18T10:24:32.148Z"
   },
   {
    "duration": 124,
    "start_time": "2022-11-18T10:24:32.742Z"
   },
   {
    "duration": 21,
    "start_time": "2022-11-18T10:24:32.867Z"
   },
   {
    "duration": 9,
    "start_time": "2022-11-18T10:24:32.890Z"
   },
   {
    "duration": 11,
    "start_time": "2022-11-18T10:24:32.900Z"
   },
   {
    "duration": 9,
    "start_time": "2022-11-18T10:24:32.913Z"
   },
   {
    "duration": 11,
    "start_time": "2022-11-18T10:24:32.923Z"
   },
   {
    "duration": 14,
    "start_time": "2022-11-18T10:24:32.936Z"
   },
   {
    "duration": 15,
    "start_time": "2022-11-18T10:24:32.951Z"
   },
   {
    "duration": 4,
    "start_time": "2022-11-18T10:24:32.969Z"
   },
   {
    "duration": 13,
    "start_time": "2022-11-18T10:24:32.975Z"
   },
   {
    "duration": 13,
    "start_time": "2022-11-18T10:24:32.989Z"
   },
   {
    "duration": 7,
    "start_time": "2022-11-18T10:24:33.015Z"
   },
   {
    "duration": 10,
    "start_time": "2022-11-18T10:24:33.023Z"
   },
   {
    "duration": 7,
    "start_time": "2022-11-18T10:24:33.034Z"
   },
   {
    "duration": 12,
    "start_time": "2022-11-18T10:24:33.042Z"
   },
   {
    "duration": 6,
    "start_time": "2022-11-18T10:24:33.055Z"
   },
   {
    "duration": 11,
    "start_time": "2022-11-18T10:24:33.063Z"
   },
   {
    "duration": 49,
    "start_time": "2022-11-18T10:24:33.076Z"
   },
   {
    "duration": 8,
    "start_time": "2022-11-18T10:24:33.126Z"
   },
   {
    "duration": 25,
    "start_time": "2022-11-18T10:24:33.136Z"
   },
   {
    "duration": 8,
    "start_time": "2022-11-18T10:24:33.162Z"
   },
   {
    "duration": 18,
    "start_time": "2022-11-18T10:24:33.171Z"
   },
   {
    "duration": 23,
    "start_time": "2022-11-18T10:24:33.191Z"
   },
   {
    "duration": 35,
    "start_time": "2022-11-18T10:24:33.215Z"
   },
   {
    "duration": 109,
    "start_time": "2022-11-18T10:24:33.251Z"
   },
   {
    "duration": 12,
    "start_time": "2022-11-18T10:24:33.362Z"
   },
   {
    "duration": 36,
    "start_time": "2022-11-18T10:24:33.378Z"
   },
   {
    "duration": 55,
    "start_time": "2022-11-18T10:24:33.416Z"
   },
   {
    "duration": 32,
    "start_time": "2022-11-18T10:24:33.472Z"
   },
   {
    "duration": 34,
    "start_time": "2022-11-18T10:24:33.505Z"
   },
   {
    "duration": 40,
    "start_time": "2022-11-18T10:24:33.540Z"
   },
   {
    "duration": 179,
    "start_time": "2022-11-18T10:24:33.582Z"
   },
   {
    "duration": 176,
    "start_time": "2022-11-18T10:24:33.763Z"
   },
   {
    "duration": 18,
    "start_time": "2022-11-18T10:24:33.941Z"
   },
   {
    "duration": 22,
    "start_time": "2022-11-18T10:24:33.960Z"
   },
   {
    "duration": 44,
    "start_time": "2022-11-18T10:24:33.984Z"
   },
   {
    "duration": 469,
    "start_time": "2022-11-18T10:24:34.029Z"
   },
   {
    "duration": 5,
    "start_time": "2022-11-18T10:24:34.500Z"
   },
   {
    "duration": 43,
    "start_time": "2022-11-18T10:24:34.506Z"
   },
   {
    "duration": 229,
    "start_time": "2022-11-18T10:24:34.550Z"
   },
   {
    "duration": 36,
    "start_time": "2022-11-18T10:24:34.780Z"
   },
   {
    "duration": 12,
    "start_time": "2022-11-18T10:24:34.818Z"
   },
   {
    "duration": 34,
    "start_time": "2022-11-18T10:24:34.831Z"
   },
   {
    "duration": 22,
    "start_time": "2022-11-18T10:24:34.867Z"
   },
   {
    "duration": 40,
    "start_time": "2022-11-18T10:24:34.890Z"
   },
   {
    "duration": 31,
    "start_time": "2022-11-18T10:24:34.931Z"
   },
   {
    "duration": 9,
    "start_time": "2022-11-18T10:41:11.882Z"
   },
   {
    "duration": 6,
    "start_time": "2022-11-18T10:41:50.434Z"
   },
   {
    "duration": 23,
    "start_time": "2022-11-18T10:46:16.791Z"
   },
   {
    "duration": 20,
    "start_time": "2022-11-18T10:46:35.335Z"
   },
   {
    "duration": 18,
    "start_time": "2022-11-18T10:49:12.920Z"
   },
   {
    "duration": 17,
    "start_time": "2022-11-18T10:52:06.258Z"
   },
   {
    "duration": 17,
    "start_time": "2022-11-18T10:52:34.680Z"
   },
   {
    "duration": 23,
    "start_time": "2022-11-18T11:15:13.493Z"
   },
   {
    "duration": 174,
    "start_time": "2022-11-18T11:16:26.506Z"
   },
   {
    "duration": 21,
    "start_time": "2022-11-18T11:18:16.676Z"
   },
   {
    "duration": 742,
    "start_time": "2022-11-18T19:37:04.790Z"
   },
   {
    "duration": 265,
    "start_time": "2022-11-18T19:37:05.534Z"
   },
   {
    "duration": 20,
    "start_time": "2022-11-18T19:37:05.801Z"
   },
   {
    "duration": 6,
    "start_time": "2022-11-18T19:37:05.823Z"
   },
   {
    "duration": 9,
    "start_time": "2022-11-18T19:37:05.830Z"
   },
   {
    "duration": 7,
    "start_time": "2022-11-18T19:37:05.840Z"
   },
   {
    "duration": 17,
    "start_time": "2022-11-18T19:37:05.849Z"
   },
   {
    "duration": 13,
    "start_time": "2022-11-18T19:37:05.867Z"
   },
   {
    "duration": 15,
    "start_time": "2022-11-18T19:37:05.898Z"
   },
   {
    "duration": 4,
    "start_time": "2022-11-18T19:37:05.916Z"
   },
   {
    "duration": 11,
    "start_time": "2022-11-18T19:37:05.922Z"
   },
   {
    "duration": 5,
    "start_time": "2022-11-18T19:37:05.934Z"
   },
   {
    "duration": 22,
    "start_time": "2022-11-18T19:37:05.941Z"
   },
   {
    "duration": 18,
    "start_time": "2022-11-18T19:37:05.965Z"
   },
   {
    "duration": 13,
    "start_time": "2022-11-18T19:37:05.985Z"
   },
   {
    "duration": 15,
    "start_time": "2022-11-18T19:37:05.999Z"
   },
   {
    "duration": 12,
    "start_time": "2022-11-18T19:37:06.015Z"
   },
   {
    "duration": 14,
    "start_time": "2022-11-18T19:37:06.029Z"
   },
   {
    "duration": 30,
    "start_time": "2022-11-18T19:37:06.045Z"
   },
   {
    "duration": 8,
    "start_time": "2022-11-18T19:37:06.077Z"
   },
   {
    "duration": 31,
    "start_time": "2022-11-18T19:37:06.086Z"
   },
   {
    "duration": 9,
    "start_time": "2022-11-18T19:37:06.118Z"
   },
   {
    "duration": 4,
    "start_time": "2022-11-18T19:37:06.129Z"
   },
   {
    "duration": 7,
    "start_time": "2022-11-18T19:37:06.135Z"
   },
   {
    "duration": 8,
    "start_time": "2022-11-18T19:37:06.143Z"
   },
   {
    "duration": 12,
    "start_time": "2022-11-18T19:37:06.152Z"
   },
   {
    "duration": 52,
    "start_time": "2022-11-18T19:37:06.166Z"
   },
   {
    "duration": 102,
    "start_time": "2022-11-18T19:37:06.222Z"
   },
   {
    "duration": 10,
    "start_time": "2022-11-18T19:37:06.325Z"
   },
   {
    "duration": 10,
    "start_time": "2022-11-18T19:37:06.337Z"
   },
   {
    "duration": 9,
    "start_time": "2022-11-18T19:37:06.348Z"
   },
   {
    "duration": 3,
    "start_time": "2022-11-18T19:37:06.359Z"
   },
   {
    "duration": 18,
    "start_time": "2022-11-18T19:37:06.363Z"
   },
   {
    "duration": 23,
    "start_time": "2022-11-18T19:37:06.398Z"
   },
   {
    "duration": 184,
    "start_time": "2022-11-18T19:37:06.422Z"
   },
   {
    "duration": 162,
    "start_time": "2022-11-18T19:37:06.607Z"
   },
   {
    "duration": 27,
    "start_time": "2022-11-18T19:37:06.770Z"
   },
   {
    "duration": 12,
    "start_time": "2022-11-18T19:37:06.799Z"
   },
   {
    "duration": 13,
    "start_time": "2022-11-18T19:37:06.812Z"
   },
   {
    "duration": 459,
    "start_time": "2022-11-18T19:37:06.827Z"
   },
   {
    "duration": 13,
    "start_time": "2022-11-18T19:37:07.288Z"
   },
   {
    "duration": 10,
    "start_time": "2022-11-18T19:37:07.302Z"
   },
   {
    "duration": 230,
    "start_time": "2022-11-18T19:37:07.313Z"
   },
   {
    "duration": 33,
    "start_time": "2022-11-18T19:37:07.545Z"
   },
   {
    "duration": 19,
    "start_time": "2022-11-18T19:37:07.579Z"
   },
   {
    "duration": 4,
    "start_time": "2022-11-18T19:37:07.599Z"
   },
   {
    "duration": 13,
    "start_time": "2022-11-18T19:37:07.605Z"
   },
   {
    "duration": 14,
    "start_time": "2022-11-18T19:37:07.619Z"
   },
   {
    "duration": 5,
    "start_time": "2022-11-18T19:37:07.635Z"
   },
   {
    "duration": 11,
    "start_time": "2022-11-18T19:41:10.335Z"
   },
   {
    "duration": 231,
    "start_time": "2022-11-18T20:44:44.908Z"
   },
   {
    "duration": 167,
    "start_time": "2022-11-18T20:44:54.689Z"
   },
   {
    "duration": 163,
    "start_time": "2022-11-18T20:45:35.695Z"
   },
   {
    "duration": 456,
    "start_time": "2022-11-18T20:46:20.500Z"
   },
   {
    "duration": 475,
    "start_time": "2022-11-18T20:46:31.987Z"
   },
   {
    "duration": 174,
    "start_time": "2022-11-18T20:46:52.316Z"
   },
   {
    "duration": 553,
    "start_time": "2022-11-18T20:47:13.344Z"
   },
   {
    "duration": 123,
    "start_time": "2022-11-18T20:47:13.899Z"
   },
   {
    "duration": 19,
    "start_time": "2022-11-18T20:47:14.024Z"
   },
   {
    "duration": 5,
    "start_time": "2022-11-18T20:47:14.045Z"
   },
   {
    "duration": 11,
    "start_time": "2022-11-18T20:47:14.051Z"
   },
   {
    "duration": 9,
    "start_time": "2022-11-18T20:47:14.063Z"
   },
   {
    "duration": 13,
    "start_time": "2022-11-18T20:47:14.073Z"
   },
   {
    "duration": 13,
    "start_time": "2022-11-18T20:47:14.087Z"
   },
   {
    "duration": 17,
    "start_time": "2022-11-18T20:47:14.101Z"
   },
   {
    "duration": 7,
    "start_time": "2022-11-18T20:47:14.120Z"
   },
   {
    "duration": 15,
    "start_time": "2022-11-18T20:47:14.128Z"
   },
   {
    "duration": 5,
    "start_time": "2022-11-18T20:47:14.144Z"
   },
   {
    "duration": 13,
    "start_time": "2022-11-18T20:47:14.150Z"
   },
   {
    "duration": 23,
    "start_time": "2022-11-18T20:47:14.164Z"
   },
   {
    "duration": 13,
    "start_time": "2022-11-18T20:47:14.188Z"
   },
   {
    "duration": 18,
    "start_time": "2022-11-18T20:47:14.202Z"
   },
   {
    "duration": 6,
    "start_time": "2022-11-18T20:47:14.222Z"
   },
   {
    "duration": 10,
    "start_time": "2022-11-18T20:47:14.230Z"
   },
   {
    "duration": 36,
    "start_time": "2022-11-18T20:47:14.242Z"
   },
   {
    "duration": 8,
    "start_time": "2022-11-18T20:47:14.280Z"
   },
   {
    "duration": 24,
    "start_time": "2022-11-18T20:47:14.289Z"
   },
   {
    "duration": 8,
    "start_time": "2022-11-18T20:47:14.314Z"
   },
   {
    "duration": 6,
    "start_time": "2022-11-18T20:47:14.323Z"
   },
   {
    "duration": 7,
    "start_time": "2022-11-18T20:47:14.330Z"
   },
   {
    "duration": 8,
    "start_time": "2022-11-18T20:47:14.339Z"
   },
   {
    "duration": 10,
    "start_time": "2022-11-18T20:47:14.348Z"
   },
   {
    "duration": 45,
    "start_time": "2022-11-18T20:47:14.359Z"
   },
   {
    "duration": 105,
    "start_time": "2022-11-18T20:47:14.408Z"
   },
   {
    "duration": 11,
    "start_time": "2022-11-18T20:47:14.514Z"
   },
   {
    "duration": 12,
    "start_time": "2022-11-18T20:47:14.526Z"
   },
   {
    "duration": 18,
    "start_time": "2022-11-18T20:47:14.540Z"
   },
   {
    "duration": 17,
    "start_time": "2022-11-18T20:47:14.559Z"
   },
   {
    "duration": 30,
    "start_time": "2022-11-18T20:47:14.578Z"
   },
   {
    "duration": 54,
    "start_time": "2022-11-18T20:47:14.609Z"
   },
   {
    "duration": 221,
    "start_time": "2022-11-18T20:47:14.665Z"
   },
   {
    "duration": 175,
    "start_time": "2022-11-18T20:47:14.887Z"
   },
   {
    "duration": 17,
    "start_time": "2022-11-18T20:47:15.064Z"
   },
   {
    "duration": 23,
    "start_time": "2022-11-18T20:47:15.083Z"
   },
   {
    "duration": 13,
    "start_time": "2022-11-18T20:47:15.107Z"
   },
   {
    "duration": 520,
    "start_time": "2022-11-18T20:47:15.122Z"
   },
   {
    "duration": 6,
    "start_time": "2022-11-18T20:47:15.644Z"
   },
   {
    "duration": 27,
    "start_time": "2022-11-18T20:47:15.651Z"
   },
   {
    "duration": 37,
    "start_time": "2022-11-18T20:47:15.680Z"
   },
   {
    "duration": 211,
    "start_time": "2022-11-18T20:47:15.718Z"
   },
   {
    "duration": 30,
    "start_time": "2022-11-18T20:47:15.931Z"
   },
   {
    "duration": 34,
    "start_time": "2022-11-18T20:47:15.962Z"
   },
   {
    "duration": 13,
    "start_time": "2022-11-18T20:47:15.998Z"
   },
   {
    "duration": 21,
    "start_time": "2022-11-18T20:47:16.012Z"
   },
   {
    "duration": 19,
    "start_time": "2022-11-18T20:47:16.035Z"
   },
   {
    "duration": 30,
    "start_time": "2022-11-18T20:47:16.055Z"
   },
   {
    "duration": 590,
    "start_time": "2022-11-19T13:54:41.549Z"
   },
   {
    "duration": 116,
    "start_time": "2022-11-19T13:54:42.141Z"
   },
   {
    "duration": 22,
    "start_time": "2022-11-19T13:54:42.259Z"
   },
   {
    "duration": 9,
    "start_time": "2022-11-19T13:54:42.283Z"
   },
   {
    "duration": 11,
    "start_time": "2022-11-19T13:54:42.293Z"
   },
   {
    "duration": 12,
    "start_time": "2022-11-19T13:54:42.306Z"
   },
   {
    "duration": 15,
    "start_time": "2022-11-19T13:54:42.320Z"
   },
   {
    "duration": 19,
    "start_time": "2022-11-19T13:54:42.336Z"
   },
   {
    "duration": 21,
    "start_time": "2022-11-19T13:54:42.357Z"
   },
   {
    "duration": 5,
    "start_time": "2022-11-19T13:54:42.381Z"
   },
   {
    "duration": 16,
    "start_time": "2022-11-19T13:54:42.388Z"
   },
   {
    "duration": 22,
    "start_time": "2022-11-19T13:54:42.405Z"
   },
   {
    "duration": 12,
    "start_time": "2022-11-19T13:54:42.428Z"
   },
   {
    "duration": 11,
    "start_time": "2022-11-19T13:54:42.442Z"
   },
   {
    "duration": 17,
    "start_time": "2022-11-19T13:54:42.455Z"
   },
   {
    "duration": 16,
    "start_time": "2022-11-19T13:54:42.473Z"
   },
   {
    "duration": 12,
    "start_time": "2022-11-19T13:54:42.490Z"
   },
   {
    "duration": 21,
    "start_time": "2022-11-19T13:54:42.504Z"
   },
   {
    "duration": 33,
    "start_time": "2022-11-19T13:54:42.527Z"
   },
   {
    "duration": 9,
    "start_time": "2022-11-19T13:54:42.562Z"
   },
   {
    "duration": 39,
    "start_time": "2022-11-19T13:54:42.573Z"
   },
   {
    "duration": 12,
    "start_time": "2022-11-19T13:54:42.614Z"
   },
   {
    "duration": 7,
    "start_time": "2022-11-19T13:54:42.627Z"
   },
   {
    "duration": 9,
    "start_time": "2022-11-19T13:54:42.636Z"
   },
   {
    "duration": 10,
    "start_time": "2022-11-19T13:54:42.646Z"
   },
   {
    "duration": 13,
    "start_time": "2022-11-19T13:54:42.657Z"
   },
   {
    "duration": 27,
    "start_time": "2022-11-19T13:54:42.672Z"
   },
   {
    "duration": 109,
    "start_time": "2022-11-19T13:54:42.720Z"
   },
   {
    "duration": 11,
    "start_time": "2022-11-19T13:54:42.832Z"
   },
   {
    "duration": 22,
    "start_time": "2022-11-19T13:54:42.845Z"
   },
   {
    "duration": 18,
    "start_time": "2022-11-19T13:54:42.869Z"
   },
   {
    "duration": 18,
    "start_time": "2022-11-19T13:54:42.888Z"
   },
   {
    "duration": 27,
    "start_time": "2022-11-19T13:54:42.907Z"
   },
   {
    "duration": 31,
    "start_time": "2022-11-19T13:54:42.936Z"
   },
   {
    "duration": 183,
    "start_time": "2022-11-19T13:54:42.968Z"
   },
   {
    "duration": 168,
    "start_time": "2022-11-19T13:54:43.153Z"
   },
   {
    "duration": 17,
    "start_time": "2022-11-19T13:54:43.323Z"
   },
   {
    "duration": 12,
    "start_time": "2022-11-19T13:54:43.341Z"
   },
   {
    "duration": 18,
    "start_time": "2022-11-19T13:54:43.354Z"
   },
   {
    "duration": 485,
    "start_time": "2022-11-19T13:54:43.374Z"
   },
   {
    "duration": 6,
    "start_time": "2022-11-19T13:54:43.861Z"
   },
   {
    "duration": 19,
    "start_time": "2022-11-19T13:54:43.868Z"
   },
   {
    "duration": 25,
    "start_time": "2022-11-19T13:54:43.889Z"
   },
   {
    "duration": 210,
    "start_time": "2022-11-19T13:54:43.916Z"
   },
   {
    "duration": 30,
    "start_time": "2022-11-19T13:54:44.128Z"
   },
   {
    "duration": 33,
    "start_time": "2022-11-19T13:54:44.160Z"
   },
   {
    "duration": 19,
    "start_time": "2022-11-19T13:54:44.194Z"
   },
   {
    "duration": 18,
    "start_time": "2022-11-19T13:54:44.215Z"
   },
   {
    "duration": 22,
    "start_time": "2022-11-19T13:54:44.235Z"
   },
   {
    "duration": 6,
    "start_time": "2022-11-19T13:54:44.258Z"
   },
   {
    "duration": 47,
    "start_time": "2022-11-20T10:53:45.867Z"
   },
   {
    "duration": 817,
    "start_time": "2022-11-20T10:53:52.302Z"
   },
   {
    "duration": 309,
    "start_time": "2022-11-20T10:53:53.121Z"
   },
   {
    "duration": 21,
    "start_time": "2022-11-20T10:53:53.431Z"
   },
   {
    "duration": 5,
    "start_time": "2022-11-20T10:53:53.454Z"
   },
   {
    "duration": 8,
    "start_time": "2022-11-20T10:53:53.461Z"
   },
   {
    "duration": 8,
    "start_time": "2022-11-20T10:53:53.471Z"
   },
   {
    "duration": 13,
    "start_time": "2022-11-20T10:53:53.480Z"
   },
   {
    "duration": 15,
    "start_time": "2022-11-20T10:53:53.495Z"
   },
   {
    "duration": 16,
    "start_time": "2022-11-20T10:53:53.511Z"
   },
   {
    "duration": 4,
    "start_time": "2022-11-20T10:53:53.530Z"
   },
   {
    "duration": 11,
    "start_time": "2022-11-20T10:53:53.536Z"
   },
   {
    "duration": 5,
    "start_time": "2022-11-20T10:53:53.548Z"
   },
   {
    "duration": 10,
    "start_time": "2022-11-20T10:53:53.555Z"
   },
   {
    "duration": 7,
    "start_time": "2022-11-20T10:53:53.566Z"
   },
   {
    "duration": 32,
    "start_time": "2022-11-20T10:53:53.574Z"
   },
   {
    "duration": 10,
    "start_time": "2022-11-20T10:53:53.608Z"
   },
   {
    "duration": 6,
    "start_time": "2022-11-20T10:53:53.620Z"
   },
   {
    "duration": 8,
    "start_time": "2022-11-20T10:53:53.628Z"
   },
   {
    "duration": 25,
    "start_time": "2022-11-20T10:53:53.638Z"
   },
   {
    "duration": 42,
    "start_time": "2022-11-20T10:53:53.665Z"
   },
   {
    "duration": 18,
    "start_time": "2022-11-20T10:53:53.710Z"
   },
   {
    "duration": 8,
    "start_time": "2022-11-20T10:53:53.730Z"
   },
   {
    "duration": 5,
    "start_time": "2022-11-20T10:53:53.739Z"
   },
   {
    "duration": 7,
    "start_time": "2022-11-20T10:53:53.745Z"
   },
   {
    "duration": 11,
    "start_time": "2022-11-20T10:53:53.754Z"
   },
   {
    "duration": 38,
    "start_time": "2022-11-20T10:53:53.767Z"
   },
   {
    "duration": 25,
    "start_time": "2022-11-20T10:53:53.807Z"
   },
   {
    "duration": 106,
    "start_time": "2022-11-20T10:53:53.835Z"
   },
   {
    "duration": 11,
    "start_time": "2022-11-20T10:53:53.942Z"
   },
   {
    "duration": 8,
    "start_time": "2022-11-20T10:53:53.954Z"
   },
   {
    "duration": 8,
    "start_time": "2022-11-20T10:53:53.963Z"
   },
   {
    "duration": 3,
    "start_time": "2022-11-20T10:53:53.973Z"
   },
   {
    "duration": 35,
    "start_time": "2022-11-20T10:53:53.978Z"
   },
   {
    "duration": 24,
    "start_time": "2022-11-20T10:53:54.014Z"
   },
   {
    "duration": 199,
    "start_time": "2022-11-20T10:53:54.039Z"
   },
   {
    "duration": 178,
    "start_time": "2022-11-20T10:53:54.239Z"
   },
   {
    "duration": 18,
    "start_time": "2022-11-20T10:53:54.419Z"
   },
   {
    "duration": 12,
    "start_time": "2022-11-20T10:53:54.439Z"
   },
   {
    "duration": 13,
    "start_time": "2022-11-20T10:53:54.453Z"
   },
   {
    "duration": 513,
    "start_time": "2022-11-20T10:53:54.468Z"
   },
   {
    "duration": 6,
    "start_time": "2022-11-20T10:53:54.983Z"
   },
   {
    "duration": 14,
    "start_time": "2022-11-20T10:53:54.991Z"
   },
   {
    "duration": 13,
    "start_time": "2022-11-20T10:53:55.007Z"
   },
   {
    "duration": 230,
    "start_time": "2022-11-20T10:53:55.022Z"
   },
   {
    "duration": 5,
    "start_time": "2022-11-20T10:53:55.253Z"
   },
   {
    "duration": 43,
    "start_time": "2022-11-20T10:53:55.260Z"
   },
   {
    "duration": 3,
    "start_time": "2022-11-20T10:53:55.305Z"
   },
   {
    "duration": 5,
    "start_time": "2022-11-20T10:53:55.310Z"
   },
   {
    "duration": 6,
    "start_time": "2022-11-20T10:53:55.317Z"
   },
   {
    "duration": 12,
    "start_time": "2022-11-20T10:53:55.325Z"
   },
   {
    "duration": 5,
    "start_time": "2022-11-20T10:53:55.338Z"
   },
   {
    "duration": 30,
    "start_time": "2022-11-20T10:54:36.428Z"
   },
   {
    "duration": 76,
    "start_time": "2022-11-20T10:55:06.618Z"
   },
   {
    "duration": 29,
    "start_time": "2022-11-20T10:56:15.707Z"
   },
   {
    "duration": 3,
    "start_time": "2022-11-20T10:56:29.819Z"
   },
   {
    "duration": 5,
    "start_time": "2022-11-20T10:56:36.822Z"
   },
   {
    "duration": 644,
    "start_time": "2022-11-20T10:56:46.270Z"
   },
   {
    "duration": 120,
    "start_time": "2022-11-20T10:56:46.915Z"
   },
   {
    "duration": 23,
    "start_time": "2022-11-20T10:56:47.036Z"
   },
   {
    "duration": 9,
    "start_time": "2022-11-20T10:56:47.062Z"
   },
   {
    "duration": 8,
    "start_time": "2022-11-20T10:56:47.073Z"
   },
   {
    "duration": 10,
    "start_time": "2022-11-20T10:56:47.083Z"
   },
   {
    "duration": 15,
    "start_time": "2022-11-20T10:56:47.094Z"
   },
   {
    "duration": 18,
    "start_time": "2022-11-20T10:56:47.111Z"
   },
   {
    "duration": 18,
    "start_time": "2022-11-20T10:56:47.131Z"
   },
   {
    "duration": 5,
    "start_time": "2022-11-20T10:56:47.152Z"
   },
   {
    "duration": 8,
    "start_time": "2022-11-20T10:56:47.158Z"
   },
   {
    "duration": 4,
    "start_time": "2022-11-20T10:56:47.168Z"
   },
   {
    "duration": 8,
    "start_time": "2022-11-20T10:56:47.205Z"
   },
   {
    "duration": 10,
    "start_time": "2022-11-20T10:56:47.215Z"
   },
   {
    "duration": 8,
    "start_time": "2022-11-20T10:56:47.227Z"
   },
   {
    "duration": 13,
    "start_time": "2022-11-20T10:56:47.236Z"
   },
   {
    "duration": 6,
    "start_time": "2022-11-20T10:56:47.251Z"
   },
   {
    "duration": 9,
    "start_time": "2022-11-20T10:56:47.258Z"
   },
   {
    "duration": 43,
    "start_time": "2022-11-20T10:56:47.281Z"
   },
   {
    "duration": 9,
    "start_time": "2022-11-20T10:56:47.325Z"
   },
   {
    "duration": 22,
    "start_time": "2022-11-20T10:56:47.335Z"
   },
   {
    "duration": 9,
    "start_time": "2022-11-20T10:56:47.359Z"
   },
   {
    "duration": 6,
    "start_time": "2022-11-20T10:56:47.369Z"
   },
   {
    "duration": 31,
    "start_time": "2022-11-20T10:56:47.376Z"
   },
   {
    "duration": 5,
    "start_time": "2022-11-20T10:56:47.409Z"
   },
   {
    "duration": 8,
    "start_time": "2022-11-20T10:56:47.415Z"
   },
   {
    "duration": 36,
    "start_time": "2022-11-20T10:56:47.424Z"
   },
   {
    "duration": 145,
    "start_time": "2022-11-20T10:56:47.463Z"
   },
   {
    "duration": 13,
    "start_time": "2022-11-20T10:56:47.610Z"
   },
   {
    "duration": 13,
    "start_time": "2022-11-20T10:56:47.625Z"
   },
   {
    "duration": 14,
    "start_time": "2022-11-20T10:56:47.640Z"
   },
   {
    "duration": 14,
    "start_time": "2022-11-20T10:56:47.656Z"
   },
   {
    "duration": 25,
    "start_time": "2022-11-20T10:56:47.671Z"
   },
   {
    "duration": 29,
    "start_time": "2022-11-20T10:56:47.698Z"
   },
   {
    "duration": 190,
    "start_time": "2022-11-20T10:56:47.728Z"
   },
   {
    "duration": 177,
    "start_time": "2022-11-20T10:56:47.919Z"
   },
   {
    "duration": 21,
    "start_time": "2022-11-20T10:56:48.098Z"
   },
   {
    "duration": 13,
    "start_time": "2022-11-20T10:56:48.120Z"
   },
   {
    "duration": 19,
    "start_time": "2022-11-20T10:56:48.135Z"
   },
   {
    "duration": 582,
    "start_time": "2022-11-20T10:56:48.155Z"
   },
   {
    "duration": 6,
    "start_time": "2022-11-20T10:56:48.739Z"
   },
   {
    "duration": 10,
    "start_time": "2022-11-20T10:56:48.746Z"
   },
   {
    "duration": 15,
    "start_time": "2022-11-20T10:56:48.758Z"
   },
   {
    "duration": 219,
    "start_time": "2022-11-20T10:56:48.774Z"
   },
   {
    "duration": 11,
    "start_time": "2022-11-20T10:56:48.994Z"
   },
   {
    "duration": 28,
    "start_time": "2022-11-20T10:56:49.006Z"
   },
   {
    "duration": 3,
    "start_time": "2022-11-20T10:56:49.036Z"
   },
   {
    "duration": 8,
    "start_time": "2022-11-20T10:56:49.040Z"
   },
   {
    "duration": 10,
    "start_time": "2022-11-20T10:56:49.050Z"
   },
   {
    "duration": 21,
    "start_time": "2022-11-20T10:56:49.062Z"
   },
   {
    "duration": 7,
    "start_time": "2022-11-20T10:56:49.105Z"
   },
   {
    "duration": 66,
    "start_time": "2022-11-20T10:58:37.199Z"
   },
   {
    "duration": 73,
    "start_time": "2022-11-20T11:00:16.649Z"
   },
   {
    "duration": 95,
    "start_time": "2022-11-20T11:01:00.056Z"
   },
   {
    "duration": 67,
    "start_time": "2022-11-20T11:01:02.990Z"
   },
   {
    "duration": 67,
    "start_time": "2022-11-20T11:01:08.889Z"
   },
   {
    "duration": 5,
    "start_time": "2022-11-20T11:15:33.231Z"
   },
   {
    "duration": 4,
    "start_time": "2022-11-20T11:15:36.282Z"
   },
   {
    "duration": 1193,
    "start_time": "2022-11-20T11:15:58.014Z"
   },
   {
    "duration": 5,
    "start_time": "2022-11-20T11:16:58.447Z"
   },
   {
    "duration": 4,
    "start_time": "2022-11-20T11:17:26.477Z"
   },
   {
    "duration": 1278,
    "start_time": "2022-11-20T11:17:38.013Z"
   },
   {
    "duration": 1227,
    "start_time": "2022-11-20T11:18:09.025Z"
   },
   {
    "duration": 85,
    "start_time": "2022-11-20T11:19:44.738Z"
   },
   {
    "duration": 6912,
    "start_time": "2022-11-20T11:20:04.367Z"
   },
   {
    "duration": 81,
    "start_time": "2022-11-20T11:21:26.983Z"
   },
   {
    "duration": 11,
    "start_time": "2022-11-20T11:24:56.502Z"
   },
   {
    "duration": 10,
    "start_time": "2022-11-20T11:24:59.399Z"
   },
   {
    "duration": 5,
    "start_time": "2022-11-20T11:25:25.977Z"
   },
   {
    "duration": 9,
    "start_time": "2022-11-20T11:32:47.514Z"
   },
   {
    "duration": 7,
    "start_time": "2022-11-20T11:33:00.398Z"
   },
   {
    "duration": 10,
    "start_time": "2022-11-20T11:34:16.572Z"
   },
   {
    "duration": 9,
    "start_time": "2022-11-20T11:34:46.766Z"
   },
   {
    "duration": 16,
    "start_time": "2022-11-20T11:41:24.590Z"
   },
   {
    "duration": 15,
    "start_time": "2022-11-20T11:41:33.088Z"
   },
   {
    "duration": 27,
    "start_time": "2022-11-20T11:41:45.878Z"
   },
   {
    "duration": 17,
    "start_time": "2022-11-20T11:42:14.219Z"
   },
   {
    "duration": 9,
    "start_time": "2022-11-20T11:42:33.488Z"
   },
   {
    "duration": 4,
    "start_time": "2022-11-20T11:50:28.146Z"
   },
   {
    "duration": 74,
    "start_time": "2022-11-20T12:02:19.250Z"
   },
   {
    "duration": 113,
    "start_time": "2022-11-20T12:02:55.676Z"
   },
   {
    "duration": 117,
    "start_time": "2022-11-20T12:03:19.395Z"
   },
   {
    "duration": 50,
    "start_time": "2022-11-20T20:04:36.936Z"
   },
   {
    "duration": 698,
    "start_time": "2022-11-20T20:04:41.086Z"
   },
   {
    "duration": 410,
    "start_time": "2022-11-20T20:04:41.786Z"
   },
   {
    "duration": 24,
    "start_time": "2022-11-20T20:04:42.198Z"
   },
   {
    "duration": 7,
    "start_time": "2022-11-20T20:04:42.224Z"
   },
   {
    "duration": 13,
    "start_time": "2022-11-20T20:04:42.233Z"
   },
   {
    "duration": 23,
    "start_time": "2022-11-20T20:04:42.247Z"
   },
   {
    "duration": 13,
    "start_time": "2022-11-20T20:04:42.272Z"
   },
   {
    "duration": 23,
    "start_time": "2022-11-20T20:04:42.287Z"
   },
   {
    "duration": 21,
    "start_time": "2022-11-20T20:04:42.312Z"
   },
   {
    "duration": 5,
    "start_time": "2022-11-20T20:04:42.336Z"
   },
   {
    "duration": 13,
    "start_time": "2022-11-20T20:04:42.342Z"
   },
   {
    "duration": 26,
    "start_time": "2022-11-20T20:04:42.356Z"
   },
   {
    "duration": 35,
    "start_time": "2022-11-20T20:04:42.384Z"
   },
   {
    "duration": 29,
    "start_time": "2022-11-20T20:04:42.421Z"
   },
   {
    "duration": 19,
    "start_time": "2022-11-20T20:04:42.452Z"
   },
   {
    "duration": 26,
    "start_time": "2022-11-20T20:04:42.473Z"
   },
   {
    "duration": 22,
    "start_time": "2022-11-20T20:04:42.501Z"
   },
   {
    "duration": 26,
    "start_time": "2022-11-20T20:04:42.525Z"
   },
   {
    "duration": 57,
    "start_time": "2022-11-20T20:04:42.553Z"
   },
   {
    "duration": 14,
    "start_time": "2022-11-20T20:04:42.612Z"
   },
   {
    "duration": 31,
    "start_time": "2022-11-20T20:04:42.628Z"
   },
   {
    "duration": 10,
    "start_time": "2022-11-20T20:04:42.661Z"
   },
   {
    "duration": 22,
    "start_time": "2022-11-20T20:04:42.673Z"
   },
   {
    "duration": 27,
    "start_time": "2022-11-20T20:04:42.696Z"
   },
   {
    "duration": 14,
    "start_time": "2022-11-20T20:04:42.725Z"
   },
   {
    "duration": 24,
    "start_time": "2022-11-20T20:04:42.740Z"
   },
   {
    "duration": 32,
    "start_time": "2022-11-20T20:04:42.766Z"
   },
   {
    "duration": 109,
    "start_time": "2022-11-20T20:04:42.801Z"
   },
   {
    "duration": 17,
    "start_time": "2022-11-20T20:04:42.912Z"
   },
   {
    "duration": 19,
    "start_time": "2022-11-20T20:04:42.931Z"
   },
   {
    "duration": 14,
    "start_time": "2022-11-20T20:04:42.952Z"
   },
   {
    "duration": 12,
    "start_time": "2022-11-20T20:04:42.968Z"
   },
   {
    "duration": 24,
    "start_time": "2022-11-20T20:04:42.981Z"
   },
   {
    "duration": 32,
    "start_time": "2022-11-20T20:04:43.007Z"
   },
   {
    "duration": 191,
    "start_time": "2022-11-20T20:04:43.040Z"
   },
   {
    "duration": 173,
    "start_time": "2022-11-20T20:04:43.234Z"
   },
   {
    "duration": 27,
    "start_time": "2022-11-20T20:04:43.409Z"
   },
   {
    "duration": 13,
    "start_time": "2022-11-20T20:04:43.438Z"
   },
   {
    "duration": 21,
    "start_time": "2022-11-20T20:04:43.452Z"
   },
   {
    "duration": 543,
    "start_time": "2022-11-20T20:04:43.474Z"
   },
   {
    "duration": 280,
    "start_time": "2022-11-20T20:04:44.019Z"
   },
   {
    "duration": 6,
    "start_time": "2022-11-20T20:04:44.301Z"
   },
   {
    "duration": 16,
    "start_time": "2022-11-20T20:04:44.308Z"
   },
   {
    "duration": 19,
    "start_time": "2022-11-20T20:04:44.325Z"
   },
   {
    "duration": 173,
    "start_time": "2022-11-20T20:04:44.346Z"
   },
   {
    "duration": 14,
    "start_time": "2022-11-20T20:04:44.521Z"
   },
   {
    "duration": 31,
    "start_time": "2022-11-20T20:04:44.537Z"
   },
   {
    "duration": 3,
    "start_time": "2022-11-20T20:04:44.570Z"
   },
   {
    "duration": 12,
    "start_time": "2022-11-20T20:04:44.575Z"
   },
   {
    "duration": 17,
    "start_time": "2022-11-20T20:04:44.589Z"
   },
   {
    "duration": 19,
    "start_time": "2022-11-20T20:04:44.608Z"
   },
   {
    "duration": 7,
    "start_time": "2022-11-20T20:04:44.629Z"
   },
   {
    "duration": 45,
    "start_time": "2022-11-20T20:07:10.862Z"
   },
   {
    "duration": 6,
    "start_time": "2022-11-20T20:23:40.476Z"
   },
   {
    "duration": 9,
    "start_time": "2022-11-20T20:24:57.237Z"
   },
   {
    "duration": 11,
    "start_time": "2022-11-20T20:25:27.078Z"
   },
   {
    "duration": 13,
    "start_time": "2022-11-20T20:25:56.368Z"
   },
   {
    "duration": 10,
    "start_time": "2022-11-20T20:26:36.544Z"
   },
   {
    "duration": 11,
    "start_time": "2022-11-20T20:27:02.031Z"
   },
   {
    "duration": 9,
    "start_time": "2022-11-20T20:27:35.385Z"
   },
   {
    "duration": 6,
    "start_time": "2022-11-20T20:28:37.805Z"
   },
   {
    "duration": 12,
    "start_time": "2022-11-20T20:28:58.178Z"
   },
   {
    "duration": 641,
    "start_time": "2022-11-20T20:29:09.659Z"
   },
   {
    "duration": 119,
    "start_time": "2022-11-20T20:29:10.303Z"
   },
   {
    "duration": 21,
    "start_time": "2022-11-20T20:29:10.424Z"
   },
   {
    "duration": 8,
    "start_time": "2022-11-20T20:29:10.448Z"
   },
   {
    "duration": 8,
    "start_time": "2022-11-20T20:29:10.458Z"
   },
   {
    "duration": 11,
    "start_time": "2022-11-20T20:29:10.468Z"
   },
   {
    "duration": 19,
    "start_time": "2022-11-20T20:29:10.480Z"
   },
   {
    "duration": 17,
    "start_time": "2022-11-20T20:29:10.501Z"
   },
   {
    "duration": 28,
    "start_time": "2022-11-20T20:29:10.521Z"
   },
   {
    "duration": 5,
    "start_time": "2022-11-20T20:29:10.552Z"
   },
   {
    "duration": 17,
    "start_time": "2022-11-20T20:29:10.558Z"
   },
   {
    "duration": 5,
    "start_time": "2022-11-20T20:29:10.577Z"
   },
   {
    "duration": 9,
    "start_time": "2022-11-20T20:29:10.583Z"
   },
   {
    "duration": 13,
    "start_time": "2022-11-20T20:29:10.593Z"
   },
   {
    "duration": 8,
    "start_time": "2022-11-20T20:29:10.607Z"
   },
   {
    "duration": 26,
    "start_time": "2022-11-20T20:29:10.617Z"
   },
   {
    "duration": 8,
    "start_time": "2022-11-20T20:29:10.646Z"
   },
   {
    "duration": 22,
    "start_time": "2022-11-20T20:29:10.655Z"
   },
   {
    "duration": 34,
    "start_time": "2022-11-20T20:29:10.679Z"
   },
   {
    "duration": 26,
    "start_time": "2022-11-20T20:29:10.715Z"
   },
   {
    "duration": 22,
    "start_time": "2022-11-20T20:29:10.742Z"
   },
   {
    "duration": 10,
    "start_time": "2022-11-20T20:29:10.765Z"
   },
   {
    "duration": 12,
    "start_time": "2022-11-20T20:29:10.777Z"
   },
   {
    "duration": 13,
    "start_time": "2022-11-20T20:29:10.791Z"
   },
   {
    "duration": 8,
    "start_time": "2022-11-20T20:29:10.805Z"
   },
   {
    "duration": 9,
    "start_time": "2022-11-20T20:29:10.835Z"
   },
   {
    "duration": 17,
    "start_time": "2022-11-20T20:29:10.846Z"
   },
   {
    "duration": 13,
    "start_time": "2022-11-20T20:29:10.867Z"
   },
   {
    "duration": 14,
    "start_time": "2022-11-20T20:29:10.881Z"
   },
   {
    "duration": 19,
    "start_time": "2022-11-20T20:29:10.896Z"
   },
   {
    "duration": 12,
    "start_time": "2022-11-20T20:29:10.935Z"
   },
   {
    "duration": 20,
    "start_time": "2022-11-20T20:29:10.948Z"
   },
   {
    "duration": 27,
    "start_time": "2022-11-20T20:29:10.969Z"
   },
   {
    "duration": 14,
    "start_time": "2022-11-20T20:29:10.998Z"
   },
   {
    "duration": 44,
    "start_time": "2022-11-20T20:29:11.013Z"
   },
   {
    "duration": 118,
    "start_time": "2022-11-20T20:29:11.059Z"
   },
   {
    "duration": 13,
    "start_time": "2022-11-20T20:29:11.179Z"
   },
   {
    "duration": 9,
    "start_time": "2022-11-20T20:29:11.194Z"
   },
   {
    "duration": 17,
    "start_time": "2022-11-20T20:29:11.205Z"
   },
   {
    "duration": 12,
    "start_time": "2022-11-20T20:29:11.224Z"
   },
   {
    "duration": 19,
    "start_time": "2022-11-20T20:29:11.238Z"
   },
   {
    "duration": 32,
    "start_time": "2022-11-20T20:29:11.259Z"
   },
   {
    "duration": 209,
    "start_time": "2022-11-20T20:29:11.292Z"
   },
   {
    "duration": 183,
    "start_time": "2022-11-20T20:29:11.502Z"
   },
   {
    "duration": 19,
    "start_time": "2022-11-20T20:29:11.687Z"
   },
   {
    "duration": 34,
    "start_time": "2022-11-20T20:29:11.708Z"
   },
   {
    "duration": 17,
    "start_time": "2022-11-20T20:29:11.744Z"
   },
   {
    "duration": 286,
    "start_time": "2022-11-20T20:29:11.763Z"
   },
   {
    "duration": 7,
    "start_time": "2022-11-20T20:29:12.051Z"
   },
   {
    "duration": 31,
    "start_time": "2022-11-20T20:29:12.060Z"
   },
   {
    "duration": 36,
    "start_time": "2022-11-20T20:29:12.093Z"
   },
   {
    "duration": 256,
    "start_time": "2022-11-20T20:29:12.131Z"
   },
   {
    "duration": 7,
    "start_time": "2022-11-20T20:29:12.390Z"
   },
   {
    "duration": 81,
    "start_time": "2022-11-20T20:29:12.399Z"
   },
   {
    "duration": 31,
    "start_time": "2022-11-20T20:29:12.482Z"
   },
   {
    "duration": 21,
    "start_time": "2022-11-20T20:29:12.515Z"
   },
   {
    "duration": 37,
    "start_time": "2022-11-20T20:29:12.539Z"
   },
   {
    "duration": 41,
    "start_time": "2022-11-20T20:29:12.577Z"
   },
   {
    "duration": 25,
    "start_time": "2022-11-20T20:29:12.620Z"
   },
   {
    "duration": 46,
    "start_time": "2022-11-20T20:32:58.255Z"
   },
   {
    "duration": 637,
    "start_time": "2022-11-20T20:39:56.498Z"
   },
   {
    "duration": 119,
    "start_time": "2022-11-20T20:39:57.137Z"
   },
   {
    "duration": 21,
    "start_time": "2022-11-20T20:39:57.258Z"
   },
   {
    "duration": 6,
    "start_time": "2022-11-20T20:39:57.281Z"
   },
   {
    "duration": 12,
    "start_time": "2022-11-20T20:39:57.288Z"
   },
   {
    "duration": 20,
    "start_time": "2022-11-20T20:39:57.301Z"
   },
   {
    "duration": 19,
    "start_time": "2022-11-20T20:39:57.323Z"
   },
   {
    "duration": 14,
    "start_time": "2022-11-20T20:39:57.343Z"
   },
   {
    "duration": 16,
    "start_time": "2022-11-20T20:39:57.358Z"
   },
   {
    "duration": 4,
    "start_time": "2022-11-20T20:39:57.377Z"
   },
   {
    "duration": 16,
    "start_time": "2022-11-20T20:39:57.382Z"
   },
   {
    "duration": 8,
    "start_time": "2022-11-20T20:39:57.400Z"
   },
   {
    "duration": 28,
    "start_time": "2022-11-20T20:39:57.409Z"
   },
   {
    "duration": 15,
    "start_time": "2022-11-20T20:39:57.438Z"
   },
   {
    "duration": 10,
    "start_time": "2022-11-20T20:39:57.455Z"
   },
   {
    "duration": 22,
    "start_time": "2022-11-20T20:39:57.467Z"
   },
   {
    "duration": 16,
    "start_time": "2022-11-20T20:39:57.491Z"
   },
   {
    "duration": 14,
    "start_time": "2022-11-20T20:39:57.508Z"
   },
   {
    "duration": 39,
    "start_time": "2022-11-20T20:39:57.524Z"
   },
   {
    "duration": 10,
    "start_time": "2022-11-20T20:39:57.565Z"
   },
   {
    "duration": 26,
    "start_time": "2022-11-20T20:39:57.577Z"
   },
   {
    "duration": 9,
    "start_time": "2022-11-20T20:39:57.604Z"
   },
   {
    "duration": 14,
    "start_time": "2022-11-20T20:39:57.615Z"
   },
   {
    "duration": 7,
    "start_time": "2022-11-20T20:39:57.636Z"
   },
   {
    "duration": 8,
    "start_time": "2022-11-20T20:39:57.645Z"
   },
   {
    "duration": 19,
    "start_time": "2022-11-20T20:39:57.655Z"
   },
   {
    "duration": 22,
    "start_time": "2022-11-20T20:39:57.676Z"
   },
   {
    "duration": 11,
    "start_time": "2022-11-20T20:39:57.702Z"
   },
   {
    "duration": 12,
    "start_time": "2022-11-20T20:39:57.715Z"
   },
   {
    "duration": 13,
    "start_time": "2022-11-20T20:39:57.735Z"
   },
   {
    "duration": 12,
    "start_time": "2022-11-20T20:39:57.749Z"
   },
   {
    "duration": 16,
    "start_time": "2022-11-20T20:39:57.763Z"
   },
   {
    "duration": 19,
    "start_time": "2022-11-20T20:39:57.780Z"
   },
   {
    "duration": 19,
    "start_time": "2022-11-20T20:39:57.800Z"
   },
   {
    "duration": 36,
    "start_time": "2022-11-20T20:39:57.820Z"
   },
   {
    "duration": 107,
    "start_time": "2022-11-20T20:39:57.857Z"
   },
   {
    "duration": 10,
    "start_time": "2022-11-20T20:39:57.966Z"
   },
   {
    "duration": 20,
    "start_time": "2022-11-20T20:39:57.978Z"
   },
   {
    "duration": 19,
    "start_time": "2022-11-20T20:39:58.000Z"
   },
   {
    "duration": 29,
    "start_time": "2022-11-20T20:39:58.021Z"
   },
   {
    "duration": 28,
    "start_time": "2022-11-20T20:39:58.051Z"
   },
   {
    "duration": 28,
    "start_time": "2022-11-20T20:39:58.081Z"
   },
   {
    "duration": 193,
    "start_time": "2022-11-20T20:39:58.111Z"
   },
   {
    "duration": 177,
    "start_time": "2022-11-20T20:39:58.306Z"
   },
   {
    "duration": 17,
    "start_time": "2022-11-20T20:39:58.485Z"
   },
   {
    "duration": 32,
    "start_time": "2022-11-20T20:39:58.504Z"
   },
   {
    "duration": 17,
    "start_time": "2022-11-20T20:39:58.538Z"
   },
   {
    "duration": 276,
    "start_time": "2022-11-20T20:39:58.557Z"
   },
   {
    "duration": 8,
    "start_time": "2022-11-20T20:39:58.835Z"
   },
   {
    "duration": 12,
    "start_time": "2022-11-20T20:39:58.845Z"
   },
   {
    "duration": 25,
    "start_time": "2022-11-20T20:39:58.858Z"
   },
   {
    "duration": 229,
    "start_time": "2022-11-20T20:39:58.885Z"
   },
   {
    "duration": 7,
    "start_time": "2022-11-20T20:39:59.115Z"
   },
   {
    "duration": 36,
    "start_time": "2022-11-20T20:39:59.123Z"
   },
   {
    "duration": 11,
    "start_time": "2022-11-20T20:39:59.161Z"
   },
   {
    "duration": 11,
    "start_time": "2022-11-20T20:39:59.174Z"
   },
   {
    "duration": 13,
    "start_time": "2022-11-20T20:39:59.187Z"
   },
   {
    "duration": 22,
    "start_time": "2022-11-20T20:39:59.201Z"
   },
   {
    "duration": 11,
    "start_time": "2022-11-20T20:39:59.225Z"
   },
   {
    "duration": 616,
    "start_time": "2022-11-20T20:41:14.046Z"
   },
   {
    "duration": 116,
    "start_time": "2022-11-20T20:41:14.664Z"
   },
   {
    "duration": 21,
    "start_time": "2022-11-20T20:41:14.784Z"
   },
   {
    "duration": 6,
    "start_time": "2022-11-20T20:41:14.807Z"
   },
   {
    "duration": 11,
    "start_time": "2022-11-20T20:41:14.814Z"
   },
   {
    "duration": 10,
    "start_time": "2022-11-20T20:41:14.826Z"
   },
   {
    "duration": 18,
    "start_time": "2022-11-20T20:41:14.838Z"
   },
   {
    "duration": 14,
    "start_time": "2022-11-20T20:41:14.857Z"
   },
   {
    "duration": 18,
    "start_time": "2022-11-20T20:41:14.873Z"
   },
   {
    "duration": 4,
    "start_time": "2022-11-20T20:41:14.892Z"
   },
   {
    "duration": 7,
    "start_time": "2022-11-20T20:41:14.898Z"
   },
   {
    "duration": 4,
    "start_time": "2022-11-20T20:41:14.907Z"
   },
   {
    "duration": 29,
    "start_time": "2022-11-20T20:41:14.912Z"
   },
   {
    "duration": 7,
    "start_time": "2022-11-20T20:41:14.943Z"
   },
   {
    "duration": 6,
    "start_time": "2022-11-20T20:41:14.951Z"
   },
   {
    "duration": 12,
    "start_time": "2022-11-20T20:41:14.958Z"
   },
   {
    "duration": 9,
    "start_time": "2022-11-20T20:41:14.971Z"
   },
   {
    "duration": 8,
    "start_time": "2022-11-20T20:41:14.981Z"
   },
   {
    "duration": 49,
    "start_time": "2022-11-20T20:41:14.990Z"
   },
   {
    "duration": 9,
    "start_time": "2022-11-20T20:41:15.041Z"
   },
   {
    "duration": 23,
    "start_time": "2022-11-20T20:41:15.052Z"
   },
   {
    "duration": 10,
    "start_time": "2022-11-20T20:41:15.076Z"
   },
   {
    "duration": 6,
    "start_time": "2022-11-20T20:41:15.087Z"
   },
   {
    "duration": 10,
    "start_time": "2022-11-20T20:41:15.094Z"
   },
   {
    "duration": 6,
    "start_time": "2022-11-20T20:41:15.135Z"
   },
   {
    "duration": 12,
    "start_time": "2022-11-20T20:41:15.143Z"
   },
   {
    "duration": 11,
    "start_time": "2022-11-20T20:41:15.158Z"
   },
   {
    "duration": 14,
    "start_time": "2022-11-20T20:41:15.171Z"
   },
   {
    "duration": 11,
    "start_time": "2022-11-20T20:41:15.186Z"
   },
   {
    "duration": 13,
    "start_time": "2022-11-20T20:41:15.198Z"
   },
   {
    "duration": 10,
    "start_time": "2022-11-20T20:41:15.235Z"
   },
   {
    "duration": 12,
    "start_time": "2022-11-20T20:41:15.247Z"
   },
   {
    "duration": 14,
    "start_time": "2022-11-20T20:41:15.261Z"
   },
   {
    "duration": 8,
    "start_time": "2022-11-20T20:41:15.277Z"
   },
   {
    "duration": 48,
    "start_time": "2022-11-20T20:41:15.292Z"
   },
   {
    "duration": 116,
    "start_time": "2022-11-20T20:41:15.342Z"
   },
   {
    "duration": 11,
    "start_time": "2022-11-20T20:41:15.460Z"
   },
   {
    "duration": 8,
    "start_time": "2022-11-20T20:41:15.473Z"
   },
   {
    "duration": 13,
    "start_time": "2022-11-20T20:41:15.482Z"
   },
   {
    "duration": 10,
    "start_time": "2022-11-20T20:41:15.496Z"
   },
   {
    "duration": 31,
    "start_time": "2022-11-20T20:41:15.508Z"
   },
   {
    "duration": 27,
    "start_time": "2022-11-20T20:41:15.541Z"
   },
   {
    "duration": 215,
    "start_time": "2022-11-20T20:41:15.570Z"
   },
   {
    "duration": 196,
    "start_time": "2022-11-20T20:41:15.787Z"
   },
   {
    "duration": 19,
    "start_time": "2022-11-20T20:41:15.985Z"
   },
   {
    "duration": 30,
    "start_time": "2022-11-20T20:41:16.006Z"
   },
   {
    "duration": 16,
    "start_time": "2022-11-20T20:41:16.038Z"
   },
   {
    "duration": 290,
    "start_time": "2022-11-20T20:41:16.055Z"
   },
   {
    "duration": 6,
    "start_time": "2022-11-20T20:41:16.347Z"
   },
   {
    "duration": 8,
    "start_time": "2022-11-20T20:41:16.355Z"
   },
   {
    "duration": 22,
    "start_time": "2022-11-20T20:41:16.365Z"
   },
   {
    "duration": 227,
    "start_time": "2022-11-20T20:41:16.389Z"
   },
   {
    "duration": 6,
    "start_time": "2022-11-20T20:41:16.618Z"
   },
   {
    "duration": 37,
    "start_time": "2022-11-20T20:41:16.625Z"
   },
   {
    "duration": 15,
    "start_time": "2022-11-20T20:41:16.665Z"
   },
   {
    "duration": 8,
    "start_time": "2022-11-20T20:41:16.682Z"
   },
   {
    "duration": 9,
    "start_time": "2022-11-20T20:41:16.692Z"
   },
   {
    "duration": 18,
    "start_time": "2022-11-20T20:41:16.703Z"
   },
   {
    "duration": 17,
    "start_time": "2022-11-20T20:41:16.724Z"
   },
   {
    "duration": 654,
    "start_time": "2022-11-21T11:47:13.577Z"
   },
   {
    "duration": 300,
    "start_time": "2022-11-21T11:47:14.233Z"
   },
   {
    "duration": 25,
    "start_time": "2022-11-21T11:47:14.534Z"
   },
   {
    "duration": 7,
    "start_time": "2022-11-21T11:47:14.562Z"
   },
   {
    "duration": 31,
    "start_time": "2022-11-21T11:47:14.571Z"
   },
   {
    "duration": 25,
    "start_time": "2022-11-21T11:47:14.604Z"
   },
   {
    "duration": 32,
    "start_time": "2022-11-21T11:47:14.631Z"
   },
   {
    "duration": 20,
    "start_time": "2022-11-21T11:47:14.665Z"
   },
   {
    "duration": 36,
    "start_time": "2022-11-21T11:47:14.687Z"
   },
   {
    "duration": 6,
    "start_time": "2022-11-21T11:47:14.727Z"
   },
   {
    "duration": 33,
    "start_time": "2022-11-21T11:47:14.735Z"
   },
   {
    "duration": 16,
    "start_time": "2022-11-21T11:47:14.770Z"
   },
   {
    "duration": 35,
    "start_time": "2022-11-21T11:47:14.788Z"
   },
   {
    "duration": 40,
    "start_time": "2022-11-21T11:47:14.824Z"
   },
   {
    "duration": 18,
    "start_time": "2022-11-21T11:47:14.866Z"
   },
   {
    "duration": 33,
    "start_time": "2022-11-21T11:47:14.886Z"
   },
   {
    "duration": 18,
    "start_time": "2022-11-21T11:47:14.921Z"
   },
   {
    "duration": 28,
    "start_time": "2022-11-21T11:47:14.941Z"
   },
   {
    "duration": 71,
    "start_time": "2022-11-21T11:47:14.972Z"
   },
   {
    "duration": 9,
    "start_time": "2022-11-21T11:47:15.045Z"
   },
   {
    "duration": 33,
    "start_time": "2022-11-21T11:47:15.056Z"
   },
   {
    "duration": 35,
    "start_time": "2022-11-21T11:47:15.091Z"
   },
   {
    "duration": 37,
    "start_time": "2022-11-21T11:47:15.128Z"
   },
   {
    "duration": 37,
    "start_time": "2022-11-21T11:47:15.167Z"
   },
   {
    "duration": 25,
    "start_time": "2022-11-21T11:47:15.206Z"
   },
   {
    "duration": 26,
    "start_time": "2022-11-21T11:47:15.233Z"
   },
   {
    "duration": 32,
    "start_time": "2022-11-21T11:47:15.262Z"
   },
   {
    "duration": 27,
    "start_time": "2022-11-21T11:47:15.299Z"
   },
   {
    "duration": 39,
    "start_time": "2022-11-21T11:47:15.328Z"
   },
   {
    "duration": 15,
    "start_time": "2022-11-21T11:47:15.370Z"
   },
   {
    "duration": 22,
    "start_time": "2022-11-21T11:47:15.388Z"
   },
   {
    "duration": 13,
    "start_time": "2022-11-21T11:47:15.412Z"
   },
   {
    "duration": 9,
    "start_time": "2022-11-21T11:47:15.427Z"
   },
   {
    "duration": 9,
    "start_time": "2022-11-21T11:47:15.437Z"
   },
   {
    "duration": 28,
    "start_time": "2022-11-21T11:47:15.448Z"
   },
   {
    "duration": 130,
    "start_time": "2022-11-21T11:47:15.478Z"
   },
   {
    "duration": 12,
    "start_time": "2022-11-21T11:47:15.611Z"
   },
   {
    "duration": 11,
    "start_time": "2022-11-21T11:47:15.625Z"
   },
   {
    "duration": 14,
    "start_time": "2022-11-21T11:47:15.639Z"
   },
   {
    "duration": 8,
    "start_time": "2022-11-21T11:47:15.654Z"
   },
   {
    "duration": 37,
    "start_time": "2022-11-21T11:47:15.664Z"
   },
   {
    "duration": 36,
    "start_time": "2022-11-21T11:47:15.703Z"
   },
   {
    "duration": 250,
    "start_time": "2022-11-21T11:47:15.741Z"
   },
   {
    "duration": 232,
    "start_time": "2022-11-21T11:47:15.993Z"
   },
   {
    "duration": 29,
    "start_time": "2022-11-21T11:47:16.228Z"
   },
   {
    "duration": 39,
    "start_time": "2022-11-21T11:47:16.259Z"
   },
   {
    "duration": 23,
    "start_time": "2022-11-21T11:47:16.299Z"
   },
   {
    "duration": 373,
    "start_time": "2022-11-21T11:47:16.325Z"
   },
   {
    "duration": 7,
    "start_time": "2022-11-21T11:47:16.700Z"
   },
   {
    "duration": 16,
    "start_time": "2022-11-21T11:47:16.709Z"
   },
   {
    "duration": 21,
    "start_time": "2022-11-21T11:47:16.727Z"
   },
   {
    "duration": 261,
    "start_time": "2022-11-21T11:47:16.750Z"
   },
   {
    "duration": 7,
    "start_time": "2022-11-21T11:47:17.013Z"
   },
   {
    "duration": 32,
    "start_time": "2022-11-21T11:47:17.022Z"
   },
   {
    "duration": 4,
    "start_time": "2022-11-21T11:47:17.056Z"
   },
   {
    "duration": 35,
    "start_time": "2022-11-21T11:47:17.062Z"
   },
   {
    "duration": 6,
    "start_time": "2022-11-21T11:47:17.099Z"
   },
   {
    "duration": 18,
    "start_time": "2022-11-21T11:47:17.108Z"
   },
   {
    "duration": 22,
    "start_time": "2022-11-21T11:47:17.128Z"
   },
   {
    "duration": 5,
    "start_time": "2022-11-21T11:50:29.505Z"
   },
   {
    "duration": 712,
    "start_time": "2023-08-30T15:49:58.688Z"
   },
   {
    "duration": 281,
    "start_time": "2023-08-30T15:49:59.402Z"
   },
   {
    "duration": 24,
    "start_time": "2023-08-30T15:49:59.684Z"
   },
   {
    "duration": 5,
    "start_time": "2023-08-30T15:49:59.711Z"
   },
   {
    "duration": 27,
    "start_time": "2023-08-30T15:49:59.718Z"
   },
   {
    "duration": 29,
    "start_time": "2023-08-30T15:49:59.746Z"
   },
   {
    "duration": 18,
    "start_time": "2023-08-30T15:49:59.776Z"
   },
   {
    "duration": 16,
    "start_time": "2023-08-30T15:49:59.796Z"
   },
   {
    "duration": 30,
    "start_time": "2023-08-30T15:49:59.814Z"
   },
   {
    "duration": 6,
    "start_time": "2023-08-30T15:49:59.846Z"
   },
   {
    "duration": 12,
    "start_time": "2023-08-30T15:49:59.854Z"
   },
   {
    "duration": 5,
    "start_time": "2023-08-30T15:49:59.868Z"
   },
   {
    "duration": 9,
    "start_time": "2023-08-30T15:49:59.875Z"
   },
   {
    "duration": 20,
    "start_time": "2023-08-30T15:49:59.886Z"
   },
   {
    "duration": 17,
    "start_time": "2023-08-30T15:49:59.908Z"
   },
   {
    "duration": 12,
    "start_time": "2023-08-30T15:49:59.926Z"
   },
   {
    "duration": 7,
    "start_time": "2023-08-30T15:49:59.940Z"
   },
   {
    "duration": 13,
    "start_time": "2023-08-30T15:49:59.949Z"
   },
   {
    "duration": 52,
    "start_time": "2023-08-30T15:49:59.964Z"
   },
   {
    "duration": 12,
    "start_time": "2023-08-30T15:50:00.019Z"
   },
   {
    "duration": 79,
    "start_time": "2023-08-30T15:50:00.032Z"
   },
   {
    "duration": 38,
    "start_time": "2023-08-30T15:50:00.114Z"
   },
   {
    "duration": 36,
    "start_time": "2023-08-30T15:50:00.153Z"
   },
   {
    "duration": 39,
    "start_time": "2023-08-30T15:50:00.190Z"
   },
   {
    "duration": 45,
    "start_time": "2023-08-30T15:50:00.230Z"
   },
   {
    "duration": 42,
    "start_time": "2023-08-30T15:50:00.277Z"
   },
   {
    "duration": 31,
    "start_time": "2023-08-30T15:50:00.321Z"
   },
   {
    "duration": 90,
    "start_time": "2023-08-30T15:50:00.355Z"
   },
   {
    "duration": 42,
    "start_time": "2023-08-30T15:50:00.447Z"
   },
   {
    "duration": 28,
    "start_time": "2023-08-30T15:50:00.490Z"
   },
   {
    "duration": 27,
    "start_time": "2023-08-30T15:50:00.520Z"
   },
   {
    "duration": 26,
    "start_time": "2023-08-30T15:50:00.549Z"
   },
   {
    "duration": 21,
    "start_time": "2023-08-30T15:50:00.578Z"
   },
   {
    "duration": 39,
    "start_time": "2023-08-30T15:50:00.600Z"
   },
   {
    "duration": 46,
    "start_time": "2023-08-30T15:50:00.640Z"
   },
   {
    "duration": 133,
    "start_time": "2023-08-30T15:50:00.688Z"
   },
   {
    "duration": 12,
    "start_time": "2023-08-30T15:50:00.823Z"
   },
   {
    "duration": 41,
    "start_time": "2023-08-30T15:50:00.837Z"
   },
   {
    "duration": 58,
    "start_time": "2023-08-30T15:50:00.879Z"
   },
   {
    "duration": 48,
    "start_time": "2023-08-30T15:50:00.939Z"
   },
   {
    "duration": 56,
    "start_time": "2023-08-30T15:50:00.989Z"
   },
   {
    "duration": 141,
    "start_time": "2023-08-30T15:50:01.047Z"
   },
   {
    "duration": 328,
    "start_time": "2023-08-30T15:50:01.190Z"
   },
   {
    "duration": 213,
    "start_time": "2023-08-30T15:50:01.520Z"
   },
   {
    "duration": 20,
    "start_time": "2023-08-30T15:50:01.734Z"
   },
   {
    "duration": 111,
    "start_time": "2023-08-30T15:50:01.756Z"
   },
   {
    "duration": 47,
    "start_time": "2023-08-30T15:50:01.870Z"
   },
   {
    "duration": 450,
    "start_time": "2023-08-30T15:50:01.919Z"
   },
   {
    "duration": 9,
    "start_time": "2023-08-30T15:50:02.371Z"
   },
   {
    "duration": 140,
    "start_time": "2023-08-30T15:50:02.382Z"
   },
   {
    "duration": 80,
    "start_time": "2023-08-30T15:50:02.524Z"
   },
   {
    "duration": 405,
    "start_time": "2023-08-30T15:50:02.606Z"
   },
   {
    "duration": 7,
    "start_time": "2023-08-30T15:50:03.012Z"
   },
   {
    "duration": 45,
    "start_time": "2023-08-30T15:50:03.021Z"
   },
   {
    "duration": 48,
    "start_time": "2023-08-30T15:50:03.068Z"
   },
   {
    "duration": 30,
    "start_time": "2023-08-30T15:50:03.117Z"
   },
   {
    "duration": 22,
    "start_time": "2023-08-30T15:50:03.149Z"
   },
   {
    "duration": 40,
    "start_time": "2023-08-30T15:50:03.173Z"
   },
   {
    "duration": 35,
    "start_time": "2023-08-30T15:50:03.215Z"
   }
  ],
  "colab": {
   "name": "DA+. Сборный проект 1. Шаблон (1).ipynb",
   "provenance": []
  },
  "kernelspec": {
   "display_name": "Python 3 (ipykernel)",
   "language": "python",
   "name": "python3"
  },
  "language_info": {
   "codemirror_mode": {
    "name": "ipython",
    "version": 3
   },
   "file_extension": ".py",
   "mimetype": "text/x-python",
   "name": "python",
   "nbconvert_exporter": "python",
   "pygments_lexer": "ipython3",
   "version": "3.9.12"
  },
  "toc": {
   "base_numbering": 1,
   "nav_menu": {},
   "number_sections": true,
   "sideBar": true,
   "skip_h1_title": true,
   "title_cell": "Table of Contents",
   "title_sidebar": "Contents",
   "toc_cell": false,
   "toc_position": {
    "height": "calc(100% - 180px)",
    "left": "10px",
    "top": "150px",
    "width": "375.391px"
   },
   "toc_section_display": true,
   "toc_window_display": true
  }
 },
 "nbformat": 4,
 "nbformat_minor": 1
}
