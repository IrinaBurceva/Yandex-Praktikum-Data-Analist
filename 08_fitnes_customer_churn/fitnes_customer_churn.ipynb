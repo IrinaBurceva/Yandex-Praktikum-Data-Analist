{
 "cells": [
  {
   "cell_type": "markdown",
   "metadata": {},
   "source": [
    "# Прогнозирование вероятности оттока пользователей для сети фитнес-центров"
   ]
  },
  {
   "cell_type": "markdown",
   "metadata": {},
   "source": [
    "**Описание проекта:** \n",
    "    \n",
    "Необходимо проанализировать данные сети фитнес-центров \"Культурист-датасайентист\" и разработать стратегию взаимодействия с клиентами на основе аналитических данных."
   ]
  },
  {
   "cell_type": "markdown",
   "metadata": {},
   "source": [
    "**Цели проекта:**\n",
    "    \n",
    "1) Провести анализ данных и подготовить план действий по удержанию клиентов.\n",
    " "
   ]
  },
  {
   "cell_type": "markdown",
   "metadata": {},
   "source": [
    "**Задачи проекта:**\n",
    "\n",
    "   - спрогнозировать вероятность оттока для каждого клиента,\n",
    "   - сформировать типичные портреты клиентов, выделить несколько наиболее ярких групп и охарактеризовать их основные свойства,\n",
    "   - проанализировать основные признаки, наиболее сильно влияющие на отток,\n",
    "   - разработать рекомендации по повышению качества работы с клиентами."
   ]
  },
  {
   "cell_type": "markdown",
   "metadata": {},
   "source": [
    "**План (декомпозиция) анализа данных:**\n",
    "\n",
    "1) Загрузить данные\n",
    "\n",
    "2) Провести исследовательский анализ данных\n",
    "\n",
    "3) Построить модель прогнозирования оттока клиентов\n",
    "\n",
    "4) Провести кластеризацию клиентов и для каждого полученного кластера посчитать долю \n",
    "\n",
    "5) Сформулировать выводы и предложить базовые рекомендации по работе с клиентами."
   ]
  },
  {
   "cell_type": "markdown",
   "metadata": {},
   "source": [
    "## Загрузка данных"
   ]
  },
  {
   "cell_type": "code",
   "execution_count": 1,
   "metadata": {},
   "outputs": [],
   "source": [
    "#загрузка необходимых библиотек\n",
    "import pandas as pd\n",
    "import seaborn as sns\n",
    "import matplotlib.pyplot as plt\n",
    "from sklearn.model_selection import train_test_split\n",
    "from sklearn.linear_model import LogisticRegression\n",
    "from sklearn.preprocessing import StandardScaler\n",
    "from sklearn.ensemble import RandomForestClassifier, GradientBoostingClassifier\n",
    "from sklearn.metrics import accuracy_score, precision_score, recall_score, f1_score\n",
    "from scipy.cluster.hierarchy import dendrogram, linkage \n",
    "from sklearn.cluster import KMeans\n",
    "import itertools"
   ]
  },
  {
   "cell_type": "code",
   "execution_count": 2,
   "metadata": {},
   "outputs": [],
   "source": [
    "#загрузка данных в переменную\n",
    "data = pd.read_csv('/datasets/gym_churn.csv')"
   ]
  },
  {
   "cell_type": "markdown",
   "metadata": {},
   "source": [
    "## Исследовательский анализ данных (EDA)"
   ]
  },
  {
   "cell_type": "code",
   "execution_count": 3,
   "metadata": {},
   "outputs": [
    {
     "name": "stdout",
     "output_type": "stream",
     "text": [
      "<class 'pandas.core.frame.DataFrame'>\n",
      "RangeIndex: 4000 entries, 0 to 3999\n",
      "Data columns (total 14 columns):\n",
      " #   Column                             Non-Null Count  Dtype  \n",
      "---  ------                             --------------  -----  \n",
      " 0   gender                             4000 non-null   int64  \n",
      " 1   Near_Location                      4000 non-null   int64  \n",
      " 2   Partner                            4000 non-null   int64  \n",
      " 3   Promo_friends                      4000 non-null   int64  \n",
      " 4   Phone                              4000 non-null   int64  \n",
      " 5   Contract_period                    4000 non-null   int64  \n",
      " 6   Group_visits                       4000 non-null   int64  \n",
      " 7   Age                                4000 non-null   int64  \n",
      " 8   Avg_additional_charges_total       4000 non-null   float64\n",
      " 9   Month_to_end_contract              4000 non-null   float64\n",
      " 10  Lifetime                           4000 non-null   int64  \n",
      " 11  Avg_class_frequency_total          4000 non-null   float64\n",
      " 12  Avg_class_frequency_current_month  4000 non-null   float64\n",
      " 13  Churn                              4000 non-null   int64  \n",
      "dtypes: float64(4), int64(10)\n",
      "memory usage: 437.6 KB\n"
     ]
    }
   ],
   "source": [
    "#вывод информации о датафрейме на экран\n",
    "data.info()"
   ]
  },
  {
   "cell_type": "code",
   "execution_count": 4,
   "metadata": {},
   "outputs": [
    {
     "data": {
      "text/html": [
       "<div>\n",
       "<style scoped>\n",
       "    .dataframe tbody tr th:only-of-type {\n",
       "        vertical-align: middle;\n",
       "    }\n",
       "\n",
       "    .dataframe tbody tr th {\n",
       "        vertical-align: top;\n",
       "    }\n",
       "\n",
       "    .dataframe thead th {\n",
       "        text-align: right;\n",
       "    }\n",
       "</style>\n",
       "<table border=\"1\" class=\"dataframe\">\n",
       "  <thead>\n",
       "    <tr style=\"text-align: right;\">\n",
       "      <th></th>\n",
       "      <th>gender</th>\n",
       "      <th>Near_Location</th>\n",
       "      <th>Partner</th>\n",
       "      <th>Promo_friends</th>\n",
       "      <th>Phone</th>\n",
       "      <th>Contract_period</th>\n",
       "      <th>Group_visits</th>\n",
       "      <th>Age</th>\n",
       "      <th>Avg_additional_charges_total</th>\n",
       "      <th>Month_to_end_contract</th>\n",
       "      <th>Lifetime</th>\n",
       "      <th>Avg_class_frequency_total</th>\n",
       "      <th>Avg_class_frequency_current_month</th>\n",
       "      <th>Churn</th>\n",
       "    </tr>\n",
       "  </thead>\n",
       "  <tbody>\n",
       "    <tr>\n",
       "      <th>0</th>\n",
       "      <td>1</td>\n",
       "      <td>1</td>\n",
       "      <td>1</td>\n",
       "      <td>1</td>\n",
       "      <td>0</td>\n",
       "      <td>6</td>\n",
       "      <td>1</td>\n",
       "      <td>29</td>\n",
       "      <td>14.227470</td>\n",
       "      <td>5.0</td>\n",
       "      <td>3</td>\n",
       "      <td>0.020398</td>\n",
       "      <td>0.000000</td>\n",
       "      <td>0</td>\n",
       "    </tr>\n",
       "    <tr>\n",
       "      <th>1</th>\n",
       "      <td>0</td>\n",
       "      <td>1</td>\n",
       "      <td>0</td>\n",
       "      <td>0</td>\n",
       "      <td>1</td>\n",
       "      <td>12</td>\n",
       "      <td>1</td>\n",
       "      <td>31</td>\n",
       "      <td>113.202938</td>\n",
       "      <td>12.0</td>\n",
       "      <td>7</td>\n",
       "      <td>1.922936</td>\n",
       "      <td>1.910244</td>\n",
       "      <td>0</td>\n",
       "    </tr>\n",
       "    <tr>\n",
       "      <th>2</th>\n",
       "      <td>0</td>\n",
       "      <td>1</td>\n",
       "      <td>1</td>\n",
       "      <td>0</td>\n",
       "      <td>1</td>\n",
       "      <td>1</td>\n",
       "      <td>0</td>\n",
       "      <td>28</td>\n",
       "      <td>129.448479</td>\n",
       "      <td>1.0</td>\n",
       "      <td>2</td>\n",
       "      <td>1.859098</td>\n",
       "      <td>1.736502</td>\n",
       "      <td>0</td>\n",
       "    </tr>\n",
       "    <tr>\n",
       "      <th>3</th>\n",
       "      <td>0</td>\n",
       "      <td>1</td>\n",
       "      <td>1</td>\n",
       "      <td>1</td>\n",
       "      <td>1</td>\n",
       "      <td>12</td>\n",
       "      <td>1</td>\n",
       "      <td>33</td>\n",
       "      <td>62.669863</td>\n",
       "      <td>12.0</td>\n",
       "      <td>2</td>\n",
       "      <td>3.205633</td>\n",
       "      <td>3.357215</td>\n",
       "      <td>0</td>\n",
       "    </tr>\n",
       "    <tr>\n",
       "      <th>4</th>\n",
       "      <td>1</td>\n",
       "      <td>1</td>\n",
       "      <td>1</td>\n",
       "      <td>1</td>\n",
       "      <td>1</td>\n",
       "      <td>1</td>\n",
       "      <td>0</td>\n",
       "      <td>26</td>\n",
       "      <td>198.362265</td>\n",
       "      <td>1.0</td>\n",
       "      <td>3</td>\n",
       "      <td>1.113884</td>\n",
       "      <td>1.120078</td>\n",
       "      <td>0</td>\n",
       "    </tr>\n",
       "  </tbody>\n",
       "</table>\n",
       "</div>"
      ],
      "text/plain": [
       "   gender  Near_Location  Partner  Promo_friends  Phone  Contract_period  \\\n",
       "0       1              1        1              1      0                6   \n",
       "1       0              1        0              0      1               12   \n",
       "2       0              1        1              0      1                1   \n",
       "3       0              1        1              1      1               12   \n",
       "4       1              1        1              1      1                1   \n",
       "\n",
       "   Group_visits  Age  Avg_additional_charges_total  Month_to_end_contract  \\\n",
       "0             1   29                     14.227470                    5.0   \n",
       "1             1   31                    113.202938                   12.0   \n",
       "2             0   28                    129.448479                    1.0   \n",
       "3             1   33                     62.669863                   12.0   \n",
       "4             0   26                    198.362265                    1.0   \n",
       "\n",
       "   Lifetime  Avg_class_frequency_total  Avg_class_frequency_current_month  \\\n",
       "0         3                   0.020398                           0.000000   \n",
       "1         7                   1.922936                           1.910244   \n",
       "2         2                   1.859098                           1.736502   \n",
       "3         2                   3.205633                           3.357215   \n",
       "4         3                   1.113884                           1.120078   \n",
       "\n",
       "   Churn  \n",
       "0      0  \n",
       "1      0  \n",
       "2      0  \n",
       "3      0  \n",
       "4      0  "
      ]
     },
     "execution_count": 4,
     "metadata": {},
     "output_type": "execute_result"
    }
   ],
   "source": [
    "#просмотр первых пяти строк\n",
    "data.head()"
   ]
  },
  {
   "cell_type": "code",
   "execution_count": 5,
   "metadata": {},
   "outputs": [
    {
     "data": {
      "text/plain": [
       "gender                               0\n",
       "Near_Location                        0\n",
       "Partner                              0\n",
       "Promo_friends                        0\n",
       "Phone                                0\n",
       "Contract_period                      0\n",
       "Group_visits                         0\n",
       "Age                                  0\n",
       "Avg_additional_charges_total         0\n",
       "Month_to_end_contract                0\n",
       "Lifetime                             0\n",
       "Avg_class_frequency_total            0\n",
       "Avg_class_frequency_current_month    0\n",
       "Churn                                0\n",
       "dtype: int64"
      ]
     },
     "execution_count": 5,
     "metadata": {},
     "output_type": "execute_result"
    }
   ],
   "source": [
    "#подсчет пропущенных значений\n",
    "data.isna().sum()"
   ]
  },
  {
   "cell_type": "code",
   "execution_count": 6,
   "metadata": {},
   "outputs": [
    {
     "data": {
      "text/html": [
       "<div>\n",
       "<style scoped>\n",
       "    .dataframe tbody tr th:only-of-type {\n",
       "        vertical-align: middle;\n",
       "    }\n",
       "\n",
       "    .dataframe tbody tr th {\n",
       "        vertical-align: top;\n",
       "    }\n",
       "\n",
       "    .dataframe thead th {\n",
       "        text-align: right;\n",
       "    }\n",
       "</style>\n",
       "<table border=\"1\" class=\"dataframe\">\n",
       "  <thead>\n",
       "    <tr style=\"text-align: right;\">\n",
       "      <th></th>\n",
       "      <th>gender</th>\n",
       "      <th>Near_Location</th>\n",
       "      <th>Partner</th>\n",
       "      <th>Promo_friends</th>\n",
       "      <th>Phone</th>\n",
       "      <th>Contract_period</th>\n",
       "      <th>Group_visits</th>\n",
       "      <th>Age</th>\n",
       "      <th>Avg_additional_charges_total</th>\n",
       "      <th>Month_to_end_contract</th>\n",
       "      <th>Lifetime</th>\n",
       "      <th>Avg_class_frequency_total</th>\n",
       "      <th>Avg_class_frequency_current_month</th>\n",
       "      <th>Churn</th>\n",
       "    </tr>\n",
       "  </thead>\n",
       "  <tbody>\n",
       "    <tr>\n",
       "      <th>count</th>\n",
       "      <td>4000.000000</td>\n",
       "      <td>4000.000000</td>\n",
       "      <td>4000.000000</td>\n",
       "      <td>4000.000000</td>\n",
       "      <td>4000.000000</td>\n",
       "      <td>4000.000000</td>\n",
       "      <td>4000.000000</td>\n",
       "      <td>4000.000000</td>\n",
       "      <td>4000.000000</td>\n",
       "      <td>4000.000000</td>\n",
       "      <td>4000.000000</td>\n",
       "      <td>4000.000000</td>\n",
       "      <td>4000.000000</td>\n",
       "      <td>4000.000000</td>\n",
       "    </tr>\n",
       "    <tr>\n",
       "      <th>mean</th>\n",
       "      <td>0.510250</td>\n",
       "      <td>0.845250</td>\n",
       "      <td>0.486750</td>\n",
       "      <td>0.308500</td>\n",
       "      <td>0.903500</td>\n",
       "      <td>4.681250</td>\n",
       "      <td>0.412250</td>\n",
       "      <td>29.184250</td>\n",
       "      <td>146.943728</td>\n",
       "      <td>4.322750</td>\n",
       "      <td>3.724750</td>\n",
       "      <td>1.879020</td>\n",
       "      <td>1.767052</td>\n",
       "      <td>0.265250</td>\n",
       "    </tr>\n",
       "    <tr>\n",
       "      <th>std</th>\n",
       "      <td>0.499957</td>\n",
       "      <td>0.361711</td>\n",
       "      <td>0.499887</td>\n",
       "      <td>0.461932</td>\n",
       "      <td>0.295313</td>\n",
       "      <td>4.549706</td>\n",
       "      <td>0.492301</td>\n",
       "      <td>3.258367</td>\n",
       "      <td>96.355602</td>\n",
       "      <td>4.191297</td>\n",
       "      <td>3.749267</td>\n",
       "      <td>0.972245</td>\n",
       "      <td>1.052906</td>\n",
       "      <td>0.441521</td>\n",
       "    </tr>\n",
       "    <tr>\n",
       "      <th>min</th>\n",
       "      <td>0.000000</td>\n",
       "      <td>0.000000</td>\n",
       "      <td>0.000000</td>\n",
       "      <td>0.000000</td>\n",
       "      <td>0.000000</td>\n",
       "      <td>1.000000</td>\n",
       "      <td>0.000000</td>\n",
       "      <td>18.000000</td>\n",
       "      <td>0.148205</td>\n",
       "      <td>1.000000</td>\n",
       "      <td>0.000000</td>\n",
       "      <td>0.000000</td>\n",
       "      <td>0.000000</td>\n",
       "      <td>0.000000</td>\n",
       "    </tr>\n",
       "    <tr>\n",
       "      <th>25%</th>\n",
       "      <td>0.000000</td>\n",
       "      <td>1.000000</td>\n",
       "      <td>0.000000</td>\n",
       "      <td>0.000000</td>\n",
       "      <td>1.000000</td>\n",
       "      <td>1.000000</td>\n",
       "      <td>0.000000</td>\n",
       "      <td>27.000000</td>\n",
       "      <td>68.868830</td>\n",
       "      <td>1.000000</td>\n",
       "      <td>1.000000</td>\n",
       "      <td>1.180875</td>\n",
       "      <td>0.963003</td>\n",
       "      <td>0.000000</td>\n",
       "    </tr>\n",
       "    <tr>\n",
       "      <th>50%</th>\n",
       "      <td>1.000000</td>\n",
       "      <td>1.000000</td>\n",
       "      <td>0.000000</td>\n",
       "      <td>0.000000</td>\n",
       "      <td>1.000000</td>\n",
       "      <td>1.000000</td>\n",
       "      <td>0.000000</td>\n",
       "      <td>29.000000</td>\n",
       "      <td>136.220159</td>\n",
       "      <td>1.000000</td>\n",
       "      <td>3.000000</td>\n",
       "      <td>1.832768</td>\n",
       "      <td>1.719574</td>\n",
       "      <td>0.000000</td>\n",
       "    </tr>\n",
       "    <tr>\n",
       "      <th>75%</th>\n",
       "      <td>1.000000</td>\n",
       "      <td>1.000000</td>\n",
       "      <td>1.000000</td>\n",
       "      <td>1.000000</td>\n",
       "      <td>1.000000</td>\n",
       "      <td>6.000000</td>\n",
       "      <td>1.000000</td>\n",
       "      <td>31.000000</td>\n",
       "      <td>210.949625</td>\n",
       "      <td>6.000000</td>\n",
       "      <td>5.000000</td>\n",
       "      <td>2.536078</td>\n",
       "      <td>2.510336</td>\n",
       "      <td>1.000000</td>\n",
       "    </tr>\n",
       "    <tr>\n",
       "      <th>max</th>\n",
       "      <td>1.000000</td>\n",
       "      <td>1.000000</td>\n",
       "      <td>1.000000</td>\n",
       "      <td>1.000000</td>\n",
       "      <td>1.000000</td>\n",
       "      <td>12.000000</td>\n",
       "      <td>1.000000</td>\n",
       "      <td>41.000000</td>\n",
       "      <td>552.590740</td>\n",
       "      <td>12.000000</td>\n",
       "      <td>31.000000</td>\n",
       "      <td>6.023668</td>\n",
       "      <td>6.146783</td>\n",
       "      <td>1.000000</td>\n",
       "    </tr>\n",
       "  </tbody>\n",
       "</table>\n",
       "</div>"
      ],
      "text/plain": [
       "            gender  Near_Location      Partner  Promo_friends        Phone  \\\n",
       "count  4000.000000    4000.000000  4000.000000    4000.000000  4000.000000   \n",
       "mean      0.510250       0.845250     0.486750       0.308500     0.903500   \n",
       "std       0.499957       0.361711     0.499887       0.461932     0.295313   \n",
       "min       0.000000       0.000000     0.000000       0.000000     0.000000   \n",
       "25%       0.000000       1.000000     0.000000       0.000000     1.000000   \n",
       "50%       1.000000       1.000000     0.000000       0.000000     1.000000   \n",
       "75%       1.000000       1.000000     1.000000       1.000000     1.000000   \n",
       "max       1.000000       1.000000     1.000000       1.000000     1.000000   \n",
       "\n",
       "       Contract_period  Group_visits          Age  \\\n",
       "count      4000.000000   4000.000000  4000.000000   \n",
       "mean          4.681250      0.412250    29.184250   \n",
       "std           4.549706      0.492301     3.258367   \n",
       "min           1.000000      0.000000    18.000000   \n",
       "25%           1.000000      0.000000    27.000000   \n",
       "50%           1.000000      0.000000    29.000000   \n",
       "75%           6.000000      1.000000    31.000000   \n",
       "max          12.000000      1.000000    41.000000   \n",
       "\n",
       "       Avg_additional_charges_total  Month_to_end_contract     Lifetime  \\\n",
       "count                   4000.000000            4000.000000  4000.000000   \n",
       "mean                     146.943728               4.322750     3.724750   \n",
       "std                       96.355602               4.191297     3.749267   \n",
       "min                        0.148205               1.000000     0.000000   \n",
       "25%                       68.868830               1.000000     1.000000   \n",
       "50%                      136.220159               1.000000     3.000000   \n",
       "75%                      210.949625               6.000000     5.000000   \n",
       "max                      552.590740              12.000000    31.000000   \n",
       "\n",
       "       Avg_class_frequency_total  Avg_class_frequency_current_month  \\\n",
       "count                4000.000000                        4000.000000   \n",
       "mean                    1.879020                           1.767052   \n",
       "std                     0.972245                           1.052906   \n",
       "min                     0.000000                           0.000000   \n",
       "25%                     1.180875                           0.963003   \n",
       "50%                     1.832768                           1.719574   \n",
       "75%                     2.536078                           2.510336   \n",
       "max                     6.023668                           6.146783   \n",
       "\n",
       "             Churn  \n",
       "count  4000.000000  \n",
       "mean      0.265250  \n",
       "std       0.441521  \n",
       "min       0.000000  \n",
       "25%       0.000000  \n",
       "50%       0.000000  \n",
       "75%       1.000000  \n",
       "max       1.000000  "
      ]
     },
     "execution_count": 6,
     "metadata": {},
     "output_type": "execute_result"
    }
   ],
   "source": [
    "#вывод основных статистических показателей\n",
    "data.describe()"
   ]
  },
  {
   "cell_type": "code",
   "execution_count": 7,
   "metadata": {},
   "outputs": [
    {
     "data": {
      "text/html": [
       "<div>\n",
       "<style scoped>\n",
       "    .dataframe tbody tr th:only-of-type {\n",
       "        vertical-align: middle;\n",
       "    }\n",
       "\n",
       "    .dataframe tbody tr th {\n",
       "        vertical-align: top;\n",
       "    }\n",
       "\n",
       "    .dataframe thead th {\n",
       "        text-align: right;\n",
       "    }\n",
       "</style>\n",
       "<table border=\"1\" class=\"dataframe\">\n",
       "  <thead>\n",
       "    <tr style=\"text-align: right;\">\n",
       "      <th></th>\n",
       "      <th>gender</th>\n",
       "      <th>Near_Location</th>\n",
       "      <th>Partner</th>\n",
       "      <th>Promo_friends</th>\n",
       "      <th>Phone</th>\n",
       "      <th>Contract_period</th>\n",
       "      <th>Group_visits</th>\n",
       "      <th>Age</th>\n",
       "      <th>Avg_additional_charges_total</th>\n",
       "      <th>Month_to_end_contract</th>\n",
       "      <th>Lifetime</th>\n",
       "      <th>Avg_class_frequency_total</th>\n",
       "      <th>Avg_class_frequency_current_month</th>\n",
       "    </tr>\n",
       "    <tr>\n",
       "      <th>Churn</th>\n",
       "      <th></th>\n",
       "      <th></th>\n",
       "      <th></th>\n",
       "      <th></th>\n",
       "      <th></th>\n",
       "      <th></th>\n",
       "      <th></th>\n",
       "      <th></th>\n",
       "      <th></th>\n",
       "      <th></th>\n",
       "      <th></th>\n",
       "      <th></th>\n",
       "      <th></th>\n",
       "    </tr>\n",
       "  </thead>\n",
       "  <tbody>\n",
       "    <tr>\n",
       "      <th>0</th>\n",
       "      <td>0.510037</td>\n",
       "      <td>0.873086</td>\n",
       "      <td>0.534195</td>\n",
       "      <td>0.353522</td>\n",
       "      <td>0.903709</td>\n",
       "      <td>5.747193</td>\n",
       "      <td>0.464103</td>\n",
       "      <td>29.976523</td>\n",
       "      <td>158.445715</td>\n",
       "      <td>5.283089</td>\n",
       "      <td>4.711807</td>\n",
       "      <td>2.024876</td>\n",
       "      <td>2.027882</td>\n",
       "    </tr>\n",
       "    <tr>\n",
       "      <th>1</th>\n",
       "      <td>0.510839</td>\n",
       "      <td>0.768143</td>\n",
       "      <td>0.355325</td>\n",
       "      <td>0.183789</td>\n",
       "      <td>0.902922</td>\n",
       "      <td>1.728558</td>\n",
       "      <td>0.268615</td>\n",
       "      <td>26.989632</td>\n",
       "      <td>115.082899</td>\n",
       "      <td>1.662582</td>\n",
       "      <td>0.990575</td>\n",
       "      <td>1.474995</td>\n",
       "      <td>1.044546</td>\n",
       "    </tr>\n",
       "  </tbody>\n",
       "</table>\n",
       "</div>"
      ],
      "text/plain": [
       "         gender  Near_Location   Partner  Promo_friends     Phone  \\\n",
       "Churn                                                               \n",
       "0      0.510037       0.873086  0.534195       0.353522  0.903709   \n",
       "1      0.510839       0.768143  0.355325       0.183789  0.902922   \n",
       "\n",
       "       Contract_period  Group_visits        Age  Avg_additional_charges_total  \\\n",
       "Churn                                                                           \n",
       "0             5.747193      0.464103  29.976523                    158.445715   \n",
       "1             1.728558      0.268615  26.989632                    115.082899   \n",
       "\n",
       "       Month_to_end_contract  Lifetime  Avg_class_frequency_total  \\\n",
       "Churn                                                               \n",
       "0                   5.283089  4.711807                   2.024876   \n",
       "1                   1.662582  0.990575                   1.474995   \n",
       "\n",
       "       Avg_class_frequency_current_month  \n",
       "Churn                                     \n",
       "0                               2.027882  \n",
       "1                               1.044546  "
      ]
     },
     "metadata": {},
     "output_type": "display_data"
    }
   ],
   "source": [
    "#вывод на экран средних значений признаков в разбивке по двум группам: тех, кто ушел, и тех, кто остался.\n",
    "display(data.groupby('Churn').mean())"
   ]
  },
  {
   "cell_type": "code",
   "execution_count": 8,
   "metadata": {},
   "outputs": [],
   "source": [
    "#выделим в отдельную переменную данные по группе тех, кто ушел\n",
    "data_churn = data.loc[data['Churn'] == 1]\n",
    "#выделим в отдельную переменную данные по группе тех, кто остался\n",
    "data_not_churn = data.loc[data['Churn'] == 0]\n"
   ]
  },
  {
   "cell_type": "code",
   "execution_count": 9,
   "metadata": {},
   "outputs": [
    {
     "data": {
      "image/png": "[encoded data removed]",
      "text/plain": [
       "<Figure size 1080x720 with 16 Axes>"
      ]
     },
     "metadata": {
      "needs_background": "light"
     },
     "output_type": "display_data"
    }
   ],
   "source": [
    "#строим столбчатые гистограммы признаков для тех, кто ушел\n",
    "data_churn.hist(figsize=(15, 10));"
   ]
  },
  {
   "cell_type": "code",
   "execution_count": 10,
   "metadata": {},
   "outputs": [
    {
     "data": {
      "image/png": "[encoded data removed]",
      "text/plain": [
       "<Figure size 1080x720 with 16 Axes>"
      ]
     },
     "metadata": {
      "needs_background": "light"
     },
     "output_type": "display_data"
    }
   ],
   "source": [
    "#строим столбчатые гистограммы признаков для тех, кто остался\n",
    "data_not_churn.hist(figsize=(15, 10));"
   ]
  },
  {
   "cell_type": "markdown",
   "metadata": {},
   "source": [
    "**Выводы по графикам:**\n",
    "    \n",
    "  Распределение признаков по группам отражает следующую картину:\n",
    "  \n",
    "     В группе тех, кто ушел в отток, количество мужчин и женщин примерно одинаковое, клиенты чаще проживают или работают в районе, где находится фитнес-центр, клиенты реже используют промокод \"Приведи друга\", и реже являются сотрудниками компаний партнеров клуба, реже посещают групповые занятия. Длительность текущего абонемента обычно один месяц. Возраст клиентов чаще всего около 27 лет. Траты на доп.услуги центра составляют у таких клиентов от 0 до 100 руб. Частота посещений в неделю с начала действия абонемента примерно 1.5 (т.е. в основном 1 раз в неделю, иногда 2 раза) Ну и ожидаемо, частота посещения в неделю за предыдущий месяц - близится к нулю, и не имеет нормального распределения.\n",
    "     \n",
    "     В группе тех, кто остался, также количество мужчин и женщин примерно одинаково, клиенты чаще проживают или работают в районе, где находится фитнес-центр, клиенты реже используют промокод \"Приведи друга\", реже посещают групповые занятия, однако примерно в 50% случаев являются сотрудниками компаний партнеров клуба. Длительность текущего абонемента обычно примерно 1 месяц.  Возраст большинства клиентов примерно 32 года. Суммарная выручка от других услуг фитнес-центра около 580 руб. Средняя частота посещений с начала действия абонемента примерно 2 раза в неделю, и за предыдущий месяц тоже 2 раза в неделю, то есть клиенты стабильно посещают фитнес-клуб.   \n",
    "    "
   ]
  },
  {
   "cell_type": "code",
   "execution_count": 11,
   "metadata": {},
   "outputs": [
    {
     "data": {
      "image/png": "[encoded data removed]",
      "text/plain": [
       "<Figure size 864x648 with 2 Axes>"
      ]
     },
     "metadata": {
      "needs_background": "light"
     },
     "output_type": "display_data"
    }
   ],
   "source": [
    "#построим и отрисуем матрицу корреляций\n",
    "cm = data.corr()#вычисляем матрицу корреляций\n",
    "#нарисуем тепловую карту с подписями для матрицы корреляций \n",
    "plt.figure(figsize=(12, 9))\n",
    "sns.heatmap(cm, annot=True, square=True)\n",
    "plt.show();"
   ]
  },
  {
   "cell_type": "markdown",
   "metadata": {},
   "source": [
    "**Выводы по матрице корреляций:**\n",
    "    \n",
    "    Анализ матрицы корреляций показывает, что существует слабая отрицательная корреляция между целевой переменной \"Факт оттока\" и такими признаками, как средняя частота посещений в неделю за предыдущий месяц, лайфтаймом, срок до окончания текущего действующего абонемента, возраст, длительность текущего абонемента. То есть, чем выше факт оттока, тем меньше эти признаки. Но корреляция слабая, поэтому можно сказать, что сильной зависимости целевой переменной от этих признаков нет.\n",
    "    \n",
    "    Также существует сильная взаимная корреляция между признаком Длительность текущего контракта и признаком Месяц до окончания контракта, а также между признаком Средняя частота посещений в неделю за все время с начала действия абонемента и признаком Средняя частота посещений в  неделю за предыдущий месяц. Скорее всего, эти признаки мультиколлинеарны."
   ]
  },
  {
   "cell_type": "markdown",
   "metadata": {},
   "source": [
    "**Выводы по п.2:**\n",
    "\n",
    "Исследовательский анализ данных показал:\n",
    "\n",
    "1) пропущенные значения в данных отсутствуют\n",
    "\n",
    "2) категориальные признаки уже переведены в числовой формат и не требуют преобразования\n",
    "\n",
    "3) анализ среднего и стандартных отклонений не показывает сильного разброса данных в датасете\n",
    "\n",
    "4) анализ средних значений в двух группах показал следующие результаты:\n",
    "\n",
    "    - в обеих группах примерно одинаковое соотношение мужчин и женщин;\n",
    "     \n",
    "    - подавляющее большинство клиентов в обеих группах указывают контактный телефон;\n",
    "     \n",
    "    - Группа тех, кто остался, в среднем характеризуется большей долей клиентов, которые проживают или работают в районе, где находится фитнес-центр, в ней больше клиентов - сотрудников компании партнера клуба, эти клиенты чаще использовали промо код от знакомого, чаще посещают групповые занятия, больше тратят на другие услуги фитнес-центра (кафе, спорттовары, косметический и массажный салон), по сравнению с группой тех, кто ушел в отток.\n",
    "     \n",
    "    - средняя длительность текущего действующего абонемента у тех, кто остался, составляет примерно 6 месяцев, в то время как в группе тех, кто ушел, длительность абонемента 1-2 месяца.\n",
    "     \n",
    " 5)  Анализ столбчатых диаграмм и распределения числовых признаков показывает, что числовые признаки имеют нормальное распределение в группе тех, кто остался. А вот в группе тех, кто ушел в отток, средняя частота посещений в неделю за предыдущий месяц, не имеет нормального распределения, то есть такие клиенты посещали фитнес-центр даже не каждую неделю.\n",
    " \n",
    " \n",
    " 6) Распределение признаков по группам отражает следующую картину:\n",
    "\n",
    " В группе тех, кто ушел в отток, количество мужчин и женщин примерно одинаковое, клиенты чаще проживают или работают в районе, где находится фитнес-центр, клиенты реже используют промокод \"Приведи друга\", и реже являются сотрудниками компаний партнеров клуба, реже посещают групповые занятия. Длительность текущего абонемента обычно один месяц. Возраст клиентов чаще всего около 27 лет. Траты на доп.услуги центра составляют у таких клиентов от 0 до 100 руб. Частота посещений в неделю с начала действия абонемента примерно 1.5 (т.е. в основном 1 раз в неделю, иногда 2 раза) Ну и ожидаемо, частота посещения в неделю за предыдущий месяц - близится к нулю, и не имеет нормального распределения.\n",
    "\n",
    " В группе тех, кто остался, также количество мужчин и женщин примерно одинаково, клиенты чаще проживают или работают в районе, где находится фитнес-центр, клиенты реже используют промокод \"Приведи друга\", реже посещают групповые занятия, однако примерно в 50% случаев являются сотрудниками компаний партнеров клуба. Длительность текущего абонемента обычно примерно 1 месяц.  Возраст большинства клиентов примерно 32 года. Суммарная выручка от других услуг фитнес-центра около 580 руб. Средняя частота посещений с начала действия абонемента примерно 2 раза в неделю, и за предыдущий месяц тоже 2 раза в неделю, то есть клиенты стабильно посещают фитнес-клуб.\n",
    " \n",
    " 7) Анализ матрицы корреляций показывает, что существует слабая отрицательная корреляция между целевой переменной \"Факт оттока\" и такими признаками, как средняя частота посещений в неделю за предыдущий месяц, лайфтаймом, срок до окончания текущего действующего абонемента, возраст, длительность текущего абонемента. То есть, чем выше факт оттока, тем меньше эти признаки. Но корреляция слабая, поэтому можно сказать, что сильной зависимости целевой переменной от этих признаков нет.\n",
    "    \n",
    "   Также существует сильная взаимная корреляция между признаком Длительность текущего контракта и признаком Месяц до окончания контракта, а также между признаком Средняя частота посещений в неделю за все время с начала действия абонемента и признаком Средняя частота посещений в  неделю за предыдущий месяц. Скорее всего, эти признаки мультиколлинеарны.  "
   ]
  },
  {
   "cell_type": "markdown",
   "metadata": {},
   "source": [
    "## Построение модели прогнозирования оттока клиентов"
   ]
  },
  {
   "cell_type": "code",
   "execution_count": 12,
   "metadata": {},
   "outputs": [
    {
     "name": "stdout",
     "output_type": "stream",
     "text": [
      "Размер файла с оттоком: (1061, 14)\n",
      "Размер файла оставшихся клиентов: (2939, 14)\n"
     ]
    }
   ],
   "source": [
    "#выведем на экран размеры данных в разбивке по группам\n",
    "print('Размер файла с оттоком:', data_churn.shape)\n",
    "print('Размер файла оставшихся клиентов:', data_not_churn.shape)"
   ]
  },
  {
   "cell_type": "code",
   "execution_count": 13,
   "metadata": {},
   "outputs": [],
   "source": [
    "#создадим функцию, которая будет выводить метрики\n",
    "def print_all_metrics(y_true, y_pred, y_proba, title='Метрики классификации'):\n",
    "    print(title)\n",
    "    print('\\tAccuracy: {:.2f}'.format(accuracy_score(y_true, y_pred)))\n",
    "    print('\\tPrecision: {:.2f}'.format(precision_score(y_true, y_pred)))\n",
    "    print('\\tRecall: {:.2f}'.format(recall_score(y_true, y_pred)))\n",
    "    print('\\tF1_score: {:.2f}'.format(f1_score(y_true, y_pred)))\n",
    "              \n",
    "# разделили данные на признаки (матрица X) и целевую переменную (y)\n",
    "X = data.drop('Churn', axis=1)\n",
    "y = data['Churn']\n",
    "\n",
    "# разделили модель на обучающую и валидационную выборку\n",
    "X_train, X_test, y_train, y_test = train_test_split(X, y, test_size=0.2, random_state=0)\n",
    "\n",
    "# создадим объект класса StandardScaler и применим его к обучающей выборке\n",
    "scaler = StandardScaler()\n",
    "# обучаем scaler и одновременно трансформируем матрицу для обучающей выборки\n",
    "X_train_st = scaler.fit_transform(X_train)\n",
    "\n",
    "# применяем стандартизацию к матрице признаков для тестовой выборки\n",
    "X_test_st = scaler.transform(X_test)   "
   ]
  },
  {
   "cell_type": "code",
   "execution_count": 14,
   "metadata": {},
   "outputs": [
    {
     "name": "stdout",
     "output_type": "stream",
     "text": [
      "Метрики для модели логистической регрессии\n",
      "\tAccuracy: 0.92\n",
      "\tPrecision: 0.85\n",
      "\tRecall: 0.83\n",
      "\tF1_score: 0.84\n"
     ]
    }
   ],
   "source": [
    "## задаем алгоритм для новой модели на основе модели Логистической регрессии\n",
    "lr_model = LogisticRegression(random_state=0, solver='liblinear')\n",
    "\n",
    "#обучаем модель \n",
    "lr_model.fit(X_train_st, y_train)\n",
    "\n",
    "#воспользуемся уже обученной моделью, чтобы сделать прогнозы\n",
    "lr_predictions = lr_model.predict(X_test_st)\n",
    "lr_probabilities = lr_model.predict_proba(X_test_st)[:,1]\n",
    "\n",
    "#выведем все метрики\n",
    "print_all_metrics(y_test, lr_predictions, lr_probabilities, title = 'Метрики для модели логистической регрессии')     "
   ]
  },
  {
   "cell_type": "code",
   "execution_count": 15,
   "metadata": {},
   "outputs": [
    {
     "name": "stdout",
     "output_type": "stream",
     "text": [
      "Метрики для модели случайного леса\n",
      "\tAccuracy: 0.92\n",
      "\tPrecision: 0.84\n",
      "\tRecall: 0.81\n",
      "\tF1_score: 0.83\n"
     ]
    }
   ],
   "source": [
    "#зададим алгоритм для новой модели на основе модели алгоритма случайного леса\n",
    "rf_model = RandomForestClassifier(n_estimators=100, random_state=0)\n",
    "\n",
    "#обучаем модель\n",
    "rf_model.fit(X_train_st, y_train)\n",
    "\n",
    "#воспользуемся уже обученной моделью, чтобы сделать прогнозы\n",
    "rf_predictions = rf_model.predict(X_test_st)\n",
    "rf_probabilities = rf_model.predict_proba(X_test_st)\n",
    "\n",
    "#выведем все метрики\n",
    "print_all_metrics(y_test, rf_predictions, rf_probabilities, title = 'Метрики для модели случайного леса')"
   ]
  },
  {
   "cell_type": "markdown",
   "metadata": {},
   "source": [
    "**Выводы по п.3:**\n",
    "    \n",
    "   Анализ моделей по метрике Доля правильных ответов(Accuracy) показывает по обеим моделям долю правильных ответов выше    90%, но тут следует учитывать, что размер целевых классов примерно 1 к трем, то есть клиентов с оттоком в три раза меньше, чем оставшихся клиентов, поэтому лучше оценить качество модели другими метриками.\n",
    "    \n",
    "   Однако при сравнении моделей по метрике Точность (precision), а также по метрике Полнота(Recall) и соотношению между ними (F1_score) можно сделать вывод, что модель логистической регрессии показала себя лучше на основании метрик, так как все показатели у этой модели выше, чем у модели случайного леса. Но следует отметить, что по результатам расчета метрик модель случайного леса тоже не плоха, все показатели тоже выше 0,8."
   ]
  },
  {
   "cell_type": "markdown",
   "metadata": {},
   "source": [
    "## Кластеризация клиентов"
   ]
  },
  {
   "cell_type": "code",
   "execution_count": 16,
   "metadata": {},
   "outputs": [
    {
     "data": {
      "image/png": "[encoded data removed]",
      "text/plain": [
       "<Figure size 1080x720 with 1 Axes>"
      ]
     },
     "metadata": {
      "needs_background": "light"
     },
     "output_type": "display_data"
    }
   ],
   "source": [
    "#уберем столбец с оттоком\n",
    "data_drop = data.drop('Churn', axis=1)\n",
    "\n",
    "# стандартизируем данные\n",
    "sc = StandardScaler()\n",
    "X_sc = sc.fit_transform(data_drop)\n",
    "\n",
    "#создаем таблицу \"связок\" между объектами\n",
    "linked = linkage(X_sc, method='ward')\n",
    "\n",
    "#визуализируем дендрограмму\n",
    "plt.figure(figsize=(15,10))\n",
    "dendrogram(linked, orientation='top')\n",
    "plt.title('Иерархическая кластеризация клиентов фитнес-клуба')\n",
    "plt.show()"
   ]
  },
  {
   "cell_type": "markdown",
   "metadata": {},
   "source": [
    "**Выводы по дендрограмме:**\n",
    "    \n",
    "    На основании полученной дендрограммы можно выделить 4 кластера. \n",
    "    "
   ]
  },
  {
   "cell_type": "code",
   "execution_count": 17,
   "metadata": {},
   "outputs": [],
   "source": [
    "# задаём модель k_means с числом кластеров 5 и фиксируем значение random_state\n",
    "km = KMeans(n_clusters=5, random_state=0)\n",
    "\n",
    "# прогнозируем кластеры для наблюдений \n",
    "labels = km.fit_predict(X_sc)\n",
    "\n",
    "# сохраняем метки кластера в поле нашего датасета\n",
    "data['cluster_km'] = labels\n",
    "#data_drop['cluster_km'] = labels"
   ]
  },
  {
   "cell_type": "code",
   "execution_count": 18,
   "metadata": {},
   "outputs": [
    {
     "data": {
      "text/html": [
       "<div>\n",
       "<style scoped>\n",
       "    .dataframe tbody tr th:only-of-type {\n",
       "        vertical-align: middle;\n",
       "    }\n",
       "\n",
       "    .dataframe tbody tr th {\n",
       "        vertical-align: top;\n",
       "    }\n",
       "\n",
       "    .dataframe thead th {\n",
       "        text-align: right;\n",
       "    }\n",
       "</style>\n",
       "<table border=\"1\" class=\"dataframe\">\n",
       "  <thead>\n",
       "    <tr style=\"text-align: right;\">\n",
       "      <th></th>\n",
       "      <th>gender</th>\n",
       "      <th>Near_Location</th>\n",
       "      <th>Partner</th>\n",
       "      <th>Promo_friends</th>\n",
       "      <th>Phone</th>\n",
       "      <th>Contract_period</th>\n",
       "      <th>Group_visits</th>\n",
       "      <th>Age</th>\n",
       "      <th>Avg_additional_charges_total</th>\n",
       "      <th>Month_to_end_contract</th>\n",
       "      <th>Lifetime</th>\n",
       "      <th>Avg_class_frequency_total</th>\n",
       "      <th>Avg_class_frequency_current_month</th>\n",
       "      <th>Churn</th>\n",
       "    </tr>\n",
       "    <tr>\n",
       "      <th>cluster_km</th>\n",
       "      <th></th>\n",
       "      <th></th>\n",
       "      <th></th>\n",
       "      <th></th>\n",
       "      <th></th>\n",
       "      <th></th>\n",
       "      <th></th>\n",
       "      <th></th>\n",
       "      <th></th>\n",
       "      <th></th>\n",
       "      <th></th>\n",
       "      <th></th>\n",
       "      <th></th>\n",
       "      <th></th>\n",
       "    </tr>\n",
       "  </thead>\n",
       "  <tbody>\n",
       "    <tr>\n",
       "      <th>0</th>\n",
       "      <td>0.502970</td>\n",
       "      <td>0.959406</td>\n",
       "      <td>0.783168</td>\n",
       "      <td>0.574257</td>\n",
       "      <td>1.000000</td>\n",
       "      <td>10.889109</td>\n",
       "      <td>0.542574</td>\n",
       "      <td>29.982178</td>\n",
       "      <td>160.761016</td>\n",
       "      <td>9.954455</td>\n",
       "      <td>4.736634</td>\n",
       "      <td>1.982055</td>\n",
       "      <td>1.974789</td>\n",
       "      <td>0.027723</td>\n",
       "    </tr>\n",
       "    <tr>\n",
       "      <th>1</th>\n",
       "      <td>0.522078</td>\n",
       "      <td>0.862338</td>\n",
       "      <td>0.470130</td>\n",
       "      <td>0.306494</td>\n",
       "      <td>0.000000</td>\n",
       "      <td>4.787013</td>\n",
       "      <td>0.425974</td>\n",
       "      <td>29.301299</td>\n",
       "      <td>143.957664</td>\n",
       "      <td>4.475325</td>\n",
       "      <td>3.924675</td>\n",
       "      <td>1.847220</td>\n",
       "      <td>1.716369</td>\n",
       "      <td>0.267532</td>\n",
       "    </tr>\n",
       "    <tr>\n",
       "      <th>2</th>\n",
       "      <td>0.495050</td>\n",
       "      <td>0.000000</td>\n",
       "      <td>0.463366</td>\n",
       "      <td>0.079208</td>\n",
       "      <td>1.000000</td>\n",
       "      <td>2.352475</td>\n",
       "      <td>0.215842</td>\n",
       "      <td>28.477228</td>\n",
       "      <td>135.457501</td>\n",
       "      <td>2.198020</td>\n",
       "      <td>2.809901</td>\n",
       "      <td>1.660461</td>\n",
       "      <td>1.477324</td>\n",
       "      <td>0.443564</td>\n",
       "    </tr>\n",
       "    <tr>\n",
       "      <th>3</th>\n",
       "      <td>0.485737</td>\n",
       "      <td>1.000000</td>\n",
       "      <td>0.350238</td>\n",
       "      <td>0.240095</td>\n",
       "      <td>1.000000</td>\n",
       "      <td>1.948494</td>\n",
       "      <td>0.341521</td>\n",
       "      <td>28.167987</td>\n",
       "      <td>131.622204</td>\n",
       "      <td>1.856577</td>\n",
       "      <td>2.440571</td>\n",
       "      <td>1.247634</td>\n",
       "      <td>1.012983</td>\n",
       "      <td>0.514263</td>\n",
       "    </tr>\n",
       "    <tr>\n",
       "      <th>4</th>\n",
       "      <td>0.559666</td>\n",
       "      <td>0.976134</td>\n",
       "      <td>0.356802</td>\n",
       "      <td>0.230310</td>\n",
       "      <td>0.998807</td>\n",
       "      <td>2.669451</td>\n",
       "      <td>0.473747</td>\n",
       "      <td>30.125298</td>\n",
       "      <td>161.657905</td>\n",
       "      <td>2.459427</td>\n",
       "      <td>4.898568</td>\n",
       "      <td>2.852002</td>\n",
       "      <td>2.850161</td>\n",
       "      <td>0.068019</td>\n",
       "    </tr>\n",
       "  </tbody>\n",
       "</table>\n",
       "</div>"
      ],
      "text/plain": [
       "              gender  Near_Location   Partner  Promo_friends     Phone  \\\n",
       "cluster_km                                                               \n",
       "0           0.502970       0.959406  0.783168       0.574257  1.000000   \n",
       "1           0.522078       0.862338  0.470130       0.306494  0.000000   \n",
       "2           0.495050       0.000000  0.463366       0.079208  1.000000   \n",
       "3           0.485737       1.000000  0.350238       0.240095  1.000000   \n",
       "4           0.559666       0.976134  0.356802       0.230310  0.998807   \n",
       "\n",
       "            Contract_period  Group_visits        Age  \\\n",
       "cluster_km                                             \n",
       "0                 10.889109      0.542574  29.982178   \n",
       "1                  4.787013      0.425974  29.301299   \n",
       "2                  2.352475      0.215842  28.477228   \n",
       "3                  1.948494      0.341521  28.167987   \n",
       "4                  2.669451      0.473747  30.125298   \n",
       "\n",
       "            Avg_additional_charges_total  Month_to_end_contract  Lifetime  \\\n",
       "cluster_km                                                                  \n",
       "0                             160.761016               9.954455  4.736634   \n",
       "1                             143.957664               4.475325  3.924675   \n",
       "2                             135.457501               2.198020  2.809901   \n",
       "3                             131.622204               1.856577  2.440571   \n",
       "4                             161.657905               2.459427  4.898568   \n",
       "\n",
       "            Avg_class_frequency_total  Avg_class_frequency_current_month  \\\n",
       "cluster_km                                                                 \n",
       "0                            1.982055                           1.974789   \n",
       "1                            1.847220                           1.716369   \n",
       "2                            1.660461                           1.477324   \n",
       "3                            1.247634                           1.012983   \n",
       "4                            2.852002                           2.850161   \n",
       "\n",
       "               Churn  \n",
       "cluster_km            \n",
       "0           0.027723  \n",
       "1           0.267532  \n",
       "2           0.443564  \n",
       "3           0.514263  \n",
       "4           0.068019  "
      ]
     },
     "metadata": {},
     "output_type": "display_data"
    }
   ],
   "source": [
    "# выводим статистику по средним значениям наших признаков по кластеру\n",
    "display(data.groupby('cluster_km').mean())"
   ]
  },
  {
   "cell_type": "code",
   "execution_count": 19,
   "metadata": {},
   "outputs": [
    {
     "data": {
      "image/png": "[encoded data removed]",
      "text/plain": [
       "<Figure size 1080x720 with 16 Axes>"
      ]
     },
     "metadata": {
      "needs_background": "light"
     },
     "output_type": "display_data"
    },
    {
     "data": {
      "image/png": "[encoded data removed]",
      "text/plain": [
       "<Figure size 1080x720 with 16 Axes>"
      ]
     },
     "metadata": {
      "needs_background": "light"
     },
     "output_type": "display_data"
    },
    {
     "data": {
      "image/png": "[encoded data removed]",
      "text/plain": [
       "<Figure size 1080x720 with 16 Axes>"
      ]
     },
     "metadata": {
      "needs_background": "light"
     },
     "output_type": "display_data"
    },
    {
     "data": {
      "image/png": "[encoded data removed]",
      "text/plain": [
       "<Figure size 1080x720 with 16 Axes>"
      ]
     },
     "metadata": {
      "needs_background": "light"
     },
     "output_type": "display_data"
    },
    {
     "data": {
      "image/png": "[encoded data removed]",
      "text/plain": [
       "<Figure size 1080x720 with 16 Axes>"
      ]
     },
     "metadata": {
      "needs_background": "light"
     },
     "output_type": "display_data"
    }
   ],
   "source": [
    "#построим распределения признаков для кластеров\n",
    "for value in [0, 1, 2, 3, 4]:\n",
    "    data[data['cluster_km'] == value].hist(figsize=(15,10))\n",
    "    plt.suptitle('\\nРаспределение признаков для кластера {}'.format(value))\n",
    "    plt.show()"
   ]
  },
  {
   "cell_type": "markdown",
   "metadata": {},
   "source": [
    "**Выводы по средним значениям и распределениям признаков кластеров:**\n",
    "    \n",
    "    На основании средних значений признаков и распределения признаков можно сделать следующие выводы:\n",
    "\n",
    "**Кластер 0**\n",
    "\n",
    "- Отток - 3% - самый низкий % оттока клиентов\n",
    "\n",
    "- клиенты живут или работают недалеко от фитнес-центра\n",
    "\n",
    "- 78% всех клиентов являются сотрудниками компаний-партнеров клуба\n",
    "\n",
    "- 57% всех клиентов участвовали в акции Приведи друга\n",
    "\n",
    "- самая большая длительность абонемента - примерно 12 месяцев\n",
    "\n",
    " - 54% всех клиентов посещают групповые занятия\n",
    " \n",
    " - частота посещений в неделю с начала действия абонемента и за предыдущий месяц стабильна и составляет примерно 2 раза в неделю\n",
    " \n",
    " \n",
    "**Кластер 1**\n",
    "\n",
    "- Отток - 27%\n",
    "\n",
    "- 86% клиентов живут или работают недалеко от фитнес-центра\n",
    "\n",
    " - не предоставляют номер телефона\n",
    " \n",
    " - длительность текущего контракта примерно 5 месяцев\n",
    "\n",
    "**Кластер 2**\n",
    "\n",
    "\n",
    "- Отток - 44% \n",
    "\n",
    "- все клиенты живут и работают в другом районе, не рядом с фитнес-центром\n",
    "\n",
    " - реже всего посещают групповые занятия\n",
    " \n",
    " - в этом кластере всего 8% клиентов, которые использовали акцию Приведи друга\n",
    "\n",
    "**Кластер 3**\n",
    "\n",
    "- Отток - 52% - самый высокий\n",
    "\n",
    "- все клиенты живут или работают недалеко от фитнес-центра\n",
    "\n",
    "- наименьшее количество посещений с начала действия абонемента и за предыдущий месяц\n",
    "\n",
    "**Кластер 4**\n",
    "\n",
    "- Отток - 7%\n",
    "\n",
    "- живут или работают недалеко от фитнес-центра\n",
    "\n",
    "- чаще всех посещают фитнес-клуб\n",
    "\n"
   ]
  },
  {
   "cell_type": "markdown",
   "metadata": {},
   "source": [
    "**Выводы по п.4:**\n",
    "    \n",
    "    На основании полученной дендрограммы можно выделить 4 кластера. В рамках технического задания следовало выделить 5 кластеров. На основании полученного разделения на 5 кластеров получили следующие группы:\n",
    "       \n",
    "   **Кластер 0**\n",
    "\n",
    "- Отток - 3% - самый низкий % оттока клиентов\n",
    "\n",
    "- клиенты живут или работают недалеко от фитнес-центра\n",
    "\n",
    "- 78% всех клиентов являются сотрудниками компаний-партнеров клуба\n",
    "\n",
    "- 57% всех клиентов участвовали в акции Приведи друга\n",
    "\n",
    "- самая большая длительность абонемента - примерно 12 месяцев\n",
    "\n",
    " - 54% всех клиентов посещают групповые занятия\n",
    " \n",
    " - частота посещений в неделю с начала действия абонемента и за предыдущий месяц стабильна и составляет примерно 2 раза в неделю\n",
    " \n",
    " \n",
    "**Кластер 1**\n",
    "\n",
    "- Отток - 27%\n",
    "\n",
    "- 86% клиентов живут или работают недалеко от фитнес-центра\n",
    "\n",
    " - не предоставляют номер телефона\n",
    " \n",
    " - длительность текущего контракта примерно 5 месяцев\n",
    "\n",
    "**Кластер 2**\n",
    "\n",
    "\n",
    "- Отток - 44% \n",
    "\n",
    "- все клиенты живут и работают в другом районе, не рядом с фитнес-центром\n",
    "\n",
    " - реже всего посещают групповые занятия\n",
    " \n",
    " - в этом кластере всего 8% клиентов, которые использовали акцию Приведи друга\n",
    "\n",
    "**Кластер 3**\n",
    "\n",
    "- Отток - 52% - самый высокий\n",
    "\n",
    "- все клиенты живут или работают недалеко от фитнес-центра\n",
    "\n",
    "- наименьшее количество посещений с начала действия абонемента и за предыдущий месяц\n",
    "\n",
    "**Кластер 4**\n",
    "\n",
    "- Отток - 7%\n",
    "\n",
    "- живут или работают недалеко от фитнес-центра\n",
    "\n",
    "- чаще всех посещают фитнес-клуб\n",
    "\n",
    "В итоге получается, что кластеры 2 и 3 наиболее склонны к оттоку, а кластеры 0 и 4 самые надежные.\n"
   ]
  },
  {
   "cell_type": "markdown",
   "metadata": {},
   "source": [
    "## Выводы и базовые рекомендации по работе с клиентами"
   ]
  },
  {
   "cell_type": "markdown",
   "metadata": {},
   "source": [
    "**Общий вывод по проекту:**\n",
    "\n",
    "1)  анализ среднего и стандартных отклонений не показывает сильного разброса данных в датасете\n",
    "\n",
    "2)  анализ средних значений в двух группах показал следующие результаты:\n",
    "\n",
    " -  в обеих группах примерно одинаковое соотношение мужчин и женщин;\n",
    "\n",
    " - подавляющее большинство клиентов в обеих группах указывают контактный телефон;\n",
    "\n",
    " - Группа тех, кто остался, в среднем характеризуется большей долей клиентов, которые проживают или работают в районе, где находится фитнес-центр, в ней больше клиентов - сотрудников компании партнера клуба, эти клиенты чаще использовали промо код от знакомого, чаще посещают групповые занятия, больше тратят на другие услуги фитнес-центра (кафе, спорттовары, косметический и массажный салон), по сравнению с группой тех, кто ушел в отток.\n",
    "\n",
    " - средняя длительность текущего действующего абонемента у тех, кто остался, составляет примерно 6 месяцев, в то время как в группе тех, кто ушел, длительность абонемента 1-2 месяца.\n",
    " \n",
    "3) Анализ столбчатых диаграмм и распределения числовых признаков показывает, что числовые признаки имеют нормальное распределение в группе тех, кто остался. А вот в группе тех, кто ушел в отток, средняя частота посещений в неделю за предыдущий месяц, не имеет нормального распределения, то есть такие клиенты посещали фитнес-центр даже не каждую неделю.\n",
    "\n",
    "4) Распределение признаков по группам отражает следующую картину:\n",
    "\n",
    "В группе тех, кто ушел в отток, количество мужчин и женщин примерно одинаковое, клиенты чаще проживают или работают в районе, где находится фитнес-центр, клиенты реже используют промокод \"Приведи друга\", и реже являются сотрудниками компаний партнеров клуба, реже посещают групповые занятия. Длительность текущего абонемента обычно один месяц. Возраст клиентов чаще всего около 27 лет. Траты на доп.услуги центра составляют у таких клиентов от 0 до 100 руб. Частота посещений в неделю с начала действия абонемента примерно 1.5 (т.е. в основном 1 раз в неделю, иногда 2 раза) Ну и ожидаемо, частота посещения в неделю за предыдущий месяц - близится к нулю, и не имеет нормального распределения.\n",
    "\n",
    "В группе тех, кто остался, также количество мужчин и женщин примерно одинаково, клиенты чаще проживают или работают в районе, где находится фитнес-центр, клиенты реже используют промокод \"Приведи друга\", реже посещают групповые занятия, однако примерно в 50% случаев являются сотрудниками компаний партнеров клуба. Длительность текущего абонемента обычно примерно 1 месяц. Возраст большинства клиентов примерно 32 года. Суммарная выручка от других услуг фитнес-центра около 580 руб. Средняя частота посещений с начала действия абонемента примерно 2 раза в неделю, и за предыдущий месяц тоже 2 раза в неделю, то есть клиенты стабильно посещают фитнес-клуб.\n",
    "\n",
    "5) Анализ матрицы корреляций показывает, что нет сильной зависимости целевой переменной ни от одного из признаков. \n",
    "\n",
    "6)Анализ моделей показал, что модель логистической регрессии показала себя лучше на основании метрик, так как все показатели у этой модели выше, чем у модели случайного леса. \n",
    "    \n",
    "   7) На основании полученной дендрограммы можно выделить 4 кластера. \n",
    "   \n",
    "   8) На основании полученного разделения на 5 кластеров получили следующие группы:\n",
    "   \n",
    "**Кластер 0**\n",
    "\n",
    "Отток - 3% - самый низкий % оттока клиентов\n",
    "\n",
    "клиенты живут или работают недалеко от фитнес-центра\n",
    "\n",
    "78% всех клиентов являются сотрудниками компаний-партнеров клуба\n",
    "\n",
    "57% всех клиентов участвовали в акции Приведи друга\n",
    "\n",
    "самая большая длительность абонемента - примерно 12 месяцев\n",
    "\n",
    "54% всех клиентов посещают групповые занятия\n",
    "\n",
    "частота посещений в неделю с начала действия абонемента и за предыдущий месяц стабильна и составляет примерно 2 раза в неделю\n",
    "\n",
    "**Кластер 1**\n",
    "\n",
    "Отток - 27%\n",
    "\n",
    "86% клиентов живут или работают недалеко от фитнес-центра\n",
    "\n",
    "не предоставляют номер телефона\n",
    "\n",
    "длительность текущего контракта примерно 5 месяцев\n",
    "\n",
    "**Кластер 2**\n",
    "\n",
    "Отток - 44%\n",
    "\n",
    "все клиенты живут и работают в другом районе, не рядом с фитнес-центром\n",
    "\n",
    "реже всего посещают групповые занятия\n",
    "\n",
    "в этом кластере всего 8% клиентов, которые использовали акцию Приведи друга\n",
    "\n",
    "**Кластер 3**\n",
    "\n",
    "Отток - 52% - самый высокий\n",
    "\n",
    "все клиенты живут или работают недалеко от фитнес-центра\n",
    "\n",
    "наименьшее количество посещений с начала действия абонемента и за предыдущий месяц\n",
    "\n",
    "**Кластер 4**\n",
    "\n",
    "Отток - 7%\n",
    "\n",
    "живут или работают недалеко от фитнес-центра\n",
    "\n",
    "чаще всех посещают фитнес-клуб\n",
    "\n",
    "**В итоге получается, что кластеры 2 и 3 наиболее склонны к оттоку, а кластеры 0 и 4 самые надежные.**\n"
   ]
  },
  {
   "cell_type": "markdown",
   "metadata": {},
   "source": [
    "**Рекомендации по работе с клиентами:**\n",
    "    \n",
    "   - менеджерам фитнес-клуба расширять продажу долгосрочных абонементов, так как по ним отток ниже, в том числе предлагать переоформить уже имеющиеся краткосрочные абонементы на долгосрочные со скидкой\n",
    "   - ввести дополнительные способы повышения лояльности клиентов (бесплатный чай, кофе; бесплатные марафоны, праздники; бесплатные средства гигиены).\n",
    "   - клиентам, которые начали пропадать (то есть реже появляться в фитнес-клубе), рассылать sms и E-mail рассылки с напоминаниями о фитнес-клубе и занятиях в нем в позитивном ключе."
   ]
  }
 ],
 "metadata": {
  "ExecuteTimeLog": [
   {
    "duration": 69,
    "start_time": "2023-06-28T10:35:44.352Z"
   },
   {
    "duration": 457,
    "start_time": "2023-06-28T10:35:49.195Z"
   },
   {
    "duration": 149,
    "start_time": "2023-06-28T10:35:49.654Z"
   },
   {
    "duration": 12,
    "start_time": "2023-06-28T10:36:10.798Z"
   },
   {
    "duration": 34,
    "start_time": "2023-06-28T10:38:03.072Z"
   },
   {
    "duration": 34,
    "start_time": "2023-06-28T10:38:09.615Z"
   },
   {
    "duration": 13,
    "start_time": "2023-06-28T10:38:14.407Z"
   },
   {
    "duration": 26,
    "start_time": "2023-06-28T10:39:44.161Z"
   },
   {
    "duration": 9,
    "start_time": "2023-06-28T10:40:11.657Z"
   },
   {
    "duration": 59,
    "start_time": "2023-06-28T10:40:43.162Z"
   },
   {
    "duration": 3,
    "start_time": "2023-06-28T10:46:49.687Z"
   },
   {
    "duration": 3,
    "start_time": "2023-06-28T10:49:00.637Z"
   },
   {
    "duration": 6,
    "start_time": "2023-06-28T10:52:34.054Z"
   },
   {
    "duration": 5,
    "start_time": "2023-06-28T10:52:46.133Z"
   },
   {
    "duration": 29,
    "start_time": "2023-06-28T10:53:51.086Z"
   },
   {
    "duration": 1664,
    "start_time": "2023-06-28T11:00:18.782Z"
   },
   {
    "duration": 1115,
    "start_time": "2023-06-28T11:00:20.877Z"
   },
   {
    "duration": 3259,
    "start_time": "2023-06-28T11:01:15.542Z"
   },
   {
    "duration": 1244,
    "start_time": "2023-06-28T11:01:25.134Z"
   },
   {
    "duration": 1210,
    "start_time": "2023-06-28T11:01:32.297Z"
   },
   {
    "duration": 370,
    "start_time": "2023-06-28T11:03:20.017Z"
   },
   {
    "duration": 387,
    "start_time": "2023-06-28T11:04:11.019Z"
   },
   {
    "duration": 319,
    "start_time": "2023-06-28T11:04:20.386Z"
   },
   {
    "duration": 7,
    "start_time": "2023-06-28T11:07:59.727Z"
   },
   {
    "duration": 5,
    "start_time": "2023-06-28T11:08:32.200Z"
   },
   {
    "duration": 589,
    "start_time": "2023-06-28T11:08:42.559Z"
   },
   {
    "duration": 331,
    "start_time": "2023-06-28T11:09:03.336Z"
   },
   {
    "duration": 7,
    "start_time": "2023-06-28T11:10:06.680Z"
   },
   {
    "duration": 83,
    "start_time": "2023-06-28T11:10:27.928Z"
   },
   {
    "duration": 503,
    "start_time": "2023-06-28T11:11:29.284Z"
   },
   {
    "duration": 1236,
    "start_time": "2023-06-28T11:11:36.438Z"
   },
   {
    "duration": 35,
    "start_time": "2023-06-28T11:11:37.676Z"
   },
   {
    "duration": 14,
    "start_time": "2023-06-28T11:11:37.713Z"
   },
   {
    "duration": 23,
    "start_time": "2023-06-28T11:11:37.729Z"
   },
   {
    "duration": 7,
    "start_time": "2023-06-28T11:11:37.754Z"
   },
   {
    "duration": 61,
    "start_time": "2023-06-28T11:11:37.762Z"
   },
   {
    "duration": 18,
    "start_time": "2023-06-28T11:11:37.825Z"
   },
   {
    "duration": 6,
    "start_time": "2023-06-28T11:11:37.845Z"
   },
   {
    "duration": 340,
    "start_time": "2023-06-28T11:11:37.853Z"
   },
   {
    "duration": 334,
    "start_time": "2023-06-28T11:11:38.195Z"
   },
   {
    "duration": 124,
    "start_time": "2023-06-28T11:11:38.531Z"
   },
   {
    "duration": 1650,
    "start_time": "2023-06-28T11:16:42.064Z"
   },
   {
    "duration": 1564,
    "start_time": "2023-06-28T11:18:08.114Z"
   },
   {
    "duration": 1726,
    "start_time": "2023-06-28T11:18:43.363Z"
   },
   {
    "duration": 1529,
    "start_time": "2023-06-28T11:20:57.140Z"
   },
   {
    "duration": 1442,
    "start_time": "2023-06-28T11:21:05.004Z"
   },
   {
    "duration": 1725,
    "start_time": "2023-06-28T11:22:13.342Z"
   },
   {
    "duration": 1514,
    "start_time": "2023-06-28T11:22:24.157Z"
   },
   {
    "duration": 1497,
    "start_time": "2023-06-28T11:22:40.512Z"
   },
   {
    "duration": 69,
    "start_time": "2023-06-28T11:23:23.377Z"
   },
   {
    "duration": 2048,
    "start_time": "2023-06-28T11:23:44.512Z"
   },
   {
    "duration": 1661,
    "start_time": "2023-06-28T11:24:08.528Z"
   },
   {
    "duration": 1686,
    "start_time": "2023-06-28T11:24:23.081Z"
   },
   {
    "duration": 1758,
    "start_time": "2023-06-28T11:24:33.009Z"
   },
   {
    "duration": 3,
    "start_time": "2023-06-28T11:25:45.729Z"
   },
   {
    "duration": 1692,
    "start_time": "2023-06-28T11:32:28.179Z"
   },
   {
    "duration": 37,
    "start_time": "2023-06-28T11:32:29.873Z"
   },
   {
    "duration": 15,
    "start_time": "2023-06-28T11:32:29.912Z"
   },
   {
    "duration": 19,
    "start_time": "2023-06-28T11:32:29.929Z"
   },
   {
    "duration": 8,
    "start_time": "2023-06-28T11:32:29.952Z"
   },
   {
    "duration": 61,
    "start_time": "2023-06-28T11:32:29.967Z"
   },
   {
    "duration": 37,
    "start_time": "2023-06-28T11:32:30.030Z"
   },
   {
    "duration": 10,
    "start_time": "2023-06-28T11:32:30.069Z"
   },
   {
    "duration": 382,
    "start_time": "2023-06-28T11:32:30.081Z"
   },
   {
    "duration": 342,
    "start_time": "2023-06-28T11:32:30.467Z"
   },
   {
    "duration": 1982,
    "start_time": "2023-06-28T11:32:30.811Z"
   },
   {
    "duration": 1748,
    "start_time": "2023-06-28T11:32:49.047Z"
   },
   {
    "duration": 1730,
    "start_time": "2023-06-28T11:33:20.816Z"
   },
   {
    "duration": 1866,
    "start_time": "2023-06-28T11:33:27.127Z"
   },
   {
    "duration": 1834,
    "start_time": "2023-06-28T11:33:42.462Z"
   },
   {
    "duration": 1610,
    "start_time": "2023-06-28T11:34:00.369Z"
   },
   {
    "duration": 1652,
    "start_time": "2023-06-28T11:34:14.435Z"
   },
   {
    "duration": 1767,
    "start_time": "2023-06-28T11:34:50.939Z"
   },
   {
    "duration": 1684,
    "start_time": "2023-06-28T11:35:09.171Z"
   },
   {
    "duration": 51,
    "start_time": "2023-06-29T10:55:30.004Z"
   },
   {
    "duration": 1776,
    "start_time": "2023-06-29T10:55:35.926Z"
   },
   {
    "duration": 76,
    "start_time": "2023-06-29T10:55:37.704Z"
   },
   {
    "duration": 12,
    "start_time": "2023-06-29T10:55:37.781Z"
   },
   {
    "duration": 24,
    "start_time": "2023-06-29T10:55:37.795Z"
   },
   {
    "duration": 6,
    "start_time": "2023-06-29T10:55:37.821Z"
   },
   {
    "duration": 54,
    "start_time": "2023-06-29T10:55:37.829Z"
   },
   {
    "duration": 20,
    "start_time": "2023-06-29T10:55:37.885Z"
   },
   {
    "duration": 5,
    "start_time": "2023-06-29T10:55:37.907Z"
   },
   {
    "duration": 331,
    "start_time": "2023-06-29T10:55:37.914Z"
   },
   {
    "duration": 313,
    "start_time": "2023-06-29T10:55:38.253Z"
   },
   {
    "duration": 1652,
    "start_time": "2023-06-29T10:55:38.568Z"
   },
   {
    "duration": 122,
    "start_time": "2023-06-29T10:55:40.222Z"
   },
   {
    "duration": 13,
    "start_time": "2023-06-29T10:56:20.257Z"
   },
   {
    "duration": 13,
    "start_time": "2023-06-29T11:01:50.831Z"
   },
   {
    "duration": 1491,
    "start_time": "2023-06-29T11:02:33.384Z"
   },
   {
    "duration": 35,
    "start_time": "2023-06-29T11:02:34.877Z"
   },
   {
    "duration": 12,
    "start_time": "2023-06-29T11:02:34.914Z"
   },
   {
    "duration": 25,
    "start_time": "2023-06-29T11:02:34.928Z"
   },
   {
    "duration": 10,
    "start_time": "2023-06-29T11:02:34.955Z"
   },
   {
    "duration": 56,
    "start_time": "2023-06-29T11:02:34.967Z"
   },
   {
    "duration": 16,
    "start_time": "2023-06-29T11:02:35.025Z"
   },
   {
    "duration": 27,
    "start_time": "2023-06-29T11:02:35.043Z"
   },
   {
    "duration": 329,
    "start_time": "2023-06-29T11:02:35.072Z"
   },
   {
    "duration": 331,
    "start_time": "2023-06-29T11:02:35.402Z"
   },
   {
    "duration": 1661,
    "start_time": "2023-06-29T11:02:35.735Z"
   },
   {
    "duration": 14,
    "start_time": "2023-06-29T11:02:37.398Z"
   },
   {
    "duration": 1213,
    "start_time": "2023-06-29T11:16:42.057Z"
   },
   {
    "duration": 4,
    "start_time": "2023-06-29T11:17:25.542Z"
   },
   {
    "duration": 1594,
    "start_time": "2023-06-29T11:17:30.273Z"
   },
   {
    "duration": 35,
    "start_time": "2023-06-29T11:17:31.870Z"
   },
   {
    "duration": 13,
    "start_time": "2023-06-29T11:17:31.907Z"
   },
   {
    "duration": 37,
    "start_time": "2023-06-29T11:17:31.921Z"
   },
   {
    "duration": 18,
    "start_time": "2023-06-29T11:17:31.960Z"
   },
   {
    "duration": 82,
    "start_time": "2023-06-29T11:17:31.980Z"
   },
   {
    "duration": 17,
    "start_time": "2023-06-29T11:17:32.063Z"
   },
   {
    "duration": 57,
    "start_time": "2023-06-29T11:17:32.081Z"
   },
   {
    "duration": 334,
    "start_time": "2023-06-29T11:17:32.140Z"
   },
   {
    "duration": 358,
    "start_time": "2023-06-29T11:17:32.475Z"
   },
   {
    "duration": 1634,
    "start_time": "2023-06-29T11:17:32.834Z"
   },
   {
    "duration": 1258,
    "start_time": "2023-06-29T11:17:34.469Z"
   },
   {
    "duration": 1148,
    "start_time": "2023-06-29T11:20:40.363Z"
   },
   {
    "duration": 1087,
    "start_time": "2023-06-29T11:23:34.973Z"
   },
   {
    "duration": 208,
    "start_time": "2023-06-30T10:32:29.370Z"
   },
   {
    "duration": 80,
    "start_time": "2023-06-30T10:33:24.700Z"
   },
   {
    "duration": 1499,
    "start_time": "2023-06-30T10:33:30.560Z"
   },
   {
    "duration": 69,
    "start_time": "2023-06-30T10:33:32.061Z"
   },
   {
    "duration": 56,
    "start_time": "2023-06-30T10:33:32.132Z"
   },
   {
    "duration": 81,
    "start_time": "2023-06-30T10:33:32.190Z"
   },
   {
    "duration": 31,
    "start_time": "2023-06-30T10:33:32.273Z"
   },
   {
    "duration": 93,
    "start_time": "2023-06-30T10:33:32.306Z"
   },
   {
    "duration": 13,
    "start_time": "2023-06-30T10:33:32.400Z"
   },
   {
    "duration": 18,
    "start_time": "2023-06-30T10:33:32.414Z"
   },
   {
    "duration": 273,
    "start_time": "2023-06-30T10:33:32.433Z"
   },
   {
    "duration": 262,
    "start_time": "2023-06-30T10:33:32.707Z"
   },
   {
    "duration": 1303,
    "start_time": "2023-06-30T10:33:32.971Z"
   },
   {
    "duration": 79,
    "start_time": "2023-06-30T10:33:34.275Z"
   },
   {
    "duration": 74,
    "start_time": "2023-06-30T10:37:49.744Z"
   },
   {
    "duration": 16,
    "start_time": "2023-06-30T10:39:01.690Z"
   },
   {
    "duration": 118,
    "start_time": "2023-06-30T10:39:05.132Z"
   },
   {
    "duration": 112,
    "start_time": "2023-06-30T10:39:23.391Z"
   },
   {
    "duration": 17,
    "start_time": "2023-06-30T10:40:30.031Z"
   },
   {
    "duration": 14,
    "start_time": "2023-06-30T10:41:12.175Z"
   },
   {
    "duration": 14,
    "start_time": "2023-06-30T10:41:48.836Z"
   },
   {
    "duration": 20,
    "start_time": "2023-06-30T10:41:52.212Z"
   },
   {
    "duration": 12,
    "start_time": "2023-06-30T10:41:59.952Z"
   },
   {
    "duration": 17,
    "start_time": "2023-06-30T10:42:02.541Z"
   },
   {
    "duration": 12,
    "start_time": "2023-06-30T10:42:11.643Z"
   },
   {
    "duration": 16,
    "start_time": "2023-06-30T10:42:13.956Z"
   },
   {
    "duration": 9,
    "start_time": "2023-06-30T10:51:17.015Z"
   },
   {
    "duration": 3,
    "start_time": "2023-06-30T10:51:46.381Z"
   },
   {
    "duration": 1369,
    "start_time": "2023-06-30T10:51:51.324Z"
   },
   {
    "duration": 35,
    "start_time": "2023-06-30T10:51:52.695Z"
   },
   {
    "duration": 11,
    "start_time": "2023-06-30T10:51:52.731Z"
   },
   {
    "duration": 22,
    "start_time": "2023-06-30T10:51:52.744Z"
   },
   {
    "duration": 20,
    "start_time": "2023-06-30T10:51:52.768Z"
   },
   {
    "duration": 61,
    "start_time": "2023-06-30T10:51:52.789Z"
   },
   {
    "duration": 14,
    "start_time": "2023-06-30T10:51:52.851Z"
   },
   {
    "duration": 5,
    "start_time": "2023-06-30T10:51:52.867Z"
   },
   {
    "duration": 271,
    "start_time": "2023-06-30T10:51:52.873Z"
   },
   {
    "duration": 261,
    "start_time": "2023-06-30T10:51:53.146Z"
   },
   {
    "duration": 1362,
    "start_time": "2023-06-30T10:51:53.408Z"
   },
   {
    "duration": 13,
    "start_time": "2023-06-30T10:51:54.771Z"
   },
   {
    "duration": 19,
    "start_time": "2023-06-30T10:51:54.786Z"
   },
   {
    "duration": 564,
    "start_time": "2023-06-30T10:51:54.808Z"
   },
   {
    "duration": 1385,
    "start_time": "2023-06-30T11:03:01.109Z"
   },
   {
    "duration": 34,
    "start_time": "2023-06-30T11:03:02.496Z"
   },
   {
    "duration": 12,
    "start_time": "2023-06-30T11:03:02.533Z"
   },
   {
    "duration": 24,
    "start_time": "2023-06-30T11:03:02.547Z"
   },
   {
    "duration": 6,
    "start_time": "2023-06-30T11:03:02.575Z"
   },
   {
    "duration": 54,
    "start_time": "2023-06-30T11:03:02.582Z"
   },
   {
    "duration": 16,
    "start_time": "2023-06-30T11:03:02.638Z"
   },
   {
    "duration": 12,
    "start_time": "2023-06-30T11:03:02.656Z"
   },
   {
    "duration": 285,
    "start_time": "2023-06-30T11:03:02.670Z"
   },
   {
    "duration": 281,
    "start_time": "2023-06-30T11:03:02.957Z"
   },
   {
    "duration": 1358,
    "start_time": "2023-06-30T11:03:03.240Z"
   },
   {
    "duration": 14,
    "start_time": "2023-06-30T11:03:04.600Z"
   },
   {
    "duration": 86,
    "start_time": "2023-06-30T11:03:04.615Z"
   },
   {
    "duration": 464,
    "start_time": "2023-06-30T11:03:04.705Z"
   },
   {
    "duration": 1560,
    "start_time": "2023-06-30T11:17:16.458Z"
   },
   {
    "duration": 33,
    "start_time": "2023-06-30T11:17:18.020Z"
   },
   {
    "duration": 17,
    "start_time": "2023-06-30T11:17:18.057Z"
   },
   {
    "duration": 27,
    "start_time": "2023-06-30T11:17:18.075Z"
   },
   {
    "duration": 23,
    "start_time": "2023-06-30T11:17:18.103Z"
   },
   {
    "duration": 61,
    "start_time": "2023-06-30T11:17:18.128Z"
   },
   {
    "duration": 16,
    "start_time": "2023-06-30T11:17:18.191Z"
   },
   {
    "duration": 5,
    "start_time": "2023-06-30T11:17:18.209Z"
   },
   {
    "duration": 278,
    "start_time": "2023-06-30T11:17:18.216Z"
   },
   {
    "duration": 283,
    "start_time": "2023-06-30T11:17:18.496Z"
   },
   {
    "duration": 1321,
    "start_time": "2023-06-30T11:17:18.781Z"
   },
   {
    "duration": 14,
    "start_time": "2023-06-30T11:17:20.104Z"
   },
   {
    "duration": 81,
    "start_time": "2023-06-30T11:17:20.119Z"
   },
   {
    "duration": 457,
    "start_time": "2023-06-30T11:17:20.202Z"
   },
   {
    "duration": 5,
    "start_time": "2023-06-30T11:23:07.225Z"
   },
   {
    "duration": 1486,
    "start_time": "2023-06-30T11:33:21.061Z"
   },
   {
    "duration": 33,
    "start_time": "2023-06-30T11:33:22.548Z"
   },
   {
    "duration": 11,
    "start_time": "2023-06-30T11:33:22.583Z"
   },
   {
    "duration": 32,
    "start_time": "2023-06-30T11:33:22.597Z"
   },
   {
    "duration": 12,
    "start_time": "2023-06-30T11:33:22.631Z"
   },
   {
    "duration": 49,
    "start_time": "2023-06-30T11:33:22.644Z"
   },
   {
    "duration": 19,
    "start_time": "2023-06-30T11:33:22.694Z"
   },
   {
    "duration": 16,
    "start_time": "2023-06-30T11:33:22.715Z"
   },
   {
    "duration": 284,
    "start_time": "2023-06-30T11:33:22.733Z"
   },
   {
    "duration": 295,
    "start_time": "2023-06-30T11:33:23.019Z"
   },
   {
    "duration": 1546,
    "start_time": "2023-06-30T11:33:23.317Z"
   },
   {
    "duration": 14,
    "start_time": "2023-06-30T11:33:24.865Z"
   },
   {
    "duration": 32,
    "start_time": "2023-06-30T11:33:24.881Z"
   },
   {
    "duration": 571,
    "start_time": "2023-06-30T11:33:24.915Z"
   },
   {
    "duration": 94645,
    "start_time": "2023-06-30T11:33:25.488Z"
   },
   {
    "duration": 3,
    "start_time": "2023-06-30T11:37:32.017Z"
   },
   {
    "duration": 966,
    "start_time": "2023-06-30T11:38:41.751Z"
   },
   {
    "duration": 978,
    "start_time": "2023-06-30T11:40:22.249Z"
   },
   {
    "duration": 98,
    "start_time": "2023-06-30T11:43:39.385Z"
   },
   {
    "duration": 168,
    "start_time": "2023-06-30T11:48:28.300Z"
   },
   {
    "duration": 1512,
    "start_time": "2023-06-30T11:48:49.537Z"
   },
   {
    "duration": 82,
    "start_time": "2023-06-30T11:48:51.052Z"
   },
   {
    "duration": 13,
    "start_time": "2023-06-30T11:48:51.135Z"
   },
   {
    "duration": 14,
    "start_time": "2023-06-30T11:48:51.149Z"
   },
   {
    "duration": 5,
    "start_time": "2023-06-30T11:48:51.165Z"
   },
   {
    "duration": 59,
    "start_time": "2023-06-30T11:48:51.171Z"
   },
   {
    "duration": 21,
    "start_time": "2023-06-30T11:48:51.232Z"
   },
   {
    "duration": 14,
    "start_time": "2023-06-30T11:48:51.254Z"
   },
   {
    "duration": 344,
    "start_time": "2023-06-30T11:48:51.269Z"
   },
   {
    "duration": 319,
    "start_time": "2023-06-30T11:48:51.615Z"
   },
   {
    "duration": 1518,
    "start_time": "2023-06-30T11:48:51.936Z"
   },
   {
    "duration": 14,
    "start_time": "2023-06-30T11:48:53.456Z"
   },
   {
    "duration": 62,
    "start_time": "2023-06-30T11:48:53.471Z"
   },
   {
    "duration": 489,
    "start_time": "2023-06-30T11:48:53.605Z"
   },
   {
    "duration": 104379,
    "start_time": "2023-06-30T11:48:54.096Z"
   },
   {
    "duration": 1150,
    "start_time": "2023-06-30T11:50:38.476Z"
   },
   {
    "duration": 19,
    "start_time": "2023-06-30T11:50:39.701Z"
   },
   {
    "duration": 37524,
    "start_time": "2023-06-30T11:50:39.722Z"
   },
   {
    "duration": 151,
    "start_time": "2023-06-30T11:51:31.815Z"
   },
   {
    "duration": 32069,
    "start_time": "2023-06-30T11:52:19.455Z"
   },
   {
    "duration": 54,
    "start_time": "2023-07-01T11:24:43.633Z"
   },
   {
    "duration": 6,
    "start_time": "2023-07-01T11:24:48.613Z"
   },
   {
    "duration": 1840,
    "start_time": "2023-07-01T11:24:55.374Z"
   },
   {
    "duration": 131,
    "start_time": "2023-07-01T11:24:57.216Z"
   },
   {
    "duration": 24,
    "start_time": "2023-07-01T11:24:57.348Z"
   },
   {
    "duration": 28,
    "start_time": "2023-07-01T11:24:57.374Z"
   },
   {
    "duration": 16,
    "start_time": "2023-07-01T11:24:57.405Z"
   },
   {
    "duration": 61,
    "start_time": "2023-07-01T11:24:57.422Z"
   },
   {
    "duration": 21,
    "start_time": "2023-07-01T11:24:57.484Z"
   },
   {
    "duration": 6,
    "start_time": "2023-07-01T11:24:57.507Z"
   },
   {
    "duration": 359,
    "start_time": "2023-07-01T11:24:57.515Z"
   },
   {
    "duration": 335,
    "start_time": "2023-07-01T11:24:57.876Z"
   },
   {
    "duration": 1776,
    "start_time": "2023-07-01T11:24:58.213Z"
   },
   {
    "duration": 15,
    "start_time": "2023-07-01T11:24:59.991Z"
   },
   {
    "duration": 20,
    "start_time": "2023-07-01T11:25:00.007Z"
   },
   {
    "duration": 489,
    "start_time": "2023-07-01T11:25:00.062Z"
   },
   {
    "duration": 116524,
    "start_time": "2023-07-01T11:25:00.573Z"
   },
   {
    "duration": 1086,
    "start_time": "2023-07-01T11:26:57.098Z"
   },
   {
    "duration": 89,
    "start_time": "2023-07-01T11:26:58.186Z"
   },
   {
    "duration": 39297,
    "start_time": "2023-07-01T11:26:58.281Z"
   },
   {
    "duration": 33601,
    "start_time": "2023-07-01T11:30:06.270Z"
   },
   {
    "duration": 33619,
    "start_time": "2023-07-01T11:31:02.770Z"
   },
   {
    "duration": 33446,
    "start_time": "2023-07-01T11:31:55.569Z"
   },
   {
    "duration": 1724,
    "start_time": "2023-07-02T10:06:26.119Z"
   },
   {
    "duration": 90,
    "start_time": "2023-07-02T10:06:27.845Z"
   },
   {
    "duration": 11,
    "start_time": "2023-07-02T10:06:27.936Z"
   },
   {
    "duration": 13,
    "start_time": "2023-07-02T10:06:27.949Z"
   },
   {
    "duration": 6,
    "start_time": "2023-07-02T10:06:27.964Z"
   },
   {
    "duration": 54,
    "start_time": "2023-07-02T10:06:27.971Z"
   },
   {
    "duration": 17,
    "start_time": "2023-07-02T10:06:28.026Z"
   },
   {
    "duration": 5,
    "start_time": "2023-07-02T10:06:28.044Z"
   },
   {
    "duration": 285,
    "start_time": "2023-07-02T10:06:28.050Z"
   },
   {
    "duration": 292,
    "start_time": "2023-07-02T10:06:28.337Z"
   },
   {
    "duration": 1432,
    "start_time": "2023-07-02T10:06:28.630Z"
   },
   {
    "duration": 13,
    "start_time": "2023-07-02T10:06:30.064Z"
   },
   {
    "duration": 134,
    "start_time": "2023-07-02T10:06:30.078Z"
   },
   {
    "duration": 509,
    "start_time": "2023-07-02T10:06:30.218Z"
   },
   {
    "duration": 97709,
    "start_time": "2023-07-02T10:06:30.729Z"
   },
   {
    "duration": 1120,
    "start_time": "2023-07-02T10:08:08.440Z"
   },
   {
    "duration": 13,
    "start_time": "2023-07-02T10:08:09.561Z"
   },
   {
    "duration": 30467,
    "start_time": "2023-07-02T10:08:09.576Z"
   },
   {
    "duration": 94,
    "start_time": "2023-07-02T10:08:40.045Z"
   },
   {
    "duration": 533,
    "start_time": "2023-07-02T10:19:59.322Z"
   },
   {
    "duration": 397,
    "start_time": "2023-07-02T10:20:37.488Z"
   },
   {
    "duration": 360,
    "start_time": "2023-07-02T10:20:47.683Z"
   },
   {
    "duration": 340,
    "start_time": "2023-07-02T10:20:58.851Z"
   },
   {
    "duration": 324,
    "start_time": "2023-07-02T10:21:05.446Z"
   },
   {
    "duration": 62,
    "start_time": "2023-07-03T10:52:03.206Z"
   },
   {
    "duration": 6,
    "start_time": "2023-07-03T10:52:23.422Z"
   },
   {
    "duration": 1850,
    "start_time": "2023-07-03T10:52:27.537Z"
   },
   {
    "duration": 80,
    "start_time": "2023-07-03T10:52:29.389Z"
   },
   {
    "duration": 18,
    "start_time": "2023-07-03T10:52:29.472Z"
   },
   {
    "duration": 20,
    "start_time": "2023-07-03T10:52:29.493Z"
   },
   {
    "duration": 10,
    "start_time": "2023-07-03T10:52:29.515Z"
   },
   {
    "duration": 93,
    "start_time": "2023-07-03T10:52:29.528Z"
   },
   {
    "duration": 19,
    "start_time": "2023-07-03T10:52:29.624Z"
   },
   {
    "duration": 8,
    "start_time": "2023-07-03T10:52:29.645Z"
   },
   {
    "duration": 1270,
    "start_time": "2023-07-03T10:52:29.655Z"
   },
   {
    "duration": 1190,
    "start_time": "2023-07-03T10:52:30.927Z"
   },
   {
    "duration": 430,
    "start_time": "2023-07-03T10:52:32.119Z"
   },
   {
    "duration": 588,
    "start_time": "2023-07-03T10:52:32.552Z"
   },
   {
    "duration": 1765,
    "start_time": "2023-07-03T10:52:33.142Z"
   },
   {
    "duration": 17,
    "start_time": "2023-07-03T10:52:34.909Z"
   },
   {
    "duration": 48,
    "start_time": "2023-07-03T10:52:34.928Z"
   },
   {
    "duration": 620,
    "start_time": "2023-07-03T10:52:34.978Z"
   },
   {
    "duration": 1642,
    "start_time": "2023-07-03T10:53:15.236Z"
   },
   {
    "duration": 35,
    "start_time": "2023-07-03T10:53:16.880Z"
   },
   {
    "duration": 14,
    "start_time": "2023-07-03T10:53:16.916Z"
   },
   {
    "duration": 66,
    "start_time": "2023-07-03T10:53:16.931Z"
   },
   {
    "duration": 8,
    "start_time": "2023-07-03T10:53:16.999Z"
   },
   {
    "duration": 79,
    "start_time": "2023-07-03T10:53:17.009Z"
   },
   {
    "duration": 18,
    "start_time": "2023-07-03T10:53:17.090Z"
   },
   {
    "duration": 19,
    "start_time": "2023-07-03T10:53:17.110Z"
   },
   {
    "duration": 1254,
    "start_time": "2023-07-03T10:53:17.131Z"
   },
   {
    "duration": 1102,
    "start_time": "2023-07-03T10:53:18.387Z"
   },
   {
    "duration": 407,
    "start_time": "2023-07-03T10:53:19.491Z"
   },
   {
    "duration": 579,
    "start_time": "2023-07-03T10:53:19.900Z"
   },
   {
    "duration": 1839,
    "start_time": "2023-07-03T10:53:20.481Z"
   },
   {
    "duration": 16,
    "start_time": "2023-07-03T10:53:22.324Z"
   },
   {
    "duration": 74,
    "start_time": "2023-07-03T10:53:22.342Z"
   },
   {
    "duration": 634,
    "start_time": "2023-07-03T10:53:22.420Z"
   },
   {
    "duration": 1715,
    "start_time": "2023-07-03T10:55:14.867Z"
   },
   {
    "duration": 34,
    "start_time": "2023-07-03T10:55:16.584Z"
   },
   {
    "duration": 13,
    "start_time": "2023-07-03T10:55:16.620Z"
   },
   {
    "duration": 17,
    "start_time": "2023-07-03T10:55:16.635Z"
   },
   {
    "duration": 22,
    "start_time": "2023-07-03T10:55:16.660Z"
   },
   {
    "duration": 64,
    "start_time": "2023-07-03T10:55:16.684Z"
   },
   {
    "duration": 26,
    "start_time": "2023-07-03T10:55:16.750Z"
   },
   {
    "duration": 12,
    "start_time": "2023-07-03T10:55:16.778Z"
   },
   {
    "duration": 1445,
    "start_time": "2023-07-03T10:55:16.791Z"
   },
   {
    "duration": 1172,
    "start_time": "2023-07-03T10:55:18.238Z"
   },
   {
    "duration": 400,
    "start_time": "2023-07-03T10:55:19.412Z"
   },
   {
    "duration": 569,
    "start_time": "2023-07-03T10:55:19.814Z"
   },
   {
    "duration": 1682,
    "start_time": "2023-07-03T10:55:20.385Z"
   },
   {
    "duration": 23,
    "start_time": "2023-07-03T10:55:22.072Z"
   },
   {
    "duration": 73,
    "start_time": "2023-07-03T10:55:22.097Z"
   },
   {
    "duration": 603,
    "start_time": "2023-07-03T10:55:22.175Z"
   },
   {
    "duration": 126011,
    "start_time": "2023-07-03T10:55:22.780Z"
   },
   {
    "duration": 1077,
    "start_time": "2023-07-03T10:57:28.793Z"
   },
   {
    "duration": 12,
    "start_time": "2023-07-03T10:57:29.872Z"
   },
   {
    "duration": 35847,
    "start_time": "2023-07-03T10:57:29.885Z"
   },
   {
    "duration": 1614,
    "start_time": "2023-07-03T10:58:05.734Z"
   },
   {
    "duration": 1524,
    "start_time": "2023-07-03T10:58:07.354Z"
   },
   {
    "duration": 3,
    "start_time": "2023-07-03T10:58:16.509Z"
   },
   {
    "duration": 3,
    "start_time": "2023-07-03T10:58:17.944Z"
   },
   {
    "duration": 54,
    "start_time": "2023-07-04T10:39:28.349Z"
   },
   {
    "duration": 1637,
    "start_time": "2023-07-04T10:39:33.784Z"
   },
   {
    "duration": 135,
    "start_time": "2023-07-04T10:39:35.423Z"
   },
   {
    "duration": 13,
    "start_time": "2023-07-04T10:39:35.560Z"
   },
   {
    "duration": 17,
    "start_time": "2023-07-04T10:39:35.575Z"
   },
   {
    "duration": 6,
    "start_time": "2023-07-04T10:39:35.594Z"
   },
   {
    "duration": 62,
    "start_time": "2023-07-04T10:39:35.601Z"
   },
   {
    "duration": 17,
    "start_time": "2023-07-04T10:39:35.665Z"
   },
   {
    "duration": 7,
    "start_time": "2023-07-04T10:39:35.684Z"
   },
   {
    "duration": 1454,
    "start_time": "2023-07-04T10:39:35.693Z"
   },
   {
    "duration": 1239,
    "start_time": "2023-07-04T10:39:37.156Z"
   },
   {
    "duration": 1752,
    "start_time": "2023-07-04T10:39:38.397Z"
   },
   {
    "duration": 14,
    "start_time": "2023-07-04T10:39:40.151Z"
   },
   {
    "duration": 36,
    "start_time": "2023-07-04T10:39:40.167Z"
   },
   {
    "duration": 465,
    "start_time": "2023-07-04T10:39:40.258Z"
   },
   {
    "duration": 112851,
    "start_time": "2023-07-04T10:39:40.726Z"
   },
   {
    "duration": 1479,
    "start_time": "2023-07-04T10:41:33.579Z"
   },
   {
    "duration": 12,
    "start_time": "2023-07-04T10:41:35.060Z"
   },
   {
    "duration": 1476,
    "start_time": "2023-07-04T10:42:02.676Z"
   },
   {
    "duration": 33,
    "start_time": "2023-07-04T10:42:04.154Z"
   },
   {
    "duration": 11,
    "start_time": "2023-07-04T10:42:04.189Z"
   },
   {
    "duration": 15,
    "start_time": "2023-07-04T10:42:04.202Z"
   },
   {
    "duration": 16,
    "start_time": "2023-07-04T10:42:04.219Z"
   },
   {
    "duration": 48,
    "start_time": "2023-07-04T10:42:04.237Z"
   },
   {
    "duration": 16,
    "start_time": "2023-07-04T10:42:04.287Z"
   },
   {
    "duration": 6,
    "start_time": "2023-07-04T10:42:04.304Z"
   },
   {
    "duration": 130,
    "start_time": "2023-07-04T10:42:04.312Z"
   },
   {
    "duration": 0,
    "start_time": "2023-07-04T10:42:04.444Z"
   },
   {
    "duration": 0,
    "start_time": "2023-07-04T10:42:04.445Z"
   },
   {
    "duration": 0,
    "start_time": "2023-07-04T10:42:04.446Z"
   },
   {
    "duration": 0,
    "start_time": "2023-07-04T10:42:04.457Z"
   },
   {
    "duration": 0,
    "start_time": "2023-07-04T10:42:04.458Z"
   },
   {
    "duration": 0,
    "start_time": "2023-07-04T10:42:04.458Z"
   },
   {
    "duration": 0,
    "start_time": "2023-07-04T10:42:04.460Z"
   },
   {
    "duration": 0,
    "start_time": "2023-07-04T10:42:04.461Z"
   },
   {
    "duration": 0,
    "start_time": "2023-07-04T10:42:04.462Z"
   },
   {
    "duration": 0,
    "start_time": "2023-07-04T10:42:04.463Z"
   },
   {
    "duration": 4,
    "start_time": "2023-07-04T10:42:14.693Z"
   },
   {
    "duration": 1564,
    "start_time": "2023-07-04T10:42:56.470Z"
   },
   {
    "duration": 34,
    "start_time": "2023-07-04T10:42:58.036Z"
   },
   {
    "duration": 14,
    "start_time": "2023-07-04T10:42:58.072Z"
   },
   {
    "duration": 15,
    "start_time": "2023-07-04T10:42:58.088Z"
   },
   {
    "duration": 7,
    "start_time": "2023-07-04T10:42:58.105Z"
   },
   {
    "duration": 62,
    "start_time": "2023-07-04T10:42:58.114Z"
   },
   {
    "duration": 16,
    "start_time": "2023-07-04T10:42:58.177Z"
   },
   {
    "duration": 18,
    "start_time": "2023-07-04T10:42:58.195Z"
   },
   {
    "duration": 13,
    "start_time": "2023-07-04T10:42:58.214Z"
   },
   {
    "duration": 1622,
    "start_time": "2023-07-04T10:42:58.230Z"
   },
   {
    "duration": 1335,
    "start_time": "2023-07-04T10:42:59.853Z"
   },
   {
    "duration": 1735,
    "start_time": "2023-07-04T10:43:01.190Z"
   },
   {
    "duration": 19,
    "start_time": "2023-07-04T10:43:02.928Z"
   },
   {
    "duration": 38,
    "start_time": "2023-07-04T10:43:02.949Z"
   },
   {
    "duration": 570,
    "start_time": "2023-07-04T10:43:02.990Z"
   },
   {
    "duration": 113333,
    "start_time": "2023-07-04T10:43:03.561Z"
   },
   {
    "duration": 1364,
    "start_time": "2023-07-04T10:44:56.896Z"
   },
   {
    "duration": 14,
    "start_time": "2023-07-04T10:44:58.262Z"
   },
   {
    "duration": 33167,
    "start_time": "2023-07-04T10:44:58.278Z"
   },
   {
    "duration": 16,
    "start_time": "2023-07-04T10:46:32.729Z"
   },
   {
    "duration": 82,
    "start_time": "2023-07-04T10:46:42.179Z"
   },
   {
    "duration": 389,
    "start_time": "2023-07-04T10:46:46.591Z"
   },
   {
    "duration": 16,
    "start_time": "2023-07-04T10:48:52.928Z"
   },
   {
    "duration": 302,
    "start_time": "2023-07-04T10:48:55.470Z"
   },
   {
    "duration": 16,
    "start_time": "2023-07-04T10:50:06.513Z"
   },
   {
    "duration": 175,
    "start_time": "2023-07-04T10:50:08.784Z"
   },
   {
    "duration": 15,
    "start_time": "2023-07-04T10:50:31.929Z"
   },
   {
    "duration": 80,
    "start_time": "2023-07-04T10:50:34.488Z"
   },
   {
    "duration": 101,
    "start_time": "2023-07-04T10:50:45.457Z"
   },
   {
    "duration": 178,
    "start_time": "2023-07-04T10:50:49.584Z"
   },
   {
    "duration": 15,
    "start_time": "2023-07-04T10:50:55.489Z"
   },
   {
    "duration": 21,
    "start_time": "2023-07-04T10:50:58.297Z"
   },
   {
    "duration": 377,
    "start_time": "2023-07-04T10:51:00.721Z"
   },
   {
    "duration": 5,
    "start_time": "2023-07-04T10:58:41.321Z"
   },
   {
    "duration": 1126,
    "start_time": "2023-07-04T11:06:02.534Z"
   },
   {
    "duration": 1731,
    "start_time": "2023-07-05T10:33:37.846Z"
   },
   {
    "duration": 74,
    "start_time": "2023-07-05T10:33:39.579Z"
   },
   {
    "duration": 14,
    "start_time": "2023-07-05T10:33:39.655Z"
   },
   {
    "duration": 18,
    "start_time": "2023-07-05T10:33:39.672Z"
   },
   {
    "duration": 7,
    "start_time": "2023-07-05T10:33:39.691Z"
   },
   {
    "duration": 55,
    "start_time": "2023-07-05T10:33:39.700Z"
   },
   {
    "duration": 18,
    "start_time": "2023-07-05T10:33:39.756Z"
   },
   {
    "duration": 5,
    "start_time": "2023-07-05T10:33:39.776Z"
   },
   {
    "duration": 1599,
    "start_time": "2023-07-05T10:33:39.783Z"
   },
   {
    "duration": 1340,
    "start_time": "2023-07-05T10:33:41.385Z"
   },
   {
    "duration": 1696,
    "start_time": "2023-07-05T10:33:42.727Z"
   },
   {
    "duration": 4,
    "start_time": "2023-07-05T10:33:44.425Z"
   },
   {
    "duration": 29,
    "start_time": "2023-07-05T10:33:44.430Z"
   },
   {
    "duration": 49,
    "start_time": "2023-07-05T10:33:44.461Z"
   },
   {
    "duration": 503,
    "start_time": "2023-07-05T10:33:44.512Z"
   },
   {
    "duration": 115129,
    "start_time": "2023-07-05T10:33:45.018Z"
   },
   {
    "duration": 1264,
    "start_time": "2023-07-05T10:35:40.150Z"
   },
   {
    "duration": 99,
    "start_time": "2023-07-05T10:35:41.416Z"
   },
   {
    "duration": 33914,
    "start_time": "2023-07-05T10:35:41.518Z"
   },
   {
    "duration": 35110,
    "start_time": "2023-07-05T10:58:38.442Z"
   },
   {
    "duration": 40731,
    "start_time": "2023-07-05T10:59:36.331Z"
   },
   {
    "duration": 22,
    "start_time": "2023-07-05T11:14:32.297Z"
   },
   {
    "duration": 25,
    "start_time": "2023-07-05T11:15:45.279Z"
   },
   {
    "duration": 20,
    "start_time": "2023-07-05T11:16:08.031Z"
   },
   {
    "duration": 8474,
    "start_time": "2023-07-05T11:29:16.803Z"
   },
   {
    "duration": 2342,
    "start_time": "2023-07-05T11:31:06.063Z"
   },
   {
    "duration": 8992,
    "start_time": "2023-07-05T11:31:26.769Z"
   },
   {
    "duration": 8918,
    "start_time": "2023-07-05T11:53:58.837Z"
   },
   {
    "duration": 1693,
    "start_time": "2023-07-06T09:28:00.797Z"
   },
   {
    "duration": 74,
    "start_time": "2023-07-06T09:28:02.492Z"
   },
   {
    "duration": 17,
    "start_time": "2023-07-06T09:28:02.569Z"
   },
   {
    "duration": 18,
    "start_time": "2023-07-06T09:28:02.588Z"
   },
   {
    "duration": 6,
    "start_time": "2023-07-06T09:28:02.608Z"
   },
   {
    "duration": 66,
    "start_time": "2023-07-06T09:28:02.616Z"
   },
   {
    "duration": 14,
    "start_time": "2023-07-06T09:28:02.684Z"
   },
   {
    "duration": 5,
    "start_time": "2023-07-06T09:28:02.700Z"
   },
   {
    "duration": 119,
    "start_time": "2023-07-06T09:28:02.706Z"
   },
   {
    "duration": 0,
    "start_time": "2023-07-06T09:28:02.827Z"
   },
   {
    "duration": 0,
    "start_time": "2023-07-06T09:28:02.828Z"
   },
   {
    "duration": 0,
    "start_time": "2023-07-06T09:28:02.829Z"
   },
   {
    "duration": 0,
    "start_time": "2023-07-06T09:28:02.830Z"
   },
   {
    "duration": 0,
    "start_time": "2023-07-06T09:28:02.831Z"
   },
   {
    "duration": 0,
    "start_time": "2023-07-06T09:28:02.832Z"
   },
   {
    "duration": 0,
    "start_time": "2023-07-06T09:28:02.833Z"
   },
   {
    "duration": 0,
    "start_time": "2023-07-06T09:28:02.834Z"
   },
   {
    "duration": 0,
    "start_time": "2023-07-06T09:28:02.835Z"
   },
   {
    "duration": 0,
    "start_time": "2023-07-06T09:28:02.836Z"
   },
   {
    "duration": 0,
    "start_time": "2023-07-06T09:28:02.837Z"
   },
   {
    "duration": 1453,
    "start_time": "2023-07-06T09:33:35.284Z"
   },
   {
    "duration": 33,
    "start_time": "2023-07-06T09:33:36.738Z"
   },
   {
    "duration": 12,
    "start_time": "2023-07-06T09:33:36.772Z"
   },
   {
    "duration": 20,
    "start_time": "2023-07-06T09:33:36.786Z"
   },
   {
    "duration": 7,
    "start_time": "2023-07-06T09:33:36.809Z"
   },
   {
    "duration": 71,
    "start_time": "2023-07-06T09:33:36.818Z"
   },
   {
    "duration": 16,
    "start_time": "2023-07-06T09:33:36.891Z"
   },
   {
    "duration": 5,
    "start_time": "2023-07-06T09:33:36.908Z"
   },
   {
    "duration": 12,
    "start_time": "2023-07-06T09:33:36.915Z"
   },
   {
    "duration": 1441,
    "start_time": "2023-07-06T09:33:36.929Z"
   },
   {
    "duration": 1261,
    "start_time": "2023-07-06T09:33:38.374Z"
   },
   {
    "duration": 1652,
    "start_time": "2023-07-06T09:33:39.636Z"
   },
   {
    "duration": 4,
    "start_time": "2023-07-06T09:33:41.290Z"
   },
   {
    "duration": 18,
    "start_time": "2023-07-06T09:33:41.297Z"
   },
   {
    "duration": 63,
    "start_time": "2023-07-06T09:33:41.316Z"
   },
   {
    "duration": 452,
    "start_time": "2023-07-06T09:33:41.381Z"
   },
   {
    "duration": 107172,
    "start_time": "2023-07-06T09:33:41.835Z"
   },
   {
    "duration": 1467,
    "start_time": "2023-07-06T09:35:29.008Z"
   },
   {
    "duration": 18,
    "start_time": "2023-07-06T09:35:30.477Z"
   },
   {
    "duration": 7072,
    "start_time": "2023-07-06T09:35:30.497Z"
   },
   {
    "duration": 3,
    "start_time": "2023-07-06T09:47:42.964Z"
   },
   {
    "duration": 1599,
    "start_time": "2023-07-06T10:19:40.828Z"
   },
   {
    "duration": 34,
    "start_time": "2023-07-06T10:19:42.429Z"
   },
   {
    "duration": 10,
    "start_time": "2023-07-06T10:19:42.465Z"
   },
   {
    "duration": 34,
    "start_time": "2023-07-06T10:19:42.477Z"
   },
   {
    "duration": 8,
    "start_time": "2023-07-06T10:19:42.512Z"
   },
   {
    "duration": 52,
    "start_time": "2023-07-06T10:19:42.521Z"
   },
   {
    "duration": 14,
    "start_time": "2023-07-06T10:19:42.574Z"
   },
   {
    "duration": 9,
    "start_time": "2023-07-06T10:19:42.589Z"
   },
   {
    "duration": 1384,
    "start_time": "2023-07-06T10:19:42.599Z"
   },
   {
    "duration": 1191,
    "start_time": "2023-07-06T10:19:43.987Z"
   },
   {
    "duration": 1543,
    "start_time": "2023-07-06T10:19:48.306Z"
   },
   {
    "duration": 33,
    "start_time": "2023-07-06T10:19:49.851Z"
   },
   {
    "duration": 11,
    "start_time": "2023-07-06T10:19:49.886Z"
   },
   {
    "duration": 22,
    "start_time": "2023-07-06T10:19:49.899Z"
   },
   {
    "duration": 10,
    "start_time": "2023-07-06T10:19:49.923Z"
   },
   {
    "duration": 47,
    "start_time": "2023-07-06T10:19:49.935Z"
   },
   {
    "duration": 14,
    "start_time": "2023-07-06T10:19:49.983Z"
   },
   {
    "duration": 5,
    "start_time": "2023-07-06T10:19:49.998Z"
   },
   {
    "duration": 1418,
    "start_time": "2023-07-06T10:19:50.005Z"
   },
   {
    "duration": 1174,
    "start_time": "2023-07-06T10:19:51.425Z"
   },
   {
    "duration": 1519,
    "start_time": "2023-07-06T10:19:52.601Z"
   },
   {
    "duration": 4,
    "start_time": "2023-07-06T10:19:54.122Z"
   },
   {
    "duration": 40,
    "start_time": "2023-07-06T10:19:54.128Z"
   },
   {
    "duration": 36,
    "start_time": "2023-07-06T10:19:54.171Z"
   },
   {
    "duration": 482,
    "start_time": "2023-07-06T10:19:54.277Z"
   },
   {
    "duration": 107579,
    "start_time": "2023-07-06T10:19:54.761Z"
   },
   {
    "duration": 1339,
    "start_time": "2023-07-06T10:21:42.341Z"
   },
   {
    "duration": 101,
    "start_time": "2023-07-06T10:21:43.682Z"
   },
   {
    "duration": 7114,
    "start_time": "2023-07-06T10:21:43.785Z"
   },
   {
    "duration": 192,
    "start_time": "2023-07-07T09:47:42.546Z"
   }
  ],
  "kernelspec": {
   "display_name": "Python 3 (ipykernel)",
   "language": "python",
   "name": "python3"
  },
  "language_info": {
   "codemirror_mode": {
    "name": "ipython",
    "version": 3
   },
   "file_extension": ".py",
   "mimetype": "text/x-python",
   "name": "python",
   "nbconvert_exporter": "python",
   "pygments_lexer": "ipython3",
   "version": "3.9.12"
  },
  "toc": {
   "base_numbering": 1,
   "nav_menu": {},
   "number_sections": true,
   "sideBar": true,
   "skip_h1_title": true,
   "title_cell": "Table of Contents",
   "title_sidebar": "Contents",
   "toc_cell": false,
   "toc_position": {
    "height": "calc(100% - 180px)",
    "left": "10px",
    "top": "150px",
    "width": "165px"
   },
   "toc_section_display": true,
   "toc_window_display": true
  }
 },
 "nbformat": 4,
 "nbformat_minor": 4
}
