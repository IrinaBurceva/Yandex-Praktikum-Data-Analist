{
 "cells": [
  {
   "cell_type": "markdown",
   "id": "5ba64e78",
   "metadata": {},
   "source": [
    "# Исследование опроса клиентов телекоммуникационной компании"
   ]
  },
  {
   "cell_type": "markdown",
   "id": "29fe76c7",
   "metadata": {},
   "source": [
    "**Задачи проекта:**\n",
    "    \n",
    "   Исследование данных с результатами опроса, отражающего текущий уровень потребительской лояльности (NPS) клиентов телекоммуникационной компании."
   ]
  },
  {
   "cell_type": "markdown",
   "id": "888aa55d",
   "metadata": {},
   "source": [
    "**Описание проекта:**\n",
    "    \n",
    "   Заказчик этого исследования — большая телекоммуникационная компания, которая оказывает услуги на территории всего СНГ. Перед компанией стоит задача определить текущий уровень потребительской лояльности, или NPS (от англ. Net Promoter Score), среди клиентов из России.\n",
    "   \n",
    "Чтобы определить уровень лояльности, клиентам задавали классический вопрос: «Оцените по шкале от 1 до 10 вероятность того, что вы порекомендуете компанию друзьям и знакомым».\n",
    "Компания провела опрос и попросила подготовить дашборд с его итогами. Итоги необходимо оформить в виде презентации.\n",
    "\n",
    "Большую базу данных для такой задачи разворачивать не стали и выгрузили данные в SQLite."
   ]
  },
  {
   "cell_type": "markdown",
   "id": "1dbbd02b",
   "metadata": {},
   "source": [
    "**План работы:**\n",
    "\n",
    "   1. Загрузка библиотек и подключение к базе\n",
    "   2. Выгрузка данных с помощью SQL-запроса\n",
    "   3.Создание дашборда в Tableau\n",
    "   4.Презентация итогов исследования"
   ]
  },
  {
   "cell_type": "markdown",
   "id": "be540e66",
   "metadata": {},
   "source": [
    "## Загрузка библиотек и подключение к базе"
   ]
  },
  {
   "cell_type": "code",
   "execution_count": 1,
   "id": "8f3afc64",
   "metadata": {
    "tags": [
     "aa81075c-062f-4de0-b5fe-14c73dc7468e"
    ]
   },
   "outputs": [],
   "source": [
    "#импортируем необходимые библиотеки\n",
    "import pandas as pd\n",
    "import numpy as np\n",
    "from sqlalchemy import create_engine"
   ]
  },
  {
   "cell_type": "code",
   "execution_count": 2,
   "id": "74a44091",
   "metadata": {},
   "outputs": [],
   "source": [
    "#подключение к базе\n",
    "path_to_db = '/datasets/telecomm_csi.db'\n",
    "engine = create_engine(f'sqlite:///{path_to_db}', echo = False)"
   ]
  },
  {
   "cell_type": "markdown",
   "id": "24e4e94e",
   "metadata": {},
   "source": [
    "## Выгрузка данных с помощью SQL-запроса"
   ]
  },
  {
   "cell_type": "code",
   "execution_count": 3,
   "id": "41d2750e",
   "metadata": {},
   "outputs": [],
   "source": [
    "#выгрузка данных с помощью SQL-запроса\n",
    "query = \"\"\"\n",
    "    SELECT u.user_id AS user_id,\n",
    "    u.lt_day AS lt_day,\n",
    "       CASE\n",
    "           WHEN u.lt_day <= 365 THEN 'new'\n",
    "           ELSE 'old'\n",
    "       END is_new,\n",
    "    u.age AS age,\n",
    "       CASE\n",
    "           WHEN u.gender_segment == 1 THEN 'женщина'\n",
    "           WHEN u.gender_segment == 0 THEN 'мужчина'\n",
    "           ELSE 'Неизвестно'\n",
    "       END gender_segment,\n",
    "    u.os_name AS os_name,\n",
    "    u.cpe_type_name AS cpe_type_name,\n",
    "    l.country AS country,\n",
    "    l.city AS city,\n",
    "    SUBSTRING(ags.title, 3) age_segment,\n",
    "    SUBSTRING(ts.title, 3) traffic_segment,\n",
    "    SUBSTRING(ls.title, 3) lifetime_segment,\n",
    "    u.nps_score AS nps_score,\n",
    "       CASE\n",
    "           WHEN nps_score >= 9 THEN 'сторонники'\n",
    "           WHEN nps_score <= 8 AND nps_score >= 7 THEN 'нейтралы'\n",
    "           WHEN nps_score <= 6 THEN 'критики'\n",
    "       END nps_group \n",
    "FROM user AS u LEFT JOIN location AS l ON u.location_id=l.location_id\n",
    "LEFT JOIN age_segment AS ags ON ags.age_gr_id=u.age_gr_id\n",
    "LEFT JOIN traffic_segment AS ts ON ts.tr_gr_id=u.tr_gr_id\n",
    "LEFT JOIN lifetime_segment AS  ls ON ls.lt_gr_id=u.lt_gr_id \n",
    "\"\"\"   "
   ]
  },
  {
   "cell_type": "code",
   "execution_count": 4,
   "id": "107ef550",
   "metadata": {},
   "outputs": [
    {
     "data": {
      "text/html": [
       "<div>\n",
       "<style scoped>\n",
       "    .dataframe tbody tr th:only-of-type {\n",
       "        vertical-align: middle;\n",
       "    }\n",
       "\n",
       "    .dataframe tbody tr th {\n",
       "        vertical-align: top;\n",
       "    }\n",
       "\n",
       "    .dataframe thead th {\n",
       "        text-align: right;\n",
       "    }\n",
       "</style>\n",
       "<table border=\"1\" class=\"dataframe\">\n",
       "  <thead>\n",
       "    <tr style=\"text-align: right;\">\n",
       "      <th></th>\n",
       "      <th>user_id</th>\n",
       "      <th>lt_day</th>\n",
       "      <th>is_new</th>\n",
       "      <th>age</th>\n",
       "      <th>gender_segment</th>\n",
       "      <th>os_name</th>\n",
       "      <th>cpe_type_name</th>\n",
       "      <th>country</th>\n",
       "      <th>city</th>\n",
       "      <th>age_segment</th>\n",
       "      <th>traffic_segment</th>\n",
       "      <th>lifetime_segment</th>\n",
       "      <th>nps_score</th>\n",
       "      <th>nps_group</th>\n",
       "    </tr>\n",
       "  </thead>\n",
       "  <tbody>\n",
       "    <tr>\n",
       "      <th>0</th>\n",
       "      <td>A001A2</td>\n",
       "      <td>2320</td>\n",
       "      <td>old</td>\n",
       "      <td>45.0</td>\n",
       "      <td>женщина</td>\n",
       "      <td>ANDROID</td>\n",
       "      <td>SMARTPHONE</td>\n",
       "      <td>Россия</td>\n",
       "      <td>Уфа</td>\n",
       "      <td>45-54</td>\n",
       "      <td>1-5</td>\n",
       "      <td>36+</td>\n",
       "      <td>10</td>\n",
       "      <td>сторонники</td>\n",
       "    </tr>\n",
       "    <tr>\n",
       "      <th>1</th>\n",
       "      <td>A001WF</td>\n",
       "      <td>2344</td>\n",
       "      <td>old</td>\n",
       "      <td>53.0</td>\n",
       "      <td>мужчина</td>\n",
       "      <td>ANDROID</td>\n",
       "      <td>SMARTPHONE</td>\n",
       "      <td>Россия</td>\n",
       "      <td>Киров</td>\n",
       "      <td>45-54</td>\n",
       "      <td>1-5</td>\n",
       "      <td>36+</td>\n",
       "      <td>10</td>\n",
       "      <td>сторонники</td>\n",
       "    </tr>\n",
       "    <tr>\n",
       "      <th>2</th>\n",
       "      <td>A003Q7</td>\n",
       "      <td>467</td>\n",
       "      <td>old</td>\n",
       "      <td>57.0</td>\n",
       "      <td>мужчина</td>\n",
       "      <td>ANDROID</td>\n",
       "      <td>SMARTPHONE</td>\n",
       "      <td>Россия</td>\n",
       "      <td>Москва</td>\n",
       "      <td>55-64</td>\n",
       "      <td>20-25</td>\n",
       "      <td>13-24</td>\n",
       "      <td>10</td>\n",
       "      <td>сторонники</td>\n",
       "    </tr>\n",
       "  </tbody>\n",
       "</table>\n",
       "</div>"
      ],
      "text/plain": [
       "  user_id  lt_day is_new   age gender_segment  os_name cpe_type_name country  \\\n",
       "0  A001A2    2320    old  45.0        женщина  ANDROID    SMARTPHONE  Россия   \n",
       "1  A001WF    2344    old  53.0        мужчина  ANDROID    SMARTPHONE  Россия   \n",
       "2  A003Q7     467    old  57.0        мужчина  ANDROID    SMARTPHONE  Россия   \n",
       "\n",
       "     city age_segment traffic_segment lifetime_segment  nps_score   nps_group  \n",
       "0     Уфа       45-54             1-5              36+         10  сторонники  \n",
       "1   Киров       45-54             1-5              36+         10  сторонники  \n",
       "2  Москва       55-64           20-25            13-24         10  сторонники  "
      ]
     },
     "execution_count": 4,
     "metadata": {},
     "output_type": "execute_result"
    }
   ],
   "source": [
    "df = pd.read_sql(query, engine)\n",
    "df.head(3)"
   ]
  },
  {
   "cell_type": "code",
   "execution_count": 5,
   "id": "16748486",
   "metadata": {},
   "outputs": [],
   "source": [
    "#таблицу сохраним как CSV-файл\n",
    "df.to_csv('telecomm_csi_tableau.csv', index=False)"
   ]
  },
  {
   "cell_type": "markdown",
   "id": "f95b7249",
   "metadata": {},
   "source": [
    "## Создание дашборда в Tableau:"
   ]
  },
  {
   "cell_type": "markdown",
   "id": "6dba37ff",
   "metadata": {},
   "source": [
    "https://public.tableau.com/app/profile/.38192900/viz/telecomm_csi_tableau_16758884736000/Dashboard2?publish=yes"
   ]
  },
  {
   "cell_type": "markdown",
   "id": "8bc07a28",
   "metadata": {},
   "source": [
    "## Презентация итогов исследования:"
   ]
  },
  {
   "cell_type": "markdown",
   "id": "5233b57b",
   "metadata": {},
   "source": [
    "https://disk.yandex.ru/d/aYnzHWAHxgVNow"
   ]
  }
 ],
 "metadata": {
  "ExecuteTimeLog": [
   {
    "duration": 752,
    "start_time": "2021-10-03T17:40:52.731Z"
   },
   {
    "duration": 20,
    "start_time": "2021-10-03T17:40:53.486Z"
   },
   {
    "duration": 4,
    "start_time": "2021-10-03T17:41:04.638Z"
   },
   {
    "duration": 461,
    "start_time": "2021-10-03T17:41:04.912Z"
   },
   {
    "duration": 284,
    "start_time": "2021-10-03T17:41:05.376Z"
   },
   {
    "duration": 574,
    "start_time": "2021-10-06T07:55:05.029Z"
   },
   {
    "duration": 6,
    "start_time": "2021-10-06T07:55:05.605Z"
   },
   {
    "duration": 3,
    "start_time": "2021-10-06T07:55:14.685Z"
   },
   {
    "duration": 406,
    "start_time": "2021-10-06T07:55:15.522Z"
   },
   {
    "duration": 67,
    "start_time": "2021-10-06T07:55:15.929Z"
   },
   {
    "duration": 840,
    "start_time": "2021-10-07T07:54:04.647Z"
   },
   {
    "duration": 10,
    "start_time": "2021-10-07T07:54:05.490Z"
   },
   {
    "duration": 4,
    "start_time": "2021-10-07T07:54:05.544Z"
   },
   {
    "duration": 391,
    "start_time": "2021-10-07T07:54:06.237Z"
   },
   {
    "duration": 293,
    "start_time": "2021-10-07T07:54:06.654Z"
   },
   {
    "duration": 46,
    "start_time": "2023-02-07T11:23:40.614Z"
   },
   {
    "duration": 495,
    "start_time": "2023-02-07T11:23:48.967Z"
   },
   {
    "duration": 9,
    "start_time": "2023-02-07T11:23:49.464Z"
   },
   {
    "duration": 3,
    "start_time": "2023-02-07T11:23:49.474Z"
   },
   {
    "duration": 370,
    "start_time": "2023-02-07T11:23:49.478Z"
   },
   {
    "duration": 156,
    "start_time": "2023-02-07T11:23:49.850Z"
   },
   {
    "duration": 329,
    "start_time": "2023-02-07T11:32:04.284Z"
   },
   {
    "duration": 87,
    "start_time": "2023-02-07T11:32:13.033Z"
   },
   {
    "duration": 332,
    "start_time": "2023-02-07T11:32:17.465Z"
   },
   {
    "duration": 2,
    "start_time": "2023-02-07T11:32:22.312Z"
   },
   {
    "duration": 3287,
    "start_time": "2023-02-07T11:32:24.480Z"
   },
   {
    "duration": 537,
    "start_time": "2023-02-07T11:45:25.015Z"
   },
   {
    "duration": 8,
    "start_time": "2023-02-07T11:45:25.554Z"
   },
   {
    "duration": 2,
    "start_time": "2023-02-07T11:45:25.564Z"
   },
   {
    "duration": 371,
    "start_time": "2023-02-07T11:45:25.568Z"
   },
   {
    "duration": 0,
    "start_time": "2023-02-07T11:45:25.940Z"
   },
   {
    "duration": 521,
    "start_time": "2023-02-07T11:50:05.827Z"
   },
   {
    "duration": 12,
    "start_time": "2023-02-07T11:50:06.350Z"
   },
   {
    "duration": 3,
    "start_time": "2023-02-07T11:50:06.364Z"
   },
   {
    "duration": 361,
    "start_time": "2023-02-07T11:50:06.369Z"
   },
   {
    "duration": 0,
    "start_time": "2023-02-07T11:50:06.732Z"
   },
   {
    "duration": 59,
    "start_time": "2023-02-07T19:20:58.303Z"
   },
   {
    "duration": 616,
    "start_time": "2023-02-07T19:21:04.245Z"
   },
   {
    "duration": 11,
    "start_time": "2023-02-07T19:21:04.863Z"
   },
   {
    "duration": 7,
    "start_time": "2023-02-07T19:21:04.876Z"
   },
   {
    "duration": 4428,
    "start_time": "2023-02-07T19:21:04.885Z"
   },
   {
    "duration": 74,
    "start_time": "2023-02-07T19:21:09.315Z"
   },
   {
    "duration": 0,
    "start_time": "2023-02-07T19:21:09.391Z"
   },
   {
    "duration": 69,
    "start_time": "2023-02-07T19:22:14.028Z"
   },
   {
    "duration": 3,
    "start_time": "2023-02-07T19:22:19.188Z"
   },
   {
    "duration": 507,
    "start_time": "2023-02-07T19:22:21.267Z"
   },
   {
    "duration": 499,
    "start_time": "2023-02-07T19:23:10.582Z"
   },
   {
    "duration": 7,
    "start_time": "2023-02-07T19:24:42.933Z"
   },
   {
    "duration": 3,
    "start_time": "2023-02-07T19:24:49.974Z"
   },
   {
    "duration": 499,
    "start_time": "2023-02-07T19:24:51.446Z"
   },
   {
    "duration": 3,
    "start_time": "2023-02-07T19:25:45.294Z"
   },
   {
    "duration": 495,
    "start_time": "2023-02-07T19:25:47.463Z"
   },
   {
    "duration": 3,
    "start_time": "2023-02-07T19:26:46.595Z"
   },
   {
    "duration": 514,
    "start_time": "2023-02-07T19:26:48.065Z"
   },
   {
    "duration": 72,
    "start_time": "2023-02-07T19:45:38.106Z"
   },
   {
    "duration": 89,
    "start_time": "2023-02-07T19:46:17.673Z"
   },
   {
    "duration": 80,
    "start_time": "2023-02-07T19:46:28.201Z"
   },
   {
    "duration": 638,
    "start_time": "2023-02-07T19:47:25.029Z"
   },
   {
    "duration": 9,
    "start_time": "2023-02-07T19:47:25.669Z"
   },
   {
    "duration": 3,
    "start_time": "2023-02-07T19:47:25.679Z"
   },
   {
    "duration": 3855,
    "start_time": "2023-02-07T19:47:25.684Z"
   },
   {
    "duration": 5,
    "start_time": "2023-02-07T19:47:29.542Z"
   },
   {
    "duration": 582,
    "start_time": "2023-02-07T19:47:29.550Z"
   },
   {
    "duration": 5,
    "start_time": "2023-02-07T19:47:30.133Z"
   },
   {
    "duration": 597,
    "start_time": "2023-02-07T19:47:30.140Z"
   },
   {
    "duration": 2,
    "start_time": "2023-02-07T19:47:30.740Z"
   },
   {
    "duration": 562,
    "start_time": "2023-02-07T19:47:30.744Z"
   },
   {
    "duration": 3,
    "start_time": "2023-02-07T19:47:31.309Z"
   },
   {
    "duration": 621,
    "start_time": "2023-02-07T19:47:31.313Z"
   },
   {
    "duration": 73,
    "start_time": "2023-02-07T19:47:31.939Z"
   },
   {
    "duration": 0,
    "start_time": "2023-02-07T19:47:32.014Z"
   },
   {
    "duration": 75,
    "start_time": "2023-02-07T19:55:20.082Z"
   },
   {
    "duration": 75,
    "start_time": "2023-02-07T20:05:36.795Z"
   },
   {
    "duration": 4,
    "start_time": "2023-02-07T20:18:05.094Z"
   },
   {
    "duration": 549,
    "start_time": "2023-02-07T20:18:15.333Z"
   },
   {
    "duration": 8,
    "start_time": "2023-02-07T20:18:15.884Z"
   },
   {
    "duration": 5,
    "start_time": "2023-02-07T20:18:15.894Z"
   },
   {
    "duration": 5,
    "start_time": "2023-02-07T20:18:15.901Z"
   },
   {
    "duration": 4,
    "start_time": "2023-02-07T20:18:15.908Z"
   },
   {
    "duration": 15,
    "start_time": "2023-02-07T20:18:15.923Z"
   },
   {
    "duration": 8,
    "start_time": "2023-02-07T20:18:15.939Z"
   },
   {
    "duration": 5,
    "start_time": "2023-02-07T20:18:15.948Z"
   },
   {
    "duration": 5,
    "start_time": "2023-02-07T20:18:15.954Z"
   },
   {
    "duration": 7,
    "start_time": "2023-02-07T20:18:15.961Z"
   },
   {
    "duration": 5,
    "start_time": "2023-02-07T20:18:15.969Z"
   },
   {
    "duration": 7,
    "start_time": "2023-02-07T20:18:15.976Z"
   },
   {
    "duration": 8,
    "start_time": "2023-02-07T20:18:15.984Z"
   },
   {
    "duration": 84,
    "start_time": "2023-02-07T20:18:15.994Z"
   },
   {
    "duration": 0,
    "start_time": "2023-02-07T20:18:16.080Z"
   },
   {
    "duration": 0,
    "start_time": "2023-02-07T20:18:16.081Z"
   },
   {
    "duration": 75,
    "start_time": "2023-02-07T20:20:13.680Z"
   },
   {
    "duration": 564,
    "start_time": "2023-02-07T20:20:21.813Z"
   },
   {
    "duration": 13,
    "start_time": "2023-02-07T20:20:22.381Z"
   },
   {
    "duration": 3,
    "start_time": "2023-02-07T20:20:22.397Z"
   },
   {
    "duration": 6,
    "start_time": "2023-02-07T20:20:22.402Z"
   },
   {
    "duration": 5,
    "start_time": "2023-02-07T20:20:22.423Z"
   },
   {
    "duration": 28,
    "start_time": "2023-02-07T20:20:22.430Z"
   },
   {
    "duration": 11,
    "start_time": "2023-02-07T20:20:22.459Z"
   },
   {
    "duration": 12,
    "start_time": "2023-02-07T20:20:22.472Z"
   },
   {
    "duration": 6,
    "start_time": "2023-02-07T20:20:22.486Z"
   },
   {
    "duration": 4,
    "start_time": "2023-02-07T20:20:22.495Z"
   },
   {
    "duration": 5,
    "start_time": "2023-02-07T20:20:22.501Z"
   },
   {
    "duration": 11,
    "start_time": "2023-02-07T20:20:22.508Z"
   },
   {
    "duration": 23,
    "start_time": "2023-02-07T20:20:22.523Z"
   },
   {
    "duration": 461,
    "start_time": "2023-02-07T20:20:22.549Z"
   },
   {
    "duration": 0,
    "start_time": "2023-02-07T20:20:23.012Z"
   },
   {
    "duration": 0,
    "start_time": "2023-02-07T20:20:23.013Z"
   },
   {
    "duration": 0,
    "start_time": "2023-02-07T20:20:23.014Z"
   },
   {
    "duration": 627,
    "start_time": "2023-02-07T20:33:14.458Z"
   },
   {
    "duration": 16,
    "start_time": "2023-02-07T20:33:15.091Z"
   },
   {
    "duration": 52,
    "start_time": "2023-02-07T20:33:15.110Z"
   },
   {
    "duration": 23,
    "start_time": "2023-02-07T20:33:15.165Z"
   },
   {
    "duration": 5,
    "start_time": "2023-02-07T20:33:15.192Z"
   },
   {
    "duration": 4,
    "start_time": "2023-02-07T20:33:15.200Z"
   },
   {
    "duration": 7,
    "start_time": "2023-02-07T20:33:15.206Z"
   },
   {
    "duration": 7,
    "start_time": "2023-02-07T20:33:15.215Z"
   },
   {
    "duration": 13,
    "start_time": "2023-02-07T20:33:15.224Z"
   },
   {
    "duration": 7,
    "start_time": "2023-02-07T20:33:15.240Z"
   },
   {
    "duration": 7,
    "start_time": "2023-02-07T20:33:15.249Z"
   },
   {
    "duration": 6,
    "start_time": "2023-02-07T20:33:15.257Z"
   },
   {
    "duration": 7,
    "start_time": "2023-02-07T20:33:15.265Z"
   },
   {
    "duration": 488,
    "start_time": "2023-02-07T20:33:15.275Z"
   },
   {
    "duration": 0,
    "start_time": "2023-02-07T20:33:15.766Z"
   },
   {
    "duration": 0,
    "start_time": "2023-02-07T20:33:15.767Z"
   },
   {
    "duration": 0,
    "start_time": "2023-02-07T20:33:15.769Z"
   },
   {
    "duration": 7,
    "start_time": "2023-02-08T11:03:48.801Z"
   },
   {
    "duration": 44,
    "start_time": "2023-02-08T11:03:51.126Z"
   },
   {
    "duration": 481,
    "start_time": "2023-02-08T11:03:55.899Z"
   },
   {
    "duration": 25,
    "start_time": "2023-02-08T11:03:56.383Z"
   },
   {
    "duration": 4,
    "start_time": "2023-02-08T11:03:56.410Z"
   },
   {
    "duration": 496,
    "start_time": "2023-02-08T11:03:56.417Z"
   },
   {
    "duration": 0,
    "start_time": "2023-02-08T11:03:56.914Z"
   },
   {
    "duration": 0,
    "start_time": "2023-02-08T11:03:56.915Z"
   },
   {
    "duration": 0,
    "start_time": "2023-02-08T11:03:56.917Z"
   },
   {
    "duration": 3,
    "start_time": "2023-02-08T11:04:32.870Z"
   },
   {
    "duration": 376,
    "start_time": "2023-02-08T11:04:34.568Z"
   },
   {
    "duration": 540,
    "start_time": "2023-02-08T11:10:34.021Z"
   },
   {
    "duration": 10,
    "start_time": "2023-02-08T11:10:34.563Z"
   },
   {
    "duration": 3,
    "start_time": "2023-02-08T11:10:34.574Z"
   },
   {
    "duration": 483,
    "start_time": "2023-02-08T11:10:34.578Z"
   },
   {
    "duration": 0,
    "start_time": "2023-02-08T11:10:35.064Z"
   },
   {
    "duration": 0,
    "start_time": "2023-02-08T11:10:35.065Z"
   },
   {
    "duration": 2,
    "start_time": "2023-02-08T11:13:55.074Z"
   },
   {
    "duration": 533,
    "start_time": "2023-02-08T11:13:56.473Z"
   },
   {
    "duration": 2,
    "start_time": "2023-02-08T11:14:17.815Z"
   },
   {
    "duration": 534,
    "start_time": "2023-02-08T11:14:19.480Z"
   },
   {
    "duration": 2,
    "start_time": "2023-02-08T11:14:32.952Z"
   },
   {
    "duration": 564,
    "start_time": "2023-02-08T11:14:34.776Z"
   },
   {
    "duration": 482,
    "start_time": "2023-02-08T11:15:03.564Z"
   },
   {
    "duration": 8,
    "start_time": "2023-02-08T11:15:04.047Z"
   },
   {
    "duration": 11,
    "start_time": "2023-02-08T11:15:04.057Z"
   },
   {
    "duration": 758,
    "start_time": "2023-02-08T11:15:04.070Z"
   },
   {
    "duration": 0,
    "start_time": "2023-02-08T11:15:04.830Z"
   },
   {
    "duration": 0,
    "start_time": "2023-02-08T11:15:04.832Z"
   },
   {
    "duration": 3,
    "start_time": "2023-02-08T11:18:35.540Z"
   },
   {
    "duration": 361,
    "start_time": "2023-02-08T11:18:37.412Z"
   },
   {
    "duration": 529,
    "start_time": "2023-02-08T11:19:33.642Z"
   },
   {
    "duration": 9,
    "start_time": "2023-02-08T11:19:34.173Z"
   },
   {
    "duration": 8,
    "start_time": "2023-02-08T11:19:34.184Z"
   },
   {
    "duration": 447,
    "start_time": "2023-02-08T11:19:34.193Z"
   },
   {
    "duration": 0,
    "start_time": "2023-02-08T11:19:34.643Z"
   },
   {
    "duration": 0,
    "start_time": "2023-02-08T11:19:34.644Z"
   },
   {
    "duration": 608,
    "start_time": "2023-02-08T11:27:51.324Z"
   },
   {
    "duration": 18,
    "start_time": "2023-02-08T11:27:51.934Z"
   },
   {
    "duration": 21,
    "start_time": "2023-02-08T11:27:51.953Z"
   },
   {
    "duration": 470,
    "start_time": "2023-02-08T11:27:51.976Z"
   },
   {
    "duration": 0,
    "start_time": "2023-02-08T11:27:52.448Z"
   },
   {
    "duration": 603,
    "start_time": "2023-02-08T13:04:53.320Z"
   },
   {
    "duration": 36,
    "start_time": "2023-02-08T13:04:53.925Z"
   },
   {
    "duration": 3,
    "start_time": "2023-02-08T13:04:53.962Z"
   },
   {
    "duration": 675,
    "start_time": "2023-02-08T13:04:53.967Z"
   },
   {
    "duration": 0,
    "start_time": "2023-02-08T13:04:54.645Z"
   },
   {
    "duration": 542,
    "start_time": "2023-02-08T13:07:59.055Z"
   },
   {
    "duration": 11,
    "start_time": "2023-02-08T13:07:59.599Z"
   },
   {
    "duration": 19,
    "start_time": "2023-02-08T13:07:59.612Z"
   },
   {
    "duration": 5641,
    "start_time": "2023-02-08T13:07:59.633Z"
   },
   {
    "duration": 4359,
    "start_time": "2023-02-08T13:08:05.276Z"
   },
   {
    "duration": 567,
    "start_time": "2023-02-08T20:15:17.677Z"
   },
   {
    "duration": 22,
    "start_time": "2023-02-08T20:15:18.246Z"
   },
   {
    "duration": 6,
    "start_time": "2023-02-08T20:15:18.270Z"
   },
   {
    "duration": 6793,
    "start_time": "2023-02-08T20:15:18.278Z"
   },
   {
    "duration": 6802,
    "start_time": "2023-02-08T20:15:25.073Z"
   },
   {
    "duration": 6907,
    "start_time": "2023-02-08T20:15:41.756Z"
   },
   {
    "duration": 571,
    "start_time": "2023-02-08T20:15:52.036Z"
   },
   {
    "duration": 16,
    "start_time": "2023-02-08T20:15:52.610Z"
   },
   {
    "duration": 20,
    "start_time": "2023-02-08T20:15:52.627Z"
   },
   {
    "duration": 6488,
    "start_time": "2023-02-08T20:15:52.648Z"
   },
   {
    "duration": 6520,
    "start_time": "2023-02-08T20:15:59.139Z"
   },
   {
    "duration": 563,
    "start_time": "2023-02-14T05:01:24.566Z"
   },
   {
    "duration": 11,
    "start_time": "2023-02-14T05:01:25.131Z"
   },
   {
    "duration": 24,
    "start_time": "2023-02-14T05:01:25.144Z"
   },
   {
    "duration": 5677,
    "start_time": "2023-02-14T05:01:25.170Z"
   },
   {
    "duration": 4745,
    "start_time": "2023-02-14T05:01:30.849Z"
   },
   {
    "duration": 524,
    "start_time": "2023-02-16T05:00:49.090Z"
   },
   {
    "duration": 10,
    "start_time": "2023-02-16T05:00:49.616Z"
   },
   {
    "duration": 3,
    "start_time": "2023-02-16T05:00:49.627Z"
   },
   {
    "duration": 5490,
    "start_time": "2023-02-16T05:00:49.631Z"
   },
   {
    "duration": 4436,
    "start_time": "2023-02-16T05:00:55.124Z"
   },
   {
    "duration": 265,
    "start_time": "2023-02-16T11:36:34.368Z"
   },
   {
    "duration": 96,
    "start_time": "2023-02-16T11:36:51.988Z"
   },
   {
    "duration": 384,
    "start_time": "2023-02-16T11:37:56.913Z"
   },
   {
    "duration": 92,
    "start_time": "2023-02-16T11:38:06.917Z"
   }
  ],
  "kernelspec": {
   "display_name": "Python 3 (ipykernel)",
   "language": "python",
   "name": "python3"
  },
  "language_info": {
   "codemirror_mode": {
    "name": "ipython",
    "version": 3
   },
   "file_extension": ".py",
   "mimetype": "text/x-python",
   "name": "python",
   "nbconvert_exporter": "python",
   "pygments_lexer": "ipython3",
   "version": "3.9.12"
  },
  "toc": {
   "base_numbering": 1,
   "nav_menu": {},
   "number_sections": true,
   "sideBar": true,
   "skip_h1_title": true,
   "title_cell": "Table of Contents",
   "title_sidebar": "Contents",
   "toc_cell": false,
   "toc_position": {},
   "toc_section_display": true,
   "toc_window_display": false
  }
 },
 "nbformat": 4,
 "nbformat_minor": 5
}
